{
 "cells": [
  {
   "cell_type": "markdown",
   "metadata": {},
   "source": [
    "# Servicios Web y APIs "
   ]
  },
  {
   "cell_type": "markdown",
   "metadata": {},
   "source": [
    "## Índice\n",
    "1. [API Air Quality](#air)\n",
    "2. [API de OpenWeather](#wea)"
   ]
  },
  {
   "cell_type": "markdown",
   "metadata": {},
   "source": [
    "En este Notebook vamos a llamar a diversas APIs. Antes de comenzar, es importante destacar dos conceptos:  \n",
    "\n",
    "1) **Codificación de URLs**: Toda cadena de cadena de caracteres que se introduzca en una URL tiene que codificarse adecuadamente. En Python, podemos utilizar la función `quote()` del paquete `urllib.parse`"
   ]
  },
  {
   "cell_type": "code",
   "execution_count": 1,
   "metadata": {},
   "outputs": [
    {
     "data": {
      "text/plain": [
       "'%20'"
      ]
     },
     "execution_count": 1,
     "metadata": {},
     "output_type": "execute_result"
    }
   ],
   "source": [
    "import urllib.parse\n",
    "urllib.parse.quote(' ')"
   ]
  },
  {
   "cell_type": "code",
   "execution_count": 2,
   "metadata": {},
   "outputs": [
    {
     "data": {
      "text/plain": [
       "'%C3%B1'"
      ]
     },
     "execution_count": 2,
     "metadata": {},
     "output_type": "execute_result"
    }
   ],
   "source": [
    "urllib.parse.quote('ñ')"
   ]
  },
  {
   "cell_type": "markdown",
   "metadata": {},
   "source": [
    "2) **Peticiones HTTP**: la librería `requests` es la más utilizada para realizar peticiones HTTP en Python, permitiendo utilizar los métodos más comunes de este protocolo (GET, POST, PUT, etc.). Para más información entra en este [enlace](https://realpython.com/python-requests/)\n",
    "\n",
    "También podemos utilizar la librería `urllib.request`"
   ]
  },
  {
   "cell_type": "markdown",
   "metadata": {},
   "source": [
    "<a id=\"air\"></a>\n",
    "## API Air Quality"
   ]
  },
  {
   "cell_type": "markdown",
   "metadata": {},
   "source": [
    "Esta API abierta proporciona información acerca de la calidad del aire en diversas ciudades. La documentación se encuentra en https://docs.openaq.org  \n",
    "\n",
    "En primer lugar vamos a llamar a la API **cities**, la cual nos informa de las ciudades disponibles"
   ]
  },
  {
   "cell_type": "code",
   "execution_count": 9,
   "metadata": {
    "scrolled": true
   },
   "outputs": [
    {
     "name": "stdin",
     "output_type": "stream",
     "text": [
      "Introduzca las siglas del país (ES para españa):  ES\n"
     ]
    },
    {
     "name": "stdout",
     "output_type": "stream",
     "text": [
      "A Coruña\n",
      "Albacete\n",
      "Alicante/Alacant\n",
      "Almería\n",
      "Araba/Álava\n",
      "Asturias\n",
      "Ávila\n",
      "Badajoz\n",
      "Barcelona\n",
      "Bizkaia\n",
      "Burgos\n",
      "Cáceres\n",
      "Cádiz\n",
      "Cantabria\n",
      "Carboneras\n",
      "Castellón/Castelló\n",
      "CCAA Catalu�a\n",
      "CCAA Com. Valenciana\n",
      "CCAA Galicia\n",
      "CCAA Pa�s Vasco\n",
      "Ciudad Real\n",
      "Córdoba\n",
      "Cuenca\n",
      "Gipuzkoa\n",
      "Girona\n",
      "Granada\n",
      "Guadalajara\n",
      "Huelva\n",
      "Huesca\n",
      "Illes Balears\n",
      "Jaén\n",
      "La Rioja\n",
      "Las Palmas\n",
      "León\n",
      "Lleida\n",
      "Lugo\n",
      "Madrid\n",
      "Malaga\n",
      "Málaga\n",
      "Marbella\n",
      "Murcia\n",
      "Navarra\n",
      "Niebla\n",
      "Ourense\n",
      "Palencia\n",
      "Pontevedra\n",
      "Salamanca\n",
      "Santa Cruz de Tenerife\n",
      "Segovia\n",
      "Sevilla\n"
     ]
    }
   ],
   "source": [
    "import urllib.request\n",
    "import json\n",
    "\n",
    "url1 = 'https://api.openaq.org/v1/cities'\n",
    "\n",
    "pais = input('Introduzca las siglas del país (ES para españa): ')\n",
    "\n",
    "url2 = url1 + '?country=' + pais # Si quisieramosponer más filtros se anidarían con &\n",
    "\n",
    "datos = urllib.request.urlopen(url2).read()\n",
    "\n",
    "js = json.loads(datos)\n",
    "\n",
    "for k in range(50):\n",
    "    city = js['results'][k]['name']\n",
    "    print(city)"
   ]
  },
  {
   "cell_type": "markdown",
   "metadata": {},
   "source": [
    "Esto mismo podemos realizarlo con la librería `requests`"
   ]
  },
  {
   "cell_type": "code",
   "execution_count": 14,
   "metadata": {
    "collapsed": true,
    "jupyter": {
     "outputs_hidden": true
    }
   },
   "outputs": [
    {
     "name": "stdin",
     "output_type": "stream",
     "text": [
      "Introduzca las siglas del país (ES para españa):  ES\n"
     ]
    },
    {
     "name": "stdout",
     "output_type": "stream",
     "text": [
      "A Coruña\n",
      "Albacete\n",
      "Alicante/Alacant\n",
      "Almería\n",
      "Araba/Álava\n",
      "Asturias\n",
      "Ávila\n",
      "Badajoz\n",
      "Barcelona\n",
      "Bizkaia\n",
      "Burgos\n",
      "Cáceres\n",
      "Cádiz\n",
      "Cantabria\n",
      "Carboneras\n",
      "Castellón/Castelló\n",
      "CCAA Catalu�a\n",
      "CCAA Com. Valenciana\n",
      "CCAA Galicia\n",
      "CCAA Pa�s Vasco\n",
      "Ciudad Real\n",
      "Córdoba\n",
      "Cuenca\n",
      "Gipuzkoa\n",
      "Girona\n",
      "Granada\n",
      "Guadalajara\n",
      "Huelva\n",
      "Huesca\n",
      "Illes Balears\n",
      "Jaén\n",
      "La Rioja\n",
      "Las Palmas\n",
      "León\n",
      "Lleida\n",
      "Lugo\n",
      "Madrid\n",
      "Malaga\n",
      "Málaga\n",
      "Marbella\n",
      "Murcia\n",
      "Navarra\n",
      "Niebla\n",
      "Ourense\n",
      "Palencia\n",
      "Pontevedra\n",
      "Salamanca\n",
      "Santa Cruz de Tenerife\n",
      "Segovia\n",
      "Sevilla\n"
     ]
    }
   ],
   "source": [
    "import requests\n",
    "\n",
    "url1 = 'https://api.openaq.org/v1/cities'\n",
    "\n",
    "pais = input('Introduzca las siglas del país (ES para españa): ')\n",
    "\n",
    "datos = requests.get(url1, params={'country':pais})\n",
    "\n",
    "js = datos.json()\n",
    "\n",
    "for k in range(50):\n",
    "    city = js['results'][k]['name']\n",
    "    print(city)"
   ]
  },
  {
   "cell_type": "markdown",
   "metadata": {},
   "source": [
    "A continuación, llamamos a la API **latest**, que devuelve los últimos registros de una ciudad o país en concreto"
   ]
  },
  {
   "cell_type": "code",
   "execution_count": 27,
   "metadata": {},
   "outputs": [
    {
     "name": "stdin",
     "output_type": "stream",
     "text": [
      "Introduzca el nombre deuna ciudad:  Madrid\n"
     ]
    },
    {
     "name": "stdout",
     "output_type": "stream",
     "text": [
      "https://api.openaq.org/v1/latest?city=Madrid&limit=1\n",
      "El valor de  no2  en  Madrid es de  20 µg/m³ . Medida fue tomada el  2021-03-22T17:00:00Z\n",
      "El valor de  o3  en  Madrid es de  72 µg/m³ . Medida fue tomada el  2021-03-22T17:00:00Z\n",
      "El valor de  pm10  en  Madrid es de  10 µg/m³ . Medida fue tomada el  2021-03-22T17:00:00Z\n",
      "El valor de  pm25  en  Madrid es de  4 µg/m³ . Medida fue tomada el  2021-03-22T17:00:00Z\n"
     ]
    }
   ],
   "source": [
    "url1 = 'https://api.openaq.org/v1/latest'\n",
    "\n",
    "ciudad = input('Introduzca el nombre deuna ciudad: ')\n",
    "\n",
    "\n",
    "url2 = url1 + '?city=' + urllib.parse.quote(ciudad) + '&limit=1'\n",
    "\n",
    "print(url2)\n",
    "\n",
    "data = urllib.request.urlopen(url2).read()\n",
    "\n",
    "js = json.loads(data)\n",
    "\n",
    "for r in range(len(js['results'][0]['measurements'])):\n",
    "    valor = js['results'][0]['measurements'][r]['value']\n",
    "    parametro = js['results'][0]['measurements'][r]['parameter']\n",
    "    unidades = js['results'][0]['measurements'][r]['unit']\n",
    "    fecha = js['results'][0]['measurements'][r]['lastUpdated']\n",
    "    \n",
    "    print ('El valor de ', parametro,' en ', ciudad, 'es de ', valor, unidades,\n",
    "           '. Medida fue tomada el ', fecha)"
   ]
  },
  {
   "cell_type": "markdown",
   "metadata": {},
   "source": [
    "Parseamos el JSON de respuesta para obtener todos los niveles disponibles y la fecha de las mediciones"
   ]
  },
  {
   "cell_type": "markdown",
   "metadata": {},
   "source": [
    "<a id=\"wea\"></a>\n",
    "## API de OpenWeather"
   ]
  },
  {
   "cell_type": "markdown",
   "metadata": {},
   "source": [
    "Esta API permite obtener información climática. Puedes encontrar la documentación en https://openweathermap.org/api.   \n",
    "Para obtener la API key hay que registrar un email válido, al cual será enviada la clave.  \n",
    "\n",
    "Vamos a obtener la predicción de velocidad del viento para una ciudad a través de [esta API](https://openweathermap.org/forecast5)"
   ]
  },
  {
   "cell_type": "code",
   "execution_count": 48,
   "metadata": {
    "scrolled": true
   },
   "outputs": [
    {
     "name": "stdout",
     "output_type": "stream",
     "text": [
      "https://api.openweathermap.org/data/2.5/forecast?q=Crevillente%2CES&appid=3886d5996f84c5b9a5c953b027fc2306\n"
     ]
    }
   ],
   "source": [
    "import urllib.request\n",
    "import urllib\n",
    "import json\n",
    "\n",
    "api_key = '3886d5996f84c5b9a5c953b027fc2306'\n",
    "\n",
    "#api_key = 'ad4906e30e39b8e5b1d68504ec70b547'\n",
    "\n",
    "ciudad = 'Crevillente,ES'\n",
    "\n",
    "url = 'https://api.openweathermap.org/data/2.5/forecast?q=' + urllib.parse.quote(ciudad) + '&appid=' + api_key \n",
    "print(url)\n",
    "\n",
    "data = urllib.request.urlopen(url).read()\n",
    "\n",
    "js = json.loads(data)\n",
    "\n",
    "ts = []\n",
    "speed = []\n",
    "\n",
    "for el in js['list']:\n",
    "    speed.append(el['wind']['speed'])\n",
    "    ts.append(el['dt_txt'])"
   ]
  },
  {
   "cell_type": "code",
   "execution_count": 46,
   "metadata": {},
   "outputs": [
    {
     "data": {
      "image/png": "[encoded data removed]",
      "text/plain": [
       "<Figure size 864x144 with 1 Axes>"
      ]
     },
     "metadata": {
      "needs_background": "light"
     },
     "output_type": "display_data"
    }
   ],
   "source": [
    "from datetime import datetime\n",
    "import matplotlib.pyplot as plt\n",
    "%matplotlib inline\n",
    " \n",
    "ts2 = [datetime.strptime(d,'%Y-%m-%d %H:%M:%S') for d in ts]\n",
    "fig = plt.figure(figsize=(12,2))\n",
    "plt.grid()\n",
    "\n",
    "plt.plot(ts2,speed,color='blue');"
   ]
  },
  {
   "cell_type": "code",
   "execution_count": 40,
   "metadata": {},
   "outputs": [
    {
     "data": {
      "image/png": "[encoded data removed]",
      "text/plain": [
       "<Figure size 864x144 with 1 Axes>"
      ]
     },
     "metadata": {
      "needs_background": "light"
     },
     "output_type": "display_data"
    }
   ],
   "source": [
    "from datetime import datetime\n",
    "import matplotlib.pyplot as plt\n",
    "%matplotlib inline\n",
    " \n",
    "ts2 = [datetime.strptime(d,'%Y-%m-%d %H:%M:%S') for d in ts]\n",
    "fig = plt.figure(figsize=(12,2))\n",
    "plt.grid()\n",
    "\n",
    "plt.plot(ts2,speed,color='blue');"
   ]
  },
  {
   "cell_type": "code",
   "execution_count": null,
   "metadata": {},
   "outputs": [],
   "source": []
  }
 ],
 "metadata": {
  "kernelspec": {
   "display_name": "Python 3",
   "language": "python",
   "name": "python3"
  },
  "language_info": {
   "codemirror_mode": {
    "name": "ipython",
    "version": 3
   },
   "file_extension": ".py",
   "mimetype": "text/x-python",
   "name": "python",
   "nbconvert_exporter": "python",
   "pygments_lexer": "ipython3",
   "version": "3.8.8"
  }
 },
 "nbformat": 4,
 "nbformat_minor": 4
}
