{
 "cells": [
  {
   "cell_type": "code",
   "execution_count": 33,
   "id": "described-appeal",
   "metadata": {},
   "outputs": [],
   "source": [
    "# Importamos librerías que necesitaremos\n",
    "import ftplib # Para la conexion con el servidor y descargar el archivo\n",
    "import xml.etree.ElementTree as et # Para trabajarel fichero .xml\n",
    "import pandas as pd\n",
    "import numpy as np"
   ]
  },
  {
   "cell_type": "markdown",
   "id": "comparable-trial",
   "metadata": {},
   "source": [
    "#### SE PIDE:\n",
    "##### A partir del fichero OptaF24.xml almacenado en un servidor FTP, que contiene los eventos de un partido concreto, crear un dataframe que contenga todos los pases de dicho partido. Este dataframe deberá contener los siguientes campos (columnas):\n",
    "\n",
    "##### 1) Descarga el archivo OptaF24.xml creando una conexión al servidor FTP\n",
    "- Servidor: f25-preview.runhosting.com\n",
    "- Usuario: 3185129_EOI\n",
    "- Contraseña: FTP_EOI1920\n"
   ]
  },
  {
   "cell_type": "code",
   "execution_count": 9,
   "id": "described-resource",
   "metadata": {},
   "outputs": [
    {
     "data": {
      "text/plain": [
       "'226 Transfer complete'"
      ]
     },
     "execution_count": 9,
     "metadata": {},
     "output_type": "execute_result"
    }
   ],
   "source": [
    "# Creamos la conexión con el servidor FTP\n",
    "ftp = ftplib.FTP('f25-preview.runhosting.com','3185129_EOI','FTP_EOI1920')\n",
    "# Descargamos el archivo OptaF24.xml \n",
    "filename = 'OptaF24.xml'\n",
    "ftp.retrbinary(\"RETR \" + filename, open(filename,'wb').write)"
   ]
  },
  {
   "cell_type": "markdown",
   "id": "pacific-likelihood",
   "metadata": {},
   "source": [
    "##### Antes de nada vamos inspeccionar el xml\n"
   ]
  },
  {
   "cell_type": "code",
   "execution_count": 10,
   "id": "extra-console",
   "metadata": {},
   "outputs": [
    {
     "name": "stdout",
     "output_type": "stream",
     "text": [
      "<?xml version=\"1.0\" encoding=\"UTF-8\"?>\n",
      "<!-- Copyright 2001-2012 Opta Sportsdata Ltd. All rights reserved. -->\n",
      "\n",
      "<!-- PRODUCTION HEADER\n",
      "produced on:        valde-jobq-a03.nexus.opta.net\n",
      "production time:    20120911T092033,103Z\n",
      "production module:  Opta::Feed::XML::Soccer::F24\n",
      "-->\n",
      "<Games timestamp=\"2012-09-11T10:20:32\">\n",
      "<Game id=\"360481\" away_team_id=\"43\" away_team_name=\"Manchester City\" competition_id=\"8\" competition_name=\"English Barclays Premier League\" game_date=\"2011-08-21T16:00:00\" home_team_id=\"30\" home_team_name=\"Bolton Wanderers\" matchday=\"2\" period_1_start=\"2011-08-21T16:00:38\" period_2_start=\"2011-08-21T17:03:47\" season_id=\"2011\" season_name=\"Season 2011/2012\">\n",
      "<Event id=\"301038339\" event_id=\"1\" type_id=\"34\" period_id=\"16\" min=\"0\" sec=\"0\" team_id=\"43\" outcome=\"1\" x=\"0.0\" y=\"0.0\" timestamp=\"2011-08-21T15:23:06.696\" last_modified=\"2011-08-21T15:54:56\">\n",
      "<Q id=\"2028397186\" qualifier_id=\"130\" value=\"4\" />\n",
      "<Q id=\"1518776786\" qualifier_id=\"227\" value=\"0, 0, 0, 0, 0, 0, 0, 0, 0, 0, 0, 0, 0, 0, 0, 0, 0, 0\" />\n",
      "<Q id=\"997025056\" qualifier_id=\"59\" value=\"25, 2, 13, 18, 4, 6, 42, 7, 10, 16, 21, 5, 11, 15, 20, 22, 32, 45\" />\n",
      "<Q id=\"955425655\" qualifier_id=\"194\" value=\"17476\" />\n",
      "<Q id=\"996147927\" qualifier_id=\"131\" value=\"1, 2, 3, 4, 5, 6, 7, 8, 9, 10, 11, 0, 0, 0, 0, 0, 0, 0\" />\n",
      "<Q id=\"1940069841\" qualifier_id=\"44\" value=\"1, 2, 2, 3, 2, 2, 3, 3, 4, 4, 3, 5, 5, 5, 5, 5, 5, 5\" />\n",
      "<Q id=\"1529687618\" qualifier_id=\"30\" value=\"15749, 20492, 42593, 1632, 17476, 7551, 14664, 15157, 42544, 37572, 20664, 20658, 19959, 65807, 56827, 17336, 20312, 42493\" />\n",
      "</Event>\n",
      "<Event id=\"1475524684\" event_id=\"1\" type_id=\"34\" period_id=\"16\" min=\"0\" sec=\"0\" team_id=\"30\" outcome=\"1\" x=\"0.0\" y=\"0.0\" timestamp=\"2011-08-21T15:39:39.166\" last_modified=\"2011-08-21T16:06:40\">\n"
     ]
    }
   ],
   "source": [
    "# Veamos las primeras 20 lineas\n",
    "with open('./OptaF24.xml') as f:\n",
    "    for x in range(20):\n",
    "        print(f.readline().strip())"
   ]
  },
  {
   "cell_type": "code",
   "execution_count": 11,
   "id": "complex-interface",
   "metadata": {},
   "outputs": [
    {
     "name": "stdout",
     "output_type": "stream",
     "text": [
      "Raiz:  Games\n"
     ]
    }
   ],
   "source": [
    "tree = et.parse('./OptaF24.xml')\n",
    "raiz = tree.getroot()\n",
    "print ('Raiz: ', raiz.tag)"
   ]
  },
  {
   "cell_type": "code",
   "execution_count": 12,
   "id": "breathing-james",
   "metadata": {
    "tags": []
   },
   "outputs": [
    {
     "name": "stdout",
     "output_type": "stream",
     "text": [
      "Event aparece: 1673\n",
      "Game aparece: 1\n",
      "Games aparece: 1\n",
      "Q aparece: 6601\n"
     ]
    }
   ],
   "source": [
    "# Para conocer todos los elementos únicos del árbol y cuántos hay de cada uno deellos\n",
    "elementos = np.array([])\n",
    "for elem in raiz.iter():\n",
    "    elementos = np.append(elementos, elem.tag)\n",
    "\n",
    "for elem in np.unique(elementos):\n",
    "      print (elem, 'aparece:', np.count_nonzero(elementos==elem))"
   ]
  },
  {
   "cell_type": "markdown",
   "id": "periodic-warrior",
   "metadata": {},
   "source": [
    "Por tanto, solo tenemos un único partido, con 1.673 eventos y dentro de estos eventos tenemos en total 6.601 cualificadores"
   ]
  },
  {
   "cell_type": "markdown",
   "id": "industrial-summit",
   "metadata": {},
   "source": [
    "##### 2) Crea una lista inicialmente vacía para cada una de las columnas del dataframe"
   ]
  },
  {
   "cell_type": "code",
   "execution_count": 27,
   "id": "mexican-proposal",
   "metadata": {},
   "outputs": [],
   "source": [
    "# Creamos las listas vacias que tendrán el contenido de cada columna del dataframe\n",
    "team = []\n",
    "half = []\n",
    "minute = []\n",
    "second = []\n",
    "x_origin = []\n",
    "y_origin = []\n",
    "x_destination = []\n",
    "y_destination = []\n",
    "outcome = []"
   ]
  },
  {
   "cell_type": "markdown",
   "id": "hollow-alfred",
   "metadata": {},
   "source": [
    "##### 4) Itera cada evento y filtra aquellos que correspondan a pases (atributo type_id=\"1\"), añadiendo a cada lista del paso anterior los atributos correspondientes de cada evento. Para obtener el valor de un atributo puedes utilizar la función attrib.get()\n"
   ]
  },
  {
   "cell_type": "code",
   "execution_count": 28,
   "id": "cheap-nudist",
   "metadata": {
    "tags": []
   },
   "outputs": [],
   "source": [
    "# Creamos una variable que nos ayude a saber si el evento anterior fue un pase\n",
    "# Para que cuando entremos solo en las Q que realmente vienen precedidas de un pase\n",
    "# Esto se hace tras ver que hay 956 Q con qualifier_id == 140|141, mientras que hay\n",
    "# 946 pases (type_id == '1')\n",
    "val = 0\n",
    "for elem in raiz.iter():\n",
    "    if (elem.tag == 'Event') & (elem.attrib.get('type_id') == '1'):\n",
    "        val = 1 \n",
    "        # Añadimos el equipo dependiendo del team_id\n",
    "        if elem.attrib.get('team_id')=='43':\n",
    "            team.append('Manchester City')\n",
    "        elif elem.attrib.get('team_id')=='30':\n",
    "            team.append('Bolton Wanderers')\n",
    "        # Añadimos el resto de valores a las listas\n",
    "        half.append(elem.attrib.get('period_id'))\n",
    "        minute.append(elem.attrib.get('min'))\n",
    "        second.append(elem.attrib.get('sec'))\n",
    "        x_origin.append(elem.attrib.get('x'))\n",
    "        y_origin.append(elem.attrib.get('y'))\n",
    "        outcome.append(elem.attrib.get('outcome'))\n",
    "    \n",
    "    elif (val == 1) & (elem.tag == 'Q') & (elem.attrib.get('qualifier_id') == '140'):    \n",
    "        x_destination.append(elem.attrib.get('value'))\n",
    "    elif (val == 1) & (elem.tag == 'Q') & (elem.attrib.get('qualifier_id') == '141'):    \n",
    "        y_destination.append(elem.attrib.get('value'))\n",
    "        \n",
    "    elif (val == 1) & (elem.tag == 'Q'):\n",
    "        val = 1\n",
    "    \n",
    "    else:\n",
    "        val = 0"
   ]
  },
  {
   "cell_type": "markdown",
   "id": "alternative-merchant",
   "metadata": {},
   "source": [
    "Nota: Cuando hice esta tarea pensé que me había complicado mucho al hacer el bucle y decidí volver a repasar este ejercicio antes de subir la tarea. Creo que efectivamente me compliqué y a continuación lo hago de una forma algo más fácil."
   ]
  },
  {
   "cell_type": "code",
   "execution_count": 31,
   "id": "magnetic-waters",
   "metadata": {},
   "outputs": [],
   "source": [
    "# Volvemos a crear las listas\n",
    "team = []\n",
    "half = []\n",
    "minute = []\n",
    "second = []\n",
    "x_origin = []\n",
    "y_origin = []\n",
    "x_destination = []\n",
    "y_destination = []\n",
    "outcome = []\n",
    "\n",
    "\n",
    "for elem in raiz.iter():\n",
    "    if elem.attrib.get('type_id')=='1':\n",
    "        equipo = elem.attrib.get('team_id')\n",
    "        if equipo == '43':\n",
    "            team.append('Manchester City')\n",
    "        elif equipo == '30':\n",
    "            team.append('Bolton Wanderers')\n",
    "        half.append(elem.attrib.get('period_id'))\n",
    "        minute.append(elem.attrib.get('min'))\n",
    "        second.append(elem.attrib.get('sec'))\n",
    "        x_origin.append(elem.attrib.get('x'))\n",
    "        y_origin.append(elem.attrib.get('y'))\n",
    "        outcome.append(elem.attrib.get('outcome'))\n",
    "        for q in elem:\n",
    "            if q.attrib.get('qualifier_id') == '140':\n",
    "                x_destination.append(q.attrib.get('value'))\n",
    "            elif q.attrib.get('qualifier_id') == '141':\n",
    "                y_destination.append(q.attrib.get('value'))"
   ]
  },
  {
   "cell_type": "code",
   "execution_count": 32,
   "id": "alien-opinion",
   "metadata": {},
   "outputs": [
    {
     "data": {
      "text/html": [
       "<div>\n",
       "<style scoped>\n",
       "    .dataframe tbody tr th:only-of-type {\n",
       "        vertical-align: middle;\n",
       "    }\n",
       "\n",
       "    .dataframe tbody tr th {\n",
       "        vertical-align: top;\n",
       "    }\n",
       "\n",
       "    .dataframe thead th {\n",
       "        text-align: right;\n",
       "    }\n",
       "</style>\n",
       "<table border=\"1\" class=\"dataframe\">\n",
       "  <thead>\n",
       "    <tr style=\"text-align: right;\">\n",
       "      <th></th>\n",
       "      <th>team</th>\n",
       "      <th>half</th>\n",
       "      <th>minute</th>\n",
       "      <th>second</th>\n",
       "      <th>x_origin</th>\n",
       "      <th>y_origin</th>\n",
       "      <th>x_destination</th>\n",
       "      <th>y_destination</th>\n",
       "      <th>outcome</th>\n",
       "    </tr>\n",
       "  </thead>\n",
       "  <tbody>\n",
       "    <tr>\n",
       "      <th>0</th>\n",
       "      <td>Manchester City</td>\n",
       "      <td>1</td>\n",
       "      <td>0</td>\n",
       "      <td>1</td>\n",
       "      <td>50.1</td>\n",
       "      <td>50.0</td>\n",
       "      <td>52.4</td>\n",
       "      <td>49.1</td>\n",
       "      <td>1</td>\n",
       "    </tr>\n",
       "    <tr>\n",
       "      <th>1</th>\n",
       "      <td>Manchester City</td>\n",
       "      <td>1</td>\n",
       "      <td>0</td>\n",
       "      <td>2</td>\n",
       "      <td>48.2</td>\n",
       "      <td>49.1</td>\n",
       "      <td>29.0</td>\n",
       "      <td>76.5</td>\n",
       "      <td>1</td>\n",
       "    </tr>\n",
       "    <tr>\n",
       "      <th>2</th>\n",
       "      <td>Manchester City</td>\n",
       "      <td>1</td>\n",
       "      <td>0</td>\n",
       "      <td>19</td>\n",
       "      <td>27.8</td>\n",
       "      <td>100.0</td>\n",
       "      <td>49.3</td>\n",
       "      <td>93.4</td>\n",
       "      <td>0</td>\n",
       "    </tr>\n",
       "    <tr>\n",
       "      <th>3</th>\n",
       "      <td>Bolton Wanderers</td>\n",
       "      <td>1</td>\n",
       "      <td>0</td>\n",
       "      <td>23</td>\n",
       "      <td>50.9</td>\n",
       "      <td>20.0</td>\n",
       "      <td>63.6</td>\n",
       "      <td>30.1</td>\n",
       "      <td>1</td>\n",
       "    </tr>\n",
       "    <tr>\n",
       "      <th>4</th>\n",
       "      <td>Manchester City</td>\n",
       "      <td>1</td>\n",
       "      <td>0</td>\n",
       "      <td>30</td>\n",
       "      <td>29.3</td>\n",
       "      <td>73.0</td>\n",
       "      <td>30.2</td>\n",
       "      <td>55.6</td>\n",
       "      <td>1</td>\n",
       "    </tr>\n",
       "  </tbody>\n",
       "</table>\n",
       "</div>"
      ],
      "text/plain": [
       "               team half minute second x_origin y_origin x_destination  \\\n",
       "0   Manchester City    1      0      1     50.1     50.0          52.4   \n",
       "1   Manchester City    1      0      2     48.2     49.1          29.0   \n",
       "2   Manchester City    1      0     19     27.8    100.0          49.3   \n",
       "3  Bolton Wanderers    1      0     23     50.9     20.0          63.6   \n",
       "4   Manchester City    1      0     30     29.3     73.0          30.2   \n",
       "\n",
       "  y_destination outcome  \n",
       "0          49.1       1  \n",
       "1          76.5       1  \n",
       "2          93.4       0  \n",
       "3          30.1       1  \n",
       "4          55.6       1  "
      ]
     },
     "execution_count": 32,
     "metadata": {},
     "output_type": "execute_result"
    }
   ],
   "source": [
    "# Creamos el dataframe introduciendo las listas en un diccionario\n",
    "data = {'team': team,\n",
    "        'half': half,\n",
    "        'minute': minute,\n",
    "        'second': second,\n",
    "        'x_origin': x_origin,\n",
    "        'y_origin': y_origin,\n",
    "        'x_destination': x_destination,\n",
    "        'y_destination': y_destination,\n",
    "        'outcome': outcome}\n",
    "\n",
    "df = pd.DataFrame(data, columns=data.keys())\n",
    "df.head()"
   ]
  },
  {
   "cell_type": "markdown",
   "id": "interim-december",
   "metadata": {},
   "source": [
    "#### OPCIONAL: \n",
    "##### Obtén los pases de más de 20 metros de avance en la coordenada x. ¿Qué equipo ha efectuado más veces estos pases?\n",
    "\n",
    "- Consideraciones del alumno:\n",
    "    - El campo del Bolton Wanderers mide 100.6 metros de largo\n",
    "    - Solo se consideran pases éxitosos\n",
    "    - Solo se consideran pases que vayan en direccion del ataque (avance)"
   ]
  },
  {
   "cell_type": "code",
   "execution_count": 35,
   "id": "determined-reply",
   "metadata": {},
   "outputs": [],
   "source": [
    "# Primero hacemos la resta entre la coordenada de destino y la de origen\n",
    "# Si el resultado es positivo será un avance\n",
    "df['dif_x'] = df['x_destination'].astype(float) - df['x_origin'].astype(float)\n",
    "# Lo pasamos a metros\n",
    "df['dif_x_meters'] = df['dif_x']*100.6/100 "
   ]
  },
  {
   "cell_type": "code",
   "execution_count": 36,
   "id": "union-threat",
   "metadata": {},
   "outputs": [
    {
     "name": "stdout",
     "output_type": "stream",
     "text": [
      "El  Bolton Wanderers  hizo  36  pases de más de 20 metros\n",
      "El  Manchester City  hizo  32  pases de más de 20 metros\n"
     ]
    }
   ],
   "source": [
    "# Realizamos el calculo con las condiciones indicadas\n",
    "temp = df.loc[(df.dif_x_meters>20) & (df.outcome=='1')]\n",
    "\n",
    "temp = temp[['team','outcome']].groupby('team', as_index=False).count().sort_values('outcome', ascending=False)\n",
    "\n",
    "print ('El ', temp.team.values[0], ' hizo ',  temp.outcome.values[0], ' pases de más de 20 metros')\n",
    "print ('El ', temp.team.values[1], ' hizo ',  temp.outcome.values[1], ' pases de más de 20 metros')"
   ]
  }
 ],
 "metadata": {
  "kernelspec": {
   "display_name": "Python 3",
   "language": "python",
   "name": "python3"
  },
  "language_info": {
   "codemirror_mode": {
    "name": "ipython",
    "version": 3
   },
   "file_extension": ".py",
   "mimetype": "text/x-python",
   "name": "python",
   "nbconvert_exporter": "python",
   "pygments_lexer": "ipython3",
   "version": "3.8.8"
  }
 },
 "nbformat": 4,
 "nbformat_minor": 5
}
