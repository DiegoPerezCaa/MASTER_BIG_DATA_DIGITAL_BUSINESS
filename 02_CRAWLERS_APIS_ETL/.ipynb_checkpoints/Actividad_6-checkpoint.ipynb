{
 "cells": [
  {
   "cell_type": "markdown",
   "id": "catholic-triumph",
   "metadata": {},
   "source": [
    "## Conexión a la API Cellphonedataset\n",
    "\n",
    "La idea inicial del proyecto era hacer un pequeño recomendador de smartphones en base a una serie de sencillas preguntas. Para ello se ha investigado diferentes APIs, llegando a la conclusión de que no existen, o son muy difíciles de encontrar APIs que contengan bases de datos de Smartphone de forma actualizada y gratuita.\n",
    "\n",
    "No obstante, se encontraron dos APIs que podrían ser útiles para obtener información relevante de smartphones:\n",
    "- **Cellphonedataset:** Se trata de una API de fácil consulta con la desventaja de no actualizarse desde 2017 y no tener unos campos de fácil manejo.\n",
    "- **PhoneDB:** Está API en la teoría parece muy potente y completa. Pero en la práctica ha sido muy difícil conectarse, consiguiendo solo que la conexión funcionara en un mock server, de donde solo se extraía el primer dispositivo. Tras ponerme en contacto con la empresa que lleva esta API, he llegado a la conclusión de que para poder acceder a la base de datos completas es necesario pasar por caja.\n",
    "\n",
    "Por estos motivos se ha elegido la API Cellphonedataset, ya que su conexión es sencilla y la complejidad de sus campos abre la puerta a hacer un ejercicio de limpieza sobre los mismos, donde poder aplicar los conocimientos adquiridos. Es decir, usaremos esta API para descargar toda su base de datos, seleccionando los campos que más nos interesen y trabajaremos sobre algunos campos para conseguir extraer información útil de esta base de datos.\n",
    "También se valoró hacer web scrapping de páginas web como https://phonedb.net/ , https://www.gsmarena.com/search.php3? , https://phonesdata.com/es/ . Decidiendo finalmente hacer uso de la API comentada.\n"
   ]
  },
  {
   "cell_type": "markdown",
   "id": "authorized-dylan",
   "metadata": {},
   "source": [
    "## Índice\n",
    "1. [Librerías](#librerias)\n",
    "2. [Conexión](#Conexion)\n",
    "3. [Creación dataframe](#dataframe)\n",
    "4. [¿Cuántos dispositivos salieron al mercado por año?](#q1)\n",
    "5. [¿Cuál fue la marca que más dispositivos saco al mercado en 2010?](#q2)\n",
    "6. [Top 5 marcas por número de dispositivos](#q3)\n",
    "7. [¿Dispositivo con más RAM?](#q4)"
   ]
  },
  {
   "cell_type": "markdown",
   "id": "understanding-porter",
   "metadata": {},
   "source": [
    "<a id=\"librerias\"></a>\n",
    "### Librerías"
   ]
  },
  {
   "cell_type": "code",
   "execution_count": 1,
   "id": "grand-personality",
   "metadata": {},
   "outputs": [
    {
     "data": {
      "text/html": [
       "        <script type=\"text/javascript\">\n",
       "        window.PlotlyConfig = {MathJaxConfig: 'local'};\n",
       "        if (window.MathJax) {MathJax.Hub.Config({SVG: {font: \"STIX-Web\"}});}\n",
       "        if (typeof require !== 'undefined') {\n",
       "        require.undef(\"plotly\");\n",
       "        requirejs.config({\n",
       "            paths: {\n",
       "                'plotly': ['https://cdn.plot.ly/plotly-latest.min']\n",
       "            }\n",
       "        });\n",
       "        require(['plotly'], function(Plotly) {\n",
       "            window._Plotly = Plotly;\n",
       "        });\n",
       "        }\n",
       "        </script>\n",
       "        "
      ]
     },
     "metadata": {},
     "output_type": "display_data"
    }
   ],
   "source": [
    "# Librerías a importar\n",
    "import json\n",
    "import urllib\n",
    "import requests\n",
    "import pandas as pd\n",
    "import numpy as np\n",
    "import plotly\n",
    "import plotly.express as px\n",
    "import re\n",
    "plotly.offline.init_notebook_mode(connected=True)\n",
    "plotly.offline.iplot\n",
    "# Sentencias de pandas para mostrar un mayor número de filas y columnas\n",
    "pd.set_option('display.max_rows', 1000)\n",
    "pd.set_option('display.max_columns', 1000)"
   ]
  },
  {
   "cell_type": "markdown",
   "id": "timely-crowd",
   "metadata": {},
   "source": [
    "<a id=\"conexion\"></a>\n",
    "### Conexión a **Cellphonedataset**"
   ]
  },
  {
   "cell_type": "code",
   "execution_count": 2,
   "id": "fancy-profile",
   "metadata": {},
   "outputs": [
    {
     "data": {
      "text/plain": [
       "[{'objectId': 'pGAENEHVp2',\n",
       "  'Model': '_3',\n",
       "  'Brand': 'Nokia',\n",
       "  'Network': 'GSM / HSPA / LTE',\n",
       "  'TwoG': 'GSM 850 / 900 / 1800 / 1900 - SIM 1 & SIM 2 (dual-SIM model only)',\n",
       "  'ThreeG': 'HSDPA 850 / 900 / 1900 / 2100',\n",
       "  'FourG': 'LTE band 1(2100)| 3(1800)| 5(850)| 7(2600)| 8(900)| 20(800)| 28(700)| 38(2600)| 40(2300)',\n",
       "  'Network_Speed': 'HSPA 42.2/5.76 Mbps  LTE Cat4 150/50 Mbps',\n",
       "  'GPRS': 'Yes',\n",
       "  'EDGE': 'Yes',\n",
       "  'Announced': '2017  February',\n",
       "  'Status': 'Available. Released 2017  June',\n",
       "  'Dimensions': '143.4 x 71.4 x 8.5 mm (5.65 x 2.81 x 0.33 in)',\n",
       "  'field13': '_',\n",
       "  'SIM': 'Single SIM or Dual SIM',\n",
       "  'Display_type': 'IPS LCD capacitive touchscreen  16M colors',\n",
       "  'Display_resolution': '5.0 inches (~67.3% screen-to-body ratio)',\n",
       "  'Display_size': '720 x 1280 pixels (~294 ppi pixel density)',\n",
       "  'Operating_System': 'Android 7.0 (Nougat)',\n",
       "  'CPU': 'Quad-core 1.4 GHz Cortex-A53',\n",
       "  'Chipset': 'Mediatek MT6737',\n",
       "  'GPU': 'Mali-T720MP1',\n",
       "  'Memory_card': 'microSD  up to 256 GB',\n",
       "  'Internal_memory': '16 GB',\n",
       "  'RAM': '2 GB RAM',\n",
       "  'Primary_camera': '8 MP| f/2.0| autofocus| LED flash|',\n",
       "  'Secondary_camera': '8 MP| f/2.0| autofocus| 720p',\n",
       "  'Loud_speaker': 'Yes',\n",
       "  'Audio_jack': 'Yes',\n",
       "  'WLAN': 'Wi-Fi 802.11 b/g/n| dual-band| WiFi Direct| hotspot',\n",
       "  'Bluetooth': '4.0| A2DP| LE',\n",
       "  'GPS': 'Yes with A-GPS',\n",
       "  'NFC': 'Yes',\n",
       "  'Radio': 'FM radio with RDS',\n",
       "  'USB': 'microUSB 2.0| USB On-The-Go',\n",
       "  'Sensors': 'Accelerometer| gyro| proximity| compass',\n",
       "  'Battery': 'Non-removable Li-Ion 2630 mAh battery',\n",
       "  'Colors': 'Silver White| Matte Black| Tempered Blue| Copper White',\n",
       "  'createdAt': '2020-01-30T14:36:33.639Z',\n",
       "  'updatedAt': '2020-01-30T14:36:33.639Z',\n",
       "  'Cell_Phone_Brands': {'__type': 'Relation',\n",
       "   'className': 'Cellphonedataset_Dataset_Cell_Phones_Model_Brand'},\n",
       "  'Cell_Phone_Models': {'__type': 'Relation',\n",
       "   'className': 'Cellphonedataset_Dataset_Cell_Phones_Model_Brand'}},\n",
       " {'objectId': 'tzhPycsk7Z',\n",
       "  'Model': '_160',\n",
       "  'Brand': 'Philips',\n",
       "  'Network': 'GSM',\n",
       "  'TwoG': 'GSM 900 / 1800',\n",
       "  'EDGE': 'No',\n",
       "  'Announced': '2005  September',\n",
       "  'Status': 'Discontinued',\n",
       "  'Dimensions': '103 x 47.5 x 18.7 mm| 89 cc (4.06 x 1.87 x 0.74 in)',\n",
       "  'field13': '_',\n",
       "  'SIM': 'Mini-SIM',\n",
       "  'Display_type': 'STN  monochrome graphics',\n",
       "  'Display_size': '101 x 80 pixels| 5 lines',\n",
       "  'Memory_card': 'No',\n",
       "  'Internal_memory': '4 MB',\n",
       "  'Loud_speaker': 'No',\n",
       "  'Audio_jack': 'No',\n",
       "  'WLAN': 'No',\n",
       "  'Bluetooth': 'No',\n",
       "  'GPS': 'No',\n",
       "  'Radio': 'No',\n",
       "  'Battery': 'Removable Li-Ion 720 mAh battery',\n",
       "  'Colors': '2 - Smooth Blue| Soft Grey',\n",
       "  'createdAt': '2020-01-30T14:36:33.639Z',\n",
       "  'updatedAt': '2020-01-30T14:36:33.639Z',\n",
       "  'Cell_Phone_Brands': {'__type': 'Relation',\n",
       "   'className': 'Cellphonedataset_Dataset_Cell_Phones_Model_Brand'},\n",
       "  'Cell_Phone_Models': {'__type': 'Relation',\n",
       "   'className': 'Cellphonedataset_Dataset_Cell_Phones_Model_Brand'}}]"
      ]
     },
     "execution_count": 2,
     "metadata": {},
     "output_type": "execute_result"
    }
   ],
   "source": [
    "# Url de la API incluendo un limite elevado para decargarla por completo (por defecto el limite es 100)\n",
    "\n",
    "limite = '?limit=10000' #la base de datos contiene 8.634 dispositivos\n",
    "url = 'https://parseapi.back4app.com/classes/Cellphonedataset_Dataset_Cell_Phones_Model_Brand' + limite\n",
    "headers = {\n",
    "    'X-Parse-Application-Id': 'E9vFqvnlEr60GAHXEGArs4T2PIlQTTCS5wOvwVmX', # This is your app's application id\n",
    "    'X-Parse-REST-API-Key': 'cFUjWpU2ePiHiVQ3XYEXftjCR9S2RTaTJvPgyP2M' # This is your app's REST API key\n",
    "          }\n",
    "r = requests.get(url, headers=headers) # Here you have the data that you need\n",
    "js = json.loads(r.text)\n",
    "\n",
    "\n",
    "# Observamos los datos que nos ofrece\n",
    "js['results'][:2]"
   ]
  },
  {
   "cell_type": "markdown",
   "id": "ethical-cambodia",
   "metadata": {},
   "source": [
    "Vemos que cada dispositivo trae un número de items diferente. Vamos a tratar de ver el listado completo de items distintos para ver cuales nos interesan."
   ]
  },
  {
   "cell_type": "code",
   "execution_count": 3,
   "id": "powered-narrow",
   "metadata": {},
   "outputs": [
    {
     "data": {
      "text/plain": [
       "{'Announced',\n",
       " 'Audio_jack',\n",
       " 'Battery',\n",
       " 'Bluetooth',\n",
       " 'Brand',\n",
       " 'CPU',\n",
       " 'Cell_Phone_Brands',\n",
       " 'Cell_Phone_Models',\n",
       " 'Chipset',\n",
       " 'Colors',\n",
       " 'Dimensions',\n",
       " 'Display_resolution',\n",
       " 'Display_size',\n",
       " 'Display_type',\n",
       " 'EDGE',\n",
       " 'FourG',\n",
       " 'GPRS',\n",
       " 'GPS',\n",
       " 'GPU',\n",
       " 'Internal_memory',\n",
       " 'Loud_speaker',\n",
       " 'Memory_card',\n",
       " 'Model',\n",
       " 'NFC',\n",
       " 'Network',\n",
       " 'Network_Speed',\n",
       " 'Operating_System',\n",
       " 'Primary_camera',\n",
       " 'RAM',\n",
       " 'Radio',\n",
       " 'SIM',\n",
       " 'Secondary_camera',\n",
       " 'Sensors',\n",
       " 'Status',\n",
       " 'ThreeG',\n",
       " 'TwoG',\n",
       " 'USB',\n",
       " 'WLAN',\n",
       " 'createdAt',\n",
       " 'field13',\n",
       " 'field38',\n",
       " 'objectId',\n",
       " 'updatedAt'}"
      ]
     },
     "execution_count": 3,
     "metadata": {},
     "output_type": "execute_result"
    }
   ],
   "source": [
    "all_keys = set().union(*(d.keys() for d in js['results']))\n",
    "all_keys"
   ]
  },
  {
   "cell_type": "markdown",
   "id": "united-membership",
   "metadata": {},
   "source": [
    "<a id=\"dataframe\"></a>\n",
    "### Creación dataframe\n",
    "Una vez identificados los campos que nos interesan, procedemos a crear un dataframe de pandas con los atributos que nos interesan"
   ]
  },
  {
   "cell_type": "code",
   "execution_count": 4,
   "id": "forbidden-leisure",
   "metadata": {},
   "outputs": [
    {
     "data": {
      "text/html": [
       "<div>\n",
       "<style scoped>\n",
       "    .dataframe tbody tr th:only-of-type {\n",
       "        vertical-align: middle;\n",
       "    }\n",
       "\n",
       "    .dataframe tbody tr th {\n",
       "        vertical-align: top;\n",
       "    }\n",
       "\n",
       "    .dataframe thead th {\n",
       "        text-align: right;\n",
       "    }\n",
       "</style>\n",
       "<table border=\"1\" class=\"dataframe\">\n",
       "  <thead>\n",
       "    <tr style=\"text-align: right;\">\n",
       "      <th></th>\n",
       "      <th>Device_id</th>\n",
       "      <th>Brand</th>\n",
       "      <th>Model</th>\n",
       "      <th>Announced</th>\n",
       "      <th>Status</th>\n",
       "      <th>Battery</th>\n",
       "      <th>CPU</th>\n",
       "      <th>Chipset</th>\n",
       "      <th>Dimensions</th>\n",
       "      <th>Display_resolution</th>\n",
       "      <th>Display_size</th>\n",
       "      <th>Display_type</th>\n",
       "      <th>Internal_memory</th>\n",
       "      <th>NFC</th>\n",
       "      <th>Operating_System</th>\n",
       "      <th>Primary_camera</th>\n",
       "      <th>RAM</th>\n",
       "    </tr>\n",
       "  </thead>\n",
       "  <tbody>\n",
       "    <tr>\n",
       "      <th>0</th>\n",
       "      <td>pGAENEHVp2</td>\n",
       "      <td>Nokia</td>\n",
       "      <td>_3</td>\n",
       "      <td>2017  February</td>\n",
       "      <td>Available. Released 2017  June</td>\n",
       "      <td>Non-removable Li-Ion 2630 mAh battery</td>\n",
       "      <td>Quad-core 1.4 GHz Cortex-A53</td>\n",
       "      <td>Mediatek MT6737</td>\n",
       "      <td>143.4 x 71.4 x 8.5 mm (5.65 x 2.81 x 0.33 in)</td>\n",
       "      <td>5.0 inches (~67.3% screen-to-body ratio)</td>\n",
       "      <td>720 x 1280 pixels (~294 ppi pixel density)</td>\n",
       "      <td>IPS LCD capacitive touchscreen  16M colors</td>\n",
       "      <td>16 GB</td>\n",
       "      <td>Yes</td>\n",
       "      <td>Android 7.0 (Nougat)</td>\n",
       "      <td>8 MP| f/2.0| autofocus| LED flash|</td>\n",
       "      <td>2 GB RAM</td>\n",
       "    </tr>\n",
       "    <tr>\n",
       "      <th>1</th>\n",
       "      <td>tzhPycsk7Z</td>\n",
       "      <td>Philips</td>\n",
       "      <td>_160</td>\n",
       "      <td>2005  September</td>\n",
       "      <td>Discontinued</td>\n",
       "      <td>Removable Li-Ion 720 mAh battery</td>\n",
       "      <td></td>\n",
       "      <td></td>\n",
       "      <td>103 x 47.5 x 18.7 mm| 89 cc (4.06 x 1.87 x 0.7...</td>\n",
       "      <td></td>\n",
       "      <td>101 x 80 pixels| 5 lines</td>\n",
       "      <td>STN  monochrome graphics</td>\n",
       "      <td>4 MB</td>\n",
       "      <td></td>\n",
       "      <td></td>\n",
       "      <td></td>\n",
       "      <td></td>\n",
       "    </tr>\n",
       "    <tr>\n",
       "      <th>2</th>\n",
       "      <td>E72HYPBi8V</td>\n",
       "      <td>OnePlus</td>\n",
       "      <td>_5</td>\n",
       "      <td>2017  June</td>\n",
       "      <td>Available. Released 2017  June</td>\n",
       "      <td>Non-removable Li-Po 3300 mAh battery</td>\n",
       "      <td>Octa-core (4x2.45 GHz Kryo &amp; 4x1.9 GHz Kryo)</td>\n",
       "      <td>Qualcomm MSM8998 Snapdragon 835</td>\n",
       "      <td>154.2 x 74.1 x 7.3 mm (6.07 x 2.92 x 0.29 in)</td>\n",
       "      <td>5.5 inches (~73.0% screen-to-body ratio)</td>\n",
       "      <td>1080 x 1920 pixels (~401 ppi pixel density)</td>\n",
       "      <td>Optic AMOLED capacitive touchscreen  16M colors</td>\n",
       "      <td>64 GB</td>\n",
       "      <td>Yes</td>\n",
       "      <td>Android 7.1.1 (Nougat)</td>\n",
       "      <td>Dual 16 MP| f/1.7| 24mm| EIS (gyro) + 20 MP| f...</td>\n",
       "      <td>6 GB RAM or 128 GB| 8 GB RAM</td>\n",
       "    </tr>\n",
       "    <tr>\n",
       "      <th>3</th>\n",
       "      <td>G8Q3G5Vpoz</td>\n",
       "      <td>Philips</td>\n",
       "      <td>_191</td>\n",
       "      <td>2008  May. Released 2008  May</td>\n",
       "      <td>Discontinued</td>\n",
       "      <td>Removable Li-Ion battery</td>\n",
       "      <td></td>\n",
       "      <td></td>\n",
       "      <td>104.5 x 45 x 12.8 mm (4.11 x 1.77 x 0.50 in)</td>\n",
       "      <td>1.25 inches (~9.9% screen-to-body ratio)</td>\n",
       "      <td>96 x 64 pixels (~92 ppi pixel density)</td>\n",
       "      <td>CSTN  Monochrome</td>\n",
       "      <td></td>\n",
       "      <td></td>\n",
       "      <td></td>\n",
       "      <td></td>\n",
       "      <td></td>\n",
       "    </tr>\n",
       "    <tr>\n",
       "      <th>4</th>\n",
       "      <td>EG9C0vfURd</td>\n",
       "      <td>Nokia</td>\n",
       "      <td>_109</td>\n",
       "      <td>2012  November</td>\n",
       "      <td>Available. Released 2012  December</td>\n",
       "      <td>Removable Li-Ion 800 mAh battery (BL-5CB)</td>\n",
       "      <td></td>\n",
       "      <td></td>\n",
       "      <td>110 x 46 x 14.8 mm| 63 cc (4.33 x 1.81 x 0.58 in)</td>\n",
       "      <td>1.8 inches (~20.2% screen-to-body ratio)</td>\n",
       "      <td>128 x 160 pixels (~114 ppi pixel density)</td>\n",
       "      <td>TFT  65K colors</td>\n",
       "      <td>64 MB ROM</td>\n",
       "      <td></td>\n",
       "      <td></td>\n",
       "      <td></td>\n",
       "      <td>16 MB RAM</td>\n",
       "    </tr>\n",
       "  </tbody>\n",
       "</table>\n",
       "</div>"
      ],
      "text/plain": [
       "    Device_id    Brand Model                      Announced  \\\n",
       "0  pGAENEHVp2    Nokia    _3                 2017  February   \n",
       "1  tzhPycsk7Z  Philips  _160                2005  September   \n",
       "2  E72HYPBi8V  OnePlus    _5                     2017  June   \n",
       "3  G8Q3G5Vpoz  Philips  _191  2008  May. Released 2008  May   \n",
       "4  EG9C0vfURd    Nokia  _109                 2012  November   \n",
       "\n",
       "                               Status  \\\n",
       "0      Available. Released 2017  June   \n",
       "1                        Discontinued   \n",
       "2      Available. Released 2017  June   \n",
       "3                        Discontinued   \n",
       "4  Available. Released 2012  December   \n",
       "\n",
       "                                     Battery  \\\n",
       "0      Non-removable Li-Ion 2630 mAh battery   \n",
       "1           Removable Li-Ion 720 mAh battery   \n",
       "2       Non-removable Li-Po 3300 mAh battery   \n",
       "3                   Removable Li-Ion battery   \n",
       "4  Removable Li-Ion 800 mAh battery (BL-5CB)   \n",
       "\n",
       "                                            CPU  \\\n",
       "0                  Quad-core 1.4 GHz Cortex-A53   \n",
       "1                                                 \n",
       "2  Octa-core (4x2.45 GHz Kryo & 4x1.9 GHz Kryo)   \n",
       "3                                                 \n",
       "4                                                 \n",
       "\n",
       "                           Chipset  \\\n",
       "0                  Mediatek MT6737   \n",
       "1                                    \n",
       "2  Qualcomm MSM8998 Snapdragon 835   \n",
       "3                                    \n",
       "4                                    \n",
       "\n",
       "                                          Dimensions  \\\n",
       "0      143.4 x 71.4 x 8.5 mm (5.65 x 2.81 x 0.33 in)   \n",
       "1  103 x 47.5 x 18.7 mm| 89 cc (4.06 x 1.87 x 0.7...   \n",
       "2      154.2 x 74.1 x 7.3 mm (6.07 x 2.92 x 0.29 in)   \n",
       "3       104.5 x 45 x 12.8 mm (4.11 x 1.77 x 0.50 in)   \n",
       "4  110 x 46 x 14.8 mm| 63 cc (4.33 x 1.81 x 0.58 in)   \n",
       "\n",
       "                         Display_resolution  \\\n",
       "0  5.0 inches (~67.3% screen-to-body ratio)   \n",
       "1                                             \n",
       "2  5.5 inches (~73.0% screen-to-body ratio)   \n",
       "3  1.25 inches (~9.9% screen-to-body ratio)   \n",
       "4  1.8 inches (~20.2% screen-to-body ratio)   \n",
       "\n",
       "                                  Display_size  \\\n",
       "0   720 x 1280 pixels (~294 ppi pixel density)   \n",
       "1                     101 x 80 pixels| 5 lines   \n",
       "2  1080 x 1920 pixels (~401 ppi pixel density)   \n",
       "3       96 x 64 pixels (~92 ppi pixel density)   \n",
       "4    128 x 160 pixels (~114 ppi pixel density)   \n",
       "\n",
       "                                      Display_type Internal_memory  NFC  \\\n",
       "0       IPS LCD capacitive touchscreen  16M colors           16 GB  Yes   \n",
       "1                         STN  monochrome graphics            4 MB        \n",
       "2  Optic AMOLED capacitive touchscreen  16M colors           64 GB  Yes   \n",
       "3                                 CSTN  Monochrome                        \n",
       "4                                  TFT  65K colors       64 MB ROM        \n",
       "\n",
       "         Operating_System                                     Primary_camera  \\\n",
       "0    Android 7.0 (Nougat)                 8 MP| f/2.0| autofocus| LED flash|   \n",
       "1                                                                              \n",
       "2  Android 7.1.1 (Nougat)  Dual 16 MP| f/1.7| 24mm| EIS (gyro) + 20 MP| f...   \n",
       "3                                                                              \n",
       "4                                                                              \n",
       "\n",
       "                            RAM  \n",
       "0                      2 GB RAM  \n",
       "1                                \n",
       "2  6 GB RAM or 128 GB| 8 GB RAM  \n",
       "3                                \n",
       "4                     16 MB RAM  "
      ]
     },
     "execution_count": 4,
     "metadata": {},
     "output_type": "execute_result"
    }
   ],
   "source": [
    "# Creamos listas vacías de los campos que queremos\n",
    "Device_id = []\n",
    "Brand = []\n",
    "Model = []\n",
    "Announced = []\n",
    "Status = []\n",
    "Battery = []\n",
    "CPU = []\n",
    "Chipset = []\n",
    "Dimensions = []\n",
    "Display_resolution = []\n",
    "Display_size = []\n",
    "Display_type = []\n",
    "Internal_memory = []\n",
    "NFC = []\n",
    "Operating_System = []\n",
    "Primary_camera = []\n",
    "RAM = []\n",
    "\n",
    "# Creamos una lista de nuestras listas\n",
    "var = [Device_id, Brand, Model, Announced, Status, Battery, CPU,\n",
    "       Chipset, Dimensions, Display_resolution,\n",
    "       Display_size, Display_type, Internal_memory,\n",
    "       NFC, Operating_System, Primary_camera, RAM]\n",
    "\n",
    "# Creamos una lista de strings con las keys de las que extraeremos el contenido\n",
    "var_str = ['objectId', 'Brand', 'Model', 'Announced', 'Status', 'Battery',\n",
    "           'CPU', 'Chipset', 'Dimensions', 'Display_resolution',\n",
    "           'Display_size', 'Display_type', 'Internal_memory',\n",
    "           'NFC', 'Operating_System', 'Primary_camera', 'RAM']\n",
    "\n",
    "\n",
    "# Puesto que no todos los dispositivos tienen todos los atributos usaremos un try except para evitar el error\n",
    "# En el caso de que no contenga el atributo dejaremos el campo vacio\n",
    "for el in js['results']:\n",
    "    for x, y in zip(var, var_str):\n",
    "        try:\n",
    "            x.append(el[y])\n",
    "        except:\n",
    "            x.append('')    \n",
    "\n",
    "# Creamos el dataframe de pandas\n",
    "df = pd.DataFrame({'Device_id': Device_id, 'Brand': Brand, 'Model': Model,\n",
    "                   'Announced': Announced, 'Status': Status, 'Battery': Battery,\n",
    "                   'CPU': CPU, 'Chipset': Chipset,\n",
    "                   'Dimensions': Dimensions, 'Display_resolution': Display_resolution,\n",
    "                   'Display_size': Display_size, 'Display_type': Display_type, \n",
    "                   'Internal_memory': Internal_memory, 'NFC': NFC,\n",
    "                   'Operating_System': Operating_System, 'Primary_camera': Primary_camera,\n",
    "                   'RAM': RAM})\n",
    "df.head()"
   ]
  },
  {
   "cell_type": "markdown",
   "id": "secondary-syndication",
   "metadata": {},
   "source": [
    "Una vez tenemos nuestro dataframe creado vamos a tratar de extraer información relevante de él. Como se ha comentado la base de datos está algo desactualizada, por lo que será difícil que los resultados que se obtengan sean fieles a realidad.\n",
    "\n",
    "Vamos a tratar de responder a algunas preguntas que nos obligaran a limpiar algunos campos:\n",
    "\n",
    "- ¿Cuántos dispositivos salieron al mercado por año?\n",
    "- ¿Cuál fue la marca que más dispositivos saco al mercado en 2010?\n",
    "- Top 5 marcas por número de dispositivos\n",
    "- ¿Dispositivo con más RAM?"
   ]
  },
  {
   "cell_type": "markdown",
   "id": "fleet-timer",
   "metadata": {},
   "source": [
    "<a id=\"q1\"></a>\n",
    "### ¿Cuántos dispositivos salieron al mercado por año?\n",
    "Para obtener este dato usaremos el campo Status. En el caso de que el valor sea 'Discontinued', 'Cancelled', 'Available' o '', recurriremos al campo Announced."
   ]
  },
  {
   "cell_type": "code",
   "execution_count": 5,
   "id": "latter-audit",
   "metadata": {},
   "outputs": [
    {
     "data": {
      "application/vnd.plotly.v1+json": {
       "config": {
        "plotlyServerURL": "https://plot.ly"
       },
       "data": [
        {
         "alignmentgroup": "True",
         "hovertemplate": "device_year=%{x}<br>Total_devices=%{y}<extra></extra>",
         "legendgroup": "",
         "marker": {
          "color": "#636efa"
         },
         "name": "",
         "offsetgroup": "",
         "orientation": "v",
         "showlegend": false,
         "textposition": "auto",
         "type": "bar",
         "x": [
          "",
          "1994",
          "1995",
          "1996",
          "1997",
          "1998",
          "1999",
          "2000",
          "2001",
          "2002",
          "2003",
          "2004",
          "2005",
          "2006",
          "2007",
          "2008",
          "2009",
          "2010",
          "2011",
          "2012",
          "2013",
          "2014",
          "2015",
          "2016",
          "2017"
         ],
         "xaxis": "x",
         "y": [
          81,
          1,
          8,
          7,
          21,
          33,
          62,
          82,
          66,
          82,
          236,
          395,
          401,
          405,
          359,
          421,
          467,
          589,
          750,
          734,
          790,
          980,
          826,
          614,
          224
         ],
         "yaxis": "y"
        }
       ],
       "layout": {
        "autosize": true,
        "barmode": "relative",
        "legend": {
         "tracegroupgap": 0
        },
        "margin": {
         "t": 60
        },
        "template": {
         "data": {
          "bar": [
           {
            "error_x": {
             "color": "#2a3f5f"
            },
            "error_y": {
             "color": "#2a3f5f"
            },
            "marker": {
             "line": {
              "color": "#E5ECF6",
              "width": 0.5
             }
            },
            "type": "bar"
           }
          ],
          "barpolar": [
           {
            "marker": {
             "line": {
              "color": "#E5ECF6",
              "width": 0.5
             }
            },
            "type": "barpolar"
           }
          ],
          "carpet": [
           {
            "aaxis": {
             "endlinecolor": "#2a3f5f",
             "gridcolor": "white",
             "linecolor": "white",
             "minorgridcolor": "white",
             "startlinecolor": "#2a3f5f"
            },
            "baxis": {
             "endlinecolor": "#2a3f5f",
             "gridcolor": "white",
             "linecolor": "white",
             "minorgridcolor": "white",
             "startlinecolor": "#2a3f5f"
            },
            "type": "carpet"
           }
          ],
          "choropleth": [
           {
            "colorbar": {
             "outlinewidth": 0,
             "ticks": ""
            },
            "type": "choropleth"
           }
          ],
          "contour": [
           {
            "colorbar": {
             "outlinewidth": 0,
             "ticks": ""
            },
            "colorscale": [
             [
              0,
              "#0d0887"
             ],
             [
              0.1111111111111111,
              "#46039f"
             ],
             [
              0.2222222222222222,
              "#7201a8"
             ],
             [
              0.3333333333333333,
              "#9c179e"
             ],
             [
              0.4444444444444444,
              "#bd3786"
             ],
             [
              0.5555555555555556,
              "#d8576b"
             ],
             [
              0.6666666666666666,
              "#ed7953"
             ],
             [
              0.7777777777777778,
              "#fb9f3a"
             ],
             [
              0.8888888888888888,
              "#fdca26"
             ],
             [
              1,
              "#f0f921"
             ]
            ],
            "type": "contour"
           }
          ],
          "contourcarpet": [
           {
            "colorbar": {
             "outlinewidth": 0,
             "ticks": ""
            },
            "type": "contourcarpet"
           }
          ],
          "heatmap": [
           {
            "colorbar": {
             "outlinewidth": 0,
             "ticks": ""
            },
            "colorscale": [
             [
              0,
              "#0d0887"
             ],
             [
              0.1111111111111111,
              "#46039f"
             ],
             [
              0.2222222222222222,
              "#7201a8"
             ],
             [
              0.3333333333333333,
              "#9c179e"
             ],
             [
              0.4444444444444444,
              "#bd3786"
             ],
             [
              0.5555555555555556,
              "#d8576b"
             ],
             [
              0.6666666666666666,
              "#ed7953"
             ],
             [
              0.7777777777777778,
              "#fb9f3a"
             ],
             [
              0.8888888888888888,
              "#fdca26"
             ],
             [
              1,
              "#f0f921"
             ]
            ],
            "type": "heatmap"
           }
          ],
          "heatmapgl": [
           {
            "colorbar": {
             "outlinewidth": 0,
             "ticks": ""
            },
            "colorscale": [
             [
              0,
              "#0d0887"
             ],
             [
              0.1111111111111111,
              "#46039f"
             ],
             [
              0.2222222222222222,
              "#7201a8"
             ],
             [
              0.3333333333333333,
              "#9c179e"
             ],
             [
              0.4444444444444444,
              "#bd3786"
             ],
             [
              0.5555555555555556,
              "#d8576b"
             ],
             [
              0.6666666666666666,
              "#ed7953"
             ],
             [
              0.7777777777777778,
              "#fb9f3a"
             ],
             [
              0.8888888888888888,
              "#fdca26"
             ],
             [
              1,
              "#f0f921"
             ]
            ],
            "type": "heatmapgl"
           }
          ],
          "histogram": [
           {
            "marker": {
             "colorbar": {
              "outlinewidth": 0,
              "ticks": ""
             }
            },
            "type": "histogram"
           }
          ],
          "histogram2d": [
           {
            "colorbar": {
             "outlinewidth": 0,
             "ticks": ""
            },
            "colorscale": [
             [
              0,
              "#0d0887"
             ],
             [
              0.1111111111111111,
              "#46039f"
             ],
             [
              0.2222222222222222,
              "#7201a8"
             ],
             [
              0.3333333333333333,
              "#9c179e"
             ],
             [
              0.4444444444444444,
              "#bd3786"
             ],
             [
              0.5555555555555556,
              "#d8576b"
             ],
             [
              0.6666666666666666,
              "#ed7953"
             ],
             [
              0.7777777777777778,
              "#fb9f3a"
             ],
             [
              0.8888888888888888,
              "#fdca26"
             ],
             [
              1,
              "#f0f921"
             ]
            ],
            "type": "histogram2d"
           }
          ],
          "histogram2dcontour": [
           {
            "colorbar": {
             "outlinewidth": 0,
             "ticks": ""
            },
            "colorscale": [
             [
              0,
              "#0d0887"
             ],
             [
              0.1111111111111111,
              "#46039f"
             ],
             [
              0.2222222222222222,
              "#7201a8"
             ],
             [
              0.3333333333333333,
              "#9c179e"
             ],
             [
              0.4444444444444444,
              "#bd3786"
             ],
             [
              0.5555555555555556,
              "#d8576b"
             ],
             [
              0.6666666666666666,
              "#ed7953"
             ],
             [
              0.7777777777777778,
              "#fb9f3a"
             ],
             [
              0.8888888888888888,
              "#fdca26"
             ],
             [
              1,
              "#f0f921"
             ]
            ],
            "type": "histogram2dcontour"
           }
          ],
          "mesh3d": [
           {
            "colorbar": {
             "outlinewidth": 0,
             "ticks": ""
            },
            "type": "mesh3d"
           }
          ],
          "parcoords": [
           {
            "line": {
             "colorbar": {
              "outlinewidth": 0,
              "ticks": ""
             }
            },
            "type": "parcoords"
           }
          ],
          "pie": [
           {
            "automargin": true,
            "type": "pie"
           }
          ],
          "scatter": [
           {
            "marker": {
             "colorbar": {
              "outlinewidth": 0,
              "ticks": ""
             }
            },
            "type": "scatter"
           }
          ],
          "scatter3d": [
           {
            "line": {
             "colorbar": {
              "outlinewidth": 0,
              "ticks": ""
             }
            },
            "marker": {
             "colorbar": {
              "outlinewidth": 0,
              "ticks": ""
             }
            },
            "type": "scatter3d"
           }
          ],
          "scattercarpet": [
           {
            "marker": {
             "colorbar": {
              "outlinewidth": 0,
              "ticks": ""
             }
            },
            "type": "scattercarpet"
           }
          ],
          "scattergeo": [
           {
            "marker": {
             "colorbar": {
              "outlinewidth": 0,
              "ticks": ""
             }
            },
            "type": "scattergeo"
           }
          ],
          "scattergl": [
           {
            "marker": {
             "colorbar": {
              "outlinewidth": 0,
              "ticks": ""
             }
            },
            "type": "scattergl"
           }
          ],
          "scattermapbox": [
           {
            "marker": {
             "colorbar": {
              "outlinewidth": 0,
              "ticks": ""
             }
            },
            "type": "scattermapbox"
           }
          ],
          "scatterpolar": [
           {
            "marker": {
             "colorbar": {
              "outlinewidth": 0,
              "ticks": ""
             }
            },
            "type": "scatterpolar"
           }
          ],
          "scatterpolargl": [
           {
            "marker": {
             "colorbar": {
              "outlinewidth": 0,
              "ticks": ""
             }
            },
            "type": "scatterpolargl"
           }
          ],
          "scatterternary": [
           {
            "marker": {
             "colorbar": {
              "outlinewidth": 0,
              "ticks": ""
             }
            },
            "type": "scatterternary"
           }
          ],
          "surface": [
           {
            "colorbar": {
             "outlinewidth": 0,
             "ticks": ""
            },
            "colorscale": [
             [
              0,
              "#0d0887"
             ],
             [
              0.1111111111111111,
              "#46039f"
             ],
             [
              0.2222222222222222,
              "#7201a8"
             ],
             [
              0.3333333333333333,
              "#9c179e"
             ],
             [
              0.4444444444444444,
              "#bd3786"
             ],
             [
              0.5555555555555556,
              "#d8576b"
             ],
             [
              0.6666666666666666,
              "#ed7953"
             ],
             [
              0.7777777777777778,
              "#fb9f3a"
             ],
             [
              0.8888888888888888,
              "#fdca26"
             ],
             [
              1,
              "#f0f921"
             ]
            ],
            "type": "surface"
           }
          ],
          "table": [
           {
            "cells": {
             "fill": {
              "color": "#EBF0F8"
             },
             "line": {
              "color": "white"
             }
            },
            "header": {
             "fill": {
              "color": "#C8D4E3"
             },
             "line": {
              "color": "white"
             }
            },
            "type": "table"
           }
          ]
         },
         "layout": {
          "annotationdefaults": {
           "arrowcolor": "#2a3f5f",
           "arrowhead": 0,
           "arrowwidth": 1
          },
          "autotypenumbers": "strict",
          "coloraxis": {
           "colorbar": {
            "outlinewidth": 0,
            "ticks": ""
           }
          },
          "colorscale": {
           "diverging": [
            [
             0,
             "#8e0152"
            ],
            [
             0.1,
             "#c51b7d"
            ],
            [
             0.2,
             "#de77ae"
            ],
            [
             0.3,
             "#f1b6da"
            ],
            [
             0.4,
             "#fde0ef"
            ],
            [
             0.5,
             "#f7f7f7"
            ],
            [
             0.6,
             "#e6f5d0"
            ],
            [
             0.7,
             "#b8e186"
            ],
            [
             0.8,
             "#7fbc41"
            ],
            [
             0.9,
             "#4d9221"
            ],
            [
             1,
             "#276419"
            ]
           ],
           "sequential": [
            [
             0,
             "#0d0887"
            ],
            [
             0.1111111111111111,
             "#46039f"
            ],
            [
             0.2222222222222222,
             "#7201a8"
            ],
            [
             0.3333333333333333,
             "#9c179e"
            ],
            [
             0.4444444444444444,
             "#bd3786"
            ],
            [
             0.5555555555555556,
             "#d8576b"
            ],
            [
             0.6666666666666666,
             "#ed7953"
            ],
            [
             0.7777777777777778,
             "#fb9f3a"
            ],
            [
             0.8888888888888888,
             "#fdca26"
            ],
            [
             1,
             "#f0f921"
            ]
           ],
           "sequentialminus": [
            [
             0,
             "#0d0887"
            ],
            [
             0.1111111111111111,
             "#46039f"
            ],
            [
             0.2222222222222222,
             "#7201a8"
            ],
            [
             0.3333333333333333,
             "#9c179e"
            ],
            [
             0.4444444444444444,
             "#bd3786"
            ],
            [
             0.5555555555555556,
             "#d8576b"
            ],
            [
             0.6666666666666666,
             "#ed7953"
            ],
            [
             0.7777777777777778,
             "#fb9f3a"
            ],
            [
             0.8888888888888888,
             "#fdca26"
            ],
            [
             1,
             "#f0f921"
            ]
           ]
          },
          "colorway": [
           "#636efa",
           "#EF553B",
           "#00cc96",
           "#ab63fa",
           "#FFA15A",
           "#19d3f3",
           "#FF6692",
           "#B6E880",
           "#FF97FF",
           "#FECB52"
          ],
          "font": {
           "color": "#2a3f5f"
          },
          "geo": {
           "bgcolor": "white",
           "lakecolor": "white",
           "landcolor": "#E5ECF6",
           "showlakes": true,
           "showland": true,
           "subunitcolor": "white"
          },
          "hoverlabel": {
           "align": "left"
          },
          "hovermode": "closest",
          "mapbox": {
           "style": "light"
          },
          "paper_bgcolor": "white",
          "plot_bgcolor": "#E5ECF6",
          "polar": {
           "angularaxis": {
            "gridcolor": "white",
            "linecolor": "white",
            "ticks": ""
           },
           "bgcolor": "#E5ECF6",
           "radialaxis": {
            "gridcolor": "white",
            "linecolor": "white",
            "ticks": ""
           }
          },
          "scene": {
           "xaxis": {
            "backgroundcolor": "#E5ECF6",
            "gridcolor": "white",
            "gridwidth": 2,
            "linecolor": "white",
            "showbackground": true,
            "ticks": "",
            "zerolinecolor": "white"
           },
           "yaxis": {
            "backgroundcolor": "#E5ECF6",
            "gridcolor": "white",
            "gridwidth": 2,
            "linecolor": "white",
            "showbackground": true,
            "ticks": "",
            "zerolinecolor": "white"
           },
           "zaxis": {
            "backgroundcolor": "#E5ECF6",
            "gridcolor": "white",
            "gridwidth": 2,
            "linecolor": "white",
            "showbackground": true,
            "ticks": "",
            "zerolinecolor": "white"
           }
          },
          "shapedefaults": {
           "line": {
            "color": "#2a3f5f"
           }
          },
          "ternary": {
           "aaxis": {
            "gridcolor": "white",
            "linecolor": "white",
            "ticks": ""
           },
           "baxis": {
            "gridcolor": "white",
            "linecolor": "white",
            "ticks": ""
           },
           "bgcolor": "#E5ECF6",
           "caxis": {
            "gridcolor": "white",
            "linecolor": "white",
            "ticks": ""
           }
          },
          "title": {
           "x": 0.05
          },
          "xaxis": {
           "automargin": true,
           "gridcolor": "white",
           "linecolor": "white",
           "ticks": "",
           "title": {
            "standoff": 15
           },
           "zerolinecolor": "white",
           "zerolinewidth": 2
          },
          "yaxis": {
           "automargin": true,
           "gridcolor": "white",
           "linecolor": "white",
           "ticks": "",
           "title": {
            "standoff": 15
           },
           "zerolinecolor": "white",
           "zerolinewidth": 2
          }
         }
        },
        "xaxis": {
         "anchor": "y",
         "autorange": true,
         "domain": [
          0,
          1
         ],
         "range": [
          -0.5,
          24.5
         ],
         "title": {
          "text": "device_year"
         },
         "type": "category"
        },
        "yaxis": {
         "anchor": "x",
         "autorange": true,
         "domain": [
          0,
          1
         ],
         "range": [
          0,
          1031.578947368421
         ],
         "title": {
          "text": "Total_devices"
         },
         "type": "linear"
        }
       }
      },
      "image/png": "[encoded data removed]",
      "text/html": [
       "<div>                            <div id=\"90dd4348-c886-409f-b169-2cbef713c0f6\" class=\"plotly-graph-div\" style=\"height:525px; width:100%;\"></div>            <script type=\"text/javascript\">                require([\"plotly\"], function(Plotly) {                    window.PLOTLYENV=window.PLOTLYENV || {};                                    if (document.getElementById(\"90dd4348-c886-409f-b169-2cbef713c0f6\")) {                    Plotly.newPlot(                        \"90dd4348-c886-409f-b169-2cbef713c0f6\",                        [{\"alignmentgroup\": \"True\", \"hovertemplate\": \"device_year=%{x}<br>Total_devices=%{y}<extra></extra>\", \"legendgroup\": \"\", \"marker\": {\"color\": \"#636efa\"}, \"name\": \"\", \"offsetgroup\": \"\", \"orientation\": \"v\", \"showlegend\": false, \"textposition\": \"auto\", \"type\": \"bar\", \"x\": [\"\", \"1994\", \"1995\", \"1996\", \"1997\", \"1998\", \"1999\", \"2000\", \"2001\", \"2002\", \"2003\", \"2004\", \"2005\", \"2006\", \"2007\", \"2008\", \"2009\", \"2010\", \"2011\", \"2012\", \"2013\", \"2014\", \"2015\", \"2016\", \"2017\"], \"xaxis\": \"x\", \"y\": [81, 1, 8, 7, 21, 33, 62, 82, 66, 82, 236, 395, 401, 405, 359, 421, 467, 589, 750, 734, 790, 980, 826, 614, 224], \"yaxis\": \"y\"}],                        {\"barmode\": \"relative\", \"legend\": {\"tracegroupgap\": 0}, \"margin\": {\"t\": 60}, \"template\": {\"data\": {\"bar\": [{\"error_x\": {\"color\": \"#2a3f5f\"}, \"error_y\": {\"color\": \"#2a3f5f\"}, \"marker\": {\"line\": {\"color\": \"#E5ECF6\", \"width\": 0.5}}, \"type\": \"bar\"}], \"barpolar\": [{\"marker\": {\"line\": {\"color\": \"#E5ECF6\", \"width\": 0.5}}, \"type\": \"barpolar\"}], \"carpet\": [{\"aaxis\": {\"endlinecolor\": \"#2a3f5f\", \"gridcolor\": \"white\", \"linecolor\": \"white\", \"minorgridcolor\": \"white\", \"startlinecolor\": \"#2a3f5f\"}, \"baxis\": {\"endlinecolor\": \"#2a3f5f\", \"gridcolor\": \"white\", \"linecolor\": \"white\", \"minorgridcolor\": \"white\", \"startlinecolor\": \"#2a3f5f\"}, \"type\": \"carpet\"}], \"choropleth\": [{\"colorbar\": {\"outlinewidth\": 0, \"ticks\": \"\"}, \"type\": \"choropleth\"}], \"contour\": [{\"colorbar\": {\"outlinewidth\": 0, \"ticks\": \"\"}, \"colorscale\": [[0.0, \"#0d0887\"], [0.1111111111111111, \"#46039f\"], [0.2222222222222222, \"#7201a8\"], [0.3333333333333333, \"#9c179e\"], [0.4444444444444444, \"#bd3786\"], [0.5555555555555556, \"#d8576b\"], [0.6666666666666666, \"#ed7953\"], [0.7777777777777778, \"#fb9f3a\"], [0.8888888888888888, \"#fdca26\"], [1.0, \"#f0f921\"]], \"type\": \"contour\"}], \"contourcarpet\": [{\"colorbar\": {\"outlinewidth\": 0, \"ticks\": \"\"}, \"type\": \"contourcarpet\"}], \"heatmap\": [{\"colorbar\": {\"outlinewidth\": 0, \"ticks\": \"\"}, \"colorscale\": [[0.0, \"#0d0887\"], [0.1111111111111111, \"#46039f\"], [0.2222222222222222, \"#7201a8\"], [0.3333333333333333, \"#9c179e\"], [0.4444444444444444, \"#bd3786\"], [0.5555555555555556, \"#d8576b\"], [0.6666666666666666, \"#ed7953\"], [0.7777777777777778, \"#fb9f3a\"], [0.8888888888888888, \"#fdca26\"], [1.0, \"#f0f921\"]], \"type\": \"heatmap\"}], \"heatmapgl\": [{\"colorbar\": {\"outlinewidth\": 0, \"ticks\": \"\"}, \"colorscale\": [[0.0, \"#0d0887\"], [0.1111111111111111, \"#46039f\"], [0.2222222222222222, \"#7201a8\"], [0.3333333333333333, \"#9c179e\"], [0.4444444444444444, \"#bd3786\"], [0.5555555555555556, \"#d8576b\"], [0.6666666666666666, \"#ed7953\"], [0.7777777777777778, \"#fb9f3a\"], [0.8888888888888888, \"#fdca26\"], [1.0, \"#f0f921\"]], \"type\": \"heatmapgl\"}], \"histogram\": [{\"marker\": {\"colorbar\": {\"outlinewidth\": 0, \"ticks\": \"\"}}, \"type\": \"histogram\"}], \"histogram2d\": [{\"colorbar\": {\"outlinewidth\": 0, \"ticks\": \"\"}, \"colorscale\": [[0.0, \"#0d0887\"], [0.1111111111111111, \"#46039f\"], [0.2222222222222222, \"#7201a8\"], [0.3333333333333333, \"#9c179e\"], [0.4444444444444444, \"#bd3786\"], [0.5555555555555556, \"#d8576b\"], [0.6666666666666666, \"#ed7953\"], [0.7777777777777778, \"#fb9f3a\"], [0.8888888888888888, \"#fdca26\"], [1.0, \"#f0f921\"]], \"type\": \"histogram2d\"}], \"histogram2dcontour\": [{\"colorbar\": {\"outlinewidth\": 0, \"ticks\": \"\"}, \"colorscale\": [[0.0, \"#0d0887\"], [0.1111111111111111, \"#46039f\"], [0.2222222222222222, \"#7201a8\"], [0.3333333333333333, \"#9c179e\"], [0.4444444444444444, \"#bd3786\"], [0.5555555555555556, \"#d8576b\"], [0.6666666666666666, \"#ed7953\"], [0.7777777777777778, \"#fb9f3a\"], [0.8888888888888888, \"#fdca26\"], [1.0, \"#f0f921\"]], \"type\": \"histogram2dcontour\"}], \"mesh3d\": [{\"colorbar\": {\"outlinewidth\": 0, \"ticks\": \"\"}, \"type\": \"mesh3d\"}], \"parcoords\": [{\"line\": {\"colorbar\": {\"outlinewidth\": 0, \"ticks\": \"\"}}, \"type\": \"parcoords\"}], \"pie\": [{\"automargin\": true, \"type\": \"pie\"}], \"scatter\": [{\"marker\": {\"colorbar\": {\"outlinewidth\": 0, \"ticks\": \"\"}}, \"type\": \"scatter\"}], \"scatter3d\": [{\"line\": {\"colorbar\": {\"outlinewidth\": 0, \"ticks\": \"\"}}, \"marker\": {\"colorbar\": {\"outlinewidth\": 0, \"ticks\": \"\"}}, \"type\": \"scatter3d\"}], \"scattercarpet\": [{\"marker\": {\"colorbar\": {\"outlinewidth\": 0, \"ticks\": \"\"}}, \"type\": \"scattercarpet\"}], \"scattergeo\": [{\"marker\": {\"colorbar\": {\"outlinewidth\": 0, \"ticks\": \"\"}}, \"type\": \"scattergeo\"}], \"scattergl\": [{\"marker\": {\"colorbar\": {\"outlinewidth\": 0, \"ticks\": \"\"}}, \"type\": \"scattergl\"}], \"scattermapbox\": [{\"marker\": {\"colorbar\": {\"outlinewidth\": 0, \"ticks\": \"\"}}, \"type\": \"scattermapbox\"}], \"scatterpolar\": [{\"marker\": {\"colorbar\": {\"outlinewidth\": 0, \"ticks\": \"\"}}, \"type\": \"scatterpolar\"}], \"scatterpolargl\": [{\"marker\": {\"colorbar\": {\"outlinewidth\": 0, \"ticks\": \"\"}}, \"type\": \"scatterpolargl\"}], \"scatterternary\": [{\"marker\": {\"colorbar\": {\"outlinewidth\": 0, \"ticks\": \"\"}}, \"type\": \"scatterternary\"}], \"surface\": [{\"colorbar\": {\"outlinewidth\": 0, \"ticks\": \"\"}, \"colorscale\": [[0.0, \"#0d0887\"], [0.1111111111111111, \"#46039f\"], [0.2222222222222222, \"#7201a8\"], [0.3333333333333333, \"#9c179e\"], [0.4444444444444444, \"#bd3786\"], [0.5555555555555556, \"#d8576b\"], [0.6666666666666666, \"#ed7953\"], [0.7777777777777778, \"#fb9f3a\"], [0.8888888888888888, \"#fdca26\"], [1.0, \"#f0f921\"]], \"type\": \"surface\"}], \"table\": [{\"cells\": {\"fill\": {\"color\": \"#EBF0F8\"}, \"line\": {\"color\": \"white\"}}, \"header\": {\"fill\": {\"color\": \"#C8D4E3\"}, \"line\": {\"color\": \"white\"}}, \"type\": \"table\"}]}, \"layout\": {\"annotationdefaults\": {\"arrowcolor\": \"#2a3f5f\", \"arrowhead\": 0, \"arrowwidth\": 1}, \"autotypenumbers\": \"strict\", \"coloraxis\": {\"colorbar\": {\"outlinewidth\": 0, \"ticks\": \"\"}}, \"colorscale\": {\"diverging\": [[0, \"#8e0152\"], [0.1, \"#c51b7d\"], [0.2, \"#de77ae\"], [0.3, \"#f1b6da\"], [0.4, \"#fde0ef\"], [0.5, \"#f7f7f7\"], [0.6, \"#e6f5d0\"], [0.7, \"#b8e186\"], [0.8, \"#7fbc41\"], [0.9, \"#4d9221\"], [1, \"#276419\"]], \"sequential\": [[0.0, \"#0d0887\"], [0.1111111111111111, \"#46039f\"], [0.2222222222222222, \"#7201a8\"], [0.3333333333333333, \"#9c179e\"], [0.4444444444444444, \"#bd3786\"], [0.5555555555555556, \"#d8576b\"], [0.6666666666666666, \"#ed7953\"], [0.7777777777777778, \"#fb9f3a\"], [0.8888888888888888, \"#fdca26\"], [1.0, \"#f0f921\"]], \"sequentialminus\": [[0.0, \"#0d0887\"], [0.1111111111111111, \"#46039f\"], [0.2222222222222222, \"#7201a8\"], [0.3333333333333333, \"#9c179e\"], [0.4444444444444444, \"#bd3786\"], [0.5555555555555556, \"#d8576b\"], [0.6666666666666666, \"#ed7953\"], [0.7777777777777778, \"#fb9f3a\"], [0.8888888888888888, \"#fdca26\"], [1.0, \"#f0f921\"]]}, \"colorway\": [\"#636efa\", \"#EF553B\", \"#00cc96\", \"#ab63fa\", \"#FFA15A\", \"#19d3f3\", \"#FF6692\", \"#B6E880\", \"#FF97FF\", \"#FECB52\"], \"font\": {\"color\": \"#2a3f5f\"}, \"geo\": {\"bgcolor\": \"white\", \"lakecolor\": \"white\", \"landcolor\": \"#E5ECF6\", \"showlakes\": true, \"showland\": true, \"subunitcolor\": \"white\"}, \"hoverlabel\": {\"align\": \"left\"}, \"hovermode\": \"closest\", \"mapbox\": {\"style\": \"light\"}, \"paper_bgcolor\": \"white\", \"plot_bgcolor\": \"#E5ECF6\", \"polar\": {\"angularaxis\": {\"gridcolor\": \"white\", \"linecolor\": \"white\", \"ticks\": \"\"}, \"bgcolor\": \"#E5ECF6\", \"radialaxis\": {\"gridcolor\": \"white\", \"linecolor\": \"white\", \"ticks\": \"\"}}, \"scene\": {\"xaxis\": {\"backgroundcolor\": \"#E5ECF6\", \"gridcolor\": \"white\", \"gridwidth\": 2, \"linecolor\": \"white\", \"showbackground\": true, \"ticks\": \"\", \"zerolinecolor\": \"white\"}, \"yaxis\": {\"backgroundcolor\": \"#E5ECF6\", \"gridcolor\": \"white\", \"gridwidth\": 2, \"linecolor\": \"white\", \"showbackground\": true, \"ticks\": \"\", \"zerolinecolor\": \"white\"}, \"zaxis\": {\"backgroundcolor\": \"#E5ECF6\", \"gridcolor\": \"white\", \"gridwidth\": 2, \"linecolor\": \"white\", \"showbackground\": true, \"ticks\": \"\", \"zerolinecolor\": \"white\"}}, \"shapedefaults\": {\"line\": {\"color\": \"#2a3f5f\"}}, \"ternary\": {\"aaxis\": {\"gridcolor\": \"white\", \"linecolor\": \"white\", \"ticks\": \"\"}, \"baxis\": {\"gridcolor\": \"white\", \"linecolor\": \"white\", \"ticks\": \"\"}, \"bgcolor\": \"#E5ECF6\", \"caxis\": {\"gridcolor\": \"white\", \"linecolor\": \"white\", \"ticks\": \"\"}}, \"title\": {\"x\": 0.05}, \"xaxis\": {\"automargin\": true, \"gridcolor\": \"white\", \"linecolor\": \"white\", \"ticks\": \"\", \"title\": {\"standoff\": 15}, \"zerolinecolor\": \"white\", \"zerolinewidth\": 2}, \"yaxis\": {\"automargin\": true, \"gridcolor\": \"white\", \"linecolor\": \"white\", \"ticks\": \"\", \"title\": {\"standoff\": 15}, \"zerolinecolor\": \"white\", \"zerolinewidth\": 2}}}, \"xaxis\": {\"anchor\": \"y\", \"domain\": [0.0, 1.0], \"title\": {\"text\": \"device_year\"}}, \"yaxis\": {\"anchor\": \"x\", \"domain\": [0.0, 1.0], \"title\": {\"text\": \"Total_devices\"}}},                        {\"responsive\": true}                    ).then(function(){\n",
       "                            \n",
       "var gd = document.getElementById('90dd4348-c886-409f-b169-2cbef713c0f6');\n",
       "var x = new MutationObserver(function (mutations, observer) {{\n",
       "        var display = window.getComputedStyle(gd).display;\n",
       "        if (!display || display === 'none') {{\n",
       "            console.log([gd, 'removed!']);\n",
       "            Plotly.purge(gd);\n",
       "            observer.disconnect();\n",
       "        }}\n",
       "}});\n",
       "\n",
       "// Listen for the removal of the full notebook cells\n",
       "var notebookContainer = gd.closest('#notebook-container');\n",
       "if (notebookContainer) {{\n",
       "    x.observe(notebookContainer, {childList: true});\n",
       "}}\n",
       "\n",
       "// Listen for the clearing of the current output cell\n",
       "var outputEl = gd.closest('.output');\n",
       "if (outputEl) {{\n",
       "    x.observe(outputEl, {childList: true});\n",
       "}}\n",
       "\n",
       "                        })                };                });            </script>        </div>"
      ]
     },
     "metadata": {},
     "output_type": "display_data"
    }
   ],
   "source": [
    "# Lista de años que buscaremos\n",
    "years = ['2017','2016','2015','2014','2013','2012',\n",
    "         '2011','2010','2009','2008','2007','2006',\n",
    "         '2005', '2004', '2003','2002', '2001', '2000',\n",
    "         '1999', '1998', '1997', '1996', '1995', '1994',\n",
    "         'Discontinued', 'Cancelled', 'Available', '']\n",
    "\n",
    "# Nueva columna de status para cuando contenga los valores 'Discontinued', 'Cancelled', 'Available', ''\n",
    "df['new_status'] = np.where(df['Status'].isin(['Discontinued', 'Cancelled', 'Available', '']), df['Announced'], df['Status'])\n",
    "\n",
    "# Lista donde almacenaremos los años\n",
    "device_year=[]\n",
    "# Bucle que recorerá cada valor de la columna new status y buscará si coincide con alguno de los años de la lista\n",
    "for i in df['new_status'].values:\n",
    "    for year in years:\n",
    "        if (year == 'Discontinued') | (year == 'Cancelled') | (year == 'Available') | (year == ''):\n",
    "            device_year.append('')\n",
    "            break\n",
    "        elif year in i:\n",
    "            device_year.append(year)\n",
    "            break\n",
    "\n",
    "# Agregamos la nueva columna\n",
    "df['device_year'] = device_year\n",
    "\n",
    "# Hacemos el conteo de dispositivos por año\n",
    "data = df[['device_year', 'Device_id']].groupby('device_year', as_index=False).count().sort_values('device_year').rename(columns={'Device_id':'Total_devices'})\n",
    "fig = px.bar(data, x='device_year', y='Total_devices')\n",
    "fig.show()"
   ]
  },
  {
   "cell_type": "markdown",
   "id": "occupied-stick",
   "metadata": {},
   "source": [
    "<a id=\"q2\"></a>\n",
    "### ¿Cuál fue la marca que más dispositivos saco al mercado en 2010?"
   ]
  },
  {
   "cell_type": "code",
   "execution_count": 6,
   "id": "applied-meditation",
   "metadata": {},
   "outputs": [
    {
     "data": {
      "text/html": [
       "<div>\n",
       "<style scoped>\n",
       "    .dataframe tbody tr th:only-of-type {\n",
       "        vertical-align: middle;\n",
       "    }\n",
       "\n",
       "    .dataframe tbody tr th {\n",
       "        vertical-align: top;\n",
       "    }\n",
       "\n",
       "    .dataframe thead th {\n",
       "        text-align: right;\n",
       "    }\n",
       "</style>\n",
       "<table border=\"1\" class=\"dataframe\">\n",
       "  <thead>\n",
       "    <tr style=\"text-align: right;\">\n",
       "      <th></th>\n",
       "      <th>Brand</th>\n",
       "      <th>Total_devices</th>\n",
       "    </tr>\n",
       "  </thead>\n",
       "  <tbody>\n",
       "    <tr>\n",
       "      <th>24</th>\n",
       "      <td>Samsung</td>\n",
       "      <td>106</td>\n",
       "    </tr>\n",
       "  </tbody>\n",
       "</table>\n",
       "</div>"
      ],
      "text/plain": [
       "      Brand  Total_devices\n",
       "24  Samsung            106"
      ]
     },
     "execution_count": 6,
     "metadata": {},
     "output_type": "execute_result"
    }
   ],
   "source": [
    "temp = df[df['device_year']=='2010']\n",
    "temp = temp[['Brand','Device_id']].groupby('Brand', as_index=False).count().sort_values('Device_id', ascending=False).rename(columns={'Device_id':'Total_devices'})\n",
    "temp.head(1)"
   ]
  },
  {
   "cell_type": "markdown",
   "id": "operational-walker",
   "metadata": {},
   "source": [
    "<a id=\"q3\"></a>\n",
    "\n",
    "### Top 5 marcas por número de dispositivos"
   ]
  },
  {
   "cell_type": "code",
   "execution_count": 7,
   "id": "natural-welsh",
   "metadata": {},
   "outputs": [
    {
     "data": {
      "text/html": [
       "<div>\n",
       "<style scoped>\n",
       "    .dataframe tbody tr th:only-of-type {\n",
       "        vertical-align: middle;\n",
       "    }\n",
       "\n",
       "    .dataframe tbody tr th {\n",
       "        vertical-align: top;\n",
       "    }\n",
       "\n",
       "    .dataframe thead th {\n",
       "        text-align: right;\n",
       "    }\n",
       "</style>\n",
       "<table border=\"1\" class=\"dataframe\">\n",
       "  <thead>\n",
       "    <tr style=\"text-align: right;\">\n",
       "      <th></th>\n",
       "      <th>Brand</th>\n",
       "      <th>Total_devices</th>\n",
       "    </tr>\n",
       "  </thead>\n",
       "  <tbody>\n",
       "    <tr>\n",
       "      <th>76</th>\n",
       "      <td>Samsung</td>\n",
       "      <td>1105</td>\n",
       "    </tr>\n",
       "    <tr>\n",
       "      <th>42</th>\n",
       "      <td>LG</td>\n",
       "      <td>591</td>\n",
       "    </tr>\n",
       "    <tr>\n",
       "      <th>59</th>\n",
       "      <td>Nokia</td>\n",
       "      <td>446</td>\n",
       "    </tr>\n",
       "    <tr>\n",
       "      <th>55</th>\n",
       "      <td>Motorola</td>\n",
       "      <td>443</td>\n",
       "    </tr>\n",
       "    <tr>\n",
       "      <th>103</th>\n",
       "      <td>alcatel</td>\n",
       "      <td>360</td>\n",
       "    </tr>\n",
       "  </tbody>\n",
       "</table>\n",
       "</div>"
      ],
      "text/plain": [
       "        Brand  Total_devices\n",
       "76    Samsung           1105\n",
       "42         LG            591\n",
       "59      Nokia            446\n",
       "55   Motorola            443\n",
       "103   alcatel            360"
      ]
     },
     "execution_count": 7,
     "metadata": {},
     "output_type": "execute_result"
    }
   ],
   "source": [
    "temp = df[['Brand','Device_id']].groupby('Brand', as_index=False).count().sort_values('Device_id', ascending=False).rename(columns={'Device_id':'Total_devices'})\n",
    "temp.head()"
   ]
  },
  {
   "cell_type": "markdown",
   "id": "latin-tragedy",
   "metadata": {},
   "source": [
    "<a id=\"q4\"></a>\n",
    "### ¿Dispositivo con más RAM?\n",
    "La columna RAM viene especialmente sucia, ya que a veces contiene el dato de la ROM (almacenamiento del dispositivo), a veces contiene la RAM y la ROM separadas por un |, y otras veces vienen varias configuraciones de RAM.\n",
    "Por tanto, para extraer el dispositivo con más memoria RAM hay que:\n",
    "\n",
    "- Evitar contabilizar la ROM como memoria RAM\n",
    "- Seleccionar la mayor de las configuraciones RAM\n",
    "- Evitar otros problemas como que aparezca un número anormalmente elevado para una memoria RAM (Ejemplo una fila con el número 256 sin indicar si son kb, mb o gb)"
   ]
  },
  {
   "cell_type": "code",
   "execution_count": 8,
   "id": "sized-travel",
   "metadata": {},
   "outputs": [],
   "source": [
    "# Lo primero que vamos a hacer es separar la columna RAM en varias si contiene el delimitador |\n",
    "# Esto se debe a que un dispositivo puede tener diferentes configuraciones de RAM (normalmente hasta 3)\n",
    "df['RAM2'] =  df['RAM'].str.split('|').str[-1]\n",
    "df['RAM3'] =  df['RAM2'].str.split('|').str[-1]\n",
    "\n",
    "# Lista donde almacenaremos la ram de cada dispositivo\n",
    "device_ram1=[]\n",
    "device_ram2=[]\n",
    "device_ram3=[]\n",
    "list_new_col_ram = [device_ram1, device_ram2, device_ram3]\n",
    "list_col_ram = ['RAM','RAM2','RAM3']\n",
    "# Bucle que recorerá cada valor de la columna ram e intentará extraer la cantidad de RAM descartando la ROM\n",
    "for col_ram, new_col_ram  in zip(list_col_ram, list_new_col_ram):\n",
    "    for i in df[col_ram].values:\n",
    "        if ('ROM' in i) & ('RAM' in i):\n",
    "            pos_ram = i.find('RAM') - 1\n",
    "            pos_rom = i.find('ROM') - 1\n",
    "            if pos_ram < pos_rom:\n",
    "                new_col_ram.append(i[:pos_ram])\n",
    "            elif pos_ram > pos_rom:\n",
    "                pos_rom_2 = i.find('ROM') + 4\n",
    "                new_col_ram.append(i[pos_rom_2:pos_ram])\n",
    "            else:\n",
    "                new_col_ram.append(i)\n",
    "        elif ('RAM' in i):\n",
    "            pos_ram = i.find('RAM') - 1\n",
    "            new_col_ram.append(i[:pos_ram])\n",
    "        else:\n",
    "            new_col_ram.append('')\n",
    "\n",
    "# Generamos las tres nuevas columnas de RAM\n",
    "df['device_ram1'] = device_ram1\n",
    "df['device_ram2'] = device_ram2\n",
    "df['device_ram3'] = device_ram3"
   ]
  },
  {
   "cell_type": "code",
   "execution_count": 9,
   "id": "resistant-retro",
   "metadata": {
    "collapsed": true,
    "jupyter": {
     "outputs_hidden": true
    }
   },
   "outputs": [
    {
     "name": "stderr",
     "output_type": "stream",
     "text": [
      "<ipython-input-9-ec9db5ed488a>:38: SettingWithCopyWarning:\n",
      "\n",
      "\n",
      "A value is trying to be set on a copy of a slice from a DataFrame.\n",
      "Try using .loc[row_indexer,col_indexer] = value instead\n",
      "\n",
      "See the caveats in the documentation: http://pandas.pydata.org/pandas-docs/stable/user_guide/indexing.html#returning-a-view-versus-a-copy\n",
      "\n",
      "<ipython-input-9-ec9db5ed488a>:39: SettingWithCopyWarning:\n",
      "\n",
      "\n",
      "A value is trying to be set on a copy of a slice from a DataFrame.\n",
      "Try using .loc[row_indexer,col_indexer] = value instead\n",
      "\n",
      "See the caveats in the documentation: http://pandas.pydata.org/pandas-docs/stable/user_guide/indexing.html#returning-a-view-versus-a-copy\n",
      "\n",
      "<ipython-input-9-ec9db5ed488a>:40: SettingWithCopyWarning:\n",
      "\n",
      "\n",
      "A value is trying to be set on a copy of a slice from a DataFrame.\n",
      "Try using .loc[row_indexer,col_indexer] = value instead\n",
      "\n",
      "See the caveats in the documentation: http://pandas.pydata.org/pandas-docs/stable/user_guide/indexing.html#returning-a-view-versus-a-copy\n",
      "\n",
      "<ipython-input-9-ec9db5ed488a>:41: SettingWithCopyWarning:\n",
      "\n",
      "\n",
      "A value is trying to be set on a copy of a slice from a DataFrame.\n",
      "Try using .loc[row_indexer,col_indexer] = value instead\n",
      "\n",
      "See the caveats in the documentation: http://pandas.pydata.org/pandas-docs/stable/user_guide/indexing.html#returning-a-view-versus-a-copy\n",
      "\n"
     ]
    }
   ],
   "source": [
    "# Ahora que ya hemos limpiado los casos que contiene ROM  y los dispositivos con varias configuraciones.\n",
    "# Vamos a extraer el número de las filas que contengan GB y nos quedaremos con el máximo de las tres columnas.\n",
    "\n",
    "temp = df[(df['device_ram1'].str.contains('GB')) | (df['device_ram2'].str.contains('GB')) | (df['device_ram3'].str.contains('GB'))]\n",
    "\n",
    "# Función para extraer el mayor número de una string\n",
    "def findLargestNumber(text):\n",
    "    ls = list()\n",
    "    for w in text.split():\n",
    "        try:\n",
    "            ls.append(int(w))\n",
    "        except:\n",
    "            pass\n",
    "    try:\n",
    "        return max(ls)\n",
    "    except:\n",
    "        return 0\n",
    "\n",
    "# Listas donde almacenaremos el número de gb\n",
    "device_ram_gb_number_1 = []\n",
    "device_ram_gb_number_2 = []\n",
    "device_ram_gb_number_3 = []\n",
    "list_device_gb_number = [device_ram_gb_number_1, device_ram_gb_number_2, device_ram_gb_number_3]\n",
    "\n",
    "# Lista de columnas que queremos recorrer\n",
    "list_col_device_ram = ['device_ram1','device_ram2','device_ram3']\n",
    "\n",
    "# Bucle que extraer el máximo número entero de cada columna\n",
    "for device_ram, device_number_ram in zip(list_col_device_ram, list_device_gb_number):\n",
    "    for i in temp[device_ram].values:\n",
    "        num = findLargestNumber(i)\n",
    "        if num > 9:\n",
    "            device_number_ram.append(None)\n",
    "        else:\n",
    "            device_number_ram.append(findLargestNumber(i))\n",
    "\n",
    "\n",
    "temp['device_ram_gb_number1'] = device_ram_gb_number_1\n",
    "temp['device_ram_gb_number2'] = device_ram_gb_number_2\n",
    "temp['device_ram_gb_number3'] = device_ram_gb_number_3\n",
    "temp['RAM_GB'] = temp[['device_ram_gb_number1', 'device_ram_gb_number2', 'device_ram_gb_number3']].max(axis=1)\n",
    "# temp.sort_values('device_ram_gb_number', ascending=False)[['Brand','Model','device_year','RAM','device_ram_gb_number']].head(10)"
   ]
  },
  {
   "cell_type": "code",
   "execution_count": 10,
   "id": "respiratory-version",
   "metadata": {},
   "outputs": [
    {
     "data": {
      "text/html": [
       "<div>\n",
       "<style scoped>\n",
       "    .dataframe tbody tr th:only-of-type {\n",
       "        vertical-align: middle;\n",
       "    }\n",
       "\n",
       "    .dataframe tbody tr th {\n",
       "        vertical-align: top;\n",
       "    }\n",
       "\n",
       "    .dataframe thead th {\n",
       "        text-align: right;\n",
       "    }\n",
       "</style>\n",
       "<table border=\"1\" class=\"dataframe\">\n",
       "  <thead>\n",
       "    <tr style=\"text-align: right;\">\n",
       "      <th></th>\n",
       "      <th>Brand</th>\n",
       "      <th>Model</th>\n",
       "      <th>RAM</th>\n",
       "      <th>device_ram1</th>\n",
       "      <th>device_ram2</th>\n",
       "      <th>device_ram3</th>\n",
       "      <th>RAM_GB</th>\n",
       "    </tr>\n",
       "  </thead>\n",
       "  <tbody>\n",
       "    <tr>\n",
       "      <th>2</th>\n",
       "      <td>OnePlus</td>\n",
       "      <td>_5</td>\n",
       "      <td>6 GB RAM or 128 GB| 8 GB RAM</td>\n",
       "      <td>6 GB</td>\n",
       "      <td>8 GB</td>\n",
       "      <td>8 GB</td>\n",
       "      <td>8.0</td>\n",
       "    </tr>\n",
       "    <tr>\n",
       "      <th>5272</th>\n",
       "      <td>ZTE</td>\n",
       "      <td>_nubia Z17</td>\n",
       "      <td>6 GB RAM or 128 GB| 8 GB RAM</td>\n",
       "      <td>6 GB</td>\n",
       "      <td>8 GB</td>\n",
       "      <td>8 GB</td>\n",
       "      <td>8.0</td>\n",
       "    </tr>\n",
       "    <tr>\n",
       "      <th>6237</th>\n",
       "      <td>Oppo</td>\n",
       "      <td>_R9s Plus</td>\n",
       "      <td>6 GB RAM</td>\n",
       "      <td>6 GB</td>\n",
       "      <td>6 GB</td>\n",
       "      <td>6 GB</td>\n",
       "      <td>6.0</td>\n",
       "    </tr>\n",
       "    <tr>\n",
       "      <th>1871</th>\n",
       "      <td>Coolpad</td>\n",
       "      <td>_Cool S1</td>\n",
       "      <td>4 GB RAM or 128 GB| 6 GB RAM</td>\n",
       "      <td>4 GB</td>\n",
       "      <td>6 GB</td>\n",
       "      <td>6 GB</td>\n",
       "      <td>6.0</td>\n",
       "    </tr>\n",
       "    <tr>\n",
       "      <th>1202</th>\n",
       "      <td>ZTE</td>\n",
       "      <td>_Axon 7s</td>\n",
       "      <td>6 GB RAM</td>\n",
       "      <td>6 GB</td>\n",
       "      <td>6 GB</td>\n",
       "      <td>6 GB</td>\n",
       "      <td>6.0</td>\n",
       "    </tr>\n",
       "  </tbody>\n",
       "</table>\n",
       "</div>"
      ],
      "text/plain": [
       "        Brand       Model                           RAM device_ram1  \\\n",
       "2     OnePlus          _5  6 GB RAM or 128 GB| 8 GB RAM        6 GB   \n",
       "5272      ZTE  _nubia Z17  6 GB RAM or 128 GB| 8 GB RAM        6 GB   \n",
       "6237     Oppo   _R9s Plus                      6 GB RAM        6 GB   \n",
       "1871  Coolpad    _Cool S1  4 GB RAM or 128 GB| 6 GB RAM        4 GB   \n",
       "1202      ZTE    _Axon 7s                      6 GB RAM        6 GB   \n",
       "\n",
       "     device_ram2 device_ram3  RAM_GB  \n",
       "2           8 GB        8 GB     8.0  \n",
       "5272        8 GB        8 GB     8.0  \n",
       "6237        6 GB        6 GB     6.0  \n",
       "1871        6 GB        6 GB     6.0  \n",
       "1202        6 GB        6 GB     6.0  "
      ]
     },
     "execution_count": 10,
     "metadata": {},
     "output_type": "execute_result"
    }
   ],
   "source": [
    "temp[['Brand', 'Model', 'RAM','device_ram1','device_ram2','device_ram3','RAM_GB']].sort_values('RAM_GB', ascending=False).head()"
   ]
  }
 ],
 "metadata": {
  "kernelspec": {
   "display_name": "Python 3",
   "language": "python",
   "name": "python3"
  },
  "language_info": {
   "codemirror_mode": {
    "name": "ipython",
    "version": 3
   },
   "file_extension": ".py",
   "mimetype": "text/x-python",
   "name": "python",
   "nbconvert_exporter": "python",
   "pygments_lexer": "ipython3",
   "version": "3.8.8"
  }
 },
 "nbformat": 4,
 "nbformat_minor": 5
}
