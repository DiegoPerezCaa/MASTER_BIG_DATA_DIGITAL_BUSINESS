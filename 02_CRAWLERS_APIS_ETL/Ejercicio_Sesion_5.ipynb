{
 "cells": [
  {
   "cell_type": "code",
   "execution_count": 1,
   "id": "stainless-academy",
   "metadata": {},
   "outputs": [],
   "source": [
    "import json\n",
    "import urllib\n",
    "from opencage.geocoder import OpenCageGeocode"
   ]
  },
  {
   "cell_type": "code",
   "execution_count": 2,
   "id": "pregnant-defense",
   "metadata": {},
   "outputs": [],
   "source": [
    "# Claves\n",
    "owm_key = 'ad4906e30e39b8e5b1d68504ec70b547'\n",
    "ocg_key = '14cba5259e444d23ab2a9cccee238a20'"
   ]
  },
  {
   "cell_type": "markdown",
   "id": "civil-category",
   "metadata": {},
   "source": [
    "SE PIDE:\n",
    "Programar un código en Python que solicite al usuario introducir una dirección y devuelva la temperatura mínima, media y máxima (en grados centígrados) de dicha dirección, utilizando las dos APIs anteriores. Para ello:\n",
    "1) Lee detenidamente la documentación de ambas APIs y obtén la autenticación en cada una de ellas.\n",
    "\n",
    "2) Transforma la dirección a coordenadas geográficas utilizando la API de OpenCage.\n",
    "\n",
    "3) Utiliza las coordenadas obtenidas en el paso anterior como parámetro para llamar a la API de OpenWeather y obtener las temperaturas deseadas. "
   ]
  },
  {
   "cell_type": "code",
   "execution_count": 3,
   "id": "latest-allen",
   "metadata": {},
   "outputs": [
    {
     "name": "stdin",
     "output_type": "stream",
     "text": [
      "Introduzca la dirección (Ejemplo: Plaza Clarin 7, Rivas-Vaciamadrid, Madrid, España):  Calle Juan Ignacio Luca de Tena 13, Madrid, España\n"
     ]
    },
    {
     "name": "stdout",
     "output_type": "stream",
     "text": [
      "https://api.openweathermap.org/data/2.5/weather?lat=40.4978885&lon=-3.3690279&units=metric&lang=sp&appid=ad4906e30e39b8e5b1d68504ec70b547\n",
      "Temperatura actual: 11.58\n",
      "temperatura mínima: 10\n",
      "temperatura máxima: 12.78\n"
     ]
    }
   ],
   "source": [
    "geocoder = OpenCageGeocode(ocg_key)\n",
    "\n",
    "query = input('Introduzca la dirección (Ejemplo: Plaza Clarin 7, Rivas-Vaciamadrid, Madrid, España): ')\n",
    "results = geocoder.geocode(query)\n",
    "\n",
    "\n",
    "latitud = str(results[0]['geometry']['lat'])\n",
    "longitud = str(results[0]['geometry']['lng'])\n",
    "\n",
    "url = 'https://api.openweathermap.org/data/2.5/weather?lat=' + latitud + '&lon=' + longitud + '&units=metric' + '&lang=sp' +'&appid=' + owm_key \n",
    "print(url)\n",
    "\n",
    "data = urllib.request.urlopen(url).read()\n",
    "\n",
    "js = json.loads(data)\n",
    "\n",
    "print ('Temperatura actual: ' + str(js['main']['temp']))\n",
    "print ('temperatura mínima: ' + str(js['main']['temp_min']))\n",
    "print ('temperatura máxima: ' + str(js['main']['temp_max']))"
   ]
  }
 ],
 "metadata": {
  "kernelspec": {
   "display_name": "Python 3",
   "language": "python",
   "name": "python3"
  },
  "language_info": {
   "codemirror_mode": {
    "name": "ipython",
    "version": 3
   },
   "file_extension": ".py",
   "mimetype": "text/x-python",
   "name": "python",
   "nbconvert_exporter": "python",
   "pygments_lexer": "ipython3",
   "version": "3.8.8"
  }
 },
 "nbformat": 4,
 "nbformat_minor": 5
}
