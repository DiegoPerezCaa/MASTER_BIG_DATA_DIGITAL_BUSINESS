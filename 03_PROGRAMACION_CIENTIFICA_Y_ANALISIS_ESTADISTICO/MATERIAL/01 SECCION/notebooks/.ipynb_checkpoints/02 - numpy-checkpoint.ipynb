{
 "cells": [
  {
   "cell_type": "markdown",
   "metadata": {},
   "source": [
    "# Notebooks\n",
    "\n"
   ]
  },
  {
   "cell_type": "markdown",
   "metadata": {},
   "source": [
    "Esto es una celda de Markdown por eso su borde izquierdo es azul\n",
    "# Esto es un título grande\n",
    "## Esto es un título más pequeño\n",
    "### Esto es un título aún más pequeño\n",
    "*Esto está en cursiva*\n",
    "\n",
    "**Esto está en negrita**\n",
    "\n",
    "Esto es una enumeración:\n",
    "1. qwe\n",
    "2. ert\n",
    "\n",
    "Esto es una lista de objetos no numerados:\n",
    "- qwe\n",
    "- ert\n",
    "\n",
    "Esto es una fórmula de Latex:\n",
    "$$p(x)=\\sum_{i=1}^n \\dfrac{1}{n} \\int \\log x dx$$\n",
    "\n",
    "Para ejecutra esta celda pulsa **CTRL+ENTER** Ó **SHIFT+ENTER** si quieres seguir con la siguiente tras ejecutarla.\n",
    "Es cómodo e importante conocer los shortcuts cuyo enlace se ha dado antes"
   ]
  },
  {
   "cell_type": "code",
   "execution_count": 1,
   "metadata": {},
   "outputs": [
    {
     "data": {
      "text/plain": [
       "(9, 12, [5, 7, 5, 7, 5, 7, 5, 7])"
      ]
     },
     "execution_count": 1,
     "metadata": {},
     "output_type": "execute_result"
    }
   ],
   "source": [
    "#esto es una celda de código, por eso su borde es verde\n",
    "3**2,5+7,[5,7]*4"
   ]
  },
  {
   "cell_type": "code",
   "execution_count": 2,
   "metadata": {},
   "outputs": [
    {
     "name": "stdout",
     "output_type": "stream",
     "text": [
      "Python 3.5.3 :: Anaconda custom (64-bit)\r\n"
     ]
    }
   ],
   "source": [
    "#comprobamos la versión de python\n",
    "!python -V"
   ]
  },
  {
   "cell_type": "code",
   "execution_count": 3,
   "metadata": {},
   "outputs": [
    {
     "data": {
      "text/plain": [
       "'/home/infinitemonkeys/Documents/EOI Tenerife/Tema 1/Sección 1/notebooks'"
      ]
     },
     "execution_count": 3,
     "metadata": {},
     "output_type": "execute_result"
    }
   ],
   "source": [
    "%pwd # en qué carpeta estamos"
   ]
  },
  {
   "cell_type": "markdown",
   "metadata": {},
   "source": [
    "# Numpy"
   ]
  },
  {
   "cell_type": "code",
   "execution_count": 4,
   "metadata": {},
   "outputs": [
    {
     "name": "stdout",
     "output_type": "stream",
     "text": [
      "buenas\n"
     ]
    },
    {
     "data": {
      "text/plain": [
       "array([  1.  ,   2.25,   4.  ,   6.25,   9.  ,  12.25,  16.  ,  20.25,\n",
       "        25.  ,  30.25,  36.  ,  42.25,  49.  ,  56.25,  64.  ,  72.25,\n",
       "        81.  ,  90.25])"
      ]
     },
     "execution_count": 4,
     "metadata": {},
     "output_type": "execute_result"
    }
   ],
   "source": [
    "import numpy as np\n",
    "print('buenas')\n",
    "np.arange(1,10,0.5)**2"
   ]
  },
  {
   "cell_type": "code",
   "execution_count": 5,
   "metadata": {},
   "outputs": [
    {
     "name": "stdout",
     "output_type": "stream",
     "text": [
      "[[1 2]\n",
      " [0 4]\n",
      " [5 6]]\n",
      "(3, 2)\n",
      "[5 6]\n",
      "[2 4 6]\n",
      "6\n"
     ]
    }
   ],
   "source": [
    "A=np.array([[1.1,2.7],[3/9,4.123],[5,6]],dtype=np.int64)\n",
    "print(A)\n",
    "print(A.shape)\n",
    "print(A[2,])\n",
    "print(A[:,1])\n",
    "print(A[2,1])"
   ]
  },
  {
   "cell_type": "code",
   "execution_count": 6,
   "metadata": {},
   "outputs": [
    {
     "data": {
      "text/plain": [
       "dtype('int64')"
      ]
     },
     "execution_count": 6,
     "metadata": {},
     "output_type": "execute_result"
    }
   ],
   "source": [
    "A.dtype"
   ]
  },
  {
   "cell_type": "code",
   "execution_count": 7,
   "metadata": {},
   "outputs": [
    {
     "data": {
      "text/plain": [
       "2"
      ]
     },
     "execution_count": 7,
     "metadata": {},
     "output_type": "execute_result"
    }
   ],
   "source": [
    "A.ndim"
   ]
  },
  {
   "cell_type": "code",
   "execution_count": 8,
   "metadata": {},
   "outputs": [
    {
     "name": "stdout",
     "output_type": "stream",
     "text": [
      "float64\n"
     ]
    },
    {
     "data": {
      "text/plain": [
       "array([[ 1.1       ,  2.7       ],\n",
       "       [ 0.33333333,  4.123     ],\n",
       "       [ 5.        ,  6.        ]])"
      ]
     },
     "execution_count": 8,
     "metadata": {},
     "output_type": "execute_result"
    }
   ],
   "source": [
    "A=np.array([[1.1,2.7],[3/9,4.123],[5,6]])\n",
    "print(A.dtype)\n",
    "A"
   ]
  },
  {
   "cell_type": "code",
   "execution_count": 9,
   "metadata": {},
   "outputs": [
    {
     "data": {
      "text/plain": [
       "array([[1, 2],\n",
       "       [0, 4],\n",
       "       [5, 6]])"
      ]
     },
     "execution_count": 9,
     "metadata": {},
     "output_type": "execute_result"
    }
   ],
   "source": [
    "A.astype('int')"
   ]
  },
  {
   "cell_type": "code",
   "execution_count": 10,
   "metadata": {},
   "outputs": [
    {
     "data": {
      "text/plain": [
       "array([[  1.21      ,   7.29      ],\n",
       "       [  0.11111111,  16.999129  ],\n",
       "       [ 25.        ,  36.        ]])"
      ]
     },
     "execution_count": 10,
     "metadata": {},
     "output_type": "execute_result"
    }
   ],
   "source": [
    "A*A"
   ]
  },
  {
   "cell_type": "code",
   "execution_count": 11,
   "metadata": {},
   "outputs": [
    {
     "data": {
      "text/plain": [
       "array([[ 0.90909091,  0.37037037],\n",
       "       [ 3.        ,  0.24254184],\n",
       "       [ 0.2       ,  0.16666667]])"
      ]
     },
     "execution_count": 11,
     "metadata": {},
     "output_type": "execute_result"
    }
   ],
   "source": [
    "1/A"
   ]
  },
  {
   "cell_type": "code",
   "execution_count": 12,
   "metadata": {},
   "outputs": [
    {
     "data": {
      "text/plain": [
       "array([[ 0.,  0.],\n",
       "       [ 0.,  0.],\n",
       "       [ 0.,  0.]])"
      ]
     },
     "execution_count": 12,
     "metadata": {},
     "output_type": "execute_result"
    }
   ],
   "source": [
    "A-A"
   ]
  },
  {
   "cell_type": "code",
   "execution_count": 13,
   "metadata": {},
   "outputs": [
    {
     "data": {
      "text/plain": [
       "array([[  1.21      ,   7.29      ],\n",
       "       [  0.11111111,  16.999129  ],\n",
       "       [ 25.        ,  36.        ]])"
      ]
     },
     "execution_count": 13,
     "metadata": {},
     "output_type": "execute_result"
    }
   ],
   "source": [
    "A**2"
   ]
  },
  {
   "cell_type": "code",
   "execution_count": 14,
   "metadata": {},
   "outputs": [
    {
     "name": "stdout",
     "output_type": "stream",
     "text": [
      "[[ 1.1         2.7         0.33333333]\n",
      " [ 4.123       5.          6.        ]]\n",
      "\n",
      "[[ 1.1         0.33333333  5.        ]\n",
      " [ 2.7         4.123       6.        ]]\n",
      "\n",
      "[[ 26.32111111  34.34433333]\n",
      " [ 34.34433333  60.289129  ]]\n",
      "\n",
      "(2, 2)\n"
     ]
    }
   ],
   "source": [
    "print(A.reshape(2,3))\n",
    "print()\n",
    "print(A.T)\n",
    "print()\n",
    "B=np.dot(A.T,A) #producto matricial\n",
    "print(B)\n",
    "print()\n",
    "print(B.shape)"
   ]
  },
  {
   "cell_type": "code",
   "execution_count": 15,
   "metadata": {},
   "outputs": [
    {
     "data": {
      "text/plain": [
       "array([ 1.1       ,  2.7       ,  0.33333333,  4.123     ,  5.        ,  6.        ])"
      ]
     },
     "execution_count": 15,
     "metadata": {},
     "output_type": "execute_result"
    }
   ],
   "source": [
    "A.ravel()"
   ]
  },
  {
   "cell_type": "code",
   "execution_count": 16,
   "metadata": {},
   "outputs": [
    {
     "name": "stdout",
     "output_type": "stream",
     "text": [
      "(4, 3, 4)\n",
      "\n",
      "3\n"
     ]
    }
   ],
   "source": [
    "H=np.random.randn(4,3,4)\n",
    "print(H.shape)\n",
    "print()\n",
    "print(H.ndim)"
   ]
  },
  {
   "cell_type": "code",
   "execution_count": 17,
   "metadata": {},
   "outputs": [
    {
     "name": "stdout",
     "output_type": "stream",
     "text": [
      "[  0.    0.5   1.    1.5   2.    2.5   3.    3.5   4.    4.5   5.    5.5\n",
      "   6.    6.5   7.    7.5   8.    8.5   9.    9.5  10. ]\n",
      "\n",
      "[ 0.   0.5  1.   1.5  2.   2.5  3.   3.5  4.   4.5  5.   5.5  6.   6.5  7.\n",
      "  7.5  8.   8.5  9.   9.5]\n",
      "\n",
      "[[ 0.  0.]\n",
      " [ 0.  0.]\n",
      " [ 0.  0.]]\n",
      "\n",
      "[[ 1.  1.  1.  1.  1.  1.  1.]\n",
      " [ 1.  1.  1.  1.  1.  1.  1.]]\n",
      "\n",
      "[  1.00000000e-03   7.74263683e-03   5.99484250e-02   4.64158883e-01\n",
      "   3.59381366e+00   2.78255940e+01   2.15443469e+02   1.66810054e+03\n",
      "   1.29154967e+04   1.00000000e+05]\n"
     ]
    }
   ],
   "source": [
    "#generadores de arrays\n",
    "print(np.linspace(0,10,21))\n",
    "print()\n",
    "print(np.arange(0,10,0.5))\n",
    "print()\n",
    "print(np.zeros((3,2)))\n",
    "print()\n",
    "print(np.ones((2,7)))\n",
    "print()\n",
    "print(np.logspace(-3,5,10))"
   ]
  },
  {
   "cell_type": "code",
   "execution_count": 18,
   "metadata": {},
   "outputs": [
    {
     "data": {
      "text/plain": [
       "array([[2, 0],\n",
       "       [0, 4]])"
      ]
     },
     "execution_count": 18,
     "metadata": {},
     "output_type": "execute_result"
    }
   ],
   "source": [
    "C = np.array( [[1,1],[0,1]] )\n",
    "B = np.array( [[2,0],[3,4]] )\n",
    "C*B                         # producto elemento por elemento"
   ]
  },
  {
   "cell_type": "markdown",
   "metadata": {},
   "source": [
    "Las funciones están en https://docs.scipy.org/doc/numpy/reference/routines.math.html"
   ]
  },
  {
   "cell_type": "code",
   "execution_count": 19,
   "metadata": {},
   "outputs": [
    {
     "name": "stdout",
     "output_type": "stream",
     "text": [
      "[[ 1.1         2.7       ]\n",
      " [ 0.33333333  4.123     ]\n",
      " [ 5.          6.        ]]\n",
      "\n",
      "[[ 0.45359612 -0.90407214]\n",
      " [ 0.94495695 -0.5558532 ]\n",
      " [ 0.28366219  0.96017029]] [[   3.00416602   14.87973172]\n",
      " [   1.39561243   61.74419729]\n",
      " [ 148.4131591   403.42879349]] [[ 0.09531018  0.99325177]\n",
      " [-1.09861229  1.41658105]\n",
      " [ 1.60943791  1.79175947]] [[ 0.04139269  0.43136376]\n",
      " [-0.47712125  0.61521333]\n",
      " [ 0.69897     0.77815125]] [[ 0.74193734  1.30833282]\n",
      " [ 0.28768207  1.6337402 ]\n",
      " [ 1.79175947  1.94591015]]\n",
      "\n",
      "[[  1.21         7.29      ]\n",
      " [  0.11111111  16.999129  ]\n",
      " [ 25.          36.        ]]\n",
      "\n",
      "[[ 2.1         3.7       ]\n",
      " [ 1.33333333  5.123     ]\n",
      " [ 6.          7.        ]]\n"
     ]
    }
   ],
   "source": [
    "print(A)\n",
    "print()\n",
    "print(np.cos(A),np.exp(A),np.log(A),np.log10(A),np.log1p(A))\n",
    "print()\n",
    "print(A**2)\n",
    "print()\n",
    "print(A+1)"
   ]
  },
  {
   "cell_type": "code",
   "execution_count": 20,
   "metadata": {},
   "outputs": [
    {
     "name": "stdout",
     "output_type": "stream",
     "text": [
      "[[ 0.0525907   0.88369265  0.85656195  0.22445899  0.85864392]\n",
      " [ 0.18497874  0.88089774  0.17358295  0.42557249  0.6096382 ]]\n"
     ]
    }
   ],
   "source": [
    "print(np.random.random((2,5)))"
   ]
  },
  {
   "cell_type": "markdown",
   "metadata": {},
   "source": [
    "Definimos la función $f(x)=\\dfrac{1}{1+\\exp{-x}}$ y la aplicamos en la matriz $A$ aplicando previamente la vectorzación con `np.vectorize`"
   ]
  },
  {
   "cell_type": "code",
   "execution_count": 21,
   "metadata": {},
   "outputs": [
    {
     "data": {
      "text/plain": [
       "0.95257412682243336"
      ]
     },
     "execution_count": 21,
     "metadata": {},
     "output_type": "execute_result"
    }
   ],
   "source": [
    "def mifunc(x):\n",
    "    return 1/(1+np.exp(-x))\n",
    "\n",
    "mifunc(3)"
   ]
  },
  {
   "cell_type": "code",
   "execution_count": 22,
   "metadata": {},
   "outputs": [
    {
     "data": {
      "text/plain": [
       "array([[ 0.75026011,  0.93702664],\n",
       "       [ 0.58257021,  0.98406227],\n",
       "       [ 0.99330715,  0.99752738]])"
      ]
     },
     "execution_count": 22,
     "metadata": {},
     "output_type": "execute_result"
    }
   ],
   "source": [
    "#vectorizamos y así se convierte en una función broadcast\n",
    "mifuncvec=np.vectorize(mifunc)\n",
    "mifuncvec(A)"
   ]
  },
  {
   "cell_type": "code",
   "execution_count": 23,
   "metadata": {},
   "outputs": [
    {
     "name": "stdout",
     "output_type": "stream",
     "text": [
      "3.141592653589793\n",
      "2.718281828459045\n"
     ]
    }
   ],
   "source": [
    "print(np.pi)\n",
    "print(np.e)"
   ]
  },
  {
   "cell_type": "code",
   "execution_count": 24,
   "metadata": {},
   "outputs": [
    {
     "data": {
      "text/plain": [
       "[0.7310585786300049,\n",
       " 0.81757447619364365,\n",
       " 0.88079707797788231,\n",
       " 0.92414181997875655,\n",
       " 0.95257412682243336,\n",
       " 0.97068776924864364]"
      ]
     },
     "execution_count": 24,
     "metadata": {},
     "output_type": "execute_result"
    }
   ],
   "source": [
    "[ mifunc(x) for x in np.arange(1,4,0.5)]"
   ]
  },
  {
   "cell_type": "code",
   "execution_count": 25,
   "metadata": {},
   "outputs": [
    {
     "data": {
      "text/plain": [
       "array([False,  True,  True, False,  True,  True,  True], dtype=bool)"
      ]
     },
     "execution_count": 25,
     "metadata": {},
     "output_type": "execute_result"
    }
   ],
   "source": [
    "x=np.array([1,3,5,2,4,3,7])\n",
    "x>2"
   ]
  },
  {
   "cell_type": "code",
   "execution_count": 26,
   "metadata": {},
   "outputs": [
    {
     "data": {
      "text/plain": [
       "array([3, 5, 4, 3, 7])"
      ]
     },
     "execution_count": 26,
     "metadata": {},
     "output_type": "execute_result"
    }
   ],
   "source": [
    "x[x>2]"
   ]
  },
  {
   "cell_type": "code",
   "execution_count": 27,
   "metadata": {},
   "outputs": [
    {
     "data": {
      "text/plain": [
       "(array([1, 2, 4, 5, 6]),)"
      ]
     },
     "execution_count": 27,
     "metadata": {},
     "output_type": "execute_result"
    }
   ],
   "source": [
    "np.where(x>2)"
   ]
  },
  {
   "cell_type": "code",
   "execution_count": 28,
   "metadata": {},
   "outputs": [
    {
     "data": {
      "text/plain": [
       "array([3, 5, 4, 3, 7])"
      ]
     },
     "execution_count": 28,
     "metadata": {},
     "output_type": "execute_result"
    }
   ],
   "source": [
    "x[np.where(x>2)]"
   ]
  },
  {
   "cell_type": "markdown",
   "metadata": {},
   "source": [
    "### Funciones integradas\n",
    "\n",
    "|Function Name      |   NaN-safe Version  | Description                                   |\n",
    "|-------------------|---------------------|-----------------------------------------------|\n",
    "| ``np.sum``        | ``np.nansum``       | Compute sum of elements                       |\n",
    "| ``np.prod``       | ``np.nanprod``      | Compute product of elements                   |\n",
    "| ``np.mean``       | ``np.nanmean``      | Compute median of elements                    |\n",
    "| ``np.std``        | ``np.nanstd``       | Compute standard deviation                    |\n",
    "| ``np.var``        | ``np.nanvar``       | Compute variance                              |\n",
    "| ``np.min``        | ``np.nanmin``       | Find minimum value                            |\n",
    "| ``np.max``        | ``np.nanmax``       | Find maximum value                            |\n",
    "| ``np.argmin``     | ``np.nanargmin``    | Find index of minimum value                   |\n",
    "| ``np.argmax``     | ``np.nanargmax``    | Find index of maximum value                   |\n",
    "| ``np.median``     | ``np.nanmedian``    | Compute median of elements                    |\n",
    "| ``np.percentile`` | ``np.nanpercentile``| Compute rank-based statistics of elements     |\n",
    "| ``np.any``        | N/A                 | Evaluate whether any elements are true        |\n",
    "| ``np.all``        | N/A                 | Evaluate whether all elements are true        |"
   ]
  },
  {
   "cell_type": "code",
   "execution_count": 29,
   "metadata": {},
   "outputs": [
    {
     "data": {
      "text/plain": [
       "(7, 6)"
      ]
     },
     "execution_count": 29,
     "metadata": {},
     "output_type": "execute_result"
    }
   ],
   "source": [
    "np.max(x),np.argmax(x)"
   ]
  },
  {
   "cell_type": "code",
   "execution_count": 30,
   "metadata": {},
   "outputs": [
    {
     "data": {
      "text/plain": [
       "(1, 0)"
      ]
     },
     "execution_count": 30,
     "metadata": {},
     "output_type": "execute_result"
    }
   ],
   "source": [
    "np.min(x), np.argmin(x)"
   ]
  },
  {
   "cell_type": "code",
   "execution_count": 31,
   "metadata": {},
   "outputs": [
    {
     "data": {
      "text/plain": [
       "array([1, 3, 5, 2, 4, 3, 7])"
      ]
     },
     "execution_count": 31,
     "metadata": {},
     "output_type": "execute_result"
    }
   ],
   "source": [
    "np.abs(x)"
   ]
  },
  {
   "cell_type": "code",
   "execution_count": 32,
   "metadata": {},
   "outputs": [
    {
     "data": {
      "text/plain": [
       "array([1, 1, 1, 1, 1, 1, 1])"
      ]
     },
     "execution_count": 32,
     "metadata": {},
     "output_type": "execute_result"
    }
   ],
   "source": [
    "np.sign(x)"
   ]
  },
  {
   "cell_type": "code",
   "execution_count": 33,
   "metadata": {},
   "outputs": [
    {
     "data": {
      "text/plain": [
       "False"
      ]
     },
     "execution_count": 33,
     "metadata": {},
     "output_type": "execute_result"
    }
   ],
   "source": [
    "np.all(x<2)"
   ]
  },
  {
   "cell_type": "code",
   "execution_count": 34,
   "metadata": {},
   "outputs": [
    {
     "data": {
      "text/plain": [
       "array([False, False,  True, False, False, False,  True], dtype=bool)"
      ]
     },
     "execution_count": 34,
     "metadata": {},
     "output_type": "execute_result"
    }
   ],
   "source": [
    "np.isclose(x,x+0.5e-4)"
   ]
  },
  {
   "cell_type": "code",
   "execution_count": 35,
   "metadata": {},
   "outputs": [
    {
     "data": {
      "text/plain": [
       "array([False, False], dtype=bool)"
      ]
     },
     "execution_count": 35,
     "metadata": {},
     "output_type": "execute_result"
    }
   ],
   "source": [
    "np.isclose([1.1,0.9],[1,1])"
   ]
  },
  {
   "cell_type": "code",
   "execution_count": 36,
   "metadata": {},
   "outputs": [
    {
     "data": {
      "text/plain": [
       "array([ True, False], dtype=bool)"
      ]
     },
     "execution_count": 36,
     "metadata": {},
     "output_type": "execute_result"
    }
   ],
   "source": [
    "np.isclose([1.000001,0.9999],[1,1])"
   ]
  },
  {
   "cell_type": "code",
   "execution_count": 37,
   "metadata": {},
   "outputs": [
    {
     "data": {
      "text/plain": [
       "(array([1, 2, 3, 4, 5, 7]), array([1, 1, 2, 1, 1, 1]))"
      ]
     },
     "execution_count": 37,
     "metadata": {},
     "output_type": "execute_result"
    }
   ],
   "source": [
    "np.unique(x,return_counts=True)"
   ]
  },
  {
   "cell_type": "code",
   "execution_count": 38,
   "metadata": {},
   "outputs": [
    {
     "data": {
      "text/plain": [
       "array([1, 1, 1, 1, 1])"
      ]
     },
     "execution_count": 38,
     "metadata": {},
     "output_type": "execute_result"
    }
   ],
   "source": [
    "np.bincount(np.arange(5))"
   ]
  },
  {
   "cell_type": "code",
   "execution_count": 39,
   "metadata": {},
   "outputs": [
    {
     "data": {
      "text/plain": [
       "array([1, 3, 1, 1, 0, 0, 0, 1])"
      ]
     },
     "execution_count": 39,
     "metadata": {},
     "output_type": "execute_result"
    }
   ],
   "source": [
    "np.bincount(np.array([0, 1, 1, 3, 2, 1, 7]))"
   ]
  },
  {
   "cell_type": "code",
   "execution_count": 40,
   "metadata": {},
   "outputs": [
    {
     "data": {
      "text/plain": [
       "array([ 1,  4,  9, 11, 15, 18, 25])"
      ]
     },
     "execution_count": 40,
     "metadata": {},
     "output_type": "execute_result"
    }
   ],
   "source": [
    "np.cumsum(x)"
   ]
  },
  {
   "cell_type": "code",
   "execution_count": 41,
   "metadata": {},
   "outputs": [
    {
     "data": {
      "text/plain": [
       "array([   1,    3,   15,   30,  120,  360, 2520])"
      ]
     },
     "execution_count": 41,
     "metadata": {},
     "output_type": "execute_result"
    }
   ],
   "source": [
    "np.cumprod(x)"
   ]
  },
  {
   "cell_type": "code",
   "execution_count": 42,
   "metadata": {},
   "outputs": [
    {
     "data": {
      "text/plain": [
       "array([[ 1,  2,  3,  4,  5],\n",
       "       [ 6,  7,  8,  9, 10],\n",
       "       [11, 12, 13, 14, 15],\n",
       "       [16, 17, 18, 19, 20]])"
      ]
     },
     "execution_count": 42,
     "metadata": {},
     "output_type": "execute_result"
    }
   ],
   "source": [
    "#aplicamos sobre matrices siguiendo un eje ó una condición\n",
    "A=np.arange(1,21).reshape(4,5)\n",
    "A"
   ]
  },
  {
   "cell_type": "code",
   "execution_count": 43,
   "metadata": {},
   "outputs": [
    {
     "data": {
      "text/plain": [
       "array([34, 38, 42, 46, 50])"
      ]
     },
     "execution_count": 43,
     "metadata": {},
     "output_type": "execute_result"
    }
   ],
   "source": [
    "np.sum(A,axis=0)"
   ]
  },
  {
   "cell_type": "code",
   "execution_count": 44,
   "metadata": {},
   "outputs": [
    {
     "data": {
      "text/plain": [
       "array([0, 4, 5, 5])"
      ]
     },
     "execution_count": 44,
     "metadata": {},
     "output_type": "execute_result"
    }
   ],
   "source": [
    "np.sum(A>6,axis=1)"
   ]
  },
  {
   "cell_type": "code",
   "execution_count": 45,
   "metadata": {},
   "outputs": [
    {
     "data": {
      "text/plain": [
       "array([ 5, 10, 15, 20])"
      ]
     },
     "execution_count": 45,
     "metadata": {},
     "output_type": "execute_result"
    }
   ],
   "source": [
    "np.max(A,axis=1)"
   ]
  },
  {
   "cell_type": "code",
   "execution_count": 46,
   "metadata": {},
   "outputs": [
    {
     "data": {
      "text/plain": [
       "array([False, False, False,  True,  True], dtype=bool)"
      ]
     },
     "execution_count": 46,
     "metadata": {},
     "output_type": "execute_result"
    }
   ],
   "source": [
    "np.any(A>=19,axis=0)"
   ]
  },
  {
   "cell_type": "markdown",
   "metadata": {},
   "source": [
    "# Evaluadores booleanos y ecuaciones"
   ]
  },
  {
   "cell_type": "code",
   "execution_count": 47,
   "metadata": {},
   "outputs": [
    {
     "data": {
      "text/plain": [
       "True"
      ]
     },
     "execution_count": 47,
     "metadata": {},
     "output_type": "execute_result"
    }
   ],
   "source": [
    "np.any([True,False,True])"
   ]
  },
  {
   "cell_type": "code",
   "execution_count": 48,
   "metadata": {},
   "outputs": [
    {
     "data": {
      "text/plain": [
       "(False, True)"
      ]
     },
     "execution_count": 48,
     "metadata": {},
     "output_type": "execute_result"
    }
   ],
   "source": [
    "np.all([True,False]), np.all([True,True])"
   ]
  },
  {
   "cell_type": "markdown",
   "metadata": {},
   "source": [
    "### Algunas funciones estadísticas"
   ]
  },
  {
   "cell_type": "code",
   "execution_count": 49,
   "metadata": {},
   "outputs": [
    {
     "data": {
      "text/plain": [
       "array([[ 1,  2,  3,  4,  5],\n",
       "       [ 6,  7,  8,  9, 10],\n",
       "       [11, 12, 13, 14, 15],\n",
       "       [16, 17, 18, 19, 20]])"
      ]
     },
     "execution_count": 49,
     "metadata": {},
     "output_type": "execute_result"
    }
   ],
   "source": [
    "A"
   ]
  },
  {
   "cell_type": "code",
   "execution_count": 50,
   "metadata": {},
   "outputs": [
    {
     "data": {
      "text/plain": [
       "10.5"
      ]
     },
     "execution_count": 50,
     "metadata": {},
     "output_type": "execute_result"
    }
   ],
   "source": [
    "np.mean(A)"
   ]
  },
  {
   "cell_type": "code",
   "execution_count": 51,
   "metadata": {},
   "outputs": [
    {
     "data": {
      "text/plain": [
       "array([  8.5,   9.5,  10.5,  11.5,  12.5])"
      ]
     },
     "execution_count": 51,
     "metadata": {},
     "output_type": "execute_result"
    }
   ],
   "source": [
    "np.mean(A,axis=0)"
   ]
  },
  {
   "cell_type": "code",
   "execution_count": 52,
   "metadata": {},
   "outputs": [
    {
     "data": {
      "text/plain": [
       "array([  3.,   8.,  13.,  18.])"
      ]
     },
     "execution_count": 52,
     "metadata": {},
     "output_type": "execute_result"
    }
   ],
   "source": [
    "np.mean(A,axis=1)"
   ]
  },
  {
   "cell_type": "code",
   "execution_count": 53,
   "metadata": {},
   "outputs": [
    {
     "data": {
      "text/plain": [
       "(array([ 5.59016994,  5.59016994,  5.59016994,  5.59016994,  5.59016994]),\n",
       " array([ 1.41421356,  1.41421356,  1.41421356,  1.41421356]))"
      ]
     },
     "execution_count": 53,
     "metadata": {},
     "output_type": "execute_result"
    }
   ],
   "source": [
    "np.std(A,axis=0),np.std(A,axis=1)"
   ]
  },
  {
   "cell_type": "code",
   "execution_count": 54,
   "metadata": {},
   "outputs": [
    {
     "data": {
      "text/plain": [
       "(array([  8.5,   9.5,  10.5,  11.5,  12.5]), array([  3.,   8.,  13.,  18.]))"
      ]
     },
     "execution_count": 54,
     "metadata": {},
     "output_type": "execute_result"
    }
   ],
   "source": [
    "np.median(A,axis=0),np.median(A,axis=1)"
   ]
  },
  {
   "cell_type": "code",
   "execution_count": 55,
   "metadata": {},
   "outputs": [
    {
     "data": {
      "text/plain": [
       "(array([[ 1.015,  2.015,  3.015,  4.015,  5.015],\n",
       "        [ 1.135,  2.135,  3.135,  4.135,  5.135]]),\n",
       " array([[ 1.015,  2.015,  3.015,  4.015,  5.015],\n",
       "        [ 1.135,  2.135,  3.135,  4.135,  5.135]]))"
      ]
     },
     "execution_count": 55,
     "metadata": {},
     "output_type": "execute_result"
    }
   ],
   "source": [
    "np.percentile(A,[0.1,0.9],axis=0) , np.percentile(A,[0.1,0.9],axis=0)"
   ]
  },
  {
   "cell_type": "markdown",
   "metadata": {},
   "source": [
    "### Operaciones entre arrays broadcast\n",
    "\n",
    "<img src='02.05-broadcasting.png'>\n",
    "\n",
    "\n",
    "Reglas de interacción entre arrays:\n",
    "\n",
    "1. Si los dos arrays tienen diferentes dimensiones, se rellena la dimensión del que sea inferior con unos por el lado izquierdo.\n",
    "2. Si ninguna dimensión de los dos arrays coincide, el que tenga alguna dimensión igual a 1 se reajusta para casa con las dimensiones del otro array. \n",
    "3. Si ninguna de las dimensiones coincide y ninguno de los arrays tiene una dimensión igual a 1 salta un error."
   ]
  },
  {
   "cell_type": "code",
   "execution_count": 56,
   "metadata": {},
   "outputs": [
    {
     "name": "stdout",
     "output_type": "stream",
     "text": [
      "[[0]\n",
      " [1]\n",
      " [2]] \n",
      "\n",
      "[0 1 2] \n",
      "\n"
     ]
    },
    {
     "data": {
      "text/plain": [
       "((3, 1), (3,))"
      ]
     },
     "execution_count": 56,
     "metadata": {},
     "output_type": "execute_result"
    }
   ],
   "source": [
    "a = np.arange(3).reshape((3, 1))\n",
    "b = np.arange(3)\n",
    "print(a, '\\n')\n",
    "print(b,'\\n')\n",
    "a.shape,b.shape"
   ]
  },
  {
   "cell_type": "code",
   "execution_count": 57,
   "metadata": {},
   "outputs": [
    {
     "data": {
      "text/plain": [
       "array([[0, 1, 2],\n",
       "       [1, 2, 3],\n",
       "       [2, 3, 4]])"
      ]
     },
     "execution_count": 57,
     "metadata": {},
     "output_type": "execute_result"
    }
   ],
   "source": [
    "a + b"
   ]
  },
  {
   "cell_type": "code",
   "execution_count": 58,
   "metadata": {},
   "outputs": [
    {
     "name": "stdout",
     "output_type": "stream",
     "text": [
      "[0 1 2] \n",
      "\n",
      "[[ 1.  1.]\n",
      " [ 1.  1.]\n",
      " [ 1.  1.]] \n",
      "\n"
     ]
    },
    {
     "data": {
      "text/plain": [
       "((3,), (3, 2))"
      ]
     },
     "execution_count": 58,
     "metadata": {},
     "output_type": "execute_result"
    }
   ],
   "source": [
    "M = np.ones((3, 2))\n",
    "a = np.arange(3)\n",
    "print(a, '\\n')\n",
    "print(M,'\\n')\n",
    "a.shape,M.shape"
   ]
  },
  {
   "cell_type": "code",
   "execution_count": 59,
   "metadata": {},
   "outputs": [
    {
     "ename": "ValueError",
     "evalue": "operands could not be broadcast together with shapes (3,2) (3,) ",
     "output_type": "error",
     "traceback": [
      "\u001b[0;31m---------------------------------------------------------------------------\u001b[0m",
      "\u001b[0;31mValueError\u001b[0m                                Traceback (most recent call last)",
      "\u001b[0;32m<ipython-input-59-15a3d2288d92>\u001b[0m in \u001b[0;36m<module>\u001b[0;34m()\u001b[0m\n\u001b[0;32m----> 1\u001b[0;31m \u001b[0mM\u001b[0m\u001b[0;34m+\u001b[0m\u001b[0ma\u001b[0m\u001b[0;34m\u001b[0m\u001b[0m\n\u001b[0m",
      "\u001b[0;31mValueError\u001b[0m: operands could not be broadcast together with shapes (3,2) (3,) "
     ]
    }
   ],
   "source": [
    "M+a"
   ]
  },
  {
   "cell_type": "code",
   "execution_count": null,
   "metadata": {
    "collapsed": true
   },
   "outputs": [],
   "source": [
    "A=np.arange(0,20).reshape(4,5)\n",
    "A"
   ]
  },
  {
   "cell_type": "code",
   "execution_count": null,
   "metadata": {
    "collapsed": true
   },
   "outputs": [],
   "source": [
    "B=np.array([3,2,1,4])\n",
    "C=np.array([-1,0,-1,0,-1])"
   ]
  },
  {
   "cell_type": "code",
   "execution_count": null,
   "metadata": {
    "collapsed": true
   },
   "outputs": [],
   "source": [
    "A+C"
   ]
  },
  {
   "cell_type": "code",
   "execution_count": null,
   "metadata": {
    "collapsed": true
   },
   "outputs": [],
   "source": [
    "A+B.reshape(4,1)"
   ]
  },
  {
   "cell_type": "code",
   "execution_count": null,
   "metadata": {
    "collapsed": true
   },
   "outputs": [],
   "source": [
    "C+B.reshape(4,1)"
   ]
  },
  {
   "cell_type": "code",
   "execution_count": null,
   "metadata": {
    "collapsed": true
   },
   "outputs": [],
   "source": [
    "A*C  "
   ]
  },
  {
   "cell_type": "code",
   "execution_count": null,
   "metadata": {
    "collapsed": true
   },
   "outputs": [],
   "source": [
    "np.sum(A,axis=0)"
   ]
  },
  {
   "cell_type": "code",
   "execution_count": null,
   "metadata": {
    "collapsed": true
   },
   "outputs": [],
   "source": [
    "np.sum(A,axis=1)"
   ]
  },
  {
   "cell_type": "markdown",
   "metadata": {},
   "source": [
    "## Unión y división  de arrays"
   ]
  },
  {
   "cell_type": "code",
   "execution_count": 60,
   "metadata": {},
   "outputs": [
    {
     "data": {
      "text/plain": [
       "array([[1, 2, 3],\n",
       "       [4, 5, 6]])"
      ]
     },
     "execution_count": 60,
     "metadata": {},
     "output_type": "execute_result"
    }
   ],
   "source": [
    "M=np.array([[1,2,3],[4,5,6]])\n",
    "M"
   ]
  },
  {
   "cell_type": "code",
   "execution_count": 61,
   "metadata": {},
   "outputs": [
    {
     "data": {
      "text/plain": [
       "array([[ 7,  8,  9],\n",
       "       [10, 11, 12]])"
      ]
     },
     "execution_count": 61,
     "metadata": {},
     "output_type": "execute_result"
    }
   ],
   "source": [
    "N=np.array([[7,8,9],[10,11,12]])\n",
    "N"
   ]
  },
  {
   "cell_type": "code",
   "execution_count": 62,
   "metadata": {},
   "outputs": [
    {
     "data": {
      "text/plain": [
       "array([[ 1,  2,  3,  7,  8,  9],\n",
       "       [ 4,  5,  6, 10, 11, 12]])"
      ]
     },
     "execution_count": 62,
     "metadata": {},
     "output_type": "execute_result"
    }
   ],
   "source": [
    "np.hstack((M,N))"
   ]
  },
  {
   "cell_type": "code",
   "execution_count": 63,
   "metadata": {},
   "outputs": [
    {
     "data": {
      "text/plain": [
       "array([[ 1,  2,  3],\n",
       "       [ 4,  5,  6],\n",
       "       [ 7,  8,  9],\n",
       "       [10, 11, 12]])"
      ]
     },
     "execution_count": 63,
     "metadata": {},
     "output_type": "execute_result"
    }
   ],
   "source": [
    "H=np.vstack((M,N))\n",
    "H"
   ]
  },
  {
   "cell_type": "code",
   "execution_count": 64,
   "metadata": {},
   "outputs": [
    {
     "data": {
      "text/plain": [
       "[array([[ 1,  2],\n",
       "        [ 4,  5],\n",
       "        [ 7,  8],\n",
       "        [10, 11]]), array([[ 3],\n",
       "        [ 6],\n",
       "        [ 9],\n",
       "        [12]])]"
      ]
     },
     "execution_count": 64,
     "metadata": {},
     "output_type": "execute_result"
    }
   ],
   "source": [
    "np.hsplit(H,[2])"
   ]
  },
  {
   "cell_type": "code",
   "execution_count": 65,
   "metadata": {},
   "outputs": [
    {
     "data": {
      "text/plain": [
       "[array([[1, 2, 3],\n",
       "        [4, 5, 6]]), array([[ 7,  8,  9],\n",
       "        [10, 11, 12]]), array([], shape=(0, 3), dtype=int64)]"
      ]
     },
     "execution_count": 65,
     "metadata": {},
     "output_type": "execute_result"
    }
   ],
   "source": [
    "np.vsplit(H,[2,4])"
   ]
  },
  {
   "cell_type": "markdown",
   "metadata": {},
   "source": [
    "## Indexación"
   ]
  },
  {
   "cell_type": "code",
   "execution_count": 66,
   "metadata": {},
   "outputs": [
    {
     "data": {
      "text/plain": [
       "array([[ 1,  2,  3,  4,  5],\n",
       "       [ 6,  7,  8,  9, 10],\n",
       "       [11, 12, 13, 14, 15],\n",
       "       [16, 17, 18, 19, 20]])"
      ]
     },
     "execution_count": 66,
     "metadata": {},
     "output_type": "execute_result"
    }
   ],
   "source": [
    "A"
   ]
  },
  {
   "cell_type": "code",
   "execution_count": 67,
   "metadata": {},
   "outputs": [
    {
     "data": {
      "text/plain": [
       "array([16, 17, 18, 19, 20])"
      ]
     },
     "execution_count": 67,
     "metadata": {},
     "output_type": "execute_result"
    }
   ],
   "source": [
    "A[3] #última fila"
   ]
  },
  {
   "cell_type": "code",
   "execution_count": 68,
   "metadata": {},
   "outputs": [
    {
     "data": {
      "text/plain": [
       "array([16, 17, 18, 19, 20])"
      ]
     },
     "execution_count": 68,
     "metadata": {},
     "output_type": "execute_result"
    }
   ],
   "source": [
    "A[3,:]"
   ]
  },
  {
   "cell_type": "code",
   "execution_count": 69,
   "metadata": {},
   "outputs": [
    {
     "data": {
      "text/plain": [
       "array([ 3,  8, 13, 18])"
      ]
     },
     "execution_count": 69,
     "metadata": {},
     "output_type": "execute_result"
    }
   ],
   "source": [
    "A[:,2] #tercera columna"
   ]
  },
  {
   "cell_type": "code",
   "execution_count": 70,
   "metadata": {},
   "outputs": [
    {
     "data": {
      "text/plain": [
       "array([16, 17, 18, 19, 20])"
      ]
     },
     "execution_count": 70,
     "metadata": {},
     "output_type": "execute_result"
    }
   ],
   "source": [
    "A[-1] #última fila"
   ]
  },
  {
   "cell_type": "code",
   "execution_count": 71,
   "metadata": {},
   "outputs": [
    {
     "data": {
      "text/plain": [
       "9"
      ]
     },
     "execution_count": 71,
     "metadata": {},
     "output_type": "execute_result"
    }
   ],
   "source": [
    "A[1,3] #posición 2x4"
   ]
  },
  {
   "cell_type": "code",
   "execution_count": 72,
   "metadata": {},
   "outputs": [
    {
     "data": {
      "text/plain": [
       "array([[ 2,  3,  4,  5],\n",
       "       [ 7,  8,  9, 10]])"
      ]
     },
     "execution_count": 72,
     "metadata": {},
     "output_type": "execute_result"
    }
   ],
   "source": [
    "A[:2,1:]"
   ]
  },
  {
   "cell_type": "code",
   "execution_count": 73,
   "metadata": {},
   "outputs": [
    {
     "data": {
      "text/plain": [
       "array([[ 6,  7],\n",
       "       [11, 12]])"
      ]
     },
     "execution_count": 73,
     "metadata": {},
     "output_type": "execute_result"
    }
   ],
   "source": [
    "A[1:3,:2]"
   ]
  },
  {
   "cell_type": "code",
   "execution_count": 74,
   "metadata": {},
   "outputs": [
    {
     "data": {
      "text/plain": [
       "array([[False, False, False, False, False],\n",
       "       [ True,  True,  True,  True,  True],\n",
       "       [ True, False, False, False, False],\n",
       "       [False, False, False, False, False]], dtype=bool)"
      ]
     },
     "execution_count": 74,
     "metadata": {},
     "output_type": "execute_result"
    }
   ],
   "source": [
    "(A>5) & (A<12) #índices usando booleanos"
   ]
  },
  {
   "cell_type": "code",
   "execution_count": 75,
   "metadata": {},
   "outputs": [
    {
     "data": {
      "text/plain": [
       "array([ 6,  7,  8,  9, 10, 11])"
      ]
     },
     "execution_count": 75,
     "metadata": {},
     "output_type": "execute_result"
    }
   ],
   "source": [
    "A[(A>5) & (A<12)]"
   ]
  },
  {
   "cell_type": "code",
   "execution_count": 76,
   "metadata": {},
   "outputs": [
    {
     "name": "stdout",
     "output_type": "stream",
     "text": [
      "[0 1 2 3 4 5 6 7 8 9]\n",
      "\n",
      "[ 0  1  2  3  4 12 12 12  8  9]\n"
     ]
    }
   ],
   "source": [
    "arr = np.arange(10)\n",
    "print(arr)\n",
    "print()\n",
    "\n",
    "arr[5:8] = 12\n",
    "print(arr)"
   ]
  },
  {
   "cell_type": "code",
   "execution_count": 77,
   "metadata": {},
   "outputs": [
    {
     "name": "stdout",
     "output_type": "stream",
     "text": [
      "[7 8 9]\n",
      "\n",
      "3\n",
      "\n",
      "3\n"
     ]
    }
   ],
   "source": [
    "#array 2 dimensional\n",
    "arr2d = np.array([[1, 2, 3], [4, 5, 6], [7, 8, 9]])\n",
    "print(arr2d[2])\n",
    "print()\n",
    "print(arr2d[0][2])\n",
    "print()\n",
    "print(arr2d[0, 2])"
   ]
  },
  {
   "cell_type": "code",
   "execution_count": 78,
   "metadata": {},
   "outputs": [
    {
     "name": "stdout",
     "output_type": "stream",
     "text": [
      "[[[ 1  2  3]\n",
      "  [ 4  5  6]]\n",
      "\n",
      " [[ 7  8  9]\n",
      "  [10 11 12]]] \n",
      "\n",
      "(2, 2, 3) \n",
      "\n",
      "[[1 2 3]\n",
      " [4 5 6]] \n",
      "\n",
      "[7 8 9]\n"
     ]
    }
   ],
   "source": [
    "#array 3 dimensional\n",
    "arr3d = np.array([[[1, 2, 3], [4, 5, 6]], [[7, 8, 9],\n",
    "[10, 11, 12]]])\n",
    "print(arr3d,'\\n')\n",
    "\n",
    "print(arr3d.shape,'\\n')\n",
    "\n",
    "print(arr3d[0],'\\n')\n",
    "\n",
    "\n",
    "old_values = arr3d[0].copy()\n",
    "arr3d[0] = 42\n",
    "print(arr3d[1, 0])"
   ]
  },
  {
   "cell_type": "code",
   "execution_count": 79,
   "metadata": {},
   "outputs": [
    {
     "data": {
      "text/plain": [
       "(7, 4)"
      ]
     },
     "execution_count": 79,
     "metadata": {},
     "output_type": "execute_result"
    }
   ],
   "source": [
    "#indexación usando booleanos que pueden proceder de otros arrays relacionados con la misma dimensión\n",
    "names = np.array(['Bob', 'Joe', 'Will', 'Bob', 'Will','Joe', 'Joe'])\n",
    "data = np.random.randn(7, 4)\n",
    "data.shape"
   ]
  },
  {
   "cell_type": "code",
   "execution_count": 80,
   "metadata": {},
   "outputs": [
    {
     "data": {
      "text/plain": [
       "array([ True, False, False,  True, False, False, False], dtype=bool)"
      ]
     },
     "execution_count": 80,
     "metadata": {},
     "output_type": "execute_result"
    }
   ],
   "source": [
    "names == 'Bob'"
   ]
  },
  {
   "cell_type": "code",
   "execution_count": 81,
   "metadata": {},
   "outputs": [
    {
     "data": {
      "text/plain": [
       "array([[ 0.7760538 , -1.47856156,  0.12847673, -2.34635478],\n",
       "       [ 1.02849005,  0.06927661, -0.82497564, -1.43992956]])"
      ]
     },
     "execution_count": 81,
     "metadata": {},
     "output_type": "execute_result"
    }
   ],
   "source": [
    "data[names == 'Bob'] #devuelve las dos filas de Bob en la matriz original"
   ]
  },
  {
   "cell_type": "code",
   "execution_count": 82,
   "metadata": {},
   "outputs": [
    {
     "data": {
      "text/plain": [
       "array([[ 0.12847673, -2.34635478],\n",
       "       [-0.82497564, -1.43992956]])"
      ]
     },
     "execution_count": 82,
     "metadata": {},
     "output_type": "execute_result"
    }
   ],
   "source": [
    "data[names == 'Bob', 2:]"
   ]
  },
  {
   "cell_type": "code",
   "execution_count": 83,
   "metadata": {},
   "outputs": [
    {
     "data": {
      "text/plain": [
       "array([-2.34635478, -1.43992956])"
      ]
     },
     "execution_count": 83,
     "metadata": {},
     "output_type": "execute_result"
    }
   ],
   "source": [
    "data[names == 'Bob', 3]"
   ]
  },
  {
   "cell_type": "code",
   "execution_count": 84,
   "metadata": {},
   "outputs": [
    {
     "data": {
      "text/plain": [
       "array([False,  True,  True, False,  True,  True,  True], dtype=bool)"
      ]
     },
     "execution_count": 84,
     "metadata": {},
     "output_type": "execute_result"
    }
   ],
   "source": [
    "names != 'Bob' "
   ]
  },
  {
   "cell_type": "code",
   "execution_count": 85,
   "metadata": {},
   "outputs": [
    {
     "data": {
      "text/plain": [
       "array([ True, False,  True,  True,  True, False, False], dtype=bool)"
      ]
     },
     "execution_count": 85,
     "metadata": {},
     "output_type": "execute_result"
    }
   ],
   "source": [
    "mask = (names == 'Bob') | (names == 'Will')\n",
    "mask"
   ]
  },
  {
   "cell_type": "code",
   "execution_count": 86,
   "metadata": {},
   "outputs": [
    {
     "data": {
      "text/plain": [
       "array([[ 0.7760538 , -1.47856156,  0.12847673, -2.34635478],\n",
       "       [-0.09315312,  1.02481914, -1.52727309, -1.6213458 ],\n",
       "       [ 1.02849005,  0.06927661, -0.82497564, -1.43992956],\n",
       "       [-0.36687144,  0.96889311, -0.25302891, -0.01094387]])"
      ]
     },
     "execution_count": 86,
     "metadata": {},
     "output_type": "execute_result"
    }
   ],
   "source": [
    "data[mask]"
   ]
  },
  {
   "cell_type": "code",
   "execution_count": 87,
   "metadata": {
    "collapsed": true
   },
   "outputs": [],
   "source": [
    "data[names != 'Joe'] = 7 #modificamos las posiciones que cumplen el booleano"
   ]
  },
  {
   "cell_type": "code",
   "execution_count": 88,
   "metadata": {},
   "outputs": [
    {
     "data": {
      "text/plain": [
       "array([[  7.00000000e+00,   7.00000000e+00,   7.00000000e+00,\n",
       "          7.00000000e+00],\n",
       "       [  9.53745448e-02,  -1.48143722e+00,  -1.11195342e+00,\n",
       "          1.11085572e-01],\n",
       "       [  7.00000000e+00,   7.00000000e+00,   7.00000000e+00,\n",
       "          7.00000000e+00],\n",
       "       [  7.00000000e+00,   7.00000000e+00,   7.00000000e+00,\n",
       "          7.00000000e+00],\n",
       "       [  7.00000000e+00,   7.00000000e+00,   7.00000000e+00,\n",
       "          7.00000000e+00],\n",
       "       [ -2.13277623e-01,   6.22547482e-01,   7.44515953e-01,\n",
       "         -1.52628038e-03],\n",
       "       [  1.33157063e+00,   2.92798875e-01,  -5.97082335e-01,\n",
       "          5.99959976e-01]])"
      ]
     },
     "execution_count": 88,
     "metadata": {},
     "output_type": "execute_result"
    }
   ],
   "source": [
    "data"
   ]
  },
  {
   "cell_type": "code",
   "execution_count": 89,
   "metadata": {},
   "outputs": [
    {
     "data": {
      "text/plain": [
       "array([[ 0,  1,  2,  3],\n",
       "       [ 4,  5,  6,  7],\n",
       "       [ 8,  9, 10, 11]])"
      ]
     },
     "execution_count": 89,
     "metadata": {},
     "output_type": "execute_result"
    }
   ],
   "source": [
    "X = np.arange(12).reshape((3, 4))\n",
    "X"
   ]
  },
  {
   "cell_type": "code",
   "execution_count": 90,
   "metadata": {},
   "outputs": [
    {
     "data": {
      "text/plain": [
       "array([ 2,  5, 11])"
      ]
     },
     "execution_count": 90,
     "metadata": {},
     "output_type": "execute_result"
    }
   ],
   "source": [
    "row = np.array([0, 1, 2])\n",
    "col = np.array([2, 1, 3])\n",
    "X[row, col]"
   ]
  },
  {
   "cell_type": "markdown",
   "metadata": {},
   "source": [
    "# Ordenando arrays"
   ]
  },
  {
   "cell_type": "code",
   "execution_count": 91,
   "metadata": {},
   "outputs": [
    {
     "data": {
      "text/plain": [
       "(array([-7,  1,  2,  4,  5]), array([ 5,  4,  2,  1, -7]))"
      ]
     },
     "execution_count": 91,
     "metadata": {},
     "output_type": "execute_result"
    }
   ],
   "source": [
    "x = np.array([2, 5, 4, 1, -7])\n",
    "np.sort(x),np.flipud(np.sort(x))"
   ]
  },
  {
   "cell_type": "code",
   "execution_count": 92,
   "metadata": {},
   "outputs": [
    {
     "data": {
      "text/plain": [
       "array([4, 3, 0, 2, 1])"
      ]
     },
     "execution_count": 92,
     "metadata": {},
     "output_type": "execute_result"
    }
   ],
   "source": [
    "np.argsort(x)"
   ]
  },
  {
   "cell_type": "code",
   "execution_count": 93,
   "metadata": {},
   "outputs": [
    {
     "data": {
      "text/plain": [
       "array([4, 3, 0, 2, 1])"
      ]
     },
     "execution_count": 93,
     "metadata": {},
     "output_type": "execute_result"
    }
   ],
   "source": [
    "np.argsort(x)"
   ]
  },
  {
   "cell_type": "code",
   "execution_count": 94,
   "metadata": {},
   "outputs": [
    {
     "data": {
      "text/plain": [
       "array([-7,  1,  2,  4,  5])"
      ]
     },
     "execution_count": 94,
     "metadata": {},
     "output_type": "execute_result"
    }
   ],
   "source": [
    "x.sort() #hace sort in-place\n",
    "x"
   ]
  },
  {
   "cell_type": "code",
   "execution_count": 95,
   "metadata": {},
   "outputs": [
    {
     "data": {
      "text/plain": [
       "array([[ 0,  1,  2,  3],\n",
       "       [ 4,  5,  6,  7],\n",
       "       [ 8,  9, 10, 11]])"
      ]
     },
     "execution_count": 95,
     "metadata": {},
     "output_type": "execute_result"
    }
   ],
   "source": [
    "X = np.arange(12).reshape((3, 4))\n",
    "X"
   ]
  },
  {
   "cell_type": "code",
   "execution_count": 96,
   "metadata": {},
   "outputs": [
    {
     "data": {
      "text/plain": [
       "array([[ 0,  1,  2,  3],\n",
       "       [ 4,  5,  6,  7],\n",
       "       [ 8,  9, 10, 11]])"
      ]
     },
     "execution_count": 96,
     "metadata": {},
     "output_type": "execute_result"
    }
   ],
   "source": [
    "np.sort(X,axis=1)"
   ]
  },
  {
   "cell_type": "code",
   "execution_count": 97,
   "metadata": {},
   "outputs": [
    {
     "data": {
      "text/plain": [
       "array([[ -8,  -9, -10, -11],\n",
       "       [ -4,  -5,  -6,  -7],\n",
       "       [  0,  -1,  -2,  -3]])"
      ]
     },
     "execution_count": 97,
     "metadata": {},
     "output_type": "execute_result"
    }
   ],
   "source": [
    "np.sort(-X,axis=0)"
   ]
  },
  {
   "cell_type": "markdown",
   "metadata": {},
   "source": [
    "## Guardar y cargar  una matriz\n",
    "\n",
    "\n"
   ]
  },
  {
   "cell_type": "code",
   "execution_count": 98,
   "metadata": {
    "collapsed": true
   },
   "outputs": [],
   "source": [
    "np.save('matrizA.npy', A)"
   ]
  },
  {
   "cell_type": "code",
   "execution_count": 99,
   "metadata": {},
   "outputs": [
    {
     "data": {
      "text/plain": [
       "array([[ 1,  2,  3,  4,  5],\n",
       "       [ 6,  7,  8,  9, 10],\n",
       "       [11, 12, 13, 14, 15],\n",
       "       [16, 17, 18, 19, 20]])"
      ]
     },
     "execution_count": 99,
     "metadata": {},
     "output_type": "execute_result"
    }
   ],
   "source": [
    "np.load('matrizA.npy')"
   ]
  },
  {
   "cell_type": "markdown",
   "metadata": {},
   "source": [
    "# Definiendo funciones y clases\n",
    "\n"
   ]
  },
  {
   "cell_type": "code",
   "execution_count": 100,
   "metadata": {},
   "outputs": [
    {
     "data": {
      "text/plain": [
       "array([0, 1, 2, 3, 4, 5, 6, 7, 8])"
      ]
     },
     "execution_count": 100,
     "metadata": {},
     "output_type": "execute_result"
    }
   ],
   "source": [
    "np.arange(9)"
   ]
  },
  {
   "cell_type": "code",
   "execution_count": 101,
   "metadata": {
    "collapsed": true
   },
   "outputs": [],
   "source": [
    "def factorial(n):   #se declara el nombre de la función y sus argumentos\n",
    "    c=np.prod(np.arange(1,n+1))  #en formato indentado se realizan las operaciones\n",
    "    return c #el valor a devolver\n",
    "\n",
    "#esto es un ejemplo con bucles dentro\n",
    "def fibonacci(n):\n",
    "    if n==1 or n==2:\n",
    "        c=1\n",
    "    else:\n",
    "        a0=1\n",
    "        a1=1\n",
    "        for k in range(n-1):\n",
    "            aux=a0+a1\n",
    "            a0=a1\n",
    "            a1=aux\n",
    "        c=a1\n",
    "    \n",
    "    return c"
   ]
  },
  {
   "cell_type": "code",
   "execution_count": 102,
   "metadata": {},
   "outputs": [
    {
     "data": {
      "text/plain": [
       "720"
      ]
     },
     "execution_count": 102,
     "metadata": {},
     "output_type": "execute_result"
    }
   ],
   "source": [
    "factorial(6)"
   ]
  },
  {
   "cell_type": "code",
   "execution_count": 103,
   "metadata": {},
   "outputs": [
    {
     "data": {
      "text/plain": [
       "8"
      ]
     },
     "execution_count": 103,
     "metadata": {},
     "output_type": "execute_result"
    }
   ],
   "source": [
    "fibonacci(5)"
   ]
  },
  {
   "cell_type": "markdown",
   "metadata": {},
   "source": [
    "Definimos una clase para la función de densidad y de distribución de la variable aleatoria exponencial\n",
    "$$\\begin{align*} \n",
    "f_\\lambda (x) &=\\lambda \\mathrm{e}^{-\\lambda x}\\\\\n",
    "F_\\lambda (x) &=1-\\mathrm{e}^{-\\lambda x} \\end{align*}$$"
   ]
  },
  {
   "cell_type": "code",
   "execution_count": 104,
   "metadata": {
    "collapsed": true
   },
   "outputs": [],
   "source": [
    "class exponencial():    \n",
    "    #esta es la partícula inicial que almacena los parámetros necesarios en la clase\n",
    "    def __init__(self,lamb): \n",
    "        self.lamb=lamb\n",
    "    \n",
    "    #definimos los métodos, se puede llamar a los parámetros almacenados en __init__     \n",
    "    def dens(self,x):\n",
    "        import numpy as np\n",
    "        lamb=self.lamb\n",
    "        return  lamb*np.exp(-lamb*x)\n",
    "    \n",
    "    def dist(self,x):\n",
    "        import numpy as np\n",
    "        lamb=self.lamb\n",
    "        return  1-np.exp(-lamb*x)"
   ]
  },
  {
   "cell_type": "code",
   "execution_count": 105,
   "metadata": {},
   "outputs": [
    {
     "data": {
      "text/plain": [
       "(0.00067092525580502371, 0.8646647167633873)"
      ]
     },
     "execution_count": 105,
     "metadata": {},
     "output_type": "execute_result"
    }
   ],
   "source": [
    "fexp=exponencial(2) #define una instancia de la clase con el parámetro lambda=3\n",
    "fexp.dens(4),fexp.dist(1) #aplica ambos métodos sobre el valor dado"
   ]
  },
  {
   "cell_type": "markdown",
   "metadata": {},
   "source": [
    "Se puede vectorizar una función escalar para hacer broadcast con `numpy.vectorize`"
   ]
  },
  {
   "cell_type": "code",
   "execution_count": 106,
   "metadata": {},
   "outputs": [
    {
     "name": "stdout",
     "output_type": "stream",
     "text": [
      "(4, 161)\n"
     ]
    },
    {
     "data": {
      "text/plain": [
       "array([[ 10119911756749018713965376799211044556615579094364594923736162239653346274,\n",
       "        13803567055491817972029187936825113333650564850089197542855968899086435571688,\n",
       "        18828075583602596462866526311206253798143927071100759813050465314516137773128706,\n",
       "        25681508899600997067167913917673267005781650175546286474198377544968911008983126672,\n",
       "        35029596967131343602213497450232647402139968983372205851566400021802909132390757909314,\n",
       "        47780395944676052274416277690031248729785923474969864327823043828116713025492002771430968,\n",
       "        65172495098135102433647404982700073500075401759827878315356483347951218369680224170989749666,\n",
       "        88895331094252224395547334812680590285351577786328700992010571109649289972956851261232789975392,\n",
       "        121253296785055132210628998331901307849293052175954107980980734350044979474331514800545696516184354,\n",
       "        165389585710146294587522349272048196587026008519579189614758713664032461652278159144795591280865434248,\n",
       "        225591516161936330872512695036072072046011324913758190588638866418474627738686883405015987052796968498626,\n",
       "        307706993434466865456401903551551578318956034208374691542093028553513056268030561242600951135606345897560112,\n",
       "        419712564636128966418863068957011388899128076671547993021605479585858227224221424221791102364954108601240491394,\n",
       "        572488245870673344662194682459267086009989015536025670856161416248139175446894290669084306226748539738437927821528,\n",
       "        780874387080163078248199965737509262329013916319215686595797193367941421167791036694055215484387373157337934789055586,\n",
       "        1065113236465588309403889415460645093083860991848425732542338227915288346612042420944981983005010603735148681490199640832,\n",
       "        1452815235413449534189983410888285644475648721895169018403435938673646672720247029959992118874049947882115958890567099150434,\n",
       "        1981641046217181630223446776341037079709877940526002389528019162689081976878763560907850195126187133921809903075415013440832808,\n",
       "        2702959839855471157074315592912585465009917986526189154485236541343846490109306217325337626144238124719296589910824968900395100546,\n",
       "        3686839203203908875430996692179542915310607843499662532720252170412169301591070559195321429910935928304254470448268332995152357977552,\n",
       "        5028851376129971561559036562448489449069134108451526220819578445678740271216710352048635755736142750445127816988027917030356716676481474,\n",
       "        6859356963880484413875401302176431788073214234535725264860437720157972142108894511264898366145528622543082646626140527097739556699078708088,\n",
       "        9356167927584356870497608935205215407421313285040837712795857869873919680576803330075673420058256777291515175125872666989233785694260034313506,\n",
       "        12761819912582026651843152463021215992154459394009937175978814994945746602278901851117729809857828389754249241954336943913841981426527385882330272,\n",
       "        17407131716929811937470930457169873818514090034742839348872816448963868239428102701727913536319497981881573257540890717371147451899569048603532804514,\n",
       "        23743340423712176064737000986732170909669210961848626881799697615201711224326534364058725181269605105114855677535016892831189038232993608822604627687368,\n",
       "        32385933745075125082113206816833138290662622266051561809614136419951583073849632300678802875165277682874645025731020582712459219297255182003081315698374466,\n",
       "        44174437371622894324178478835161387360634726440105292156940563876511574514442122784660251180450620029046120929952789609836687206310494301245811737217210458992,\n",
       "        60253964960827372933304527244366949193044057526925884553628738741698207589282129327908883288937520884896591823100630758837824061866733524154469212645590764439554,\n",
       "        82186452381005908303921699339795353860699455101453346636441756584240231663355338845390501466361958937618980292830190307844401857073430837440997251860323019906010648,\n",
       "        112102381301657019753922131204008107032943249802439891737991109609642417687024271467241971909001000928433174016012202680530522970872221529003044406006693244742562963426,\n",
       "        152907730281912555950258090883966397788288453429983113783966509949308841965332769636656895074378831628341786976820937286433941176671567238990990010790381446151875788123712,\n",
       "        208566256206910027973171789887861370591332483421746769641222057561966870083131584808671472123424635342059125869557774470898576295502988586205239377762486299244403317563706594,\n",
       "        284484526373955560067962271665133793452975295675716023773740670481032760102233447011797524633246276985400276027863781199242944501007253103151185502258042102550812277032683917928,\n",
       "        388037102540331590842728511723032382131228894634160078174151915758186246746316504855676632271220045232721318561132067113541847197950188735686803230319347190365607190275898427760386,\n",
       "        529282892349538663865041757952487834360789665256290022345566986834836521594735814856589938215468774943708863917660167406652278820948558442729902757341091825700790758348602488149084432,\n",
       "        721942253201873277843507800575705129100499234638474224639431544194632773641466397780893531402531680243264123105007029474740821853621031666072323047816479569603068959994684069733778925634,\n",
       "        984729762650247500517208505027019748580915316836544098698206971848465938083481761308953633422991427320587207624093505863713887660617908141081091367124435474030411762223507419719362603649208,\n",
       "        1343172118197190792578750244364655512769497592664280789098578949032851734178642763891810536882491709396961194463386647005135217509904680325466274697080777803057051246741824115181280325156445346,\n",
       "        1832087753950730891324915850521895146437343297309395832874560384687781613885606813430190881261352114608882389835267010608510300397397644581844139767909548047805291930967610316614686082875995101152,\n",
       "        2498969039560915132957977798862109344396049027027608580321689463293083154191701872161544253851021166818224976696498665856655054877267897114315732109703320617984221250891067213686546998323182474416674,\n",
       "        3408595602048842192085573042563767667651357310208955412954617302492150110099095239235159792443674132892173477096414015495488103362893809061571240441775097232478525591507346647078766720398903771099444488,\n",
       "        4649326900163660310919854588034777960785795767174042210878678322288756043258320098018630118437425368286091440984485413634511629642042032827880286278313342328421326891037271717682651493171103066962116698306,\n",
       "        6341685300418834712936873743652479702279493077782703784593930186219165735154458712792650716708440646016361617676315200611489358319848695671037772054859840711063922357900430130265783715452104982240098275933872,\n",
       "        8650063399098190712106206706196570348687189343891375136228331652681264351506724942569273596220431478591685532601934918119485119259903262937328348963115101043233518517503077734954246670528164366878561010490499714,\n",
       "        11798692818055232550147578884125865608089028544560913468519228968187430794620907976123201977895385245239705082830656904630178314159866370495211539023461052682811230321796555930907722724384131648527339458407317543768,\n",
       "        16093425653890736296592009704154386886003783621970429862435364540939308285127269986156990067122901694938436324666548619850481339999176989258731476556349838974455561392449019792835868750306626096755657899828591620199266,\n",
       "        21951444390599782363784051384045467838374768949396210893275305753070184688344390882026110574757615807281272386550255148132961177937191573215280229234400203822210068550530784793984055883140962380106365902705657377269342592,\n",
       "        29941786242203757034937742679847722285930070850760053628857379482552272854210034290353600980959455084033350473690872688601978897187669305042631491407198434363333507958485382908014045060473022993091179846948416491187003494754,\n",
       "        40840618385810315195437444799363677243476455015205662545972358889507053243327175116433193764139271492237297327386736897508247348725158869269722569559647898871790727065442612817315951446541086503538749417603542799636450036187048,\n",
       "        55706633420031512130333709644074735607824170570811374472759926382667103176171121068849166647886947274866757587905982819073937985640013885353206627510851141259556915050771682368201865787127102463849847296791079327120609036362628226,\n",
       "        75983888825541368356090375391962738732749412135041729986507085558316818239350652465085379740911560222189749587201087951953748920660327664780643109647370516325934503919979640192840162249592814301777695251572449805735310362048661087312,\n",
       "        103642080064671846469219402368346819706205805976367490512970137461470522745577466133497526815770016030014093303699871872447732601718672574774682554765640895119715922903767279994716349510310385834727240172992118326102290454443410085721794,\n",
       "        141367873192101224125383620920800454042003452101177392101421254004531351341785903156743091662090042776499445455996212435106659222493190052320331785343443828313808844775242489892433293572225615871382257373656500969253329915171173405585614328,\n",
       "        192825882676106134378869728155374187660112414871811939193829103432318224700718717483263710524617634117161273616072137461357355627213312950037507329891012147460930383989353659980559007148865250358951233784907640314179868106583934968628863665186,\n",
       "        263014645338081959394002434587551312768847375888603586237774998502936063023131672433074857898670115025850753711767851493503868182178181357041212318303125912580537357570323167455972378184345773715225354264871395045042309350710402468383175624928032,\n",
       "        358752169067026468719553699647148145990895480824470163440264291787108222281776301917431589437496561512894545224124965509276737557846666584317163639672793635772000416656304789763606304402454784212817742168518367749078024134237095550809620181265500834,\n",
       "        489338221622069441415430640321144658682894204691953191536106731772614118128405898947049121067603208573703185536460164722504963532771035399189968245726008822318921148856557303560726455177326510012057115543213318481137469961408749041706790310421768065608,\n",
       "        667457693044671785117116112951740961591613686095304977725413022402137444235367927940076918567800213991092657966276888806462279535437250131161701004333915706436644219040760818361620648468177762111230118418685134926639258105385667929983612793035472906990146,\n",
       "        910412782651153936969187793496814992755619750728200681570654898663247246551159982116163863975600559487058959169187212792179271791299941949939959359879706749588405033692746612802554125237049644846227893580202067253254429193216012465246689556490695466902624752,\n",
       "        1241803702993867014697757267445768601859626931606951824967351007189691646433226450974375450539637730940562411399429324525421333185612656256968235728576924340354290902601125420623502188443984183748016958073514038418573968058804746388264414538666101652328087151874,\n",
       "        1693821161296417259201677881983821869751523890331633017456148344461638068982167430289030230699929840603486616207780767839887490644447454434446623473738284679950002379552968766477069787591719663681939977040166728605002145686638867289605126677430119144470977777780888,\n",
       "        2310373305812016135418103328783200476109680446039279042762011309196681515783322808140688209050154842220886685069824366762931062660359513461241451386414748880376143600001151998600143813777294065246349876699745491331261345290543473787767781052429221179160066016980283106,\n",
       "        3151350882948751305127552142138167433235473879921466945960400881892618049166521292471329006174641904719130041921856644045405809356221020808587774137693191211117739820403950879059362639062016696715684913758429890342569079978446984885382542960640135118493474518138883937472,\n",
       "        4298444914715402592210116539979789162133662481893326953569029564912840215744650826253700905110420608191735598068097532302300286892948132742427185165264899226713477491174589000188969239824404551614259468716375070172755556351946977927135576366094196730846278402807454670994914,\n",
       "        5863082015022692084525904088084574555317748860776377886135102286941995946893752893531340505899619884215432074894926955916981636727790609281691489153195460238428394415701959800208633102483126870418546631014049354145528921433135656339597811545895444981009442234903886310121000168,\n",
       "        7997248166935866718695925386263899673242571579761461330015233088418447384403294691427574703747986632490457541892278435968295254796993284008359933632143773030115556696494964342073575740756224875655449218962632035429571621590353387194189342084177753048293610054687303734459715224066,\n",
       "        10908252362782537226993326752768047238877422952543494030518664067705049174322040852860105427252759666336868302573142681587710644524735567178012231165733259608537857762413547064548157519024593213520903153211661110375289837378163453268530602200630001053317465124035717197689361686626192,\n",
       "        14878864220083547713485616386701002697728478149840905619088787803582775492222648126595875230347467932870120855167308509964073287426994110624092691669993798249818668103488774691008028929525285899467387556429924717183930767755436540611662935591001405614478070722794772944952023800273349954,\n",
       "        20294781704446321863731607744786920447748883073805947807931137082750973476440866366717626674299373513194511183316511380733677551761064491626829609450102706546012271831016451092082016008030008991466730147873570525899991942508252819557761512676728117888149141783357194332631758152934535963448,\n",
       "        27682097123729003105677626449505746191732174241149462650923690069660131404640833946850969379619575819465246124164576690629246144675379393573106211382631761722558988596174542778374560842981861789646519389087106627252306193512024601313327314953992743800841043870569935864482663072626507327493026,\n",
       "        37758400771548064682466146208733582592443133413810940861807721186153501986903573944371088951427775717124108907871665922529672475014769253898208499155519173092277006457453907366153993071843267511086843913444961313142671547942344064444198015358758779272465071988599175876348685062820708929236450912,\n",
       "        51502486334488683955886929106339056161838625708612364484968382621603446370267879500956112180716865697733104015583076482907163885166289937696549965954339534729627559366955725821976824924555059866984244744458316318233231243699550815926487406276661928920386159033493146465275470908350519605985846536994,\n",
       "        70249429118643336463894453767192681338330477909680678968437735703588287002547374542878081385586756239483671001364224194351294069039294489787348051770218280890385083253534067475083755351086173501834020918285056903031440559077735255267793266359382229806185993386756640377811618667675171563273623912910728,\n",
       "        95820272820315845425435990825379923684538933707430154725313556468077045074920989144365203966052516227521424978964817384171648017333482850359880439164543689474019983185379834991740064275706465211561471516785562074051203155813274587736085941801603638117566615365695090968481513138179842362824829003056769986,\n",
       "        130698922376339931803631155380271983098392443907412640726006659460192793070479231740288681087777017721095463154979012276234322246936939647185366706368489362660844147449941348462800922755818969634743348982916424954062744135969865615407276492410653721774590669544801490837649161732095972658064630033793347171632,\n",
       "        178273425941600487295998321374681810326130978028644549380427808817259437825178747014742905368931818224090439264816351709600999716470003012243690547367058655213080891141703184683095450379001350288255139574169520422903657052666052512690112871734073478104179790825724599197644425084092044885442518190923128598876034,\n",
       "        243165083683265441011673513986221369556825752423515072767544257233401333386336881407341063211904087834677080252672658710908039847587331045640041091975374374200004996361430593849090657117880597612149645122516208773265542282580631597174929364321768634787823009276957898107077833463863281319716252877049181202214082008,\n",
       "        331677352417400003140409969075527322757320652436652587899479747294168235998401331418360224963942544738317761555084771298030275953108836016256028293144958013467462028117882471713344339404239514144322404202251682936254622577097034164599116343047764151924068688833561398742653362489134599812137854366813274082948606734946,\n",
       "        452408151862417287548960209492533254462354926749346553409963142853502707303152802391524754191880842927153261438215880723172007308080299913504268231890814705743992406357788052847595528038039815173453371481516418041260078460702637181144791866846514624993064479391987024842877293513013058007037353072586182898323101800548352,\n",
       "        617085050817689597616784866157784434613974877406761135503777626331924986929736420863371183077950433695181786919488016391177915998497482190855838124327364403592819109734051021966592013588225712136104543023192596459961683275020974212115660705494988996254691873959359135447083371005112300256198761728861920286586793804554687074,\n",
       "        841704461723480473566582106399427461346716195137748938173706092279888535674867781210440685243078583441070884511443092573447400593957873788627276705850756937315311009669651951750484354129867909393461770137006183087805777247207069527962942347087031837406024709145045252736846560928266690562513118035520731857087285072514393717288,\n",
       "        1148085502875878183634415609913685215061355504142766958430070613647394294585506583307461958042742265764054381655395297758198645588074538345169796282618556789862487810008514996238682625625153416638393990571419456924363540126873717857115665477087416921210813957965715684092194156189526771039568149199212007114987343425703437585067906,\n",
       "        1565989467627159565957816458504373032771150254366929269047554490721138097703166654499159321210985693580753617648843697585275526029534264260685390756768417312129370688162624124521514851837063390162678796601186276251014956538832998364175295673689583767563387644689945338147005565889075443964661518020843213225574593519944561380426341072,\n",
       "        2136010781928948523844645283815574730385064008311995665747822755414246012661413902243436621593742528786413698527404458901613575702930324526113218162028403832301251481141629314362342496588380089335310516958008652225841325082508336642452960414578069346373381958171043406948199684066855095094569350148579342051690860548547807426339114290114,\n",
       "        2913520272540553413683662124940902436618260078487816455009299285939522282408266265826702051013186020250361865544997330785498502534322992187882690258397499595676219149647870547414359686861402278916753707809520402822323818427497910013304202180780160278037060554332947897022682516072756238784436558264180243401719559362812729274087932318056568,\n",
       "        3974043787756096785213038983064674739122037132121389956628349973844263807450887848001523841018607325364022371017074886595878859070392264274596515625672351476906195221371176568302500975221449296822541392762702787458301914176432231766483574227544553197311896969492099102582345900122923576557066560041692000579287530661737111277663366020943448866,\n",
       "        5420598640019588555583998856562341285064895266473654388657524373622861772885293432940344345851431404982546764429155690314109549270517582793541835196107345811999645958169434487035158744561743702268225376482034411613526633260471991627393608550572951341293705503447777508870216830450183831180077572333426152970391593542168782595462105340499182309792,\n",
       "        7393700519030506545913359653390016577503256265507196707518819873971557302479347693418477689265193455003519150703739378663332021083845053322655337804006045359918993993138330011492524830083193631343156236062887700143637786069197973011996648546555733174077811618599738014198078339079950868653202365729353314343614712879048881197321589347806905614005154,\n",
       "        10085012928556250948214378151222839174055726611047082782710058965621577783443603139116236508502069724056205104106664941652475190867913923249684674306499441978275319806286640305110290903392220674895767374215155305030333553725019295660355056011110570622393476341475546099143687724721883435026799206932410254190843438758616216121929243332513959756685339848,\n",
       "        13755965028251245323870957711627606023428588600724486422813227947927706068174377161102240016074512368806118765520641684153354823675855675157623218409403042864412896134768970514500448284751819083751458041585707898949075110918712388478697308395803364884677875807584263478970004254598988085327422771458173316069624794081465397839192685227138388915024417557826,\n",
       "        18763146383547627178010934533038205838795768907114810527800025631032356698567633891346594498162143373121270052375259363850117631969058008828921319595100056966501168603144682068418916570692384622457663664490279789321843481626677422904238789006931800813271244995021276860861184946960744470270039687068155335529222409970557561268874944579060094994053062234214512,\n",
       "        25592945423123991722052238574021824391723452217893202284405657773956082464552320802173915997733179635449781157558619292933244603360618799898323837550934887105350458387585481110293916702872697376851336989822783218342893458013898923553770186902763372112666862851084829222478135237658710056436419460583735335835175436824634595036143263598523196710277291911886152194,\n",
       "        34908796320287508256506431425900301508516627620975235030739845003701727514006064141799112767502555184896874620180009090820309489101516012119322543340794781111754991741835199379122970801634929914409846111781940800099495998574439758404765439174158246493478414200124702080737037325351427477723746414275902066234514825051211558186860680423330219372913220220874945807128,\n",
       "        47615623773817584385866494517166585279441071798462438475131432990706930285186736041734791988789483005378972431706689958498195076379071201149555847440681632371320914086321599538604842467346747275952406947807557074118930884948993844363023612803738750980476669635832944722954541389914584738325246545491791002079214056545289390001473004240686017747850342658565337967074786,\n",
       "        64947745736283505389830155027846648221459130449730387055314305339169256610722221966990398071821622321892103293722545283400628904490542219884006295231633087349262838568734403605856384248431764919328997486655619631039021826566426178150922612629738830495616670861690336726812075192880818934503114011797217202738114207642599779173567364644976151538287240299503341862035815232,\n",
       "        88588772799914475169312717324477345340655533374504046405887187614059856723955395949710944704756681636543834271609983473248416323920175966992985736251794971826026883128667812839987646719703394696712028524205212984294299890367490255991702806650576568534772119532015255128316393517630826941246985837337949756325789858438562644082135886848751711384241543618865216865154819051234,\n",
       "        120835151046829080414447936260742126891302368981953969028017179219882983740731770797627695567686185573868111838579311180056123266456024509520652428253743573203788017850341465448146755982059678798080126236013397166197056089483083275598860779193999069220259666658339669685360287570123640828679823185242975264845580105024407089127812523229061979304257003783372455307413035221698408,\n",
       "        164819234616647665599782154372369585557081771946918588258261838343108003882214859323360126465268661879437741091656452059580025383862341351162136905123842485644938682374748887539085015147176121583975988897950797939905768800354815955407102094523421380993002720094094841466086560562042163721146220071657255599199127589043149708132980363820327388522717937402063647904528245197215679746,\n",
       "        224813556852258462707183273011848375441986428237965936338238175517178537178324808848834010126322022489738652717131239188578334679711500059009664259241349404163269566547175332944777408807504211900222046936931124403428634840740058446258562855790725957673524930468012022099411753966913081439284272857563681880282874877034961226300474344063449787006966570873418599114231833862037408871952,\n",
       "        306645856365715159780263584170315556472455045198357484083945129667269867819238921484668913172429703944665401743908101909672908083151869942830533211742105711121185333709029528885563924698450892208024455997962951637074597828538240075512635142400644729688068998161088492238439098497430005125347469323936933741961440531403276155823555138282909329804890925389280371255460125916064222917022274,\n",
       "        418265172896392330198742235991583430876804123636987846256437495104331616883979067229897246401204242502546097717343368136033035203753830313520906310480491431318700958448682824575242138066095824475957258203268402964094154866761000203057680592797335202020483787016655171425253029762248493904055387442122835187717285167708945711504555509092232389303658229197549299811046725981345462096227253688,\n",
       "        570514002476535504106244190156103970031517297095896620651264827267437992699615266940501328760155759203176821951858098045650969690828307699512459038028602054424419228509337081750159161886079403036097908213714099605976064312859832815210751841210707616200669573559715814912537371034805443115136673818524871132980118930195533353768369537956943261919519629516382634222638989698681126363476891052706,\n",
       "        778181517643167323993247274115161806706420470042926627556171480830280526373892108085911042326098856757375687688432163077636058691325015455965307648777323682726339146387694228190041672054750371837062022760764235130954315816895678720947668569091997985832915318819239388195872399344504386657540327143855366348220069938071875203485767554328779701490614078318575110628979392995727037705244575623144672,\n",
       "        1061440160579282706462293388137270860451527552655849015883238551117329905411981535044449602234127600772819641183843422295993629705937011910244379145391307531840781020092043436588298590841841393265155635143590630432721292750310018635205435138993326463383712695539016085214984865243275018206328121360892538223843308375648967973087940712473993469776459522346165967280562114685161378111079964626860385314,\n",
       "        1447805157211659254781892174666511568817690288243048100591364939895518821262469187692737343358392373552982747950450116443898388554956775570588789119621392250754508037744693635200667467949943715164044123397880380674466974265738682314098934477255466388053369949630536759472627552064226469337818215076584565992688620844455130387167154617582081421554792279094248697945797353409953115470550776995613188712968,\n",
       "        1974807295876863802805207388538509917138190004691070265055637661256038789531913383994428780790449431653869241024055142672899697982590747815295018603542724421336680804264782210457147014582314069325149449470343982830603385619760312986449581832411595146631259995008747678936749196000470147451802251692582708906565502675145173497063971986322671532994206445144077570164034870613290734663209370901981016264873666,\n",
       "        2693638599381199438685557659858702193488059984088908084583990361318176804440351118237588549735516383168251197739559165055951631946642334976837975964021395732095483371525200679757183728557744340503219013121672590461323692452327332652199543718343893035471426686561881464606485375972193345350727609126897891533121338337518861105125644956498741553085519145968800899952441509313881972033733052461079101798476393392,\n",
       "        3674125024363251911230903453254658330427630956487275318442827908475654417295428457189454776268025137090926287585999725191460698874918127499154814509943787321302660655441177991971009062899777862760460059047410883733228347108360101497913164081402902511978172631730401326470924989575267723528539910651340416633886412057878401692564876784636269801080181109307889571612700382739005623144746546766282796834138065460354,\n",
       "        5011509226870074988118390995797013821405482112708627623264101851151153943367768855957534552418136022508406624518501364720317449217020272551182143829539289927652561229505138306249136118979025562549608023759681567084713926779495630770486208006577277370231262941106953971187806292266041147086273788856037455186512599168284477427519597059888828507414920118615107344480623274497512983851406323522262195960866119764316248,\n",
       "        6835702259575806647045396549170580107055408029365524565407553367798082454408054014954534318953113802726603726769523447478238192192714526677939943338306101405105414819705664090901813637296453767095528104868264704914433529355579148731044685634135487735897954629842516947101494253575869699893400976539545740214819819151952085089538422954565146720383752121972115725761141759114990448978941370030912401573418221496592822626,\n",
       "        9323902893570627136644909011459667063037397957536688215843526057778435618966529044166840768586599645055109991720254500861681614468311831408982633895593351855853713466639755325128380050408481917343862884648336817184854418754936738364775721691168811849042180346368134222800409349683778536695746018273729245690469419835861812346607836429623920015431945309290084465045541840056121469920259880128488038008338414987472374378112,\n",
       "        12717810382532594990190302937027535044563117869488072091935134950363153982352800024297585762886440868968972755310153908698781200372969530756378990573532670237485870273911445969139201290570806631710796070188436286904846341615263066708702815431439893497581269890400764922416705454462927499922697462326343230667540503475934663992858178428429981466195893785623797182437844830978308799961683455436627714755775171461133815244567394,\n",
       "        17347102685677353137246709851014569260451155811379687870087739915821399810364838199670951147417873931873323893353041651719638418990344908263532352124932457797282582907328678941661195688718630654135443183599911743675027594817637577927409005024205705899512701172686989722310609040296782793673096034359150440359770937210594717548070901984214924343811214555536168646929685394996253259269206153475440331414915342211401511465964303528,\n",
       "        23661460781074292211799502427086809498790421089839763742871769180315339704491621657151201662663742929516082759506304123099495502284030827840988884677398445968163680571466591987871840058613502783047376213226349806809024544177599271556052591555832014286828821980814944381996593147670266193497602913563343526993958225895754670670232703164647585234939962849645119658209273316619720423951997155023956048677659282551523122773390554579586,\n",
       "        32274249852488020254247658557256259170919394817697249124964963249690039178326382305192438738824492773733868757290492176949363584753837039520017102232323605233033057582063338800136131501144506514707275290283924736399253153285840224040033662291159891692940412694532756824033075364031283384713524047196434929970199379892746581388914955187481290475382453138130498749966095733554693654523783388658829525836658676315619750864416182410858832,\n",
       "        44022100460254440701086018071599964595943553321760137646215952744346393754576889955904143590958270807115926501026990835663055029099736005936131168433774074936303058705614965589977671239401165499563506543323486566798388110106430243189877471417733648101185009744164661122925496793131818207015440297978850807822878948131932232769150669108427644856006901020372849940073412789841918764490864494127798497197251112153787891702186446198966026434,\n",
       "        60046177302036909604301582897320908965126177650275645446687684508251730771282056226235557050505820205398897481269572790336584009055624665933922433760770070536722605107516395128068343706674690885911137632368525961037737781438324137551216911047450987169908046231453292304427201658907164065652445279967199698305336855451335458243702901578850495064883888374241705448758885011440110749459193693773705809006576353636442999901533177031572070914808,\n",
       "        81903029862078804954708060157963791428396702258529302149419647885208105118422479269475255721033529718434903280378198313009936251406901144069876135780858809986164569669711068569650810793575517769548291294057212734342041132269984230050103056546194564233402676244712034867899825988246164917368142377315558367339287293714569696976643526904221183696146479749366706604957059229017100904181104689171828851283467343611220405653582955657510503693824546,\n",
       "        111715792778052791995131398357045508829242067006811618407453846403108363633259033005620475039046785041765413473333343768518343383503022216135976983127525177591199009752091005045398833990780712912354755236231670538168505142154039928112478120345920433065348420305833447013107667075169427854454211855103701580250486173963528518011600014400259273412038863262024562050866877547264337073413776255224068326856458463262058269754487053050021358610447595552,\n",
       "        152380423252293870360164182067070232006877607793993306037069195913487693203870439442145597428515535830497742412529961278457333385034373709710616674862080123093205435466421800592992579214235685987969655690511292671274575355939242731929650206254892016895699478699833066437913725790357087839640462338503826271020030480573546613137519396285480553155204705635881252004089025931527784785237294993230318369661060627356791091165525993943184790655154214157474,\n",
       "        207847009031921617224055939470882153502889886273073876246180790679843616638442912658119600512970229919583962416104340517159571255530269243067497280488860415424309805175209088099846923447051466468303522716612639435289058954006269240391970993809793056966167154294992608454761335085714142982697445083931074137372901825988491543848094468133409874762972630526205289758139482237481445711400743784542409480286013552173126310408047210225557104474988958558390088,\n",
       "        283503472699964338187482661602465324448173811754080561193096635556502606582529336736114577245288822125848355233308732995366933649876672281917776001203480468718881667464420662589991796574357414498451992955115330701026947687839907183137380365206763984593868894157848617765360898970639881385487154734944323627202909110678783039355413992053367354657247823242449651111354257860950623478135399759410839761428492146224771644187667560273653833688675594627858237506,\n",
       "        386698944609760389209343574481702173429462582122452158541260057079860235222186653750972941482174466349887076122195527910021014658003036522805089533138827848192970018731274958981836910374346960427354986694300027688840191935272587404068627210113019884779094137798459809624560720957287883923947461755909141358578905399867686054172328533255261205162360793875331850321176965861818887905622396672580169976997943573464140695798288960260474054708457986061357194348272,\n",
       "        527457643951185870845882823075703367023111410188836498330839910953564917345669178245663828296263217390068097679029933378001659360449791693778424040977362388415679824431126508471888135742405828380326700303018192882908722826659497059056790651974524329602668997825993338176518588746639644312145723322214803757425254168328634456674095474774168337208814780093775886287736492789778824053892427196799111259464956462697234133840510329462846884276170381663285840949280514,\n",
       "        719452613048362137594173380018833874321697392960155106175424179800719627119727981313739212769044510694519235121272951323122173388668173873350293196982655436626835473494075288830614398989551924257726046568303509392315186775755489261140866517920461298597925292128792711732580979611137432129650690558962748234269405264505657266589520399920498867214028522408704184228322897342224177828397176318830660338080177613062600822699151887676283410626751109046707948412012969368,\n",
       "        981333891655609906864323336228512480278162267109061753659776912088092524956226312181118531880805008850541626773513984634672022503802749613041493699108382992921392001525743125091466512109884567093366707845866289829310797670853314011693200987234161185811899701132671084796578632708180204064487854068148510806347226206039884840262562499587035229048272113380252601063318719711286568336757802391312217500252621729173850219395777015300780034941772788910091304919826639498466,\n",
       "        1338540147670864961325074624789071041933287654034153192147041883512338004759919809543026991224630801116649473438308196314643961817360339140362470755877031385000215316916587116700049153132281539067276447227808187630689320338230696067438787287453913777908729790270255488455244987594937409481393562599645127702605850814443667427775401838957115972920710376679186956554550962009092221435515470858926183501004914118770744761856662548022151643943988710824473586618591948288876992,\n",
       "        1825769742756951462857308652535629129709484638264852063150318788887741126585055576443000997148928293528118732311479153287158998590902006390204023152509969917523286613666226352921992136338944129172332167385438213794550062252144340289300517553288125627228693245828329618924038959658127334712824883873770022334865186858127368411370488370900005774099078002062524388993008575499121501324611439009377705607588203110625025029022707111279230143119635543337370882239064337292667715554,\n",
       "        2490351267660629466202330327133222921994778979880912248290226975084762409000020566188062903138129417003155067522331003391881188721952154076577427942494354844533147941256049661972713974015472924472600143590184951423953915601245218385301973381472290809453715496039631870467877596218673279485702622997384910109883817480336544956776773913309446832987115315523659945773420251531763736898991438324262049374933810047806652910331734356447417937366826825100884707847670374659147052892648,\n",
       "        3396840954858841348851441423518368601230008238042202571519932744334404813617154637336094242881405673720597040219191800105679228575741329062458001917585452517913131315159865405157134782549241407924755768189179659180486935430160730021892180992845757952220495165291303699647803965281230011345833090593316891159903861908365905448411930988242456380200199389452274228559334216097901236251725646485732444725115324493411385194717514684901389345798494909073150078875104630099413872813287426,\n",
       "        4633293552778727260462832304009381905300653231468544188465436553499103250536207925346998735353140477084311366014045137675149859658499894793346791193014499728788355647025997668683993816111139295882291340410184645307135603880654836995079320176214995319119564859172834285951475076521193954148995821271907236927018977526828575368178830644736623812039904954328217571414877644177788818011090680797977378867106677542823177212247600361939851515087084422802601808470350563125975181664376941712,\n",
       "        6319815802831138842112652114110220437198692237731332315269426978905521168136201227327943611115926492148674423840197786980704514253422432239454085645273695215519835015674775979950372722310376548824853313075260045378592144180148627822018214612538246461037038688406911257341511652178873834689241646047972064485345045250456085168101373411351743122078810557903078219684121665992720045668363940334087630507178233283735307128890921611200642367968128951197657939903637043208460247204082961782594,\n",
       "        8620233388355226159368917946478644685720921512918768746571686864663684372441029010283240432560859088431268998429395795486818632591527856074510166166944513288468783749736041462649977077225169723736395801325995112081044991797326609004069839810822344387849839890551886127848107845047060431710079754205255167865247568740599626997865641511914422355139309640884753019866713367291714320080466425706376325989169977305692501746984429325278038129760042976518028232630369397286902903161550824248399928,\n",
       "        11758004661532331312518046191648985461543774142313438301656096152828244389530731706227567277956622912546743062532119705241807595559358249108064106105797961399166636554474976229830548683707853813552992697861970408138590747403697674830179083520176290283273642647751461085296076442155842607726383473977614096940262169107223141681173903123624683444153140428977361022176416717107564325309801873027437642736858356223197856118193890490600855209635066588099541706965763761536378768372602528357779284386,\n",
       "        16037926978563488265500774374327162648190393651037042762227661724144590011004290488323412050373266213572845968562809707345621047161597243311255515238474586292976580729087617313530331054554589826856005776279528962696149860503635425794973273991360270768729636421372883472229976115208414363999218768585219833481685463909821105852748201726265580132247238684434761319001652268848085031436889835275850651069400787058419181437718213613608891783980360586210751406329534401105017926963133010230835192302432,\n",
       "        21875744156765259526474368764628441501117158483788668641116832247829373603254241756804840264276413071936274447862734972939132350136014199234801630849385441501581455281112064490631601388961144231685405431837975367087956548317706124482018375903298929504837507352395260807582772717220719348337542126733713830483115913035165095606290228328529374925068677718709443416479275871125505090444243045118133315496305410406039986678903761562853018994204421474658053017775191888871005988756481798557387560079801634,\n",
       "        29838531067754792557599304495727568534686452362281395063526121413700989739428796760572290443885077803387291919730739065898683871206570529353512735734076980682743397980017585052838817824874055286608719865032774680236935428055211657428898859705373731204869128758303557114426374216265176399546771460083554249998803587065429100228085724188315793663373808655558365254839051289867457791450978950430969118187611649194625600249206168489945131516986614871794170526996768065954453273681768136365286862784041731208,\n",
       "        40699778252161693813824977806541168109753822139310306655318270725120397833954482035662360970299510400233338114787175948620777739458112338052390606342911851036703496426199267124136638144729600372078525581310136501818547011823857018439142526656505672662370996463833404299338382013758417829701144609096094730712198575873158327876204534083091071086216800074859328917043882438655083553044225732630886995341217785806879724779903892724046722242188736889548723256876609417153763136307920494484049838224993001169346,\n",
       "        55514527374479618116849827327426649029272748084471620559249184795185636346503652925440220935778976070996076575861627724657806735304736435673990140564467498891044251868733780374907427268228999781570395501626891221255178361063169028362647835258333442885205244045797521767854667493140698184888760793578533296245688856294575024652243212575060409277393378675916780201213110485376823833810115350287480292614539247452233139225389158881768219083476954103959330316550222241765798872377277236244380344625753237636719152,\n",
       "        75721856038568451273076978299587755817096138141041429753122543378903933097028816544782497018763493660349048682813375003609197007733399956371660604120540011399235396252449302630640854930502500431662391542744660935928565103037174378543670086434893472601092615249464283524758065799025926082606099423585728512173850312184376206783987618156916481345435654730750563053783599745936426364400550382017855750013226874742631808783155592618624574876584807586537416100497760014377966815685742458157829274119365641129486092674,\n",
       "        103284667151134742016095115250465026361168161697128594654879708418009759929983652270736251373814341131692173399434019366550669376355092845227380738010557140016055971532592717521974501032632678817787283634699219143497784055721066915502594360545029954961333212405513328525291769604538856317372904502531727269138428071508345440628383763409246655615583510446122443922141031266567770937866184531187705530498334071688197239413363453720962801899880761024991139520409261209833788502394225090204515374279159360253856667126488,\n",
       "        140880361716003826678405010278612595544389189651021544150685675404708691448430798726100791656379780067121784865876685229350116638545354374290103698307004059521911744405852719149275850049365904409962286540121277656391913380568638309919917251453507293460731102813735429572781498498656799042822724347552699580833328063387695365393322237277830595176137253684165744260363420431198185495675840101090412361455477687009575777191636534030985880416012234622895500843254332787973301895232538708781417128346047486751901623446622306,\n",
       "        192160916665296370724086450115142830787573215852155083350129916131731073145419539446053750555553393825895246249229198086852925645645239721624546671871491547745027635425554641512329781441836126247867376628009057422537713348879678375797682633576944493310392185571147531450602489243937478433266513382966384759983928616888887986741932160030724341066906829608712521293579627609185591583872783764071853648730802063415133048286631645781718461850242587906390488141338430332056793618885685193002943167579383051088954068237859951872,\n",
       "        262107631211825965671480596362065099806845410811529184711121356289356588479043700235216041858566485558301183005733492067152619930776745525650255950536412778128277216632200936875536971162514525567995511682890894445619097399785261873226349032116203742382668401850148046634051368110229219239774567077090496365317659466764506601611360859604145279045856091723537563210186872422349578118587972730034109467281175469975928487438742756482798012949611305916551248720286462227258254469461969835794723261995406827732820100978064420975714,\n",
       "        357515001133847282472270257524306911279367927920141660101052880108598518416488752540374127148835241854916639515066732408794260438505126542226670741078338900858517868513957503452873940995451254710872125802839808032881871391020446074759115877489135481554453010515787506756377516704841898980530942759664820008678047496595403893485882954432214191342888776017734844931216187563712433739345578676550289385225172071849229871999493406474182271381731671512763809644958875816410591153139745741709195532304902492410617706688148108070825768,\n",
       "        487650723654198905118142302743750989050157660528484035907020839589484668476679137508770544647053128456591854599734028739087438390740923380342704541086804797183796500930254666910656931054766673940155147590585181047745318196449288231233307283244212913044016289011936009363745566836772460438663445698749891582333222103015597675221345961206399761136979336344282052023742090023776181970045487902787324755556601987177819521335796445173541100962694949554715752906972626900046273591137082653661178500787148995054910284742734997473027323266,\n",
       "        665155944579328440428428573212733873371326328328780145118836526252937196400708760050715563272707616050033144590676730266847674759231057995913991220713142821697599285786735879623639506832642738705626332185683989788932646901828220167848305893460983902527519772665291232559655709542874340880235920464037611783122523626560771824405809376968483706405031157662376736695229142008618275919575784844980587516868590335682617676331898350710116535895387292924303799728920308050538933588902133879339589184269203534157390039006797224701317339760592,\n",
       "        907273196056927646943281692004471747029478161998116646426128928829845925375235225388313537074517835345373665813537659818008967459029553847350064367757267895600322609609608670061311197976655750361148257256420552657285178119411888758233320471988065287260450013931746253147379751562047437733102234176393001222070704559850995784087199211530972981936223636030818213134344573441845352130483340574041424160333512774473077688336230686165044128502409230243699937546000207153562005461536101748501853308521694407739675068115556157227594324460770754,\n",
       "        1237521304577593889759076656322672675682081584291759434505384977760436095149017248138419715285205600118705730202809958668494498461791070678843483711612134122741661737106792012699508097679665276135344928524089819508526771887524718094450416972097614512807156346522674554584258540786342247942292327652520517704516224142160384810266764130337624115844715444577193705091982693403819068924255196118777347535282428292971613649508294987827470901393822085439699639116544011477766625988468831687090407252412775441360450950299657605255663359881831069048,\n",
       "        1687979966717034122559027502505817534102106310452121866781991535794163663629184901696029879962557513079749961370298597161486313910850479435496359132703318700687522209736273914930799106546261413304360843655115770230183174139761834892719126983261618183534248517106942024199181797012322388240724468020272162541961351800611324732199650360979730824985173802626928244563677528147382651858036217989352876079549392525126055491007002699627356474545301826948980551454903577655880831410276947957293063994144334223710062835883801089124882050473142038952226,\n",
       "        2302405912123339120764403272494591439187948689538278518050070960208216997626303354930632894688643733046379066014817489338226000668898515741087712700491038319871903035742014726757622680837198247412424326090506434683789358053407030318386983655585819299955227784490215443682238555383348523902596116671978882227752988372257989095105133359140483182903892911498574702778561240375723340953430325592673441749852906686700232661347201190586702058750693085780494911884127596466632931810243745482579426378420124293915967068596454985223944372508725622961905312,\n",
       "        3140483352116201277756768622710125228869896114636522350742163571715543778925941405310284964385190014432774125794172425755937426398691486321323075619828908971623976428274317823571312267461044955731960085148294432024458914568021329116114738425346040786757114232293170972124597588724684398925529343865047215630817618101111697737048134101517980041211734916457858521518202095550014784443130822144624563899675444270051642476133073430962961235492419914306422008790501496484064974870003879115186294873229043681235602791628400483646549248983952222862077797794,\n",
       "        4283621594692410666199353165779883306769977488312906024690829161890961922671981703146583622054293868330036953962317203548587987833815856240800416233159332328333423720069205253365996690439546156816640968566599695787796643260139146321410821599155655218956003768075669696193394793259024903482945927628041074099317458842904727971322750019603883916695989329941430521925530436891460541703771394835593497832599055837257127037678173507034669711913719513807045400485155925331861092355617101356859588786510794001329656123748206856148878399558483340709497078096328,\n",
       "        5842862995643800264897195474892383540559478163954918454200641718982843778068361969033345370767021221592184837978726459812699771342751226603938089065104949124755761578150824239909043057071808418942854013084927133348986645865744363603733476775986739064696775896769445758778762622602898693035137170813991890118684644679340150064581968074873799180353370657775027689764945034122047728898728625686571675668229011837462991331035504796668720450011548909252724232683761472654155014038036596254635594291095596246857332188395345780187553783547020260679976876601189186,\n",
       "        7969669409679738253730440827106376929206434985611997084435699995521760804247168397743186232309839000545608449039936853501726036699500506903627794285219383765499187126021444332441188095842637122984209690488809176487713572757518572094638783733267511239901621279197292090643928410625147076324830583936212566162959954660078807592817775776877881685885914273194467710269906952072909993678407549207878601204962204745355357432659466220829641728485464625940229660426051133856192771008974272908424307472643179791507402434627375392382679509636535194050829169181100146032,\n",
       "        10870634917666158621888586185368573023821117879852927978088748994533400719836915762883675054215991163765431516675311846902814126757890034167774915343128304561090015995654828220274020471772414107558880960680748801656374662227901198081450904745653661317964876121601003181084077130855323215005761951626164754238167496840992172896753510741629505493347567422007911731835842847572483353425076795848172098615244115501676545001138842960716427986374623761331382509545366430341319593811254946283687010028279588331212343778163928430555755038698017551705591666739897200376834,\n",
       "        14827553997366050039994285287283560710868933994554379374110138064243554103618357347741730517136844257215049134353574399112291970623798706105351888155821292640710547317260311713898096364685668685347436614578231854268471526992429991701671128711855327305215330931485047536290771850415071490414935626848672660993426628651067983909979381469358422370807767849533064796691799913995819366981798427944455950389794178506491552736910814457883428603056715295920631683249540237036693782151322755705221990102880831126953428420818033006653442255463605577061621084262388962414147608,\n",
       "        20224794523042209920710827020440962178198249789690053319214206408377202330736159259235483309049709782832490784689792155701013150744988193017734143219455586290233747630759060832585223715451723859228011101165668929970996819192336736582277501013875412097975029355421726440503793888043288368249187200783541135759788159647553571045384773077715629743287288694330522390599346918533145189046526480793033764503777874726969979609691352059395957330997346038259502947334882428684480660173998050036869078187339481936752807578339575185003725792207396705129602864525565284630097714146,\n",
       "        27586634556983571697899608050166759694623123582071227281787551651164568222678224847954546975274321280627774645366010853950581049908134519074895476703225575521171472478902676235957959045972516029655692489426586998712293929849874301128218213054054773956965245256126166349894711154062895749363381756804376957849012043185891721973888740457385588328266232586834682073842305888679124033678829101600125999239103410921765558679171741119830543682908983052901257940796462882265868657171115491573045127869521156242561956490283601370378088634013144569402355368833955310624415696242752,\n",
       "        37628189760520114838144986091254480664428118764194943702411539666394879432935429428769261309757483276486067448770023494580748253087846229006350447957342904466464178694970881144907488723930227316174223783588965831912498891312047739075626224883231725552712692504385446322982826517935677845420020965468370954047188186693715956325955287368647020195384884535731200679243295831505243715083111941109052655995901556275162949008369864578800920979445183881503354090749322706293073532862061704503683591283105044454336445405554410608770897900519721400061517852692379569256987639772827874],\n",
       "       [ 51324878419983993622801458928079161793039648617485485281316621892514266711092148419066120381056182463448276627896957412618994567792872164499181085909292424917832660911412760784330050577399876031777670896507838821315647200043562965973455298958941127708674069541227004910714925265175418644048657960280614785697322535662271750320324985859574992932093310772969944561169929356479041106497398366501849422904408961862733184212975174457225576046506913723353627881040016967846634564692509336058515991555283150156871154095132706353964875114397534002828479753427774566421841765065833462888,\n",
       "        70007171793047927821616028122886067940186745142368966118659574672929126188809123379035616969021942637626725806518898680835803171217730720223112007530722824930828215947345700680707333895062154837572059277060475741240374693358311197635532103406220581426356983566926139083661481044525788966160214877843724036062101985831525361152879606667747659006395471279215540112636462885533243574506166455020463721894269819882324338429447146329520264528356409763838229933092673893465515839314115596445520316164997499919016708522206417021218698426936136899579446445193337200978961424537436616207106,\n",
       "        95489833650595793532677885161075524749576513413839887271336941170497220635802355381153000611866310813905317448368405697617448144535552495256489277452991842498074604384840447141245587762915356598324320631581385418890692397387936517137831762501383832006678634259356794937119170859658441325261177142036799865803492805996736254884278103819793666459716354918160769683580696545796700714667517542046279018513206938728452260350950120568640098042254189424789068982366288230703931451459018366061025769765048145172688947295443647949648658619216005128560367779723465369909869804910828610339955472,\n",
       "        130248203106584455426500456975735138644490304483222748607069706416132881876360601549016071870202616972109490626300311890448880104949664821260571597557888403890198691209138317246359662415950441462269210913536286771842645670411838767687200159583990953077691083486746235220369632714055158493445211781953072860680000249481534083187516486489805228798712114503842569063944182724929585308050068433517579601715736158695428765443034393902771423249899242731822053930177550239354055965305940365422835595479841835013047643127693658009737791575309057931493241230989251957894263392859794761940315470914,\n",
       "        177658644527214847797540155992787890186609524891629242939930350888546421376576496315213303183956981416268159119591073786977970080599487351751914915558237235898073512883869049564481720780944165069891802010384126738178787585134145467061858155504326161381802644554556124197379116141142095843500594131761133418767386143785618486204027371850198151875109783899596182363989548817500500156881008010835520623019282633667503564516559264233500789952960609340394706349831160892767163040608754117455113813260274028005942157915121444968930297357380174234561909599437119394033145177730564966115200642282168,\n",
       "        242326521383324158980300199274619657949674036442486770592813605681683734890532217334552494558989192854406741148612850945749841638817805697454433205393033147653376161772288592744270313504870257105773880211374862407162638108768644828911142211308060468115731884863498040151460334786150532785693303840933967936271575380123833096716376522720156768962878543951163696587050808531253407143571002976848083647377903228058633557429352279448888980267261521039541111283223633635284649741446305922149140664122609254041940116443868778631278935333258132965000376186873461842713167916687883473575895616388348066,\n",
       "        330533552825498680063977269350737206231245572317076846717840698080167502937107321020825917791764443010392211194867048281076570973317567570815198644071012771636440982730914524372234272102363811636440642500117322707496576559148016680780265038082349982836019672756455881322716094027425467861781509939628064026207847585875052129539623781017665683063518209059171181740919666826178464844331004941428796930544083022354609839837201025727548802585334667658543416185023386109689155014495801886565545320977052282787234324771594929174509436724861450744434747680805001390580155071507450788522487735954349044192,\n",
       "        450848008380501582931423975694604823919076910314529261409905304994954155689949276404623886420461259255367830476539802468239388557446800984397628404946066813545253153821129183532320291417937743942362142144040239547887737589316003521229110423086536684648798949371690685622224903713743124314002765250956520265715440378708951228525143553684618711855407800035253443058311012601715957301074634311111855861345776620394915880171499628444656015615376753947774259217483181877249642724422015219581325966953363436331041660928571927262809502971646352073541960836994208770213174230704079563428146847737348484625954,\n",
       "        614957013964556984617142366824710330562827136914590229639957553853815548528593750123228001903426949388764731162211485433726807068928409860285935959545079204688496938253002937252609249728339185101193598325113386860641581568403587950973187397355074120210944602962658851644596091381639648989767633583814633270499886884406595350760425346849600940636459302766294755502717962108407391937130645531361512823672569854301687615163765330399536532848176477719431748116063245103954622365266643255310815184469708704207823612740896880381401336562762349089761979016407781567572160230835436031966780822801479287378845448,\n",
       "        838801817895664107519365119772880585492520133828411387758163513361909403147157565117359399220160779427534348673086942671405833081406908496231001046447892981261923369030249827541742548949746066415772010477596803718154665147040083281130948839102744186504413087240016045333914690869460194965167366211088410737482111425770974767388448698246409367646842344381026081759150358626880284318203501579411414603345246627044122301999256082164596275460928330986058852204569483804975982155866425822259171492942649625902907738820244273412158685881110815804787412920341051052377196768033765451682252470448065485333229817026,\n",
       "        1144126294566699807213398640512575943322128025369090047492364672183198279708271447413828343764301206566106240354821752015282990049846092117268945713290885571520468163854199017769874089376703362930298123485040365384949823902144241999050565189723540425466139661939984848494311282942035087572137277279558176060558870484638493989313194784833449227071233594195022341814236591885026816217421513284962700880475740071858037121614600459837839719265239091641461993838780891973232343615224170088204765227188958559440270363574425929831064828943171715520079120985324210043224063963758286911530624336471984123473812849268912,\n",
       "        1560589104590796432703183265024273359571968119123572653190973171021395815431485401430026978253906065916948339378325542835788669833823151054863338183929814367446899837420496490487935799652372336782993056205605535981875277957189893126788252049731748243080001003299226573362285923847626728908590211376683563235013036823158331572397965074961522992134530269324354855260700470481535204200847262324190703412383512803260989678004617026474895541674061581927285145654949341220972721667147923866737122029057232417726154678823255788533845838837172101080203725811395142840008675623763071381093223277200256792483766059632612994,\n",
       "        2128644682788140900906949186891749375032107836612578468042534897637856075446825795822004212166671638211924101018276395249767760936324827884925710551825980088083142898709721067224562200599925244075365458962569436119643264083430916369181174846399294327101546834639806986051006494439445800266404620455073659810733842785658448903244813675442302194720726358592014217597937255973405903556771883231709404417191991939388061778835419238712217356683139262987908580135344740206298765586333383378399522652399292206737034422185284469986095555238731689045113402085863960157981876774876793122098068080725486736931980379151733392728,\n",
       "        2903472907912128779633511394103611171817154661107676153982670791351206708305285816986615175422318368427130390737268381446226061705816899058189724056028820769959774360739896956190793329554097685291135269018000916472729394085077727117456249278740687193914752962449700028200146220701327919190104810890931848665404196572674947462357498251268375155122062887649776717158441677848196133986641049575313951815753289388838119527321189846220490949411343628777089230589755880590732737232480402076060815634994663627221732678015406840316822871191468861029635760648844253050630119929607569581613145955332841109432013720929023980293986,\n",
       "        3960339175036826443561010448506512530107973989858706886610831001937943587984485301195538921280254421206244064889735090569047597934495186640198668538133863356205220311192118157965309326073989842662352582306012212638239013175310103219126693197377143731794050142328225478271985496043105721221103228459851496653271134858971413997104530859543739153888688499480654034218332046522195500163681948392611461986091903918367134423327881785663988367214429392791212698433007156470499659883868854765130330925655373586822650109847437115476616382400718765176112222638425647025019641565861499786113453181142075998752003647327567860854389632,\n",
       "        5401905538223139181145997885274277194678448339321937301013327469314146405217546256116532075241442452843685331639989400804562369808713140394130042075738645646684690464240409907361638111558251699489134213400669676039474486700517065868615926977471702790854278308888662002063016416749016905073503993724048332366910493351833581366998042449915911474279326235354499752450522069897952510419396164248571609462981172697942160191538758076835526353371431103110842897751852351181642126814334350380039847443409564567089721971564582240916945062417451587169078101314573231386379841725955015315828331752223746995138842406968523491229367752034,\n",
       "        7368203114475536879909584676524562600053933642809112337289065278975497634660321077828250946168248785933207998601010432432513641466682657992780017589976050795941273998444230305759432349474781392093021729431095744130055838098518453154895343523964599983868967407374277299039432664431155101625980668542830385199962566203035863955999327006216162794656154873712037142996546321672853746407556531717000067918968305651897024868393289344685443609986999239072582503746225040018916331474411937787229117043141571724883967591864200024047828541753786365617387706305300526036669129133844206752289630623486372043445379795108713369604718468164008,\n",
       "        10050234450050170527335854644777388660750760167239968549999586053850048087823083167703990407105566585455348553777109869827349411522924954215292338122769409024309544418568394377465773086321713377066581128078227995663072202640865870620343117182614691849700062397936823124551788217300512307634742705396414369461081307211434270269564449034521295967822469527069454017547041633283842408052417528658152341213082231890360239862648638204909021919548620333526105645952748706438153057773224697476130895686692547242306298885024740397383479047897227020153704000478531232087248078518405223965138371998767163691006493179370692004664327219943458946,\n",
       "        13708527158071547074822985645061034657826636922048959911311772666516744567288320101069320743542938990809881360559976463454937029830911104232316741979475063885209014528201288375093620249175166521100208751720432417180174614457979146044601166732429963647590868979753234116165938167830563218768890676141377742775300102998962547683549864482414053916272643091077608991971307784345482717437243916646251510414712083266757019069677610904785250583707928121928847173662052981806680789719009961769380328945765677580077516563141337766231089469160359409276017874040422905867532415768233859332655491695949034760904900142041419003075511932721346166352,\n",
       "        18698441093844040260229079755717896050664193512434948558997807916714893439829356440941721198182975889031263631152361673262403936038774269097834251352342109908834120126010975912022075485648013456494061803927797895261753837192886196070706611766151653030005794988445809271273464212709105530913074516999544637559878801571892126474632284718461804063091852998699385734502881364888871710426808754723015718358008494658088464371280123922765286705199533506931281070980686219933019035329787361078132244812920070911772974898423669737879603419413778131479508533895137322134546302355949502534966055811646482181037974800237674890887002940559136114363074,\n",
       "        25504687360530428986499539609784855274140617777598191883432921310171781168671809473764608783642322655577634402773181882306382423693917933960550151161336617390713625060893499345286486056044139529824421400766268049569449414105711229419589863050197587162891551955109063599251121352073387774728652410078055027009417460644163859473946119905846383156111203762869053219470922153016205358504884578686110086091834001425715932159445158708262755851142747411382389309664829666041619770870619679520534151305151922489335917838966448663805545295169862531697458916250841347814427023945930889691553032782577497643970558532424330592588875086434594381337399288,\n",
       "        34788412258204598981625632256826298311823853312837446163951063664882226228961787951571367322609326285183782356646251239827578888322440100696459504018314498463043293417178859117946679002519691966693967284706993547410624262594027309814516643907081275041837106872563751195187800797692313633835412800420984056385482976197441076214588982183859185086739745024406387290744072319595468997872372992136608880444979935953171189553947567758194321746245412668659085949663898645166989300486560572653369660512472035195525103705325134401100501662215111907013465441274681493556200595208552089488780871681491518432858022876201587165966116504899727295280326991906,\n",
       "        47451419824878433541366348897850680682183010059328054165821134271820666748085047437752818792647904695313334712099889464306699910054231991267904724031132137240208442934657024730378615445922915886710101200761739964936141063627667356298230121879121909354652976665728911739299759539173667869939277788426632330964825788950770272120558845644903834304696168324494075133628134114850372729303275266158913199037038724474126928267516641867335763124634594022798404617730867416837439447483439491718875737473163161158618730789981322289549748072806707811028898559357581808052005426291488995993586800526587213719915987173697497318708375501558314465356747354359072,\n",
       "        64723771429546441555022681522300585276795937544776778719626191097827054326614233666882796404539064613733673731086605875565578504892860758529522740037968253510142779206165598911095549414917859789164544731806298019166443821412400868018095700759766191441021702009161108176156067199233680666910808738826726920420078761611826848613518480048631013850790660334354942888656065676728227998238665335413749740095401265162645083328082253454613739096323332492509692557670852820464912573356711953265119159283055064292391144322638228928080257471810011669355324648429182860864428957662186199087341884699136641005483839362946262544305390150242045830473898671672766114,\n",
       "        88283271681321171159484478962766896168230340994085585501624290478570373922168562806675572048610076781037426282536842514160913387373772128866260285316512728919971991045652811571759059780563406675336325724284991259882994308547578411644038834066442964247462956193472417281188614959514279603334213059037443946085318395664320772279111327345178347796312765392228466594202007211191417839970268820779620804403326362720572367786432461228735007463148150154377243447067660977981557587498002587693114252137824580857982679474809334239223760741296928723708473849355964779800889150256648267044130324316422904918693676807045875807929870873305652071080863144909007338568,\n",
       "        120418447297093507007978384327895568674051461911870283400994251838961087856892246282539147157100549268399663183053984275921361425956330076634337558694463400215095305929049641149478268636237901623018537452469459884778423403302718365883336987762328962999730913269598386332649446960844676612628533523335812369187294711764895145215556464017303315025184462785659962789434426492130770661947444910208738190955877254152125872305777205198248004793473173133903052571492847244819665014259848886325361105035152011345352667194784254540530137731386482589150027685846184388831273665379025898434392849709485541445739180648649937548278888176579059667000127803554557682572866,\n",
       "        164250850396507224880053675707728518438302362278132060644541661132633402407174946097946203397857197812173921619111917089199251145917821598301365296319533394406118917259214756180699930178888278377203960421494067567829029405099216398643283295346650771974597213162688392430151126843207098413904923060043107109015416072165712642394791296030929066872699403552405581473255151937273582374314154827793539672084620977989862410397447894322871507273304871302793918084759690709595001061008021378950380240382199481299641896036365198002617347089371903548529361471968044862330637080466141582112778891134062594954893161098435321861728211402724710691440245404911561588036727792,\n",
       "        224038280359283151829900221643726027045413096198834042589438226779163799844474483369844903973824374916354497488131837963652054484393334616413138898517402244433346418236874856480115854242272247944407825033455360631978680886978734470467804298189819415302313598484820236873112469663581443081242927682432321432509396709728743809121640543342651264517677011629943998789482816676867658489335169132555298321461613969855426479907991233633601934168792637930184038170664789620734826266879955420737204973242425127644722891546269324859824601960041007826676638197792099038403377809029482497027728841899711089004015717477446427669334828632204681962184161732427173560639779281154,\n",
       "        305588378660912615603208782375718008618461901517571912224054385868440555621265602491414546966499845243105346747733446094338491515963654334609119758943032980940478920594014563453634205886389525084450650549593533396086488558868398916934483706014209029123127722930507965783317838772251931569913767263760746477049926127486078721354560095910672355731178316562647166754436035202399423453035545010960254704013313539503779708456910440124127361077740431441642330858704857802373012623025320201906926533882908256306883323711007395473998759690843024047490483031149895056427069662153294592087404253130097059464072393532398025776294567982538588921129888043276069648274246976221848,\n",
       "        416822772531765166965928609060701007481609079083064287107652771762779697031206126272772811907209762735970609318405908604515666079828908905741455764337195503405057681036654101425613536944889554487438631757470613007622602372977383101433106242807679305543361516390811350148682405197821298242805459790697340627017531747287721104671429092462700435868591741468462365397049541498889490457598972730118919971572481129497125377761705748320543354111972117279038069475311596707226409952632803635356468529421260104027716498264705633695859168042911844841784845531126654649065561422554902853089716428998294288820083748793908384605293460063011267493103129475190291427419633515345881826,\n",
       "        568546567321706348654142225967578549922923402331201205186750604738817375191120777501664606855981082871709154215652407070005462871378147711085680271675693609677479617412916788359100318027035238710391378167840465735930625723229709418753673849673380586970174231484789612110768584007667023055118217068278436375998390353226579072850550636679219305197114866541299229048742329040520467383588451839427217801479568273947618519046675097619661259136091045709039368406655876613514625548403767183946424981057132664802061610516382195368547379209291447207218576794939788091220482207434549644908965296557926540047653697427284568999646055820515351399181589734047600783070028389178759032512,\n",
       "        775497934649579991329416962148386202795875002388837526939014932516518662540385771718396796524370104246774022320759201649396055872225873306829773632021410420795585603208899535975914259402413010490528327259566152734422381109087696624563112564060733928306623195106769421730438497268863017268479490886591577914202431459332801143089255739859547594989300546554073616884849933860811416400705105907951455200138102698145681157105042594858966278004982298319246977544748091012430656474432691071706559030630458376050116064460843579188332321100641576902490980533143402083079386796502148270558681754221440798919288463374564946023901825432643002319751181500370402658398946142473342666228194,\n",
       "        1057779751408594429879673390512624748192123426181776717946021554703136194522461383744670732123847678173682638154669766702183290215178962568663522319757475489658788440256556379987935408925209373344319348773426400170217863763421341425613504291052690751590821008299864976029930221043313163221229080687527980553408492508920293985752817679719059598784711142614622954730164358528475812491029148046897624320206173559838983045909797146062727622860054990998498586410404802796832028945751739025574930464204926282065023113986201158395080654528654320186444904665784395381108374810911137675591686821723341807652449511696604013661171089536180875679492010748094963273656945608362028575494289128,\n",
       "        1442812356419257451935865834076182304920259149186945832115900339630010285847299867813502597013724757399007365216991882540979657249559977169530351273922828589305008228095546111203079873688244987654662082255280869398329900595687818792233444416108434245903808161944210934074246551941576423496773734537279052066427097984598740329367986404392537152289940987826892264325561069882774869049180158641074267524216420873723071020302120412272155336547393012704250391110769695762969899912661846463575276859734550079195067577593242840894469201109405593375887752455110448443233906321469588291655331383512392447078740053242631249198783390029176147069829422411583030275670732208751949450316876598786,\n",
       "        1967997111935618573034950877353303176535981671614420296782806009276888733031911542159001286997452692939924219838615082455662954671690024038201967801153057953287520881910765152237380935646175088370332424515551879285722154630381948253947843797076195364103545923712912013942248326778531284962762595137929314546587115059485190729551919208409100394783078292107023663163020029484463449858894227415573347800655518277931828710675138152136365941778266929383588531973676275425493740312899704328055703211608390512948354240860297221181214385393883758019031080793675317460966429330859329340955547598797725021157209085072460720511154205170885800784123011661410001390978152389683267412260795175033232,\n",
       "        2684349503492540152877124932575739608977383920341218471757579512554015861865813190804745568967122486894814034867236189461406811151842442348084653611124044971112767787934511763197898799301256508782121081701295018626594417245741573106203651172656346585071482543752573931228160791972468614265631676541870122320596891368235784753849147168256417331021271080374968103446623645777878028382400775375000687474361651147519888084431908741634415416740892639072227461862485550450069224756695109365314442755910704394211634379601023002934017316146458555343551770090325588127206652841198446690651658580091480441250880270778889665408463534636478261445690857735585653480324475530260185502273174935621927234,\n",
       "        3661454690760936704142971442984186179948328203327093609897635237929686912473702224169215115072442069577219283483130001040441346074067763052811505727540998493655768550263555955767086199627849524153901525772990920958554070845346136098810034147347053818232866293224434555107225262498773968389606569565705984774608706413388669889440966289420961648613408536709748600124857815861055115177044516505728353288377092820735405278993834198727494764800519337961447641568962264490169848061872442073993227974765412402095182242130036236299220800438154863372362633434284895880827335441824012145378203258792378119591221846551490576077864772398361519497723114074350492757163975601427282708368022872983483780408,\n",
       "        4994226882547421156991165925355362525189128646722076025118846222115605502629991699580000221704379950025813997485024188655351457451839580646477241897019533069391439415327278258178068774191186052202430463275441317482486379227469375380349992780632554064416214695440672485740186486209119665352037626519299505102688596144753513964982231867917359945126020265343177465538409507458124954979517102914588848886033828969134240320435674278973044493603325117872053655327526391250142122825618767684036128272022778427162222789899749027335140105814959380098457975556134688307036612749300793764742559896651383846602867849576503924659872958014899749073155773288271807706425143044822343874399485471924407498403746,\n",
       "        6812129129249373219072654465156157468544151422457115025355716144600923835274221151929344471619889324277279869788856476455900428405655262069558010759040370647648417018274957807710841575082977403053639305809227730037032379820339073364933488962816951090917535077447370494984169474414501722314147712178894090666052019750150206436905653708805568386113540255336630772742990693030698299647176505420015695608903431090991924532479538710353431416769700261296819147314387566627458345703992060993467352956267044540061673980605499803321367403552405032609160051021201149135693820617381724519120997077235746359144431338044197904726642792597095656097303972488316820062056652277113278471963606551727764811306489952,\n",
       "        9291749126523027618236257681638924142456747729360151616661221940081882226919540281223325439289750742694159768205997718910036839696771229302457773152572962582925510204366457776995846086481955368951216215554249899211829648561321723539144659295275101920565582261852908795830892903287866558356162831449638058968000057627801026333453276641042663196018814034299429717198904843703379938843703732910004323399393166041941954196542411236596359425518364759733979188990479968406244433682367996813857153468476520775422550471768691631479372473585586279438274408050893923555774678358721421544874804755909454685256850947960135518551065428975396489816471691629837430836452980131125556658102233736042143127029550698274,\n",
       "        12673952620706538920647474550409957686468472446998669262240932081987831958442088217809767828535691632924158201112850677449766705246824362423814472138120280003481043567172866682780141772802962206226861971655302671752665677670022651246466680212244201836602545122702445044883832904254124400099528416245018491326442744656340350069036706244035901404938048456324677470890078949802103267281111538865751317132467887384639916516008381406256144609838466301977408910602161991293684035001095651646162150798354930604720898905166475990837667375338143237558838901741470332931225796975116636368933752808057573426436703837448962891501557971765233409205323484687070743977741926955507536394929918779568034953033118458935688,\n",
       "        17287280666392845610790773523016863923267138874453914233848248021053342873197235248632804541448122677059294480477696530039200695993508127117312242454169214497710726351133994521769890373949326931248808680554048398520535196171559457621904090954160386580227792112948396894130343912295528969602315115921036671807326871711305865295192400770141610558998694113240894369723784886434912559951374982716617706573009597785814888069789628780544617844179093554261945488040537946604553429985928151213361987546109593821360081529197545020194209779333700961616535700249773585012115542848737450728647183704995286063114349291131333344143643624553207345552551049584856124623070824820292410768241067317564535718080300607538976706,\n",
       "        23579863502912462119657535732869552801294063893227586013638272541648841666872987321223363204303067867200510595529779179824147199101850332212376322521958946695157434223990335700560813250208654737185581267137693670884681760243684770218928426528154979539632545044606736066038833980204005768661957917644710265363685179456965856602992503687179400838375623708509036244980713475176170533876942757537005417516902223847738891967109569665044264995604893446479595623096204361330602172184840999350677397175044284327265755926724356574020892976678543449788192253979592911426858531671474857910511127507366378247661398869806976130374821405448546584567088836957228441056612582796805803795417210751076806287496483061801623162672,\n",
       "        32162951105253264724058489530407593037829026417501301776516837595057041086957627903383916043473926018984173511597099278976666818775619846645808421232194457461409237992249169029559471043174979010848064097184494721135104441507582198138075995688494346252445371668635700942473863679342176163983880201982500722992738392106173139712347070221713472885154909737100438679048062903925183043120709872655458106110761206337913634458025522812749157998622918840091722691848710789392887967413553109042475183108747949931984312444133551564509518214399312599212055850963864980959820049315434554927387906567231444925096211172766006573164600540675442094556854726160709178457344186005667936669359843705536081340680920976598021532861314,\n",
       "        43870288887428955996077899377011689773151593327535668850754980117930345691451871333202982706661639392962279870329038946303353364957144572675214898937035761936308895778862090546654819063703921579451496614140917937321953342898102361945105877047532816443315026588564140692270416097456708491679781257462048630872360530517999619533498006774920864194752135257028706867257802781667424846987182143244802393740495802347138045139638780226159516554386656902778556231277264612936260518154258625574935500437729378751510929439554091058347556865333639063868693968906965813622105974124784404395815015068831198244209479701051702772772645512302708465522134413572044276644258526324313862422810622231561966025495063708562763172445994968,\n",
       "        59839106205404201231914978808733475258171811127785069813731569397694586580181439456116771795802519605926568727302320719857052966468363972748839767958538011475582795251605883754806202762363192209350852229752309251001865494817453129275322554368830450123027948712173156539957790030794629724827385619058436315010622756364943587216830993588062280475114797645496893267378322042257271416473559564095783120520142385162702631484101754254004393329341398638308790791184880780755848739650376178837321065072245981365010839739864224337137632073833298082429497785644952333645533508526255243030446607941792321636546655408445695348068461643381435022414285896966994554051947087250550114012650358083694227194856607579400585565237869997666,\n",
       "        81620584734460217909288027173011837263836123529892162761598711413435534025713174870014609932457343404123232706320235790923966549616213415973990118710344784688456869032086204303646207222682457877476141892878763959284481856884348966433901909264961781500626565358430774084643117872419972401373045664176964595723120312042313570963377008752123725488920778740593019445410898523441699879494782232608791421191867953857728736482359932441242218660738222129310093417732408662215590617143631262192731507694043956311253536916104241549946788496265483918072898848313683890058321327735786276277933569047619795543447882186599629506468154454217789673281551485597394143771132471268276679827117511236781157455750438233366107273747627122811392,\n",
       "        111330537416909942632470100978966954761347730666584037791890456099495466105659350704139384064643612205743695337989528921141010230729481567752495270760678244853066644942560834276057181457941634908069666892738863792773284254655746807668971479559962238797304758176848288024609752735770873150102559113322998767002651116248472075737633456768890349629168417316966524020433732964296520892902299438837955594288828409204327159264570431951608640257640264325777605730577796600142846357632652692007064613815741028654531189364405925338351756646538193897549516458597650470991883936565121007098344418627561342913584547849177303092517910744014708495791058640640742579098378742757016641834302297977327582463870792606918949721977328633384736354,\n",
       "        151854934657249896210907127023338099306315568465344157440301343718423229203653380073620989878783819505977804564250423768672128878681562474627819523307683836324367592158522010038746299154839612697064903117837703092106719007832295530009443532021697758681305190779786423296341787374709343396712292003618234495156211845683227953619702998409775189017911210141121079356891057174198977939618615929357204039401383142022656102965610551541926626553639981278582783526601532295003504647401555415528898325976178457128736853546586598265753346012666592741741458522426043556116819747796152789468418064941562719353924866714160028017823936722990516606048677267385458475284332376253041967738668161558586059261877216866275680786884350003563903198248,\n",
       "        207130242203026275341619953729934146420769196734460097332608824722385384129249316079769734334045194449765931169332916009997704931531881944873913582286951513424682248770868964253684228104382689660431435922397519756497357499967505758679688646649075302803539077528386858224498222588856280163988716395494385174391839960163039177209350627464390126710780519800906469209323422419340370206160685029942665147699080894547312128772252056873619870227805192104251242507890220628181380481902079219434109323696121231264625722768733484440412902313033879037929246974105582008193813127877888969955929338924710176760096431782662127393614942208069808665358891583772406001030408459587892001012185206668209362160782987676392635512259975382189797347146626,\n",
       "        282525802219862496815865827794757199056028490661372038105835877222677382375525270786185991252627524013300236092774661688060638198738365654370492754058925171995102911691057425764035325880677143536441175663053334785565487736674685687134625323472870734721785983053910454404638871952987340853024005875746344996104964861874231120941507875564426542608693646919646565122596505071037439160181113999457724618665585741545675766301454771186169044917352835670179973363545787538371697980819083456863540646419835335623406614593406019363321464508324223674328234614138536285219917223245188351172677086711369622663490886876417855924918798995743942010066134168942829170863952423210260942422588360563599128573367257067816421114403393305656887145411196112,\n",
       "        385365401358134648683116330732002549446569282031308194436457469140556671945600598601673771838318276799335971796475807875430720500784062284443296990449956221552833796228851099611108438185471728166395424035840671045031081770181771244757387620905642331235818884424611388194785645842097321779804908003234410069072346463436411412003393951620505268508384845178917715733690842240317486354857245655945366322525006650549196292547313080149991450887139495659317587919118962092559624227217711737241088875825979093911557886931128579145054918002256554125662749942931937598621975286319564788888501502203647090023178329795865738143716635445136944971538872365329602761464432135667255513356411535993955879583435099423489274792681740728891376256138218643394,\n",
       "        525638689978297880666267490984279272202319556719195038583366093743596523211181592017953810973457382181818278830629094716749190823707659694346311465466494345123237293159064590926977673720309317896106894826062338358757181100015672652534763849540619612676391680141152987408142025567492699894994747540417611080559676681092127040203750291518244750671979537517690683907319431412298122425464443255823479121648727736934845288710301342779359525179103189432144860101651627840038865817622939628680302090167281903930700581180673975359874271476542448151627665250393777023056659510457109617232267221682861342161237905332447743245885415665965788685121031972443747109466656297002559730479087757684116383350934048980896438633639008757601142870259675640785528,\n",
       "        716971558495799667363437540818887659286513321934264063935905788323734798216723637113087599841567707614276931660949881669453771714257748607150653282193288736704317220702760330875497158062940095082017970938173065362015840051503147679828662648161026057332929487531417099436093917659705884754094615450037624748293468065356124719249327401024837460421848597558975271767299438137216879305819855458188881467295187158185779522997143578864126542335747637524941248496240739492775105534861916871231669292077048342940569504288326233519447651348921901535374261064287054791386882194238783837469601378876925074355018526051788517653125850685012780903450059149285636386915280653543627139628989057892670740846553626245042165785558400627108687766410453712250103586,\n",
       "        977949731426960724581609471944453751546076373437892902403614078639668008364134252203843504137709326643255916603814469226229661367438392807813185423223111303359033812275858250378769050575524010001190408466562887216127964587431393450958948386855489082821728497384533064783819511829864394297284950468598860574283371000822435209183122778748169814260152159049979788381280340938595235671260708309412890144869756932493140204213392551872011383105484956687209295093732470319773083988417472235299625594695184107052840734549858163194501956314200950236698643719352793129228730369601211611418153513055347484281587430772544870526606906219773099118094565800657580475499552278089804421013671554053360574631082497132286495027940292094385007714526729123184782076832,\n",
       "        1333924150637932924128982683169775735996507459882607853142593539170295487143477336729679652731435363109108684524534596974458927558957682047605792067929606011070458824261491356276971860482172812581718799166362716335863905713096472170255685428333535269994895003361990631782229250229852693527381426533784295860947266338589866981450498719539904651488307966792769990327338152339682038672478911953894640346483815751107801424326590437897002390682423816668991003449099585756909979335306966990865560542833523199068417702495510822923534187860221445044758485407458274115322779611018246876758198861408872845485159610592277255186809473209621192209861891202156089054217776222595146773889787628717841716467537372642065024260276343975141777631302224934477755002902434,\n",
       "        1819473519419871935472656961453046048352987721356250549579399991042361684131711451433535250169181972990150888947381794087631203420079645751327108193841405822211409195326486485820039996466734291885474443253327211645005583520628175471622205883195328963762119606314252606284025481133030903835742563077032248153192645569207579385133689436575208692799866326857497316786277621071667239344496907165820598845494069554267973635921673570684063132902209191421460415913866928704895531586442691393012859880050520338713428799044611312325863826743298365242000810794416805246093400618159258341109794665115215616589241990435296948619678648064829525947350737694306706127533522267172058289390091339242690154622295607366273825377511961122385479074103949337356781008740996808,\n",
       "        2481763214412855957917628224404637979729211248437385632234154730375320507451141563232678810910416942593928921632913291670125935923916195762492223182191745471102373212884151828149890832152486056304599722316337483046503951786042544439764859080363857040106801137907643916962042538494704382684646383418498520265250629503665476871189333841987304196883669158141593132866473002479906454147932453853091250719894257355837267147198587077003500010281004019522688676297517939853063261993887166367036531741949452575528315950314552325523301183212046830411534150682069929813945513765948839395520636681416015509900571560113355630194496862769900683013378616076925549314044778590198910101874858476514658088746527675984970139879950575247277768598855418198379583773677722548546,\n",
       "        3385126843932654946471580370744887657396692495856315358617936631631928214525041223960825331617058878880092039258182677219845864231425111099685143747617734663989459273783178420082936915095987447533765906713927580202643035241745551244014739407822184198034640514225632616988832306532257911012761502725395058674050011835645279659881636494160119499758017531571459890727185961660213475125019211552523631802534612527431586656752508694706344698086422384838138775930230383826506994255193681367329222308878933363540961669657848416625095139765058619979697823531154178683026926870154835094748489543246110270719996197236607514882242340496792596459774379679664143571063205530553580551015596352057332875740418372339106637070077962149247998754317864526539089624077422297213552,\n",
       "        4617315496887355759843193543324251169327068293559262586540497799700680459932663680624128985004479221209388135477082804641161428937599775456166298563973772273427093551813468249144954102081759030922113001357519535733888146573692717939380544317128539609976289768204900797216684228152538285325789374363822278529924481394449665121555423367368244984974132796732629432545014518177533659976980352490096086869907931381674040037077569058166531171689890413923240813057510541057295393227346175272203426265842607057322447245729255554828955293940723169699138242830644981793578542196404961018076335257624375825277584713602292763655008746934487871471815267261677968756479526388453674070495375299064678557168019406398217437933726220322149517578658166069617516626825377691121833474,\n",
       "        6298021722881197189081062464674649339849778549107330024356597616728359779276367785412535896371441274788484296882780203713221408916750325147321930926403972998689219594132844475012137478176434414165209667617563360668603634569552109014866306463302735850191857278471998913036174276032368753442287719393756313309875666672041178871081257354726780319624216892760838117451290529980117572422076325815702615014186220939215918042160460947847843224529708611013685307149220308232534742869094438264966840755831624905121181584136374234635111646030286168528244542918823286320619814582823236983491216039889191871788896269349724566232946813060981953480152484319308429047981645057056341985736242923520573609310054210745540924448239634597374091225288492836822819218079439248112478072088,\n",
       "        8590506247325449853262329045009765023806267268050691712484985689715282439613425591966379586779630903290713790336247674947638642923876381100722569949913583143984368953490751677384804665186758622680376908743357781471511091441015650388995581396489248828201303304125574722282138929192379132233565775042457975176948939265145562429819956587270695724212416815858579924832992827907398546317372085392970856975436875269021893883546905810433516324789694235313080682192349557939718446568838041139590042994380602213192349003209260185297847114140604274595695255679517793186307220669513091650443036754744115337495879788977737910634503108023926319034799460426803958899415720337351238922218305843057361467777471111476324219164836795317038582580811082887592395030976981959803111212161506,\n",
       "        11717456819373636481047005898455784167121088403399692603159544837369261975992491783809927168903312923529808398502938711408782822169576300571710732733613053812367677941780979420797348575452216937770448268735607631490501797329179916682698987891117798704402427898684562393191750535592681168735337159445632071897671663033325219195453291866294583694606056161047995778310319668556221597294467946552338064617110912053166802473076021685892264114856367466675653064195671946250084193654637957208839083611175897250419269161559015029120498098799430260834696856991405188729409369613030439834441285624687013209536251821061903859830028472291448560145419944174644919247232090521792146946247754906173164562622079906107916980481761837052075224014317542347168863645071821472610691805866366272,\n",
       "        15982619692131887485597969307822734613718188388504448761401331643157363050536198406542332624763705607325561946271798738609254717077944997856194540171218155313652656696958209420719260841721489089877514118932277552710825923068092847370851808479066073922053739855109047229888270012687346306534132119049617188526399325326394864128160719925582399430138384816086282100195200860903514166108200596469474513108596259477394787595169577126462858686180410014239826092643578727034672779863372742470897649635686918230174096328715499708980544704609537016382801108631532356944707566459394189447269564035109840761922784979808225842546069470708643859964671838653676096657183470887444825785920859910326039520777984769402310237701342310575825922594111708572621217604272995465622943426312935756514,\n",
       "        21800304977524713903992111182876108468895776083008471510244019520811480570193350619015525510104863351704990024523131982401734842877139146652149924504274297460876036102328939430840492585456686570809867028671895317505198049566675972993758549464434015947480005564796639106129993489056075954793724945720837290782080577416865627996030417431786259117292451495197849832662032284592061878793182908052309788218189915038078543446613776276517025140214194115790589466018905579347239921817834075368261602942160567641854717811637103162064492097585507289776401546870267126277769850059983287436515519785175447486275888248710241111136698588075062516440372533343558370485317501522565264164142999165439624079505733847544657272141611393387263610493592384810597687981092010886931167444182650238251368,\n",
       "        29735631971963401896932725251412319774308452295411943644421604027718502655106780780535583338115658375431213719011498295794704934939134873978530353218370312954790226896233370341875852605823762204073748504622584145354642850434869095256334032321296476818436649644122470849808541007342500289684947360095341114243946433995930042981449617537676383018386333977834683258033112231384433306188067594783947020604124152708198610655968786010746348754110846954348378271475879853808362288032305542175051297310756649950408065269169337428555676201651336552792028092732152991775235020189383663457596616256543345481121073494025748683816299420203855981068528100152452271018069729260249907764716836782519557570485341746035681921511395641922538140539182606993363819027427107122769578016808561237910622466,\n",
       "        40559423810063057712130141235037587048265197826717974139462578137827558433046219178001154688715268128951527217721708198595959932991822845245862053939781611144631330362498419475258093794836197103043163770172233446159050353191211012605612613844797858814363537594588615035777956064008659451206222992894991000666033718051025995492325274351808018223338076838218003161806997745640651621702402992468211788413813562483897943013284870732434296217632335459925303752882566139500185508115986577360845337793475012692924242881864787889653104403544520643515616094888203551048546845308169376939449221089444908411696630521739369914966543545856647633239988768980478241227017596028482396756337929514355841965766085647326517685598815797193735410959055569531333059751098555207468591346094321711160327294992,\n",
       "        55323083812557982682747409577316520146153504144095612138170601001600817421177698065574355530990963843548258556186128994383185143305781300050229820104215335971590089404674740397622381812009178672313079456263431043145090036395662256063150861618336600719268683715668515031271981879848818833945577847256127820249584235368033453781574655665483674533016155193663334147388002958166080196435383869794235663343462303352189502468731219647826390787199259678185068667310091690158106841432493723825735215801597228069798617698928839850824262962110927809091853145455602375783209672235363219529072195162619111616899685152725994589763049212847887575595325749417472473485923019052579249425552700574418150960862511308295116158838706258767897023086292336023345286864317456730094281365650671622583924340991554,\n",
       "        75460726879752898442325178793600968516940427917744241674438839228761652790044813207662598945426363397867953622165097670046863131429018685091358720484203658046860026579306708400776404049674314545232143421507090115083348968694036508481150380860024968178941298951709449091270019062069852898161219389880351241811433563075715681984063322652994083871052259022233625995040397841936279028589485300802329913012270995585948965265292396884505929468036007833379893587514717947941797231899429555284880195198716412562218007465581819421312184333423709076121931206017536528771849041475880739607031413651033557690359582244948778359806714092868064509759657562194201434313040225005314124698850639921435872266458431190600185767173680935775208733225113705391412502615988762078403807251338862187526183961439774648,\n",
       "        102928486787066766033314226621881298373626889833307289739546714878631896006438546392949850535917090665655732288891749408072915694454324792245913344970273893791253047844263754933399412746137577048875315940015127180404731138388702193230545182643935674932676651038815404229007337272645159201910737193374646349958615629619511558259716153673339595883789814322481859520569250044404042761076254385678247795584400981441537740811361298081685735620791901883989853038438742591084301582417663345902300411986264988332093431981671300619509670255052901290758123256861065280847177875782773564187210377292204935308762087081795286408770947785721252839199748510158640173875460352830267518668481698405539104189600261006489961681541059635103643480016078180446222676913495535792399523185107573674457337507328193611426,\n",
       "        140394531438285948622339047437424884582595594673059060948983393533293134914434967324796803793589857094317816710001968357709127054098830445642110893898174075334927204119602341035865199762135704768980476174324054981162168356111158485602972110276709120633139130958243163077815099309907059221259143692982407501694793530234576841181934817673757861779573177788124278619682452100964956262387039571550430795507035950957253064415662075875816227892689622205769992924324032408956935300214924703240293046829460642801388003441007119626830611540076490784303156244289699060612079394416744617432094561657981182794709177139151015610341932586437881740732966727513947391367562234300709900777933735475795259550487022471283498333807772515962305481950663863242353122722510526809595028028293981830821995886179617525759712,\n",
       "        191498243810308820987636494018874164451958764760942392441703088326126714655185301869569233324307100993740167648174973731664657374706499182180631505190454409030734497672185437436675065874965847442466418377093951009432378042466758563064647188962613884479276707303694713253544024466050501422956673907965197206958048333855592430883717351023159396806933698292815838519106385234966244745938683051849173283319392621506674621400703882855911416531364265480572154338631018644559850833794739712883105618175796303046081568786965692842297573650334588482690795875334406379740157141162315440950941169311863625536918626379889067087792804818849056415612605816077534400465528763046521134928620283670683139565968488251091698217275483252832219781024185525540750105616181272063823410630116176324814876846086505633329858594,\n",
       "        261203744951792670113084800180791797737356337729520096349543961460230372082807666185059759051158679345318682989927374171958950368226718983324827015190673712091997189752065056265965825718653178047228963646832323500920744812093014791178664368717115615138854061901370547120997127186792193847972124469608221972698279622172558310302231648730407091002519344044578591864339729142946058798416626069761843908878447042771055140843624511877539047965008750805122624287885633755212045494231325183297259303484832986815498061213424646044013517289667918766881029877112374591664634952624792678201701187035943643213539801091345826658764996114842699388777335066096484436182372600357689128752538844860547278163240568461511547651862092964635663743622471007501446386413593977605581941694506492801029322840057879863479452881928,\n",
       "        356282099612489012343068655083094030987918496621830172363170405134842553647664311861723380915013762934115677338428586545525739966918619399754246229351584133747893197556314408932214822955308809822267748880697666349206905356072914641926261263577334661663281419710176729967753335026809018459135400733219522735957660362691703390844674852585626295286833192210503492118797909657363659167285023897838206940883485085732340718785325234904846117335688467462452740100830343073127874613982361344757174573058930369812642401576680004169727279880680691532614207443177154277436941815537358375382561370058196441206893825607222087451622542493450260815348700642761420848487156692416651018139597913010070158097799701349990002088838112079246298178520831478417498411818247801635285832294717486296780321168715794220291607060808386,\n",
       "        485969045075179964628615758618140439059318566748514084623460782147886703405786204187056876627837823800813129208299581975471281273827365087983775181662575949105838413464002605848597284476866935250751256702235263732641719826428267664602211542183853195624330995338742961046562669973694687970454534572235898620068221432991105597670446801158442997178331476694470807828632213112373174050235571013277384029208982535385955511478324464034721981584927034627536342620156875837380176185517435105573969414911684509257431051248652739112154053770765752918404545833523515546798580301027909448814491910460566981749846391668052018629839806726062270594835016454061644133820917910828912346431540305884580556192676955881954824360722836738184915351166157759032475335166476415024507480831936345815301159103451183374357615510395520432,\n",
       "        662862133764645084242444237823798641970941512963469833256572870020122598288046030175457441443751706678072042355797968243129373183240492898629269102033982946164497343858097110691895628241269454990834536409597780428989655050153513167432058469800039336166249140923465109044241449597454581200718444291930498937295789992260230726925880281454968833777539421044450392381746457483186666768180486147134249654047993061751529049997153354268595687727957810920427033786634079472529633444920395466364239039114110729557505766545563912828982299070604367661395333131133518382987540967543884025541342348429583421303231685129048560633188947996891430541615777792040725359952580517527328857183639116824480888716969465622687730418028038148996303785288817704151774774665485648341229839140593470409557077797428582838418007847786550677634,\n",
       "        904144436424020970086658569007419965788803283000739601076050018168229371951598190945528137186153955746714066586437636983210440493221306141095411038949534401144323482860857922986351485518376013474433558413948074740405622130129218388644992355018795838383959452550601747479306383813598022452467928468727772786370077617664387702632498374351378647715560948636107029679509996639279725844972233340262129805505491745211621010151628653546828552782916039022497101621311504557406257399047604933555927623321061946800947122999200425751470968086358128255896152795411952597910552678310158838747839777749862247224589768362413904755688354907566637321034515743360003452619453646825187390110830186888897816790502543786301946245014604758067696548049298514620779825119057590813852525095250325574981669416851690442785537061996365519813208,\n",
       "        1233253674144498367843286530570358657134569648954521779337565481354334883464578220495730554579355439390224664895943292643067283962127044816947039286396266957143803395119554065050494118142693123648582364511161583543693697575151304035624937004304107323595056859528161707026882951763197300079747455149788974011107723166284217086621454708495561930452858911479071032933244017162435029239208894456603692188959144788461712809375871480591228414591585205184496967038502678850381607621934378049765751642448967609547221433276675926288919229452091557545410013808275034477068376840756024199936078998193160534797761747278017695135319549282868890197321621089720836750098294726850073127440029558555573446583134186693981477365930338918042487087843028462760447833237169219355743185459760584677745406641663503192542310970570890355575893346,\n",
       "        1682158915677532197759212914356538215751518789977250707756040392617330949275056644354367421974378005482222189632133237602780758534781782351621902682055547079078548975266554605586796963498118939032679819626782813901672943898128508833810802718863157408179495940355865118986415825511384930906797981292240629278923720768889289770539366854886320824516347270818401525027974518919558019162006777011040776407870078996953521483609698851155089104331475002787692885537619275263425070202575890707485418796228015140484356835936508962658511580443620970850067514730639942438673863921343895318871650501375248719326394247876984498578480620910188073795784012200894964687137526626877146571015590428699989070037211821153134521429075227298814710455514438872503765465315323934258824518819638532750770309640898435206318154949395756441371038337152,\n",
       "        2294465994237828062241934258468848696643728764098618919901018433095520769146060727477577659303606178833190456882894632033485597708726313254657092205363052612130097946066975601574456108705552375533698922553296269323465439170744861200621970533466351008864156057702259550459178212880480808954172526230071368125425966236488157531232783011519650100202228130255211159209190177050294300572006483051954075624026976710989391765356438608847022129536546495387618280370279729961990646137921136859388161003806655100588272271438831501742136084644328456331049635502606689761385627457089913970965131219954837446321736551865954134078742702241045815526339589963641821554092336417355154772938392784776343647104203507187062181210735975965922183103808782465123598855137935083498255999413172418432635380095592107284921155893286782356920451867768674,\n",
       "        3129653298299313154430196087764423978760261785749306183995696898782682946446176107336060281657540802306477265410457910226911958055461226061134625390017885818492532676984329987102163719071336938346904363042515738140020760701839888806157201618450821639248117042201822382691438068784801334798422232575798638363710296870290615761891286567079657622996663686015378839562860429471120345538236004889642370191949204103868527321467665872166189339776953751183714122117947089287430504757194633252096159094611073785217543862599402104885236277966444458056522552893070255474472434525334564000291757855668899652031567983139409315867903624337407402566000996494419645494746634010799057987434538774025361434639203621014973968305965300292745156568305634796867461342173608769215555442024085998380647409220697275235067662956598120530595937718674808488,\n",
       "        4268849393346257380470849705644932775877693719490817733589050470958012634473353356467113701758544957952213823210321472444139944273246821073700883689076601619476426701504572169382952887269412289457553084888914020119257641062748779076459623629537454182285440509719343432250671985000681901145856879405915572799468970357042636387377246110279664517417549469953106992374900834988785201608454482675955244895894338424653382255873661606073291106477894453161081450187160200067785170479459617676996020393210508449691830416857855909894964025282314885117553093195783331073870162078183802386311928680263599080208505050738706172797954622338925938145840885557978360096655962883066332450015483826163377773191520843267931679831517880335280359481351989671709682394323657499145101121176852714963621498812411179012739577193955729690515215968724306546306,\n",
       "        5822713702177593366275393428695776070721152993647261137921648838083628016104600424397250425258936980187621961336143898871717110900666719405754066486525874626851664513384913423368334840399197434157040754692841765958405562430350036500179732787890705955458980103374226643412299278978998897964283581931901417097114039277303026322998325585708029481415160473679723952978204301785132486114277452606007843680370069560431317265538995898349841235425187811065466281769408630839548259964487675706055823912498228136453441906137978060498835815721355469744800475641601356655014375547077231789493471011637404814304052920775578359105725972773919317038329533902078977591484228119136488260879107373425621307994669069421079826264158694742622703077720682217846803653318811002442687144840669127296378105027538068870652018360218571895983285177277672803969872,\n",
       "        7942185758619630697857017107590744205396428561028583682942862604196539571979309452231206047166891799520874307476323488382494583408453678516269620388504982067627289872683723414046578105257392569602493046954121057681285306412638512535024231982306552460700231146442954860957808467199339497505183951611992938836036349043211684947206103476151862492314796303648613424969263042535755699845076053809077374735269670774766741403577446279010789518411062652187749169414923559625343894376731669122677820812667976388630944451802618932376321947607954143046792966328237446260770682116375422344671480771802100430309808392442939620526383024818248287366219630083321283413144583810465053054171552472836373627482501802211196150955992291146817702278370491897132711892809252530989324410663793866484974698879060738350748365782915326021850891497022714428921451714,\n",
       "        10833147197470878449470337610147203791936799278395981790795202513772918059807794197443789445586065673483452743019666574297621483486241718162911167963987282066118250238005112121672955903905923864135234673086175815519039116352401361447809552603598925447101070742728293804573094161559178053595968874282340300473770677208980015571015448139796726147546863573337182391382027768223072559721169851673034145146751511306851395705796902263566615252953924882771900932548237504737599911478121961171008253644303032292320744685700678361739363635373065172471295350872191518301047865421111623155363689266209076624347392951345090417976345551578063437886840613763184132654506803801702451502378258452056187053507440452885140970983799749282954088530400428668371236868595473771080440938832559674554632785649143874648489641579914864912376511985224159758721664107768,\n",
       "        14776420719536036824708238357257893562945999612160680191228339171648864430117403264622781034985440745523229062353132683665444085969817112027889349372499041243167360951928845617685325899505785408073029696582590766489027035989981869653324764775540916616398321193312539192392561394175186064444399049705063781839162039749397784450550018468786210617116414228828220430458510845119313507215375522758072383057543796692216078509448378264951142215818671951163525059744965371385645904600052731768924380648650148714701884382240177088031424374970808503204989905382635559200075549205078370359338416830589952317710274295443095773059355858735503347525937963392613240262030693530105954314296998700157111977357776260237134495618053814014240523573168463074150264221476119033006252429892022059886385604600131124081278221863369658655807584198737250933610778764447266,\n",
       "        20155048694594351699780486589637376967062135407786446176817245425331564855598197860739670775509586762959357924502416000186240030884314027047759235455256656242962346456681183427634906199881795202535476641373326891666848396129451622608496426963390413863692757208749046186717258314749115351080213899766581280768917495988855786970565796206872531078472936554985266004327800174770511846914331934211862403524634885439694037938283293750295621548991921495311930953393065314807525751474383404254774026213012447149885662618120287248753224586823818171436778702237265774940421350163592318281760755920613961170433438486377333979543379367660778144088817268908138222901542520481868323387152608605272752793303060326403904337163996386115173357107890314033569628769330294956494299394813656922244704519307364502390738143111277794321386457223589595497604860956370178592,\n",
       "        27491501195847415254537408416503739440966315642220324745858913988491426111900371999452175560576111330117309732250357777386715067570290302710255625050319451614441883734274086124139629741964668162043798211862914462824347701347608003219858779702829300050993537231054892311221532733879187514059476203680666572032585303690839042825636196576192601177247702577414131658123549896897823278504655973640503076479985041283539359963896922123781492743967196738277424983953200834362836510656963563456243540678929626562592758513000454047476486367852062956648269354841535899654293921698689127214692030414134273626423527805692978991192942516845160124040494280728663928650944259967961923206030472434590734967177351642991185753026186688714910473335685961510252047791630743796777257380778257933963836850720849781392090908482004774824029783460560406995983963955267688046754,\n",
       "        37498427786184569001540724860597690234855021598123930739797735497547730548196963005450628204296591363866773434147412510771479538405906857210815720327871187258754972375896310154509882602946007254822943296457656700619301931486533445843509984011086128659969048475916081861552357366269526518292476622034328970833727123151800443269954742695722914878296944788529430566946526387168805722392197662377580408181103120945633126684793340060131706398392805342931902990043119331136223808061849774937720444260086223643823672497395237441045176158974800696686410836782557204394231849618362133113158211245635069840402862360403709721321153136356166069969378287731166506818110872138820545121348951553390367767982700944100303771032055807403524000803232759390297826757413103869099135561680938635583595709087758409183314389907597624137770946026661618732117624439846082865951048,\n",
       "        51147882991856947965516803247263665984081690426156683749408857077569092959166769439806656322836111196425609081486802915050075477100724523525855352782841349740393396762606301324837604010048095860246656700166455602559190658895332967738550838049901182321497833114686766714049726669124368050138452171931028396883775828564359495459261094673162632086598209939256720707446720115648147903166236116138993317262101136954884868337418079738941771308900530454955853955843798720870643637032873749978614142214298287979802051879205616870039667757327996002343221029640762868329631897173367648255475014831076649396583130683118465752861044070932327364598356024959591843963831880541611191507443175949296896226263371265104457334873477147485095452006082819494327745949159265308195017683390181077193958511032553190975822219924871641328694394410149908511015435719914012296845276226,\n",
       "        69765749899320663209533921169992500999977660596299314758124420851539740344034021712859284674976659968515894653921433323540813722244926655996123912011515928917083851939167370903388646379588205699383694561970341899547436678035165654528829186610049223772651704337481225714045688729043004289915367054990544767678441063888909503606875403088936525889034836654090955574387893184270460908724468454611249262325914131909583906045364945557256636197046721933365127727673931498386889057136647856820604627700747124890673642586908958805971547866171545521996850170840837334958822301976323090582601033387799795412009230654635947690612185433904830881478227587423171006333173503169629804036697613343792519842991006388303423905071193861225477600060297769023022435772479995293481873219279768670231194992644111640249430691291914826369963291746390501870643786439587152618979822723312,\n",
       "        95160534010556376474752233992673018627635513135042691486765459450357283398355364783109504103324487033166876733557916540112584967217557059503236541839060509884252114438421056518523438499362322622055219629184246517438306188030624848110290749086945191127079246214157506560725033476141326975812610801459274994141790494920301127279273509074404094475275603794390002660185793750065024327648078138325860132805864138025809402730746123158177790714543037617640489176401198407598437544578024709577054690797961292649166828290595699016962061329125745419999705976247931765646701949527601868922316065015973752018629987196054115768460773792890260254663667027601230212230292622155255594317247052044108946362735958977017135310974443300188698931577698163030222096721408662739574583266115287856376427163925079309853414438744391748040271258636471054701466635719032596086300775039873794,\n",
       "        129799038156148796832225256699927167400595839893858827487262844814708186095097061598183076456219275289899588380467652082146889436098470074089070639192390546998048801177858260258636873501776587644689018957901874220127749187910450327988091110583779850746559864487815176430054659707145499038012691048557506082554169913512354626518432673252890273800801812610384617719448997062981877453372887305144927832396461010181335934908643757352700063791272900357183560601738962301895767197693482840510959418853046903920588444462015120368095057624475382924425120948452349769179436417977950925533129695282821585553206714544648468544128186065687748892192123303875665432653125469793271800278529015685777946631291691035657760867593045732651246568149580354670991962950437188456775025056854471915866116882788800822751697543878041636241756366743438265003302361764546900648866876134210578328,\n",
       "        177045983205520969435531724890934649007431353250736575735318007092721416190995790375286499395787194819910071717834610997964897303423280398614551855094962545165848449058713105413837213979861764909678443913797785620500767330616042278000604385127024803363498782240626114808101116565579936829176286402843239755878881903821346630872269445590451407868388147676168412959331092179701030911424945932295819889248905623751480241024792815775206045189086950630235994301261120980984234056091455172481658224370246774908975287413016914777780675561845751434661284973394981333092516920823874590029057826681833658668325977268887707148306614254371882379210310850153435251369075371090644890835507894642453163314028229308596162840532225353779600507654959181469396067686493046463703873752132765808529239804551088247312625303264087536225503724509308429935559122913477691517650505347838268713186,\n",
       "        241490850891368758458862104976491561173303766429844583161801248937316826392704353168952383358930189953632627722714789868876202068758790562180322819420168103996764282564885853642734218505404949113389042187439137488237266766709469577643152369404372415567663085536078508413426353050110740980495492666169227584524877470982230316864402042218048973222755234232106325661145329182109269145061079624538803473863339667258029230093752309361138398337978391932542253410480770757024797148275942548747822329000435454022746212619799533772013209561415229432260917128831702990687962259440182918750560408723716393245182186201477377198758765971149313252991756191732589558532851459293109424371433046821321800538281136068616201772246822975601107743687932473104610907316339465813680540572934149417305798959524567158135243665349759277453223321987063441870367646956345335776975938161327532735364032,\n",
       "        329393697661810192058857346719659380375035344841661262169272638868507243921064928718241426188080174883949724123854691215758137586684293750094358940240964388814131647266953363081794887878586330452427563222110897331741252370559047119947537832471949101859095812169993326102028353661467616277332681172941229268531688749301665973549675257854864389927246007880740704370215188335489222814894224032816860234169484555045575621328119174761408550539047715682938263887890072573702804294482441727947202138414818329533800742988693977081940795622445934791355325625011416274279713614393330325050354426556975842220087170304792411386814105091261917648963134655834102311274060759551172345487525511372177578387378783625821807813507507070945264741990847548273870746975554717862906721045355931937970918310031314154784719672162374918533732836694079044019611406007577951477486697302556102489305252834,\n",
       "        449293245101559993337039879787720371323109383667792391443471041217892818025158955476034474272924717471897377337565521533083968544439445433919267774811494846510579563636406952129421869800610260142060309624001451399632556470709306981078019246644107979308222255462956432881675087820594878713022757615384502891504807978924943370152073916116077245909736777504564552867299178034936482028784866641841821898210650796421832405520784648126870624073659422169919724485335469471301382082471198792862532464620141201919558236182791204539301017242225816470638096413432700629820520057994762003551602188384123772504592145477923050608991638103247226822498968662313907285167377408879258372354409168944697038242185199146757014473826011891592316709183259743778032803485563951504470581186406064097541749880681672031693515768073144738639289042474045803106191828161983282160627632096624685122945100229608,\n",
       "        612836315712225492721914454887797306144101574358213663590156669493844672293560736334239741149695502711842906638163495225817748852752990256159631339201819211604819338931706349657894512202920273420100714754701201819996138767299865281237538199960395755725517015547284744443930921815645076032179318720065634885241826614942372058553402371257587218285270891762233930851700449054841696976485372993696277886019561855803934446705971588164226292645021990887486187136261468248927658863295009635906222228944011014236606967954070191685583669459191636111885154863247828670491463638818469766174710435310371382672105906519057345823075981186934308647806242218530825371070614059772067971063759593966078132339918999014960193564106493727638990936590708281360785017825056205406815735644978916784978884808168110682544110292371441585878908787667435169515889673224351204445047567666493373063799606018438146,\n",
       "        835909183924720673632684653506835313300925870533987104929365140660645350901234869518858482962658938623671196551832345053536942519123623148847171065939056216123820088882411097340320244066653053555277516985722063283926132911153486952914983182765226454917584517428751854377954659031627704302771303756927141367972743007589374412810210986469265081818355406100464586246272279809982109612408077548268364878352580581967363007139350767040652790038434069229953329173585128027006797990916475614574879982812095643559933823847587924250340664443354633882427821871566451739250986223868450755824308585365534950088524961084139697625726247330616500242834536885044708120047602744906509591789340440578899517208687756841604850778455731270511475229826435279035854542346180149738848167890332428900775296420091183652662198132310414396283570225667424045265476620469843204846327042924729057483707785554249860752,\n",
       "        1140180739709634711060474589297778255139769031509932769337317642017789752473956655584459305000807941978190223939605956816519615413833474728017797493572211880612102206054947668478546470801426967969671953269239649020477065286952123503641318298829968844903341007289833076656274598850062004314056090503767340891549706704178521641445186338946448829187455059191925457873846241361264652353021594261211043390350805933365338945672521152215038569838716715451647228478957250890305521387268936033289772202777927401826763972335077882747656351884405179807267660917971503420167015700820205649414123085149024982292130719024673066618836424434942093265534956117443200406570301214666538855268631424709212907550782440250948031422007181559471379852474194311313186956545207549299994307818149077999574289295889182670341920796581697607972375666719154065177279626210539355761594531596898100901150483295602828503874,\n",
       "        1555207364873125670607160972486823046845958259905418831363206193077405883019827779452072010879584995517190089124819076930077808961411378652639424628403562944211123532879037502215834726493390450963686099536759866985994000977535607612453711074587260269674612051527849745311012930786143605512076810218442409903215167917242511108305646976533942672276770519093192425004512519489044795791631066980369411452803377645690904289260325990972079649912799638310116049598626863799504758179032819665882863859469075788187349618198870079655727514310993108611746971919935002231559548666904984374251619712451855441381416389274615147007790508655508345830689922978729410399270010904407903905096005052643806984798784457190049956464468574102850232630250030867066466044582205443425341974712123232723848231374889265253530032628735567847688716692975151812325854675627796151102019787425211934358226742922987812329144888,\n",
       "        2121303985867683124342878626946615933676142206280022795912182584675223642228797565129281807299058934693389259756477160538582947942980534315674903210939953428115853110949213207970067045483455376541435809440093727808544837810423855735510365547055321837805015741624994342437298293866898727980477083194045950875326380588825489330250543921178636751434344175498173659631612950429298462724437128382818138432667197459528326815890030324207068857519628545371713743299755521179775380461722153293200259594088022153014946705987231123728295077176546484551602676966452261015350644548674099506684858701907415971069234247101294085191692872642537818655154320477943033227804701443913595593089806160437577436478449550389668391565566557083469276779040894576872970997997084770039715753501643907584406987169638253694997634847516111125945017541593773791166530954835940160642510751642520675362722178497438671619782131106,\n",
       "        2893460191930884654729357054316156620357304815324210999043048408703198125405962898664119837227927266506778467497923971793704071072034410217959220619146724879512967854458259694708673665874159626992969407762387381490722144767419116758843751059894533574026311146188543810934220183847380651108976253553488895436355086338325884688972850214134637062899117732150027964929945068898082592200928034745230921191569510138174283467778290622544432893736423248686655855976916129516077418454547196124744819969199921685788175494316201451635474140996323715921494663129212803959940510723940138632102521521021427836393876894462554406816616086074930240153976323821837276052136012039509048796878400698841908267163589985515964876145389248330426196376844410452885599507734068208539615713118217002068363854347617952929242027462044604311356851615450600426302960548250898006912535767260185626406687409697249271077195155973472,\n",
       "        3946681823097712536733967364965864576783297444244430082717513941653746918277375622575424587260700090574180523056428054003772891525202878517830692599419343675609116269334177172795838850319399214673786813623705828447072814007597485682918611956061690850293726208416915383108618768066121075011371590324042047421139213091857095541248297942623566132431148020996813642338104705589935085060528563829623359323439244495667182178376404299180930674125338830837143959266256900415450778547382837236305227638248287267437224389194004767261910456614062725063403272110923231053619871978098897768287346039531929476257219153281171312191949533099077490107842360847306522478146748226591786472537731643026523313988573218693326480730702500289258415327292554898630534601520267033532805872409001492465155881737138057433739820455863687796801871548492160575251029354345179717368859429053644836939396989549226503187965812529946914,\n",
       "        5383276900165471830989786215170493598889038071254217957037688059464119499728465755155777801143432151470448740227435363585118017744447798332731282664828603920255714104339672121953218900509326402974672206752142512389188809028507737890617745551819206214334216574591818771103966933862372993696161958178246906171329323012379416644147367366588758339273148799757385958177139748369740354105153161991641007348092321061600174665588883242373411983939855901685113047095030389082804378016048644537516455243390633032706059855036116818746697498295722553310197984653962416369941465318637620496082572100443072827042683318952412132384225979763227771437337134172049918497468216717083236257590262839488876642188681033887682835681554355783796808932623421726142502082073151967806955749581591153939474691053310657957574044343825532199442064148994922475242830342287373385389131173764938817770963900432554647597656445486003564168,\n",
       "        7342793638507526675182605131459918234749224712488197537829489230623000651376545567408103496184228715305782655850744892358154979976318322128723987385518815166572469647435582108521363376133571533056667563796736010604681982587698562080288287851293353338042721701469449220701194006407044829522639922326719104059740617728098616159712550336325008998334707394017095443767260954881031432934513973485162163646157249367267133911045415119001633127024637575237325033381580716965845587064668898532009681257212461704898333079493652534775262649585822176777835114471276846851831212314493692455554396632350390868015696304270243429743396428346575779318017958853036936137069125748849760847139591050794470766468674918796018081196120871991599136642513674527013271470482380804355721175235162742974935943752597474592188430224798481783726772301100622748391795837909331642850492289874805601084431699586994088549706579608721391472066,\n",
       "        10015575906201166550420904389097543642691541396871972695817380348257832352597107882410408324573089111109239013029156260611886977805715935831377851525130328715808768854816238335695261598265092080415697531690954670607298613438429867185251115246909685772296486735020903328855199728706143009841874550215603036184392373910449524821264562806114678862486880158588117942684502119597475244263031164986923182854365836229273432254840611811201469958673589592479613030645523192971802463560586393646305742751293041156114359026489197093550277000732559744847520406336806273068314143538434715146996693089098033587046236801707930990582125112490709126217547933212676552940880784989647790878734659783546497614339914777918802550434344550950897006177197584678267828428240049490293171489976511563008966566753234008654402976400669472978535516860765398423728884765738670648221456872520408604817982609200560369336447372242741463971462192,\n",
       "        13661252878852029682300788769334180988549497214558083245292444624512913951943106528153364362821189731781717319554424990219506195881976512792321518204265153887178327290438996525470445341396961731258544489894025967444365913412000926539244601485072662686765745949290213610007713131149185472469146409134004868074615257754470879954821023380090758293441102871021586890917104658391911114206207443556136706575518646773978328862736505555893924025263903228779767411125527016794255526142226905602459565122444965349401690610464344329255112604261861077794194612078518227742027343617637265954195944927926350163121935013225922141397448396833755594736514698920049671248297527795005335608354923084348473540430410225756165474810527163617895508024834148014831844989390897987140690268049137007106973371987354940402080251998943385941204228724856304550588947212263384673505710024610127211777329363381263930769002765445678965578465901954,\n",
       "        18633958942330074687824826302276211965925156892198622418551590285215962888282749901509071401296427367239373533111248715815667063069993769164662382208469195032439954232927646076980023140927054066528735099912983110548785713192582702229396821676754358814434249771318586384953849566087217690590925543933332855656811395969472190707900697155006600426932526802953603107328873438548686357252511216041735454692190288565542669842204848418851123571929922677645195228388249496430557509460461059828148493132757684029625062107032392154301067142490179242671026298395505199446398365008600769196238415878384630720531906404276959508797110195406355121929732266874880964259230768793172267417586993821711101455644693887846187626444109485519360423842879955089815314833357613094509391818790512854205474688357318891942446118129535179093275546516220860172401747726412022433332436695025086037272882069634653202129289108515278351790491461727448,\n",
       "        25416733658591100726222745377093522455702902550456135536987614441479197892531622808764901544732689750104237280881062802797560093533667383117112281653870186289401984752040599687997277034669843143706925934825798856814511157160596217841823804011694430495551003453824501119290660815856096079151494911071475149120758818717617822596456505740452383073094260000331585659983474287285066583203539504888370716336854129122046975643096275979818488446036439796211275071288983438658297237159595027832500147092646603461373934115682793362810984837469208748864357665206081170563115111899075066820935153454061564229155683457368785995921399703982665220067749548532036555299262016931414767762924267927737026733972902893432425678635240148775571236017196283576656104264544773651808797581520527582273274581892754955964436907208937983226613786652353978131460534487773210862450117157724241964967422920311030348968281113017605117521195932262141026,\n",
       "        34668443344277203720642512519181866905790725003979061071073524649767911141376021793905227216086790115569546890495302774264587783246985380565510316838261142567939339641737610902074362855312806975070313503837489553678103767152766433718949898068772879950290383145266390845298846306677281139180329649627036036733570685542226679493757381730674205518300997572979085793820566256730269368175985137178953698818923724312760640319853162641320837091517275811954856842433401798579413862043197078424590028782863099878998075758853437179266337619375143223630226526367393112153288459028703399744524745549755851993199072767757428375396297993342550766527532313929964736309157650325218536400896119040427126176240495191335716471846094007039364685287879573678514016032153904618680294410585818412733600735176406117254383883879109538656280298269357342392172341443070386028404393135572561065301602136186315030645937567445121895577263042097022086912,\n",
       "        47287782138327764466057113298909443553021004608329989757079824609897872276034786258509538687643926450326612062872873865159700533908981592758739189279669852332855548673314853311029118931923703383839051326160270577015790352907530576188865502789610219946626578161146810937488745652968627329938048793586188225579739535838415908447307665137145356779345633783803473354356912357654374703258626930651597733559728296816734635443255356939037601611318010243946220944354231342245759166124157974566168631759972360881556836709010203995312647323812532826240377846322789411058256021230263336326598573865020436180287764410904589672826546384318943228208774143950020432362246334305615015065590069295410527841418769413884810700023750860841842206303903755693776694523962190444653573384836637835496213676055199836689935582048012619665149553453190067376901205188882494315954454687038131017313350281181054012831407810276259283172504310616270388688994,\n",
       "        64500569505122415008905623182225000188187556076487110007717951841425347552422589832628804675173531765035614423305490447380605792839634139508300819687786516843157536329741101653854620297506786728363441079196112904539091719469638858688046264754926408780078602902187395385125494369495514355316637734781210366726801460454284841348807149004447997321232962782105510634428622276406823825514135309393916487529168215781750355505240626718009929918674857490018457322956013984225014082007213520505332438310631083105543404269165677103043630216017914150135099012610811124076573366246538219452880199276633424705764503855546628071163784664509031905827534459880141799706840309150509205768001255415059000402821377721034073130548868020282279808763210010645885089844700459920412092777211584593435248187740027753651189388297373092332802647190449521259435636049977165317347904597513146280176475085133093859817070899154385107369191456943634907193874728,\n",
       "        87978824092769112399911736077668199166131379509333026380517043391528783959376688566491948086475384971435028400000751843101011461133794875270915076793330088643919212409315535970711013114918189021191117471074824162061898121146940310781071293991222411186247160985161768452122111808737534549279223808290364526403582771799180362015681398549732205491518540580425700308833995141931265352375983820640232740587519006054604301643783658098722483446674116934395419734732947428714261453617005366127248012024332557328322084979978692578755506927295758713317101293578992696029857129816299361597064918411901856319098963546730011593657075108936703838491985212050657364820562543927628862282568777976209771959976200630259889634879356003415890500995224758424742956324865951293632539201689986222083514024291073911180059015573198945954562475917326600187937584473374042375356857825462618564291729329471821205844497537854391562710860319775428629682833817986,\n",
       "        120003180563106574435894616915562605887603389838286324470135254903997102745937355627284849818757100274569143773215448819480227013592289049503667673046921928696822648883842720805151475743368707331691412593987139353165333576336146053544239933050292123784449907662363554356089945632612366620731216591145791995224853627535542468074230776428983732738428610584663437326760203802216522347464667445488586852077863453426696049192476414887284185431193414173372842536633063248780236847747677326611086793733627918826914429456095205843099614492461630902878676299540758648195849201642798575756616001594033408652675692042243591360376321612374328544734973656771556525757047016757594918662629581160805544012407940481052210496048572137527294925637295333701360038312207002264974703883197918418506506564381212554877354148431231659655115549953880673105868124657318243777152071421835609234840198981874649257865754458704289245922720845365141594522292521607632,\n",
       "        163684426266901460299672657384563472098890189870802055910290868206095439674242512452305101644732771249897283541694272190522872747551343397317877976951078304072554736996773880493762583624968031718616107969315929152541677060020624363974654049751892448064400860298624873303475137964995076808211928709546668571851226751541251725633612794730532361187422116356021508939401226820218478413207158771630253106466946337993019465702839473689913727650631263606597491615387233004283671774589285490502888513900680505612468610100198840748680452923224591847285227789674888375131834340897907073631385823239179981304105963044583805345564896336353693071722342559821615151789976951419903396684689031272116738242696390792355845376499887274943233694459771830393413517000806675955376789729221162412829097037329998215926622238519215556968523564699569155443004309970166557886077800776241596458940595703006351059550094926170188385830153943938372910357036682306628034,\n",
       "        223265677431234154955327940567161491505492106587163842547961214368369083712769532922299785928265318741960169320014760483322017907887045986230635064228943853676893358086248456836212969215932138632899702961559521351206200675201707968607481668101514349451966557897231989549494444274198917378767691491038247077797068513955894889306715926243222569643376505138223922856780600142981806772136912029171110725807766882885931977914722234589457211799646474752813151936230722450906177080776633156723266544047321943283326011091100674876405980886892835741327953583792847284438470236833946891231786019514243088532209186268504352734941878979108049724157819986570339838598054318783764990672834501284748391768581889448713854145756342291594708286538054413951949738549138618210136206165361548729017306865424681947736467610694358450936725797365762281904930984667431842274853897410864959405604207379099644719875587345050595662561575902252786014868592556958762246008,\n",
       "        304534547700629654260527610606265658976963332275081352037475006689323636279657317148529360311255539496804920849783674993523422949230678276561983545486256367493586612984379891898474983773115062063306913455675156438974410262652189689804968969944515324544930449372684732370383725465145288299715939405704878560783773304262592170266086157008550315525926740430653786798157677996254004655673161214948166660254900495202749210895146830819493326808445442194100745838510320810269029821851102215056026068969061031318962291596871420730258506610174751175763175973521233370862448534875844457547229762003250811937914634176202981714266068492399716177444338184024503361462897880798006867181142944441428078489083939904436489410657027385622457046071600680402289836794542076045301740586342881687542019393536303506710757747609343446293250956130464452087481306090687003029458602146220580870840597805687618404261360688743938653922375360826744062653670604728434010182946,\n",
       "        415385346329336279645514616194886926006069490715317551342958457085451808254536293360126969764338484138960653999274252705926432224768553056276531786678317914205105817004052258797976714079498160586489262853243874942282446804458261938601946282485987004193634584910899872185192951028902447439729920117072945395156144584082689676137830824875588873599933717323916903416609929567490605332144964034101328495698410083223432809592958191960023487223931382799228170136880013815929407583181984197969576281340343294041007849064143708976747479422259247496576713355836546110703664240040888674041312627158453621726404093225527135562611652365512191974083801440829409155375231307462800150600069649052609183807502262611540820269990331110331323005549949866123137289337493940864409784295977855983356043470090383407835421304206755155102445240887750878409606406438681739564023808181342283172785981011165290603057215855034077374545782553743581154245621573442140948651784352,\n",
       "        566585916927762386066136197017436373337937762299025415113147372939562955782823783800530335287918003621081828859930930474558647078007255599439465919012771121232131827980140265380332136479419264155033417838738101096429696415691331936442744534279856218235442118748916798345335555587148403453079910755626903223871541996462092980844171511216460232140625116356563086914042742087735181927050386615675427016299291608417257555034005868980302856066769214583589418167450177355248522212490048297132717103774297222132966025085783615915704292190468223760081812780537022416233168885864307027236807970673892743285627121074253189110384008092627122252366482609629498112435176966277140203425362182450703368141511575286081583284756222291519310202027177688992639664946178529881130991081454381904179330835222676504591021369695761640903181601821848328615155225863667983452331503817953020468260948939827262070188446687627170282819101325681605521135090479845684982395044039074,\n",
       "        772823606074814223930489418246399408119873113845361381531884359648020957139579895640216737459689921277639753525599788441550700540834121406188487790065206487678542018470728326031031832134641955805626168421301623139405048193449781219569842146704006367660147243608107423842909883013821451212448438000595213070306178439318878908561126079130076632228686258644069374467657716817600355639102059488745316551560729452291222528499193598247325055698560432623398765608572178792572800227244009059273224099124422751332659699224857916252729631295278079467999089209365854412288153063983154826039680113311816860295217119549374575473699349649995760264419856363336076254770736757233326700272344616932408446754205596192477891141227757195963449446888075917735826626123876852251803536244888072895156590615287200842645560983686323084947094807330242007981950137684449568110719735231496101260991107139905396629027644339139315299842628754012263674409417660131087758127788721081288,\n",
       "        1054131965271963529203573632624285810111880265222835223434905379707273525101342760477039430425352340540704244890746971365205630096344819605296696785114860661964652545325901416846592799363788107138138248760073252700249582165561917274825201130848798965344659075723577275038527425766408046602183122512722626254800851262772947293370356816104935742820160197415626983336972039781948972826917136193035227451755851272216835946130455102015220356275692496867530499879510619323246654758483040846896974803922816407114969962708731283552339132791051490862574517763387805955383457012441909047025150911365288871335419436692467995199315023306602309627790936446073017641005397372043223896311681482857987572076104574718115129598217945571516436564865537578969356510672632972649989904569018412883375493778582577172045049772769514383629478220380051920735708602956815074571005171187264500073012338399779900829255777067032713696155628439574053333499966823509283547771286210598915906,\n",
       "        1437836773454564328647898365388944091392012801637061090126592469805080736259188664870577423316918052187441867670732394541928921002114874775746100603384460008126273750366548003307078609364039112778376376934908337984763569478874648612642793912319908492736482639434203011259975251655263589386828991555791662806761431428600739427036075258293211483283330737961173849341004329920295216536270612869359538989511532696033216521744469258342358813285100264287744225234418093329087229663371094959176532905774820703727570361794408695623306829856625528814631110228350176688997447653123827923297131882782367332318372406865645894826441165489555200328067101732299959398407616786203714627895833814962911980720253394121105229249860418987305615437926040145790120016384097498571438481635677360060997068670577250549870290535618601305593693239693198150125514516383233446164419164219164009595690090568406924636501508947076960620871577034207762759157629156684322890247792519045642377072,\n",
       "        1961210413123991016239262573964152364944515573313216549767895563719509831531058440226228082443706648536011248207123876902162413452514785538937286519713188565944899360152516802412272069765348713617812516277463733084470209018767186269562045721605486032891527664847328630935881281785205302331681346665222340791048847269462671351424500022668756568134205946739238546128113242983322457304445942870942604216921182353240579552495402198834079436541233036180979990750246158811494304507492932007357637780451659362700813088457536169561474068263570012354647696925987404391598473982317913729286334913266060406571131298384177693011260949042776599849793154553793590692445630301779238795673813635290894799689997705685762250811939209716630430973767683624395302671704419660684414738940968488141612885042161148332600248335633544950344181208419742656823122536055333377383342311000110896353021356547645444984088887459590041319582527230287827977544339669684239931581536767264466801242114,\n",
       "        2675092441337897200714682798785469214728410634012029010944499675505881215289099971657239975030639185521171529996384638826944073878151169589985234558989392588408850853521783285038342410238545009413809050578837466835555349865167920946331243007063795268772536471334395686799553328330271687644002743680354828630653434436978512324082445066995442252146540194683059338092595804433581752058480802346578581511419482241352846542820250343678942693801055146451120995127560995036971560435450022629130777109068969145544612780226441129690546252418339353477268273238157047940317007509329287450574484118826789176930355409368425238913254760935512771750318190878476190004455238139243667921013709694370595469689137590808773831212714331913902895153834558389715338634324844801271040275353962653502520036194576476902917288600094690930870768761977768677104889264693991109984325076623315481789530726021078955365221878996389763436871188013689631569133238467078459951000106398341251762536620568,\n",
       "        3648828051195304905765843576805953973041917049307980884144847325285585697164163892398915552169874292757526502926316854483828618932211647835525398875748051203778238509103072553309101459837445158189149162802050582227430581686298062937982085023680738352091772638427780564123221675723772367151722074061350651474552075620885960272719806495881805900684448959753639676396846805360648493130225118846676056124180390698387635924986373964180276668424075760992365218333983947476588019928258338359066387334407854366182214533041954158434074649772683141713006279344543139377996789841199130400497325624414653703393411349509830410055372505176988463444033862151396076959667637267558664823501495696935127511550783363860873191536393160669773265620261311411255346292521760013353359619997544000345925470982287356656727514250777494063252678935518884895313725780165139929351996787856513317271816263314108242763607627039963096917933620033199887748125714813434689057404076708874234668566751696866,\n",
       "        4977004136922837229361811353446120004698389583666719938002582696189214396813134838332092470399683565960451671163026185900581063167610565798826234051754900831346105735267444484496899429560685434315008871871047572995682148975460423015328510303543534176048446651351964023859761165240553839066636553022425968966117661800322886790502140142827850243975840527644159201664637135107728978211379120587668487131963564332082976754527956907392241054673133139048732608928549231919061096153704808971789181454909422424441686167682005698545207512836192223635894042294230080268635561660403123195565802726185706478217790011086818047740767010316173199650433938292695127449176661688188158062923961144329208296350738197443821842029471483867902648208931582599510682058338314983058783792716925370434495844939876149056253232355349101996967584938816520974976599069034515557627233602961360788074239172691169664208516168504388660585824894596472660578075044138763382952759111631010854429176811851145792,\n",
       "        6788637291590801176154416451944084492362576434038455303416406942449413722838813083648866528540720553844348836992870643885247053989239743961246818771992560482007292001143303379926324131022234769850830290381271691616692678633109703290971026036118404296868433324216717356325278352609791160259259410044663083020435965247716038468205191874623683614588947164155592904710241449133747686928814250706698663124054425929351878680812058208056980978850822025738232270943759486321546811741673287695858802570883786594792826114932788814769821481583215965722501186695609174029558284101579701237882155415842928050942768968533769326948816257443765421311655335865098305236753926210325915156493106502360737051349918452096736853401390640388979881930248298927043981582919754158652194446625506202816652678423462049600086065660210425901357849109224670128752976443888859385743475986436083971446579503367018736088658817447613173002162074163208742228382108330988067782252485668775514315631839931714557154,\n",
       "        9259706242733989727111853402263084693702558954418036700579917072083696507166537859231892277022013235127257774109946721285662882222386178373706459631231904252358777635665201077663990611613757786761966831088926458412741809337710610749307494841775807004462719102678253825991703532720920383147468901937473467665843622715546476793518672219126847278149567907748756366183971001255566952699880849343057564169697368931200294603604401923746629447393575916240087866299896867891821770276738518121960378495866939824719839262454491625351735046087019413437715254546853207606397768150116372891594455553012480047192415090870072448776233115920306350842297528553932381038059804527546236461614660193181189667249585119398146511861338862962052426855506888668070590389784603010716576283980983177567284687865447175530666449813759376278554103152567388872140034846063473236669658872732421498413922516831786247194594835514712872363609654983511320872173773838511863218375343211321432537376258843670507103848,\n",
       "        12630246103726453578581744195103299466294782776402636098046310302729104485188880478805384714724554593434133448234804320704288056598388736541479572183819089392777854702339335413237063120565296643378092608435586070546671444629315906171758713935208236872491445724486462435370039943909688012404307841502123854559293721819970642062397937112080894311079625215116467839067841155954042457230324407318181224226130335276583131191195085036048610623225816400573505587865330271563931216204283080391641652127165076804704455546814041509768581372684176063145009329703094470784300585315042834203836075256464438627298505126715747353900108918931555306314315140602899632834218810129499276859557552996605645066865485452777523938915719610470879899210793326391547212335647781426371568703544507679707979130901148370885878637632033449454373698057951027646269136283007021383676800445883009359920561759538059808192163444300885805517136571559583604878387255897838512417931750392728102756495532694606503404205826,\n",
       "        17227664945189125415175226193974302735110777409572150055771867832839570601494140139628403982776569487457393150650047203387370194863084459028756510165188869163653246172768489168856431760441676235325505079872970489152118263216196233728889635115118876869885336430918637440098560475196347169839859043277798875092344302406062671319587579739550558967159886942986769881244901520692315167229115191462848532902005947014628322145084699593572228636709460963958177861936176790310070070724412398392717335461831660628556702085693615073815970344076262237149206163430275405002993604767486575970405298244273047300115208185255370260792197341655757358119076694079883653118255495076441541182672963902030293052394189407173662050827553410021143144575948952704959065696413963650173830428210992456104861101833854243335513992396543438815142002705148354276899974030056423230808392477843297499353144653932430410160358132621243753438246647216927020565441089218425569449922125911024343481292443971702114313843850512,\n",
       "        23498547615484070792752587110325144033990566681439189078708925770303477029542492339333621837891955505446477691620112620224693650081303800503960421344889801358312420557510921565655586158305566950280632307039340182789559857698336292122111634055736083258760471383218745954756871858207761449349580139338759167749812187775591303650559521162684074512100396869859169234485884742065473842142970351479732717059560337858288307989026721440717555909082327980655355177186533007313207140399314715690746837211590512262428146349341637774726493317901394375647580351928225355518554061203437004666467030641263692981795771263193451751467911074127371968029726925040101905752933329503076391672442782319922316329110741216870327814852721766988449720081493582282890557157120982066618531075648497254634710250880508089058011971507522882577303146063520413184719210846133244293844031016578703672127049228525594617518536685058820780575573943940460015634866524081188374568206197674387597236585650072934378530586416304194,\n",
       "        32052036175185217750439943993709690436665868064260463475509030522561775507866561044991199815288610085998483028762984264033685526081093246971861043470939854241607305293691069784043388376360553761859017792306739882295448798018793918650793997741659132683826152852046800400925813313155861813259997149917110782609618916470208944242034506453480817185063908490374849822608628033078827012998178788533546888917773202844652266725354593129838339832216932075074868419860292958152004849574735996614577078673944920557612620177204079618342010701587846004645536749236262815202712742475092841851637000199981921500216732118204053444372491497307077020149905644831393079330654179697691274682753137757337941503200103414000534313121163317725655439334301822182815424921378715952831326561014978466314200887062114867329371664650253608378880306372644548732311280494099775273226489115005829652078794500853564990725694198778364165948836297781434678252978504287830161336602703549990593655046307991926464017834185682771128,\n",
       "        43719000841500252495670876360007128080756278030217953619783396341700032096207018807860335881675502049257436297710402156254567282268261270173418967254783306075353722733015176696356747400941953636742650549338700238791174950057492603375975135031257112716822131250663218965608764116016453721048085462067078446238687951877552775537438717362068997324501683281268165017207403123004262111203358010530109436216559708240443550101691654055820936248699804432730101180044616781452341928027080298696998826058098083231095876349852713941056277323459139851730887773538614408161855699290087839722637534739805982189988604405001592091575829870237927182856439329276945200308918054040980401743666952343791272132681270167437945673425081618099561007701707766950942522483317725680643996047755506276549824644662975559545352008594917429351675315195433227991285771313162939605925224996898968224139147826213491172944464405670373781174993285747820841597078314715124421251500655848384844133080400686637769854704359857716122786,\n",
       "        59632749199842519589312825794993716411841999899085352997848028119109366341001881520482543133805200083797229108560017304115493806699434453609790443196567900426636719415137994704900387498273201121070737208315779432451044927327217929798748734976632443404878070852057482715890755180059756031371401830256644917780352975979898456042010652516368565831437481059558267458320720468405846598508393324541857804546276359813167846990974141486732886881566365463175933084449277150193952541833787102158703013320324459472135332953819279019680380611208968345606935568643419288995586376544422288474519449022095559689065956625154289816962876315496029984493203395039398084614443556366076965669636405750069052526918755708488771899086124448251118940160568728422907783482670299207114363440465071576192427129521185725334727469095132023889293508806877295624662524382434743722257280122259307663555449713749702813461240175028588615886856790596325409373093074249933998417208231179900477388115321582881910008280764680110474251232,\n",
       "        81339113627586038220075190055247789192880568618630451707018330137861517389158662600956996694846174589801469761512161313215689806905310862985024337939085870965238560635970957792660824904392047271094122294793272484563464072049275313738096650483261684061366405464337657087693955674365623243244313144555525734930847697924533371594078067471044085863078048666920758081314479926308697764627559698033104575510557171344869183739238830679557713527392771191576405457289994077481332719403213634424769607167748620818075825244885846435557980209966356282547711846517397448804387979462291291567084251103673083221868154825314856311929454870166455136775912287273068264359301319801383022153785801110046531437989315467648852308299147172496144333940023447276613167612884771436229672376790405385432747154491541992332127813197768675502425697687895826665267674543412303600098536011986692552057857548702420851052304543203400542443453837366673606205740550355224688965493278830040099542233431719451611889064817728030544594803234,\n",
       "        110946610620776555974702148548183779452805507437811835213726000156071228828178756789586863974313315945689288551931696591243505012112650716546026806739356324564485823344183801567184070069978250750973503880835231984723997445320138855156693630007903913692147181931427416325097271430589890163541274500575567359090594040322039498752778526041156649485804289819160973581180408940205532156798589936510479182854204527990761379788168756021058207984250621471675680219676636370961688023218525231142487902879822439120314897769357248357380104686774721178363424565585298763588474199572941866119791393024859107610187852247686089163761593405783360302592328853043860151984171614652642808294729502350509218950469953216628743037291935829409189122613132142654028783531758310909316480236305553410801843311153592798726747671929225568517332540939798714448720732739738764545278125377629970900314581251879815790538156858169613368481486921024933395190039483777600725682931249532405875676083788980653581498594419661798342937785862408,\n",
       "        151331258225852849935531950694912730421415905025743961861973971231211293983153213419659083417960057796094779386304595662617454052211462482679643549416819965791829628280027341308596864236275238416375130387581551220436017078880741447709043849427431421537772817520872460205089765925280284548693541663098218433325305201846959800832161503598205140942722914391384234885488159108920272170571041300959991638517710486736569866900245922451554075248231375080136819396044389299985819945002787818491987924297684974708730338633228531645312898350740929653643993655170194030932127612605472167678687027170158926453379452333998650934227125334943373619191073331464112520374674441687524591897033194991895684694972454176797073151718508770461306459388646182603542537350485948965079115271993151642739099709160655069005276156639276873226317088267583134403881744724678218252062963113623292294721640885421617440714897006847895838009290603731846517712820061613197745056207189855480444462277830403043204615694677483510667797684511127746,\n",
       "        206415947166673908088621555450009512478590747260622201791567710485372361064249811283171779368961493147189224772208020415506798570721446939025750347431349172696380177459780637728727690002349495178186428822165116699906712019590776654813990967312646466881435815245651967147158765819353738714308154369740470518623075385913293490374567043686477853402523541034137915544779430204976191446191057133099365105417339958113209289213315226392675779696795579859928093331884766681817029366671825802948302671229945185325147302210621486521455150730515314822291585709076710243490185652068063609655595224851489800541517183171426407560374962718456167399936926616445902521651207922633398195990361572698448064433161377967104424407687083254845051419795236006203374674974846366146678822547478895146249542805138444667715995404403645584306265025729524335125609148525193829434578426965107548319971218482296338068950910055497388092658040864977159675093681754079885501857392289894124858652422636753539911749389038681928212674384610964107952,\n",
       "        281551503266601436485729737165763669933528200679393708987660219076019131702930725743459726718346894612823898684071126151346935867918105836293606153539909688377828353884769069889325877760068947698284705288563606760223975630738898237907731388458299208257699989767886804061184761667364424886600871253867664885620308151690934167830710279749859390246183052693478508187314028287746634052876772500588834963780890220576904207056828869045532215060504419160316999441510217798387728041960315398009303335545569530468475628945626340843796470909321240158535376551174287942314644161548451369042399565384459258097555891225277953911002383375099547276887587095905542503644767981146396826855445082193878151782516814519584611689158333278117420597907161301107585660208227793910018879033876484972636019125308547687419686736882729216270618721412159460694465282470109108026983226443369809531733036731493090547666482030595444206281405749119449528674299625385025437731228139622776162682348938809658842669371264456827565598528407039554374274,\n",
       "        384036456871591526040443450115657095798844944317440279681370330387400581015158574163890350415604533213384944994297788278457636030638867082151417819178784246296530571079002471109678225992424047009955516200029581786062202667039876787282800427848087432709969667479212846391423162073050894899062302698429864644456618941981820118214579196145851894773647086397445719305411879363916613824315363881860303989962239678206855451634803790693332334018307724530252247166313268961767542866263236874710492697986828069504186083029136539532424907775464902091557075907387437830027418126537739735437442662779627279534866777148462300561014811298598500941842068735741776420873985177491607905229023082474022497479417368166091377448436374278435416540596787809946753043898697685739631897681030072981570676336463664184085120425103447054638708242271211233911585770898377348542634555447183385308832182072975057803355150440642241394755930099839794134271419782706928776950897039837756580023582604959011414940934154108151481404605421586563130617688,\n",
       "        523826008724354108120601351687493444433294437577189220879098118308633468523807998090272181426611301649951677796120867282942366892727282618160370198966015251858156076780113255362670989579544160190527022381545638119795604661818022676751977691316179716515606884141636090364705254252403088006745867481529589242703713857171354332178853854253221734330644872029168654611089990766410549003000209211629955231143458701964371412934079427334574349133186796763683225451850740374068726857311097057420510049357369032373240285727371185548568418002205035774124010073053016374445340639241638547588040834430976993744816381586393803243178113613671730384219858643138878943614619426866534329129214339939648880440077072695363158424278903674119186278794616479928672259463483851576651818455804053423347375158955563255639791679527838665256414313076653535214863685970669173521261560613184580931056628080574710336866972867518047857891294937587228318595745257911876236786461293566839597928329355513030379638276855574783077463447393572479149716900706,\n",
       "        714499059936475875068026284145191173864109411700230414719369514743306438467055124553705419356248231055067301898853857271721666899316044130037827102807463982318771185258645559317154339464724226923925868483944450424982990820922449970966484853755696981414720499938859106470304358223439885092096262307109058156912510157800669290912074871780590591478894379094872442335246052817263352756706109680027140795583667631719080814097535973688150105550000809093388449768571576183498705200915202649558450417816149346985169253918217326224786854579915444260807241296720221722181274659343721516649823135606515399095209079350618296085995507983859538842576829031310166620866761772231130316540153588700763546942762606573843514182093873047872848519692397475410518908661235872248238820005614409899518801287491724744356859935996397042856803761744797693244307979249763651060349311310939215573346549534085977874544354346445057920405121050799079266358730803211581893905510155322209049330821264502378396838024571938158225811623649438283146776983180672,\n",
       "        974577241579361817946895972175392448644089670853551862866440897207988290702531713699252282274104013770413449741714457439495636593033976920654214328599579837898055754848869323021853881700873425068395075139122611925314919275342883578420962092500461998829395277523487962861585509322026255668707308532764236855617906558953970084158402303962579819998946263730278040513930227132737979570696136603766231675131353793123528194800452002190064078544550236790178609167557081765032607962775193725094783790411277066656803235584734160341794818215422668176776851252736455482071633080685475390348906345008121435342858929050624942255101116068098024653005179018565710409741206671942688618295098624202181417678808635443795248707534467116202239500046708951076427720086185193230449327139476510906997068303513871506866012592490765094295345587434217130238771298560363590715489981889681703226625624621121354395588836195523926521480443004584881706541627411325855615163352638320786710126838133110599646317445154400503394790132121281211784682954775337314,\n",
       "        1329324072013309456155441174073519445141712175153656441180240103161210771824691724540904666727297231031075000515000418801329320034565243835816478382036929706356930368385043015247368011794330816517517806415631726610579974874558514123416163260655483922100276573262537520202309105019602036172001860934952726180120981458923372995461351654679830655069154182622478342133443165055107421397782287033646820032019962157488124176788630628523221091284872072982612716292997628099080660759930565156231934648571399735069226598506831312923534356832691099308567885915973821997767429703329647776157424904414213244323058674434131771854254008312393689486237906758152660309053626767291599506484831063565364154477441921507943293080591195240372902550912230701665722820716465264802205130457065966491553900684794208227089985533017339585015894238064033910443377295544315187499579395646837154140332925329759061481561047115048982220357244663374829446802046147779270270664706904179708394822056544384122419955392028626858568651966025051222312590697090543276968,\n",
       "        1813199008803395677557839708332252698565744050999258239321710367152788700757170214805507664668315697230400071115910312959470632022783585626030597167312700719050690920532953521666732989941348934603319356345996814219443011043817088607223225108496172570206776075325378701043912480832246499364866207022584051273921874327878039719779367815385592976094146304043324188948056991065393655524554610210030866289906903514167594500667886977757675758576644052098520535202257932284227786309153253648294083955435179649911491737166553495561861204514608874879554773166239545941410256186974720252154117918527331873378087374787084787434144722439221060557253157823299247227259556651792413669533927865801780908888648459745470095557175097842335755281683782723780997003884978707375401028392765117770990427531127603535622247133048243684726774036064929688061896869893744476113017011152267767929117336775415980982203663853763007272493803201286271950319697487198335975042275380653760571323995253378076091418801044492189488144676448301988515585495514455805121666,\n",
       "        2473204777331903717498349517606366754363120027275163392091254121036506949043551997686436995512249338319496728077102181877136743408396845359149570352692905817714848772537316988596439045648011741129744119573746070227046877643741383418766602464152040041245964667020389810761416826164289244735713678380665580890355616704207105101152053161537603499223070627869276816203491869256362001242913886108769135266253048413286756387035174626292098257919633771934454992628596112633314799606345797906838286747148233613879009798721777474777691606492283338026812019166636656637905587206463221753585992998296185089500955502268258084191945255661105838993782793508886931370642344326671619536843784093784692725088270976534742718283279914048141210577119230547467981579021931673325311804932862077705597434706358736016796972179463337403306904801086802158550337773912363009733342702791088882292470187694592727818787279057579856968663767923799138315065514174584678049227934283918633598994324347664240172817664580079375088687907327449937386480928472414808729229392,\n",
       "        3373453129479725474063426299854792585203994282947373866070709942804162631284105682014514867386372765783490767497238491990727477479685319853465639991670290848063772776431820905399064524996877956249905582417945985786506160549074290800286252984328491112432066012591887027257273594800571362066012822177434874918496335106412819236011120291705106558533244430559997620625751857722668835088990065206971310534035447942626649879510478858149399781478139041562648708465940299889773670890841977498181071417194146084510619276948241642150266913116678987677446473698065565893649162359872021446611546603793914989411176683181278813922600762866470803608580287599279597688803384921136740840668591037850186678801310500641848813208489359936762453562945912150529050654782918687394432677329452266755552671929900847054514605675035125266354302875456434209192348785513333039020755559624056387714697265132761256160806830838202778668264651941865225948021311653830988057482877405540396882788829734209276973799385906029312113159793739318162897148502021869313562474012354,\n",
       "        4601392541815122878526230971351454692585002565060245228483840453238998865578469193819795965552007964778019726362961380177534156419034184676972492098208629409664803781901776252281312608534787180336612344162197898358864630035814976392973867837226526029397379287140000925568731944724805502147286225163699550054409891440763789645024269229938926883442844626354464623810341737425589547423383691856194976337559617246791163722408680197690407594034439572325224772802535197645763920409908063653316888251339562407506098572767200321670438847182756631475375016936180598515594095364452643716399903153567898341741934496814766570448511632495121837227942506068210880134459187674774841178291495019411748414577712611146458315959097770233658034801068801292552172561105480111537679497189177824716651550109819461741093938937720090326644672429027377348140522293777960177587320316669915703931729362111274047996068336050587647683369953912472091992239384161339642295084694009091385266757562751785801456502535193488561801725047348337301641647943238758216114023282080248,\n",
       "        6276302800488957086035253108349684055478528702736457439025824448927937256811663264475883711527806250329984690249846819800648580083040107584710332687596562185073640422286799239932615797105974710857095487342820351307477141875012176874307156016229965832589137779724973854362777629878229505500260477136108363709090010421536915488632339240756987974122598603591920306874926755600361865354330444681915154695741851960071089944015319300128574107662757054790648152751366475529121877212785489665101733755898580317984402963873738187000120737824193162011399200547424034440836239726275765901190914513013217132050988064832024783370583789324109052449717186857327239783000020791777804503930439875068662687670678802914269784817022567088069496231111407908953313902398529655056082228598715882365779469902465675715699187225655878240668599547496218159297881601061923195562143932693324644219266564617042934227893371179832389642895285401263875342640468017378925921483580111278055044254198382265567395946431803304304326865077742925818757370691726168228648841319231470626,\n",
       "        8560881621259479280474963766019940403127405735535093007076453032178159657289974271214299202319893277458063895520517425169464840767423125779729570758373809029069855200802976065044340228565158040396258581347951121381297180382146645071531353780005510622177613328924151477351754255885849770307857438099876971798748828624867793490284155748661761535630107938144005653042023904980631009932854149929824127199968223633154213474800617934055572773259594657174016405577636675156919886282159817811262418159933914893293133148822351654268486356831046655740179984921703319157899146580735509141868123795653181736015889462365378619284046737149717242663251470815900423274892162819172600118202298281088675317731220464887675132948734740605897026517270761456613612715044155554976607697488145652724747913598513291495675432469733555640362296427457270596659658644370757016706941911514011484630783525867008673560894554357627430060556852657277838439453590615089016296545898356477276171747993350972985713872389482242264590405767766398165122355265162436702635235673455008014112,\n",
       "        11677048807700730227524936612104307059549836901798569598109720961715458700480781717599568587848045958259049483474676017777969843455345226603658719224754563112213467567535681639519720004378672673075207562054092672384440661518389898889745640863083532718616097169790322340081647167805928964929423045828709325641857111334330091857663077073513883491587441350227027302669627481320336297910278414834724791415911352777474307250717986877371101391300194775142413167856049176280514254010743204280051603471883615813032151599396651530160402390838285462622767510832403874755408876772362960745274022048185452901142805277654441268728223120056003643101727455910075034674192693085372218339032438785844828202048072384785591795611859003209010632239053549738228876696634130575517747955456059269032438519927842032065777005587903795549332412995651264590061933688803313632711464329449044358361032948549164447779994400037174994434989189919812372895290040239449435607414526841815115976319307184925534779289335200210252205617794098444840152711339052255388562690107433950162719394,\n",
       "        15927503134585417289823294013874040849166380661458984466914666468232917845615443552780082768123937006958620953523353608766576035937931656510516272752135982458868198831973870559280963130312738091232623510900363753083498443608264204232258125668599718633702978717207328596022844088641542994013503342367797620052464898608854870161645927412428685744286805631817603384847024926544843690980629690688714545315430285156698588244192808901352116353306238932888908734972056654083296599390540012797808198398067411902890748074710181509490443129589778202064110624955383806869696865816649659192062907941848753410340522414610120255923915619803126118907998913112813163196022108260610524987040364706190626756268888464068012096889708629111831108271095559113705644427821669149161763187849762331105898865929490130251011331297333246862845051688364752358115074211186364165775454052310408018815933572604586173780585922545261050036755315607476733907014054340199645257529711158134174668975706748231780411936367085476266250727261556046528366463388822541512436211941775581476957267528,\n",
       "        21725125952623316884049200559860803822570002772066956611441203172390661656878165486773750495289637925537517239655337797033627490989182234825570799692632704828459335420279926978540873229466579135113971544075658213298564261522333892962698973157610879299903581586367965995297499418554232449763383488412721782460887763559589377230576902653629800869090694469240561243958644669434648114833876808377821474535038324865089651839386242059431164077011101204655246656915053132218792842082950588199414662666567421719158793406056286975596494589162848305900909515206654344974141280382786907500934551706703747837157373716333481683521489633634584082194153619213333064674408829860165841454541396491682800740378965913061153285749358181967540840692406581684644237228425453353587220505975031275687715085566344465504411521666568136624716199835342517867733551285991889525431352038815725986709291754065604090201166978346136109425128685477788184861540065410072555580706133434221856063598840323895333407415983993924827376244190380241563136696215065285675218381651272000568519875627586,\n",
       "        29633087726881338815260399386944150288026332947479990276990268041807330732899663339402948455657834254370180473510834278507476664285280506233735081297023761522000992381460652372600310365955544253033548418742708703302994736214907038265325631645106907964787118986784622824914385229752061703020249091698294879074270961960178519397377056865478460814125451542849757354362976176133786573477098947257039179980337590546267441807511078361873009153159495349388689328940867444403087519897743992844014397685396361292344497096608850144895128110061254679027042642852501481928535576138987158480933920590851853898636068089601283626443567784193192491238944444605899413029056839951374468354519451855020046400503665774303877149774221449912354818535550848513413853285216746195962117931913130509800374482611359780438147566564530235689359759420458882736340922069167148499052529956398702556279492768479056583620565539050052198516925563747018691627874556233393306011728423533989769804923487177499982999495814104080550017463326405911048164982003812438483539385008546950551042587313294832,\n",
       "        40419553384592098767332068812992380853671740710365478804771337050228371510336797673111108467267781212598851703386017611221995203712613599685049476459940103348714182067647750116153801880036591827716895157136598746963498118761394722527797124262898980074848930201555811901149216750881230717152069524459962627779088053001447060047399536141415274180267984995141538271912343462891154320870877797935409819314655008543433655715096950271836843916073628667667376899922000109218943595933364889189823837857543303370179613198567877653923930338618140545041192065760327228004867499994858866954901368620473635421487434031589867199950709979129148192634002416596066012704698204102504635001405986871643834973087740495116401493445323807038633940023332049778878180525272870236745682446350015990398986481996980306862098785205540908048423336565705751394886885435895276544597176291879869102491214845497187245662541596431249544913195894079618973168605756242413879472553150406495480235771700108950300706645697853949864148647353461853049938598589896381156833396370039691823622657615209778434,\n",
       "        55132300449671349599979757121320994428558542355271460569698380726779540547430124925786891352301709231819088093599001532541079965340669235250913719626439597991407666341263912619086158364680277208550098027882739433566914736985278616434953542820225853929001905582041114217790356562587228450257125851612480722585555178564935750083172364673947299460346345658824601052645790846359710627454450793482846250584369411990834052662834047681863816974533582662193651480182937089842083467940629606598912558852086751193286284747343681728802385877003253764690865004739729191500121198528563633513643947732246629566762758655156668462016394855099942327945270535181478647228621379452656273516386120612374045923338078539004545940936571447022146606546643451449238351650325480219667306818939353724034727361818363749919683181167924363108285120435382065361508448075483226373979047514654097854500573328750931882140290358097763429313797716450164026420669879389208764993868508882883369031362403872095387663847731368601718779305007585293966027296641600667710359236188119148194371856029733451078808,\n",
       "        75200498232905105446471156045550649392934705444330982582547396082664343535066200735570992915647998659982448758520741476403644294719876549495845998619940071600383405603666044460183636163225778149054161426927213723984018664746038794211999160203912327658138674062834281348877947500585730487381436813668948165569325042650625364560507152814800257879186595746621750977347130626778108187002191753188400221206899192610506191265761356135012518190107722824860808286346426112544711069214614716765805920098084186170945862574989980445964108260162776753178884907657056377533393319660460790971477299608153023202699824293067727372057562533066300464465541643989953470885852266271627259580985669921265070283268112214942695779838976899062015009963561691108810890529224480292496443246715724829599358520506730151870754721211834036820608952697197702858848918061844556669383965407164481353407884511631116584426601710986945748833564998433917811656766884092636997865516118669403321854258554653238217723789012232470598364836178993694431514282557741900653311154993990888176815035247214042481272546,\n",
       "        102573534721983013500336256825888207092957366784609815514055217955134891361370845233443760123835222473925291925710384972816103359077876954181569193031317884102520956651066825907603098812798326075587084736426747402253635025628333900583783289471679235151555080423611541800983738181155498972016730070970296910317281943730631562196281839611752225694509976944737727157702538820716185926781617005799771384572461083090142435720551152602204756675123908466692804696228005400448075740492202414298165873926345682023921349838571080671976772469247904494589763704909229638684739988138067047448728550309468455895112127098503035292154977311497288933473326747672831715766949719815879034724737970158726168240423628399260376048246305426892035495736904693315869503920213841444445368255827067606927249056698541745515459359416122794147673719764098102081535285744804050780266102794419867220146208974438171772089766874076552099172411971661580345263856450572236254297328979733575013892577699909420801070635876532821264771355327452406789879447436056594091784125771039759592323902449055983677906831552,\n",
       "        139910376561283063319564100781667560025443241228913232692153899838200074481253367964618024379904159102432758169117723623662641385426518885380209875140716213855910185255460754204015086964293079992878932634647510383887682158975712186435074618838530680659048787836480205850823167757043601183561307198240298654620938140573624101461092989737582850647569487739218006464857240298587504382238312598102641356957058124234146892829023037910763423117387201256291810466463285712637287854742433307717415017841455608364814892125673529026556763612162401893397190872381096884222362877213643113180856714099414581993956144062182433206226761110444835171558082149367386450259590303681125274991802172282172414745008112404703367872503740441257635478200147965244537112158062208954703774797391366931573597312695331447613238436998312703051463774367182508436916988604830787108839633595554106052760782449018177928247026442842128050216918762911394024857711855347414343498554593872714988352797836935004625898565059379780437618727031481261855089997817063752083094200862853226074817979755547608950707399509474,\n",
       "        190837856203124820350898933802451377762911673993604434001913433434522856727320955274584218697949396850940756067968500733060815665825130837535560451261129947017345595209405119801102486222394573908612939700743940590370200718477897050631342363879045320098177698164039424392064601804345653169876595035129838335199869941024367005024493034283902620035510475786270305555792433469812176693558985165429008610660811853916459451961223144261433911336872817637490496169060617940042661081944419523928968382501619376155289536780768532163304097543761985430498262939691521059308941649259397344445736006760151799308212075612943937396328594309624066671294157525063862790985796941170774690967852887730853332438359305743643793038471150208180841684300497561498241936853100773228057393269010080321733993661765488793086202743525057943084990735910556705606056853992274938420508040490438595075832927406669769132300716157803536737047976365023113111486264234550323736768282763371362977688230142157046219146443811629897049733208442295768622749546901922393897934581761057571405811316710469387664748570837754088],\n",
       "       [ 260302975771438816241689465270644460936171548770517676891842615358589014776140264247900838922027357208842293709467204117618576230826863888917389835730056388447873247775813838869457995222433163104428042630747369612775337667686010552773337419405636655144595039344537611350981967684295227967312859189224297729511277220495377168477509959856232911311286936541960435996107344110064107597518838003957765847582704325800174926622001197795633765826917640644738293066409149333503902353060042973072420591147226670531423292983860403544275815606454960289601524046930107105994280631952695191467097094077561153670983265092199592791025408865088337384480402422269258214291077287347240359605426330667056227618336838042442538407842521387699109315021356874031567246404741612745279239122704546950212098928245439409101028155406616032680630415245773713629169985762451620836360076068591839237542165743480014114636105086270466951461489978810289195461289273638496924366281187793132974281734266700047977920375257628238955616533934018459882692237064219962340534852616283390250752710811060000322326001330096085506,\n",
       "        355053449790098748478484781528092847168315755434660104884907329262548850677512047755092018873864013182257739560469334384932471039663508169614157271496248174972846127311805285623060506585885056869013758761279112895766150948924436871879882871411652276662547731843647465922163795985980495293067909810696977232891717328625635482170328609736935974931215416953709820968995973158560912575192388596383558045111419361203292516371861595016388718021826998712240669233078248751517262852234980559690305615293199680224237526919522371202924375791302109597001909298275605784097258090925125500558464882057800173759020481797835857510896054020574801816497940198132793268155820405738577021276492482882752425324743885449197366032090237643971793286530815076676619222338004412885334110220762271050169624672120441119502595490177367793634322971385971255946893466636838003095733564265599759158602589907034145922132779638389074725330209379073599485722310055507144355159344308432596748283263228009007598929610997848729565358002019209621575760834105142930554883436903192305359598103357602550909040330562821898384272,\n",
       "        484293165816670464363469483693783914182043626584425153580690488956731990913141209278209761644789436007956765602773881568252008116677255970217599435710718240719350565526550185403693400441142440002497871378427340737194642669670599579254713009942913111004370250829774488055442768706845079874972596294649866169962031947522587293057496701191140526039089140011796737762146503495621194816670015564305177131297823591385616792506145837603552007015537853161136917572211797706218880034350866543460549931680515511052530518141521498181192392855151683945270893884371973219615766030302503135456937566223933514568457608155513201844455008709472894766040574910655552287022753324504706404261495352078404975199178278089543249710309491988898913741937346785943782650836284423917208471620358860416978318264871209932440949349630085077133249213600880038885276317662632798674201418018354140084173170175360318517803226062867784195817357054546368508814426377001018538934270002983249757791345324738553064987967321440924755387270370735857847797660411652021496823348470806920793882063732480690499931333213690399492232514,\n",
       "        660576233227388303490520854243102787037154674976911344144166711844311698154375286967525869975511664578866210539923134928430124003618816806884975244466691176589369144224341764695923421262224874048463965573933654044646388367581646750540300425445004895062237684679544245355089858679932674929957914413812228152805444468138137693365907670753325414453292518191507704017388799764000468290850476422100857990648276490069342508270899294352839953957911653538789467809166125149531303884117434200260749797117838450275331850982562243041517626778802688203459096260192669747161688962590705201888763398794327371671549936544601805151694142775775049035681160676074371452292303690444825273989700936727427268924104496058022441802228179163095762315795827546842396212359914292227485240624279706371029476282909002468290574415490926222577545561674571759010772844185297774229613829910599312674571362721781381492429522482531296032169600352610625719622363300539444794250699443413461102224143306206614389651186356056419215077802143685729314017584562327462464597602197617543155160494529207019444457247543804267729303533368,\n",
       "        901026466415323462631534808657075895302593158712133657837796975646130113014558804564914564856359555275009519133220758816260257392944182801847076451052002475586140232072567693595424950295075169344544851540716882544238410928024035838336549035019996619778003206273149180438830622682196875449542470233036173850292796216572367336338391120404237056454817033902356520076456085024600134369914866509761134604421380430278174566898299143643111300750598510964761995228620166915758404716816214600022206183818663326691063697270733041030128224118679721861202152569796685907101763360739752197879408732893028758893508681904445017740112655201165876357563869202740353316478989256520066178428356339191562873217453731801420700161488946687954608697659250711239814377441573930882713785419989139848944622628206144237958275943678972997680849279373329480170733044745063826681991938199475480842255422925679979715992386469398750655663530698317948027933412356362179700376492975085963926683489261011146766037283177628277250290877511257705520177833140675070453732626220898799670559708419902107002930185581082234873169511746466,\n",
       "        1229000760766734430417716969529105764295524105638025286202099218948033318463556363801830433989944408906777562963923654948513919514099868960536219164210175843390671865916126558405924328125903793210833225965503401723995237152213152465137803424067700834382091435594260161662810324428375218045850859355775754944027526844849177184903258854139050098329784887535332484891990117362354347281032168769790609701288753555175920178591788302828498167063770326867588900281305716839219613565041200831864489495478453895445061158409130850527337939215505919421367939564298939769956552385737984588612715400429490021458117513667599548799318813388533031126766153273698517998048793638197060712201552036358228486495875814281633893042712725510549249359369533765958653653226519201638313830798105811033666836294349463649577556677752534659762900994610783085524638883805111244892011233317914466468149071441990214113995107573782378425621088042106033720726894076441313650758330668716698209457381576162510395489243905471326225815972003157654015251878421465358426353766762908160368186597445241003159016217589843712171270943325712992,\n",
       "        1676357938712292178413228577972508919574990182683425202513321172442093092514403894784501276876849030108399870892310998570531802477489614206354204787059130902387352011249828698233374378988683069014745864761798180668412047714029667986483802206977378958093792496153777133657253721350926479611416021703748362779827396909170494252575381415436784738358883041415227411749194596538336354291462248116860901393692464270640385401773766143357215142986283476445902224745696226388862468661120914750877763694038794932050390111133751750852329979218174192770467730767856323642906644555909971718619941685594557282297631182151287689007288601574614255622785390629193981289691871001490047331509095405948962847143247828133880431530960319085335864080788741716018314822815349632608590947922401746239061413650115296624168025266730400954889594637498387501985087608243216483096530004237573531738036175702297577731469042723025633571297819752963328313019511453678308181814063408622551443663795153374925190594094724346066600290236103184551334509082344711889568616991597232951641006189475017148211005123722732404483848439865784267554,\n",
       "        2286553457404327298090074198071471695406050904704297614253456281310233926222965376042423543490456067012266330674675165973860327093215347877336095865767818761032191534016632260516881058864891832039906570368318683935115757077173619346716371348120568966540767346845187604568655738732988146565189499454772122607439513411635399009690005153914628522171614798275257724958386321668408149607901787463567039291606222553907040863939595611327544283531457725642537502142029934100125246473382492761398101543158411765770627556647595797293428618991528814444837406135295589747864433130813587162182189071866376562543990390571870075405490451866587233202510399584373864177657710094826062757239118335266421681731876533450427190242122917945123629155445203070182747376973790125397319691279986779975890801885593558944828836041376944655004066848448795163490745022282631088054911817791283615205147811807005338015937888269314537973628651764130021924992334349711288801308033247691828885855626046584974122480740693251940314122107860715731177924403570065438836952002892392508946492810630520835400814147774024589559681443247873066656648,\n",
       "        3118860592257441146887039619398065365042773009006844629266916881028331517461217287325760497822258952253761383440127818699344056686948211994300641115112091849178811639750697653173723997666091447585501576728251446685678561065312530818589117002638663047740564754889332046408780084885517182841398088672330878984910276120867593419711419605320968741026820943730492952070650691950305254401532329562553558454652281255993474378799010187616913759952051324059897598823953575808797225052162381247461761382631767687306068037657431801259987488634424521076950992436273952272410729697074288799188224513967423225867285190371212934140777983634626560702479807818476579932306406261213751090921488918398805122845126734874210821370687191037467715503891337776470983440507072546391576667496849890288861292833363264516043156528463419239826502070878794101388878195481117047323382815997315088713353353340930983351317011068387752821663052304093102869017857072517651603292339163915063222858517591337058077988920899690370934529155412252360511240220978651603285492100562214979435967834706219894503858708568893262891809972438538728703935426,\n",
       "        4254128134392607128681220130933159229390037790336240778617688879178925500051026602877713361453104701330197539278665019381071267181324454375573951817108759050098660108811485615561220049697607599398456190563905341597949492408843369210174902307970484517687096866436395756489180604439584170383813558138558773707540224068376809059885386031662955277389105938863190661882092502206538035411839705425110517299185003239397652959722713835505081696118881537475425967333374819433133515096395961404030603924011274283897242573992293624514420227925974038277775598520483806195157983171242460735679900419240637146459539543656725014038096575168082495385415660374801639401530115798005651314079668123814305453982434598244957010776807570698023909070936940172309491595599023927068235971785394530340786779315509378393441810333660145220068003828745523603089593349381265935180182215932155572288629179104841668296534419035169164163286376971434756443362282039248426498179551927613393927807903850209793803351010587918359206638082104420080453062839339284356946850062118864124343169073032094566624098679302118184609018362087610073825234577712,\n",
       "        5802633894172108380962331145632448586953376588791641428879156898116935410401117747542488350782532634873341697337482526563599907779383242716494864579177462456426421567230506130323157321511534431670941829430743614191049793324223420915209385337188743520788247866383998701183288753235677693920704534699082839667963850539542088425277086258607876319327481527430335793300126243660409830607003759732180308149646799070819654630536160470639119050419914369167805079340322077660369923388709143517478991214112760755003526176993526161269470450878517222635406993332932347924147761456304413517756183360068743035194037804832963290360897869307248158332267663231037254620267010254885969606155758242371631038037163637132856236910386897119295649440473490286367923007380509143593620257091945636234723455847647625491919145338268966543591997048910965073408306717434242216702815865914276197916778913652357376487456298880981808306475439852089311881849021719391926261168512121603833232593203710203750084828856430841541648225278519584401990338224099004841527106770222231227819062051583611695095165102426797772699963937697472579236348667934594,\n",
       "        7914796885778890224239748363862790805763635057149589245231948626720379078712624658674556988180735967071939405365865444897769655282345924389753370859949875899324689116362519173246402147761782662406764053799724853661933516043733154971714811774827754132839687776844640664809762348594068814092011369143107131865876399676159476988887005542127174962517962192520916885252034078445301215485988540114399365426635533117601248313704282604665593889854459318426423603646166647303564008635714368153802748046653729681099093602661743676265182209418525417648733416681718243052343741784382391280680169783034184740641814025331705584777278731831661656047708478062795190103683603517780260548447768322263028550188145183483814152102778504478289963860714911687546019291558610070885625098909385633218693134562970676680356107683209204025604704042718385105652533452173655764848576021289288666114058726850994566370558688208078221699196663244626792841598508987532626668660348713419556142651057668621765325500363522678450726538486538795228734901790733881943127330581433185513609324981529119384204371823808831464080935420037714685688453408297363928,\n",
       "        10795788754836300437971397730639992291510185171328628522137806806003495180299430435549843274366874641618760222260737804323084373405027620250866314347836209904141332381140043382814222852704393063057257840324654131138491506933445347604839918470250393825936854915863956250799217026771063098099197428215732826947895077122132066154930300836547725256750819758080058061819567783125634518332718975719800466622239016819207173519547272008924340704880532930248010963178450647244138968149037786870930465814626901397779918677556795367951869803117319548190095015760857016455744787941659038011261269340241988054978469524590251250599498551116255806097232696345315870338679055465262530274052362147325013314087668067435559636324426790495284630001664580015303056681608951517197136228532659095655933670267347850639631222799042692559891359906264926195075129037071583897495674395854455654855774020203670240886818538172117575379512555141110797525252248108016222167978976813616396182409275253203798107732580673789837632540143864195211578808032899239069430520440181635262794347093867770423666458262840348543804168612895380528751629685266272332386,\n",
       "        14725463776393599576283210744341313348410698337327306453785213715337394146307501826714644900793405191903956015103051730962131983094112956368106042523819450259124676692564135536677773217490939899792762100966882034597756077390735497866156620508233312006332002944926213170730796834278078659876119384097628719064060751070987814394801919228056639377383080667983391717238775708217443928307044168870347950872099445576931702281910792724455405387050936771317605380199010329007652856119296177006317309173899140160301490175281071543630026676634233282256707250231225652163878943096164712229751652060259854741175373073355128037523300801001304751178281445523488909937148335338221609074067970416719640423444129432127286827760670245014072713612234347855785056859733901428066964701343645915860326744937797031243133668254001915860895840516849402048467581659099092609839864724521498802511941877616533059564186856625456580895876824409138372451236908017843114569749993034121477812362394096427649240712565539412861209235482769248807388722891776352824585173007738331931637003045360620387000433274886059222580350068924719078931908579156603758738432,\n",
       "        20085543386789624658350737426679282047224484042299617331591553645527011619058612791069211194525479048631637623360784821770152348024743477513716892868804077989655963149989862012071865482880494727710390562976667419845470428052470152534785235213148707827030677953734270628833057681172326063134124939106593788536205812355904500966575972757370092658475778781949104382371751885576376643845326579058130324790010266005951661119699840823429181872278182636610143986602413267217085739885688134474403680643664241805552630379002059142306724338798897314317696879410407550408547334127956609140419264671463782108951263850525919233433032892064330796862981988926735218470140668080389740039558985700767736862591106633089686668625190538625985676651717652139870832859733723156834857049768961561892581336028825417963484963129681412276954486356342490659035976458140199391405472979921720221081943576842971296915791759255660948459551368006619881134284667788586116289361158477518509352458487956802566768130047128339816479234831037399237473429603190978151973245413075524936388134948218980075639014653402847619948141298181929719043652053599292793191553634,\n",
       "        27396695905044824427589982133201285053727544644395015367597332957712559185790094154520230783977654215738745622220125599946218764837733197441666209979091286197340992861262864348601561196422212299536872520662275327551256261619646678792944926987355345709381851060896490063941461407915887028193606293060778025192103792114204810306224021642972034442800339641659246360946786810701885959648953760879458633361524874931563642698972864793950128529192828167273007715331071895494433956856934734719263626715267199721913948138448983951177915628148372570962620800223046129982910727629475911032244106763528659056464265067490427189530694388076548208225858611177512361482181808409986943635567530563817609800214692891663764743291587655356089477025656489753131671805733658119824173082849564914067396802670062807899224732842553700347681780285891674108327120356484891068969674984477950903054573550755690465526199523811578159155408961837853927005536738100539480461803189913328280878231189935472797499378624995621049090537518770495329162565367475385975644331328608023751565347706373734183792002987674759039668487311070221061494620333018014526517037895208,\n",
       "        37369113300024527308857393980423979492566418119438843261020093745873576256429307485378385858556714875746697660345874679111464165391016106053910224128373383177251103918725696961354541543785380457063021828573906523447333386319626122343729415195987904696304671877740766181486782193454951078782142117859840332955818108649587717162190532096986612350072321747001993985435799581549258025337816775166160634035444719416918814593060107278788798743000889898343019133855568667867675134238598863845210061243305104084932430813474793111465819223518718985690329089201114331704240641033939270604590102044717762416799366503320793212439100578369303820350868008628115787796914456811890271508654151248032920535229703695336008199536394187096244672648672103740923740213853569409163328919863856311749491131423301698799960499082206376955650225264442599826248851202221849558274028084300904953486659405174338637949033066270751864748926283498200763055433245053803639936015840402938252636416695530472852591719212624074239299309654837786666376976634666029661757019905466757472660070659628721645672367714203024732955436640441079709808381177888625413462032880617346,\n",
       "        50971497937929360294105912979280441229145648042459226603046775466704515726328761200150272831302143068172711347457395282433637067812110806390730987377311273745056703086134711918151943267284455365646261311047329160257490290196231650523525715272254489361105281823089465968038034853333961187345870042367115274929761092301829760414038192004311382217533089663250361455380791576019998648446741730280403984282979958809552194668576685301132715435581743014168045371586710994043404377535405707219601242799494877239047557543527756253023328598795160844854179840291120171490714217281020794580571931433101791465173392374794629432194122719590118487506792189627361112067352801273226740324747897869847467427663116055131206847932384962786933089582265775159109734783368074407756900470867382858791219970658186187225954019972862340721207254942479992054677541366950959282376843276661418834506706483231348657852946628592829355095694606100507678661537951790126265412206068112797689924353250934754906407902505397862258025307459736259783433525292249831934022550795387985800732087945081282698431293354175913410510255246048943794399693421260418081976739366199955152,\n",
       "        69525160556448947465687774161132502260534156496332504525399062756678705324288686706312457520281981701702454024629547511114160071959884530933063120692876705761640520260591665782056211971117540904121957491290385548497740203161046290940211419360770319476452300711365909321170061026729716514490845519930863094844527085717804442792465256084412822331327484372995240027133385145490859705739381057919246200722618699260948610446753191810852302642932240472215112229863407651443871438633427623246399940388572255859164953421802673003916931674575822911100086992486177115027665896611953397747170719064852888276258923998586377866305995828621499986263084897519729184975657017851138085693227641348623193604253025528902661476587972625635563830434883165989129419168254267345749821405592030083247535789468897382677900083203483314950103651391767973605179992673372310683011572503394259591172101129786964743650057150433685511102392191647375971895100821674977279825889012921696451995070470691701222813231609081896744020758674389913182389994875605405424036421041929118098956040617161529229381929807463660094960721111047399776640891634980388152441685957529619444674,\n",
       "        94832369970494302272558418061697712363809818606645578631870924646885220766845494996171392207937454343265215462306050262554996771790350312303504487356071203970151414692150118261436591280547593077677715664381396935480077894601957337074098899533805988020370299275584923403541931278494186659726700635055739628483209874680177561798683023337331093971312906217855170647371392719241108658627164209743582098189636188771892714201566022206687841937675011585844427249579059623280434685700372813513796738291255356486778235514896389505098947827450021245901363511930985876017907773692921715547935441376390772710608637507464194204270810504362445571381335307009100235667908239701753622112302827547419905923668554484539285385272842593751871851646270220674947686855233604027677164154127999900932497608055546688158842939443571214454282101705626458477457564684021198722587067271473046743777580447735903141687335806138175629973018045101626926172596182302620799808778025831262073318966046376731402672154322690212556706572857175301317039736443851065248217612323742112474961840133896270950159650688673786545439834105723899344281970589806670700348541622809767122490488,\n",
       "        129351422164914784748717147923929840796738853113621065586376466617414197804682579463464485284084208006195455593039477187672526710882109785866511053816801815091992291280613021900265292562878888075493308288173716710380374745977272968815361839175530728430104564664198546888340515433927097333583734157061548784114193113590847912097846436297375696589693135408638825758254606802430017701227157721471303901176864484103560923119546501043114027255291358735332270983538067189562164355166747151060441997429212694820221372407272097087627968753573503555232370930360857221065541230983041831960781689208116078830158457819105159481003251833946204380864127621845310241180211814610209791699266750002322100303077512569937114168173633885850178841209343015883794633999957804148018997656051997456902009984923555151546044447301114339998955736830125881131225723408997588429919442769861739152772210902812901672226269689629621992968707715910810774675393087761596445916453053122854389703521682328332324946041309381059009244509397945785386355382899407728603974247246005283344966048898675130737546992921280852311640028680928509753000384525387933815663563215198479884696470306,\n",
       "        176435434665313736891552462326658364544464159456797740105396132337077612690807805233660554098883067657904944694121309190035588988639969538272233380910605031856681455458170854022080120492358083882565950182784613974355766633590894931421490622734323447384650646572266093540619866593807839257194873116932587597271387890147791232279024337792643787479435408010289576189429931049907263385582501759251068264787341345953445871027775628988829739864059350990004803465973173225622415460882128814419256398290184406990138438741754655323914054478822086299358199850375721180519274256968642751716221772015311707915108847073896944996282639772313127137944241457532310178070044583036565857631421959305994892233303650813948708264674221893142237691281395519935716555723629300091501940480019078659214242551933337282255492784961659403329790079318393407489450364187437394639608842525158683677428039449017245616819773543990610536584947297520390998284162344302999854850841773237599218817676893661891667957803018150087178822067525370908442290059314528585666886121461163530224646165659633012222285048504277771226863544560620593026991868774599731531235800574072349372493107987872,\n",
       "        240658062234910102034862307330709933168489910237925231124825910884240481124459651021292459255361788369590350758237058774685731053031629332313112198073119080254328597237236325499139184616868989294708031542626501634737976068592726663731882024771456357763391912029135615787952386374469326673911140515230206544226957196354700831676501294595602423497646486219170390561208184206680309687952233626776178584473834772744984271642809077487264808288604210041725287259858391817816164250807578869615016787709808960347243650665125757133915857937082079285828139828283414051085511152046459696382758457810574377712287297567253252080089001652686939362360326212201692928197781991473690440019051251760127035328326482787738608010129806835879898061086664698535333265801664365282612794833743679343165683742847056976551643704732150727256173667146025437941491427977388015286014891123759214397750998580670425834243843340272882401523861082525529232470372113022379563612994095149138457321700986476502563426768262798028292972309349115317061069027260399890257361273647274301231700714925788327346327543706827801234294186420715169817326662008938559196539447646597899742560483991927714,\n",
       "        328257773323852044489289078751550675500184782028689472052002647842236353331375654800848148084867578219188896339180042289980527191924131049244623310405115336071936063313045806151679869897529793756065637590092731014396573713327112760225218503278889206312713952658387552200860595634642755391054052857647118658913166887215702082197980044852739498294577286638356423015064152687842992321630232249424466840290575417365504499966662609468258187335396006556264281827250312412674473660516998460283697317692577712098047329645670274485316554140234434967955882083978427141401817730665627994508834252675395466511267788990580509734186394536904757603386622897684566686371952706414696796751843538822772582182729555826126275274525321198362074097559901930197714510270025917874783943655166858643156651839485937649353724268747438553636824211777258015745601797211521440287518951101650093597216039492073909855154219135905755586289083101512119393480585846324870027767978796625198093386018963230843158405779868259528741701408774260817842206595473244764839626444141003608043569999804940938133402991901161625161348497141400052251426593972060969343811337825760109321201872658097389768,\n",
       "        447743843471796423593492338279422452092185211177042677804162736482721270184477517608007895280218632052762024196992335920592213775515567782798998508504775391521201044687591716827216841679415255552262824380918027730138561282954250397673861770354429648866899594817952650337589640398039092822724402008971185080964103861119413994818876457680431271276226916621204380162938065474402048207013324740448599546334929343121320882938799442123781654790288441546954522137656685989279799889109436707405832756349463709110696904880344919523728913763137706378371108990686402904286130470139068630969746303407697226895746976470449382530682322237339742057958715992767961161904271689331637904459954606005513562224278442473319027213060548244372704948969767319454381127341581153645570581758442428932945016274742561800775456454215210919311355481037847079502438792887943221940191135317541851425817075618187393712856189145218790892580710874323613378236751564759235740255086691590865348516987187547856544568047167074260001709014540401104652086857294533119641140727169602568645730711434654365402289027280728163547880584395056091986115691504553171123517861333784435712019096866128831571266,\n",
       "        610722930753303645633568038702210976204416128230268241214350024565079654767980665392977570010366298987545620193593885375730069570330426379868883210223824039150254296889938414798129923730592306103080248521209779916640011986523310869539907679981945319943657360045640073448024470363520957252951475394289554097553696579733767904635029686256153106760271808848609412898670536371237081597358496576204139205667683914592899049833022405719447645392140769666052524460045546939690059723218932185900016163357986191804702676304120115900640723689473971734533160619178337539873423363087420278270728466682351692881265387173481948352360421718125945071813292000758396709404112956201060516380174834435059321646497978263162979244889862330645567912468860183637706055408426963598476148302459128231395645355400693782195371957273816441379242512959835193699342259100951766247860996092078186994908088359247097098245697148297566683235675921660510160034322614917443874577966015308736960575263909834239557633974741669158901859837534515881006264315556338648435280791485782044636384733966868359349660366613905116240934278463353650869114054638804497473447706670619796071303369327272384360596592,\n",
       "        833026525291349644440610398282154050965275691091297058059051237669505131824795812073539013502034912037644278706086256644831735486144477097708939497743804494176338382158920685376366043185369584939857011245754520724324706488179078980302831749357143770832797506001847878135755715165482983732118635162212960760248323098860720541336175310929850518052282023496419860398166774548432853700845196343267186325130267194434057425293125500200768712096534800112937190318024263682423230742270512611004329452653049515085323561175724718433393470841356260583609609455668243090790253753381711398629904598301031116787272883851605848002002145905846026417695388247750445879588371976529935875980462934124026920239385466629396777009056985279548799005312474260249150513958221719929475111855136009350052593209782821061476288125177939841252206099032696242052982343852491097105304338860729964602906058339088658629400843766467026174724354537855810181900194283498958204160085899967808805090008490001090304469286115683899816396820106094202093649178505703210998842640727333878486597422861519876807302142350393859280797903704598774841563556643020839106953795416586735625693507781496398396685322754,\n",
       "        1136248791220331668320638216824896827727612247064657417460787102531229564888676255648972607394345630385645783700721847657435862933170637091701373343805759553880564703519064704791778081034767844450271066419457687477758816289888250252443932046030824085361255741843880551417244243510189153331567071312733872766532810260542602552150447759138002362776419440320925538192512379154598783685034445170713018351616890120891968920998873015296254242747318859494815993646309555708372226422516702420342091273434922896562573142146364820063264594868333628910015241830692102754175445993036017435151468142811073125649533094838977550156679279375995698159681581383223608938155248780099788735897867822320007154265843422980475467003332972811166892488814127359840024938745069834410767651046553819212599968533789123328547439198114667217284450498323110633995461616357056957403401366067031763796550858482605289617599849143158171999890702825311246748622025037015193907918231745522106518879732155625397009535663895767581018724164484550026171618485746094736141069797232874896037763521167847078833519471826303837964124581587351192237543560375135063346382450395930978013242015917330414685463140833048,\n",
       "        1549844184251057686938994968359557555174514070271883808713571666903834796013286237501010710024900941880932886612063306290999161872580235137557770949890553775297584431938386416256670678897466525199754674453151531474183749744114061523412503613617793409576523664672559073980999283903613170627241217389204164666511513443703208741853752079639546152677554168879765930514447283333647289379240684058048900298791763255163840042299888085989590987876055020885729128270756552010483399263543524371859223501294687483960864851211202790291011340793877911189521373466673483824938399124754881163258001176698902044417079928633249230019558539071004038135832094702105250342089638924428088365700567690107423882445530668330835166389323183971416920903541475031296054265598789212358007005502611264541995707132681574002959768542516531262315831731918821937466051697693369542389336568619770186548459973876331954127064823632111513074877093378079078420930624050683007989358672260978053259560759750281531522096950023113096193439576753746341792289708206851725799630202268282085529387929470366277048797366873220785376925210083050730810784257915240869425304769293845270596797735404746467127370120781600226,\n",
       "        2113988603567233905316457457480653330154864919463096579742729214443933192991687316627634257446572279071222842984638050502770514230062373898265891277024059155265459045728662590838803597794225375140309826225165108388474112409787869806184907372906716241486463639869112420790634440488771874924710352085945793338994470870021437266491069987076100090254546662771441050147244286979474057312067978089623870720570316696933598709665968348162817403717181795806994025777305583251855064967699789759918401197857227163045516219625222752321759532107444339196136063423784462629318730581611650942701348756485445199658022672188846788724228003972128884012973136855252944690219205648168692630604310227174348495662858097446682147430503826269985491279323060756815177858301687230726155966273212811389101357128946200729160452839431746756466011766787771445814328511115372412876012482998732601483863200918175268034606037034049246992304355258402688277396119827156659912679136882205810168147395179116164621537249367190158975432601416274494754709333612631500085431736963733997536981173561100769741638441934544977557963950677862784177101965339948921031179051699255345025010124334090098492147530209243541312,\n",
       "        2883482005109891297909334910998579501888790924661734006652891362073191779075457513166330628167834613554089838763932912949085272408966950577469813259631766578335861435958327712290544364062002309157907802725799660993410163510700398529697737069148374571180945981305134014517499357825968741010475547486447451318553124778222684134702561316123880162653354325574414472166771721887285947820950101354931017711758210766380683803824423126782168928261223845535760736889373086312082319099341776776053071093100759145081568084433655045369670292805894872541440780031415473699874573451717416640725802961847323951235587341945515653069077016976522868797733494502659718662709338593741021176232644850433501455508020890447942779930373608355444181521917558413770933894777766981499689096003667777345998793119589750476148860632753445092350902365730252170912681555213065664532423416146839888194175954512364941931156761579266805009016215449554644889446728374865734803902332066000986047406306585074198825308330233797399955586261771375164591765323337337572968254688848735440922527850125270920293871883596086222609848205649814920668297891507948243527397651822553584459384406389434299089756358575528971949794,\n",
       "        3933071568958495297582238135059519921229640976103524648171123560597048030592117039646191604455183859460057611296847477900602814336345150650042723552029006636909270264106204728226893351384168943916761383227816962760119851502707753382377519547225755821807051804963842664914289914709061851510163571481866409544299801191966611181171560126262959617959265554630164111476526775898545012301833250316103997782708920055659949642015222810899226580965713042492573452111130667035263535106567151222326148889390633331118421912683725107106982601146772713590864420098914129911091547506873137909600937941308506354930540792436355539633009775383981165168992499474764711508880228061068401053073958180301523159661436157429091398507177032300652133581386828999444310647654732464452806653104969121512753742916477548595667775063528538537713387292867830748896343455639132681794638415636772606229457485818066698969365857400156956081545110177547794031893614899436689429182693617162227174472370329436386313885183976149020729578636488757140777662655741462062160199481021412105152325524552043096381610990863503542184810510470298229654342501118806744120291428265014788457945355325312718048526165244551726983060328,\n",
       "        5364712503541392695793470725556096171136732180196132281839419189545735586919426717534918514807498952138132135898738723789335187840047194453608852394780824684510822976102299207629194821832370501504771684630545063004464470859856886313961466360153000089319389842916662700077105961162518191428604121976813269065876247378967235873802142714783993042776600869869869422468454689097337284065648374381267207906632678714130937692392567738489671838606160851183715724440319119209185773967676693609029643138199916964404672570468685479748969637634490787232811610455698904614202570673948411826112320077747764515449208876470530901575078402700767285813374567017073569157831293784635892777414055190576128023279654426754171115506569402431697865649193156672800453494334949859280609774524273885411173451336868495874241321335513559318886152618374086871746783386173332191033551331351973981736868204831797489759156960650575667362032539298390640614147780169560019247139997996141343866966360535657816006338216251797498072545215756926511395896454196677590124085060367894960163212938016836908735437685409702427626304146129692435063443839823943906928321035551131994010221924048132936852488779149927131133866237186,\n",
       "        7317471787902028595557591651896650236950423923428500535953615945663943937606128634834668500389033025900271693423490916096131096816638709579873124709204596898679399448673800225410949963872704748221452494597446693755052298372696295639996822492768239347587469552790132886747837445315589522170467532539944780872264745724712501698477303834525492773306901545768056522411083672455543954010556684489298787688644756474994654672373104410522723287085384366727630740710047389731996430955446116649867655566653576130081304504541199678102701692716046580558268627525993404807902217490813140603955114186985892107579075838046596586103946574293621961830608078403787823095993393602471418816793824353904018925276608299528846830642359172093868189397633047088528818010583519262791216185257762684669962100377231544850013757969415558439499249884849547360893361435083880747702445810602508147861694460848057594098189063693242610438768465148115011345491604044894765689788386449430410196769290243007590469031640852635763519972403871084250301143541186923974391314182541289747074727599780490095558233384509824974785821040131410951724767051862360607856974012783172304844731162347008651179512743286665851418320530582032,\n",
       "        9981036883410870545733250806657756479296549368288654927173013989304809076630346377341205369449155854826922727961777508293846605393083039914141395712207464950623385358814039609759743379917191108944562707402601920826954339444828607109841979841602238623109397789395584174186750352516425270758709142988606657923038179044755231283958916232435486926783656485028498966438140597684051050607683383291777927674519354464571423104054606808520733053256302882377339514044229079913562341009002470787113091222558616041347863748866766829617564857834325170372265640757065459856883238860039797732206601863368834582502374892304434213976684702414903056704235232317333607776504146705064799901999553832780272390205317000211773831167293417305438642036237125421909980566889414609397078157301362826163713716087995164043914640111604157225036295729087400974345416744237799513198327119213152465657332981464955390147419642034543571214147548494568173865891162065016629960890606257021075649737178857822889057575164461211433238740431425374674337271186075418497747342669071379582904888609313526507178339071909086675310287525043390667845017322184099693060819481757282574940207315663243848341792234331791371261720337580128834,\n",
       "        13614141626444215326408749657872831734410730288769648749164527035027705244467730064822038958597148975016948501211557944803722865887262083081598443624575691397247196308821798701512515381157012545305131754349643617454659474055044592794120100500767946250160566172205129603723614228669849384904401441503992021351804948481791860183821660218345838693625680752480418358278146186324718088572834145366669582646832088134431896108585156059926690407364884216947057824787069175049488765132710325599738906295225518933974616234758774496798036568787712248434350892261264813238193545707311774919870408896749277356425346932179086314460784038040502062966538687488921444794974752099101989537746208221736645444258977664897159034559018863563790401605616836708532302022055172110736877397775244152649990178706125780987444419125986039870507946873725099778554509332501793619883265893052550565664750048412660000218674489924181124378707694915056137268086890548286728161420476722963196616651708731360663682122993356733247573405468436614926880288198950412017851349791927544292372015137831249936281350052317378734948206969980225002351555352226163843695565630090946215390747623295826956146855787141306717066837958779826311608,\n",
       "        18569699159506793116092080266589349143492715410431169182515342048791779258263060438763638480731880651078972582575292998489786282916830874406340191245316955273310126388618292242902680739641545028987308657495621296810076349565420269399786926925027320287457635368285586175063183994656027077434874324920588105730519872767343142045964028496739956413592355330039775669190357836287513156864396381963520602508206642734719570863533256920346814236378755328218669250349076398996582589203357893120514655299778830384557417892074717280399351497391297341189624989310005962322355853228012121030500969941767877682998755717867166037358723404571947228789415473970121168033953338367321818794285730014002617166241635740236725134912332897194427413228703401507563481868063821648459710167643590325577412767468871653262038231602485069987530064572056765185349325074949190735320287876450798184719184723367849705253662151676225088196128510011685065801844384599025162228807491140728057206188580446754803085304820513748610901558297687974185639387440639548067767738863531839486175011552890434226614268649699976503556029617340551946598189345453809666900444580263532395075554698382823631428159635452976693870538237496020669162146,\n",
       "        25329083267708892254564923892377530104555798230558403534599675719079021935976058906203667709757243805220693619581200861498013293621423199952331102457055951568486409641271659441117958041386448576551234313955781798492561595466707302505902162445837765640038464802907711747915786692325049603470553483593123680208450458259604527542555118691213518893978666295855006493194006366842354270681125237832387468490776507522245629089755471024509114545111029632574481804533964995300513701162145298926707589567804619870055251979406149129239212240478298361094896919769740393872506621996554240397378242870980281908887659224517746654043613184620174060570825673033932762119757148507779059937395273485307791551399035408660557981179456630792062555434353045273153297800341074783671155405543254979331743664817719641175201135350208761449030878584232301437916257956740028664770492546744781776507533627423795410625995393560860944480643666363633344809853008679960869566821579336429792992437840381082282769019457303746462002973091451865225827051349320542514847213661207220986687008130157690116351798719540820268229159346259482835384932618754348611816050103045088277829271999341794729094965889613647351746131222782530972563478752,\n",
       "        34548888146854088542019672281283217651963252279197072852363140196165834712450602611122241519747361282201677176081340550376288622285904161565854030091615563256370736060820932095977137671131855499960912591544343868765150826292938326038319949363049637360332753448801487109743308111515362315160912386495345620392432155585973342911187227858843736511343314419901558896492293874730807512722211688799758470542021664466985772797997326010687352586345680797586921400053578602666299684967755391093922272685140801281585748257327879486999565895363896355830780588190915207248061354759153211914144953776987046291600450180997924303281525742545321990565835007433758257652516784517949005076425947319689841678725450539048741323053913756733270520039870782455982605763147094068749104432871167435398823936224137059434627610655916353101548105918957431218082961202318474047937687154047758793954460586990780307943562970479166004496686157048505894005705305683851225114306863022381378369742420468376680451745625067130687920666198298641856002283679860660629799667201625512957680565264546642209138080067722328545841076904327551928016994690170276960326759240998080674491522082656906393309164901592650440758416858413609742597254179874,\n",
       "        47124708761392244480207087556594201254807980664623037929026857827245917626804557937629643636603110546166892888868568091914119178811266897799024849376066085337641252473369392650572256901381892288395261326100798992777464219625163343423570916833362151197259515742630031325401620179893646522929087965733135019338957668669725899335386921354581547814991174847412022189821982039139188289707367424648108386206786041109476116342097442434048573436890053718938193364154885748001828070809719515597408906650121620752702830678247207026416537120488595107651545817189328112426749560398106977605134114330053202122024922934540393267422655156445003815305859520965319297370795013839630950703304929539330429357573065934297891825203519543640811781396939181623005547414230436650848562117591677925138975180753387766788473236135805255839273065504336520413766596996220355341415670048613689739735660748189051763830430517728975990994424398857828403057126846805781751016784127984107536526121653956706173218463801611023562070250697452438943452340766381290419589260910230860881497277707849750130954457564171975677347497126662127089298016142324876528234311420771485085094713950016019662268430020738264814841832341007386471433627264826888,\n",
       "        64278137299427168325091009446866771794775737589798102932265486439503627808796129477529445042568162532332924102093902958711408936187190334502031460402984232016105924744411912396312654390622572213226636409714081370492329960719549093368076768880655337282699339805700811529334919668683045372637591146172382661723958652497661712666810671914877090063384473835184418168476079993679727557968361889431708638544526702094989889676393709477368264855270619618312493335628664213853096154884142387030256842593038575847487942630877447711911643631912339090733064325426831736265293648444372676606614846091146344681488286483163277414688804914916727749399182952431702955372022051394041134708313000317594025333571340659832863498318923711439824003095945083604562022655616078738851507477499481561056997545371557138036536928716849024881121562896020932801808856385805767004165021883996226852758235214990453596645015169745293730882399376728234990275815024748391992238118664877185702203008305739367688646665077143061205794509871991325017510848807627759992980381681222095867875244474072323725264089255610642546230531921844045677354422035125821754788561104691546654149864319343933476240531857451894800094700071550933560645210186478055106,\n",
       "        87675426401127418987668617092613833322275360880465277022648052530340775577115547411908100667706610297212654642148972504250453703078506427527668711014519868536053818992630321877963111161066089880733420458111333090150530843885684588517400136324130713415753096754491649556044155829703853781924197252467095683726498940964479245803429091878813705428004237302366393793823562933361187528257135324552275231083120628443607318994717361824572747311162562049431959847990862142581371157090041025628785930705811267577594306451347516926254508330465551008355007391428015677593972963227684728998400255202437944198752144787957644934028797326601573095184300852976363796446735448896485947373089635738127789885420666233077960109598837145923463581034650490975804221907807745630230107047871410440959669790861984689669603159243018205743105651063238056678187693876836062414036431265440902040851972568907726894875564521963098377899583744281711384564614750883653483194544875676609281912439855150151484020224383686937095727273535646864776323741225945031011715660202447848994642714959912357411010348699110480605034122888892404966038520953927763198408125581110690407745500026299075277611747721994405245593985739427814384106538127983331991472,\n",
       "        119589345889275098926348318805334715518355387016692227656994875916871257390813415465972126840196859013560593264815300589700577562408018954338074623855265503667409425211872503453454079936348537219892598731500268049046694563390034498286827154022883173754424506672466415695255757886635725241589977689956264684985606279434202188937589948133373809080887843064901596319193508317184653468270290551051192846906015081723782478098684157922426704700690589906044811545152871591145204111366970843100051039739569162014414481487580643964858861274398643487735320814972138811069915387136210414726494554710971447033442606979060710853292694242289460618559135762642712650056302524316858226258028971459806622997739122313258997422356312185963315764355266365636080563244272420655712604864804081340950550651733292488266476745744405549482620989171819605329980816256860774938512696411083274379948943342225354475063866652972835932748763109599631056781124796020328099469351448541559937714270165433112363571274706014059341633206897132195546230600543037829927740153496520547250788531080564929580941840889675951155909089850981162217722219935579504128450438081196086407711516185736258022595900133332226206884996643279610370854878651779451314422914,\n",
       "        163119955468397636062958094519093644580870070166129078989418033398664925421845075811133392918129183401106946425862712153324092045578240932223561314607293161522214992042813087340833242996290565834023385403186823730232781534994850941347820755487348973131748442854340945499978409801526958933382511493297597497416050691647192750190118492683013754400036445944763079745773739168202800691908204568769151595455035654591867743733924186123551849784489275794407172379548364841184200989275705320029495246990703042798928930343366449715584413032788080182821985946629388766315042182026754233371667571026020256191559914671583597561536168975280150885287756364545513031040593089903643517101898890160811971896706048255951505562054119420491108626044164357378104864069409489582137623265699814820466992048634001815980163950798528412512500772336013004908150511562051973852193731941148851695152399570767952411714008990219470175367690781077641043160838786386478411329678570355563431651546418090620414062702719227560628924789934961850371923315464444825966468581084914228897924551036605523860762081983866696487140603590861194157378074030651397558969595950877042970808915822844282241896085393612878540596381015419127973660438587565299576204846168,\n",
       "        222495738848240264864973767272362536543022294061987080433793854550654875146654074219801413912455046355968888485470004192434651250746283039571891971198971727581804916555822263005399996901020268146145117582545559068305563060427540074032925797311898022234878630477827722128386246225040658620858987266835612942740178129013050345461510561609578894375458793156499905674831699418936937328416259302091673827393515538878389326235550688556682645532748072874161289170515514796246841294576173423491074616946358689946901075402833324992701104235584215768012676566523301249392528606199879910529369293374046340416734757054647006134646187774976368096993118240375842417052019030931094074185216344208318989473730047560240166845639241245862058129240004538730100670671237788062456373847019412219198318104887430210289431895365938499072600536087310910514322627751455149195167188880423444795462252963470829314932383326526010292037462974153011982502440885755952573381781039316437062332647028545771677893890080301098711912755104494861039498948524103285656093072339976504737316338402461015111009060767835063684410939207024519811825910700028441849938657327434367808269768893875786714204283072788099661599670590028333835683209088317720401394724596066,\n",
       "        303484350908955189673460281517597018938326989970620543840773807025126648364961579080884939709981601358724965001127511581193017630109975644216992872276712043714743428397133609552452936606234642041907774405977545755992518247204699655831852135354184389677347583720199867324064339829365259885810592014475269351495100384024492318402250596153958294941880193901911816103550183781169150718760469596257611869716350650065777632853034873115501252058518155889631792835755541730445532710002889825347145807010080243790615865778394998656494021761749903095649473658723729533560175333898818224716293087829770234348682400182453187951254961661236741364449498567629013602371984998783102220832152195399037262454139681578215843528957487113475267779391992234992214692900432412326680076064957743966801326362058503440836601085443090911263439643723864417954540972403496385554181897826629519849862208194573781953520182571390468257809274864435489421774372529009905696571160667306190508585162198482850659267680132233417870609626887320925419726937710192346079736917140309037375928383505507861216940219649409010732233008218985035884524699572912825334713887564216428567522935580162395922456884007368361551300491281179662770999870856903958192801980553880192,\n",
       "        413952877135553726954864688963769606194414557342220483785895906576127299024682740520401277565828816708347208230426411266751468482121257524995017849677406426598637618138606799251808810930900952765430350434870954956732863194750270758094720345548904819417924339072983096857745887913500439524904268366731534231052259663987536535351015274664560723879618959941000873665148125509214140517326608945554684681966929680205259569600865802480232264490464297381530639589259729435842502863285236297946930371836366398889089987822806181000782838384131103406681650083175733607077328547966594258392934301169099973697943210583623203012517902352114690197477213039364214929477804590359182360309129779740631034306435999402733970813664858062021511113148806648533919571216860481651379686208976209790129228356165903580731334169976271368901830746639887153400904400680996821351053303802711545498656847439651602055430843959759925229662142952552981724312226632010397126075636531986683170147223571377636845012793594256462276610242987060846767368582535650884156046811072453866957271052417851125160921570610854658473829507621634795971011502043363793784991592576248536000469092401110401914017903990333517944073531707199650047977659532026087292702302870217177954,\n",
       "        564632027897246192521625109206863260446200394541778710504505857343644660996315623031406423484730215971786950751266626095360584202631025374068848563952854642592585425884488071313076770562685505806689039900938388538529381390157616518740854383180841527870438475843132664313832715178354428877229307862813827166424633676779383858711103236893056981330095203239719093591078146744751868834784213362206186163814761800150624118713213807617909924266245360146563682031543106706030904351053772313289438374330610778164962534006173409280066448049976586796616866362925359363783009699601768467266187103087740193894228887918462231362262370063246098666100283035191356792821327833234923522563873851718416129831241157325010714405682395354084454633602751660592501287354490597404894218669119615111480234279136654542620980644448719590273008401856449801103251557069852067819222260568796374689687789769892979777389624681295109403727420796557131507451298900434710689872864800790503150271321536521295139448109730245946778714242043977882311616166305565516181193930039744214838755091426332440227358239253425403567314180628918080689495573311847787635553866987890567321068409558050168373116343499698925844077848549111603845104298601554439971204133916956784609448,\n",
       "        770158500004720942153223603822850451018223532569543503348629775312637893726273534497578882034449580414334109171935908420483103603857200731487434436249543409902713119544059867877835966856313960821276615855230396837509032949038183681833283473379013392920097498974372027107164681249163354488980300829146426986537431387386743570818480166137404387094973736837936784659104257307967058304786184352658183482128017062335131503184393234456631616931423161704210243821664386806755589377340208720563091889517324937783407785474408353064191635923006448521688812400680273347933632307585360155945337601545978793571701901063993067201328885284170030695250983537214050029623220642337026043959484242873699341720847245027314017183321600927829258141745266413854820289871096391720757365644365363988268829685970752962038598330362223497403752361962944168591988524747678901502240514469142057788279643902981464067961503496130488986609431628646879929145296012419577391383713663914778283653252723038617947844066684849065662628502758228818533891218209373899722032676621022181493928901976569866321241799263242861320475016207351883695267933008862425698689259563075310074473311106272830771332606551493325184840129494519934844372311270179788146809731365031924424465026,\n",
       "        1050496758638467262343189517239477222052117344625251880346241518032295430687298097370320626501412712415367696697471330352165048676245424428774234639892941163961943287643523544273439571868782805245727110715574162224750859471869472699637117398543357448784540859039519288106836939056573993877398007560263589223464222837029195009980265657714656477054525507142149013994111798046213812279597190241239124475808779087786919520967631085012653143404385458809902919136432255147521329941596395748620370626740005545747346384349626999752966671465428845760170336731394255771940838250556130854477907754695818162171995287280174462124843961789977985114421007645042999431762865777475536758884259071153577620523365473458413644448765069347954462189795176991249635467885462832797710451633133025599613795171898386176875190743594717299178308494725857702409273451007391091501123880958170335619588123971456486881679268158346668272844668468895140780485691212239203996558075310444558369406186985546211402154446406243855809772056476466152458109933253752304786368752105004295301933861051132723994614041553302516266531489421008598278426150119661660500799785597901710832148917417365699222266048452580395251047780708373740239327677676823832586688444786037461871754904912,\n",
       "        1432878348941369350557052654738250753729539076292376134335776779225826280095368331086651832126808974184141952629460066536261546877502362778048787536248407997187500547058885658448839453864986602669132600292659012504957009828662909800488709964896612939155506651827403283349752692037848176812125371292500364847232186487139209380356653175602957572106759886715628093024753151639292947916428872275234518443186656803758420561731351984350493344235198697239869285912337417685605900795926861141326906097965257081724318251660676702071399604070480868623320860990434165553200651307390870070868022122742697519181395143552059030331354365210415255866100949678822188438974578543697274476144173332537722748093212226644521238342132737912210814256138763161330916633016061175032468776784959091283237204883299084716010722212861524758302710190558431869030417579162606196486434475867458806927175989376710551088074589729488351654649114401004600671462411958790286670882606107160041530648322701537755391156612742183304173594747662402590181680482849336353102506699903902479814019280402647012098519873920503895430410272045271935403656964031151513785516606244797496650361197830597920012001661421926210615754357726351276206377796723498977828031185497886463024998114764994,\n",
       "        1954447118452786432627082164252491267564313352180145672485879873105545078345513090900290469341593942199882038754280228226791102105961899074682974973677468401104914708131607681647761288511413594823502112526297608630923586157155680837339300029236378592365559857633437118008350778776563969745732883840978057915213925832680718624001484911788091843010097540005623861034777292947793627171821261380610124395631075689105573433121085074285157934189954427420640515887347374155421596206974180193165648537995237399477515842611547371252388812918807370231055414561288933208821460324119397332794836653328794111981585147800295797546429478990968198979346809782921110073760756896468859860997411309840524981976762000508600427512313503277324898599835462747232361537069375328207120209245135833643361147074615123451024801973533863365042195878230195795215191987251245859398588126207094770819003669097957163140620622070290270003609664887638744211015510397481163258287871288241607092362681571084483899749021934784433136639045583573609473964636716428039384123925037675087470617600403071575635105102641608866669595877601240340899186377364640784465105151717689383332803505989852980262069488445555803860284194986523849119239554058530282581267123707561921603559300294356728,\n",
       "        2665867302447949635472690629093052827208477141912794989646874482692742712689559951356327286833766263969613285002790860761409599534078907840230355912883603147515100849392059936653204846369022008325859550618470230831592276475370177325040605728588385296599562801318660056366673812003925292581356465684465363496716642067962987342347405776332132876823345151327557662079529252333942146755312116952024484910159230426596805921197721772676939772728442074200450903539627730685412742832213577710339085932731601778144413333640402275064960412220857323476028208782459095330998025082750165352802228063162597911440401322994747019912360140698045833823084914644854072962798111381362068547674945170795808613139051461905957627648033960603009073900989827325988102467479260963735686997879142062048635887846979911686282545902622402491442313480616177623105390901028278514825870690580953134855927931825602947234357616578465657773275237555853648108425827644576265474591327319767659234024228311281937577013057075658708981679831770742065725077946161690695056298136258088723212402220969070031813295458523028414641224207458363870258425622382334061161917212459534563663440632531357295675382794241399538391638257715976256549918958113632028939826184768299958953717910599617341986,\n",
       "        3636244954986121755571182645165088308803630385882404546024009280272774165653638119163121319531726525648494720625845488358790920555585736255973280148148208370678998663485477885202653058208634530770067250545705921151900496035991079027036223553094586780940396026558509950321261087924132875644939964926494596787579414994627347415680485480401941032078885796508328656700338934960790035967872899343822778027581585932953732382087125619016420135159529179163842453068568112002277136644735526971082706377894442820626379264601351314735977254658062308028672707834688767320414515034331549660619571872990436879998819386149982735456256778341613508302886802922390738442366697684934757967888486210376792788846648170801726712712345834576007654125848724308110518998003249023910805272227359017770172994384427674155212843635978930532190680629756344508111548404194559145468347020540546283038256518013791517984826929633649227493017427635849263658637039922712423588505828752034375436816139779270133939529709600220413835444427174337761222615792529182824484830041979958056136804100019411926464910640530513399179496488569085920272833448115881024065639542899956862526316355576277341154202393414757415921998443808786600457938578106548146004205497291084851574792833617178348825632,\n",
       "        4959840784468372522548728600695809546260979054820741713571738305166546654694275084098448836168561814750810768546938248912251577047418478332055394352430069101209301692095041227476355424601423868992380055603893494921423108185368307163054733967026744957587996779788608890898256490602329246304990693516204314483621818769313769837975524542674023899888477049782511615296924386815769943002325390017091221254106193371779317565972760542060169741297370528821555306436430444398836699796162091002134521838533952738936159461329576833702148040314009209008433049514724261084140729504853316487250448836987019066916301083109899445909354158018101523370971422271055612089461138440362391230268442865899116159795441244025017142097267366395635043236731560946090073901378899147875302127005115579380578012976247194527622005002021163868310579821301134525241775128712279702697340161887995711017316746498743456134251166377914124766133544570535951484029030880407390350987425009102207863476448683152773975456100907757720130255180345628477049713666087751534288003233558799046659324004828698836768169926979078799509247851632440653616015081655684099159593498432753620020459172446674824691627740000523356717144268993442639000884770456289784781765238131224505847976378771741867415504034,\n",
       "        6765226466259815106878221382531729386188284234405877579716397072256449909777156868348403375655237847046631536792744397361799509883599360030659813869994762402257858187016299719755634001809400365940137165910961272778742271465338406961485684167248033216736808548027689085695172174442665016092882950896067611450256948380758976686346031156692849001388914774789142351593661563955645163045207799856211769613378875340692922113719227466495690543549748560841780601821744194728125260799101736862438458870466689430351742131632807402521044662965563219149810708210791726807535275459134958020159272833222166997710714676181288994203094527793468819491513322864522777280763435199351986572844123957572604818753770703498294183547385400109480774982555974979191168911999816440950936012040249877634126179872595557763350570035600503495306163066935377248774289387111953709038317449162246690373903080480804087958636575766404499830233647811638673673479256757915603151170436218244163560157312819960162972656061167891130478081901435864417033570663159485621951660895404243879601374079390445232763710245310104013044013249123137620618164844211801227134709597501818837664768837533620037156721391563107273319600704905499568383807284840957372990473789016487517061491355437489524333096328008,\n",
       "        9227773859819172274154416514501879578570365956708671839474879178296102843482696662702306302842580591933420166996071904939743443732806574500298318174067208346748819776391924912787912254823446700566216086682606779963699379701829772463773636258860284334373964447506547701497105744196285684279938650012929738222464961213174013513945824473253588711918379641289439950085369670159886818163606441329262870843870040070898517542430592237060663961571598334358717562440165518039607254566674565242457060033838402916952515203706610626615538622433068544929550814432569430089739199866989587592813735394963872771896481734612361297992466845264449487887947543358631339266573415073054550047750615346571898871896303035012917291375775783016698172711249586603177700486041651004356224595725027838208527489924233317036404705150564088788761474733879675868462655965795833571407967697997466373665714819092563274719036423596542115682563461748619721426577190246827763105586825989110048198262438162874345447476842889104409729823843813699410462267434263204476093599749334622210575320903612572126188537542772908852870833581051811346963830463519978529495843050585979327328364714855030177356592669719818321331292078635370404718152137407836313048791029983727104496380056793114482932210806906946,\n",
       "        12586690310019817241761731004001946276899365353234862794921314915592956534960308025082814145480655582635032154414178871082207419051058051217766936649241542179727792432856772597342432071213183108972684682372241558831758732655567274978994201342769595080119304243207479092531137930255908116022852411500587059003053657351717735191998790927549051695905671219633570881058795823759649575620322231180914412042808348035580918620797441530578212139274203677813851596948987588350219023354204906092448292324614452045412661089597948527510997202043368460847126460696732913434131076153849256611555955238003555683033798796725936991750718980035236894947979940654496011282383418923081605617118412176848027633871376093528322683730741715420176417058919418682709362654129723969758331299504950011566309130382834117033213781175939452708374146843174944819960311511634904103354176978385993295926725387145336787520853640422259212195516392058765111664524960975929826791623581819582323986593525811473427150521386356799582762610201043787431734949813905674064877292009753320099468617313901627770566397972052492985419830048567919800396285370406094926033557055708873304294727135831098695534429558219223753403155714859350137535127899231573571955923955371592787020579458957163592209059873717402352,\n",
       "        17168254810640890536935275243875169223570312912178309560944513019747971009788703628909621196741917057294775792041106976228035859329086914667608601887883637600357055627236414214699990133047036584085442472971824168853298875041573464901120554405173986549567065361699448988760173633974802866540854969225450761409903411092704203975899864771001379766804047461959831971204147588977832181032937686937208587289261430590572443897285252678300918418633975388136427936955981510675216787462390058584664713187834146428345786678726805498135626799125777013664025421941158126493584877613050253007749915758372244915530873455215912669109278681234908389158532527000275918020510249984498383116299561959836056264499428887875667153526023075608903649566538798332802173837933429536401368248749347540804283862369675659866620633928686564058311125055565358614101733364525974992808668806486192853110427093781058470741719084572385161976800041331617360930133473348358530571537671188736279027761767469287917507656618467517519992610044047569870585882008434773687697102394903277950297404591482723891624693022417143205021501057080223659551880209064376999088301319829953773037335141638333475739139274003690919460225726360232222968319172704003759984193323917882545223174878397627932887640599961343715074,\n",
       "        23417512148404484712196957194376734822896183711576567475991110680251148050308326710140748395170120346805656815376224329753911994332293602664669350742009930928429203603342901845623383883908229113875652505818250538557458497315438861692403415202858660423204557272662291628147969367879561365869842200875926339150167255784105885940862607546436809550972416643784430442293338370161586854578502625304583693976964634133888849056815705450643983301228881703621765519859555729548584048317723394114388761236498100342715698442444452297405522465004761890006191522654200381270163207195276698951827496650374980068339794426713301606602047871923395078049133314808317006675987263362274717652238219631628557592804854874438503525732179205872259998185175979845360847824303852017375436049625409550607054754581367982892187577892509649314989082949937992324579584269524941525095127606224145437635918482642750899428492352210373783195567451892718139073813722172122011629404175125018104176191037421634530953870778111080254069502862691086347266574794454845215692912543940080877525759331399749289803851848974955384142312861687473639548565001449180632851369033805112655296229427921822692006881504170592633367501293911071611478924886696160360192011649747947163277197554713823457622333987407146544763288,\n",
       "        31941503738678527788327186548405110173599618152903350215561435912375585688591567421335609720633240894959973190948962026891312188305107803121523662020703433670015034072015345353844510317640957558362974103378566706416542243637133648921903159457253617991237565686976727480242818977961355677849331302849732752051589546792931521127540572593204579228906143106169425083120084741047993447477258613853139095793167050220054980685940519519931071523794613277715476305516370971085779317122162171962084854991296596701610641021280911660466630777893294343745458900925751261210629108199235030420545713181027231185460395128910398607317862406582192121367406999931071397381964647736392699376036047877103312392642086548163006684765845962832838246428229603047870529234524292085129631173057307376375563489532848298340603722866017090352209167454840477096085167045365384766204746863558540863128245920751806007878934310134034412663915981181708873314042847176247772221037866408195882832603602804876969508997249000131934068321897320685825241478605518417308978820407036665220223086025433849514016345546694861561113319764842771124567902213856891447586266450411493491777829977020507790230862110827962355604191225120428038289476513772735435305663874449523848592642687804533593824796446463947848400839906,\n",
       "        43568234517069660307762994648981764653524702056743881270593274575590979130386948271028481799692135750845750238111199580904079578760161375751360939665590225535831434903432534405545757696646150017836210552660870805802702177779547612568337601903109137798708462801593528945342833233908657024147853766929236349724707291992814378923851281879738592505037530169231739597806237880127833223945835327798307031245573833464789127544471925440891432202439153739685613302489849864116732537138677520279677856596889794399097257068725605949328781786568918489630695947054247374491679373746963776770323304606417793711948047295628210413683170924625981976940221197039296194346006455499703004223630821542588549732121398856549215556524139625483197240388103363733275247236738958707968834295486216886785819206777559660304566370176825203750062619397485360697052492429462654346044799817021455961452365071823946037497765827515175149247364593899302795918493517362124133431507279184954309201775490416889608044803201506958069149445137448278156715724084501915664292326728110555300465166864451102136867585129543640144313952301558401501384258168265801383688300289730310927897615384885400547697587926050844823636750198565557755298457443710897829917285716760800277427527903362938535800479975310812272365290395072,\n",
       "        59427103822786755338316513028397675392517867205016806956439442082542007909433486033250270510389793797394498284756867177315191436741048421632659443227527088334307747223316048944509767342735666265286149556803531157681592187033546580676861410899000321211056334498939260458175104773870386142293350387422781230757252797867745605783654276024536033381450420056975198980832791588579105565455566864375504643758058502013022590025640392241895433455198529495544454260072460731026194266436473259823652558483012670856965360252382747795796118823510782713150613017240894344557911876419966790749751408028867051650328321971632007914662452459052245998738583080168599940159350187266242634153731816620138658937925980682419678182105611215005043868727619416361790485101441174201961575108674372890883233773608080909503726869524912443932175765067337486831256695758954105893389873155164129489961889086213783146952960467665009037607817969994630195341698471724784494248348149846144085947104601532240230250081075852739806451777235801348726446072892739218484512042635963204466499707826197328748536900133043071851705792052645424490659252709416766944242289181458594517145839162813663367567300161995463167402882875034645898655134242698178412742613023325606027934996652829735967365448511120394403454104499718114,\n",
       "        81058613182515651351124031533729078217159024392344981432464669593861874379446405336301640004653478431781846506158604941057502023794368807268323231923286614078221303044037994192845728201249145432000325831690569159948497545815935315590851532803838341241018638965015952858479788254392440606745154076298440527989242540998896999103283356348749029270890877995244340641595525533059780119114617148843516132393023042319596277584101039489870812124322996671076375296352138926969593096151886665076982369448685879938695150481507136719071855404050494189655925786212526940224366291116208449546437690874679264868841543117353354423809998837318188168261404261571167357673548001437610452688694421500690673379880769772219297589607610221406505320141713272020845954953612998350434296417066140109381617653020629138122743754598350750348691493614467729523194830067705829901238133028443689645763978165960672036389875575660899842472212958437269485748872633926123412278880307897419718186159878265466090950718632266338602958293299078177111150600141420378514790090447780539002860901940100020864106468649055879549366844673760660563660722079902638377747866131809812651697852515693221718762345118549737811182355878297455571323358405497759065878754081101843382903612861987663222425007569648193277123670902905902568,\n",
       "        110564007808055171229688517328519491085880301789025759690688765765469679195572806312201470216617854970744236028898621896469610075646955794162414521002806169129782191659815047395090517776271177104914709720575493137700908334085122804012502167605846396453070634604616258638226889354096062857986532453421460302958557583175293374522484281713969700461528539035933337610335277659885128661577903246589420380088727187782431335647303843504576029633010022657877671448678577568847256009345439847638263775580566023249051042222135986867561806567243697585473395923006903987360380178994384745148131760104470546148151515140391947066084753076554467713754554151366152444466659633311087923710013344658758698628816307895287804331902962447609688261717165630655850244347213231191166582274453323783569417361953911752480331984999019948388059129465899050407124579469046510939394706840670347840951556180259442871418937238161935050141136083126405573191657614373704059132886988320230341750008021058697280297010464492361707174918511719869380958145038970289033392167882815291163106736746004254655969971774212352748408227840801593654257715576239908164015033646077765915510387977244717238055206309002004369915900820880604433930959520233186064037033309235937699886555878747825465123677690448646750391090565668150820866,\n",
       "        150809387708800436072946488760132119570218948799255528563080908968770236284635687256248141677106758833573569725264226425389489200684471497606340674971059537979636987645290768684897659092562086820249096059190804330393198916189653320608368547465907288600329586619335541798494335558775284130734237011620948151676000532693641161745667663541211020178554198135891067744837960323608848554172379142965118241957156277158278661419200026641281194290237795228341814932372876156046584166340276104065256866874261504397585560286143967594491023229575807557079901694907203251286498788514631908590501267220188699625343535493037733151494027006419131279749380123867693505419881413384325365550910890808968365620378823849942337328013230386149836195487534061927851754135553800957749568656650750706928794663322788651012310950282417807952063001282979919223047449590609508627164281368807382898747568393852046037287466782728455069292352089597375639102906734878366262780670130949102083566729126883941355791213224286213634925191808279200913804020983755615661925431782250504927016591782451743450763905606494298204708372141698047505068087706713314638354883641116204518568820898814310005929020167823852510303099902037022745337400108956471289105579312551900124488645122224895922091918794779523815726724655242260625563792,\n",
       "        205704115398811602858670240357337539613269732042486329985802050522168367761922272990328777449043835666849319849496433742853159739343694769690842843075046212610393980930368268301247802092772462693996871939445977682149461022591021214432618711245665147497246009219408283629404911929058841650384357270383426700346367685151709719914465215554493545493248387785894452337296588216680129313019786728907667871449941250771079876607124483642551053587913985701480893445428051755425109650144145951384858004680268272564329953281342593934872623246947968751554571385249348241658771707914136917702188876620097490759514730564018608410584918921508771620045868243509685307545162714515853109699366165076777509464895344547629243403214378149670824180333258177635220448491139731719601602814253898417574659490189645673892544616517202889066562321809114075719287128366170838813963019181760110944239524240770371054302976110578850876449818391346903498141937978031705956136893191501563562215360279077717067996495134936859890399668801411341766298065579987698733155322343157571535741794298000924071096623217229996963574968009503977598506525889672537406624225301516149041093787216370696092804421564118043826057798182279319905244647679576147071526074219354101005740211833270636785558842359756960933298002820841009161419833154,\n",
       "        280580564213366735099662280793897164164619484724900153356162559993146622397498264994495708688637468956341305848282860889478135273954000350329807244295038005060115369626009963253670686952200731676698553574500372749256195228013069126139412530507634727093532156904859518206050098365571818786408394051040005640220597198547464751604492299683992737263810979494158168879140291165512019991807543270609201941775961823208030109970779214888466278375108966734615167001378794967276005609380781417965050383640752798039250453861311584271133852599860258952927992449381805908825815896093671270377694218211080197584677717832856874909770980902964970908873844033527334627185107362481037025955301000075615331878482870341790137944321739809381390331810759641828502619593668729619337543988210974092322542473413340021978081869240415023104598959010632882261026866138906614751754185328202160135325609811979179970115296702296335323932621578149265968841242504941981802536985093878263647963834987391132964688575155267101176718783170316878448431475255124204827639521601498709825256734439065042884719244832207322352614461073335567142410406381601047735950081666151668408256444331950528284895236942477179602595347023728894387776444772341973562032854340778306323729773429226270800398183070627289492542291574351791738437277985848,\n",
       "        382712095291147625487542209673116089258080590434495851664135717632702515118555395374765136980078956700285208026377671749681919366832995821544626772061274913948209974563858520246275118250603890779479521072490447875963132440470848879075373124231125013420725359264237602241335963575551889883502699869975838076687594925186427072898247411234181648121383669278419528245599694446346611948954802040897680356250283376797003841080019456232351646254702218540000789270774121763416227076305035998250280108143991496793810183396782282288420509818832640159762533255528168508986654541043475526932092615828790009602991166638747341395536028536563141828475543307599527941165793987586849019256140263469304389459760100041546295785298256314374366083414056484712255208346212638340508129601522582915826365508395285979623777562188542608717562046652825060518116364700596988692231522750686928184695076023063842249608319004908311960694972282413990128402952918678841210366403804943143117386233138161784441552284508279460941904310643981023615002298546054995372599040619766583359221721516679016495681121047754004918963088478997723086225392811029718784373318016856177225010831162567736951293195993960437095983879398164394224246975914122131514759884846895829179668416697676466642379907267177982624788619005418664772237608592529826,\n",
       "        522019578557689574531742673656411139645186089972137066570034475013566223768331956789444641336536385576657980089284992549427027494495480254587221246898823277663363465420472647625882514964510659223941743441430545403186461904997465884127935080863785025940596483568576994316700460367151143372916469031041094176607519698551485074897961073415723452030304588706743730685166862365107944210394341791327706615127328301912936447263256509080142533957692201197527811180502903464094701008085678482394800032558788042379555129403664894352989846526740321038175048288532871228063705619799196712406644705684687784178677535972969206520386052694853028419011549945409789639084770184175824543302401274673131262838444654939539489241284765934546444719167104855907157932686853632365182708114020791308161254875993643489546854572907041358705777736233412393179592982478480431482818548786122298246084219021068892807645717237991639810723266125834260684407596622320444352921577326927541090378469964287661369410280757868339991858656437173286527741583648294268812429919044883221200688253405484617565151933828381294916788005299813967625178578204650918022932941725073491886583181962186725152092204230998978676101614094443257450767262923307359728106044964020251779374044105404129726476993910613838927501168865682633101123836557488668512,\n",
       "        712035087864783870808922494409554467592123084802585393297378688054221961922519907616197865548172610005518185126992756215090215184411201900252791325396767012007741715043499255220223996686710789785347317533632336420394210001548983936799382525671327006507987024312898284485581669276757735112547947261039922432730733556419150828587891802386458022750983580379667727074095845865701682249589831158173032720714032054092622111070922958404770648669938417135646474450995231099146935591255941755022505494690295033797209990316782312679760439082983616728710925628092091883247403452060645359198190310646529966409725762058296636441147971411808067326673582601082260667239567697009812263913494594794414511816027969097631904871408206032977664971310014437513848132440076700758747554375653960866914867477220838115027889261222766601817289549784421157122025346217012009139553192775793565494587059439813992853471007920939601610138495690610213987522090195798004776226241840332970990419350417521508269660064506016924028356149284615006804863135098571928715149782176261333484322136866802535037883733423033134020503758192034730838466666896536663212999316886318259789476685207253855675190717864278600874639697608700001327240770874367152791268160090808470322895375828187930623381262073984543475094219121410116968597685302023136380194,\n",
       "        971216381867143757472944814117305950206795532856816448594691100540433769628540922320450678052348776583912381171198208762375602938564373887425061955062437103201837362682798404593033157363188481777872965057617948307963105628574719087260241892950770900661920241759276828615327713593957917844658772980527485239338897178475420281678959316416202158755793633942455486472797418927679459696384740094089807958760554849110638472437186178520616244928329958665222988678968675722139884241174112639529179889557594984887436806347220478160087591899036179958282740731765901861620686372316340069143043990366572558870650118125052585074932353391758898686611185679426148959904409423491568103802549929700856067248324988293824857784090034313747469567311578859873744759806197306688564029351100116643263187400184099182541530499162426551920141651683686691726835751832986858946782037764731209456914995160125307321027262449878854587868718845258457713240815434665100835216946791791499358473084347969301567477697396487842243017779482871306455119844016035759061733115318339503755836595374572063276290977540951023185262042961940672677636158825454213273449091165879831426338085205876221327685291259080242591987223639880896253613862239899719714649498469907717540681072003692442774421767945908827913867442382772265227800343875796115511253128,\n",
       "        1324739856901871949976967535378499725636536698939782438468551958515839715995291740565002341061269279433066493435699483744636537498416990393649684759496489605534318170441052067364152446867385775855808509685908415124398096471585918384006906741367377179829865717746677907129591486923827876697849678893386750906380688482174029683360929095483502131000925267681089663216622753513200648727551035078169656228782117528218964969026433018425078962852890733557781292204587724680229901251897080896259556391862054249681497601067599048992672155110724432446714387069054318231342499459242939914956471201050315616829533170848333784338844171174330549616604983940319868263570281693210195903398942017606562470141227100060746203649403678212157581467477964874882225366223785566399902094782454934755371854528718588505824762628746811039585675030186098431936561087525540292615419839064286145492797547985470358999874039452642678597454542643428226931074459774973393337240691650245445457928277469980544859547848908873922836400279570785746619790272101007873932132684443997259384294600413053161111395931249590618657831447103845269567026559104586443441647773349576976383784937697500373144818412468103315174071447684495151189930635335994092057934707181114217533959305108412320132241914859481715259058666504320491180836637644271203580485646786,\n",
       "        1806946136030535206912341191201087743074186264149396102887553466106705913051347562671585513658249349495479280958675267025892999523443713461312057437015166884385913186318957702683108530560271561455804585084544135847627311550348821250504508055466995424058837500926710424601591403491814817773784806669352508763788498428582554963524588965198813322887420820910640243082959908589424612543839308231363505185866767069045517328390527074317986225947587888902772347790046335432509307447471859516610674447679731554160547615293011450046482979658620024893498382244930821833453030883093742360340695861276620867928042115687245406890768524414140261435947884705781979737658824133948130703804260714565280910128701012807846115602644401171417254869109511400918215273274003318766773145847297882106443852840359554906044158767141149420421412661315489944848161050220588792114291607265724067183385312367176729801135510840667063485782584034354946792443276373879143177097138627881579396113528942137811157724833389401427236692224352331241260700386265618756079188043314727580139681590799999886328007326515419144800305279111687909630096904254814734308620836297914161667314081357475714845753642291784180977676046628875026103961640212158181466742655244538262624038032848946408352820746290101005522183934979335532742926401547129797479897933469232,\n",
       "        2464675854285506924100383361765819060052915700836475224121061396321505381241754070775783205632193173981113172294126499922801795986514723578220039993773447126791991120457228747511827399836657277211493309863827887204578777352772263771606532994563723125793434181129750765834477803954322335271319174146675715340558418237275087144277222709460276855920573000647380972654820531938728684710445543978614899243178499064295613854889647955802751637271472733354115040166915406117667375588252868277737856206191545701929236628757268685462451776926512824679164240096472710035148165467039323822444624111252511914169466275330573583332792606145058490929182531343670560682034899688986943490184915013609060767978018322697002162428210612601491347799046841028817320514971106750583444970837809093648124170646104961610432738383143156556265846455709358470871323609061970637984186367730286691924283058866377044919107836660709327237286042077402790853119560048430926266953834329122124541744311405353444399681532290992455624771030416859383865341946656576084299886423213972863307785074145800258004563104762962963098235058539789412580721744430126402183402262358128266091192790756534572549981112904406090956865301673233220100954867180019095514729039688257371333405410765268009405567630181612631013974146370480170981842792546922688033784361737679234,\n",
       "        3361819672191567475008129817789768398999920090127216355097230632135999446719665603885730964067825147559587862488469504569968675618605606404405595863564418896111160274216846330563835256485731086388038330458846322691181299936492918133292561509092973810577668281898480971308652326185099157124897127320872345077030446264141647447349095300292782830288984460303848557341418288524334515369660265826138953931200658590466286343586808202242027551224514755882901817560020403990833732811684359802693952475919716017163032922172529779982234270210743151482404916989971021418763931150072520787556827628444287527548019927593018054911336005550384195767666408700651350552275340834602324868742927882823473452802927120859723757398194878232835369815154760272818226100635862881799137706995917451033923475205140007996185161198766032683896034987000226269758430250921578170799222319875718313508789275679050656446392890340718363018721647176161441078601872349336157307268207122061205756518636870431040298976767769747098873614922180820551923567675939956044603801160451902300279398980816462351918110402904007997085137420153551870448014089499596667392894994477323252862548633905994514433889083755252199849345249158336741092728542795186258440271876877438299037027604321858413775602600388465918804066257833269932554766311960404093607879349308127944408,\n",
       "        4585524497545152321418013171848605862054951055849223944827846703294899566831005125454207810771719133464451825547444698359937196345574033650332810977941861147742749406022898852117818801673937038490561494239176247978658497692153693106074825504935810841351065329943709174615767607394279204640694952984844025360784869262707444393271310266822065240791030724427450079594667200367724217692901313032397511777056941495895078868266261277506081382621875398497011433266907997958903329222513055023742828915010698838956078835079959377164453007019230585134824985938560569687904037236864385393551335329822119440087413350703151957472645644363330188085587910650219785823864246933297260107908843817086231398683960570870985902093300242120200045919218892058965089218587831941880774415787402241019365268303981617011758170307855251723990747988114764341308969733580641686940777228496847509912680496309283961769924821532576507866863564034326283034003807004054566998040101468325813774015962435579344321248710919467333856066378625669649683130175324046701415669082742817951553963517618728793816560594124171670987090539324503291080503798799194284450310955869331275032782427840567274222397260223276905000597876717272988083701833327501236531626354789865528143876985700425641657931352497497694861377389658726558484872231356783730603835466240648253851746,\n",
       "        6254658776471259957981644974531316185611352240098431587961538000524875145156937710785143339623588965870659849634577057032458905784038600504660358579508562169940006300975508251135035409318506606232212266180566861089212882033397573889604195281293955080576663687711501212656878325138123020229065040768454571464455638704779218294069514553040597281221796197103502212415683402719864357267632760636456032202859599401059478042601523969326497247923789268064679477877880069236348131893240618736745021334027069136052108694081986762982093883808500728867052763225113607025322525555014171749324808946704999360566759358379026863010743570247587926932937677793308488515101385092358297389512531709433502451278375021595145630179018928446831095469184383923188654512379903404588258102271723652667865259890106130744046140485075762117556064151823525561771704475034246182565390938892019879239209705755139002904833902963324697448764920064468226219822271355402778721484005671003532048963529280767096085223540670921213126773414060335582988341482709675640687017232662364137821906517430926891228140568495773063234388580776042642585677629576190503586891536700762336467968094123167668033864296833633453673015353187609514082910393387254481815396788205253457826547245522984897079832140409187244256837563560760859043298278336964968947725183831593526381725952,\n",
       "        8531359156631296127839285163273887125779746510445316535203482660562632992893629868516060969454386121166713499353388653236972307426624996662390379435260656741659316337279999277447040416129244684837776021631787437701934349752051982939113228438510459665717410621103817597773156651256007193871649356303125020321542851978188116460555211121657641513651770803879901445185071755977095351037268778409439060322212270639986623945187346960422619752249431183515621304836861681346376810805709426469975232842441837312273915214806665024666953221967802013405245103864040898543109612761076567130464432954640948949932499852242343344298611702463354295666715078097983428554384113130223650936555201160511114429775102213416349510550083911701719734420013418890121383719975406831690325932273046849641209233855373066316495947379813647383598195493835276981020946212916445373660880181425943612129791951330505909246155213566796419896623217831498694890120612132576394230671181775350286040600027954928754639589230723847454172252792844676360865747465546172897943792921020547426807032043739301898363977551988828582423377011269061488990155367245722646086804506370795696273583513166428539765465123278336254086897942345776094482077860282048440697437750738320506340938586770337100042532697449483898664021298074267470461617336523851574428427754581759810632928050274,\n",
       "        11636780144303864389632742944350556570879759851599651852449138310545431927182056297593617947479122292860363083777871757592287259788822279486100982210054115304185477424056219989946014262635699068625332725718024245592299542274680938126524333194323548277993628663849294914863798329191518950563949951062503296173155914553887295631415602039455576065218296598288382674734650290836160778679191881383235514735529740012541156120713583855540422668565472058104575524476957211236527206287119550945664954342112000121010756405104985175632487176857965754785483188723315010726408537128633992580125235874939201072707290365217914700650169372903585506877326299463327189856668445411010152235758683895468869515715690697474922327535944634580074164579993772550509490582700967298329009159878538174634262062843988752561831216272206300106990056209655469625638132406122506523919623132855925978964915460824515815350758616139013280063691517887084284298350734771105557133414213425583461162910487094052102095495795930868598412165936213552616556462531346462542470974231289259352528929529566925220295356609053330682198549477759580647025214506600795265452904933581302030479504379927102651407762462015947484207982466374991780483068284335107460365786907403857375902498058901985327442911679153236446964969307410864390470505090316811884485344404974704213296840242299688,\n",
       "        15872576648189627658755189215379322436567118217328435572057159859066629711309317683547563396422492261847656412986516430744533059324261015844038402124893248535565732865729021346285640901275509658849638675655406702775334277597014551656562129590285758361642975214901059367691818694173883104576421604898610799105204988994354249429367341737028527410599270211836157848239508181772279279213768763475511651538322887589376776935277273566304096942543056136685824531007874472988304455752441873199313467697873610606895984010478414586227737176187487257329412474663705538671719787753069526955857952197850024904121693990657087894030175323252193094734968739183056384947924313924730977873225781388620698530550631886458007471108539031651132862206845925772313835276187839370327600184400258343247983094928434513867404095491236773159581820268165554404647393622897311815071739614095664461251756818356590902644343998568827680803295127021200795281645292348400112506371217783677616376495944996315022187010905238935492081648509248078613659375758504040454103306795271470777396886685361329739784764778726295039347403911041079271603881577158851987800408416209402340369740247804081182948727763654875646795942171033431134354999621910946857987374039136612199051513693280894756969231572897711963144116799329717102869239404809467934289584196813251128696700723424824706,\n",
       "        21650206184910796430406467722520340154034120128195837719937818496905193471657836502415174066338226924282496207676692189407300685205551814433547866599336601056626963814331809172553604135354057810369975778926700460609801546941870123140488871285482968728829296186753708826826555562651505746161189633031656192482795778144213750108952685544908950843633469787241117593381363894587679773008359272572479275933787154201649936280874321858022643770051397135911522764870265258113258514173537002163414515604853946979806243201048962600599809140806909476963073400924483078063236516903723963401782826923103308908423063310546633105371859791085364284804004237571988372396158620861778464829232201572762528264540577608819419665514374775116779804124302422747208621826210795602094144980531112258728423575744447520903891748081263230795969709835834025863408670539764339438264376753249619181073375265153850815722700564806497095628974616948435771848448477113952524564247474471149694321001631885460784315184970241703942067966978780315442584005091062042525859452939724517429628705967762383331991639453539275487000541133209509886048341496459180712155022532614558373566356177509146660644716077387712398177149329272066442251999967354815849402238555169246443363640580133199350491359308344158270965022279255041539178033018665204579182877329797679514246513083591703198672,\n",
       "        29530897108794974520702080728706959349424976421977339978430756486938542961971000298611980974048737947213586674927421132867988879153431999148375134079897248734487714208481453440384462326263836128854305812094695083678472085362988444978178476995528359631881521641707273740850789479275348011646967235876783945157332546593696549502860892450597545979243463389067096233530028591725776982662681261557625207885337216653938102463889510291616452406447048236439453737107572819940957601637160223392770598598488481554066322622214795465632725895797800714064889448273469582183793280776467239149558731781065111201113962477279598212815110785215760136665756515016931323004745306779779750758050596171029477173531878409061574881769078301798319303958410711473118332484786801389095784081044621521163913005298521346947422211786938538042475843797897879443243831263632181891104424963172094658648545113426670869236666214740060607265602180812793414002079004428723591905746061549865966731462602387713506120934486420589415916199040704859511763196603584384509312747913091037045484332336914576226166335999392350490563777453101682525649209405051899650231438534894673830946850195862723849200575678284603365989278481069269660662862310471590729531511376624891285360204802815377194964971065813004779308253533020675989155939906698743855473378967428231670683372542719806587813314,\n",
       "        40280165306602530157034068520424015072955821873697219926417271786002669505321916065143244463776544898226256507097210101924126238465966452390198116432846446610442298807332516824493579166628007833815083497672943020837896534236663180820358583110771968020855124348584908136229303676287137339392209470925566332850794076349580237735652366255300597624638927696157306503652552380477854392031670249123873356034875897303125773410681572912086699105037543845900550808937494196664724281891600718244741259902853893693693443862944182064085638721677340980893986170518413434581772098215618217923961511932199734781628353242072682508912916482894087911776376690487331896566844994606240441812445842409485779627225746690537596958152688318027682647379076334751756152717871023305522251580689844285979836067650758861683804800769132247153167846910042543394610449252264835863805873914143490364015796608089244219489628439606007474807377003603267165134607610489256093311962192201491649771409310658473107809738954662654205013637559488407154360442751294191532745114012909114254558058936257449734874214294810619608404479446571828174495407676832287582096394316618867719969877233512932839456245869896276378921774025327813089210586443483217109896830919954906882477762714680754627131571025128246863134728784062481304250241210770105284070268094449437796491634394782899777480558968,\n",
       "        54942175009102959929168990163939085266471090460699429956973137146864128143802055483855684060572181289918561089267269506445641057256457394492229379189536633073892030060915761430062682367742928949159902745131706375117974551170893941627414085541569959908806021492991456405090511065245134606278985365309708354792428277473374037967979330433122465757553476621021955138078314977000385116508180882486224815256778609258680208870272129341596549195723616252856587742844479191823503861457745016846050471278091309486679411495378486550208276849093788895740111201476564198239119325759384025715522651834252219307252274936149616221755430897778321127423114471581235723848499577388218742411926887097134774441013092017771691312495148634868060929344364079012106865425508560575533740251845028650698017560188640385858056695671308172055458985661141827088128096023920499750413103123316684028612205221978842542054722428288808935697869498517037226037018782786349740001108335908896160154169031200759706765990055094346756228017547341228063407155675961880835048844826355944934254237873387498352944654464457684538214200528901426731694261720408645313879132079306670464712743493361836255742168567114199265452665759825618122952900571773418609490006906329869612590953703029352126784657843245994534320549369714757519673318167430330306215701154208000582646259997856418016290070245666,\n",
       "        74941166992581743945916659617681432727481640344215896158531285485594456790815509001895218201864919055993815552017062704001956326224046352053853263412644400359235339445387905923122323243180521714661941159443145168603938125693633573042973633037284536087579434171564695121451593322298039890101875430491913121503205021267758537368561542363145298593900566750001642965645325281180905776771550755381459771883602057904737108024824595103510605189666117606440231581790678555141455931752646094578731087564576448993724410973140118598666153707802649731130492572800204084811593342107898026694190821063431959334826884641261318599156916657486112911893039915613496014661249990402524970890310086446334241823321484737987277487840340890648353135308359982848848516196546394496051327225768199769396381931933373137069251016700465115815893209609644362190750117587076813924399336466077871158517411938575749316606860881814374994299368803354242379581658754328191534617605082141926563941936329967146898501918244887643638149220948210994566894514702454756753198157088263521799437035017359484010866243563734576520743777925900992633859147482045069040418718252568615132735902094822778165765157381789637694353815018176168447520845590485386466561479317064862106480943328694750981688900429758561673060092475019713319315710230616181307783500444607807244167295128710548957119433295647392,\n",
       "        102219806720056507845190252887507638179370223900600943059666630375487985926800498080640561483027810164556854331512362795528174874610656480658850343524226151626630076895539164594900278966380599361727836901383195141682146721420667364524557662876941648793418257016035737137116378382125591655233564366176334807438726441437500118344755911762660620404546130600478862027095361761845732479901511738521193615074048463760670674026069617993317807075253780138800728734150228393692137714414470730750406049488553554518749583246774617147067183865719663327050887609410679848247211557754498667794901995453173026784923177902955374718866256076241955790143233868011280145233668835408621448513125369839687002981784946195706664265105537469992988544621532360969908388198954707601174585869688076330485315653174681147602844244836130089281050393366540571170010248516868798113380445352833339576901778496422544046694300297517235781033274745644685122786608577922436039568153333149923742112961308244219570316323252016801016782293601377343930472181461303964173243121317236270090377050017916209578319909165588426831979051305129482854010608859771194579776445575635670347722235170081762779939930410929632929297869137458053588036556338322638913808467278483378243109619291293343368375786970848521368048500456476258682304148427878638734147000822146203289044773201821186633928923305333288354,\n",
       "        139427891307324069282583450855220036158093712882060030549281442363451098398612670197502727758068134929374605301998414870163134530925261663665023922420307883463123784120854865895349903632466380709918484195427837616399616731955915978845069695137781446238758590149306917019721861564812629315778471897339951169259544369325771429180784432205811449377099516039619917806601039088482860283491438782893663472420773988171612704108666983767480592361251345775441800433612493319674630983917269829389648430233474612940023425273011550928718237458995328580747141829728740113213281376370478290770273015988949071966594549486515772377852172444910685183868282889007301731594738952747350058296873894771419518401396489932428628044881440949411327023216905448722937890351890417714396631177581761882981739947312197018703416619207498142244468552445170948720256169727126627703464851860601141260765184386532288655440342212674391419704381052428153861723313681944957086162495764021578126168643166381445461058363417669161474534686621499645332158622407733309587060370674867360666796095661472727224312366968106177933395946723974540513863104343875391451884112183885306922908261507893619254616230845665401105199987857307803270250310366317669963821215929330644988463627194267449049215555117137812904579827682726091862376177771336693849557816904907865894064314814579227279228008507907900962248,\n",
       "        190179745962996750557951672156773016827278003741353782270162947050377673703693608949891801302566419071477126188780169395265311028356931519895573289031643477269852468170922932620421863454963109668928174170400471891964218904534590815812039588725596769611315510381911650850637756290782808512313490901536059571204825958486793666902708310284638579610984144424172168367065844412052383272414802401378695497575550793914543489074895791928461521298553910891482754592176175038264590354200870461758211209244508860603746470821971002241388822961253493903802428506637610925102764044580890143109320188710921987335461750422785416478765082081114250832752128003839827573175369165216220888138384505593586062786507794052778844359882550560534520052656403653590448252348366728717144606100807392896463423773449489908192607871443272302151544386585606540595000585518049237056324171318305309513023288405008538148564673472388167413712556788786747512075722648781499387961683790278765714017771391905599853103178018023988268066329334019117610408291436329695580714518843640397185779964859298817850171646864405992289578903310552578390392128335654893711564508795265134278517216419002066745059318813418018037125712735236981118675011376213640153291052336074278247642630602600091796473385555562947650368253007738845776539788784251678289435596405295151225707014451859267830053637533709682245794626,\n",
       "        259405312921418875085115363405289250172443355196919441076532809058157510382936481220322614479428353681629729496101453053556754405813385518399225631263084123303962229708923000949121317102473314054798739486910439088476810985401913828683600844091409131531280594919517641067186919302489315623424917368167082595074551866920355887426723316012679228400831750094086877272595618379078539266434073966919323552356523703673425490710861968857405282531819895707328252705528736364686220917760971227108029479057940319338123126224593720068805283237387224680115093230195531030580283370089710525679403507674713579674641794171228794592807949810812283046559086465520413817112935136093878038770814762503546161060315032484480276135507843846010034763150357800402820139141062569860602957118132461492537993008725051546971735840065242627632848787771319766542529518902788886471453873143020302776905026149616032566930870056679673026695347164286176034625147416251647110136822852436000455498366347202404581078195874948137666803947746288697920242241677776112505404190763096176628764538864179249020361350635416741589163557511540440899035376912937618897965441880853827041204406103780326933880165477733022268040577370851099553675985767465771486758959207621244860429536605573719477838747113342977732915201682383468365292134277897060523484003054639491179730261776650855899420440823988514491164832112,\n",
       "        353829037004561308612847913636486694008229563766601858982173021718273894539999064078128996041741576988162022509808570745220808274840486204028063656616135775830081751175439144217534096949637055333855149588320009317154262148307114996915247363380270781005436342785732444327293808566351717293160099603670802195741259951305323917243717505749604752177314118112478924771988790534907539611799349305680358704109795907361346283873104800417292733834923636298706628173095788577607043596416318954645813967646239840086060547916816656144852647724619135717170890968415210963322431619566409737916849493788498033598198742711306498610006522307030035189757426691097848286369616701001214861104279474439342557272332490816625149427677058888508247951457140696153100260236661693656591150653738778283214718927324743759559355878456862387363507898064466747170550858783989559196300139291251011293007968691364673429831855321984546396579867244643132897976213151489895439726014332406494900065485715355471754190512276607277801508852792267117982328028056778053787066896915382028562032016790705354962590732438355299933611382024644471938862644501375247831718574289993415349337088442772784939879290770946655791625384659553635028195163261834688521579373650247714063904135572633155967863847535985377190643985463024058589104247694840374805710469602124671264303302770366219306077311337557867475631076795394,\n",
       "        482623065879534546366799639315531255916475297421000132571125078156534650310069106339049170923549990440206680333108386597934236043636828995679797226850040461316354812565528701635717457360622045948692478837207979619037502047101890257706226087251533436700546702840333973580069822071423044877185999284324342362073673648132328743476318104565776894649084857937171347475869982885232263109033578887021976191729313974164580004628405658631156146356118371731331548156355361148592372151732776815108117359898950199817705925481664143575299080301663738505445775396011577949502827309371952972229108388931018992541522759700016235332843489234738778811112176565743930583021974293100793164424275973950025751665622577788909188299627643831769096215822303059910629157782945691210160190094656811710766369154863959213090508389951000361606452405808720414460397913910880661532639861447139522423965646200047564174323217590056977964607965617040397559015589363779633631433393686225311479689778014111210675120439823488201869395742012600095216593350511686943141671752796771850054788299667060968348222779407267264526187514245172571265049546135252750980083033296992899390322829840348182438322286491736716232799292716208529029557756365128282609205752417897089604410101350608230313885765877831167831016129086766498299006559147896549132049604021301106244000884709041299784345352084869755225275279913749528,\n",
       "        658298215688722125805623320874298269556766313911807947428873588778534981296828801045527147268718228702018900136382349128153043184328909590593447445487111805371283794421132324470262829373985420311071874989101272520376469946509126618626289298258454987930326708110558325695659564599229599564198996183918006652670686597312447711425615138345225433906103923540419830436011428644247341788261413401247281205877488370556394487659429191477697400922479293965172530391896885702468573222007103992126426724716135718791190968417537808653364090384117063940563754811050760738332819772414963420530241759351403694324670642429564856300497129322706001328392198593101412413090259305406182877489573532747309564614466468436562949465841533863591935746629572830858794324316198159472352155880262544912263610741953367691399213003249042950093588445030992709790729925125300006320079967314037599837300434424833568898450298624693039928271661681510346913630161868408571763170588714025657264791757276733406716336034109750183957133593614039322142551312425969047223294057881693718856759802777887951532330833702244987169019703041797411849999519791129253712081089135672604761815689239323363618656538654019651888194026890293093149951807877198239313645167877385280468129442146365198781296152521209248906883190718334966703903535781978587856490465595524311041488471046435103272066366321073683685142957433431151586,\n",
       "        897919248822482859133416576472182155206685168651003461293116146218999871023524794695205367923702587499544219992705857319187348837660676318398457995441647352566892411945237056106140134983573473926347986177612972925773124044540495809696516309050619855070402330409504396582853226183171245228612307980863445398585178592407826810713282525020992057624820400793990585886067064540736259431451676912880178586793085866752896245747466045581237886014408113086867062786095508453528282467189841578037261160630169019381384298627447052667332194583015976878667467008048633658663915672401319477556221988863703570077843297796686164010113417239660220550705769993166892275385696714548326545688942722943304196159883928570049651980596151817583232127498953163594455368996452072465979550780868205917139275818393548395027739626940084534928016245474679864874970078268823119501250608056208733317600216521119188025050381647298896519140511141545730230589099804098655664598314439324682734487436615242380872293025646139074405732091085291648002535206742372292099516236622383029292470425777338832951067605392641569765807401136525914935970610044646437316029585664090729888015990445266908324029957046369296912212885477652495265063295502254763552094618190505940455618163497743481745918265924695293340156503155937981350622721813177941732802127121899181561696518508222189904398308007296589416290219214480004512832,\n",
       "        1224762513692082308580106015931377334000188126806282633011757852316304602611069116793061167375077598067607018088950925765720671967612346827205087299229852476013046621177097765661099614380423592420958964218139084172027061573223182793552666871834343740771016709005272107497337496173410177721426752284893923441676836270730873082260628789743771511825688932786926699568425912044992902111841875570581964839666974999739321035594031345601999954221053588729780638812764665427498279753820165919546816349526275258571926974518806197376049766775324176579566365562733147361178319309975172182350107323051851020989872582865322357274651001612025863537163998662878234165038503408903222814502595363668199670871646293036016161864482616920717392213844318744715667982105484943041755579617260113133522884479899541964185528250359278554684764252415908366682168977488599860299712149468636026282806532635240997299737619017214319545147585468730057544870445762952434735083864065827581275498128334947884243214403317367807239602529373931421914780164547908232392787370046988333648648517520092946033207746086396803405548464169924389770075762100417531628318066926908891239858572783033302277340480067786375007910263985544893834639485016883374683296372857017980166743643140364255466631296017436901325222377187890124897216096456710494502129957884736079174465092733686113464702564188318869037503544151508159586654434,\n",
       "        1670576966595249091386123739146975155758411811648938162431499003675585696961369298830530127504973767466803472217549055450300315751172078732984057474607514218929148158177973297598795980155032763635661953541527888423617837759000465870901647309698353913031521861485521564130764927633757665583271318728903292437892603258455503292030308382493029363122297329141768812201918830096434859216811749729950712921484340692730300645446504502867173518795403109435533878207673789738616107112493173504103435538015000082861127774627950280667984549213736759870505401295035021049280886202721807258045023944864713656333756280871597492008787976312220517524912244881935904568004794035440710467308085764986147294373121703585054614832806270076010340562915778266745334722047250458761027076577493575182331131569858793632697455561229682888674553368311544486834343360264528478271926873125827596058481428114685241436030137389861979158477825719858940036933518609766925077310055184103260184462181536305529350125318417915335213892255798133544783408146978553571356054072260328709479785870367832555728128316729450632486737870935178004172298275475579557787463159317889391741896981292047869573200738842417661880086512289168712842943522626324425322779804671590715453378784861620342199966833686049858102896662640785286297784106189674927678846995356907133893151948185266366988044201951174944663744250512876344156201160808,\n",
       "        2278668207198433452732981360302490043831807711277278459839197652771351206959910334673959886977951593902318003711755000585135396405270683004137081600451948624471834100801376755022523378031079070022635325589608257948898902730338208671092640483095426571718736590082960418746470858629941629265759800172976375779208952521369577221202422894349281795070325382638305446770116852677449192964633338473528343006869480371859129819710067735942170281636884062323656939655905861968137797599720442479763005620668809639297836856519498701637328301177303715787545946932793331444366489958831855075145595010902792479090264556981441844422344074340870397929843839182959236708992704102844537980631043486036468577724608875336307530648109616866295025245209335400159381276540431731234983974207280853808812796984171874414541293571045537819430645479141199095950411025569794332962768554655778309659794950754963304559742407137390756786483299429473062940434864254167848757885650354980912719187691113649076981455177536439834599556276511183529015990627258911619237890147350458406718761575830241126106113057226716749108713861504046967615404617824452617239631377627668057244838722340926077131148085121537758590813010672690109862668799501791533023646336868422592896388829294893287125010227779068023889252373064408318400302418058813058064441803796779215366338431789796058257805756163966812840216195203107484937217969996546,\n",
       "        3108105105195629824776877961576335566761741476594019468158828029879126721879014657864580116368053479056529223866306038347180130997104962789721712287073932531293800642641236071824019486430372006543638219766179205370186526942019075627836232520589471542178269740395019496691750381936168016076161950707258505466133449131751361785223396858200802861505286944215977771163251588970870795638619090489642389812082892711556545804385177838329623131326228656412577501224533803398329694542125796035570243770027794363002332333420370856983596470790391482070972542121731399125136941584732853044305849639895353806192777189478967547389569326188923534996824521557801280806970616401073985246291210623039508126163660879080427056858636350211896490444806096401595662806535870928654976901845807662088795837417542006560227957128361674815386289108101963878420847473220559734689694580477354740203556371311198062104730079365538382118742378899626977709693191776203555472681104394249149052232195141198877308234212285022352309129975053510131711355998989302427194053517040097527093100269218319263841293938185558375234918193829390999005416071010828845494414986547298547971351759170004461254755561306516345135530826644061599021393085463966277368678926268333088301389816537019305258856150657482470634798339756515587083298796016327200874826299225802206666819514113230008730014039451852683888999554001289122330709467276449552,\n",
       "        4239457642155046279429114272571482015553059205881953831847101271952781619994182953237621952685911923384699763671645148060554283815447574515863419696650444424633368548396746803344717602014405448004592554396394025733192371647816749494577292250724522278957731644635396676447966267431791803869514166524500774432181803824661378844621934517008789452375006462235976318172121937473120442700269404061210693232024072528043500336311202281549341893299257524230818035327203763741183671493257185512960292265323532179944820600622242368424327223486395158848522334999988561200018232688065570384288254054412273494439427176713868716081216983265766042606066577248680129979944629763769018720479191920869375120555811163674577841862710629798643679261740760701111884227496204487117119729101655858369971331050324281120025348064378895493724717774096557871365131903883869047911076370539666521415960550263424911674156387997001490600721391302390627069084454017605903832585784279406194288157433360286382297508447011948024989487885529264330837818598612035769604308235132840377413395485975363306120651037798158850537177525097150826690355136263388369706999281281892847100981044346608426077563716770173416302622638355510693755290031241649504122411079076343200865688606145323627266366914507033869013888824680260325189937958068688360806321136585798006672757183588877521703797407618083224791408231873953565966572650583047185474,\n",
       "        5782623332004588320771136644665463045549939518564461620658914293771624008798787427230774208043700231550209534177347848260634390304401488744600494187943493269132445993813805280998266633167135461450270787834901217279279765114148988329679054466220768977969888141552421461694522680527345956646033399301369763584001446550287252495426103904596847013842370319776815913964545485964925254713963105758581875210870647011144046015274284297211140672083318589279492212763807158276777926246497343165473874220145067921239098301581072010901639316431913787060866535912526519208223994523463022737022222836067980941769184861814906407702327354743831071038209808191721255093925281968397342608718864071276450703946252590913003256727794157681700190409504842402413011681967629456298679965471560436624302984348479736989721134987769941815115330430156813038505918337745070601910442859110685612566110394115682890721611417957989398717766096478839714949208904973206229031202482438214443258195791335625766652678829958509391108013784991891600772916279862815779042703626774711314889398535970664767867831856850626857691085379150707556996643411279332747109192514083488390744286115840533063174258164430077846353122414247743230343814624006695387589246080539058394313887560172037964610629730243744854817414991662214840074662458104486940467022905129327706903847465234743052833988394005104970468164717275626665267527426104743637436088,\n",
       "        7887502464311900624578109812437964165612133056381131532532590943805767100783166044925729257393559801746409189317666136672653368929487446095209589935774621469541080968930578800028439032357574783823617359199359656762963332808070867898431724869217379610473206382809147509148005384205567316656993426161234882029352405276395637065140050347804616335670445491182039142623958214978095520550288376524109738998320794547273006808334460092598277426063539855034751609027868291093288832583893869334891877396570137968102310028177182845112204451940353891946180803507021172188578728548236251078868696236650780416846662590942709053974690593087568846662160784440085040628244064549523739087311251072412999629557809089816500116754553093788468858362243866777652049046088074074595886590022937537211407640622657411578260748148666265014712804431451667081079943977816180184874891970903345715206695993534341726369189648251085536852523556318528673581348015467907314004464018631508780010373347539226906000636221571853821419355792216825672718588643551479334650017351228941366349517016459472718735028773395292832049490994339090204894248303340146130445308296209159446868053362987531444778114213846342952599075275656560121699656902435163750321235776266354726187343497763265929052526218419382489004823062516085722122164782792478255485380048917539578014854615337373112943081873220370797801801465772186645378473375779520904510009506,\n",
       "        10758559143944764456512862555302027787357995038843381974836074706265360097092247284066121937859023613282333684438830787769347455854211180875354625272890771627947303574067303297044071838402365172270875528218714406725899265229973777962449202400666972009454431476039818754899341038579074347266095679317323680457800264798450199244103524100509401278701501492342621167354992969775608254955848059541991442575584774633127392430614218840588347620291340445585990474206225112858404244422357484270135686242795888333559472117531978981805057774085959140528377676850112791391740593963788769934599638689014500556559789543230716964527885671298798650678258348186084187138179997970832348512435155181635402771167555544762297072256467147721629204506291043789559797311875815005378245607471252272316796646112289057872484650195915773250010080359830504055406082091659607517239954558755022666227545901291236230450465401825898630256240848584569589604673642307130549508317952615860414148592504239296835410634458902838570925392408597535209479755682720497675278402709779902798412056099849256759019347114743036273542363407363898190183311682399370601260147625221807569016415531401108731210410961944576217422985029117962253741562358736187362133553188073388385577930844836654899265610372553767958747433474686932587189472838391398444968998853746429113739968599167642160797416509060979773306627667477979859922902952090692618495290402272,\n",
       "        14674682559843123030584169103541778339920470845115429394807938431936894978200926078632235248968965602076904891983754512183526602438512980201429804081812948275141591616108770627746914016019858452552258044107685650133783360737017041211648610506234619038275455006524695590830210324627241615238271163582255661379321590537491348164594272013145171148765183706000826454311353034732144637855297303503652851782836630920380310548364602833022598752354814431319146041568900081807154482680928192438334410927050988257113088070623647508364943916057700208034599097404357354479506358745336430427044986040512015409927969783629288882325090030342154447093991049086603271341518145476279872894700638979001761792872175320864863023057937944045396023415439345972826341185447657755410001604477378122377647836704802897595480641127977263379278764323613238983240977052967682469695482893033821820080087816057239752676161177280173982755049369992909238749448429454941537436659691832052236407460186155748422727011402579693382596056664682830242556059469819402380559075946157138645975410869711402678775108199538274872404615737135351470500242029041044840264971806110841733297837652884475296902445330206615806907904178792176170663612756973061997113916869767878024283023859700695045864221600689557915113988264296038565012163073730650271415969921890178228680895184119279244700789061441049631161037940241430301121485005125080511148480618708514,\n",
       "        20016277770185163758481263170093540957679309590732484537900002857236631015626160263501652945715606940256511554999525593449118055073587559205931128122218134338064758911675937203550087761922925331646452243038411445496887229944556474186466667179706421035179730083331160825711161782132596142259349133221876039445075107293402997346705831129454113956316989276486619626301852894367615061642880477827042031823231740160173376715361748878461665286559587175659760786690453917810071572781030476843372406640183790778590585687802772733388765306560477169718333697237220281622838065069232854891259295558897078033642307344659893266208387329272369964634854469212475048194017888609643717460720184002513584720880418305215217925748099612145067897567863774197978918936747917054194247566752751230175383966061997264609293466983211183165109484547488817803644748106330010548272155906052691717611906008647976313886514296275559138376517596911176786223837262450182564194153327976871866320189842508945087896478963753160676699592216019789048381674596589347567580254868961046893013258838342453103106006603517321668996169407816026769660520310923667561492022803682813346025819574949955706083666640812785905198598722857557414747421542073615300250744743916573698510430122562592879213697528950929549983438739933271289609177622041445361609827942457056850349854771107296057414037077222100757883429057116978408709565469893561907899146059208815368,\n",
       "        27302217553215123209691473548176693408052918202229954025124998705209196642209060800342333250191336835475483837924244893219109210646975869269870260188509617050068606297117594454412947454176886172224213411762437319343404315427735767807381745681730064526604190109118709890965615501039185765283367455985802500058743825669792225872254918254847424581587522138311455171102181659270461676225526827053388835059739876415107406220063973834824544473466029262414345032191820712793019432427808251342552400991621617672985815991251052631989784243092406917196015197630665868490905600260792359408108106187321654949903517146085878044397122642217542973916388589996865052339911741581699506896295225680067508561042683440488878115583430928903816657678589603445389218256065344309578709091052357155337346107356400973729973884445741181814472716201539071097410419658011187355525690351338764536644459875883655749380958176281039944919552757236215129318552775430478472502362576020145057712975352642387255639220033570713742711626378707656944822846705807339901581848200338814119208731030909975744039271782305826294785647476876797649168420204341911594919959369195163514820951198069392467573418200513970181306695565881887105891653647001168242604012944619076292646250970199236387942529293710668595735325555257246335065483288627605203886076729481347434055430588685535941591991274120006874802628394945498790910148422419823567454946373241442870466,\n",
       "        37240244758863198243182928400976179902125138107151248022755036133908201456604174557827206054913929159195500211440225033876458412440530159271662240828255239874427917054027310511756463877585034661839158740096207541995848983130661531845742887576546987720709150488568003622437925254579231516442655469313767831956166023288703889492753055205443016583399336513646101340003002085097804093986680234981300198063517014661946662257543975672449557123472950473520342283670430142703596315903103235861718318324978526689743431602652123592806799096343349595532534447901925481841876861593785847465514348098802296248746431029568482312450941492372057888791918671610193143866687809535326737050264148547796084190846941093245134964873725535124418066141493786963285091680192066386182413394442981912631370265818096990164948987677457955206123950008383840465685616058275365882947589911381980880674760882611315090131940838961634760429408337387794347567292209524435086675786747844805835592364701194058725636984022269417298219335080149460092527411288395808215105208525517011419647602139420045257322669817071750583409292154629359809492494819242678339138386071605006717029123459986226275725848509167696140088237950461616869993630321931135556527173907205163979743184833781880995746489170318880915512534040809623934300608814865675539545970268840500357108457672821842131627533511936766599331543014134717467779851157746109239570454752247387284130992,\n",
       "        50795721153306955618824724030405057563192096431072504532991894411649491996004736305937109401235849564479497763888304870452382493678093784222416566360000335698336728930299548655630271141973441455634784745704638849719657356394537757173361106036155772981111807870596866059715221012861572827613547343511435308590710514509617775060341039555142529467181276592135420539219265946255064054659508066041320523547472267738771662426696202881195030740961577911911009289271498906468418167911265241523635128747671702026427713691833487831641105957196571940713294182953423987898188530119524156735320978914872519404945081827848555960061128592718129177855150984464893445099214512117927251036067194914419538903823788693869804580965877213340635146033655204007524310441000234616097121448729318381186344379921991650985964149165937096642334882284151759934266277713907257075527868164815373260004910488341709666595716685301846094265657891749708726296915892344104888704245626422891179893043165404048744156101845595518765484915760950242273864333820218588212743406010653403915213448526899972640963865669757650101596569284561923656945412101867217596496353521628598357191239220372410709482524939922938049050537871125211292558417650767715900271307813440788287445996759529455877434599170844247279427692166989882303632365488960070063545907332775171968443370321159581353075897302273023761495099473908149571550507889314115422597667737011809496997543554,\n",
       "        69285400893355446327275166760400899492373921657121003334248966732526040990751916925472775050491753719879194145443859283522083597835332362209535468177281286147771172688845638393590201594115651730520508232299867487225154629971132631445996394376204050893224226644644613873455183899468439916096395019205067074685561097957141933886194670706269615636251844671009227261596418753693992468359662988760596175418950236712699209496675878273925694380228715744797090190908608178853065084627281692541474177330142526542574091219092480054482061332415220470482528798082918221418610996959892543572825280754234215270641340359616459898005691851409020570652314734728786269308472461216662305739932704127416798860899838625379506693572421392722161463607971839760050122726616000208422859838480184714920086365583862430041845264411325877278099985559533008934179668487385556926385895124398080508627578580858974596551647690692557034213117793754940090463340844449568592627677710227571414179946469975823681087648554376309865538723317271210611011043858189442717990220903739768457362563438293702102319970096219251810328303913434618497433351599441704044299365341887479764215567325711428193960439743903396666601073744452738664666551669277486419105620384707142429240319323183011598701789015520723608020287628308240271778480827550350432352157147875603405457114226519341787437655547833916347445915013953730150312360540875611182532458363738860401291933538648,\n",
       "        94505337614257982097358946285910857312655592332409479620420123615059931560877610691081171105980153309764785293883187951028992479829887020147590601010378034305895577884314381068405690604644890933871428863641764957213960634937981303830096255290248361574130826255103123920258930554095964907128310419743055001306413928324056107438544591184391310870376983312533178120238054399304551981906634976177519224591971670348389460525128324661837528329662709237481142931408630827454487243849780139891812301513443153875773086850555834627801363298520317918310109993879283407438973298041823548957490418269754384501674193195598679149435723746450496776498935153321048936230201536314039502956519244496991428065806283708806340999837363745550241576996419623087912374923414665284523396916808420680469378989000768276568727926621197662544425022638085308337981002083071613554847436477547146629141277189202129691406114045821333096512786936339630033100723208745103904449041100996033831832626878090188905052296784271132252113584089673692223661337686904220085926874056107054829246451743281136567537080175108729226937908134494104192422748527050586183641930822688044026988391023509608428972749293209172976181913637971406663816469035312142243375966476048355714272083002818387350085117651769437845586951752704606720588151481144166949798405895609655820215472248342703357646315243142764170939989574132361833175631328262222967089695805807542599171694344259426,\n",
       "        128905349791248780936243930009149169775361720315328187323256382859908479175078051734551642861331979606272887020050813809062829264571563730813675789313623816074527716005377504622943755574937225349452359490515599701507329531210036469556882738212293141391165340236187305671847054730970795601762931508924546226849023283795110487688108708570180454296809841490139925965231967797070162597313118467169124982939624777305439936855484531514624662567354315628640023755531563357256099453676184738094124520738513792029081033038249377524801114021243046055795460514180140650664980997140044280670560503345225734694498870160136957976290225195850329012165118201444645477804264204004811098694997989426600435298558631878650474503284857721351922233184579973863752239445660330064090121817386524288344947861083413513102174933756578023036473008978333920106015021020978168274368829741269432400229210713650285758052536110147989036200475594285049120089476920069166175237084689436300374191117241661487642315013901394378768192794237038233464284675615981214386646974202750926526860617540398908571822679678818402884795117023753871553083126424248598996191637941511833940291929571634431608547023996377055842908796803266743142184328430717431297451237378950341901409550456163603528527699178802528742104210210976711875122510398761471269875457993768718414377309603853673899171361429302278163078493225031555494181711444110213002721527611579851844130592377503395712,\n",
       "        175826991620600951455018817891425753484450699165699979918401326641038780654738023443539131944027926163109527660134603918749650145868092758716873924214383895503690110526912800620076351009904980021543952216492141634620954694531124682456891885017823135105911098212985740039523302911974719296769545706483500796477069065510459029262687717034317324052159494169534171549754524313258101087287075495853662654248872788216290422260341426114272701579399616180174229883687983827928147109301559832540525738099634325770820404837259001499663347326338813340422926451451705726790441519072318440658193484053306171877680960572620006278339016602863595223089997725705649752773952604464098652659480214097127490738662039688762956028821545769287767476305344080769781142516255613622084210682312135937723189351896765032639643178371899044619411728671470105109912826653616304597852638614527983341059272554696178976113350660355902866710545223391743339432079619697551408127287965432214706430515750253147234306584013798716910947223452904240118976521201536063327606558739426319889692711571555854573102702618988476643589766558308415292509576865423616081391577794152964182602218924100388223666569703807597378900575021569475617346087795967611601865731160854742401878341094290158031299131765004300973667988314723987702273824772062127956277074501906427526866470515128659541173094635883550557203235698932615826425687585397658797935130751890723722936727174608976010594,\n",
       "        239828145475849489033426603847834736901960529023735087936886732794759756721541839055039110523296952618461002001310619795988331861793343094453546846304208947090849385286425065423288765721265967686611300275654771705222683710669985276907670088047048968577604129127852785601215457018988248091589262106575004010940949054379549911024793734143517400187599846857086100133791136395251846953222168289462863029520445422751797441403042560704399479578963643824073278201374165472857349913186781287770015200892421958865191061279054316294918330554240162639382927475240640791482812896995639493102056582809212963666891524719923848700612394936531139734623769062980707707429149156753234567038629707026471323967970320694104550673787091714166236189602722510749955342144412102640852927460795570805578718620935048587933986397474204053438900634380894201703841201570553660449639273439045910546637247993816301773704368353261561658182219885181932200034476690744380189851796021934230295871597674462534489081822909835351260910780982555620560517439203570806360069732767551703080467385444219726036620658194979960960259326380649702212854615927564236583617108302862584656903366904402501171512809623017559201876227238217568008803205938028252942376154754643247586503958662162231718295544255165045330611878165493730202613372111603141293833199496058360915364280159945095467834000254706592262303376571837313018800132048193850710596521067106558737937539996759020781845928,\n",
       "        327125766256050323642545342667264472560027646039073825645893421933378949206963723209096790292908987399506969839315345536332003409136265848927396615232865218215814065220794316150166496520157789829517835119945325098065375202308554448826744456988059810962987138041489412545797922897202882371647050282914011954424250987242771589096847916059474768173210243272559610116662659797647832502296124833902841025928541805506239926364172313142227004418407989575652131640904245392961253209733878978078133274543001651526446378405034924685270102539330908178931653499154685491288283581943571340909645837145250535747811917398936702247641585032445077461622044091903411018583112223764016413539343579864320983019802256088798295882001621919668515450385589810007019856466120624257737015140735840890945309922144758170706990085797992700789705084707268362594144508855061846469612566823497236513596547322837990315511734547199430457663414633933378912590365638254954276509257901206255555783565658482647296254840755599432918599216207429319348785906050191781411198443101499262428077403438627277869805150880655285738270364772972752126748988634774484123669817116682359624980375059823935698331695992365654558956552853503784333483190245558332981012676951064550562733801493530378353913153663176886835255575485721762720352341834051456786916440389698106194984405004635625346785117520514427729332362847221793890259206539423997766912452670664098009270527492306478955413856386,\n",
       "        446199785001398117297920880824752588406614611157825721916086564403861681478055239999047076998638382109880125321828132622176648638393728411280063436724474461855317475810548733653892524542260946593430013714905699088532876998632578938184956347001801629202483033892720686565253968047241750543174668175156818880838689287548194827078011582298857727305658959423618165285228001755128038784978867495611764622229560543155934011358172438168558338426188076744833331631471592090164622235426924112879861556491855145104031725335528916325024714781977912996225414755774466250758010288583928304640250023922704539972979122223674381789631822596650022188792202765125315610055072502363275141302231681564640847310334245275441569687600886085519569240562134103572085834175130675899655929504891147770820208312524071079892922411014859518081211174441348427472614813919505929138211990786523669650456237185599012606659779626748376405814555742905014018705458765056448377538817629041354512319079429768005374626091872460536336320591817714574147364536369900793415681036460177761503600658757673051234140262421872004726961737809661214550587833352448323908922214164263041391057888484966752695025604846396375835975939968406400048439080298147504214354233737406801610816491741134098236969259892117528808333935574402649844290796875018298660495318524747712908319643790603152918110368131981934129401605226987098703626576519906381147919296039306896791203737437046034054205281956432,\n",
       "        608616833867673288044687723990305197851094889646920323767367719740289266915016554322423422122933046106863890445943412211994485074772454689251855455088798398835871252819653693498225553642140451311228368224966493502083942291510039980238729284054914410291997821216809057964418958214360644943772619037964183867475926612466724986905996895103557999519686993864058450008661111056654442550543677560139280847562146509406499497732473569834226715840324955087942239997458892515229937690375534223847109241188164960923550799804039846902258396232720412657759644658529871120719417321912060151100641942276406137773679270525009255697760053663415662710590026193675022395526137476335731056752657552997749980052278930357958389852183490622270612112642201302862135084834734708047754945581686666295239655083592755097732116875614354180655472831643083962341009200330714942406367625045385108900458821117704376033474254922619332616961511696737073054893158345902633841917223755270308761058780125769217813637285568876927162174205838578886566324576394450732410770344930125568190173726622869480510645187748584295102861548642742669619753931441728148586254023789871905139762584873869710499950623342180649005925741073459183169855239009863441306712155830499828461704257468708403525604424406001972471454323379060700109375367289866793424372401384196270105054189114787705215927888917140878666931518861973249853540540632358843309759686710067277887299907134658282756414960002429634,\n",
       "        830153807595291366291071353443657114621481836093010479444411485812318963933764058151025546822757673528144456448392136085293099818638266589867942120804557740486590244163483448480313309060404117849462087688868012042541585818496693165624564928407250257439914230622761447784154024258355966945056395542451321952056044738093900430334606842932835410202580365289535149429979040709278414766980361170897474687839390068391008470841105307426323408964541664928029960189865560862365725174294464108251569884842213498554868394964435686703596777486145424843097151539649499983127535985098338630029580249515041894627838497975234848446126502828721560587266984520375495672813261572794439524685766204520612537432155771342500519199947968809663200441213203139238055827800412316907813645429350117717854660354228830477377687311260390117273583023572340965981564021865909100948214578773896075063895482460785954508671490374232396437911907768905110551888286689269957616823470741006330191438688410628642865806632142040001109741953084413418991040869566567168909084166165727735189158466714252729089571270229331400392307879310438811022558913074350547119974397371599442873677556825846770088685345264339251640458546800138294250082594448534032089859594907035503428566218003810003543022671859046582568592505422974369351837845274175181249142615983362237171006822272214220517678558593348290483628721129336739787328001049113982180893360591827806345173864535411334725784059648595977208,\n",
       "        1132330402176811291294309370784872294648899075525755940882501034015722807094921090334553168289663589625435145459497319563752000147107670401034562304632871846822107928910244243380840851783944858887117598835984193392520225140371780987951886801076773406062453302567267831586644053507355753273701867292522641106788312498686692653701390639757282603074319137941919807880941420188566814396603763180781715613493775615431844960726765371803074964054350671286787953641216622475159364367675339419189365170034020400193801414282290080703552906749498592206397172459726576506857079803091455803420498560980459420678509484917490858289772247618429872056694877475818369772739684311429091847402441855623668498807440524390101066147118881639871227672426921724122011011254847234996965860120579142253820051962823208363898263224676047734315347899625504720682815666834300344408307091815219291772262338535333159654203946344707911360644459158298267529848677937322568091981056007956389651431132050877594638178059879028130390615186181345742082666312413374012842723213420397560923580338771967345347655723237995778719403050240987180977439977187345587999793664268885429951601327273039868270677310891182081418234463761129706816295828683039429634009794165352257176392783061454313541086450020163944625532648851260418856606930329342237090623952573707475697523410633489311573818769849215985360548242551934175043165246971532104053581853606939837922095038526208195224252213775644915341346,\n",
       "        1544499498722978196616804272821919253558212960498967196374210854808931721196436300980388672572647959006767066551210792277093813493754681065277732851461358003623095701623817311454915402146609847926146254274370128655409629633052927764259539221233647333119443744615983945045630273138057505821296292043396424920981210304253386873549127167235776403428781506733143907484753527116245844115382299958947430994280197778839104917439778808244701677293543280176843696796579662921678235363234337262238402343496288668077843683949438634515332868403093565914950586332218590004853039978952730814204190066757596164847381565265955505942097791878041174206892400144000776745512602214050854074296455376836888352985886307423869196725189354504753164208390762444905562257407439428948178341018115379384328268731951210437187708416145440369996251808672212011352326551126007535682031821450537887873440893657676890554288691485671965328315480203826605815824148594794672147419777218323256490882255556085449715117739481626511892800223693308676614175841172711720084643372189588438827498771243430173306931496067896471504666152836585825292039151442452456382265678037157098053427084077983206167973940740917623393723449028727720235721760406260230554821449101135385824103184662041687480045460850175479515809101625624634294781204807068085566792320453152980213659103110901693200909319752889197380078286469559344095617184197170839043067829213226530753543977723612513697214745374039313121573152,\n",
       "        2106698448588544436996612322438468646725697127019666781610364488460416883434746209458340483942260105748819904210996980163275525357481532080709228643955596949813749359122815723068747989368827616516122377947839691470172127339709333842230999449649496039148327330109504668310071279204363945296001416049060016114859477643314118382213663157500238771559461049503146231729011691927979519940195853747767476657913803264112154539232819021211144890903357088511886089218488301441791588194816003701032599985894107777278578978708448579768994736054726373406584806154318616493196053388371327922030318671555922149311249133532248227595879677893895780048073290491294535299248962159649676386432212536447371337141247730766681974434224426663364955851472672401772911041114758635932550254114569498059366012370433413859532398177885605340722621782376796808989294098551541112970635812765625494278665151211409814049209429390402905415733675642478648631051668531977870131648668106848929809953048009632604289015234830998441249909895732859216247477930025891199569466402389812050958269247556377528357999908292334025128143351872153306685522380007482337850998384636346550630304494283696366252984725847922529491120202709648371531231297489967637516206090583742831616333920271807923177095549686089374223508240150000852438500419963771198055341815722053238718906714166680543015351885961710714442412143292721497280596882410187995986848572628694594887671907710045994891196136942403398742741120674,\n",
       "        2873538228374273335041575824610344056053104439467785989083733536470863437936715026137477400485915356889349356110866432153500093681418303512768453148088285700903957748939222270083083712414483015537838849667107613535443437100993164413730847508861133831045651597713108983558882270465025559441251752787209905377093248486690761726726310095957492920183508300303798193222279432543291181444271259894254797108825421932446757630618482584710809875893856362273492802537714839746266647975964392282545728619161906504496649804802007812243543335311515176420147590545076925115309421674778470238380168872192344569256708665519551848396285822745065722026746175122525890148952329898364372641947612196169591340749014890652061636997478843158184304534572933546780695565642788186851427494790613813468354625201539908455612628302344381830186026107413759519673408502750853204099482930644134624733987139693256644040012215977201048659026061891821080559360291701766409654240930717519158584032448367394428335666495427221355491388990579843664270236510731156768924472257503075827095518081165670192110485181842239678171259036619769946904877818369357351281218178909654732216833383630045921552277334030507071143511350219409407496319725498076263832335662377674323460065291353930669255245809817286756616344755373702788350748867611788721215571803437201070765568971782455371574633173361093167388647543529558591850078243224680623696900496133368640653315235660480460644105228004183609924412010172488,\n",
       "        3919508250200957417541146421380831730925081181131187108776994154110746189762562730397728632603272489057178270555126024454354291056979923472948250803221065651629948183302458299209049252481344202021228707068312732702036318377882015969662718233086036195042307927608010763078983726985574067441812686803170359994371305795323842309373069184549177843369076881075430238701420875000741099469505938691617291023914533429660641520318149478364565881864110981498132694547532259902209149630803625889396074869136826366241207612328917364348772878359642755363454720088291080175898544360451221776478472371989029548388299931017802253460761458103947538740261830940415805457706277230331163933292929467787859036152993452097142839546535576292190054750113332830481270524447804201623983035444651356140333768140912805566869484536795914701979080333134150361631338187046262321932807688034412393762652737206753273880390711802331620773816964154119596361616068932877914746254761147364239157550069526174009882453388777964759888695833060802490923818848115227858704179728700597817970337620979221698416230146032723213359622454092718079731560029778183434629919447031153691090311365575876920693672536602337492962278972819477141473351636810673513834943359689238360942360673740681704672078461686328822114068469837970753311273893922899779509237995230157982577474796417983293508342663816417042028829691786461212005004004355346780910568263574487454545716869112803058364554422193843386340296724616394306,\n",
       "        5346212126812334291799458760339279091325866784167378684157809109940594273699573500977527992348264160989348050386548008222171406501814297035404926864046681637108950225982302059343413263468265906039971494280028234513191073710868170775784361400776862231171539058908924393948717362490593493016191946051277158242227838198070207600746593094035174535848341049295187149386931295780443402967587544646625879211416532423479047480471586506971852573672523272619815268855636540221453026363064121677528528667231250325459511679866448086979538449625888029830928658348019578436850729817077141281586874695561908496346210362616947793272327025139607187907439164148902281170201511094501605969384197741674835894904023817675393485203111523541390392863459120553709999776042370573803299711773999240389228728098830268333118432520817929997881295760421088507024664960539604557969553785961869149226883067537151158829496970910596307936534998132281021258324877384737177480301148445935539730056878866149716874094757959639359709536607683925177463753179065681530429270074419872926787367610533739562309930029673816305262203198641504080523794785495260574192561406968672544301916919478879749872090892202922370907619662437117040379059128929484170947126574951783501999703419047581199103384276985962330650346009203747481219365942059702911039321841065738925436746387883100994800750968078766206420491088244276622733417312018936233842638808416097021368998462785099032089712875977630383151774656788772005872,\n",
       "        7292237260480274174971879290249198061400213218685485656378360402953124700072408017896078579291664918861959797905522038341066252822765758136215793190810476974082259738188043311402714900419967177182723139426665580188725326577942562820185838613377873169354174318659700481356813561420896510048153256226628847012758765673473558491260662353333162616074980560315516347194012988865399802388888880403936390861663174140158850424004764313659085275055203607964409524851782788394321830168369092771774802498178294580753140172545447519557454794062589632332142053441418793278944571369037581159306273563218815178045779322909447807825707523051882308253285760160933651931960318839177420873403979012573943948508124640302688810959883664646032788055812990548593270175792317910471902430842770408542264125460572626919179108827880193313024789396294697857732004637514207663332793296859677553957862266773411387396707748712765166357054511269395467115951494368850442961045512735017223556036740323497739990275132310336864608567821576707002863050260064437722733383085688435372735787391105641742212442976705231473100858522569465658552535818975565201382088389024716381581505768480557554702452670637322716255486181843200462554178125211453219845394483177592385965956405941574496258720825887314305335894070622381402353968456243328693557414500451663124453704650547346174891517828802100921974591873194885099869593218597833378308140245247819911634768448955744192573426727387910036462406972156609632403714,\n",
       "        9946616969507220786995935151358666495028982156153786602678767747437172031493038235983752159681823297591874153691182446845222591021658995912095377317192354639329839391838717059055362467586098697943140402149466131405655858643387366554904259653008819779861324942190890365495087646495465330299174057685067798602561198606456131852287144196539527843500809332611413592759783103743701110901847400458513883761187780943709095457389978995417499287027871393786727211713100579006395197802681805604822508136043861039397608654863670283124455318639821884389071591822753582052058832198097077778435038727105159464762939342658849426822058333769792608064669684298677650137475045098149096572928996757348601220600976913396685213542766521688712264298521782567401774229780497672254248718969250611250888656356949161948028637559661104496895810617841728299034961350234339792390488026470386145467673358762000669560268198741182597507330289906453549427179096643989388936043559671711938865973843858129783496452154566057442965446218167236035830378018481072119489864958149100268284540788835705870117334530155965403125876286987949799769739380877456429945742755191120113149718170124399983493895314840200387894854059653787868040939341847551121353289022180810966241066537407726660478094309894573698440490162674937436558294193681842397715224417937909567493778580092968065653025119237033736339549735528911520498747883584756746948537137156834775566845533374097863769186145869985267365106261796272327370671768,\n",
       "        13567192838645109633736630518332511348417593061206983611539495585864705604081204226289855841884586269580235207594570763018921955219795693189856230876443562538522875012727748256594825808502339043961620691255011229902894779914906945923452230352542643557604016575322693118235780906633376131424583462835688703922740487657971837320078155944742269311697720004662528456040691347519397180669922243114293341386650994870393346362730355354513782686591291636328703881186194041547511444124688151214070672872366324636032918958374218811629276612079511112896325983388289327337801526062775783127366552130045000728751827309165993527633095392969520169282517702669156475721167893474194206902896024981002504638843681017997718933961144495467068174535971767234926568642690774617272705724576488676516620669535004117469737980810486574413959198707525513694581545013724276991028289000898903562095460419213635686691593219790721775765164872486913910814139403773895895359206376437727819630411879059229348186900729103234662541733250147931529579638480258442435421898536298458454375486371759293912481786511575713515095168356310086096351583068052669546011194500169076859052597165555450058043227911894703966411297192853948495208303816458184940979106071649109335545200722980545106466616897417024411987133917782685285846915634150489273812259663481809101724638436951458988896901154157142818468067813853308508845391982802826800671182963222167881693088942290718441925362476393387292596041403497087611143228695266,\n",
       "        18505660978528899047637551022940696837908091964468481799926474657887205881138794057697599352082735353530738415033148211940256392142392347169959811010846336494899840847200040460712401458159658042062348566012237467053679885459791717626955397105127818821391658470065095604163970651735571538728462142481937077218416627726672192560718456995772651880683533587169021425453095757799561498134884841455296576165275718190997468147859662093535795002009808819823745880665180385771384616181272440937798002620415802847409940856831089322732616423331771797812473030413218465242343333608458366282805755540420108099176957212641757830540968938068759280693962211110413731561323144173845996364646751003084173675984001509525802022608214634583602678779329789030222407030404446358457642862571049524019281844134401973177884553854141247161744843932875418521137526433681264050102378587714130929084353479480757838648002712062743243326282393402440480804035573926690645259346433504620417687820669010632689056716090948966645764367118647996773582662717450533962987589093376055480868431695620465732331026919123803390555212763883244423373359074563222138215699243973376026867855683535804003570946365719691050385397265906845401251994446588306107046622035018407314494620027212000932947125926171131192524149104345745404832629483275461051322319896213605552661974321780370153823438827295462041424180837645648334976635163290939340872240510372174147464148884130073328884058186986726137086267839476289297871691311014592,\n",
       "        25241735141906256946087253331921628819417985857128070382083322972853734686578919175903751806096692906802196778340421755657272737804178381335518372075025279422605921438455867916159972183755582071712087405661383160072449266661935817750113085103624697415021779757185365726772774204748226212201753786928825009014624202959668528624657295420389841907521651510618549886846478654329949402853163593667267644182777466263515416947026941825938178896524065821531225709931187232386210163982699734127307689644920027450191795361636564210426100430701148811727326109809613374879883644843463274385530177923685157492278098389870666846851409264621180628386733738472306999006120489821019413235585071264231793896546816902674211956556538722716529520923180368208990598116040307523710842137252636127250976952019993826418752001195029471615194381083640778388345280637086257888616635421931075486174620241472172905551562390846801574618824949765801302730615336975409814029643894506678687454007022942382047102708934955119608057259291569117747098281526241008583957506945263475974362995208312687018193433199471379400430825305105101703567358129287303049195759779974185069724614204940002216320828886069570487429648281994129981256215633450265988196533434871179226079997262317892253084986229914320363627351365461514514876992462103363024492918150695021455640034699546861841274159457332164381645401130616478182216639208120824063776536727330608759308980771042362311316297292412370844372961929087062099384598091452598754,\n",
       "        34429745239221113003362061182292124650382970617214652469643452461447151999699526894726775161115241207613549936394750307864731954621291454533994229470145491978770971741894651037682662771044072105473329283670692642576287853406765915202871875036741192401908528980459308916413668179247232289014730893833059794233024631253615599716225111671868740134511413344017289214680022337601808785053213276646994521961884629259153219713212896510241769550653827790377411692092020050155176435057018618622088626473673537857864456283213130414110523720092790310967870626253343056554626533909817514720229445493662095239575425380740802220863152777912228445878785513238437857058079909439014653499334401851163169959063534239249134634545141425999980850141896801566852206052686009866787947132855458248619856581837115713637150907514574053424372297542929954597121483926512089441337140817892574677273111093721523323930169749117749410523320557762946379365040123670032913027079531453543234307683267114078122880784043994874094356747438067395255038829584455453159052002460928474605086606332570200713281575215105880625991036271376122606910299861706955922325154555584032408480400643393846558865614171545259864545090642037259201278879376020609396206178651786323482780430760421632245208854164729059147118899786638610144037622550938470440869391679867905479098559992156241331868107323239899512026368566341713886191830856511967313930536968319460719871597235850666322708758390908660818450857157542592179849889668432655715048,\n",
       "        46962197748032740042842797539899789944751191339866643096664051240736888181324841263326497223512995103877788915439217760349250043376179348162749464515650526084323028061865742471267068179676298107447692855014230425857216704496095370272534987663200090060900648551126254547353970169267429590442305140942080488158854611654134637681459676977724381933315475322891093107373437314967521512761985762510094195223654817086951255204239337866911599605270717630140611079239225279598893043627937378500263013817780350558154568562098071521410964780306996685308987261535669738753885472136635933541667349183533021591938372497428844099924187240481544221359291826790967709334220002595305808392505359710057828055956557249152722315731529461602696596123068160517554618046461833498606283600056982303753611628602777853394900256601880203900315429042937541711252092421043127084241748692240893790876009706456399286013657089359001042755383859613608627255217459301261868778750510546527478274367430350625501991436538717943219822211562783218696990710651478764349955515314213384624814105400620962085603086786837620645231173904982336340927352578726417165354560009576400179352336202203411646294914050816620524809991065387103544674372725107744666691215877569980101691733637212368700357130165676666590990542936326429697981832036472535784708874744257973768511891469335812723529939663058680266568348369891228357243839504921531537025316201324471752513617938681079906537057761496705768737813535850024820377348892340233847924226,\n",
       "        64056472158061896639550579206484495776765275370548718398502235535817576926479083182704236939646886436930511694209029419866684923897063252185444803593576787724508589047356614625459318679741241662630758527568693971561886161220527491817652926044479959584260886532265191661899731724548953208595593226975891618908471923320870899413110715622727728825782442851836795015746583177638036945216133633277045129279587132391230771251802170063363932103358809501339583889493995373392940266684941641292977372936078871834860689383158052768334970070862463571551769592605279777003356338620905323168348984515784535113499179661918324093098812259169604230162519930528393193969733141619906561662030809978920728631494703151378552487792440730767504157092715112842746065867579993578108837618424856717778174881270770829146357587155872112694083669586864349824102451183786751854995186553357397023329554512717622347645952200055426540067754107833519930522495979527044859047128723464994933909471482681520298794442319595318546711590928383748370090584367446619028792481940589517556721044853053324854963323658821729665975947197432178145147515827682694720499542178216765428668995060206096879392821630928041941100692358278651272195045675926339745976214663184104645031007461588431328919370754837137959170247684049036746657362935371089748813346020559556088155699062734040711136169568519363123498739202900201820994483276543825528469845229143547789889294739958228843182869495439897577219196113756591397586883739041747401224359312,\n",
       "        87373074985794175049087032880442392139297780356619791762200145934906415664605650786049842512175576612968321828690031567915918585445637652160294874851103254106755799783622484214868981946235233304126462079296553591440838581121503994934648863659658328073021910130658272553085781426254941443953979603900257110271643862264279560934120697569077599842749185365380711292571446827735597360796319037775652066431552072236455858938713364205766270300581021430544822565880888928533250122651304026660999636947825398963100538473196146074080420587621180618593299033300863151502316799764386997437561556546879289427834472997229091491830879845694580651485898544532555107542425339389555145412818417316607583911186831055037594746071204888296337272971059536985666151397997157702373953117815104620031734291664960013733485143780866163594934025631912016097617454666777550573340518700528181780715303231356543338588364814532691159653459358468780798841311771292348489002152357556763636379997376745024038181121315364553215657829848526995560022254067907839834037295322479416160752129993670135723132059073719626102011837208471395972317552516311774325178540885647677621104688614457318346903454999499900024281869186683145722377586976336252521256223491798996305802395869340257545014722066728021852974808831585822448870341025678202889917188680917978762218142033460700865802458821400074359132546841104245175064832433045282942364405917868000509880750538920962823181340528837781792032752236977526516333329797401835795503874025794,\n",
       "        119176938337095412828851352399502629362497949171704766512359397557447886784099034151255167890844426146975227904844897267666732817232773654609894394741708432178402635413450115825695916833983537968070156906919026667419275386535892669618352867684700003971561469679104416027600667765143464678506436775313177674302141136600400641985040044594937468913238714620822142039862469219614532438163124383659622695657766306117658182823176280578835256053924616590072639319445421992514726560236645377307244797774206780264540969338128926403098462016485361226224831433191969943928937118234962485410157131478927866564101334667400142713181413208339667178230995777262335695081062132660494838249645983250662723375587469053774430612193611260076934807836682301163561473252933990686031650161537421126580003352005886729503302882474688603015602705045597576821500032267935762768788322502706993306292696937124837831456877252974790797193858632705524843139479778538742866043794862836149065017250331351695469599348268599570181475826624981750327618724639210660980245899612343864232783462032410918179676983539877228824873811928302181538419286779765087862238250267565610491952223939114842431273192012139494561162410671328169043974300830768324365333234819028494145219112996787572879831409818387776644595598416530745869295891816388004112936794174118143591221633889339458714995264968559269945219917390005393318990252433157042477210578141817181839025133624382933249048191664204229804230251270433459924870059430539843066814685395542328,\n",
       "        162557431264873128892728293759954466892839341967985658142649980468504852479926747187962835052954309440050823830530268563128991478624088710525548114722565152594595301459745741608733445430535492023680998147499631670913483068073538722863428246170794465075537917664208554119919863917437112076424223715506778248005230781966808739947155554948192276675257449491986767123083700587001049981251862455630763132529259673096557997826671385422895495023823477609880510576546121478679015561412906945951108565163654996106232845277746328809972376270906620333751288668172880304382221731589288594486451764898814156872723648320806791889870939447055151725687729726084370420645676291374254348927662533972321271291885218976179378392626831829949827374226507629846634835183153361292904873194290160231759744603870321164002518865180619035379445684616220726696542141630919047194177845234211039397965019337541510158650519161422429180063582828469694354823049259238616561632225195060864881447165831961089365557549219491129092086243174304955973867500430137409484895241108532353292932802964338486067215128680451613836753981482041384089799879485152096155867298543500378358700454557641259533574980808013270081325552437560809259126668710754970770567053549378357813075175930014118748347588007002994071250249214956768951542045307894263288248677170685828776405070843201055147954407219573665605354326452514197591347879383658638984198170949844553896430792144408859872664556611315098290751854765623476315049277396586143344971026383393761186,\n",
       "        221728455422225284905094221539930292344462224942281609411341085718438176230506867263415458267397568920655470680071191165005212043576074233930502238375973609847460169593728605004428245263167245103838849543346404518152658324127693353878385746129831335063037691255450146923986721984051986015707319654388020843456809088743863721688562161989378860322520074345784571178028207463138651788959978552604744572392605851870011226693762592893110034047751277384493606499048229142340169740493765310922689390128023188895681865499815330625728724331978646620597983968219241927147294370824907877842005617479113988902261620410915131537926674587196435293505241577374858516096397542496615592432169945984229464704854814270977725901973610809662824615379764243793111078751294437737512933068661940093541418219682470073586165235409246838946166929419230116811660302684605848308621349687786360445817592669103556981237139593057446376397524171891295805503482329081251528809221209857882534442999212045257246315966734734168681175817165578584930105598205432065748058089117937742235424576026819727406599615197119541150561255615316376200668574037034238921690857451584783646877911968846617118638705095322112530422614687243615157617820095770610899377826374586899085528685187652254760318989872961902300961984524799449380649219095859591513175308597609644569160107851760128561268526442763448444973246501146755519991826469562816731488782386166113331913439510107309249247704266025458272815334130561692127187139239002930062383546801634485800032,\n",
       "        302437775753346553483677410908758678712313367660614083222727383569930140883263846874045873039565336962083502058440935279335672356429243879169915578692942726397088265921147276971781735272405552857128214458122643262391896867593241808228841021149336111820448486410351664612872008706110826362536860432808975937253335602277412083191938736109067713672194056665099647073597598063421708041191391997615327227506646911210368409768290003377587509336627766175926889145212361096273470205049057297005494279243188793308706170774593388719822789961195144897115983883939714161509213904026905934665090148693276379676841722964136560224523874007875384795492875199269033100325906893641675042331828733985022962178693258550832594309670397771211922725205372655041433358051600796227328933610528080577750726211391493050692693383617077868941607071173514495551831349403944008012006715151985829859134594365676589263917617055449518279835403034042555948401104719916086323912339362471346837845132372395562845064344183726625572252906700092364149620009819709767817760718452108188941472414633385072521087942343999734580979389413273019179096024786394187041282485431260188394719830625961343391082727325000169504766527758952728635799965737299824021722125741990079731018939671133605507193850534308041741506218142075663911974486388797790718234409175816725878163163514871658558625418022336563252609113581890627043466442652363065680389683372901528429283827922578514224833741283415336399218406505940913684959572971277393191234502808455822025004834,\n",
       "        412525347856020121177020893573768377693887777951302551797409562530470430602948117643065834241425387013850817463184115792205022099381532227261998779839412254779238242176614479518115291339806437264367988359728828756307065480055505954117493031233440586354426798501410925982104343861857151210486293337671097566434393218315478825337526124614930350827733015811270264392958301786714672906836847644725858943063638779496794380935174258369622255845194320815241661287676159583546155699856654646880805119577099642096264112618410882029168911235794509618312822615677738335540494912387070519791060804823246460993201012384702679061382102073416612057487575277044538523703053099324787254356206825325517304641202309518149929616116324533543872260004743681240758893493462237348514402957693370569992084093756216203614907361418929622483190991247603191162814772247282311534225468088658359714220032532375536859540610900772735991141866135958218204914912341447870827067959699632126944703294998946759765925011782569852014721645914743150278666623499682328735491368026764687653910608984513265738491359956830835087997037720960013476663178477215708158548231819096348555181495851723241232053958710005326526614074285826209102846310883497055736239878889900843340008919240111425564067172447786041897316782507775730375382580083539282399263247291122611707459124194392794034093631450993515040007275898945316434043747769649691150868259609420070943656473199836603509982472358282784873992179289437536827976984719961603315773924214280542876592393608,\n",
       "        562684876913387198632009982512030975933141641438944341265749866018945237272562115728988671951177267452229477103285192381502929479228766387229245505616537008461607359417168071209986229169231252834150793250884580546246099706692577714658068723443434109123549973604410913391254937899581860361929666649443809889592449603117915395172468825913501107596741505760629305731642197234676877266633501378798069213666030801880538745963987456706168134560354390219755801923279426884318052648074681987402715188597443155008097558317683217681175114748413672314523587163768319029391396569709868215900941602869056866071105857734457418376285411752014266721797848170763949815364064753385903456616908441572739588553562128876015054828976976334151612974569195586585050172158440543344169872963227367985549780454609690293223784333668803622144941453668801926260574901176642476876691550479645154636025983508754597953002657186271067341435785244850043674059888834839615724207020942637583623922132223695752716284561135769461874705897280616357072465424073576516104978043749225486068123012127290727852374736069059603059762540430778871655187754538947012322446829483732850689455955061581127001864990763174590382471102092394708169011003845055721324055216527950492305851896862451655602993130412630695455981832846824238307685751208433969990385787539500418185700123564315285934162271924573176851133176935274993506662715424244831092849986496932349668675858728405049766130317130439001983461731769199306174274292117600598200108823862781468939494049886146,\n",
       "        767502584635207994954182793167303824941182892810498032789034614659403834110205328802458191607240034230228020619698465592485788014690136733712918131659736318953887217483259425744900734702122768672218946362194927593908436306994156058299559856269875358285108518423214987276597717399373519390823275796134694360501667693046054914494072816072140125692306241590514184288224349986401047306361002717528211133299409077403834346289259826121471705162579233454067729065014425946369407358129566087471950398052032040530687165809432527328004885685747484831519791204202602833828200461579172633559404137374198388567449383150812303367932363011849533225144322392497304592695108026671471639612717470512042124304363384989194052936654211836107333641184642784845689675583006394583685055236245087625660470532171711316173445446031609559535322625995237075022615328019712585742118809079704079581899155725973803983432483942684636626454402215841595529635893285633577295689203633717363695156733056416005651771907314201328566950858612406625789993117102981867649518787165311589761607442452233537303904878489557255404351193144620101897689573854302202023525633964043427436766477885492508953785079454928851287017109868100667768740112090966887383067051584003361406025327329303298353908193950000716388001117319850768827413740030884018606168613467125861527906676000850244406991372998749264218460693346990990088404377882417719260338532450075334368144814962017687717605262548391156988226676125367143059246962425391935906551751522758137914012760637096752,\n",
       "        1046874088127300618504703961890184929250749398935160755668584480145292848671557341048668702340947357867298472354745810353342996354966825733550807560829385955590110626254525273884115812119924625700159476988827132122671653368839735556098314302020833432134997142679238847056192677787683380030943310115594372551534164325764422021285310493591225044945413310270967107998443745023648263202753674340209858783889607647609631928877296366817144112009892634785738602200481600270274755954541376217993727745658160300727012302261624284958616345250474317723865309726119514033660694820990561182043243144320009471062867029723565716251278119433574515333363577541214494228385942712444640702335203246686867030290740210687389564220651173921426737238188827327725107302545392880652689759512111262748768867355662668844950872812171449108009802206798957039132773567993789143594726932276266844194865084436211777387999861100479030629551146058193181152467032501493034270935797963411426717777407811083655404769597861131747934782845853219918193907684193891341050459730671528757660318619627858672173254106634492165431138087211802249767320233925022742507101287173784718756600165291766843794089850241513716330081720331191403231269681903082679446224782415797112908310852329066561406386379540931389783928980006109295504830649087877009812783979154947214624482891765283297686422166932565920967157236858472645755577078094333193315932851111889253010499196284050854451863344246322668570943169696732552332119031022526718177134789185865962896182345003049855874,\n",
       "        1427937023708222678848411158201005410801847121330452081229982019952794104991838323395712912451243803371029346519893905020425439513962764990700035225889414103161229848098389956837359712632311891577786198831706570410251729103533706292674159007516273071307494387723000210599634089100117529735726065820946520294986960642010364683088078007331247033445669447515840725824061556436606217409603318161048964909436558130748615354822978533598410690253198716426980907469185967783080713491401795290909532117028128702223685310972021334116080022926532655122837113986218221344516021564031587031479617208256630292728139195992326787779046722839758650764241144910538962624823018554882516589456856841198357141358693951740984354791021137883037905700223201659659831206361591472216663415659574998634408360733594412476224306689247302614934929745396403396614178169358856411575793277743637055185875557070148590331035793973537340463344389677777714933560561967929784379133724111296819760412079411051162388111383254491018384372368694650580823115871233584892174694722154752390760264358779841681077855905354325803205327755308091413302726696763304875081888179230676320427430062224447860427647509514504164003082753548854942108119614855916865731537986282198846010297408602174119061609375602024365665995516729450398919357832769604272268655953735961467873656192274522418894524242687392914948466689535650035801597222925048358100651669255149391181655271876260327490029319157246668321923471693019326748153417561688868985547759001272696148530632596920640508888,\n",
       "        1947707147212103861249851324490133270518648724244135573958451143800091304501716144669093461252198888745441895951607641193670652840041566414140581598920721666097873102916830155651432532146285540036726075365924750866715481168873344222943108984566498490096854479851314966496747953725238098242910384723081169276734765849866463192154159687310314544844938071824917020991127961423275904194962128725345128346330249179948758953610471597124598998649475059099036743526571860537722363477028003318176819801354113207993407491178139361358618109888135792061867547342511380033433887074033905701499379915305188039290652926200563462096335981231550233216940255021552686234752825694802465072659855066597805827680288840914913347324517052723637624801841685252603337490584513313496409551649419810248595752809490134280238799275006132938220352182522901031938778155779048139178525625569253219540378454708767113423310210979766032871032377071634861362557758991288727386172670623606825564628794094081596581039331528723610208031845682349245462648242270293986817624651478812932525758245694323680848867628157407030064232489378323899547168981705381774634437983571929674847733361474312173390154997067633921213921205922358472226878385933152507940497259513701641755158573644217827466596594707540775699807668747950350235299588728389315251456533679830597126881670745340344655428753447770868555629531683863507306024367646844054782482192796874881461030801338415370747254443193828701913772186332448058417033593673174639823005320412525143412558679044544756703979106,\n",
       "        2656673976734333374967476055015699981992847661716122253331408590125344492134445813166966876860911735492586117107339342482071790899256210551652744000963090241971602073608404430698510811207246108921985944585320191888770326566072345053800693329107711456765180818011581337301774808515313866120859500488348535839986515606178497804462956901569276370415528975638634332472624363442904769928145753184688916113359369318008237961340038081456486632568574233809802545151151486959421086863379687927788473118579127443831710041652293060914489217967440146905042457412299508583825166485003811408432185684093484742222743319476764554626190057446557357866557272090542774563165479070729117241624631767696248347313055337701893546734996050936179603267617758907752611996988482521200574845113224280754083241240505276752658198435415054575035175311890982403967890018660791020695920529069739135090131398098315412857985458812194842373428625670099628676243716824679792084523901864323821366973435556406708787700036316562258814773821883093065461633025572552231604132199311822994717525007391416280519536522662608543333416320839789107073751793772837503906248491480291307168628732481024028952031843647762183039952527960850504972404226532434876747703993514675321552882304748121718838556816790461220078903326167721007171347558383355795607258980595242670442534472552836504632423714227002152102793629683479359615453039067518215771663811626606593462237194680870441959582550545701506657053584080930844700160569923627770407448242590443296887426186747391645064868009472,\n",
       "        3623705251972777935559498588892739265571514729229514997679615275382113687362688590875887489131744859410776209176306814753187116457238311234020756957895254010770931326274966560302924397919215838855128865140452107661033592151603847526728368644011902993526196732622276795394587335562841838626950601576492125966910884021593320871750665367900180279561326367709169054409680622864083529457895002306044406923750526080012416528026765553578244891422533904391629770622914154784510900204013371361506795510561731187499660490221218913226724651925698248514269973777923872219717560519432272795007202772483428493579861178419233053073585334693085467680217336071755366056843948205300210720041070390992749343540835160914223712659881937994001702494655424991859815367229780743430897585143989568368379789647802006980760062904705409446480917345771482521913233924231474731277374780176749749516158767384556931905405589130044744763389516446392965149257792306622227692017988315608315951377330727732844868019430575122449746961701080384623638912909529203514202023137485978043607636635840137500952328665779426210513809925857961720372496993875132060709897576817100914907684438837478249802744824890544685300416462059806011140831591868627105036376187651276652299773218835011668713618964698783811728399836700440201732068304934486033597616500988444682314214147443739737658970601634384383239079066517797530378985251312462493156604221540884190357372994575508621248241346198780048908923002458576004619077434409421952010399225898685069479592731282121248413236668898914,\n",
       "        4942736620364845838436531042725751373939528083516720172957248567029793194907199372400523702142576849148034241902599602662689708919463955779414864143313127433781792300641127996657619577272621611444504694037521260169841708465114214098802548631125564790881189108477603560499554427482524783201026741409835748167402285791968895847565712024772747470598019581084282228849136842210973377085338711291197755732911830932506254152466469555118807488386968814164416816932200058277559827299361101916783196864879319918876980740371784249934313339715870378413611149275545574007203336373672105096201233013853080558727672870107153361156925022711426024473174312959146409844309708517508558151253261637945877800838046472542338845961625698419869258382313267306655695913513417922522265506711246884478750787162843178027033478460216613900054546294807614050872055040541750194253359896081615728079175648843933753434386081558839844052105673861505674563216304949949543251704620586391607281500046086063156806687291004503338017114575047466509736542670230859165923791163663073363303811088810954942715256819659660013749380072286580626377192973397473903645804201027017128225388743203052813754972893182546598511951094202103360046599263713033903704493867660334868412212223373260664247095106405957909658757456162726602883548339278197333182944514607219141919258539647733555003340533053014525740255949523905514916295498243237908183823929845577662254050226838188440253043155797686532413277632407081751231266320695021466169954951574049025213461372895000130227299881246128168,\n",
       "        6741896373882901696405363901776513766792781877431535545428684725043913299967107306642905205609963953982778116731355034338723516153265292921433108712236063714932375469005824862407553406324253797226143257796044139323771751380007939634614203061223914386664935470160183878798187633673499367128039102233617536992462684731129595529400502952455395450075978269925328669319277062456390550427931460096196044864098661142464610676380792499947606992404716885054168929925291502404746388947228747027863642030490902931079389229527603938129316622097099121854414121881817940869697570531249270783491276838098374365533039374687335603851098804563719790466877443093611774783004499261829878618520168915228568313092438929382911100115370112526639662435177791261703361085847669276101113582051725894418584442069907742630880645379798366065083847627034931336872004988532871496436314175630104029849745101181893024241434520651846677331816902536610186497192189209523483617552794497826467940282014238720873617166332949573128177794027326445399665267841107801431523565349259569553524441932774778382001111254344442038180364932408821832340211588211148279704937640098428180000345153413402875440032829045818450914986592908131042909572536536170113280034671864884411790909772454346381044706438756691287558356898605795786773361666843766096947569915540747898022550962293656012764294146054913447494092354229673640143357438589027819225228996913589472198714866780283608013772112749390628991759599526261967255451880505443689277770564346228769076230792221511459751285451256387720066,\n",
       "        9195951596712898278742754798554207503656728420344698000684898922208464770948329273460295100975692975809358499255810169437621538722762779008790539698354134220295193921516245753451899503845859452038070848138498243558884838724039294775827871778058050348975762862487599288284288431885080619287428536473395730293467269375546560270998133592861184166651104958197729389233722762327358921757075596909922696392386306710152661468837553436398091056447522218182700584834914541480132352083847310307107924512786456477312205786056392143392637806853782918079799275857948946891841493407960379020787197808399196487667624434746395870806259926349936505622845305553999419950427981302844471944219661653633405124935887537724763282896210795112034919430840889594230691176792134406019841448184060831233833657734141323791699227331523431529388268217821941151107465676413877262889326788919357978330780397187750928999070120555200426720442307165610155887844709298094981603885263399655888662151948921661357676971684830508751337849070387846572609935071813711383457309060181216534080702100115886524004458466182638599738031517185705265892674983512979650991438586898457064537599014644624725153018533791389549594640224677784944632016986434599747547870996917569998017669341839951837005643829559233322187508468455761615885468197123236234433818547742094740121901431827086449144052218559434995396467711425224369061054462530932188661120535614065885656709332338533679519225414833324615631292507031453730418187596275745887196345219723207615069004014051514526100883582813594096298192,\n",
       "        12543284719812767135106813950591840811501544358132045504469747558577070991486821096107149160636050828967918975763041802467950117541364583833283217581663751312546359441323628213533253330799158616833725863004169400258458243791340978082168851719474241899917327209368555589403648219278883638207419651788814009737826347890930239339236983621165607658707557238959972812243467167091580025667201542116594654075259786451309372708105099268039496148601412710318088651883753359870402932988756678487642236899082757125956779771570148411191496097865181997359968066684364245378412666706028488233624521301933342107553005262033458655115342390640117957389351463653098302424158549501579121561794237015724879818980863693895506500781531639902928156743329408584321924468505557177480339836436641025528843527733810835559620376960843340404451662932956754765041920054633517119452538176400179912547214311509193449047755885871814033893360638790794789241206680674790764431183116829925129961643198611160330592262995275146886397954309803050051485351103221743434837201081652528612055631189000001993520463348984373394484713169806234391499441017723292455100601937467135534457465056320421538511592720124284391465540181447091572609114079069330591825409319830237342180512773179466760022079228225233008155049109330557449863565394237761067533825446690132766274171575563108210288499990409215388634229452476360269072918430249630094361587635806582781625223728024626719147831479604767525111711971350502414552375136771997895579504157473019533182890551397058035113064958243193603738453954,\n",
       "        17109049553776211085183972971362069421095610161220530412794736354798047040852794923419424915402674306405217292299288274376453397947960015111377317571929055144447454573159350399505110995109556199220654115208535200450780603416227818143373089573234644009537583289341572311545864455384829167595539692468478782678125431990498222005279516657403481707661274725046361113629478449635677482368984660522632018081350741105892694526516824239159309144783383384396091103870024417777771080729016193304454318238273393506261524920627468489257344070125915098181914522756748688645101769228516265911042867843034887033898786845038072351973197827093047243815581019268131638505972211948135224654759283509110389706495023014361008591829292053038389117832820744149904699205732756782217589556741026542882173805662575713844645985873817647835103597628821231321458330061985793764810524961936634320072378651678937052252068027399274897430970631752951258135161800285123900779115375241281276923569985057571612589204402526985183555561016420430658072591514729529858829325732683109208060415022498102835048436012473151492715748501647220895710503440849554421736872034143759767457046874420069623154537623268057701348546402134057582823776235867553361849605860119440652304217440286134500621953072943047382356809172635348817375519083208503219352372343103888835292710150969511425919963130970388349532084369645466832239829799914957979641394196360714528202690821734923183451321657406317737576990760214592324903170104744601405316330867138418366469077781109601211408746703927298889093347491448,\n",
       "        23336756134635471732958074239751813282215223761449161615097524857692094740794203762365191691758408389987545354615204969291284902751135001976502494451328812880777640584148795268553184930582765454895589046870305017584265001517978535288538976346743773903251163523989114001504148520793126263483954347946656848386972827061387465745440599957681970214857637432520475518963420848770231177531320744154412189257616486128224086643541656367312565712980683537728978583767365189602239624517311076423954177719241807825297845948515638589495428503147846059102128769008271895676164191640362892731150705362420887847580052809637192721550096951497307080682409899633195208020448521255805948008213224500663587284539030372452109614761655141876002659652124238349878594038543948756501969635734596641132310599767281007494932684352264232490421711617375092479223927246468677328718675500619745612758637028104381648465269837128496831909877835071664306891149936795589675453477803012224491648879421261726290732005397309803065516671624351777220661066311442181949186635136580842612323018146318601267008060241476727620437675440959979107983518192759809954541548555174025789946946394174031286404327829730350828923808758051035990063203394837421854893454218612236879980294769063060638315104013573544854767695866523725117457657893061792628957703409819151061472022920093989148063039999143600117977151714425869235535396920002432933860956045423650423051251906070163246854321888533696998822540508644675281670338575246773088849370882280960124883355276324047449419565617221793927916929716789026,\n",
       "        31831352476692337219965898446994444679010986306226817663523436700628372024490334784661044886983384446617318268912431877401586983805946090655964513808930072698435846204233529905656943750425887190033782680585211252520137912851126138361385307110048080838678596584304440839623970128226279608221281326138932409678613614237164493775002983621794864776547525119232653654227219667201044961830203864011278748779406968429638760074485345801838578791814797128845711184349789988641872625612693037258466802863364064147099768135300251663540253735637732150530401822841805622450976602499224214201555473157209934058986225931131975910266684215040153951098050918680697531871530288965131261218427492978188642166500943923047691875543489442810920666154615293929978552173273151836625468800731546559531014540256376956798802026102474286934583049749697254962892758222513337862166038193370294952437100978713028247443680309911297077999970798008381867550786648950984602442444502424049447890348454170979718130067951134973908349923651176840549412352521398650908220429155622002006317804811993594626301829217810268947428482017217913150510414525427821627549093966129405321247402338700253094725126314289821798709776494528015224503792254334479277628033403792951223733774369219454996796302496467388124950519518747533695561062741655368354401526803365665151736674555718352167469412478795001531309184470561255282737113638713118436744323687352055537756435802570524403632478507281620112711682830782097298790666719806703237791947199762096748759263065983781830609498910637230844977581227047722912,\n",
       "        43417988114964482603505218439774662293984267536917140742207582757181957133499557440481427591037028143594412106341911695980733937196213218789737573337875070489479375000215118940111339828765840709971534471907275018742485697393937570703464847437081929007731508992154781294361096759049166178740091212807851753458477356792319430896569815100728153237181039120270772104841446589483074098167575601832128367747300362554513396965684655215364188784601096264429087784431697311872703863575337820131625143059806302738451909034395491784707495590838369801169527188484991877295027761973133468533814396537139712477345059750116824778796478819411721486604822135490371066667975334596960296107883108635473808578694572050067424170350934361649237664637554913044729095042938617649105895946167465241796944965220297936354573458536459279643003770280298673144478201439435439312671804814432582934869818493601598633894828407988846342888792078361267939003579880319079793321169754784206459146926940368637597255703417353501720792361376876834861175669500254071280994614554903547317460098086577409388876962061153448321020069909160674497275313396201741459786918711349064032207246736933539395236358697019146663790964062344970817259162698115624572106492456227804081409748219910105678690794920285530975977363391267502484470407037275815497196311517494177086119885566022752450417426684116381232305845594997266631522658538601613550152191370504249177150201485958101356717947538254018367435734203727289360225751076154918463121304829846382246267759705357154740998805933674800094343348710622810840994,\n",
       "        59222167620164030963518337917751086363439219931341286199188806404232890158465420839151451895219393371247224730368636465749598491922618636375292705997375405077722565936139626467841773183380357154288363053464203710776003011383243697565664413289486861214626616943895705989949375603313190894081092635551235930649772793278337940907415002800376822810379713907574452383657387375274580270945534951102887104886066473931324703099953944199102555340774687119478404583676019483184356711789386399352573953600378660299312551022683586094592687526157272046527385615495351762436040318307956550304337038432131725029032720485385280130254307376361803147882928490859784815632650227920542809022413778606279253089981562777235889616050550012779002985486291056008304415617120447746532278696041223321357592463575026641564594996245756559907344077245377139866323229656148161735822203932924236493457384862373559249660793392177096322997390394855567477182750507541873789074677987970160034325856237011275853636497591338127482134689267983653927484162610699074625927562473317594163017580107896398400022802553242521320140322784577177232196677982833700778970984671374089469336005796579686435355487987860430339232673690815034722756722424021966250832533338328128559994120305731753365189241067571960718621248616208392136351330759906953993544123311388860911132675648729590060721537466547222795866704700760742246652188983766239595526025773691483229688412583282652821087684074656988334802454165566853469445223258542028590400697579857665146005972997370225050504201903031337965915172618870741034838728,\n",
       "        80779080051891853198721616425030921574393389970617051292834274142956419358103967524160020866506843595409358126634926481194148323716389016229118040717993390401084069416269450717255118733470635924290037176459645768773486850012441797417136963191707515778679713242982735125072242684015951428692789094983098617258043548509009743717144960389529087041511166950970673322080781221321116972643807840879939843192962417742689449541734145572231100849005457832064808281221875006760774427584586624054731004336059552454565058046849445828516210493174109909833155149062848288954636289199814707748584254235824210079313108087125272214491654057836318905433801066354881978894001578858954988466868501902073536688543430322721803503717120568364921721440965637950240267630847333664887677247296174777796997917261301559392043929452670484172896964366464699076338029729187532043100798836313473009658807822096028418135956081757967373414783387375072400145210695866996167377654096761053071026927054210320632997779970288623239133436953891080833923258976663038043836476208219753341903296727268773995040491559584860234119721298233178905390766043898564064257882878672969385238344113781429231364280851800324001860030705235769706810986645528660081760147579972023583636061506766331500223803506963074705730359089871638141485699626920122523009681393045923776962055704752726865576627521797096009943417517683247421700217296515689409911049307506553629544171913799024406064957795779670342688914917567391859612644750402403152225014620230685105534393436172692326042472394540678660308389795488401394330865986,\n",
       "        110182724412948107927087248322080094778558947359141589304712149119798960237343970168375107613367229883531735731954770088985284063147646540755153382832048981882483748406357466917962449794227130781088764997054010292810746839419981994920672383457902341008980343490045394606304528970373361061927858406649582065175902049939082568768126633386320475101444042100837905985770569243269378825266424840495189049002305623867502340499628474514467420660598785257623517973991221185241179503582087944597052442488338829926687038488453666793682205705377012074284470150707340561485886334508865569325619227114702654679908108463559356685846746389196115348814852537436549878996233786213842524811617659008206910322426328941755317214959768505799766007048462616455183733352891380239354538297590678438138426516736878902037389484368438786168391366739935094917264938873841449854951225434935510109411107326723845135896693756311259674434087537769993609365544571913090314176909262660064359040762827799114354684825515971273436305490139796702241125252728330994590867579475574216875950259753574715625633630510076302601860619991112840604130237080555624217348531217494601615554570707203666051267314437343629798967421114615280695124908541223516373487092131615178496208147889349581898058633172738701470576928419833530633378630642449807028339198964237951420637155113958368174236580661268705504785617360824650243941343044636384121358266781464712842181480178834452572525423521127545004416014750016088063365116884772136441663510342692234341614058652912549702946982850355388723998609596218798372608336043632,\n",
       "        150289316878341271104400205432933674308875978591259098428678664233679924720156533413631170944653768067980882947744433036302408656281713597979045443300955529281098233910341001145551498774444539856040999746018846499039627462455705453513594548173541984843764967200135161225734502587831948504421027559459124919998547654160457132809468445083901517567456714936709854735264378528600654038780376126243278742778988063917690935130942780971879134012157592096856310581332306918543975603660395541017003586285098500079553575063308848356028357098344737643433927118719961588715037914906381836374852374368708656807604739257403049644767176566517559172102364294864520389832841778397260062798034953755696127753326201219984575403008627959031449198535824449810508562533611473493813255125590932685795591565827020083680558648722479957004169997130235835931848452961949466789685514594050872102709760052459146861391508419564639953895468816301658658247002941300151055533471611922424546784671524045046190110735001564787255743927684119655747975678644702453284981422241159440038549496207172639382138267056235636333798119787599212817212548768643915331027460838545515276585819682969914275357848256817562846115564260365948103920082061215521862096475427670683440851497357134336475283475871419095768941636095012025655566593682001163706777190396901958783672856537494918942385561598598036105623592023582340615983413613101324457222085800967175823289168508102107107949083747775767165693786807936861685821879043473944508832180332446827872646681536966153967512010650357144760212763797632236468639164694380034,\n",
       "        204994738404781906734509807297769853837401613357424769398307002726888537117253748920163085543615353011955807872459138616286574392452320495289958739815886173988399873537453531919999162290792146590770704742334703678700344669536421658574537884381094725229236424241327849957296467834331748133391343518960653040460084176176913468234683727221075056282486060617714342696806598083580535378275258302620672700339588721489354303020946452874117653260003616218897265256455240628115167964572283100035137488745316842447341003073391757611289472764347927522655950874404178314347873201818639333680867964258145722588227544255206223274819114683476339906862973713047743248281875181967648939499044488540428526462447260890387902605020983495887402506568871598004150134479579402736941519345844329774103625034214572131019184034246947029792474044477008420146136207105037946542580896857510824483606222122661603042783153380979925208373093899523000179842521377477977952837969455571449741878650999560270802425397226959885788108153666629350236941066796626874611709250804520951786798388776843233691952221898335918035603237250905317395518520650667381067145673932307300331864673602141670275254156289613593065731428618560267829027687056406513043415965970434943828499938603279124301868559147248819367537862210524822827723467160880229745851116040573236018881196954298183395782080257068382516776084305783673424851620109613251196035046390786009287679268026531452929695122757389667541551329622040629355549106380415345082183535636967815910524415230480486924236085474069995808318933818579966762022193251470410008,\n",
       "        279612973473439399127142481554363513567890109495505976718389180398140198307858833683635862312662286162075789918917212817047923773713621437289101700154312042275706708603320527879880002916139262394351097309544281836593769168875141598001123187890361378754663326430138387476913607860531092285894296980889890206312474814852964131129241413397991460670828554139277300148298935050382378856621491105150723806541941795099543187011506092663077450925778944680167966666115529549056007647652197808843468551652198458196673207745681420690647196878927671485640360426614417940732087762318538957522540278100485134318999177968840545949902917195438294150520268246961416655176867581045651550736759480404098265790905817180690319137824024497018376050409139395502110593938708838944661726200986791402810030342260242213730250703271484471116891600836636615315165718339724721033547132999159358646510989685070479009503082603165037548860853974418188546963857405882903227822045870871069370347026748071733419554431928308285779766777345210117842843363086277701672824703078788819396633040841110377928462212807597248436199149408354640526700079380059076419502030271127996198178691379140921225360944536881197759220514751280465684741869065020545006741239680148691052757357106370082682085189960323261036417412996791953349040464774034315374504629056532290831712736318519259646765699856202872350918684616680954133838225812926087732716260499117917635570344877357409898211255390163254302443179298250226377830666924765574166042851441004433348783175021056921130811988098642124639691785941306872295634740234170333630946,\n",
       "        381392300812509745191329079349959130276455946753483509668652240370065957380456566398228236357556901940424389405210950741591984313919772092782830008969221441550237938934802737481688243976776244698041487500923142759817579846690362676095190602820337301716086006487133001846360118418232244209707954473277329202063256107543619251773753522558587573430066430332034855116622444215319648340967092142683889892795908948104498396437997331338890517180415740547365325429846838760153022546565562383545591139591087442297104702706112531213800387832330108254340974277852940475336882055675688956700078620197025981356837466977042759881890853873692516697649552751829085365404495662421450682853879430315678574967321997081722485691894574434916560820160572704336476854282533335899921331479665329317762655490468004594100192978446339065550469936015216820298306185951591624527704831991750222704665473536658256030565247453870492196571413194200308701058881344145657480727223405837594192603086363020843944543047575609728763487672407020267366988584190749581708607506708718754177959254505663332337656150221784545202893675396232980583736303792921230903581836435492519121616066905821818693062603602462243357169847852175173754255738432375079795708094339688785030904863593027396057488500974440075302492718865486434892914021675249967051054059884226085267692191219657224456371810385940974955035602593237127222228764860451293280676175355843230440927238091983533632613082047305436258200038114142930819990385234486623577827531549065684055556161253136870902914476002633332078535404342876392391212547701601586543020352,\n",
       "        520219377921236765880371991375825808060599479261861002694018374253950364007141064426016998027569926909025029224497655728744283652110342848177217421335718200586566824413779537245550644664325713907390983302356476268673015504654823565335437983370127969902120067511775844656822678436076641633133935795847257921504487643164311512383530934011326848150071281801449681656373162208631050719457970304111930964497426347156330912284615371452339328511537995885550984054277754184378271809523074743353995157870794923491709011164345238257044419650495146586592574555351837422777447856029402055477864760489021539055860623955864293319445074586633788213888140473763119399828387260410439777064242279710065980353692994925286651174063337353250685977075071577854349931351969408876331640799989710176219664899028700526594876952851509756895312109616356579523504952803689315580510424383880302928522352414991546296170007030161954521160956457743195486432861117272082686615160547608349349779980146187179212090136447563598341682964929952989898690271679545515728242311975395459487555819778765626418940917364726927253995409439611193870856845073623939011562044400042067209880513438232339838258616674703036820377431690881688281270511963628673861890847420575182930845286698246474592496997414326223035861104949936493985888074605505729091953112186713436837422980536348772677750796132123346041540912855860058212074169107881376960930035901630665439342388327810417232294142123780005219439154430870255888693263290506679325730919075777034056211952732453712968496476079579963597246931215469340528486210699724798215013391074,\n",
       "        709579612876867761170572587565705752153787966169125161158150731134628666571697792333653583537841737860812080286604207624957944493462821564685817345531928594821518698738334223605668561010384250545925999265901734553612752965929026033480213504507457371283793488172068739244907979746926957419838898133490133082261323208532228446510387967744972379464270658443607697814148109875016968500989012461900816519464382333430183468854611804658322182980255006803632089615360286554330722901212020515497232940926903866730133388332869611095139802203663212274220526034474184097608914212506160079360764233385645576298175247913265873130482963627022360816260121255765646690451285627695502277366309323403960312881012212400088073923908084044408370589291217792766037642840940556240652257972517444345692940684930637986280006263882437754744271267986646389686881053930418178043440746564444724944727193359522005806231920154388359837355741179774912843803123622840464930200559714161194350694085522485675466134890657524323747784327652128285242080897559484274202904222141946115459780316137490820098767748941637750558994941369305064672829320416726845733001532143493815166796141945815817361203446206898544685238173996210474990826732574127943522698911589758889206458001961271784371561961961641942660989849644432243283186226675931489731391096076737012072330213143770945589676542296026629941636760170995712638396388891915058626001849645999583502493458606371501088382842469917974424751264843745143175108431118636345086920551446891423518357159083228117625900096287023072979976892713304523357247582606972326366864808445288,\n",
       "        967867112183425547473426889811614021763574846454165981680720291286007755154159795884167913962614158012074586535957363698098365033366940724574303036522971939054752091645912294777669162768808782070356970389673268287604063718542696164490576555586155224559064219986769272105899141197486805997301890188016337371462366360925602765351681571535076336916113328188362701268179678242685353666399732456003017844480382000225117407848602786169322909924396340818150055786335485137861290415525005506212969085419454745014825433395045313879008947250216272037183384103597342460975981763306258377650137892202781055092250094014318606814272081832333086787167019281004815848894953424563925516767422981365281576835681011406715058118861800699910370734479198144404453199184974270681658556206154594077235347313910289241986455138812597948980942904845895291889485281066043198540568758824326988704910820264740430911246635260592752980107752130169438862142947054415511436876250065276416702696082432650607522987202946999625155576164600467911023188242961408229558277087243926476882599838767357257380345628497311256489396354023141547824933063905260491203753101405769963929577147494606213113021338884826289653701689708262778769175944501622478593635177299278545452791645520461412129285108612677024115813190776110529774759999074045157499346547001781471180095248151084106133091481442576455363738582414151007898830886522741247847243483847179333528066516881479055294971429423110240895365944686022806161103788739083265205238957904478977456073221201475884895440699831975551124652078907878585328626231162120952889201813732763906]], dtype=object)"
      ]
     },
     "execution_count": 106,
     "metadata": {},
     "output_type": "execute_result"
    }
   ],
   "source": [
    "fibvec=np.vectorize(fibonacci)\n",
    "\n",
    "A=np.arange(350,10000,15).reshape(4,161)\n",
    "print(A.shape)\n",
    "\n",
    "fibvec(A)[:3]"
   ]
  },
  {
   "cell_type": "markdown",
   "metadata": {},
   "source": [
    "# ACTIVIDAD\n",
    "\n",
    "Definir una función `sigmoide` y vectorízala\n",
    "$$f(x)=\\dfrac{1}{1+\\mathrm{e}^{-x}}$$\n"
   ]
  },
  {
   "cell_type": "code",
   "execution_count": 107,
   "metadata": {
    "collapsed": true
   },
   "outputs": [],
   "source": [
    "def sigmoide(x):\n",
    "    import numpy as np\n",
    "    return 1/(1+np.exp(-x))\n",
    "\n",
    "sigvec=np.vectorize(sigmoide)"
   ]
  },
  {
   "cell_type": "code",
   "execution_count": 108,
   "metadata": {},
   "outputs": [
    {
     "data": {
      "text/plain": [
       "array([ 0.98201379,  0.04742587,  0.73105858])"
      ]
     },
     "execution_count": 108,
     "metadata": {},
     "output_type": "execute_result"
    }
   ],
   "source": [
    "sigvec([4,-3,1])"
   ]
  },
  {
   "cell_type": "markdown",
   "metadata": {},
   "source": [
    "# ACTIVIDAD\n",
    "\n",
    "Definir una función `npositivos(l)`que reciba un array numpy y devuelva el número de elementos positivos del mismo.\n",
    "\n",
    "Por ejemplo:\n",
    "\n",
    "`npositivos([-2,2,1,-3,2,5,-6,4,5,2,-8])` daría como resultado `7`\n"
   ]
  },
  {
   "cell_type": "code",
   "execution_count": 109,
   "metadata": {},
   "outputs": [
    {
     "data": {
      "text/plain": [
       "7"
      ]
     },
     "execution_count": 109,
     "metadata": {},
     "output_type": "execute_result"
    }
   ],
   "source": [
    "#solución\n",
    "def npositivos(l):\n",
    "    acum=0\n",
    "    for x in l:\n",
    "        if x>0:\n",
    "            acum+=1\n",
    "    return acum\n",
    "\n",
    "npositivos([-2,2,1,-3,2,5,-6,4,5,2,-8])"
   ]
  },
  {
   "cell_type": "markdown",
   "metadata": {},
   "source": [
    "# ACTIVIDAD \n",
    "\n",
    "- Genera una matriz 5x4 con números de 0 a 4 con pasos de 0.2\n",
    "- Intercambia las filas 0 y 3\n",
    "- Toma la exponencial de todos sus elementos. Devuelve los valores que superan 1.1\n",
    "- Construye un vector aleatorio con 200 posiciones enteras entre -5 y 5 usando `numpy.random.randint`. A continuación define una función que toma los $k$ últimos elementos y los suma, generando así una **suma móvil**"
   ]
  },
  {
   "cell_type": "code",
   "execution_count": 110,
   "metadata": {},
   "outputs": [
    {
     "name": "stdout",
     "output_type": "stream",
     "text": [
      "[[ 2.4  2.6  2.8  3. ]\n",
      " [ 0.8  1.   1.2  1.4]\n",
      " [ 1.6  1.8  2.   2.2]\n",
      " [ 0.   0.2  0.4  0.6]\n",
      " [ 3.2  3.4  3.6  3.8]]\n"
     ]
    }
   ],
   "source": [
    "# solución\n",
    "#generamos la matriz\n",
    "A = np.arange(0,4,0.2).reshape(5,4)\n",
    "#intercambiamos\n",
    "A[[0,3]] = A[[3,0]]\n",
    "print(A)"
   ]
  },
  {
   "cell_type": "code",
   "execution_count": 111,
   "metadata": {},
   "outputs": [
    {
     "data": {
      "text/plain": [
       "array([[ 11.02317638,  13.46373804,  16.44464677,  20.08553692],\n",
       "       [  2.22554093,   2.71828183,   3.32011692,   4.05519997],\n",
       "       [  4.95303242,   6.04964746,   7.3890561 ,   9.0250135 ],\n",
       "       [  1.        ,   1.22140276,   1.4918247 ,   1.8221188 ],\n",
       "       [ 24.5325302 ,  29.96410005,  36.59823444,  44.70118449]])"
      ]
     },
     "execution_count": 111,
     "metadata": {},
     "output_type": "execute_result"
    }
   ],
   "source": [
    "np.exp(A)"
   ]
  },
  {
   "cell_type": "code",
   "execution_count": 112,
   "metadata": {},
   "outputs": [
    {
     "data": {
      "text/plain": [
       "array([ 2.4,  2.6,  2.8,  3. ,  0.8,  1. ,  1.2,  1.4,  1.6,  1.8,  2. ,\n",
       "        2.2,  0.2,  0.4,  0.6,  3.2,  3.4,  3.6,  3.8])"
      ]
     },
     "execution_count": 112,
     "metadata": {},
     "output_type": "execute_result"
    }
   ],
   "source": [
    "A[np.exp(A)>1]"
   ]
  },
  {
   "cell_type": "code",
   "execution_count": 113,
   "metadata": {
    "collapsed": true
   },
   "outputs": [],
   "source": [
    "vec=np.random.randint(-5,5,200)\n",
    "\n",
    "def sumamovil(a, n) :\n",
    "    ret = np.cumsum(a, dtype=float)\n",
    "    ret[n:] = ret[n:] - ret[:-n]\n",
    "    return ret[n - 1:] "
   ]
  },
  {
   "cell_type": "code",
   "execution_count": 114,
   "metadata": {},
   "outputs": [
    {
     "data": {
      "text/plain": [
       "array([ 0,  4, -2,  3,  2, -2, -5, -4, -5, -3,  4, -3,  4,  2, -5,  0,  4,\n",
       "        0,  0, -5, -5,  2, -5, -4,  1, -5,  3, -4,  0,  3,  3, -5, -2, -5,\n",
       "        1, -2, -4, -3, -5,  2,  2,  0, -2,  2,  4,  2,  0, -1, -2,  2,  3,\n",
       "       -5, -1,  0, -3,  1, -1,  1,  0,  0,  0, -4,  0, -5,  1,  1,  0, -2,\n",
       "        1,  0,  0,  3,  4,  4,  4, -5,  3, -5, -3, -3,  1,  0,  2,  4, -2,\n",
       "        4,  1, -1, -4, -3, -1,  2, -1,  3, -2,  3, -4, -2,  0,  4, -5,  0,\n",
       "        3, -3,  3, -2, -4, -3,  3,  3,  0,  4,  1, -3,  4,  2,  0,  1, -2,\n",
       "        4, -2,  3,  0,  1, -4, -2, -4, -5, -4, -4, -5,  2,  2,  3,  1, -1,\n",
       "       -3, -1, -4,  3,  2, -5,  3, -4,  0,  3, -1, -5, -1, -1, -5,  0, -1,\n",
       "       -2, -1, -2,  3,  4,  0, -1, -2, -4,  1,  3, -3,  0, -1, -2,  0,  3,\n",
       "       -4, -2, -4,  0, -1, -2,  3,  3, -4,  0,  2, -2,  4,  3,  2, -1,  1,\n",
       "        4,  0,  2, -4, -5, -4,  2,  4,  2,  0,  3, -4, -5])"
      ]
     },
     "execution_count": 114,
     "metadata": {},
     "output_type": "execute_result"
    }
   ],
   "source": [
    "vec"
   ]
  },
  {
   "cell_type": "code",
   "execution_count": 115,
   "metadata": {},
   "outputs": [
    {
     "data": {
      "text/plain": [
       "array([  5.,   7.,   1.,  -2.,  -9., -16., -17.,  -8.,  -7.,   2.,   7.,\n",
       "        -2.,   1.,   1.,  -1.,   4.,  -1., -10.,  -8., -13., -12.,  -6.,\n",
       "       -13.,  -5.,  -5.,  -6.,   2.,   2.,   1.,  -1.,  -9., -11.,  -8.,\n",
       "       -10.,  -8., -14., -10.,  -4.,  -1.,   2.,   2.,   4.,   6.,   8.,\n",
       "         5.,  -1.,  -1.,   2.,  -2.,  -1.,  -3.,  -9.,  -3.,  -3.,  -2.,\n",
       "         1.,   0.,   1.,  -4.,  -4.,  -9.,  -8.,  -3.,  -3.,   0.,   0.,\n",
       "        -1.,  -1.,   4.,   7.,  11.,  15.,   7.,   6.,  -3., -10.,  -8.,\n",
       "       -10.,  -5.,   0.,   7.,   4.,   8.,   7.,   2.,   0.,  -7.,  -9.,\n",
       "        -6.,  -3.,   3.,   2.,   3.,   0.,  -5.,  -3.,  -2.,  -3.,  -1.,\n",
       "         2.,  -5.,   3.,   1.,  -6.,  -6.,  -6.,  -1.,   3.,  10.,   8.,\n",
       "         2.,   6.,   4.,   3.,   7.,   1.,   3.,   1.,   3.,   5.,   2.,\n",
       "         0.,  -5.,  -9., -15., -15., -17., -18., -11.,  -5.,   2.,   8.,\n",
       "         5.,   0.,  -4.,  -9.,  -5.,   0.,  -4.,   3.,  -4.,  -6.,   2.,\n",
       "        -2.,  -3.,  -4.,  -8., -12.,  -7.,  -7.,  -8.,  -4.,  -6.,  -2.,\n",
       "         4.,   5.,   6.,   1.,  -7.,  -6.,  -2.,  -3.,   1.,  -1.,  -6.,\n",
       "        -3.,   0.,  -3.,  -3.,  -7., -10.,  -7.,  -7.,   0.,   3.,   0.,\n",
       "         2.,   1.,  -4.,   4.,   7.,   7.,   8.,   5.,   6.,   4.,   7.,\n",
       "         2.,  -7., -11., -11.,  -3.,   4.,   8.,   9.,   1.,  -6.])"
      ]
     },
     "execution_count": 115,
     "metadata": {},
     "output_type": "execute_result"
    }
   ],
   "source": [
    "sumamovil(vec, 4)"
   ]
  },
  {
   "cell_type": "markdown",
   "metadata": {},
   "source": [
    "## ACTIVIDAD\n",
    "\n",
    "Define una clase polinómica que :\n",
    "- Se inicie con un número $n$ indicando el grado del polinomio.\n",
    "- Tenga un método que recibe una lista ó array con $n+1$ números que son los coeficientes del polinomio $[a_0,a_1,\\dots,a_n]$ de grado $n$ y los guarde:\n",
    "$$p(x)=\\sum_{k=0}^n a_k x^k$$\n",
    "-  Tenga un método `__call__` que dado una entrada escalar devuelva el valor del polinomio.\n",
    "-  Tenga un método `deriva` que deriva el polinomio, cambiando la instancia clase a un orden menos derivándolo a \n",
    "$$p'(x)=\\sum_{k=1}^n ka_k x^{k-1}$$\n",
    "- Tenga un método que "
   ]
  },
  {
   "cell_type": "code",
   "execution_count": 116,
   "metadata": {},
   "outputs": [
    {
     "data": {
      "text/plain": [
       "array([1, 2, 2, 2, 2, 2])"
      ]
     },
     "execution_count": 116,
     "metadata": {},
     "output_type": "execute_result"
    }
   ],
   "source": [
    "np.hstack((1,np.repeat(2,5)))"
   ]
  },
  {
   "cell_type": "code",
   "execution_count": 117,
   "metadata": {},
   "outputs": [
    {
     "data": {
      "text/plain": [
       "array([ 1,  2,  4,  8, 16, 32])"
      ]
     },
     "execution_count": 117,
     "metadata": {},
     "output_type": "execute_result"
    }
   ],
   "source": [
    "np.cumprod(np.hstack((1,np.repeat(2,5))))"
   ]
  },
  {
   "cell_type": "code",
   "execution_count": 118,
   "metadata": {
    "collapsed": true
   },
   "outputs": [],
   "source": [
    "class polinomio():\n",
    "    def __init__(self,n):\n",
    "        self.n=n\n",
    "        self.coefs=None\n",
    "        \n",
    "    def set_coef(self,listan):\n",
    "        assert len(listan)==(self.n+1),' El número de coeficientes no es correcto'\n",
    "        self.coefs=listan\n",
    "        \n",
    "    def __call__(self,x):\n",
    "        assert self.coefs!=None, ' No hay coeficientes definidos'\n",
    "        import numpy as np\n",
    "        xx=np.cumprod(np.hstack((1,np.repeat(x,self.n))))            \n",
    "       \n",
    "        return np.dot(xx,self.coefs)\n",
    "    def deriva(self):\n",
    "        n=self.n\n",
    "        self.n=self.n-1\n",
    "        listacoefs=self.coefs[1:]\n",
    "        self.coefs=np.arange(1,n+1)*listacoefs        "
   ]
  },
  {
   "cell_type": "code",
   "execution_count": 119,
   "metadata": {
    "collapsed": true
   },
   "outputs": [],
   "source": [
    "pol=polinomio(4)\n",
    "pol.set_coef([1,0,5,7,8])"
   ]
  },
  {
   "cell_type": "code",
   "execution_count": 120,
   "metadata": {},
   "outputs": [
    {
     "data": {
      "text/plain": [
       "4"
      ]
     },
     "execution_count": 120,
     "metadata": {},
     "output_type": "execute_result"
    }
   ],
   "source": [
    "pol.n"
   ]
  },
  {
   "cell_type": "code",
   "execution_count": 121,
   "metadata": {},
   "outputs": [
    {
     "data": {
      "text/plain": [
       "([1, 0, 5, 7, 8], [0, 5, 7, 8])"
      ]
     },
     "execution_count": 121,
     "metadata": {},
     "output_type": "execute_result"
    }
   ],
   "source": [
    "pol.coefs, pol.coefs[1:]"
   ]
  },
  {
   "cell_type": "code",
   "execution_count": 122,
   "metadata": {},
   "outputs": [
    {
     "data": {
      "text/plain": [
       "883"
      ]
     },
     "execution_count": 122,
     "metadata": {},
     "output_type": "execute_result"
    }
   ],
   "source": [
    "pol(3)"
   ]
  },
  {
   "cell_type": "code",
   "execution_count": 123,
   "metadata": {
    "collapsed": true
   },
   "outputs": [],
   "source": [
    "pol.deriva()"
   ]
  },
  {
   "cell_type": "code",
   "execution_count": 124,
   "metadata": {},
   "outputs": [
    {
     "data": {
      "text/plain": [
       "(3, array([ 0, 10, 21, 32]))"
      ]
     },
     "execution_count": 124,
     "metadata": {},
     "output_type": "execute_result"
    }
   ],
   "source": [
    "pol.n,pol.coefs"
   ]
  },
  {
   "cell_type": "code",
   "execution_count": 125,
   "metadata": {
    "collapsed": true
   },
   "outputs": [],
   "source": [
    "pol.deriva()"
   ]
  },
  {
   "cell_type": "code",
   "execution_count": 126,
   "metadata": {},
   "outputs": [
    {
     "data": {
      "text/plain": [
       "(2, array([10, 42, 96]))"
      ]
     },
     "execution_count": 126,
     "metadata": {},
     "output_type": "execute_result"
    }
   ],
   "source": [
    "pol.n,pol.coefs"
   ]
  },
  {
   "cell_type": "markdown",
   "metadata": {},
   "source": [
    "# Generadores de números aleatorios\n",
    "\n",
    "https://docs.scipy.org/doc/numpy/reference/routines.random.html\n"
   ]
  },
  {
   "cell_type": "code",
   "execution_count": 127,
   "metadata": {},
   "outputs": [
    {
     "data": {
      "text/plain": [
       "array([  0.        ,   1.66666667,   3.33333333,   5.        ,\n",
       "         6.66666667,   8.33333333,  10.        ])"
      ]
     },
     "execution_count": 127,
     "metadata": {},
     "output_type": "execute_result"
    }
   ],
   "source": [
    "x=np.linspace(0,10,7)\n",
    "x"
   ]
  },
  {
   "cell_type": "code",
   "execution_count": 128,
   "metadata": {},
   "outputs": [
    {
     "data": {
      "text/plain": [
       "array([  3.33333333,   6.66666667,   1.66666667,   5.        ,\n",
       "        10.        ,   8.33333333,   0.        ])"
      ]
     },
     "execution_count": 128,
     "metadata": {},
     "output_type": "execute_result"
    }
   ],
   "source": [
    "np.random.shuffle(x) #barajamos el vector, se hace inplace\n",
    "x"
   ]
  },
  {
   "cell_type": "code",
   "execution_count": 129,
   "metadata": {},
   "outputs": [
    {
     "data": {
      "text/plain": [
       "array([[ 0.58381865,  0.35949598],\n",
       "       [ 0.18117372,  0.17061965],\n",
       "       [ 0.54481785,  0.77835162]])"
      ]
     },
     "execution_count": 129,
     "metadata": {},
     "output_type": "execute_result"
    }
   ],
   "source": [
    "np.random.rand(3,2) #números aleatorios entre 0 y 1 uno con la dimensión indicada"
   ]
  },
  {
   "cell_type": "code",
   "execution_count": 130,
   "metadata": {},
   "outputs": [
    {
     "data": {
      "text/plain": [
       "array([[[-0.17481071,  2.18735033],\n",
       "        [ 0.67929765, -0.91187072]],\n",
       "\n",
       "       [[-1.20676712, -0.21279773],\n",
       "        [-0.76962441,  1.12643595]],\n",
       "\n",
       "       [[ 0.40699421, -0.38963857],\n",
       "        [-0.08078878, -0.54910822]],\n",
       "\n",
       "       [[-1.25081315, -0.74748589],\n",
       "        [ 0.78666492,  1.35111864]]])"
      ]
     },
     "execution_count": 130,
     "metadata": {},
     "output_type": "execute_result"
    }
   ],
   "source": [
    "np.random.randn(4,2,2) #números aleatorios generados por la normal estándar N(0,1) con la dimensión solicitada"
   ]
  },
  {
   "cell_type": "code",
   "execution_count": 131,
   "metadata": {},
   "outputs": [
    {
     "data": {
      "text/plain": [
       "array([18, 10, 19])"
      ]
     },
     "execution_count": 131,
     "metadata": {},
     "output_type": "execute_result"
    }
   ],
   "source": [
    "#números aleatorios enteros generados en un intervalo establecido con la dimensión solicitada\n",
    "np.random.randint(10,20,(3,))"
   ]
  },
  {
   "cell_type": "code",
   "execution_count": 132,
   "metadata": {},
   "outputs": [
    {
     "data": {
      "text/plain": [
       "array([3, 0, 1])"
      ]
     },
     "execution_count": 132,
     "metadata": {},
     "output_type": "execute_result"
    }
   ],
   "source": [
    "#3 números enteros elegidos aleatoriamente entre 0 y 4 incluyendo extremos\n",
    "np.random.choice(5, 3)"
   ]
  },
  {
   "cell_type": "code",
   "execution_count": 133,
   "metadata": {},
   "outputs": [
    {
     "data": {
      "text/plain": [
       "array([3, 0, 2])"
      ]
     },
     "execution_count": 133,
     "metadata": {},
     "output_type": "execute_result"
    }
   ],
   "source": [
    "#igual que el anterior pero con probabilidades asignadas a cada númeroÇ\n",
    "np.random.choice(5, 3, p=[0.2, 0, 0.3, 0.5, 0])"
   ]
  },
  {
   "cell_type": "code",
   "execution_count": 134,
   "metadata": {},
   "outputs": [
    {
     "data": {
      "text/plain": [
       "array([7, 2, 6, 4, 3])"
      ]
     },
     "execution_count": 134,
     "metadata": {},
     "output_type": "execute_result"
    }
   ],
   "source": [
    "#3 números enteros hasta el 9 seleccionados SIN reemplazamiento\n",
    "np.random.choice(10, 5, replace=False)"
   ]
  },
  {
   "cell_type": "code",
   "execution_count": 135,
   "metadata": {},
   "outputs": [
    {
     "data": {
      "text/plain": [
       "array(['pooh', 'pooh', 'pooh', 'rabbit', 'rabbit'],\n",
       "      dtype='<U11')"
      ]
     },
     "execution_count": 135,
     "metadata": {},
     "output_type": "execute_result"
    }
   ],
   "source": [
    "#5 muestras  de un array dado junto a sus probabilidades\n",
    "aa_milne_arr = ['pooh', 'rabbit', 'piglet', 'Christopher']\n",
    "np.random.choice(aa_milne_arr, 5, p=[0.5, 0.1, 0.1, 0.3])"
   ]
  },
  {
   "cell_type": "code",
   "execution_count": 136,
   "metadata": {},
   "outputs": [
    {
     "name": "stdout",
     "output_type": "stream",
     "text": [
      "[5 0 3 3 7]\n",
      "[5 0 3 3 7]\n",
      "[5 0 3 3 7]\n",
      "[5 0 3 3 7]\n"
     ]
    }
   ],
   "source": [
    "#np.random.seed(0)sirve para crear resultados reproducibles en el entrenamiento de modelos\n",
    "for k in range(4):\n",
    "    np.random.seed(0) \n",
    "    print(np.random.choice(10,5))"
   ]
  },
  {
   "cell_type": "code",
   "execution_count": 137,
   "metadata": {},
   "outputs": [
    {
     "name": "stdout",
     "output_type": "stream",
     "text": [
      "[9 3 5 2 4]\n",
      "[7 6 8 8 1]\n",
      "[6 7 7 8 1]\n",
      "[5 9 8 9 4]\n"
     ]
    }
   ],
   "source": [
    "#observamos que sin random.seed los valores son distintos, además no lo recuerda del apartado anterior\n",
    "for k in range(4):\n",
    "    print(np.random.choice(10,5))"
   ]
  },
  {
   "cell_type": "markdown",
   "metadata": {},
   "source": [
    "## ACTIVIDAD\n",
    "\n",
    "**En todo el ejercicio se debe usar `np.random.seed(0)`para obtener resultados iguales**\n",
    "1. Usando `np.random.rand` , crea una matriz 4x5 que tenga números aleatoriamente repartidos en el intervalo $[\\pi,10]$. Da el valor máximo  por columnas así como en qué posiciones del array se tienen.\n",
    "2. Crea otra  matriz M con dimensión 50x200 con los mismos valores.\n",
    "A continuación define una función que realize la siguiente operación usando bucles, haz otra función que sólo use funciones numpy. \n",
    "        Resta a las columnas el vector que indica la fila de cada posición. Eleva el vector resultante al cuadrado y multiplícalo por filas. Haz la media del vector columna resultante.\n",
    "        \n",
    "Vamos a medir la diferencia de tiempo realizando la operación en ambos casos con `%timeit`, calculando el ratio entre los dos tiempos. Nuestro interés es observar la eficiencia del uso de las operaciones vectorizadas en `numpy`. **Recordamos que dichas operaciones trabajan a bajo nivel y de modo paralelo, lo que las hacen mucho más eficientes que la construcción de bucles**"
   ]
  },
  {
   "cell_type": "code",
   "execution_count": 138,
   "metadata": {},
   "outputs": [
    {
     "data": {
      "text/plain": [
       "array([[ 6.90557922,  8.04665266,  7.27558942,  6.87862348,  6.04718984],\n",
       "       [ 7.57139758,  6.142744  ,  9.25773515,  9.75078441,  5.77139078],\n",
       "       [ 8.57156547,  6.76896946,  7.03747364,  9.48971144,  3.62878688],\n",
       "       [ 3.73916088,  3.28025866,  8.85203872,  8.47850863,  9.10849036]])"
      ]
     },
     "execution_count": 138,
     "metadata": {},
     "output_type": "execute_result"
    }
   ],
   "source": [
    "#apartado 1\n",
    "np.random.seed(0)\n",
    "A=np.pi+(10-np.pi)*np.random.rand(4,5)\n",
    "A"
   ]
  },
  {
   "cell_type": "code",
   "execution_count": 139,
   "metadata": {},
   "outputs": [
    {
     "data": {
      "text/plain": [
       "array([ 8.57156547,  8.04665266,  9.25773515,  9.75078441,  9.10849036])"
      ]
     },
     "execution_count": 139,
     "metadata": {},
     "output_type": "execute_result"
    }
   ],
   "source": [
    "np.max(A,axis=0)"
   ]
  },
  {
   "cell_type": "code",
   "execution_count": 140,
   "metadata": {},
   "outputs": [
    {
     "data": {
      "text/plain": [
       "array([2, 0, 1, 1, 3])"
      ]
     },
     "execution_count": 140,
     "metadata": {},
     "output_type": "execute_result"
    }
   ],
   "source": [
    "np.argmax(A,axis=0)"
   ]
  },
  {
   "cell_type": "markdown",
   "metadata": {},
   "source": [
    "Por tanto las posiciones del array en los que se tienen los máximos por columnas son (2,0),(0,1),(1,2),(1,3),(3,3)"
   ]
  },
  {
   "cell_type": "code",
   "execution_count": 141,
   "metadata": {
    "collapsed": true
   },
   "outputs": [],
   "source": [
    "#apartado 2\n",
    "np.random.seed(0)\n",
    "M=np.pi+(10-np.pi)*np.random.rand(50,200)\n",
    "\n",
    "m,n=M.shape"
   ]
  },
  {
   "cell_type": "code",
   "execution_count": 142,
   "metadata": {
    "collapsed": true
   },
   "outputs": [],
   "source": [
    "def operabucle(M):\n",
    "    import numpy as np\n",
    "    m,n=M.shape\n",
    "    res=np.arange(0,n)\n",
    "    S=(M-res)**2\n",
    "    v=np.zeros(m)\n",
    "    for i in range(m):\n",
    "        c=0\n",
    "        for j in range(n):\n",
    "            c*=S[i,j]\n",
    "        v[i]=c\n",
    "    d=0\n",
    "    for i in range(m):\n",
    "        d+=v[i]\n",
    "    return d /m   "
   ]
  },
  {
   "cell_type": "code",
   "execution_count": 143,
   "metadata": {},
   "outputs": [
    {
     "name": "stdout",
     "output_type": "stream",
     "text": [
      "1000 loops, best of 3: 1.51 ms per loop\n"
     ]
    }
   ],
   "source": [
    "%timeit operabucle(M)"
   ]
  },
  {
   "cell_type": "code",
   "execution_count": 144,
   "metadata": {
    "collapsed": true
   },
   "outputs": [],
   "source": [
    "def operanp(M):\n",
    "    import numpy as np\n",
    "    m,n=M.shape\n",
    "    return np.mean(np.prod((M-np.arange(0,n))**2,axis=1))"
   ]
  },
  {
   "cell_type": "code",
   "execution_count": 145,
   "metadata": {},
   "outputs": [
    {
     "name": "stdout",
     "output_type": "stream",
     "text": [
      "10000 loops, best of 3: 34.6 µs per loop\n"
     ]
    }
   ],
   "source": [
    "%timeit operanp(M)"
   ]
  },
  {
   "cell_type": "code",
   "execution_count": 146,
   "metadata": {},
   "outputs": [
    {
     "data": {
      "text/plain": [
       "42.810457516339866"
      ]
     },
     "execution_count": 146,
     "metadata": {},
     "output_type": "execute_result"
    }
   ],
   "source": [
    "1.31*10**3/30.6 #es 42 veces más rápido"
   ]
  },
  {
   "cell_type": "markdown",
   "metadata": {},
   "source": [
    "# ACTIVIDAD\n",
    "\n",
    "Define una función que haga un **random walk**"
   ]
  }
 ],
 "metadata": {
  "anaconda-cloud": {},
  "hide_input": false,
  "kernelspec": {
   "display_name": "Python [conda root]",
   "language": "python",
   "name": "conda-root-py"
  },
  "language_info": {
   "codemirror_mode": {
    "name": "ipython",
    "version": 3
   },
   "file_extension": ".py",
   "mimetype": "text/x-python",
   "name": "python",
   "nbconvert_exporter": "python",
   "pygments_lexer": "ipython3",
   "version": "3.5.3"
  },
  "toc": {
   "colors": {
    "hover_highlight": "#DAA520",
    "navigate_num": "#000000",
    "navigate_text": "#333333",
    "running_highlight": "#FF0000",
    "selected_highlight": "#FFD700",
    "sidebar_border": "#EEEEEE",
    "wrapper_background": "#FFFFFF"
   },
   "moveMenuLeft": true,
   "nav_menu": {
    "height": "405px",
    "width": "252px"
   },
   "navigate_menu": true,
   "number_sections": true,
   "sideBar": true,
   "threshold": 4,
   "toc_cell": false,
   "toc_section_display": "block",
   "toc_window_display": false,
   "widenNotebook": false
  }
 },
 "nbformat": 4,
 "nbformat_minor": 1
}
