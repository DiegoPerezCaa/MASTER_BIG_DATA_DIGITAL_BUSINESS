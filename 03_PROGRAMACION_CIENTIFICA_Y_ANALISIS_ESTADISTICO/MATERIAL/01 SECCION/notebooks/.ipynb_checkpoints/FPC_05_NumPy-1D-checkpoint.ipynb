{
 "cells": [
  {
   "cell_type": "markdown",
   "metadata": {},
   "source": [
    "# Usando arrays de Numpy unidimensionales"
   ]
  },
  {
   "cell_type": "markdown",
   "metadata": {},
   "source": [
    "## ¿Qué es Numpy? "
   ]
  },
  {
   "cell_type": "markdown",
   "metadata": {},
   "source": [
    "Numerical Python (NumPy) es una librería de Python que proporciona una rápida y espacialmente eficiente estructura de datos: los <code>ndarray</code>, que son estructuras array **homogéneas**, indexadas por enteros.\n",
    "La documentación oficial está  <a href=\"http://www.numpy.org/\">aquí</a>."
   ]
  },
  {
   "cell_type": "markdown",
   "metadata": {},
   "source": [
    "## Creando arrays"
   ]
  },
  {
   "cell_type": "markdown",
   "metadata": {},
   "source": [
    "Se pueden crear arrays vacíos. Simplemente importa numpy y usa los siguientes constructores:\n",
    "<code>array</code>, <code>arange</code>, <code>ones</code>, <code>zeros</code> or <code>empty</code>. "
   ]
  },
  {
   "cell_type": "code",
   "execution_count": 1,
   "metadata": {
    "collapsed": false
   },
   "outputs": [
    {
     "name": "stdout",
     "output_type": "stream",
     "text": [
      "[10  5  6  8 -2]\n",
      "[10  5  6  9 -2]\n"
     ]
    }
   ],
   "source": [
    "import numpy as np # np es la abreviatura común\n",
    "# podemos crear arrays de cualquier objeto secuencia en python:\n",
    "L = [10, 5, 6, 8, -2]\n",
    "T = (10, 5, 6, 9, -2)\n",
    "a = np.array(L)\n",
    "b = np.array(T)\n",
    "print(a)\n",
    "print(b)\n"
   ]
  },
  {
   "cell_type": "code",
   "execution_count": 2,
   "metadata": {
    "collapsed": false
   },
   "outputs": [
    {
     "data": {
      "text/plain": [
       "array([  1.27983416e-152,   3.62481975e+228,   1.90674120e-094,\n",
       "         1.17567371e+214,   9.09459774e+223,   1.67791841e+243,\n",
       "         7.20093000e+252,   2.93494587e+222,   1.03364647e-113,\n",
       "         1.49175550e+195])"
      ]
     },
     "execution_count": 2,
     "metadata": {},
     "output_type": "execute_result"
    }
   ],
   "source": [
    "# Si se crean con empty, los valores son aleatorios.\n",
    "nothing = np.empty(10)\n",
    "nothing"
   ]
  },
  {
   "cell_type": "markdown",
   "metadata": {},
   "source": [
    "Se pueden crear arrays con la longitud de otros arrays con <code>ones_like</code>."
   ]
  },
  {
   "cell_type": "code",
   "execution_count": 3,
   "metadata": {
    "collapsed": false
   },
   "outputs": [
    {
     "data": {
      "text/plain": [
       "array([1, 1, 1, 1, 1, 1, 1])"
      ]
     },
     "execution_count": 3,
     "metadata": {},
     "output_type": "execute_result"
    }
   ],
   "source": [
    "#Create an array of ones with the same lenght as this one:\n",
    "L = [2, 3, 4, 6, 4, 3, 2]\n",
    "b = np.ones(len(L))\n",
    "a = np.ones_like(L)\n",
    "a"
   ]
  },
  {
   "cell_type": "markdown",
   "metadata": {},
   "source": [
    "También se pueden crear con <code>arange</code>."
   ]
  },
  {
   "cell_type": "code",
   "execution_count": 4,
   "metadata": {
    "collapsed": false
   },
   "outputs": [
    {
     "data": {
      "text/plain": [
       "array([200, 202, 204, 206, 208, 210, 212, 214, 216, 218, 220, 222, 224,\n",
       "       226, 228, 230, 232, 234, 236, 238, 240, 242, 244, 246, 248, 250])"
      ]
     },
     "execution_count": 4,
     "metadata": {},
     "output_type": "execute_result"
    }
   ],
   "source": [
    "# creamos un array con pares \n",
    "# entre 200 y 250 incluyendo ambos\n",
    "a = np.arange(200, 251, 2)\n",
    "a"
   ]
  },
  {
   "cell_type": "markdown",
   "metadata": {},
   "source": [
    "La función <a href=\"http://docs.scipy.org/doc/numpy/reference/generated/numpy.linspace.html\">linspace</a> permite la cantidad de particiones a realizar:"
   ]
  },
  {
   "cell_type": "code",
   "execution_count": 5,
   "metadata": {
    "collapsed": false
   },
   "outputs": [
    {
     "data": {
      "text/plain": [
       "array([ 2.  ,  2.25,  2.5 ,  2.75,  3.  ])"
      ]
     },
     "execution_count": 5,
     "metadata": {},
     "output_type": "execute_result"
    }
   ],
   "source": [
    "np.linspace(2.0, 3.0, num=5)"
   ]
  },
  {
   "cell_type": "markdown",
   "metadata": {},
   "source": [
    "## Arrays tienen tipos"
   ]
  },
  {
   "cell_type": "markdown",
   "metadata": {},
   "source": [
    "El <code>dtype</code> es un atributo del array que devuelve el tipo de los elementos."
   ]
  },
  {
   "cell_type": "code",
   "execution_count": 8,
   "metadata": {
    "collapsed": false
   },
   "outputs": [
    {
     "name": "stdout",
     "output_type": "stream",
     "text": [
      "<class 'numpy.float64'>\n",
      "[ 1.  1.  1.  1.  1.]\n",
      "float64\n",
      "8\n"
     ]
    }
   ],
   "source": [
    "ones = np.ones(5)\n",
    "print(type(ones[0]))\n",
    "print(ones)\n",
    "print(ones.dtype)\n",
    "print(ones.itemsize)"
   ]
  },
  {
   "cell_type": "markdown",
   "metadata": {},
   "source": [
    "NumPy arrays tienen un tipo de elemneto único para todos sus valores."
   ]
  },
  {
   "cell_type": "code",
   "execution_count": 9,
   "metadata": {
    "collapsed": false
   },
   "outputs": [
    {
     "name": "stdout",
     "output_type": "stream",
     "text": [
      "float64\n"
     ]
    }
   ],
   "source": [
    "L = [1, 4.6, 5]\n",
    "a = np.array(L)\n",
    "print(a.dtype)"
   ]
  },
  {
   "cell_type": "markdown",
   "metadata": {},
   "source": [
    "Podemos **explícitamente** indicar qué tipo de dato queremos para el array,"
   ]
  },
  {
   "cell_type": "code",
   "execution_count": 10,
   "metadata": {
    "collapsed": false
   },
   "outputs": [
    {
     "name": "stdout",
     "output_type": "stream",
     "text": [
      "int32\n",
      "[1 4 5]\n"
     ]
    }
   ],
   "source": [
    "#qué ha pasado con estos números?\n",
    "L = [1, 4.6, 5]\n",
    "a = np.array(L, dtype=\"int32\")\n",
    "print(a.dtype)\n",
    "print(a)"
   ]
  },
  {
   "cell_type": "markdown",
   "metadata": {},
   "source": [
    "Los tipos de datos de NumPy no son los mismos que los standard de Python."
   ]
  },
  {
   "cell_type": "code",
   "execution_count": 12,
   "metadata": {
    "collapsed": false
   },
   "outputs": [
    {
     "name": "stdout",
     "output_type": "stream",
     "text": [
      "<U12\n"
     ]
    }
   ],
   "source": [
    "L = [\"this\", \"is\", \"an\", \"array555rrrr\"]\n",
    "a = np.array(L)\n",
    "print(a.dtype)\n",
    "#TODO: Ahora interpreta el tipo, lee la documentación de numpy para averiguarlo. "
   ]
  },
  {
   "cell_type": "markdown",
   "metadata": {},
   "source": [
    "Se puede convertir el tipo de array con el operador <code>as_type</code> ."
   ]
  },
  {
   "cell_type": "code",
   "execution_count": 13,
   "metadata": {
    "collapsed": false
   },
   "outputs": [
    {
     "name": "stdout",
     "output_type": "stream",
     "text": [
      "[5 4 3]\n",
      "['23' '12' 'NaN' '32' '10']\n"
     ]
    },
    {
     "ename": "ValueError",
     "evalue": "invalid literal for int() with base 10: 'NaN'",
     "output_type": "error",
     "traceback": [
      "\u001b[1;31m---------------------------------------------------------------------------\u001b[0m",
      "\u001b[1;31mValueError\u001b[0m                                Traceback (most recent call last)",
      "\u001b[1;32m<ipython-input-13-26a918394700>\u001b[0m in \u001b[0;36m<module>\u001b[1;34m()\u001b[0m\n\u001b[0;32m      7\u001b[0m \u001b[0ma\u001b[0m \u001b[1;33m=\u001b[0m \u001b[0mnp\u001b[0m\u001b[1;33m.\u001b[0m\u001b[0marray\u001b[0m\u001b[1;33m(\u001b[0m\u001b[1;33m[\u001b[0m\u001b[1;34m\"23\"\u001b[0m\u001b[1;33m,\u001b[0m \u001b[1;34m\"12\"\u001b[0m\u001b[1;33m,\u001b[0m \u001b[1;34m\"NaN\"\u001b[0m\u001b[1;33m,\u001b[0m \u001b[1;34m\"32\"\u001b[0m\u001b[1;33m,\u001b[0m \u001b[1;34m\"10\"\u001b[0m\u001b[1;33m]\u001b[0m\u001b[1;33m)\u001b[0m\u001b[1;33m\u001b[0m\u001b[0m\n\u001b[0;32m      8\u001b[0m \u001b[0mprint\u001b[0m\u001b[1;33m(\u001b[0m\u001b[0ma\u001b[0m\u001b[1;33m)\u001b[0m\u001b[1;33m\u001b[0m\u001b[0m\n\u001b[1;32m----> 9\u001b[1;33m \u001b[0mb\u001b[0m \u001b[1;33m=\u001b[0m \u001b[0ma\u001b[0m\u001b[1;33m.\u001b[0m\u001b[0mastype\u001b[0m\u001b[1;33m(\u001b[0m\u001b[0mnp\u001b[0m\u001b[1;33m.\u001b[0m\u001b[0mint32\u001b[0m\u001b[1;33m)\u001b[0m  \u001b[1;31m# intenta convertir a float.\u001b[0m\u001b[1;33m\u001b[0m\u001b[0m\n\u001b[0m\u001b[0;32m     10\u001b[0m \u001b[0mb\u001b[0m\u001b[1;33m\u001b[0m\u001b[0m\n",
      "\u001b[1;31mValueError\u001b[0m: invalid literal for int() with base 10: 'NaN'"
     ]
    }
   ],
   "source": [
    "#convertimos de float a int:\n",
    "a = np.array([5.7, 4.2, 3.0])\n",
    "b = a.astype(np.int32)\n",
    "print(b)\n",
    "\n",
    "# intenta convertir este array de strings a tipo int:\n",
    "a = np.array([\"23\", \"12\", \"NaN\", \"32\", \"10\"])\n",
    "print(a)\n",
    "b = a.astype(np.int32)  # intenta convertir a float. \n",
    "b"
   ]
  },
  {
   "cell_type": "markdown",
   "metadata": {},
   "source": [
    "## Vectorización"
   ]
  },
  {
   "cell_type": "markdown",
   "metadata": {},
   "source": [
    "En general, las operaciones de arrays con escalares son **vectorizadas**, es decir, se aplican a cada elemento."
   ]
  },
  {
   "cell_type": "code",
   "execution_count": 14,
   "metadata": {
    "collapsed": false
   },
   "outputs": [
    {
     "name": "stdout",
     "output_type": "stream",
     "text": [
      "[ 2.  2.  2.  2.  2.  2.  2.  2.  2.  2.]\n"
     ]
    }
   ],
   "source": [
    "x = np.ones(10)\n",
    "x = x*2\n",
    "print(x)"
   ]
  },
  {
   "cell_type": "markdown",
   "metadata": {},
   "source": [
    "Y si aplicamos la operación entre arrays de la misma dimensión (shape), se aplican elemento por elemento."
   ]
  },
  {
   "cell_type": "code",
   "execution_count": 15,
   "metadata": {
    "collapsed": false
   },
   "outputs": [
    {
     "data": {
      "text/plain": [
       "array([ 3.,  3.,  3.,  3.,  3.,  3.,  3.,  3.,  3.,  3.])"
      ]
     },
     "execution_count": 15,
     "metadata": {},
     "output_type": "execute_result"
    }
   ],
   "source": [
    "y = np.ones(10)\n",
    "y + x"
   ]
  },
  {
   "cell_type": "code",
   "execution_count": 16,
   "metadata": {
    "collapsed": false
   },
   "outputs": [
    {
     "ename": "ValueError",
     "evalue": "operands could not be broadcast together with shapes (10,) (5,) ",
     "output_type": "error",
     "traceback": [
      "\u001b[1;31m---------------------------------------------------------------------------\u001b[0m",
      "\u001b[1;31mValueError\u001b[0m                                Traceback (most recent call last)",
      "\u001b[1;32m<ipython-input-16-f19224c7f0bc>\u001b[0m in \u001b[0;36m<module>\u001b[1;34m()\u001b[0m\n\u001b[0;32m      1\u001b[0m \u001b[1;31m# para hacerlos elemento por elemento deben tener la misma dimensión :\u001b[0m\u001b[1;33m\u001b[0m\u001b[1;33m\u001b[0m\u001b[0m\n\u001b[0;32m      2\u001b[0m \u001b[0mz\u001b[0m \u001b[1;33m=\u001b[0m \u001b[0mnp\u001b[0m\u001b[1;33m.\u001b[0m\u001b[0mones\u001b[0m\u001b[1;33m(\u001b[0m\u001b[1;36m5\u001b[0m\u001b[1;33m)\u001b[0m\u001b[1;33m\u001b[0m\u001b[0m\n\u001b[1;32m----> 3\u001b[1;33m \u001b[0mx\u001b[0m \u001b[1;33m+\u001b[0m \u001b[0mz\u001b[0m\u001b[1;33m\u001b[0m\u001b[0m\n\u001b[0m",
      "\u001b[1;31mValueError\u001b[0m: operands could not be broadcast together with shapes (10,) (5,) "
     ]
    }
   ],
   "source": [
    "# para hacerlos elemento por elemento deben tener la misma dimensión :\n",
    "z = np.ones(5)\n",
    "x + z"
   ]
  },
  {
   "cell_type": "markdown",
   "metadata": {},
   "source": [
    "Ahora realizamos un ejercicio:"
   ]
  },
  {
   "cell_type": "code",
   "execution_count": 17,
   "metadata": {
    "collapsed": false,
    "scrolled": true
   },
   "outputs": [
    {
     "name": "stdout",
     "output_type": "stream",
     "text": [
      "[ 6.39017211  7.54365446  7.6720377   2.72199016  0.87506991  5.79070393\n",
      "  4.66395457  2.1848551   8.90643145  0.77511416  4.92594654  6.79726333\n",
      "  1.35339937  1.42259814  1.68769766  2.48568735  1.69901271  1.71194859\n",
      "  1.40598988  5.70783719]\n",
      "[  7.66820654   9.05238535   9.20644524   3.26638819   1.05008389\n",
      "   6.94884471   5.59674548   2.62182611  10.68771774   0.93013699\n",
      "   5.91113585   8.156716     1.62407924   1.70711777   2.02523719\n",
      "   2.98282482   2.03881525   2.05433831   1.68718786   6.84940463]\n"
     ]
    }
   ],
   "source": [
    "# crea un array de 20 números entre 5 y 10 usando la distribución Gamma, haz print y después \n",
    "#incrementa su valor en un 20%, para ello encuentra la función apropiada en la documentación de numpy\n",
    "\n",
    "shape, scale = 2., 2. # media y dispersión\n",
    "r = np.random.gamma(shape, scale, 20)\n",
    "print(r)\n",
    "r = r*1.2\n",
    "print(r)"
   ]
  },
  {
   "cell_type": "markdown",
   "metadata": {},
   "source": [
    "## Gráficos básicos"
   ]
  },
  {
   "cell_type": "markdown",
   "metadata": {},
   "source": [
    "Se puede usar matplotlib de manera natural. Vamos a generar números aleatorios primero."
   ]
  },
  {
   "cell_type": "code",
   "execution_count": 18,
   "metadata": {
    "collapsed": false
   },
   "outputs": [
    {
     "data": {
      "image/png": "[encoded data removed]",
      "text/plain": [
       "<matplotlib.figure.Figure at 0x290201dbd68>"
      ]
     },
     "metadata": {},
     "output_type": "display_data"
    }
   ],
   "source": [
    "import matplotlib.pyplot as plt\n",
    "%matplotlib inline\n",
    "#regenerar el array previo con 2000 elementos y dibújalo\n",
    "r = np.random.gamma(shape, scale, 2000)\n",
    "plt.plot(r);"
   ]
  },
  {
   "cell_type": "markdown",
   "metadata": {},
   "source": [
    "Para representar el histograma, necesitamos hacerlo de otro modo..."
   ]
  },
  {
   "cell_type": "code",
   "execution_count": 19,
   "metadata": {
    "collapsed": false
   },
   "outputs": [
    {
     "data": {
      "text/plain": [
       "(array([ 16.,  36.,  52.,  61.,  66.,  78.,  66.,  95.,  66.,  84.,  87.,\n",
       "         86.,  90.,  66.,  85.,  59.,  73.,  51.,  59.,  66.,  55.,  48.,\n",
       "         48.,  40.,  44.,  36.,  35.,  29.,  31.,  32.,  20.,  28.,  14.,\n",
       "          9.,  14.,  10.,  15.,  16.,  18.,   7.,   8.,   5.,  11.,  11.,\n",
       "          8.,   3.,  10.,   5.,   4.,   4.,   4.,   5.,   5.,   2.,   3.,\n",
       "          3.,   2.,   0.,   2.,   4.,   1.,   0.,   0.,   3.,   0.,   0.,\n",
       "          0.,   1.,   0.,   0.,   0.,   0.,   0.,   0.,   1.,   0.,   2.,\n",
       "          0.,   0.,   0.,   0.,   0.,   1.,   0.,   0.,   0.,   0.,   0.,\n",
       "          0.,   0.,   0.,   0.,   0.,   0.,   0.,   0.,   0.,   0.,   0.,\n",
       "          1.]), array([  0.03035195,   0.26222531,   0.49409867,   0.72597203,\n",
       "          0.9578454 ,   1.18971876,   1.42159212,   1.65346548,\n",
       "          1.88533884,   2.11721221,   2.34908557,   2.58095893,\n",
       "          2.81283229,   3.04470566,   3.27657902,   3.50845238,\n",
       "          3.74032574,   3.97219911,   4.20407247,   4.43594583,\n",
       "          4.66781919,   4.89969256,   5.13156592,   5.36343928,\n",
       "          5.59531264,   5.82718601,   6.05905937,   6.29093273,\n",
       "          6.52280609,   6.75467946,   6.98655282,   7.21842618,\n",
       "          7.45029954,   7.68217291,   7.91404627,   8.14591963,\n",
       "          8.37779299,   8.60966635,   8.84153972,   9.07341308,\n",
       "          9.30528644,   9.5371598 ,   9.76903317,  10.00090653,\n",
       "         10.23277989,  10.46465325,  10.69652662,  10.92839998,\n",
       "         11.16027334,  11.3921467 ,  11.62402007,  11.85589343,\n",
       "         12.08776679,  12.31964015,  12.55151352,  12.78338688,\n",
       "         13.01526024,  13.2471336 ,  13.47900697,  13.71088033,\n",
       "         13.94275369,  14.17462705,  14.40650042,  14.63837378,\n",
       "         14.87024714,  15.1021205 ,  15.33399386,  15.56586723,\n",
       "         15.79774059,  16.02961395,  16.26148731,  16.49336068,\n",
       "         16.72523404,  16.9571074 ,  17.18898076,  17.42085413,\n",
       "         17.65272749,  17.88460085,  18.11647421,  18.34834758,\n",
       "         18.58022094,  18.8120943 ,  19.04396766,  19.27584103,\n",
       "         19.50771439,  19.73958775,  19.97146111,  20.20333448,\n",
       "         20.43520784,  20.6670812 ,  20.89895456,  21.13082793,\n",
       "         21.36270129,  21.59457465,  21.82644801,  22.05832137,\n",
       "         22.29019474,  22.5220681 ,  22.75394146,  22.98581482,  23.21768819]), <a list of 100 Patch objects>)"
      ]
     },
     "execution_count": 19,
     "metadata": {},
     "output_type": "execute_result"
    },
    {
     "data": {
      "image/png": "[encoded data removed]",
      "text/plain": [
       "<matplotlib.figure.Figure at 0x29021c36828>"
      ]
     },
     "metadata": {},
     "output_type": "display_data"
    }
   ],
   "source": [
    "# TODO: Busca en la documentación de pyplot para saber cómo representar un histograma. \n",
    "# En particular, debes buscar qué significa \"bins\". \n",
    "plt.hist(r, bins=100)"
   ]
  },
  {
   "cell_type": "markdown",
   "metadata": {},
   "source": [
    "Comprueba si se parece a la distribución Gamma con los parámetros dados. "
   ]
  },
  {
   "cell_type": "markdown",
   "metadata": {},
   "source": [
    "## Indexando y creando subconjuntos"
   ]
  },
  {
   "cell_type": "markdown",
   "metadata": {},
   "source": [
    "Se puede indexar y cortar un numpy array como se hace con las listas de Python. Si asignas un valor a un subconjunto, se propaga poor todas las celdas del subconjunto."
   ]
  },
  {
   "cell_type": "code",
   "execution_count": 20,
   "metadata": {
    "collapsed": false
   },
   "outputs": [
    {
     "name": "stdout",
     "output_type": "stream",
     "text": [
      "[ 1.  1.  1.  1.  1.  1.  1.  1.  1.  1.]\n",
      "[ 1.  1.  1.  1.  1.  0.  0.  0.  0.  0.]\n"
     ]
    }
   ],
   "source": [
    "#crea un array de 10 unos, entonces selecciona la segunda mitad y convierte todos los elementos en 0\n",
    "o = np.ones(10)\n",
    "print(o)\n",
    "o[5:]=0\n",
    "print(o)"
   ]
  },
  {
   "cell_type": "markdown",
   "metadata": {},
   "source": [
    "Un aspecto muy importante del corte es que **crea representaciones, no copias**"
   ]
  },
  {
   "cell_type": "code",
   "execution_count": 21,
   "metadata": {
    "collapsed": false
   },
   "outputs": [
    {
     "name": "stdout",
     "output_type": "stream",
     "text": [
      "[ 1.  1.  0.  0.]\n",
      "[ 4.  4.  4.  4.]\n",
      "[ 1.  1.  1.  4.  4.  4.  4.  0.  0.  0.]\n",
      "[ 4.  4.  4.  4.]\n"
     ]
    }
   ],
   "source": [
    "# Crea una selección de los 4 elementos del medio en el array anterior y usa nuevas variables para referenciarlo.\n",
    "# después asigna el valor 2 a la nueva referencia y pinta el original.\n",
    "sl = o[3:7]\n",
    "print(sl)\n",
    "sl[:] = 4\n",
    "print(sl)\n",
    "z = sl.copy()\n",
    "print(o)\n",
    "print(z)"
   ]
  },
  {
   "cell_type": "markdown",
   "metadata": {},
   "source": [
    "## Arrays con booleanos"
   ]
  },
  {
   "cell_type": "markdown",
   "metadata": {},
   "source": [
    "Se pueden generar arrays con booleanos"
   ]
  },
  {
   "cell_type": "code",
   "execution_count": 22,
   "metadata": {
    "collapsed": false
   },
   "outputs": [
    {
     "name": "stdout",
     "output_type": "stream",
     "text": [
      "[ 6.9  8.   2.4  3.5  6.9  5.5  6.2  4.8  4.8  6.5  6.   3.1  5.4  5.3  5.8]\n",
      "[ 3.3  7.4  7.   6.8  7.1  7.   3.1  4.2  5.4  3.3  3.   4.4  7.4  0.8  3.7]\n"
     ]
    }
   ],
   "source": [
    "# Asigna puntuaciones de a 15 estudiantes de una clase con dos asignamientos\n",
    "# crea dos arrays con las puntuaciones usando la distribución normal \n",
    "assig1 = np.random.normal(5, 2, 15)\n",
    "assig2 = np.random.normal(5, 2, 15)\n",
    "\n",
    "#aproxima los valores al primer decimal. \n",
    "assig1 = assig1.round(1)\n",
    "assig2 = assig2.round(1)\n",
    "print(assig1)\n",
    "print(assig2)"
   ]
  },
  {
   "cell_type": "code",
   "execution_count": 23,
   "metadata": {
    "collapsed": false
   },
   "outputs": [
    {
     "data": {
      "text/plain": [
       "array([ True,  True, False, False,  True,  True,  True, False, False,\n",
       "        True,  True, False,  True,  True,  True], dtype=bool)"
      ]
     },
     "execution_count": 23,
     "metadata": {},
     "output_type": "execute_result"
    }
   ],
   "source": [
    "assig1 >= 5"
   ]
  },
  {
   "cell_type": "code",
   "execution_count": 26,
   "metadata": {
    "collapsed": false
   },
   "outputs": [
    {
     "name": "stdout",
     "output_type": "stream",
     "text": [
      "[ True  True False False  True  True  True False False  True  True False\n",
      "  True  True  True]\n",
      "[ 5.1   7.7   7.    6.25  4.65  4.9   4.5   6.4   3.05  4.75]\n"
     ]
    }
   ],
   "source": [
    "# ahora pensemos que sólo los estudiantes que superan el primer examen hacen el segundo\n",
    "# obtén un array booleano de los alumnos que superan el primer examen. \n",
    "passed1 = assig1 >= 5.0\n",
    "print(passed1)\n",
    "\n",
    "# ahora obtén la media de los dos exámenes para aquellos alumnos que superan el primero sólo.\n",
    "print(((assig2+assig1)/2)[passed1])"
   ]
  },
  {
   "cell_type": "markdown",
   "metadata": {},
   "source": [
    "## Describiendo *ufuncs*"
   ]
  },
  {
   "cell_type": "markdown",
   "metadata": {},
   "source": [
    "Universal functions (ufuncs) son operaciones vectorizadas sobre numpy arraays. Vamos a exponer algunas funciones que están implementadas con ufuncs. La lista completa está en:  \n",
    "http://docs.scipy.org/doc/numpy/reference/ufuncs.html "
   ]
  },
  {
   "cell_type": "code",
   "execution_count": 30,
   "metadata": {
    "collapsed": false
   },
   "outputs": [
    {
     "name": "stdout",
     "output_type": "stream",
     "text": [
      "50\n"
     ]
    },
    {
     "data": {
      "image/png": "[encoded data removed]",
      "text/plain": [
       "<matplotlib.figure.Figure at 0x29021e1c240>"
      ]
     },
     "metadata": {},
     "output_type": "display_data"
    }
   ],
   "source": [
    "import numpy as np\n",
    "# Crea un array con 50 elementos entre 1 y 100 usando linspace\n",
    "#mira en la documentación de la función con help(np.linspace)\n",
    "\n",
    "\n",
    "x = np.linspace(1, 100)\n",
    "print(len(x))\n",
    "\n",
    "# obtén el seno de cada uno de los puntos generados  y represéntalos\n",
    "y = np.sin(x)\n",
    "plt.plot(x,y);"
   ]
  },
  {
   "cell_type": "markdown",
   "metadata": {},
   "source": [
    "Se pueden representar diversas curvas en el mismo dibujo"
   ]
  },
  {
   "cell_type": "code",
   "execution_count": 31,
   "metadata": {
    "collapsed": false
   },
   "outputs": [
    {
     "data": {
      "image/png": "[encoded data removed]",
      "text/plain": [
       "<matplotlib.figure.Figure at 0x29021f00e48>"
      ]
     },
     "metadata": {},
     "output_type": "display_data"
    }
   ],
   "source": [
    "# TODO: Plot the same as above, plus the square of the sin values. \n",
    "# Look in the docs how you can pass more than one array to plot, and how to draw the second \n",
    "# with a different color, e.g. red.\n",
    "plt.plot(x, y, x, y**2, 'r-^');"
   ]
  },
  {
   "cell_type": "markdown",
   "metadata": {},
   "source": [
    "También se pueden generar puntos aleatorios y hacer un scatterplot."
   ]
  },
  {
   "cell_type": "code",
   "execution_count": 32,
   "metadata": {
    "collapsed": false
   },
   "outputs": [
    {
     "data": {
      "image/png": "[encoded data removed]",
      "text/plain": [
       "<matplotlib.figure.Figure at 0x29021d90278>"
      ]
     },
     "metadata": {},
     "output_type": "display_data"
    }
   ],
   "source": [
    "#generar dos arrays del mismo tamaño usando un genreador aleatorio con la función gamma\n",
    "a = np.random.gamma(3,2, 100)\n",
    "b = np.random.gamma(3,2, 100)\n",
    "\n",
    "# dibujar los dos arrays con un scatterplot\n",
    "plt.scatter(a,b);"
   ]
  },
  {
   "cell_type": "markdown",
   "metadata": {
    "collapsed": false
   },
   "source": [
    "Medidas descriptivas estadísticas también están implementadas."
   ]
  },
  {
   "cell_type": "code",
   "execution_count": 33,
   "metadata": {
    "collapsed": false
   },
   "outputs": [
    {
     "data": {
      "text/plain": [
       "5.8659311352587018"
      ]
     },
     "execution_count": 33,
     "metadata": {},
     "output_type": "execute_result"
    }
   ],
   "source": [
    "b.mean()"
   ]
  },
  {
   "cell_type": "code",
   "execution_count": 34,
   "metadata": {
    "collapsed": false
   },
   "outputs": [
    {
     "data": {
      "text/plain": [
       "array([ 3.24736417,  2.58753027,  1.86916674,  1.81038467,  1.85238433,\n",
       "        1.11591887,  2.51187058,  1.95225586,  1.74817199,  2.16794041,\n",
       "        1.23484403,  1.99281798,  2.13978642,  2.70330383,  2.16199368,\n",
       "        1.43753031,  2.27607838,  2.87389892,  0.94193208,  1.76527697,\n",
       "        2.74557406,  3.12438288,  1.22772756,  1.90923934,  2.17585687,\n",
       "        2.07151542,  3.08554846,  2.10785987,  1.77279777,  2.14290169,\n",
       "        2.71824682,  2.68328006,  1.8194522 ,  3.0804234 ,  2.34003675,\n",
       "        1.6599989 ,  3.08477   ,  1.34530352,  1.90054011,  1.43334224,\n",
       "        2.83280669,  1.63995383,  2.172675  ,  1.79256485,  4.51808237,\n",
       "        2.20414279,  2.14020921,  3.37583172,  1.91553247,  2.4580425 ,\n",
       "        3.72804769,  2.42452282,  3.14428006,  2.61422587,  2.58333538,\n",
       "        1.77101453,  2.01793683,  2.19455441,  1.45770279,  3.71533613,\n",
       "        2.51318363,  2.64425447,  2.47811204,  1.73349071,  2.1546625 ,\n",
       "        2.72417858,  1.95823552,  2.24496681,  0.92457984,  2.3450483 ,\n",
       "        2.20089341,  3.0093719 ,  2.891325  ,  2.77385557,  2.71894183,\n",
       "        1.55562875,  2.43781955,  0.89647189,  1.70621962,  1.24595357,\n",
       "        1.94325612,  3.65085208,  1.65516362,  1.40445792,  2.70603289,\n",
       "        3.4345441 ,  2.21385298,  4.41118004,  2.54604053,  1.31011961,\n",
       "        3.16373928,  2.26084793,  3.4389546 ,  1.23195795,  3.31627629,\n",
       "        2.20103406,  2.40232279,  2.61484918,  3.1918231 ,  3.25882513])"
      ]
     },
     "execution_count": 34,
     "metadata": {},
     "output_type": "execute_result"
    }
   ],
   "source": [
    "np.sqrt(b)"
   ]
  },
  {
   "cell_type": "markdown",
   "metadata": {},
   "source": [
    "Aquí hay una referencia de la documentación:\n",
    "http://wiki.scipy.org/Numpy_Example_List"
   ]
  }
 ],
 "metadata": {
  "anaconda-cloud": {},
  "kernelspec": {
   "display_name": "Python [default]",
   "language": "python",
   "name": "python3"
  },
  "language_info": {
   "codemirror_mode": {
    "name": "ipython",
    "version": 3
   },
   "file_extension": ".py",
   "mimetype": "text/x-python",
   "name": "python",
   "nbconvert_exporter": "python",
   "pygments_lexer": "ipython3",
   "version": "3.5.2"
  }
 },
 "nbformat": 4,
 "nbformat_minor": 0
}
