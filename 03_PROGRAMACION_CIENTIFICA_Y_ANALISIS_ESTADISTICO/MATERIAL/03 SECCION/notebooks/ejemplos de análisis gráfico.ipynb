{
 "cells": [
  {
   "cell_type": "markdown",
   "metadata": {},
   "source": [
    "# EDA\n",
    "\n",
    "Exploramos el dataset de 2008 en http://stat-computing.org/dataexpo/2009/the-data.html"
   ]
  },
  {
   "cell_type": "code",
   "execution_count": 1,
   "metadata": {},
   "outputs": [
    {
     "name": "stdout",
     "output_type": "stream",
     "text": [
      "/home/infinitemonkeys/Documents/EOI Tenerife/Tema 1/Sección 3/notebooks\n"
     ]
    },
    {
     "data": {
      "text/plain": [
       "['2008.csv', '2008 (copy).xls']"
      ]
     },
     "execution_count": 1,
     "metadata": {},
     "output_type": "execute_result"
    }
   ],
   "source": [
    "import pandas as pd\n",
    "import os\n",
    "\n",
    "pd.options.display.max_columns = 1000\n",
    "pd.options.display.float_format = '{:,.3f}'.format\n",
    "\n",
    "DATA_FOLDER = 'data/'\n",
    "\n",
    "print(os.getcwd())\n",
    "LIST_DATA = os.listdir(DATA_FOLDER)\n",
    "LIST_DATA"
   ]
  },
  {
   "cell_type": "code",
   "execution_count": 2,
   "metadata": {},
   "outputs": [
    {
     "data": {
      "text/plain": [
       "['2008.csv']"
      ]
     },
     "execution_count": 2,
     "metadata": {},
     "output_type": "execute_result"
    }
   ],
   "source": [
    "CSV_LIST = [file for file in LIST_DATA if '.csv' in file]\n",
    "CSV_LIST = [file for file in LIST_DATA if file[-4:] == '.csv']\n",
    "CSV_LIST"
   ]
  },
  {
   "cell_type": "code",
   "execution_count": 3,
   "metadata": {},
   "outputs": [
    {
     "name": "stdout",
     "output_type": "stream",
     "text": [
      "Year,Month,DayofMonth,DayOfWeek,DepTime,CRSDepTime,ArrTime,CRSArrTime,UniqueCarrier,FlightNum,TailNum,ActualElapsedTime,CRSElapsedTime,AirTime,ArrDelay,DepDelay,Origin,Dest,Distance,TaxiIn,TaxiOut,Cancelled,CancellationCode,Diverted,CarrierDelay,WeatherDelay,NASDelay,SecurityDelay,LateAircraftDelay\r\n",
      "2008,1,3,4,2003,1955,2211,2225,WN,335,N712SW,128,150,116,-14,8,IAD,TPA,810,4,8,0,,0,NA,NA,NA,NA,NA\r\n"
     ]
    }
   ],
   "source": [
    "!head -n 2 data/2008.csv"
   ]
  },
  {
   "cell_type": "code",
   "execution_count": 4,
   "metadata": {
    "collapsed": true
   },
   "outputs": [],
   "source": [
    "df = pd.read_csv(DATA_FOLDER + LIST_DATA[0], \n",
    "                 na_values='nan')"
   ]
  },
  {
   "cell_type": "code",
   "execution_count": 5,
   "metadata": {},
   "outputs": [
    {
     "data": {
      "text/plain": [
       "(50000, 29)"
      ]
     },
     "execution_count": 5,
     "metadata": {},
     "output_type": "execute_result"
    }
   ],
   "source": [
    "df_reduced = df.sample(n=50000)\n",
    "df_reduced.shape"
   ]
  },
  {
   "cell_type": "code",
   "execution_count": 6,
   "metadata": {
    "collapsed": true
   },
   "outputs": [],
   "source": [
    "df_reduced.to_csv('2008_reduced.csv', index=None)"
   ]
  },
  {
   "cell_type": "code",
   "execution_count": 7,
   "metadata": {},
   "outputs": [
    {
     "data": {
      "text/html": [
       "<div>\n",
       "<style>\n",
       "    .dataframe thead tr:only-child th {\n",
       "        text-align: right;\n",
       "    }\n",
       "\n",
       "    .dataframe thead th {\n",
       "        text-align: left;\n",
       "    }\n",
       "\n",
       "    .dataframe tbody tr th {\n",
       "        vertical-align: top;\n",
       "    }\n",
       "</style>\n",
       "<table border=\"1\" class=\"dataframe\">\n",
       "  <thead>\n",
       "    <tr style=\"text-align: right;\">\n",
       "      <th></th>\n",
       "      <th>Year</th>\n",
       "      <th>Month</th>\n",
       "      <th>DayofMonth</th>\n",
       "      <th>DayOfWeek</th>\n",
       "      <th>DepTime</th>\n",
       "      <th>CRSDepTime</th>\n",
       "      <th>ArrTime</th>\n",
       "      <th>CRSArrTime</th>\n",
       "      <th>UniqueCarrier</th>\n",
       "      <th>FlightNum</th>\n",
       "      <th>TailNum</th>\n",
       "      <th>ActualElapsedTime</th>\n",
       "      <th>CRSElapsedTime</th>\n",
       "      <th>AirTime</th>\n",
       "      <th>ArrDelay</th>\n",
       "      <th>DepDelay</th>\n",
       "      <th>Origin</th>\n",
       "      <th>Dest</th>\n",
       "      <th>Distance</th>\n",
       "      <th>TaxiIn</th>\n",
       "      <th>TaxiOut</th>\n",
       "      <th>Cancelled</th>\n",
       "      <th>CancellationCode</th>\n",
       "      <th>Diverted</th>\n",
       "      <th>CarrierDelay</th>\n",
       "      <th>WeatherDelay</th>\n",
       "      <th>NASDelay</th>\n",
       "      <th>SecurityDelay</th>\n",
       "      <th>LateAircraftDelay</th>\n",
       "    </tr>\n",
       "  </thead>\n",
       "  <tbody>\n",
       "    <tr>\n",
       "      <th>0</th>\n",
       "      <td>2008</td>\n",
       "      <td>8</td>\n",
       "      <td>13</td>\n",
       "      <td>3</td>\n",
       "      <td>1,130.000</td>\n",
       "      <td>1140</td>\n",
       "      <td>1,419.000</td>\n",
       "      <td>1428</td>\n",
       "      <td>XE</td>\n",
       "      <td>2625</td>\n",
       "      <td>N13914</td>\n",
       "      <td>109.000</td>\n",
       "      <td>108.000</td>\n",
       "      <td>90.000</td>\n",
       "      <td>-9.000</td>\n",
       "      <td>-10.000</td>\n",
       "      <td>BHM</td>\n",
       "      <td>CLE</td>\n",
       "      <td>604</td>\n",
       "      <td>7.000</td>\n",
       "      <td>12.000</td>\n",
       "      <td>0</td>\n",
       "      <td>NaN</td>\n",
       "      <td>0</td>\n",
       "      <td>nan</td>\n",
       "      <td>nan</td>\n",
       "      <td>nan</td>\n",
       "      <td>nan</td>\n",
       "      <td>nan</td>\n",
       "    </tr>\n",
       "    <tr>\n",
       "      <th>1</th>\n",
       "      <td>2008</td>\n",
       "      <td>11</td>\n",
       "      <td>7</td>\n",
       "      <td>5</td>\n",
       "      <td>1,355.000</td>\n",
       "      <td>1359</td>\n",
       "      <td>1,635.000</td>\n",
       "      <td>1623</td>\n",
       "      <td>FL</td>\n",
       "      <td>164</td>\n",
       "      <td>N337AT</td>\n",
       "      <td>160.000</td>\n",
       "      <td>144.000</td>\n",
       "      <td>139.000</td>\n",
       "      <td>12.000</td>\n",
       "      <td>-4.000</td>\n",
       "      <td>DTW</td>\n",
       "      <td>MCO</td>\n",
       "      <td>957</td>\n",
       "      <td>6.000</td>\n",
       "      <td>15.000</td>\n",
       "      <td>0</td>\n",
       "      <td>NaN</td>\n",
       "      <td>0</td>\n",
       "      <td>nan</td>\n",
       "      <td>nan</td>\n",
       "      <td>nan</td>\n",
       "      <td>nan</td>\n",
       "      <td>nan</td>\n",
       "    </tr>\n",
       "    <tr>\n",
       "      <th>2</th>\n",
       "      <td>2008</td>\n",
       "      <td>1</td>\n",
       "      <td>2</td>\n",
       "      <td>3</td>\n",
       "      <td>641.000</td>\n",
       "      <td>650</td>\n",
       "      <td>817.000</td>\n",
       "      <td>810</td>\n",
       "      <td>B6</td>\n",
       "      <td>242</td>\n",
       "      <td>N624JB</td>\n",
       "      <td>96.000</td>\n",
       "      <td>80.000</td>\n",
       "      <td>57.000</td>\n",
       "      <td>7.000</td>\n",
       "      <td>-9.000</td>\n",
       "      <td>LGB</td>\n",
       "      <td>OAK</td>\n",
       "      <td>353</td>\n",
       "      <td>4.000</td>\n",
       "      <td>35.000</td>\n",
       "      <td>0</td>\n",
       "      <td>NaN</td>\n",
       "      <td>0</td>\n",
       "      <td>nan</td>\n",
       "      <td>nan</td>\n",
       "      <td>nan</td>\n",
       "      <td>nan</td>\n",
       "      <td>nan</td>\n",
       "    </tr>\n",
       "    <tr>\n",
       "      <th>3</th>\n",
       "      <td>2008</td>\n",
       "      <td>3</td>\n",
       "      <td>8</td>\n",
       "      <td>6</td>\n",
       "      <td>957.000</td>\n",
       "      <td>952</td>\n",
       "      <td>1,128.000</td>\n",
       "      <td>1120</td>\n",
       "      <td>XE</td>\n",
       "      <td>2322</td>\n",
       "      <td>N11127</td>\n",
       "      <td>211.000</td>\n",
       "      <td>208.000</td>\n",
       "      <td>191.000</td>\n",
       "      <td>8.000</td>\n",
       "      <td>5.000</td>\n",
       "      <td>IAH</td>\n",
       "      <td>PSP</td>\n",
       "      <td>1269</td>\n",
       "      <td>5.000</td>\n",
       "      <td>15.000</td>\n",
       "      <td>0</td>\n",
       "      <td>NaN</td>\n",
       "      <td>0</td>\n",
       "      <td>nan</td>\n",
       "      <td>nan</td>\n",
       "      <td>nan</td>\n",
       "      <td>nan</td>\n",
       "      <td>nan</td>\n",
       "    </tr>\n",
       "    <tr>\n",
       "      <th>4</th>\n",
       "      <td>2008</td>\n",
       "      <td>4</td>\n",
       "      <td>26</td>\n",
       "      <td>6</td>\n",
       "      <td>550.000</td>\n",
       "      <td>600</td>\n",
       "      <td>603.000</td>\n",
       "      <td>626</td>\n",
       "      <td>YV</td>\n",
       "      <td>2773</td>\n",
       "      <td>N926LR</td>\n",
       "      <td>133.000</td>\n",
       "      <td>146.000</td>\n",
       "      <td>116.000</td>\n",
       "      <td>-23.000</td>\n",
       "      <td>-10.000</td>\n",
       "      <td>SAT</td>\n",
       "      <td>PHX</td>\n",
       "      <td>843</td>\n",
       "      <td>9.000</td>\n",
       "      <td>8.000</td>\n",
       "      <td>0</td>\n",
       "      <td>NaN</td>\n",
       "      <td>0</td>\n",
       "      <td>nan</td>\n",
       "      <td>nan</td>\n",
       "      <td>nan</td>\n",
       "      <td>nan</td>\n",
       "      <td>nan</td>\n",
       "    </tr>\n",
       "  </tbody>\n",
       "</table>\n",
       "</div>"
      ],
      "text/plain": [
       "   Year  Month  DayofMonth  DayOfWeek   DepTime  CRSDepTime   ArrTime  \\\n",
       "0  2008      8          13          3 1,130.000        1140 1,419.000   \n",
       "1  2008     11           7          5 1,355.000        1359 1,635.000   \n",
       "2  2008      1           2          3   641.000         650   817.000   \n",
       "3  2008      3           8          6   957.000         952 1,128.000   \n",
       "4  2008      4          26          6   550.000         600   603.000   \n",
       "\n",
       "   CRSArrTime UniqueCarrier  FlightNum TailNum  ActualElapsedTime  \\\n",
       "0        1428            XE       2625  N13914            109.000   \n",
       "1        1623            FL        164  N337AT            160.000   \n",
       "2         810            B6        242  N624JB             96.000   \n",
       "3        1120            XE       2322  N11127            211.000   \n",
       "4         626            YV       2773  N926LR            133.000   \n",
       "\n",
       "   CRSElapsedTime  AirTime  ArrDelay  DepDelay Origin Dest  Distance  TaxiIn  \\\n",
       "0         108.000   90.000    -9.000   -10.000    BHM  CLE       604   7.000   \n",
       "1         144.000  139.000    12.000    -4.000    DTW  MCO       957   6.000   \n",
       "2          80.000   57.000     7.000    -9.000    LGB  OAK       353   4.000   \n",
       "3         208.000  191.000     8.000     5.000    IAH  PSP      1269   5.000   \n",
       "4         146.000  116.000   -23.000   -10.000    SAT  PHX       843   9.000   \n",
       "\n",
       "   TaxiOut  Cancelled CancellationCode  Diverted  CarrierDelay  WeatherDelay  \\\n",
       "0   12.000          0              NaN         0           nan           nan   \n",
       "1   15.000          0              NaN         0           nan           nan   \n",
       "2   35.000          0              NaN         0           nan           nan   \n",
       "3   15.000          0              NaN         0           nan           nan   \n",
       "4    8.000          0              NaN         0           nan           nan   \n",
       "\n",
       "   NASDelay  SecurityDelay  LateAircraftDelay  \n",
       "0       nan            nan                nan  \n",
       "1       nan            nan                nan  \n",
       "2       nan            nan                nan  \n",
       "3       nan            nan                nan  \n",
       "4       nan            nan                nan  "
      ]
     },
     "execution_count": 7,
     "metadata": {},
     "output_type": "execute_result"
    }
   ],
   "source": [
    "pd.read_csv('2008_reduced.csv').head()"
   ]
  },
  {
   "cell_type": "code",
   "execution_count": 5,
   "metadata": {},
   "outputs": [
    {
     "data": {
      "text/html": [
       "<div>\n",
       "<style>\n",
       "    .dataframe thead tr:only-child th {\n",
       "        text-align: right;\n",
       "    }\n",
       "\n",
       "    .dataframe thead th {\n",
       "        text-align: left;\n",
       "    }\n",
       "\n",
       "    .dataframe tbody tr th {\n",
       "        vertical-align: top;\n",
       "    }\n",
       "</style>\n",
       "<table border=\"1\" class=\"dataframe\">\n",
       "  <thead>\n",
       "    <tr style=\"text-align: right;\">\n",
       "      <th></th>\n",
       "      <th>Year</th>\n",
       "      <th>Month</th>\n",
       "      <th>DayofMonth</th>\n",
       "      <th>DayOfWeek</th>\n",
       "      <th>DepTime</th>\n",
       "      <th>CRSDepTime</th>\n",
       "      <th>ArrTime</th>\n",
       "      <th>CRSArrTime</th>\n",
       "      <th>UniqueCarrier</th>\n",
       "      <th>FlightNum</th>\n",
       "      <th>TailNum</th>\n",
       "      <th>ActualElapsedTime</th>\n",
       "      <th>CRSElapsedTime</th>\n",
       "      <th>AirTime</th>\n",
       "      <th>ArrDelay</th>\n",
       "      <th>DepDelay</th>\n",
       "      <th>Origin</th>\n",
       "      <th>Dest</th>\n",
       "      <th>Distance</th>\n",
       "      <th>TaxiIn</th>\n",
       "      <th>TaxiOut</th>\n",
       "      <th>Cancelled</th>\n",
       "      <th>CancellationCode</th>\n",
       "      <th>Diverted</th>\n",
       "      <th>CarrierDelay</th>\n",
       "      <th>WeatherDelay</th>\n",
       "      <th>NASDelay</th>\n",
       "      <th>SecurityDelay</th>\n",
       "      <th>LateAircraftDelay</th>\n",
       "    </tr>\n",
       "  </thead>\n",
       "  <tbody>\n",
       "    <tr>\n",
       "      <th>0</th>\n",
       "      <td>2008</td>\n",
       "      <td>1</td>\n",
       "      <td>3</td>\n",
       "      <td>4</td>\n",
       "      <td>2,003.000</td>\n",
       "      <td>1955</td>\n",
       "      <td>2,211.000</td>\n",
       "      <td>2225</td>\n",
       "      <td>WN</td>\n",
       "      <td>335</td>\n",
       "      <td>N712SW</td>\n",
       "      <td>128.000</td>\n",
       "      <td>150.000</td>\n",
       "      <td>116.000</td>\n",
       "      <td>-14.000</td>\n",
       "      <td>8.000</td>\n",
       "      <td>IAD</td>\n",
       "      <td>TPA</td>\n",
       "      <td>810</td>\n",
       "      <td>4.000</td>\n",
       "      <td>8.000</td>\n",
       "      <td>0</td>\n",
       "      <td>NaN</td>\n",
       "      <td>0</td>\n",
       "      <td>nan</td>\n",
       "      <td>nan</td>\n",
       "      <td>nan</td>\n",
       "      <td>nan</td>\n",
       "      <td>nan</td>\n",
       "    </tr>\n",
       "    <tr>\n",
       "      <th>1</th>\n",
       "      <td>2008</td>\n",
       "      <td>1</td>\n",
       "      <td>3</td>\n",
       "      <td>4</td>\n",
       "      <td>754.000</td>\n",
       "      <td>735</td>\n",
       "      <td>1,002.000</td>\n",
       "      <td>1000</td>\n",
       "      <td>WN</td>\n",
       "      <td>3231</td>\n",
       "      <td>N772SW</td>\n",
       "      <td>128.000</td>\n",
       "      <td>145.000</td>\n",
       "      <td>113.000</td>\n",
       "      <td>2.000</td>\n",
       "      <td>19.000</td>\n",
       "      <td>IAD</td>\n",
       "      <td>TPA</td>\n",
       "      <td>810</td>\n",
       "      <td>5.000</td>\n",
       "      <td>10.000</td>\n",
       "      <td>0</td>\n",
       "      <td>NaN</td>\n",
       "      <td>0</td>\n",
       "      <td>nan</td>\n",
       "      <td>nan</td>\n",
       "      <td>nan</td>\n",
       "      <td>nan</td>\n",
       "      <td>nan</td>\n",
       "    </tr>\n",
       "    <tr>\n",
       "      <th>2</th>\n",
       "      <td>2008</td>\n",
       "      <td>1</td>\n",
       "      <td>3</td>\n",
       "      <td>4</td>\n",
       "      <td>628.000</td>\n",
       "      <td>620</td>\n",
       "      <td>804.000</td>\n",
       "      <td>750</td>\n",
       "      <td>WN</td>\n",
       "      <td>448</td>\n",
       "      <td>N428WN</td>\n",
       "      <td>96.000</td>\n",
       "      <td>90.000</td>\n",
       "      <td>76.000</td>\n",
       "      <td>14.000</td>\n",
       "      <td>8.000</td>\n",
       "      <td>IND</td>\n",
       "      <td>BWI</td>\n",
       "      <td>515</td>\n",
       "      <td>3.000</td>\n",
       "      <td>17.000</td>\n",
       "      <td>0</td>\n",
       "      <td>NaN</td>\n",
       "      <td>0</td>\n",
       "      <td>nan</td>\n",
       "      <td>nan</td>\n",
       "      <td>nan</td>\n",
       "      <td>nan</td>\n",
       "      <td>nan</td>\n",
       "    </tr>\n",
       "    <tr>\n",
       "      <th>3</th>\n",
       "      <td>2008</td>\n",
       "      <td>1</td>\n",
       "      <td>3</td>\n",
       "      <td>4</td>\n",
       "      <td>926.000</td>\n",
       "      <td>930</td>\n",
       "      <td>1,054.000</td>\n",
       "      <td>1100</td>\n",
       "      <td>WN</td>\n",
       "      <td>1746</td>\n",
       "      <td>N612SW</td>\n",
       "      <td>88.000</td>\n",
       "      <td>90.000</td>\n",
       "      <td>78.000</td>\n",
       "      <td>-6.000</td>\n",
       "      <td>-4.000</td>\n",
       "      <td>IND</td>\n",
       "      <td>BWI</td>\n",
       "      <td>515</td>\n",
       "      <td>3.000</td>\n",
       "      <td>7.000</td>\n",
       "      <td>0</td>\n",
       "      <td>NaN</td>\n",
       "      <td>0</td>\n",
       "      <td>nan</td>\n",
       "      <td>nan</td>\n",
       "      <td>nan</td>\n",
       "      <td>nan</td>\n",
       "      <td>nan</td>\n",
       "    </tr>\n",
       "    <tr>\n",
       "      <th>4</th>\n",
       "      <td>2008</td>\n",
       "      <td>1</td>\n",
       "      <td>3</td>\n",
       "      <td>4</td>\n",
       "      <td>1,829.000</td>\n",
       "      <td>1755</td>\n",
       "      <td>1,959.000</td>\n",
       "      <td>1925</td>\n",
       "      <td>WN</td>\n",
       "      <td>3920</td>\n",
       "      <td>N464WN</td>\n",
       "      <td>90.000</td>\n",
       "      <td>90.000</td>\n",
       "      <td>77.000</td>\n",
       "      <td>34.000</td>\n",
       "      <td>34.000</td>\n",
       "      <td>IND</td>\n",
       "      <td>BWI</td>\n",
       "      <td>515</td>\n",
       "      <td>3.000</td>\n",
       "      <td>10.000</td>\n",
       "      <td>0</td>\n",
       "      <td>NaN</td>\n",
       "      <td>0</td>\n",
       "      <td>2.000</td>\n",
       "      <td>0.000</td>\n",
       "      <td>0.000</td>\n",
       "      <td>0.000</td>\n",
       "      <td>32.000</td>\n",
       "    </tr>\n",
       "  </tbody>\n",
       "</table>\n",
       "</div>"
      ],
      "text/plain": [
       "   Year  Month  DayofMonth  DayOfWeek   DepTime  CRSDepTime   ArrTime  \\\n",
       "0  2008      1           3          4 2,003.000        1955 2,211.000   \n",
       "1  2008      1           3          4   754.000         735 1,002.000   \n",
       "2  2008      1           3          4   628.000         620   804.000   \n",
       "3  2008      1           3          4   926.000         930 1,054.000   \n",
       "4  2008      1           3          4 1,829.000        1755 1,959.000   \n",
       "\n",
       "   CRSArrTime UniqueCarrier  FlightNum TailNum  ActualElapsedTime  \\\n",
       "0        2225            WN        335  N712SW            128.000   \n",
       "1        1000            WN       3231  N772SW            128.000   \n",
       "2         750            WN        448  N428WN             96.000   \n",
       "3        1100            WN       1746  N612SW             88.000   \n",
       "4        1925            WN       3920  N464WN             90.000   \n",
       "\n",
       "   CRSElapsedTime  AirTime  ArrDelay  DepDelay Origin Dest  Distance  TaxiIn  \\\n",
       "0         150.000  116.000   -14.000     8.000    IAD  TPA       810   4.000   \n",
       "1         145.000  113.000     2.000    19.000    IAD  TPA       810   5.000   \n",
       "2          90.000   76.000    14.000     8.000    IND  BWI       515   3.000   \n",
       "3          90.000   78.000    -6.000    -4.000    IND  BWI       515   3.000   \n",
       "4          90.000   77.000    34.000    34.000    IND  BWI       515   3.000   \n",
       "\n",
       "   TaxiOut  Cancelled CancellationCode  Diverted  CarrierDelay  WeatherDelay  \\\n",
       "0    8.000          0              NaN         0           nan           nan   \n",
       "1   10.000          0              NaN         0           nan           nan   \n",
       "2   17.000          0              NaN         0           nan           nan   \n",
       "3    7.000          0              NaN         0           nan           nan   \n",
       "4   10.000          0              NaN         0         2.000         0.000   \n",
       "\n",
       "   NASDelay  SecurityDelay  LateAircraftDelay  \n",
       "0       nan            nan                nan  \n",
       "1       nan            nan                nan  \n",
       "2       nan            nan                nan  \n",
       "3       nan            nan                nan  \n",
       "4     0.000          0.000             32.000  "
      ]
     },
     "execution_count": 5,
     "metadata": {},
     "output_type": "execute_result"
    }
   ],
   "source": [
    "df.head(5)"
   ]
  },
  {
   "cell_type": "code",
   "execution_count": 6,
   "metadata": {},
   "outputs": [
    {
     "data": {
      "text/plain": [
       "(7009728, 29)"
      ]
     },
     "execution_count": 6,
     "metadata": {},
     "output_type": "execute_result"
    }
   ],
   "source": [
    "df.shape"
   ]
  },
  {
   "cell_type": "code",
   "execution_count": 7,
   "metadata": {},
   "outputs": [
    {
     "data": {
      "text/plain": [
       "Year                   int64\n",
       "Month                  int64\n",
       "DayofMonth             int64\n",
       "DayOfWeek              int64\n",
       "DepTime              float64\n",
       "CRSDepTime             int64\n",
       "ArrTime              float64\n",
       "CRSArrTime             int64\n",
       "UniqueCarrier         object\n",
       "FlightNum              int64\n",
       "TailNum               object\n",
       "ActualElapsedTime    float64\n",
       "CRSElapsedTime       float64\n",
       "AirTime              float64\n",
       "ArrDelay             float64\n",
       "DepDelay             float64\n",
       "Origin                object\n",
       "Dest                  object\n",
       "Distance               int64\n",
       "TaxiIn               float64\n",
       "TaxiOut              float64\n",
       "Cancelled              int64\n",
       "CancellationCode      object\n",
       "Diverted               int64\n",
       "CarrierDelay         float64\n",
       "WeatherDelay         float64\n",
       "NASDelay             float64\n",
       "SecurityDelay        float64\n",
       "LateAircraftDelay    float64\n",
       "dtype: object"
      ]
     },
     "execution_count": 7,
     "metadata": {},
     "output_type": "execute_result"
    }
   ],
   "source": [
    "df.dtypes"
   ]
  },
  {
   "cell_type": "code",
   "execution_count": 8,
   "metadata": {},
   "outputs": [
    {
     "data": {
      "text/plain": [
       "CancellationCode    98.039\n",
       "LateAircraftDelay   78.248\n",
       "SecurityDelay       78.248\n",
       "NASDelay            78.248\n",
       "WeatherDelay        78.248\n",
       "CarrierDelay        78.248\n",
       "ActualElapsedTime    2.207\n",
       "AirTime              2.207\n",
       "ArrDelay             2.207\n",
       "TaxiIn               2.163\n",
       "ArrTime              2.163\n",
       "TaxiOut              1.955\n",
       "DepDelay             1.944\n",
       "DepTime              1.944\n",
       "TailNum              1.189\n",
       "CRSElapsedTime       0.012\n",
       "CRSArrTime           0.000\n",
       "Month                0.000\n",
       "DayofMonth           0.000\n",
       "DayOfWeek            0.000\n",
       "CRSDepTime           0.000\n",
       "FlightNum            0.000\n",
       "UniqueCarrier        0.000\n",
       "Distance             0.000\n",
       "Diverted             0.000\n",
       "Cancelled            0.000\n",
       "Origin               0.000\n",
       "Dest                 0.000\n",
       "Year                 0.000\n",
       "dtype: float64"
      ]
     },
     "execution_count": 8,
     "metadata": {},
     "output_type": "execute_result"
    }
   ],
   "source": [
    "df.isnull().sum().div(df.shape[0]).mul(100).sort_values(ascending=False)"
   ]
  },
  {
   "cell_type": "code",
   "execution_count": 9,
   "metadata": {},
   "outputs": [
    {
     "data": {
      "text/html": [
       "<div>\n",
       "<style>\n",
       "    .dataframe thead tr:only-child th {\n",
       "        text-align: right;\n",
       "    }\n",
       "\n",
       "    .dataframe thead th {\n",
       "        text-align: left;\n",
       "    }\n",
       "\n",
       "    .dataframe tbody tr th {\n",
       "        vertical-align: top;\n",
       "    }\n",
       "</style>\n",
       "<table border=\"1\" class=\"dataframe\">\n",
       "  <thead>\n",
       "    <tr style=\"text-align: right;\">\n",
       "      <th></th>\n",
       "      <th>Year</th>\n",
       "      <th>Month</th>\n",
       "      <th>DayofMonth</th>\n",
       "      <th>DayOfWeek</th>\n",
       "      <th>DepTime</th>\n",
       "      <th>CRSDepTime</th>\n",
       "      <th>ArrTime</th>\n",
       "      <th>CRSArrTime</th>\n",
       "      <th>FlightNum</th>\n",
       "      <th>ActualElapsedTime</th>\n",
       "      <th>CRSElapsedTime</th>\n",
       "      <th>AirTime</th>\n",
       "      <th>ArrDelay</th>\n",
       "      <th>DepDelay</th>\n",
       "      <th>Distance</th>\n",
       "      <th>TaxiIn</th>\n",
       "      <th>TaxiOut</th>\n",
       "      <th>Cancelled</th>\n",
       "      <th>Diverted</th>\n",
       "      <th>CarrierDelay</th>\n",
       "      <th>WeatherDelay</th>\n",
       "      <th>NASDelay</th>\n",
       "      <th>SecurityDelay</th>\n",
       "      <th>LateAircraftDelay</th>\n",
       "    </tr>\n",
       "  </thead>\n",
       "  <tbody>\n",
       "    <tr>\n",
       "      <th>count</th>\n",
       "      <td>7,009,728.000</td>\n",
       "      <td>7,009,728.000</td>\n",
       "      <td>7,009,728.000</td>\n",
       "      <td>7,009,728.000</td>\n",
       "      <td>6,873,482.000</td>\n",
       "      <td>7,009,728.000</td>\n",
       "      <td>6,858,079.000</td>\n",
       "      <td>7,009,728.000</td>\n",
       "      <td>7,009,728.000</td>\n",
       "      <td>6,855,029.000</td>\n",
       "      <td>7,008,884.000</td>\n",
       "      <td>6,855,029.000</td>\n",
       "      <td>6,855,029.000</td>\n",
       "      <td>6,873,482.000</td>\n",
       "      <td>7,009,728.000</td>\n",
       "      <td>6,858,079.000</td>\n",
       "      <td>6,872,670.000</td>\n",
       "      <td>7,009,728.000</td>\n",
       "      <td>7,009,728.000</td>\n",
       "      <td>1,524,735.000</td>\n",
       "      <td>1,524,735.000</td>\n",
       "      <td>1,524,735.000</td>\n",
       "      <td>1,524,735.000</td>\n",
       "      <td>1,524,735.000</td>\n",
       "    </tr>\n",
       "    <tr>\n",
       "      <th>mean</th>\n",
       "      <td>2,008.000</td>\n",
       "      <td>6.375</td>\n",
       "      <td>15.728</td>\n",
       "      <td>3.924</td>\n",
       "      <td>1,333.830</td>\n",
       "      <td>1,326.086</td>\n",
       "      <td>1,481.258</td>\n",
       "      <td>1,494.801</td>\n",
       "      <td>2,224.200</td>\n",
       "      <td>127.322</td>\n",
       "      <td>128.867</td>\n",
       "      <td>104.019</td>\n",
       "      <td>8.168</td>\n",
       "      <td>9.973</td>\n",
       "      <td>726.387</td>\n",
       "      <td>6.861</td>\n",
       "      <td>16.453</td>\n",
       "      <td>0.020</td>\n",
       "      <td>0.002</td>\n",
       "      <td>15.772</td>\n",
       "      <td>3.039</td>\n",
       "      <td>17.165</td>\n",
       "      <td>0.075</td>\n",
       "      <td>20.771</td>\n",
       "    </tr>\n",
       "    <tr>\n",
       "      <th>std</th>\n",
       "      <td>0.000</td>\n",
       "      <td>3.407</td>\n",
       "      <td>8.797</td>\n",
       "      <td>1.988</td>\n",
       "      <td>478.069</td>\n",
       "      <td>464.251</td>\n",
       "      <td>505.225</td>\n",
       "      <td>482.673</td>\n",
       "      <td>1,961.716</td>\n",
       "      <td>70.187</td>\n",
       "      <td>69.410</td>\n",
       "      <td>67.440</td>\n",
       "      <td>38.502</td>\n",
       "      <td>35.311</td>\n",
       "      <td>562.102</td>\n",
       "      <td>4.934</td>\n",
       "      <td>11.333</td>\n",
       "      <td>0.139</td>\n",
       "      <td>0.050</td>\n",
       "      <td>40.099</td>\n",
       "      <td>19.503</td>\n",
       "      <td>31.895</td>\n",
       "      <td>1.838</td>\n",
       "      <td>39.260</td>\n",
       "    </tr>\n",
       "    <tr>\n",
       "      <th>min</th>\n",
       "      <td>2,008.000</td>\n",
       "      <td>1.000</td>\n",
       "      <td>1.000</td>\n",
       "      <td>1.000</td>\n",
       "      <td>1.000</td>\n",
       "      <td>0.000</td>\n",
       "      <td>1.000</td>\n",
       "      <td>0.000</td>\n",
       "      <td>1.000</td>\n",
       "      <td>12.000</td>\n",
       "      <td>-141.000</td>\n",
       "      <td>0.000</td>\n",
       "      <td>-519.000</td>\n",
       "      <td>-534.000</td>\n",
       "      <td>11.000</td>\n",
       "      <td>0.000</td>\n",
       "      <td>0.000</td>\n",
       "      <td>0.000</td>\n",
       "      <td>0.000</td>\n",
       "      <td>0.000</td>\n",
       "      <td>0.000</td>\n",
       "      <td>0.000</td>\n",
       "      <td>0.000</td>\n",
       "      <td>0.000</td>\n",
       "    </tr>\n",
       "    <tr>\n",
       "      <th>25%</th>\n",
       "      <td>2,008.000</td>\n",
       "      <td>3.000</td>\n",
       "      <td>8.000</td>\n",
       "      <td>2.000</td>\n",
       "      <td>928.000</td>\n",
       "      <td>925.000</td>\n",
       "      <td>1,107.000</td>\n",
       "      <td>1,115.000</td>\n",
       "      <td>622.000</td>\n",
       "      <td>77.000</td>\n",
       "      <td>80.000</td>\n",
       "      <td>55.000</td>\n",
       "      <td>-10.000</td>\n",
       "      <td>-4.000</td>\n",
       "      <td>325.000</td>\n",
       "      <td>4.000</td>\n",
       "      <td>10.000</td>\n",
       "      <td>0.000</td>\n",
       "      <td>0.000</td>\n",
       "      <td>0.000</td>\n",
       "      <td>0.000</td>\n",
       "      <td>0.000</td>\n",
       "      <td>0.000</td>\n",
       "      <td>0.000</td>\n",
       "    </tr>\n",
       "    <tr>\n",
       "      <th>50%</th>\n",
       "      <td>2,008.000</td>\n",
       "      <td>6.000</td>\n",
       "      <td>16.000</td>\n",
       "      <td>4.000</td>\n",
       "      <td>1,325.000</td>\n",
       "      <td>1,320.000</td>\n",
       "      <td>1,512.000</td>\n",
       "      <td>1,517.000</td>\n",
       "      <td>1,571.000</td>\n",
       "      <td>110.000</td>\n",
       "      <td>110.000</td>\n",
       "      <td>86.000</td>\n",
       "      <td>-2.000</td>\n",
       "      <td>-1.000</td>\n",
       "      <td>581.000</td>\n",
       "      <td>6.000</td>\n",
       "      <td>14.000</td>\n",
       "      <td>0.000</td>\n",
       "      <td>0.000</td>\n",
       "      <td>0.000</td>\n",
       "      <td>0.000</td>\n",
       "      <td>6.000</td>\n",
       "      <td>0.000</td>\n",
       "      <td>0.000</td>\n",
       "    </tr>\n",
       "    <tr>\n",
       "      <th>75%</th>\n",
       "      <td>2,008.000</td>\n",
       "      <td>9.000</td>\n",
       "      <td>23.000</td>\n",
       "      <td>6.000</td>\n",
       "      <td>1,728.000</td>\n",
       "      <td>1,715.000</td>\n",
       "      <td>1,909.000</td>\n",
       "      <td>1,907.000</td>\n",
       "      <td>3,518.000</td>\n",
       "      <td>157.000</td>\n",
       "      <td>159.000</td>\n",
       "      <td>132.000</td>\n",
       "      <td>12.000</td>\n",
       "      <td>8.000</td>\n",
       "      <td>954.000</td>\n",
       "      <td>8.000</td>\n",
       "      <td>19.000</td>\n",
       "      <td>0.000</td>\n",
       "      <td>0.000</td>\n",
       "      <td>16.000</td>\n",
       "      <td>0.000</td>\n",
       "      <td>21.000</td>\n",
       "      <td>0.000</td>\n",
       "      <td>26.000</td>\n",
       "    </tr>\n",
       "    <tr>\n",
       "      <th>max</th>\n",
       "      <td>2,008.000</td>\n",
       "      <td>12.000</td>\n",
       "      <td>31.000</td>\n",
       "      <td>7.000</td>\n",
       "      <td>2,400.000</td>\n",
       "      <td>2,359.000</td>\n",
       "      <td>2,400.000</td>\n",
       "      <td>2,400.000</td>\n",
       "      <td>9,743.000</td>\n",
       "      <td>1,379.000</td>\n",
       "      <td>1,435.000</td>\n",
       "      <td>1,350.000</td>\n",
       "      <td>2,461.000</td>\n",
       "      <td>2,467.000</td>\n",
       "      <td>4,962.000</td>\n",
       "      <td>308.000</td>\n",
       "      <td>429.000</td>\n",
       "      <td>1.000</td>\n",
       "      <td>1.000</td>\n",
       "      <td>2,436.000</td>\n",
       "      <td>1,352.000</td>\n",
       "      <td>1,357.000</td>\n",
       "      <td>392.000</td>\n",
       "      <td>1,316.000</td>\n",
       "    </tr>\n",
       "  </tbody>\n",
       "</table>\n",
       "</div>"
      ],
      "text/plain": [
       "               Year         Month    DayofMonth     DayOfWeek       DepTime  \\\n",
       "count 7,009,728.000 7,009,728.000 7,009,728.000 7,009,728.000 6,873,482.000   \n",
       "mean      2,008.000         6.375        15.728         3.924     1,333.830   \n",
       "std           0.000         3.407         8.797         1.988       478.069   \n",
       "min       2,008.000         1.000         1.000         1.000         1.000   \n",
       "25%       2,008.000         3.000         8.000         2.000       928.000   \n",
       "50%       2,008.000         6.000        16.000         4.000     1,325.000   \n",
       "75%       2,008.000         9.000        23.000         6.000     1,728.000   \n",
       "max       2,008.000        12.000        31.000         7.000     2,400.000   \n",
       "\n",
       "         CRSDepTime       ArrTime    CRSArrTime     FlightNum  \\\n",
       "count 7,009,728.000 6,858,079.000 7,009,728.000 7,009,728.000   \n",
       "mean      1,326.086     1,481.258     1,494.801     2,224.200   \n",
       "std         464.251       505.225       482.673     1,961.716   \n",
       "min           0.000         1.000         0.000         1.000   \n",
       "25%         925.000     1,107.000     1,115.000       622.000   \n",
       "50%       1,320.000     1,512.000     1,517.000     1,571.000   \n",
       "75%       1,715.000     1,909.000     1,907.000     3,518.000   \n",
       "max       2,359.000     2,400.000     2,400.000     9,743.000   \n",
       "\n",
       "       ActualElapsedTime  CRSElapsedTime       AirTime      ArrDelay  \\\n",
       "count      6,855,029.000   7,008,884.000 6,855,029.000 6,855,029.000   \n",
       "mean             127.322         128.867       104.019         8.168   \n",
       "std               70.187          69.410        67.440        38.502   \n",
       "min               12.000        -141.000         0.000      -519.000   \n",
       "25%               77.000          80.000        55.000       -10.000   \n",
       "50%              110.000         110.000        86.000        -2.000   \n",
       "75%              157.000         159.000       132.000        12.000   \n",
       "max            1,379.000       1,435.000     1,350.000     2,461.000   \n",
       "\n",
       "           DepDelay      Distance        TaxiIn       TaxiOut     Cancelled  \\\n",
       "count 6,873,482.000 7,009,728.000 6,858,079.000 6,872,670.000 7,009,728.000   \n",
       "mean          9.973       726.387         6.861        16.453         0.020   \n",
       "std          35.311       562.102         4.934        11.333         0.139   \n",
       "min        -534.000        11.000         0.000         0.000         0.000   \n",
       "25%          -4.000       325.000         4.000        10.000         0.000   \n",
       "50%          -1.000       581.000         6.000        14.000         0.000   \n",
       "75%           8.000       954.000         8.000        19.000         0.000   \n",
       "max       2,467.000     4,962.000       308.000       429.000         1.000   \n",
       "\n",
       "           Diverted  CarrierDelay  WeatherDelay      NASDelay  SecurityDelay  \\\n",
       "count 7,009,728.000 1,524,735.000 1,524,735.000 1,524,735.000  1,524,735.000   \n",
       "mean          0.002        15.772         3.039        17.165          0.075   \n",
       "std           0.050        40.099        19.503        31.895          1.838   \n",
       "min           0.000         0.000         0.000         0.000          0.000   \n",
       "25%           0.000         0.000         0.000         0.000          0.000   \n",
       "50%           0.000         0.000         0.000         6.000          0.000   \n",
       "75%           0.000        16.000         0.000        21.000          0.000   \n",
       "max           1.000     2,436.000     1,352.000     1,357.000        392.000   \n",
       "\n",
       "       LateAircraftDelay  \n",
       "count      1,524,735.000  \n",
       "mean              20.771  \n",
       "std               39.260  \n",
       "min                0.000  \n",
       "25%                0.000  \n",
       "50%                0.000  \n",
       "75%               26.000  \n",
       "max            1,316.000  "
      ]
     },
     "execution_count": 9,
     "metadata": {},
     "output_type": "execute_result"
    }
   ],
   "source": [
    "df.describe()"
   ]
  },
  {
   "cell_type": "code",
   "execution_count": 10,
   "metadata": {},
   "outputs": [
    {
     "data": {
      "text/plain": [
       "array(['IAD', 'IND', 'ISP', 'JAN', 'JAX', 'LAS', 'LAX', 'LBB', 'LIT',\n",
       "       'MAF', 'MCI', 'MCO', 'MDW', 'MHT', 'MSY', 'OAK', 'OKC', 'OMA',\n",
       "       'ONT', 'ORF', 'PBI', 'PDX', 'PHL', 'PHX', 'PIT', 'PVD', 'RDU',\n",
       "       'RNO', 'RSW', 'SAN', 'SAT', 'SDF', 'SEA', 'SFO', 'SJC', 'SLC',\n",
       "       'SMF', 'SNA', 'STL', 'TPA', 'TUL', 'TUS', 'ABQ', 'ALB', 'AMA',\n",
       "       'AUS', 'BDL', 'BHM', 'BNA', 'BOI', 'BUF', 'BUR', 'BWI', 'CLE',\n",
       "       'CMH', 'CRP', 'DAL', 'DEN', 'DTW', 'ELP', 'FLL', 'GEG', 'HOU',\n",
       "       'HRL', 'ROC', 'DAY', 'ORD', 'EWR', 'SYR', 'IAH', 'LFT', 'MKE',\n",
       "       'CHS', 'LCH', 'CLT', 'BTR', 'CRW', 'FAT', 'COS', 'MRY', 'LGB',\n",
       "       'BFL', 'EUG', 'ICT', 'MEM', 'LGA', 'DCA', 'BTV', 'GRK', 'BRO',\n",
       "       'TYS', 'DSM', 'BPT', 'GPT', 'GRR', 'PWM', 'MSP', 'RIC', 'CVG',\n",
       "       'SAV', 'SRQ', 'GSO', 'CHA', 'XNA', 'GSP', 'LEX', 'MFE', 'ABE',\n",
       "       'MLU', 'MOB', 'LRD', 'SHV', 'TLH', 'CAE', 'AEX', 'ATL', 'DFW',\n",
       "       'BGR', 'AVL', 'BOS', 'MSN', 'HSV', 'MGM', 'MYR', 'VPS', 'CLL',\n",
       "       'PNS', 'MTJ', 'DAB', 'PSP', 'ASE', 'ATW', 'AVP', 'BMI', 'CAK',\n",
       "       'CID', 'CLD', 'COD', 'CPR', 'CWA', 'DRO', 'EGE', 'FLG', 'FSD',\n",
       "       'FWA', 'GJT', 'GRB', 'HDN', 'HNL', 'ILM', 'ITO', 'JFK', 'KOA',\n",
       "       'LAN', 'LIH', 'MBS', 'MDT', 'MFR', 'OGG', 'RAP', 'ROA', 'SBA',\n",
       "       'SBN', 'SBP', 'SPI', 'TEX', 'YUM', 'TVC', 'HPN', 'MIA', 'MLB',\n",
       "       'SGF', 'TRI', 'ACY', 'TWF', 'SUN', 'PIH', 'EKO', 'SGU', 'PSC',\n",
       "       'BTM', 'SLE', 'IDA', 'HLN', 'FCA', 'MSO', 'GTF', 'LWS', 'YKM',\n",
       "       'BZN', 'BIL', 'RDM', 'FAR', 'JAC', 'IYK', 'SMX', 'ACV', 'OXR',\n",
       "       'RDD', 'CEC', 'MOD', 'CIC', 'IPL', 'PIA', 'MLI', 'GUC', 'AZO',\n",
       "       'LNK', 'PMD', 'BIS', 'RFD', 'BLI', 'CDC', 'SJU', 'STT', 'ANC',\n",
       "       'STX', 'PHF', 'DHN', 'PFN', 'TOL', 'AGS', 'FAY', 'HHH', 'EVV',\n",
       "       'GNV', 'ABY', 'FNT', 'OAJ', 'BQK', 'SWF', 'EWN', 'MEI', 'GTR',\n",
       "       'LYH', 'FSM', 'EYW', 'VLD', 'CSG', 'MCN', 'CHO', 'TUP', 'FLO',\n",
       "       'SCE', 'TYR', 'LAW', 'SPS', 'ABI', 'GGG', 'ACT', 'SJT', 'TXK',\n",
       "       'CMI', 'ROW', 'RST', 'MQT', 'LSE', 'DBQ', 'GFK', 'MOT', 'DLH',\n",
       "       'SUX', 'PLN', 'BGM', 'ERI', 'ALO', 'CMX', 'RHI', 'ELM', 'JNU',\n",
       "       'KTN', 'ADQ', 'FAI', 'SIT', 'PSG', 'WRG', 'SCC', 'BET', 'CDV',\n",
       "       'OME', 'YAK', 'BRW', 'OTZ', 'ADK', 'BQN', 'PSE', 'GCC', 'RKS',\n",
       "       'MKG', 'DLG', 'AKN', 'LWB', 'ACK', 'WYS', 'BJI', 'INL', 'GST',\n",
       "       'PUB', 'LMT', 'OTH', 'ITH', 'HTS', 'PIR'], dtype=object)"
      ]
     },
     "execution_count": 10,
     "metadata": {},
     "output_type": "execute_result"
    }
   ],
   "source": [
    "df.Origin.unique()"
   ]
  },
  {
   "cell_type": "code",
   "execution_count": 11,
   "metadata": {
    "collapsed": true
   },
   "outputs": [],
   "source": [
    "df['TotalDelay'] = df.ArrDelay.add(df.DepDelay)"
   ]
  },
  {
   "cell_type": "code",
   "execution_count": 12,
   "metadata": {},
   "outputs": [
    {
     "data": {
      "text/plain": [
       "(350486, 30)"
      ]
     },
     "execution_count": 12,
     "metadata": {},
     "output_type": "execute_result"
    }
   ],
   "source": [
    "sample = df.sample(frac=0.05)\n",
    "sample.shape"
   ]
  },
  {
   "cell_type": "code",
   "execution_count": 13,
   "metadata": {},
   "outputs": [
    {
     "data": {
      "image/png": "[encoded data removed]",
      "text/plain": [
       "<matplotlib.figure.Figure at 0x7f76692cedd8>"
      ]
     },
     "metadata": {},
     "output_type": "display_data"
    }
   ],
   "source": [
    "import matplotlib.pyplot as plt\n",
    "%matplotlib inline\n",
    "\n",
    "plt.scatter(sample.Distance, sample.TotalDelay);"
   ]
  },
  {
   "cell_type": "code",
   "execution_count": 14,
   "metadata": {},
   "outputs": [
    {
     "data": {
      "image/png": "[encoded data removed]",
      "text/plain": [
       "<matplotlib.figure.Figure at 0x7f76632b3208>"
      ]
     },
     "metadata": {},
     "output_type": "display_data"
    }
   ],
   "source": [
    "import seaborn as sns\n",
    "\n",
    "\n",
    "sns.jointplot('Distance', 'TotalDelay', data=sample, kind='reg');"
   ]
  },
  {
   "cell_type": "code",
   "execution_count": 15,
   "metadata": {},
   "outputs": [
    {
     "data": {
      "text/plain": [
       "array([nan, 'A', 'C', 'B', 'D'], dtype=object)"
      ]
     },
     "execution_count": 15,
     "metadata": {},
     "output_type": "execute_result"
    }
   ],
   "source": [
    "df.CancellationCode.unique()"
   ]
  },
  {
   "cell_type": "code",
   "execution_count": 16,
   "metadata": {},
   "outputs": [
    {
     "data": {
      "image/png": "[encoded data removed]",
      "text/plain": [
       "<matplotlib.figure.Figure at 0x7f76677449e8>"
      ]
     },
     "metadata": {},
     "output_type": "display_data"
    }
   ],
   "source": [
    "sns.boxplot('Diverted', 'Distance', data=sample);"
   ]
  },
  {
   "cell_type": "code",
   "execution_count": 17,
   "metadata": {},
   "outputs": [
    {
     "data": {
      "text/plain": [
       "CancellationCode\n",
       "A   0.780\n",
       "B   0.770\n",
       "C   0.419\n",
       "Name: Year, dtype: float64"
      ]
     },
     "execution_count": 17,
     "metadata": {},
     "output_type": "execute_result"
    }
   ],
   "source": [
    "cancelation_prop = sample.groupby('CancellationCode')['Year'].count().div(sample.shape[0]) * 100\n",
    "cancelation_prop"
   ]
  },
  {
   "cell_type": "code",
   "execution_count": 18,
   "metadata": {},
   "outputs": [
    {
     "data": {
      "text/plain": [
       "CancellationCode\n",
       "A    2735\n",
       "B    2698\n",
       "C    1470\n",
       "Name: Year, dtype: int64"
      ]
     },
     "execution_count": 18,
     "metadata": {},
     "output_type": "execute_result"
    }
   ],
   "source": [
    "sample.groupby('CancellationCode')['Year'].count()"
   ]
  },
  {
   "cell_type": "code",
   "execution_count": 19,
   "metadata": {},
   "outputs": [
    {
     "data": {
      "image/png": "[encoded data removed]",
      "text/plain": [
       "<matplotlib.figure.Figure at 0x7f76590125c0>"
      ]
     },
     "metadata": {},
     "output_type": "display_data"
    }
   ],
   "source": [
    "cancelation_prop.plot(kind='barh');"
   ]
  },
  {
   "cell_type": "code",
   "execution_count": 20,
   "metadata": {},
   "outputs": [
    {
     "data": {
      "image/png": "[encoded data removed]",
      "text/plain": [
       "<matplotlib.figure.Figure at 0x7f765a4a1470>"
      ]
     },
     "metadata": {},
     "output_type": "display_data"
    }
   ],
   "source": [
    "sns.factorplot(x='CancellationCode', y ='Distance', data=sample);"
   ]
  },
  {
   "cell_type": "code",
   "execution_count": 21,
   "metadata": {
    "collapsed": true
   },
   "outputs": [],
   "source": [
    "# sample.sample(frac=0.1).Month.plot('barh')"
   ]
  },
  {
   "cell_type": "code",
   "execution_count": 24,
   "metadata": {},
   "outputs": [
    {
     "data": {
      "image/png": "[encoded data removed]",
      "text/plain": [
       "<matplotlib.figure.Figure at 0x7f765a5b5ef0>"
      ]
     },
     "metadata": {},
     "output_type": "display_data"
    }
   ],
   "source": [
    "sample.groupby(\"Month\")[\"Year\"].count().sort_values().plot(kind='barh');"
   ]
  },
  {
   "cell_type": "code",
   "execution_count": 41,
   "metadata": {
    "scrolled": false
   },
   "outputs": [
    {
     "data": {
      "image/png": "[encoded data removed]",
      "text/plain": [
       "<matplotlib.figure.Figure at 0x7f76594082e8>"
      ]
     },
     "metadata": {},
     "output_type": "display_data"
    }
   ],
   "source": [
    "sns.pairplot(sample, x_vars=['Distance'], y_vars=['TotalDelay'], hue='Cancelled', markers='x', size=10, aspect=1);"
   ]
  },
  {
   "cell_type": "code",
   "execution_count": 30,
   "metadata": {},
   "outputs": [
    {
     "data": {
      "text/plain": [
       "0    349632\n",
       "1       854\n",
       "Name: Diverted, dtype: int64"
      ]
     },
     "execution_count": 30,
     "metadata": {},
     "output_type": "execute_result"
    }
   ],
   "source": [
    "sample.Diverted.value_counts()"
   ]
  },
  {
   "cell_type": "code",
   "execution_count": 37,
   "metadata": {},
   "outputs": [
    {
     "data": {
      "text/plain": [
       "0    343583\n",
       "1      6903\n",
       "Name: Cancelled, dtype: int64"
      ]
     },
     "execution_count": 37,
     "metadata": {},
     "output_type": "execute_result"
    }
   ],
   "source": [
    "sample.Cancelled.value_counts()"
   ]
  }
 ],
 "metadata": {
  "hide_input": false,
  "kernelspec": {
   "display_name": "Python [conda root]",
   "language": "python",
   "name": "conda-root-py"
  },
  "language_info": {
   "codemirror_mode": {
    "name": "ipython",
    "version": 3
   },
   "file_extension": ".py",
   "mimetype": "text/x-python",
   "name": "python",
   "nbconvert_exporter": "python",
   "pygments_lexer": "ipython3",
   "version": "3.5.3"
  },
  "toc": {
   "colors": {
    "hover_highlight": "#DAA520",
    "navigate_num": "#000000",
    "navigate_text": "#333333",
    "running_highlight": "#FF0000",
    "selected_highlight": "#FFD700",
    "sidebar_border": "#EEEEEE",
    "wrapper_background": "#FFFFFF"
   },
   "moveMenuLeft": true,
   "nav_menu": {
    "height": "30px",
    "width": "252px"
   },
   "navigate_menu": true,
   "number_sections": true,
   "sideBar": true,
   "threshold": 4,
   "toc_cell": false,
   "toc_section_display": "block",
   "toc_window_display": false,
   "widenNotebook": false
  }
 },
 "nbformat": 4,
 "nbformat_minor": 2
}
