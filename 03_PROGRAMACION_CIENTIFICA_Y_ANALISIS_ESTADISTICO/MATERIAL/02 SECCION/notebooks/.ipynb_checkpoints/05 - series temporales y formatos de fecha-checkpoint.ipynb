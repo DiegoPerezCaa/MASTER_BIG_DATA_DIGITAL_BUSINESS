{
 "cells": [
  {
   "cell_type": "markdown",
   "metadata": {},
   "source": [
    "# Formatos de fecha y series temporales\n",
    "\n",
    "Pandas ha sido desarrollado en el contexto del modelado financiero. Por lo tanto tiene muchas funcionalidades referidas a fechas y tiempo y a su indexado. Tiene características como:\n",
    "- **Instantes temporales** - referencias a momentos particulares en el tiempo (ej.: 4 de agosto a las 17:00).\n",
    "        numpy.datetime64, DatetimeIndex\n",
    "- **Intervalos de tiempo y períodos** -  referencia a un fragmento de tiempo entre dos instantes temporales. Los períodos son casos en los que se generan intervalos con la misma longitud temporal.\n",
    "        numpy.datetime64, PeriodIndex\n",
    "- **Deltas de tiempo** - referencia a tiempo transcurrido desde un instante temporal.\n",
    "        numpy.timedelta64, TimedeltaIndex\n",
    "\n"
   ]
  },
  {
   "cell_type": "markdown",
   "metadata": {},
   "source": [
    "### Formatos de fecha en  Pandas \n",
    "\n",
    "Pandas incorpora un *parsing* de fechas flexible:"
   ]
  },
  {
   "cell_type": "code",
   "execution_count": 34,
   "metadata": {
    "collapsed": true
   },
   "outputs": [],
   "source": [
    "import numpy as np\n",
    "import pandas as pd"
   ]
  },
  {
   "cell_type": "code",
   "execution_count": 1,
   "metadata": {
    "collapsed": false
   },
   "outputs": [
    {
     "name": "stdout",
     "output_type": "stream",
     "text": [
      "Object `pd.to_datetime` not found.\n"
     ]
    }
   ],
   "source": [
    "?pd.to_datetime"
   ]
  },
  {
   "cell_type": "markdown",
   "metadata": {},
   "source": [
    "    pd.to_datetime(arg, errors='raise', dayfirst=False, yearfirst=False, utc=None, box=True, format=None, exact=True, coerce=None, unit=None, infer_datetime_format=False)\n",
    "\n",
    "***\n",
    "***\n",
    "    Parameters\n",
    "\n",
    "    arg : string, datetime, list, tuple, 1-d array, Series\n",
    "\n",
    "        .. versionadded: 0.18.1\n",
    "\n",
    "           or DataFrame/dict-like\n",
    "\n",
    "    errors : {'ignore', 'raise', 'coerce'}, default 'raise'\n",
    "\n",
    "        - If 'raise', then invalid parsing will raise an exception\n",
    "        - If 'coerce', then invalid parsing will be set as NaT\n",
    "        - If 'ignore', then invalid parsing will return the input\n",
    "    dayfirst : boolean, default False\n",
    "        Specify a date parse order if `arg` is str or its list-likes.\n",
    "        If True, parses dates with the day first, eg 10/11/12 is parsed as\n",
    "        2012-11-10.\n",
    "        Warning: dayfirst=True is not strict, but will prefer to parse\n",
    "        with day first (this is a known bug, based on dateutil behavior).\n",
    "    yearfirst : boolean, default False\n",
    "        Specify a date parse order if `arg` is str or its list-likes.\n",
    "\n",
    "        - If True parses dates with the year first, eg 10/11/12 is parsed as\n",
    "          2010-11-12.\n",
    "        - If both dayfirst and yearfirst are True, yearfirst is preceded (same\n",
    "          as dateutil).\n",
    "\n",
    "        Warning: yearfirst=True is not strict, but will prefer to parse\n",
    "        with year first (this is a known bug, based on dateutil beahavior).\n",
    "\n",
    "        .. versionadded: 0.16.1\n",
    "\n",
    "    utc : boolean, default None\n",
    "        Return UTC DatetimeIndex if True (converting any tz-aware\n",
    "        datetime.datetime objects as well).\n",
    "    box : boolean, default True\n",
    "\n",
    "    - If True returns a DatetimeIndex\n",
    "    - If False returns ndarray of values.\n",
    "    format : string, default None\n",
    "        strftime to parse time, eg \"%d/%m/%Y\", note that \"%f\" will parse\n",
    "        all the way up to nanoseconds.\n",
    "    exact : boolean, True by default\n",
    "\n",
    "        - If True, require an exact format match.\n",
    "        - If False, allow the format to match anywhere in the target string.\n",
    "\n",
    "    unit : string, default 'ns'\n",
    "        unit of the arg (D,s,ms,us,ns) denote the unit in epoch\n",
    "        (e.g. a unix timestamp), which is an integer/float number.\n",
    "    infer_datetime_format : boolean, default False\n",
    "        If True and no `format` is given, attempt to infer the format of the\n",
    "        datetime strings, and if it can be inferred, switch to a faster\n",
    "        method of parsing them. In some cases this can increase the parsing\n",
    "        speed by ~5-10x."
   ]
  },
  {
   "cell_type": "code",
   "execution_count": 2,
   "metadata": {
    "collapsed": false
   },
   "outputs": [
    {
     "data": {
      "text/plain": [
       "(Timestamp('2015-07-04 00:00:00'),\n",
       " Timestamp('2020-01-19 00:00:00'),\n",
       " Timestamp('2020-08-03 00:00:00'))"
      ]
     },
     "execution_count": 2,
     "metadata": {},
     "output_type": "execute_result"
    }
   ],
   "source": [
    "import pandas as pd\n",
    "pd.to_datetime(\"4th of July, 2015\"), pd.to_datetime(\"January 19/20\"),pd.to_datetime(\"2020/August/3\")"
   ]
  },
  {
   "cell_type": "code",
   "execution_count": 14,
   "metadata": {
    "collapsed": false
   },
   "outputs": [
    {
     "data": {
      "text/plain": [
       "DatetimeIndex(['2015-07-03', '2015-07-04', '2015-07-06', '2015-07-07',\n",
       "               '2015-07-08'],\n",
       "              dtype='datetime64[ns]', freq=None)"
      ]
     },
     "execution_count": 14,
     "metadata": {},
     "output_type": "execute_result"
    }
   ],
   "source": [
    "pd.to_datetime([pd.datetime(2015, 7, 3), '4th of July, 2015','2015-Jul-6', '07-07-2015', '20150708'])"
   ]
  },
  {
   "cell_type": "markdown",
   "metadata": {},
   "source": [
    "También se puede establecer manualmente el formato de fecha"
   ]
  },
  {
   "cell_type": "code",
   "execution_count": 55,
   "metadata": {
    "collapsed": false
   },
   "outputs": [
    {
     "data": {
      "text/plain": [
       "Timestamp('2010-10-05 00:00:00')"
      ]
     },
     "execution_count": 55,
     "metadata": {},
     "output_type": "execute_result"
    }
   ],
   "source": [
    "pd.to_datetime(\"2010, 5/10\",format=\"%Y, %d/%m\")"
   ]
  },
  {
   "cell_type": "markdown",
   "metadata": {},
   "source": [
    "Se pueden extraer por separado las variables asociadas a la fecha:"
   ]
  },
  {
   "cell_type": "markdown",
   "metadata": {},
   "source": [
    "<img src='formatosfecha.png',width=900>"
   ]
  },
  {
   "cell_type": "code",
   "execution_count": 16,
   "metadata": {
    "collapsed": false
   },
   "outputs": [
    {
     "data": {
      "text/html": [
       "<div>\n",
       "<table border=\"1\" class=\"dataframe\">\n",
       "  <thead>\n",
       "    <tr style=\"text-align: right;\">\n",
       "      <th></th>\n",
       "      <th>2015-07-04 15:17:59</th>\n",
       "    </tr>\n",
       "  </thead>\n",
       "  <tbody>\n",
       "    <tr>\n",
       "      <th>Día de la semana</th>\n",
       "      <td>Saturday</td>\n",
       "    </tr>\n",
       "    <tr>\n",
       "      <th>Día de la semana numérico</th>\n",
       "      <td>6</td>\n",
       "    </tr>\n",
       "    <tr>\n",
       "      <th>Día del mes</th>\n",
       "      <td>04</td>\n",
       "    </tr>\n",
       "    <tr>\n",
       "      <th>Semana del año</th>\n",
       "      <td>26</td>\n",
       "    </tr>\n",
       "    <tr>\n",
       "      <th>Mes del año</th>\n",
       "      <td>07</td>\n",
       "    </tr>\n",
       "    <tr>\n",
       "      <th>Año</th>\n",
       "      <td>2015</td>\n",
       "    </tr>\n",
       "    <tr>\n",
       "      <th>Hora 24</th>\n",
       "      <td>15</td>\n",
       "    </tr>\n",
       "    <tr>\n",
       "      <th>Minuto</th>\n",
       "      <td>17</td>\n",
       "    </tr>\n",
       "    <tr>\n",
       "      <th>Segundo</th>\n",
       "      <td>59</td>\n",
       "    </tr>\n",
       "  </tbody>\n",
       "</table>\n",
       "</div>"
      ],
      "text/plain": [
       "                          2015-07-04 15:17:59\n",
       "Día de la semana                     Saturday\n",
       "Día de la semana numérico                   6\n",
       "Día del mes                                04\n",
       "Semana del año                             26\n",
       "Mes del año                                07\n",
       "Año                                      2015\n",
       "Hora 24                                    15\n",
       "Minuto                                     17\n",
       "Segundo                                    59"
      ]
     },
     "execution_count": 16,
     "metadata": {},
     "output_type": "execute_result"
    }
   ],
   "source": [
    "#extraemos componentes de la fecha\n",
    "date=pd.to_datetime(\"4th of July, 2015 3:17:59 PM\")\n",
    "\n",
    "lista=['%A','%w','%d','%W','%m','%Y','%H','%M','%S']\n",
    "\n",
    "valores=[date.strftime(k) for k in lista]\n",
    "\n",
    "nombres=['Día de la semana','Día de la semana numérico',\n",
    "         'Día del mes','Semana del año','Mes del año','Año','Hora 24','Minuto','Segundo']\n",
    "\n",
    "info=pd.DataFrame(valores,index=nombres,columns=[date])\n",
    "info"
   ]
  },
  {
   "cell_type": "markdown",
   "metadata": {},
   "source": [
    "Los formatos están basados en `numpy.datetime64`, cuyos parámetros temporales vienen dados\n",
    "\n",
    "|Code    | Meaning     | Time span (relative) | Time span (absolute)   |\n",
    "|--------|-------------|----------------------|------------------------|\n",
    "| ``Y``  | Year\t       | ± 9.2e18 years       | [9.2e18 BC, 9.2e18 AD] |\n",
    "| ``M``  | Month       | ± 7.6e17 years       | [7.6e17 BC, 7.6e17 AD] |\n",
    "| ``W``  | Week\t       | ± 1.7e17 years       | [1.7e17 BC, 1.7e17 AD] |\n",
    "| ``D``  | Day         | ± 2.5e16 years       | [2.5e16 BC, 2.5e16 AD] |\n",
    "| ``h``  | Hour        | ± 1.0e15 years       | [1.0e15 BC, 1.0e15 AD] |\n",
    "| ``m``  | Minute      | ± 1.7e13 years       | [1.7e13 BC, 1.7e13 AD] |\n",
    "| ``s``  | Second      | ± 2.9e12 years       | [ 2.9e9 BC, 2.9e9 AD]  |\n",
    "| ``ms`` | Millisecond | ± 2.9e9 years        | [ 2.9e6 BC, 2.9e6 AD]  |\n",
    "| ``us`` | Microsecond | ± 2.9e6 years        | [290301 BC, 294241 AD] |\n",
    "| ``ns`` | Nanosecond  | ± 292 years          | [ 1678 AD, 2262 AD]    |\n",
    "| ``ps`` | Picosecond  | ± 106 days           | [ 1969 AD, 1970 AD]    |\n",
    "| ``fs`` | Femtosecond | ± 2.6 hours          | [ 1969 AD, 1970 AD]    |\n",
    "| ``as`` | Attosecond  | ± 9.2 seconds        | [ 1969 AD, 1970 AD]    |\n",
    "\n",
    "Más documentación en la web de numpy sobre formatos temporales https://docs.scipy.org/doc/numpy/reference/arrays.datetime.html"
   ]
  },
  {
   "cell_type": "markdown",
   "metadata": {
    "collapsed": true
   },
   "source": [
    "### Generar fechas en un rango"
   ]
  },
  {
   "cell_type": "code",
   "execution_count": 17,
   "metadata": {
    "collapsed": false
   },
   "outputs": [
    {
     "data": {
      "text/plain": [
       "DatetimeIndex(['2015-07-03', '2015-07-04', '2015-07-05', '2015-07-06',\n",
       "               '2015-07-07', '2015-07-08', '2015-07-09', '2015-07-10'],\n",
       "              dtype='datetime64[ns]', freq='D')"
      ]
     },
     "execution_count": 17,
     "metadata": {},
     "output_type": "execute_result"
    }
   ],
   "source": [
    "pd.date_range('2015-07-03', '2015-07-10')"
   ]
  },
  {
   "cell_type": "code",
   "execution_count": 74,
   "metadata": {
    "collapsed": false
   },
   "outputs": [
    {
     "data": {
      "text/plain": [
       "DatetimeIndex(['2015-07-31', '2015-08-31', '2015-09-30', '2015-10-31',\n",
       "               '2015-11-30'],\n",
       "              dtype='datetime64[ns]', freq='M')"
      ]
     },
     "execution_count": 74,
     "metadata": {},
     "output_type": "execute_result"
    }
   ],
   "source": [
    "pd.date_range('2015-07-03', '2015-12-10',freq='M')"
   ]
  },
  {
   "cell_type": "code",
   "execution_count": 75,
   "metadata": {
    "collapsed": false
   },
   "outputs": [
    {
     "data": {
      "text/plain": [
       "DatetimeIndex(['2015-07-03', '2015-07-06', '2015-07-07', '2015-07-08',\n",
       "               '2015-07-09', '2015-07-10', '2015-07-13', '2015-07-14',\n",
       "               '2015-07-15', '2015-07-16',\n",
       "               ...\n",
       "               '2015-11-27', '2015-11-30', '2015-12-01', '2015-12-02',\n",
       "               '2015-12-03', '2015-12-04', '2015-12-07', '2015-12-08',\n",
       "               '2015-12-09', '2015-12-10'],\n",
       "              dtype='datetime64[ns]', length=115, freq='B')"
      ]
     },
     "execution_count": 75,
     "metadata": {},
     "output_type": "execute_result"
    }
   ],
   "source": [
    "pd.date_range('2015-07-03', '2015-12-10',freq='B') #días de negocio como frecuencia"
   ]
  },
  {
   "cell_type": "code",
   "execution_count": 19,
   "metadata": {
    "collapsed": false
   },
   "outputs": [
    {
     "data": {
      "text/plain": [
       "DatetimeIndex(['2015-07-03', '2015-07-04', '2015-07-05', '2015-07-06',\n",
       "               '2015-07-07', '2015-07-08', '2015-07-09', '2015-07-10'],\n",
       "              dtype='datetime64[ns]', freq='D')"
      ]
     },
     "execution_count": 19,
     "metadata": {},
     "output_type": "execute_result"
    }
   ],
   "source": [
    "pd.date_range('2015-07-03', periods=8) #se puede indicar el número de divisiones"
   ]
  },
  {
   "cell_type": "code",
   "execution_count": 20,
   "metadata": {
    "collapsed": false
   },
   "outputs": [
    {
     "data": {
      "text/plain": [
       "DatetimeIndex(['2015-07-03', '2015-07-04'], dtype='datetime64[ns]', freq='D')"
      ]
     },
     "execution_count": 20,
     "metadata": {},
     "output_type": "execute_result"
    }
   ],
   "source": [
    "pd.date_range('2015-07-03', periods=2)"
   ]
  },
  {
   "cell_type": "code",
   "execution_count": 38,
   "metadata": {
    "collapsed": false
   },
   "outputs": [
    {
     "data": {
      "text/plain": [
       "DatetimeIndex(['2015-07-05', '2015-07-12', '2015-07-19', '2015-07-26',\n",
       "               '2015-08-02'],\n",
       "              dtype='datetime64[ns]', freq='W-SUN')"
      ]
     },
     "execution_count": 38,
     "metadata": {},
     "output_type": "execute_result"
    }
   ],
   "source": [
    "#genera 5 semanas desde la fecha inicial\n",
    "pd.date_range('2015-07-03', periods=5,freq='w')"
   ]
  },
  {
   "cell_type": "code",
   "execution_count": 39,
   "metadata": {
    "collapsed": false
   },
   "outputs": [
    {
     "data": {
      "text/plain": [
       "DatetimeIndex(['2015-07-31', '2015-08-31', '2015-09-30', '2015-10-31',\n",
       "               '2015-11-30'],\n",
       "              dtype='datetime64[ns]', freq='M')"
      ]
     },
     "execution_count": 39,
     "metadata": {},
     "output_type": "execute_result"
    }
   ],
   "source": [
    "#genera 5 meses\n",
    "pd.date_range('2015-07-03', periods=5,freq='M')"
   ]
  },
  {
   "cell_type": "markdown",
   "metadata": {},
   "source": [
    "Con `to_timedelta` se pasa un array de valores numéricos a formato fecha representando la unidad temporal indicada"
   ]
  },
  {
   "cell_type": "code",
   "execution_count": 40,
   "metadata": {
    "collapsed": false
   },
   "outputs": [
    {
     "data": {
      "text/plain": [
       "TimedeltaIndex([ '0 days',  '1 days',  '2 days',  '3 days',  '4 days',\n",
       "                 '5 days',  '6 days',  '7 days',  '8 days',  '9 days',\n",
       "                '10 days', '11 days'],\n",
       "               dtype='timedelta64[ns]', freq=None)"
      ]
     },
     "execution_count": 40,
     "metadata": {},
     "output_type": "execute_result"
    }
   ],
   "source": [
    "pd.to_timedelta(np.arange(12), 'D')"
   ]
  },
  {
   "cell_type": "markdown",
   "metadata": {},
   "source": [
    "Los deltas de tiempo sirven para sumarlos en instantes y generar nuevos índices temporales."
   ]
  },
  {
   "cell_type": "code",
   "execution_count": 41,
   "metadata": {
    "collapsed": false
   },
   "outputs": [
    {
     "data": {
      "text/plain": [
       "Timestamp('2015-07-04 15:17:59')"
      ]
     },
     "execution_count": 41,
     "metadata": {},
     "output_type": "execute_result"
    }
   ],
   "source": [
    "date"
   ]
  },
  {
   "cell_type": "code",
   "execution_count": 48,
   "metadata": {
    "collapsed": false
   },
   "outputs": [
    {
     "data": {
      "text/plain": [
       "DatetimeIndex(['2015-07-05 15:17:59', '2015-10-03 15:17:59',\n",
       "               '2016-01-01 15:17:59', '2016-03-31 15:17:59',\n",
       "               '2016-06-29 15:17:59', '2016-09-27 15:17:59',\n",
       "               '2016-12-26 15:17:59', '2017-03-26 15:17:59',\n",
       "               '2017-06-24 15:17:59', '2017-09-22 15:17:59',\n",
       "               '2017-12-21 15:17:59', '2018-03-21 15:17:59',\n",
       "               '2018-06-19 15:17:59', '2018-09-17 15:17:59',\n",
       "               '2018-12-16 15:17:59', '2019-03-16 15:17:59',\n",
       "               '2019-06-14 15:17:59', '2019-09-12 15:17:59',\n",
       "               '2019-12-11 15:17:59', '2020-03-10 15:17:59',\n",
       "               '2020-06-08 15:17:59', '2020-09-06 15:17:59',\n",
       "               '2020-12-05 15:17:59'],\n",
       "              dtype='datetime64[ns]', freq=None)"
      ]
     },
     "execution_count": 48,
     "metadata": {},
     "output_type": "execute_result"
    }
   ],
   "source": [
    "rangomeses=date + pd.to_timedelta(np.arange(1,2000,90), 'D')\n",
    "rangomeses"
   ]
  },
  {
   "cell_type": "markdown",
   "metadata": {},
   "source": [
    "Si restamos dos instantes de tiempo obtenemos un objeto de tipo Timedelta\n"
   ]
  },
  {
   "cell_type": "code",
   "execution_count": 73,
   "metadata": {
    "collapsed": false
   },
   "outputs": [
    {
     "data": {
      "text/plain": [
       "TimedeltaIndex([   '0 days',   '90 days',  '180 days',  '270 days',\n",
       "                 '360 days',  '450 days',  '540 days',  '630 days',\n",
       "                 '720 days',  '810 days',  '900 days',  '990 days',\n",
       "                '1080 days', '1170 days', '1260 days', '1350 days',\n",
       "                '1440 days', '1530 days', '1620 days', '1710 days',\n",
       "                '1800 days', '1890 days', '1980 days'],\n",
       "               dtype='timedelta64[ns]', freq=None)"
      ]
     },
     "execution_count": 73,
     "metadata": {},
     "output_type": "execute_result"
    }
   ],
   "source": [
    "rangomeses - rangomeses[0]"
   ]
  },
  {
   "cell_type": "markdown",
   "metadata": {},
   "source": [
    "### Transformarlas a un formato período\n",
    "\n",
    "Los valores posibles del parámetro `freq` son\n",
    "\n",
    "| Code   | Description         | Code   | Description          |\n",
    "|--------|---------------------|--------|----------------------|\n",
    "| ``D``  | Calendar day        | ``B``  | Business day         |\n",
    "| ``W``  | Weekly              |        |                      |\n",
    "| ``M``  | Month end           | ``BM`` | Business month end   |\n",
    "| ``Q``  | Quarter end         | ``BQ`` | Business quarter end |\n",
    "| ``A``  | Year end            | ``BA`` | Business year end    |\n",
    "| ``H``  | Hours               | ``BH`` | Business hours       |\n",
    "| ``T``  | Minutes             |        |                      |\n",
    "| ``S``  | Seconds             |        |                      |\n",
    "| ``L``  | Milliseonds         |        |                      |\n",
    "| ``U``  | Microseconds        |        |                      |\n",
    "| ``N``  | nanoseconds         |        |                      |\n"
   ]
  },
  {
   "cell_type": "code",
   "execution_count": 49,
   "metadata": {
    "collapsed": false
   },
   "outputs": [
    {
     "data": {
      "text/plain": [
       "PeriodIndex(['2015-07', '2015-10', '2016-01', '2016-03', '2016-06', '2016-09',\n",
       "             '2016-12', '2017-03', '2017-06', '2017-09', '2017-12', '2018-03',\n",
       "             '2018-06', '2018-09', '2018-12', '2019-03', '2019-06', '2019-09',\n",
       "             '2019-12', '2020-03', '2020-06', '2020-09', '2020-12'],\n",
       "            dtype='period[M]', freq='M')"
      ]
     },
     "execution_count": 49,
     "metadata": {},
     "output_type": "execute_result"
    }
   ],
   "source": [
    "rangomeses.to_period('M')"
   ]
  },
  {
   "cell_type": "code",
   "execution_count": 52,
   "metadata": {
    "collapsed": false
   },
   "outputs": [
    {
     "data": {
      "text/plain": [
       "PeriodIndex(['2015', '2015', '2016', '2016', '2016', '2016', '2016', '2017',\n",
       "             '2017', '2017', '2017', '2018', '2018', '2018', '2018', '2019',\n",
       "             '2019', '2019', '2019', '2020', '2020', '2020', '2020'],\n",
       "            dtype='period[A-DEC]', freq='A-DEC')"
      ]
     },
     "execution_count": 52,
     "metadata": {},
     "output_type": "execute_result"
    }
   ],
   "source": [
    "rangomeses.to_period('A')"
   ]
  },
  {
   "cell_type": "code",
   "execution_count": 53,
   "metadata": {
    "collapsed": false
   },
   "outputs": [
    {
     "data": {
      "text/plain": [
       "PeriodIndex(['2015Q3', '2015Q4', '2016Q1', '2016Q1', '2016Q2', '2016Q3',\n",
       "             '2016Q4', '2017Q1', '2017Q2', '2017Q3', '2017Q4', '2018Q1',\n",
       "             '2018Q2', '2018Q3', '2018Q4', '2019Q1', '2019Q2', '2019Q3',\n",
       "             '2019Q4', '2020Q1', '2020Q2', '2020Q3', '2020Q4'],\n",
       "            dtype='period[Q-DEC]', freq='Q-DEC')"
      ]
     },
     "execution_count": 53,
     "metadata": {},
     "output_type": "execute_result"
    }
   ],
   "source": [
    "rangomeses.to_period('Q')"
   ]
  },
  {
   "cell_type": "markdown",
   "metadata": {},
   "source": [
    "### Fechas como índices para Series\n",
    "\n",
    "Se pueden establecer índices temporales en las series y tomar subconjuntos de estas fechas:"
   ]
  },
  {
   "cell_type": "code",
   "execution_count": 67,
   "metadata": {
    "collapsed": false
   },
   "outputs": [
    {
     "data": {
      "text/plain": [
       "2014-07-03    0\n",
       "2014-08-04    1\n",
       "2015-07-06    2\n",
       "2015-08-14    3\n",
       "dtype: int64"
      ]
     },
     "execution_count": 67,
     "metadata": {},
     "output_type": "execute_result"
    }
   ],
   "source": [
    "index = pd.DatetimeIndex(['2014-07-03', '2014-08-04',\n",
    "                          '2015-07-06', '2015-08-14'])\n",
    "data = pd.Series([0, 1, 2, 3], index=index)\n",
    "data"
   ]
  },
  {
   "cell_type": "code",
   "execution_count": 68,
   "metadata": {
    "collapsed": false
   },
   "outputs": [
    {
     "data": {
      "text/plain": [
       "2014-07-03    0\n",
       "2014-08-04    1\n",
       "dtype: int64"
      ]
     },
     "execution_count": 68,
     "metadata": {},
     "output_type": "execute_result"
    }
   ],
   "source": [
    "data['2014-07-03':'2015-07-04']"
   ]
  },
  {
   "cell_type": "code",
   "execution_count": 69,
   "metadata": {
    "collapsed": false
   },
   "outputs": [
    {
     "data": {
      "text/plain": [
       "2015-07-06    2\n",
       "2015-08-14    3\n",
       "dtype: int64"
      ]
     },
     "execution_count": 69,
     "metadata": {},
     "output_type": "execute_result"
    }
   ],
   "source": [
    "data['2015']"
   ]
  },
  {
   "cell_type": "code",
   "execution_count": 70,
   "metadata": {
    "collapsed": false
   },
   "outputs": [
    {
     "data": {
      "text/plain": [
       "2014-07-03    0\n",
       "2015-07-06    2\n",
       "dtype: int64"
      ]
     },
     "execution_count": 70,
     "metadata": {},
     "output_type": "execute_result"
    }
   ],
   "source": [
    "data.loc[data.index.month==7]"
   ]
  },
  {
   "cell_type": "code",
   "execution_count": 71,
   "metadata": {
    "collapsed": false
   },
   "outputs": [
    {
     "data": {
      "text/plain": [
       "2014-07-03    0\n",
       "2014-08-04    1\n",
       "dtype: int64"
      ]
     },
     "execution_count": 71,
     "metadata": {},
     "output_type": "execute_result"
    }
   ],
   "source": [
    "data.loc[data.index.day<6]"
   ]
  },
  {
   "cell_type": "code",
   "execution_count": 78,
   "metadata": {
    "collapsed": false
   },
   "outputs": [
    {
     "data": {
      "text/plain": [
       "2015-07-05 15:17:59     0\n",
       "2015-10-03 15:17:59     1\n",
       "2016-01-01 15:17:59     2\n",
       "2016-03-31 15:17:59     3\n",
       "2016-06-29 15:17:59     4\n",
       "2016-09-27 15:17:59     5\n",
       "2016-12-26 15:17:59     6\n",
       "2017-03-26 15:17:59     7\n",
       "2017-06-24 15:17:59     8\n",
       "2017-09-22 15:17:59     9\n",
       "2017-12-21 15:17:59    10\n",
       "2018-03-21 15:17:59    11\n",
       "2018-06-19 15:17:59    12\n",
       "2018-09-17 15:17:59    13\n",
       "2018-12-16 15:17:59    14\n",
       "2019-03-16 15:17:59    15\n",
       "2019-06-14 15:17:59    16\n",
       "2019-09-12 15:17:59    17\n",
       "2019-12-11 15:17:59    18\n",
       "2020-03-10 15:17:59    19\n",
       "2020-06-08 15:17:59    20\n",
       "2020-09-06 15:17:59    21\n",
       "2020-12-05 15:17:59    22\n",
       "dtype: int64"
      ]
     },
     "execution_count": 78,
     "metadata": {},
     "output_type": "execute_result"
    }
   ],
   "source": [
    "seriemeses=pd.Series(np.arange(len(rangomeses)),index=rangomeses)\n",
    "seriemeses"
   ]
  },
  {
   "cell_type": "code",
   "execution_count": 80,
   "metadata": {
    "collapsed": false
   },
   "outputs": [
    {
     "data": {
      "text/plain": [
       "2016-09-27 15:17:59     5\n",
       "2018-06-19 15:17:59    12\n",
       "2020-03-10 15:17:59    19\n",
       "dtype: int64"
      ]
     },
     "execution_count": 80,
     "metadata": {},
     "output_type": "execute_result"
    }
   ],
   "source": [
    "seriemeses.loc[seriemeses.index.dayofweek==1] #extraemos los lunes"
   ]
  }
 ],
 "metadata": {
  "anaconda-cloud": {},
  "kernelspec": {
   "display_name": "Python [conda root]",
   "language": "python",
   "name": "conda-root-py"
  },
  "language_info": {
   "codemirror_mode": {
    "name": "ipython",
    "version": 3
   },
   "file_extension": ".py",
   "mimetype": "text/x-python",
   "name": "python",
   "nbconvert_exporter": "python",
   "pygments_lexer": "ipython3",
   "version": "3.5.2"
  }
 },
 "nbformat": 4,
 "nbformat_minor": 1
}
