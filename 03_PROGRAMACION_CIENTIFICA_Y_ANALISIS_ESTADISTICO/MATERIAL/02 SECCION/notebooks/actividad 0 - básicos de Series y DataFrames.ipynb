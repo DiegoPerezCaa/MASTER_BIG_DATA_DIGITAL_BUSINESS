{
 "cells": [
  {
   "cell_type": "markdown",
   "metadata": {},
   "source": [
    "# Actividad 0: creación de DataFrame y subindexación\n",
    "\n",
    "Nota: usar `numpy.random.seed(0)` al generar los números aleatorios en todos los procesos.\n",
    "\n",
    "\n",
    "### Series\n",
    "1. Genera una Series s con 5 valores aleatorios (`numpy.randn`) entre 0 y 10 e índices `{'b','d','c','a','e'}`.\n",
    "2. Comprueba que `'b'` está en la serie.\n",
    "3. Averigua el valor de 'b' en la serie.\n",
    "4. Obtén los últimos 3 valores de la serie.\n",
    "5. Halla los valores de la serie mayores que 4, averigua para qué índices se tienen. Resta 1 a cada valor de estos modificando la serie.\n",
    "6. Ordena la serie según índice lexicográficamente modificándola definitivamente. Ponle nombre ' letras' a los índices.\n",
    "7. Ordena la serie descendientemente según valores de la misma.\n",
    "8. Obtén un diccionario a partir de la serie.\n",
    "9. Guarda la serie en .csv.\n",
    "10. Crea una nueva serie ss desplazando la serie dos términos en su lugar. ¿Cuántos elementos faltantes tiene?\n",
    "11. Sustituye los valores faltantes por la mediana de la serie.\n",
    "\n",
    "\n",
    "### SOLUCIÓN:\n",
    "\n"
   ]
  },
  {
   "cell_type": "code",
   "execution_count": 1,
   "metadata": {
    "collapsed": false
   },
   "outputs": [
    {
     "data": {
      "text/plain": [
       "b    5\n",
       "d    0\n",
       "c    3\n",
       "a    3\n",
       "e    7\n",
       "dtype: int64"
      ]
     },
     "execution_count": 1,
     "metadata": {},
     "output_type": "execute_result"
    }
   ],
   "source": [
    "import pandas as pd\n",
    "import numpy as np\n",
    "\n",
    "np.random.seed(0)\n",
    "s=pd.Series(np.random.randint(0,10,5),index=['b','d','c','a','e'])\n",
    "s"
   ]
  },
  {
   "cell_type": "code",
   "execution_count": 2,
   "metadata": {
    "collapsed": false
   },
   "outputs": [
    {
     "data": {
      "text/plain": [
       "True"
      ]
     },
     "execution_count": 2,
     "metadata": {},
     "output_type": "execute_result"
    }
   ],
   "source": [
    "'b' in s"
   ]
  },
  {
   "cell_type": "code",
   "execution_count": 3,
   "metadata": {
    "collapsed": false
   },
   "outputs": [
    {
     "data": {
      "text/plain": [
       "5"
      ]
     },
     "execution_count": 3,
     "metadata": {},
     "output_type": "execute_result"
    }
   ],
   "source": [
    "s['b']"
   ]
  },
  {
   "cell_type": "code",
   "execution_count": 4,
   "metadata": {
    "collapsed": false
   },
   "outputs": [
    {
     "data": {
      "text/plain": [
       "c    3\n",
       "a    3\n",
       "e    7\n",
       "dtype: int64"
      ]
     },
     "execution_count": 4,
     "metadata": {},
     "output_type": "execute_result"
    }
   ],
   "source": [
    "s[-3:]"
   ]
  },
  {
   "cell_type": "code",
   "execution_count": 5,
   "metadata": {
    "collapsed": false
   },
   "outputs": [
    {
     "data": {
      "text/plain": [
       "b    5\n",
       "e    7\n",
       "dtype: int64"
      ]
     },
     "execution_count": 5,
     "metadata": {},
     "output_type": "execute_result"
    }
   ],
   "source": [
    "s[s>=5]"
   ]
  },
  {
   "cell_type": "code",
   "execution_count": 6,
   "metadata": {
    "collapsed": false,
    "scrolled": true
   },
   "outputs": [
    {
     "data": {
      "text/plain": [
       "b    4\n",
       "d    0\n",
       "c    3\n",
       "a    3\n",
       "e    6\n",
       "dtype: int64"
      ]
     },
     "execution_count": 6,
     "metadata": {},
     "output_type": "execute_result"
    }
   ],
   "source": [
    "s[s>=5]+=-1\n",
    "s"
   ]
  },
  {
   "cell_type": "code",
   "execution_count": 7,
   "metadata": {
    "collapsed": false
   },
   "outputs": [
    {
     "data": {
      "text/plain": [
       "Letras\n",
       "a    3\n",
       "b    4\n",
       "c    3\n",
       "d    0\n",
       "e    6\n",
       "dtype: int64"
      ]
     },
     "execution_count": 7,
     "metadata": {},
     "output_type": "execute_result"
    }
   ],
   "source": [
    "s.sort_index(inplace=True)\n",
    "s.index.name='Letras'\n",
    "s"
   ]
  },
  {
   "cell_type": "code",
   "execution_count": 8,
   "metadata": {
    "collapsed": false
   },
   "outputs": [
    {
     "data": {
      "text/plain": [
       "Letras\n",
       "e    6\n",
       "b    4\n",
       "c    3\n",
       "a    3\n",
       "d    0\n",
       "dtype: int64"
      ]
     },
     "execution_count": 8,
     "metadata": {},
     "output_type": "execute_result"
    }
   ],
   "source": [
    "s.sort_values(ascending=False)"
   ]
  },
  {
   "cell_type": "code",
   "execution_count": 9,
   "metadata": {
    "collapsed": false
   },
   "outputs": [
    {
     "data": {
      "text/plain": [
       "{'a': 3, 'b': 4, 'c': 3, 'd': 0, 'e': 6}"
      ]
     },
     "execution_count": 9,
     "metadata": {},
     "output_type": "execute_result"
    }
   ],
   "source": [
    "s.to_dict()"
   ]
  },
  {
   "cell_type": "code",
   "execution_count": 10,
   "metadata": {
    "collapsed": true
   },
   "outputs": [],
   "source": [
    "s.to_csv('serie.csv')"
   ]
  },
  {
   "cell_type": "code",
   "execution_count": 11,
   "metadata": {
    "collapsed": false
   },
   "outputs": [
    {
     "name": "stdout",
     "output_type": "stream",
     "text": [
      "a,3\r\n",
      "b,4\r\n",
      "c,3\r\n",
      "d,0\r\n",
      "e,6\r\n"
     ]
    }
   ],
   "source": [
    "!cat serie.csv"
   ]
  },
  {
   "cell_type": "code",
   "execution_count": 12,
   "metadata": {
    "collapsed": false
   },
   "outputs": [
    {
     "data": {
      "text/plain": [
       "Letras\n",
       "a    NaN\n",
       "b    NaN\n",
       "c    3.0\n",
       "d    4.0\n",
       "e    3.0\n",
       "dtype: float64"
      ]
     },
     "execution_count": 12,
     "metadata": {},
     "output_type": "execute_result"
    }
   ],
   "source": [
    "ss=s.shift(2)\n",
    "ss"
   ]
  },
  {
   "cell_type": "code",
   "execution_count": 13,
   "metadata": {
    "collapsed": false
   },
   "outputs": [
    {
     "data": {
      "text/plain": [
       "2"
      ]
     },
     "execution_count": 13,
     "metadata": {},
     "output_type": "execute_result"
    }
   ],
   "source": [
    "ss.isnull().sum()"
   ]
  },
  {
   "cell_type": "code",
   "execution_count": 14,
   "metadata": {
    "collapsed": false
   },
   "outputs": [
    {
     "data": {
      "text/plain": [
       "Letras\n",
       "a    3.0\n",
       "b    3.0\n",
       "c    3.0\n",
       "d    4.0\n",
       "e    3.0\n",
       "dtype: float64"
      ]
     },
     "execution_count": 14,
     "metadata": {},
     "output_type": "execute_result"
    }
   ],
   "source": [
    "ss.fillna(np.nanmedian(ss),inplace=True)\n",
    "ss"
   ]
  },
  {
   "cell_type": "markdown",
   "metadata": {},
   "source": [
    "### DataFrames\n",
    "\n",
    "1. Crea el DataFrame\n",
    "\n",
    "        pd.DataFrame({'a': np.random.randn(7),\n",
    "                'b': ['Azul', 'Rojo'] * 3+['Verde'],\n",
    "                'c': np.random.randn(7)},index=list('LMXJVSD'))\n",
    "2. Crea una nueva columna 'd' con valores naturales empezando en 10.\n",
    "3. Obtén los tipos de las columnas.\n",
    "4. Extrae:\n",
    "    - Primeras 3 filas.\n",
    "    - Últimas 2 filas.\n",
    "    - Últimas filas desde el jueves.\n",
    "    - Últimas 2 columnas.\n",
    "    - Últimas 2 filas y 2 columnas.\n",
    "    - Filas de miércoles a sábado de las dos primeras columnas.\n",
    "    - Filas lunes y jueves con columnas b y d.\n",
    "    - Filas en las que `b` es Rojo.\n",
    "    - Filas en las que `b` es Rojo ó Verde y c mayor que -0.5.\n",
    "    - Posiciones de la columna `a` en las que las  `b` es Rojo ó Verde ó c mayor que 1. \n",
    "    - Serie de booleanos marcando las filas en las que `a` es positivo.\n",
    "    - Usa la serie anterior para obtener los valores de la columna `c` en los que se cumplen.\n",
    "    \n",
    "5. Cambia el nombre de las columnas a `['Valores','Color','Sesgo','Cantidad']` y pon el nombre del índice `'Días'`.\n",
    "6. Crea una Series con el DataFrame.\n",
    "7. Pasa los índices a columnas.\n",
    "8. Pasa la columna `'Color'` al índice del DataFrame.\n",
    "9. Selecciona las filas de color Azul.\n",
    "10. Guarda el DataFrame en un .csv. Usa como separador `;` y como decimales `,`. No guardes el índice.\n",
    "\n",
    "### SOLUCIÓN:"
   ]
  },
  {
   "cell_type": "code",
   "execution_count": 15,
   "metadata": {
    "collapsed": false
   },
   "outputs": [
    {
     "data": {
      "text/html": [
       "<div>\n",
       "<table border=\"1\" class=\"dataframe\">\n",
       "  <thead>\n",
       "    <tr style=\"text-align: right;\">\n",
       "      <th></th>\n",
       "      <th>a</th>\n",
       "      <th>b</th>\n",
       "      <th>c</th>\n",
       "    </tr>\n",
       "  </thead>\n",
       "  <tbody>\n",
       "    <tr>\n",
       "      <th>L</th>\n",
       "      <td>1.867558</td>\n",
       "      <td>Azul</td>\n",
       "      <td>1.454274</td>\n",
       "    </tr>\n",
       "    <tr>\n",
       "      <th>M</th>\n",
       "      <td>-0.977278</td>\n",
       "      <td>Rojo</td>\n",
       "      <td>0.761038</td>\n",
       "    </tr>\n",
       "    <tr>\n",
       "      <th>X</th>\n",
       "      <td>0.950088</td>\n",
       "      <td>Azul</td>\n",
       "      <td>0.121675</td>\n",
       "    </tr>\n",
       "    <tr>\n",
       "      <th>J</th>\n",
       "      <td>-0.151357</td>\n",
       "      <td>Rojo</td>\n",
       "      <td>0.443863</td>\n",
       "    </tr>\n",
       "    <tr>\n",
       "      <th>V</th>\n",
       "      <td>-0.103219</td>\n",
       "      <td>Azul</td>\n",
       "      <td>0.333674</td>\n",
       "    </tr>\n",
       "    <tr>\n",
       "      <th>S</th>\n",
       "      <td>0.410599</td>\n",
       "      <td>Rojo</td>\n",
       "      <td>1.494079</td>\n",
       "    </tr>\n",
       "    <tr>\n",
       "      <th>D</th>\n",
       "      <td>0.144044</td>\n",
       "      <td>Verde</td>\n",
       "      <td>-0.205158</td>\n",
       "    </tr>\n",
       "  </tbody>\n",
       "</table>\n",
       "</div>"
      ],
      "text/plain": [
       "          a      b         c\n",
       "L  1.867558   Azul  1.454274\n",
       "M -0.977278   Rojo  0.761038\n",
       "X  0.950088   Azul  0.121675\n",
       "J -0.151357   Rojo  0.443863\n",
       "V -0.103219   Azul  0.333674\n",
       "S  0.410599   Rojo  1.494079\n",
       "D  0.144044  Verde -0.205158"
      ]
     },
     "execution_count": 15,
     "metadata": {},
     "output_type": "execute_result"
    }
   ],
   "source": [
    "df = pd.DataFrame({'a': np.random.randn(7),\n",
    "                'b': ['Azul', 'Rojo'] * 3+['Verde'],\n",
    "                'c': np.random.randn(7)},index=list('LMXJVSD'))\n",
    "\n",
    "df"
   ]
  },
  {
   "cell_type": "code",
   "execution_count": 16,
   "metadata": {
    "collapsed": false
   },
   "outputs": [
    {
     "data": {
      "text/html": [
       "<div>\n",
       "<table border=\"1\" class=\"dataframe\">\n",
       "  <thead>\n",
       "    <tr style=\"text-align: right;\">\n",
       "      <th></th>\n",
       "      <th>a</th>\n",
       "      <th>b</th>\n",
       "      <th>c</th>\n",
       "      <th>d</th>\n",
       "    </tr>\n",
       "  </thead>\n",
       "  <tbody>\n",
       "    <tr>\n",
       "      <th>L</th>\n",
       "      <td>1.867558</td>\n",
       "      <td>Azul</td>\n",
       "      <td>1.454274</td>\n",
       "      <td>10</td>\n",
       "    </tr>\n",
       "    <tr>\n",
       "      <th>M</th>\n",
       "      <td>-0.977278</td>\n",
       "      <td>Rojo</td>\n",
       "      <td>0.761038</td>\n",
       "      <td>11</td>\n",
       "    </tr>\n",
       "    <tr>\n",
       "      <th>X</th>\n",
       "      <td>0.950088</td>\n",
       "      <td>Azul</td>\n",
       "      <td>0.121675</td>\n",
       "      <td>12</td>\n",
       "    </tr>\n",
       "    <tr>\n",
       "      <th>J</th>\n",
       "      <td>-0.151357</td>\n",
       "      <td>Rojo</td>\n",
       "      <td>0.443863</td>\n",
       "      <td>13</td>\n",
       "    </tr>\n",
       "    <tr>\n",
       "      <th>V</th>\n",
       "      <td>-0.103219</td>\n",
       "      <td>Azul</td>\n",
       "      <td>0.333674</td>\n",
       "      <td>14</td>\n",
       "    </tr>\n",
       "    <tr>\n",
       "      <th>S</th>\n",
       "      <td>0.410599</td>\n",
       "      <td>Rojo</td>\n",
       "      <td>1.494079</td>\n",
       "      <td>15</td>\n",
       "    </tr>\n",
       "    <tr>\n",
       "      <th>D</th>\n",
       "      <td>0.144044</td>\n",
       "      <td>Verde</td>\n",
       "      <td>-0.205158</td>\n",
       "      <td>16</td>\n",
       "    </tr>\n",
       "  </tbody>\n",
       "</table>\n",
       "</div>"
      ],
      "text/plain": [
       "          a      b         c   d\n",
       "L  1.867558   Azul  1.454274  10\n",
       "M -0.977278   Rojo  0.761038  11\n",
       "X  0.950088   Azul  0.121675  12\n",
       "J -0.151357   Rojo  0.443863  13\n",
       "V -0.103219   Azul  0.333674  14\n",
       "S  0.410599   Rojo  1.494079  15\n",
       "D  0.144044  Verde -0.205158  16"
      ]
     },
     "execution_count": 16,
     "metadata": {},
     "output_type": "execute_result"
    }
   ],
   "source": [
    "df['d']=np.arange(10,17)\n",
    "df"
   ]
  },
  {
   "cell_type": "code",
   "execution_count": 17,
   "metadata": {
    "collapsed": false
   },
   "outputs": [
    {
     "data": {
      "text/plain": [
       "a    float64\n",
       "b     object\n",
       "c    float64\n",
       "d      int64\n",
       "dtype: object"
      ]
     },
     "execution_count": 17,
     "metadata": {},
     "output_type": "execute_result"
    }
   ],
   "source": [
    "df.dtypes"
   ]
  },
  {
   "cell_type": "code",
   "execution_count": 18,
   "metadata": {
    "collapsed": false
   },
   "outputs": [
    {
     "data": {
      "text/html": [
       "<div>\n",
       "<table border=\"1\" class=\"dataframe\">\n",
       "  <thead>\n",
       "    <tr style=\"text-align: right;\">\n",
       "      <th></th>\n",
       "      <th>a</th>\n",
       "      <th>b</th>\n",
       "      <th>c</th>\n",
       "      <th>d</th>\n",
       "    </tr>\n",
       "  </thead>\n",
       "  <tbody>\n",
       "    <tr>\n",
       "      <th>L</th>\n",
       "      <td>1.867558</td>\n",
       "      <td>Azul</td>\n",
       "      <td>1.454274</td>\n",
       "      <td>10</td>\n",
       "    </tr>\n",
       "    <tr>\n",
       "      <th>M</th>\n",
       "      <td>-0.977278</td>\n",
       "      <td>Rojo</td>\n",
       "      <td>0.761038</td>\n",
       "      <td>11</td>\n",
       "    </tr>\n",
       "    <tr>\n",
       "      <th>X</th>\n",
       "      <td>0.950088</td>\n",
       "      <td>Azul</td>\n",
       "      <td>0.121675</td>\n",
       "      <td>12</td>\n",
       "    </tr>\n",
       "  </tbody>\n",
       "</table>\n",
       "</div>"
      ],
      "text/plain": [
       "          a     b         c   d\n",
       "L  1.867558  Azul  1.454274  10\n",
       "M -0.977278  Rojo  0.761038  11\n",
       "X  0.950088  Azul  0.121675  12"
      ]
     },
     "execution_count": 18,
     "metadata": {},
     "output_type": "execute_result"
    }
   ],
   "source": [
    "df[:3]"
   ]
  },
  {
   "cell_type": "code",
   "execution_count": 19,
   "metadata": {
    "collapsed": false
   },
   "outputs": [
    {
     "data": {
      "text/html": [
       "<div>\n",
       "<table border=\"1\" class=\"dataframe\">\n",
       "  <thead>\n",
       "    <tr style=\"text-align: right;\">\n",
       "      <th></th>\n",
       "      <th>a</th>\n",
       "      <th>b</th>\n",
       "      <th>c</th>\n",
       "      <th>d</th>\n",
       "    </tr>\n",
       "  </thead>\n",
       "  <tbody>\n",
       "    <tr>\n",
       "      <th>S</th>\n",
       "      <td>0.410599</td>\n",
       "      <td>Rojo</td>\n",
       "      <td>1.494079</td>\n",
       "      <td>15</td>\n",
       "    </tr>\n",
       "    <tr>\n",
       "      <th>D</th>\n",
       "      <td>0.144044</td>\n",
       "      <td>Verde</td>\n",
       "      <td>-0.205158</td>\n",
       "      <td>16</td>\n",
       "    </tr>\n",
       "  </tbody>\n",
       "</table>\n",
       "</div>"
      ],
      "text/plain": [
       "          a      b         c   d\n",
       "S  0.410599   Rojo  1.494079  15\n",
       "D  0.144044  Verde -0.205158  16"
      ]
     },
     "execution_count": 19,
     "metadata": {},
     "output_type": "execute_result"
    }
   ],
   "source": [
    "df[-2:]"
   ]
  },
  {
   "cell_type": "code",
   "execution_count": 20,
   "metadata": {
    "collapsed": false
   },
   "outputs": [
    {
     "data": {
      "text/html": [
       "<div>\n",
       "<table border=\"1\" class=\"dataframe\">\n",
       "  <thead>\n",
       "    <tr style=\"text-align: right;\">\n",
       "      <th></th>\n",
       "      <th>a</th>\n",
       "      <th>b</th>\n",
       "      <th>c</th>\n",
       "      <th>d</th>\n",
       "    </tr>\n",
       "  </thead>\n",
       "  <tbody>\n",
       "    <tr>\n",
       "      <th>J</th>\n",
       "      <td>-0.151357</td>\n",
       "      <td>Rojo</td>\n",
       "      <td>0.443863</td>\n",
       "      <td>13</td>\n",
       "    </tr>\n",
       "    <tr>\n",
       "      <th>V</th>\n",
       "      <td>-0.103219</td>\n",
       "      <td>Azul</td>\n",
       "      <td>0.333674</td>\n",
       "      <td>14</td>\n",
       "    </tr>\n",
       "    <tr>\n",
       "      <th>S</th>\n",
       "      <td>0.410599</td>\n",
       "      <td>Rojo</td>\n",
       "      <td>1.494079</td>\n",
       "      <td>15</td>\n",
       "    </tr>\n",
       "    <tr>\n",
       "      <th>D</th>\n",
       "      <td>0.144044</td>\n",
       "      <td>Verde</td>\n",
       "      <td>-0.205158</td>\n",
       "      <td>16</td>\n",
       "    </tr>\n",
       "  </tbody>\n",
       "</table>\n",
       "</div>"
      ],
      "text/plain": [
       "          a      b         c   d\n",
       "J -0.151357   Rojo  0.443863  13\n",
       "V -0.103219   Azul  0.333674  14\n",
       "S  0.410599   Rojo  1.494079  15\n",
       "D  0.144044  Verde -0.205158  16"
      ]
     },
     "execution_count": 20,
     "metadata": {},
     "output_type": "execute_result"
    }
   ],
   "source": [
    "df.ix['J':]"
   ]
  },
  {
   "cell_type": "code",
   "execution_count": 21,
   "metadata": {
    "collapsed": false
   },
   "outputs": [
    {
     "data": {
      "text/html": [
       "<div>\n",
       "<table border=\"1\" class=\"dataframe\">\n",
       "  <thead>\n",
       "    <tr style=\"text-align: right;\">\n",
       "      <th></th>\n",
       "      <th>c</th>\n",
       "      <th>d</th>\n",
       "    </tr>\n",
       "  </thead>\n",
       "  <tbody>\n",
       "    <tr>\n",
       "      <th>L</th>\n",
       "      <td>1.454274</td>\n",
       "      <td>10</td>\n",
       "    </tr>\n",
       "    <tr>\n",
       "      <th>M</th>\n",
       "      <td>0.761038</td>\n",
       "      <td>11</td>\n",
       "    </tr>\n",
       "    <tr>\n",
       "      <th>X</th>\n",
       "      <td>0.121675</td>\n",
       "      <td>12</td>\n",
       "    </tr>\n",
       "    <tr>\n",
       "      <th>J</th>\n",
       "      <td>0.443863</td>\n",
       "      <td>13</td>\n",
       "    </tr>\n",
       "    <tr>\n",
       "      <th>V</th>\n",
       "      <td>0.333674</td>\n",
       "      <td>14</td>\n",
       "    </tr>\n",
       "    <tr>\n",
       "      <th>S</th>\n",
       "      <td>1.494079</td>\n",
       "      <td>15</td>\n",
       "    </tr>\n",
       "    <tr>\n",
       "      <th>D</th>\n",
       "      <td>-0.205158</td>\n",
       "      <td>16</td>\n",
       "    </tr>\n",
       "  </tbody>\n",
       "</table>\n",
       "</div>"
      ],
      "text/plain": [
       "          c   d\n",
       "L  1.454274  10\n",
       "M  0.761038  11\n",
       "X  0.121675  12\n",
       "J  0.443863  13\n",
       "V  0.333674  14\n",
       "S  1.494079  15\n",
       "D -0.205158  16"
      ]
     },
     "execution_count": 21,
     "metadata": {},
     "output_type": "execute_result"
    }
   ],
   "source": [
    "df.ix[:,-2:]"
   ]
  },
  {
   "cell_type": "code",
   "execution_count": 22,
   "metadata": {
    "collapsed": false
   },
   "outputs": [
    {
     "data": {
      "text/html": [
       "<div>\n",
       "<table border=\"1\" class=\"dataframe\">\n",
       "  <thead>\n",
       "    <tr style=\"text-align: right;\">\n",
       "      <th></th>\n",
       "      <th>c</th>\n",
       "      <th>d</th>\n",
       "    </tr>\n",
       "  </thead>\n",
       "  <tbody>\n",
       "    <tr>\n",
       "      <th>S</th>\n",
       "      <td>1.494079</td>\n",
       "      <td>15</td>\n",
       "    </tr>\n",
       "    <tr>\n",
       "      <th>D</th>\n",
       "      <td>-0.205158</td>\n",
       "      <td>16</td>\n",
       "    </tr>\n",
       "  </tbody>\n",
       "</table>\n",
       "</div>"
      ],
      "text/plain": [
       "          c   d\n",
       "S  1.494079  15\n",
       "D -0.205158  16"
      ]
     },
     "execution_count": 22,
     "metadata": {},
     "output_type": "execute_result"
    }
   ],
   "source": [
    "df.ix[-2:,-2:]"
   ]
  },
  {
   "cell_type": "code",
   "execution_count": 23,
   "metadata": {
    "collapsed": false
   },
   "outputs": [
    {
     "data": {
      "text/html": [
       "<div>\n",
       "<table border=\"1\" class=\"dataframe\">\n",
       "  <thead>\n",
       "    <tr style=\"text-align: right;\">\n",
       "      <th></th>\n",
       "      <th>a</th>\n",
       "      <th>b</th>\n",
       "    </tr>\n",
       "  </thead>\n",
       "  <tbody>\n",
       "    <tr>\n",
       "      <th>X</th>\n",
       "      <td>0.950088</td>\n",
       "      <td>Azul</td>\n",
       "    </tr>\n",
       "    <tr>\n",
       "      <th>J</th>\n",
       "      <td>-0.151357</td>\n",
       "      <td>Rojo</td>\n",
       "    </tr>\n",
       "    <tr>\n",
       "      <th>V</th>\n",
       "      <td>-0.103219</td>\n",
       "      <td>Azul</td>\n",
       "    </tr>\n",
       "    <tr>\n",
       "      <th>S</th>\n",
       "      <td>0.410599</td>\n",
       "      <td>Rojo</td>\n",
       "    </tr>\n",
       "  </tbody>\n",
       "</table>\n",
       "</div>"
      ],
      "text/plain": [
       "          a     b\n",
       "X  0.950088  Azul\n",
       "J -0.151357  Rojo\n",
       "V -0.103219  Azul\n",
       "S  0.410599  Rojo"
      ]
     },
     "execution_count": 23,
     "metadata": {},
     "output_type": "execute_result"
    }
   ],
   "source": [
    "df.ix['X':'S',:2]"
   ]
  },
  {
   "cell_type": "code",
   "execution_count": 24,
   "metadata": {
    "collapsed": false
   },
   "outputs": [
    {
     "data": {
      "text/html": [
       "<div>\n",
       "<table border=\"1\" class=\"dataframe\">\n",
       "  <thead>\n",
       "    <tr style=\"text-align: right;\">\n",
       "      <th></th>\n",
       "      <th>b</th>\n",
       "      <th>d</th>\n",
       "    </tr>\n",
       "  </thead>\n",
       "  <tbody>\n",
       "    <tr>\n",
       "      <th>L</th>\n",
       "      <td>Azul</td>\n",
       "      <td>10</td>\n",
       "    </tr>\n",
       "    <tr>\n",
       "      <th>J</th>\n",
       "      <td>Rojo</td>\n",
       "      <td>13</td>\n",
       "    </tr>\n",
       "  </tbody>\n",
       "</table>\n",
       "</div>"
      ],
      "text/plain": [
       "      b   d\n",
       "L  Azul  10\n",
       "J  Rojo  13"
      ]
     },
     "execution_count": 24,
     "metadata": {},
     "output_type": "execute_result"
    }
   ],
   "source": [
    "df.ix[['L','J'],['b','d']]"
   ]
  },
  {
   "cell_type": "code",
   "execution_count": 25,
   "metadata": {
    "collapsed": false
   },
   "outputs": [
    {
     "data": {
      "text/html": [
       "<div>\n",
       "<table border=\"1\" class=\"dataframe\">\n",
       "  <thead>\n",
       "    <tr style=\"text-align: right;\">\n",
       "      <th></th>\n",
       "      <th>a</th>\n",
       "      <th>b</th>\n",
       "      <th>c</th>\n",
       "      <th>d</th>\n",
       "    </tr>\n",
       "  </thead>\n",
       "  <tbody>\n",
       "    <tr>\n",
       "      <th>M</th>\n",
       "      <td>-0.977278</td>\n",
       "      <td>Rojo</td>\n",
       "      <td>0.761038</td>\n",
       "      <td>11</td>\n",
       "    </tr>\n",
       "    <tr>\n",
       "      <th>J</th>\n",
       "      <td>-0.151357</td>\n",
       "      <td>Rojo</td>\n",
       "      <td>0.443863</td>\n",
       "      <td>13</td>\n",
       "    </tr>\n",
       "    <tr>\n",
       "      <th>S</th>\n",
       "      <td>0.410599</td>\n",
       "      <td>Rojo</td>\n",
       "      <td>1.494079</td>\n",
       "      <td>15</td>\n",
       "    </tr>\n",
       "  </tbody>\n",
       "</table>\n",
       "</div>"
      ],
      "text/plain": [
       "          a     b         c   d\n",
       "M -0.977278  Rojo  0.761038  11\n",
       "J -0.151357  Rojo  0.443863  13\n",
       "S  0.410599  Rojo  1.494079  15"
      ]
     },
     "execution_count": 25,
     "metadata": {},
     "output_type": "execute_result"
    }
   ],
   "source": [
    "df.loc[df.b.isin(['Rojo'])]"
   ]
  },
  {
   "cell_type": "code",
   "execution_count": 26,
   "metadata": {
    "collapsed": false
   },
   "outputs": [
    {
     "data": {
      "text/html": [
       "<div>\n",
       "<table border=\"1\" class=\"dataframe\">\n",
       "  <thead>\n",
       "    <tr style=\"text-align: right;\">\n",
       "      <th></th>\n",
       "      <th>a</th>\n",
       "      <th>b</th>\n",
       "      <th>c</th>\n",
       "      <th>d</th>\n",
       "    </tr>\n",
       "  </thead>\n",
       "  <tbody>\n",
       "    <tr>\n",
       "      <th>L</th>\n",
       "      <td>1.867558</td>\n",
       "      <td>Azul</td>\n",
       "      <td>1.454274</td>\n",
       "      <td>10</td>\n",
       "    </tr>\n",
       "    <tr>\n",
       "      <th>M</th>\n",
       "      <td>-0.977278</td>\n",
       "      <td>Rojo</td>\n",
       "      <td>0.761038</td>\n",
       "      <td>11</td>\n",
       "    </tr>\n",
       "    <tr>\n",
       "      <th>X</th>\n",
       "      <td>0.950088</td>\n",
       "      <td>Azul</td>\n",
       "      <td>0.121675</td>\n",
       "      <td>12</td>\n",
       "    </tr>\n",
       "    <tr>\n",
       "      <th>J</th>\n",
       "      <td>-0.151357</td>\n",
       "      <td>Rojo</td>\n",
       "      <td>0.443863</td>\n",
       "      <td>13</td>\n",
       "    </tr>\n",
       "    <tr>\n",
       "      <th>V</th>\n",
       "      <td>-0.103219</td>\n",
       "      <td>Azul</td>\n",
       "      <td>0.333674</td>\n",
       "      <td>14</td>\n",
       "    </tr>\n",
       "    <tr>\n",
       "      <th>S</th>\n",
       "      <td>0.410599</td>\n",
       "      <td>Rojo</td>\n",
       "      <td>1.494079</td>\n",
       "      <td>15</td>\n",
       "    </tr>\n",
       "    <tr>\n",
       "      <th>D</th>\n",
       "      <td>0.144044</td>\n",
       "      <td>Verde</td>\n",
       "      <td>-0.205158</td>\n",
       "      <td>16</td>\n",
       "    </tr>\n",
       "  </tbody>\n",
       "</table>\n",
       "</div>"
      ],
      "text/plain": [
       "          a      b         c   d\n",
       "L  1.867558   Azul  1.454274  10\n",
       "M -0.977278   Rojo  0.761038  11\n",
       "X  0.950088   Azul  0.121675  12\n",
       "J -0.151357   Rojo  0.443863  13\n",
       "V -0.103219   Azul  0.333674  14\n",
       "S  0.410599   Rojo  1.494079  15\n",
       "D  0.144044  Verde -0.205158  16"
      ]
     },
     "execution_count": 26,
     "metadata": {},
     "output_type": "execute_result"
    }
   ],
   "source": [
    "df.loc[df.b.isin(['Rojo','Verde']) & df.c>-0.5]"
   ]
  },
  {
   "cell_type": "code",
   "execution_count": 27,
   "metadata": {
    "collapsed": false
   },
   "outputs": [
    {
     "data": {
      "text/plain": [
       "L    1.867558\n",
       "M   -0.977278\n",
       "J   -0.151357\n",
       "S    0.410599\n",
       "D    0.144044\n",
       "Name: a, dtype: float64"
      ]
     },
     "execution_count": 27,
     "metadata": {},
     "output_type": "execute_result"
    }
   ],
   "source": [
    "df['a'].loc[df.b.isin(['Rojo','Verde']) | (df.c>1)]"
   ]
  },
  {
   "cell_type": "code",
   "execution_count": 28,
   "metadata": {
    "collapsed": false
   },
   "outputs": [
    {
     "data": {
      "text/plain": [
       "L     True\n",
       "M    False\n",
       "X     True\n",
       "J    False\n",
       "V    False\n",
       "S     True\n",
       "D     True\n",
       "Name: a, dtype: bool"
      ]
     },
     "execution_count": 28,
     "metadata": {},
     "output_type": "execute_result"
    }
   ],
   "source": [
    "df['a']>0"
   ]
  },
  {
   "cell_type": "code",
   "execution_count": 29,
   "metadata": {
    "collapsed": false
   },
   "outputs": [
    {
     "data": {
      "text/plain": [
       "L    1.454274\n",
       "X    0.121675\n",
       "S    1.494079\n",
       "D   -0.205158\n",
       "Name: c, dtype: float64"
      ]
     },
     "execution_count": 29,
     "metadata": {},
     "output_type": "execute_result"
    }
   ],
   "source": [
    "df.c[df.a>0]"
   ]
  },
  {
   "cell_type": "code",
   "execution_count": 30,
   "metadata": {
    "collapsed": false
   },
   "outputs": [
    {
     "data": {
      "text/html": [
       "<div>\n",
       "<table border=\"1\" class=\"dataframe\">\n",
       "  <thead>\n",
       "    <tr style=\"text-align: right;\">\n",
       "      <th></th>\n",
       "      <th>Valoración</th>\n",
       "      <th>Color</th>\n",
       "      <th>Sesgo</th>\n",
       "      <th>Cantidad</th>\n",
       "    </tr>\n",
       "    <tr>\n",
       "      <th>Días</th>\n",
       "      <th></th>\n",
       "      <th></th>\n",
       "      <th></th>\n",
       "      <th></th>\n",
       "    </tr>\n",
       "  </thead>\n",
       "  <tbody>\n",
       "    <tr>\n",
       "      <th>L</th>\n",
       "      <td>1.867558</td>\n",
       "      <td>Azul</td>\n",
       "      <td>1.454274</td>\n",
       "      <td>10</td>\n",
       "    </tr>\n",
       "    <tr>\n",
       "      <th>M</th>\n",
       "      <td>-0.977278</td>\n",
       "      <td>Rojo</td>\n",
       "      <td>0.761038</td>\n",
       "      <td>11</td>\n",
       "    </tr>\n",
       "    <tr>\n",
       "      <th>X</th>\n",
       "      <td>0.950088</td>\n",
       "      <td>Azul</td>\n",
       "      <td>0.121675</td>\n",
       "      <td>12</td>\n",
       "    </tr>\n",
       "    <tr>\n",
       "      <th>J</th>\n",
       "      <td>-0.151357</td>\n",
       "      <td>Rojo</td>\n",
       "      <td>0.443863</td>\n",
       "      <td>13</td>\n",
       "    </tr>\n",
       "    <tr>\n",
       "      <th>V</th>\n",
       "      <td>-0.103219</td>\n",
       "      <td>Azul</td>\n",
       "      <td>0.333674</td>\n",
       "      <td>14</td>\n",
       "    </tr>\n",
       "    <tr>\n",
       "      <th>S</th>\n",
       "      <td>0.410599</td>\n",
       "      <td>Rojo</td>\n",
       "      <td>1.494079</td>\n",
       "      <td>15</td>\n",
       "    </tr>\n",
       "    <tr>\n",
       "      <th>D</th>\n",
       "      <td>0.144044</td>\n",
       "      <td>Verde</td>\n",
       "      <td>-0.205158</td>\n",
       "      <td>16</td>\n",
       "    </tr>\n",
       "  </tbody>\n",
       "</table>\n",
       "</div>"
      ],
      "text/plain": [
       "      Valoración  Color     Sesgo  Cantidad\n",
       "Días                                       \n",
       "L       1.867558   Azul  1.454274        10\n",
       "M      -0.977278   Rojo  0.761038        11\n",
       "X       0.950088   Azul  0.121675        12\n",
       "J      -0.151357   Rojo  0.443863        13\n",
       "V      -0.103219   Azul  0.333674        14\n",
       "S       0.410599   Rojo  1.494079        15\n",
       "D       0.144044  Verde -0.205158        16"
      ]
     },
     "execution_count": 30,
     "metadata": {},
     "output_type": "execute_result"
    }
   ],
   "source": [
    "df.index.name='Días'\n",
    "df.columns=['Valoración','Color','Sesgo','Cantidad']\n",
    "df"
   ]
  },
  {
   "cell_type": "code",
   "execution_count": 31,
   "metadata": {
    "collapsed": false
   },
   "outputs": [
    {
     "data": {
      "text/plain": [
       "Días            \n",
       "L     Valoración     1.86756\n",
       "      Color             Azul\n",
       "      Sesgo          1.45427\n",
       "      Cantidad            10\n",
       "M     Valoración   -0.977278\n",
       "      Color             Rojo\n",
       "      Sesgo         0.761038\n",
       "      Cantidad            11\n",
       "X     Valoración    0.950088\n",
       "      Color             Azul\n",
       "      Sesgo         0.121675\n",
       "      Cantidad            12\n",
       "J     Valoración   -0.151357\n",
       "      Color             Rojo\n",
       "      Sesgo         0.443863\n",
       "      Cantidad            13\n",
       "V     Valoración   -0.103219\n",
       "      Color             Azul\n",
       "      Sesgo         0.333674\n",
       "      Cantidad            14\n",
       "S     Valoración    0.410599\n",
       "      Color             Rojo\n",
       "      Sesgo          1.49408\n",
       "      Cantidad            15\n",
       "D     Valoración    0.144044\n",
       "      Color            Verde\n",
       "      Sesgo        -0.205158\n",
       "      Cantidad            16\n",
       "dtype: object"
      ]
     },
     "execution_count": 31,
     "metadata": {},
     "output_type": "execute_result"
    }
   ],
   "source": [
    "df.stack()"
   ]
  },
  {
   "cell_type": "code",
   "execution_count": 34,
   "metadata": {
    "collapsed": false
   },
   "outputs": [
    {
     "data": {
      "text/html": [
       "<div>\n",
       "<table border=\"1\" class=\"dataframe\">\n",
       "  <thead>\n",
       "    <tr style=\"text-align: right;\">\n",
       "      <th></th>\n",
       "      <th>Días</th>\n",
       "      <th>Color</th>\n",
       "      <th>Valoración</th>\n",
       "      <th>Sesgo</th>\n",
       "      <th>Cantidad</th>\n",
       "    </tr>\n",
       "  </thead>\n",
       "  <tbody>\n",
       "    <tr>\n",
       "      <th>0</th>\n",
       "      <td>D</td>\n",
       "      <td>Verde</td>\n",
       "      <td>0.144044</td>\n",
       "      <td>-0.205158</td>\n",
       "      <td>16</td>\n",
       "    </tr>\n",
       "    <tr>\n",
       "      <th>1</th>\n",
       "      <td>J</td>\n",
       "      <td>Rojo</td>\n",
       "      <td>-0.151357</td>\n",
       "      <td>0.443863</td>\n",
       "      <td>13</td>\n",
       "    </tr>\n",
       "    <tr>\n",
       "      <th>2</th>\n",
       "      <td>L</td>\n",
       "      <td>Azul</td>\n",
       "      <td>1.867558</td>\n",
       "      <td>1.454274</td>\n",
       "      <td>10</td>\n",
       "    </tr>\n",
       "    <tr>\n",
       "      <th>3</th>\n",
       "      <td>M</td>\n",
       "      <td>Rojo</td>\n",
       "      <td>-0.977278</td>\n",
       "      <td>0.761038</td>\n",
       "      <td>11</td>\n",
       "    </tr>\n",
       "    <tr>\n",
       "      <th>4</th>\n",
       "      <td>S</td>\n",
       "      <td>Rojo</td>\n",
       "      <td>0.410599</td>\n",
       "      <td>1.494079</td>\n",
       "      <td>15</td>\n",
       "    </tr>\n",
       "    <tr>\n",
       "      <th>5</th>\n",
       "      <td>V</td>\n",
       "      <td>Azul</td>\n",
       "      <td>-0.103219</td>\n",
       "      <td>0.333674</td>\n",
       "      <td>14</td>\n",
       "    </tr>\n",
       "    <tr>\n",
       "      <th>6</th>\n",
       "      <td>X</td>\n",
       "      <td>Azul</td>\n",
       "      <td>0.950088</td>\n",
       "      <td>0.121675</td>\n",
       "      <td>12</td>\n",
       "    </tr>\n",
       "  </tbody>\n",
       "</table>\n",
       "</div>"
      ],
      "text/plain": [
       "  Días  Color  Valoración     Sesgo  Cantidad\n",
       "0    D  Verde    0.144044 -0.205158        16\n",
       "1    J   Rojo   -0.151357  0.443863        13\n",
       "2    L   Azul    1.867558  1.454274        10\n",
       "3    M   Rojo   -0.977278  0.761038        11\n",
       "4    S   Rojo    0.410599  1.494079        15\n",
       "5    V   Azul   -0.103219  0.333674        14\n",
       "6    X   Azul    0.950088  0.121675        12"
      ]
     },
     "execution_count": 34,
     "metadata": {},
     "output_type": "execute_result"
    }
   ],
   "source": [
    "df.reset_index()"
   ]
  },
  {
   "cell_type": "code",
   "execution_count": 32,
   "metadata": {
    "collapsed": false
   },
   "outputs": [
    {
     "data": {
      "text/html": [
       "<div>\n",
       "<table border=\"1\" class=\"dataframe\">\n",
       "  <thead>\n",
       "    <tr style=\"text-align: right;\">\n",
       "      <th></th>\n",
       "      <th></th>\n",
       "      <th>Valoración</th>\n",
       "      <th>Sesgo</th>\n",
       "      <th>Cantidad</th>\n",
       "    </tr>\n",
       "    <tr>\n",
       "      <th>Días</th>\n",
       "      <th>Color</th>\n",
       "      <th></th>\n",
       "      <th></th>\n",
       "      <th></th>\n",
       "    </tr>\n",
       "  </thead>\n",
       "  <tbody>\n",
       "    <tr>\n",
       "      <th>D</th>\n",
       "      <th>Verde</th>\n",
       "      <td>0.144044</td>\n",
       "      <td>-0.205158</td>\n",
       "      <td>16</td>\n",
       "    </tr>\n",
       "    <tr>\n",
       "      <th>J</th>\n",
       "      <th>Rojo</th>\n",
       "      <td>-0.151357</td>\n",
       "      <td>0.443863</td>\n",
       "      <td>13</td>\n",
       "    </tr>\n",
       "    <tr>\n",
       "      <th>L</th>\n",
       "      <th>Azul</th>\n",
       "      <td>1.867558</td>\n",
       "      <td>1.454274</td>\n",
       "      <td>10</td>\n",
       "    </tr>\n",
       "    <tr>\n",
       "      <th>M</th>\n",
       "      <th>Rojo</th>\n",
       "      <td>-0.977278</td>\n",
       "      <td>0.761038</td>\n",
       "      <td>11</td>\n",
       "    </tr>\n",
       "    <tr>\n",
       "      <th>S</th>\n",
       "      <th>Rojo</th>\n",
       "      <td>0.410599</td>\n",
       "      <td>1.494079</td>\n",
       "      <td>15</td>\n",
       "    </tr>\n",
       "    <tr>\n",
       "      <th>V</th>\n",
       "      <th>Azul</th>\n",
       "      <td>-0.103219</td>\n",
       "      <td>0.333674</td>\n",
       "      <td>14</td>\n",
       "    </tr>\n",
       "    <tr>\n",
       "      <th>X</th>\n",
       "      <th>Azul</th>\n",
       "      <td>0.950088</td>\n",
       "      <td>0.121675</td>\n",
       "      <td>12</td>\n",
       "    </tr>\n",
       "  </tbody>\n",
       "</table>\n",
       "</div>"
      ],
      "text/plain": [
       "            Valoración     Sesgo  Cantidad\n",
       "Días Color                                \n",
       "D    Verde    0.144044 -0.205158        16\n",
       "J    Rojo    -0.151357  0.443863        13\n",
       "L    Azul     1.867558  1.454274        10\n",
       "M    Rojo    -0.977278  0.761038        11\n",
       "S    Rojo     0.410599  1.494079        15\n",
       "V    Azul    -0.103219  0.333674        14\n",
       "X    Azul     0.950088  0.121675        12"
      ]
     },
     "execution_count": 32,
     "metadata": {},
     "output_type": "execute_result"
    }
   ],
   "source": [
    "df=df.reset_index('Color').set_index(['Días','Color'])\n",
    "df.sort_index(inplace=True)\n",
    "df"
   ]
  },
  {
   "cell_type": "code",
   "execution_count": 33,
   "metadata": {
    "collapsed": false
   },
   "outputs": [
    {
     "data": {
      "text/html": [
       "<div>\n",
       "<table border=\"1\" class=\"dataframe\">\n",
       "  <thead>\n",
       "    <tr style=\"text-align: right;\">\n",
       "      <th></th>\n",
       "      <th></th>\n",
       "      <th>Valoración</th>\n",
       "      <th>Sesgo</th>\n",
       "      <th>Cantidad</th>\n",
       "    </tr>\n",
       "    <tr>\n",
       "      <th>Días</th>\n",
       "      <th>Color</th>\n",
       "      <th></th>\n",
       "      <th></th>\n",
       "      <th></th>\n",
       "    </tr>\n",
       "  </thead>\n",
       "  <tbody>\n",
       "    <tr>\n",
       "      <th>L</th>\n",
       "      <th>Azul</th>\n",
       "      <td>1.867558</td>\n",
       "      <td>1.454274</td>\n",
       "      <td>10</td>\n",
       "    </tr>\n",
       "    <tr>\n",
       "      <th>V</th>\n",
       "      <th>Azul</th>\n",
       "      <td>-0.103219</td>\n",
       "      <td>0.333674</td>\n",
       "      <td>14</td>\n",
       "    </tr>\n",
       "    <tr>\n",
       "      <th>X</th>\n",
       "      <th>Azul</th>\n",
       "      <td>0.950088</td>\n",
       "      <td>0.121675</td>\n",
       "      <td>12</td>\n",
       "    </tr>\n",
       "  </tbody>\n",
       "</table>\n",
       "</div>"
      ],
      "text/plain": [
       "            Valoración     Sesgo  Cantidad\n",
       "Días Color                                \n",
       "L    Azul     1.867558  1.454274        10\n",
       "V    Azul    -0.103219  0.333674        14\n",
       "X    Azul     0.950088  0.121675        12"
      ]
     },
     "execution_count": 33,
     "metadata": {},
     "output_type": "execute_result"
    }
   ],
   "source": [
    "df.loc(axis=0)[:,'Azul']"
   ]
  },
  {
   "cell_type": "code",
   "execution_count": 35,
   "metadata": {
    "collapsed": true
   },
   "outputs": [],
   "source": [
    "df.to_csv('df.csv',sep=';',decimal=',',index=None)"
   ]
  },
  {
   "cell_type": "code",
   "execution_count": 36,
   "metadata": {
    "collapsed": false
   },
   "outputs": [
    {
     "name": "stdout",
     "output_type": "stream",
     "text": [
      "Valoración;Sesgo;Cantidad\r\n",
      "0,144043571160878;-0,20515826376580087;16\r\n",
      "-0,1513572082976979;0,44386323274542566;13\r\n",
      "1,8675579901499675;1,454273506962975;10\r\n",
      "-0,977277879876411;0,7610377251469934;11\r\n",
      "0,41059850193837233;1,4940790731576061;15\r\n",
      "-0,10321885179355784;0,33367432737426683;14\r\n",
      "0,9500884175255894;0,12167501649282841;12\r\n"
     ]
    }
   ],
   "source": [
    "!cat df.csv"
   ]
  }
 ],
 "metadata": {
  "anaconda-cloud": {},
  "kernelspec": {
   "display_name": "Python [conda root]",
   "language": "python",
   "name": "conda-root-py"
  },
  "language_info": {
   "codemirror_mode": {
    "name": "ipython",
    "version": 3
   },
   "file_extension": ".py",
   "mimetype": "text/x-python",
   "name": "python",
   "nbconvert_exporter": "python",
   "pygments_lexer": "ipython3",
   "version": "3.5.2"
  }
 },
 "nbformat": 4,
 "nbformat_minor": 1
}
