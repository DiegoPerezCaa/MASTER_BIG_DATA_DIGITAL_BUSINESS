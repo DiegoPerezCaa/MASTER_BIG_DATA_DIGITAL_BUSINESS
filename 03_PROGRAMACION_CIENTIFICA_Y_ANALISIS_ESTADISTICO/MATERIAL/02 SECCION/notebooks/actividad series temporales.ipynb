{
 "cells": [
  {
   "cell_type": "markdown",
   "metadata": {},
   "source": [
    "# ACTIVIDAD SERIES TEMPORALES\n",
    "\n",
    "a partir de una lista de fechas calcula los siguientes atributos en una tabla con variables dummy.\n",
    "\n",
    "hackea fecha festivos por ahí, jugar con formatos datetime\n",
    "\n",
    "coge la serie temporal de los vuelos. Está en sns.load_data https://github.com/mwaskom/seaborn-data flights\n",
    "\n",
    "pinta usando el propio pandas"
   ]
  },
  {
   "cell_type": "code",
   "execution_count": null,
   "metadata": {
    "collapsed": true
   },
   "outputs": [],
   "source": []
  }
 ],
 "metadata": {
  "anaconda-cloud": {},
  "kernelspec": {
   "display_name": "Python [conda root]",
   "language": "python",
   "name": "conda-root-py"
  },
  "language_info": {
   "codemirror_mode": {
    "name": "ipython",
    "version": 3
   },
   "file_extension": ".py",
   "mimetype": "text/x-python",
   "name": "python",
   "nbconvert_exporter": "python",
   "pygments_lexer": "ipython3",
   "version": "3.5.2"
  }
 },
 "nbformat": 4,
 "nbformat_minor": 1
}
