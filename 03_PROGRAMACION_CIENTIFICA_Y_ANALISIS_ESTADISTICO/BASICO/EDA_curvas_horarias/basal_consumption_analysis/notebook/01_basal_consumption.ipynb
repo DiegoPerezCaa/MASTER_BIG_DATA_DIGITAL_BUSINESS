{
 "cells": [
  {
   "cell_type": "code",
   "execution_count": 1,
   "metadata": {
    "ExecuteTime": {
     "end_time": "2019-12-26T19:33:20.804606Z",
     "start_time": "2019-12-26T19:33:20.788391Z"
    }
   },
   "outputs": [
    {
     "name": "stdout",
     "output_type": "stream",
     "text": [
      "/home\n"
     ]
    }
   ],
   "source": [
    "%load_ext autoreload\n",
    "%autoreload 2\n",
    "\n",
    "import os\n",
    "cwd = os.getcwd()\n",
    "sep = os.path.sep\n",
    "final_wd = sep.join(cwd.split(sep)[:-1])\n",
    "print(final_wd)\n",
    "os.chdir(final_wd)"
   ]
  },
  {
   "cell_type": "code",
   "execution_count": 2,
   "metadata": {
    "ExecuteTime": {
     "end_time": "2019-12-26T19:33:21.245676Z",
     "start_time": "2019-12-26T19:33:20.806180Z"
    }
   },
   "outputs": [
    {
     "data": {
      "text/plain": [
       "['.ipynb_checkpoints', 'infoenergia-0106741-05022019.csv']"
      ]
     },
     "execution_count": 2,
     "metadata": {},
     "output_type": "execute_result"
    }
   ],
   "source": [
    "import constants as ct\n",
    "import numpy as np\n",
    "import pandas as pd\n",
    "import matplotlib.pyplot as plt\n",
    "%matplotlib inline\n",
    "\n",
    "os.listdir(ct.DATA_FOLDER)"
   ]
  },
  {
   "cell_type": "code",
   "execution_count": 3,
   "metadata": {
    "ExecuteTime": {
     "end_time": "2019-12-26T19:33:21.261562Z",
     "start_time": "2019-12-26T19:33:21.247232Z"
    }
   },
   "outputs": [
    {
     "data": {
      "text/plain": [
       "0.183027"
      ]
     },
     "execution_count": 3,
     "metadata": {},
     "output_type": "execute_result"
    }
   ],
   "source": [
    "FIXED_COST = 0.044027\n",
    "KWH_PRICE = 0.139 + FIXED_COST\n",
    "KWH_PRICE"
   ]
  },
  {
   "cell_type": "code",
   "execution_count": 4,
   "metadata": {
    "ExecuteTime": {
     "end_time": "2019-12-26T19:33:21.275455Z",
     "start_time": "2019-12-26T19:33:21.262736Z"
    }
   },
   "outputs": [
    {
     "data": {
      "text/plain": [
       "(0.126027, 0.20502700000000001)"
      ]
     },
     "execution_count": 4,
     "metadata": {},
     "output_type": "execute_result"
    }
   ],
   "source": [
    "LOW_COST = 0.082 + FIXED_COST\n",
    "HIGH_COST = 0.161 + FIXED_COST\n",
    "LOW_COST, HIGH_COST"
   ]
  },
  {
   "cell_type": "code",
   "execution_count": 5,
   "metadata": {
    "ExecuteTime": {
     "end_time": "2019-12-26T19:33:21.857447Z",
     "start_time": "2019-12-26T19:33:21.276842Z"
    }
   },
   "outputs": [
    {
     "name": "stdout",
     "output_type": "stream",
     "text": [
      "ES0031102224538009AP0F;01/01/2019;00:00:00;0;1\r\n",
      "ES0031102224538009AP0F;02/01/2019;00:00:00;0;1\r\n",
      "ES0031102224538009AP0F;03/01/2019;00:00:00;0;1\r\n",
      "ES0031102224538009AP0F;04/01/2019;00:00:00;0;1\r\n",
      "ES0031102224538009AP0F;05/01/2019;00:00:00;0;1\r\n"
     ]
    }
   ],
   "source": [
    "!head -n 5 data/infoenergia-0106741-05022019.csv"
   ]
  },
  {
   "cell_type": "code",
   "execution_count": 6,
   "metadata": {
    "ExecuteTime": {
     "end_time": "2019-12-26T19:33:21.978182Z",
     "start_time": "2019-12-26T19:33:21.864023Z"
    }
   },
   "outputs": [
    {
     "data": {
      "text/html": [
       "<div>\n",
       "<style scoped>\n",
       "    .dataframe tbody tr th:only-of-type {\n",
       "        vertical-align: middle;\n",
       "    }\n",
       "\n",
       "    .dataframe tbody tr th {\n",
       "        vertical-align: top;\n",
       "    }\n",
       "\n",
       "    .dataframe thead th {\n",
       "        text-align: right;\n",
       "    }\n",
       "</style>\n",
       "<table border=\"1\" class=\"dataframe\">\n",
       "  <thead>\n",
       "    <tr style=\"text-align: right;\">\n",
       "      <th></th>\n",
       "      <th>date</th>\n",
       "      <th>hour</th>\n",
       "      <th>kwh</th>\n",
       "      <th>holiday</th>\n",
       "      <th>yearmonth</th>\n",
       "      <th>dow</th>\n",
       "      <th>is_weekend</th>\n",
       "      <th>is_working_time</th>\n",
       "      <th>is_night_time</th>\n",
       "      <th>cost</th>\n",
       "      <th>discriminative_cost</th>\n",
       "    </tr>\n",
       "    <tr>\n",
       "      <th>hourly_timestamp</th>\n",
       "      <th></th>\n",
       "      <th></th>\n",
       "      <th></th>\n",
       "      <th></th>\n",
       "      <th></th>\n",
       "      <th></th>\n",
       "      <th></th>\n",
       "      <th></th>\n",
       "      <th></th>\n",
       "      <th></th>\n",
       "      <th></th>\n",
       "    </tr>\n",
       "  </thead>\n",
       "  <tbody>\n",
       "    <tr>\n",
       "      <th>2019-02-15 01:00:00</th>\n",
       "      <td>2019-02-15</td>\n",
       "      <td>1</td>\n",
       "      <td>0.107</td>\n",
       "      <td>NaN</td>\n",
       "      <td>2019-02</td>\n",
       "      <td>Friday</td>\n",
       "      <td>False</td>\n",
       "      <td>False</td>\n",
       "      <td>True</td>\n",
       "      <td>0.019584</td>\n",
       "      <td>0.013485</td>\n",
       "    </tr>\n",
       "    <tr>\n",
       "      <th>2019-02-15 02:00:00</th>\n",
       "      <td>2019-02-15</td>\n",
       "      <td>2</td>\n",
       "      <td>0.102</td>\n",
       "      <td>NaN</td>\n",
       "      <td>2019-02</td>\n",
       "      <td>Friday</td>\n",
       "      <td>False</td>\n",
       "      <td>False</td>\n",
       "      <td>True</td>\n",
       "      <td>0.018669</td>\n",
       "      <td>0.012855</td>\n",
       "    </tr>\n",
       "    <tr>\n",
       "      <th>2019-02-15 03:00:00</th>\n",
       "      <td>2019-02-15</td>\n",
       "      <td>3</td>\n",
       "      <td>0.100</td>\n",
       "      <td>NaN</td>\n",
       "      <td>2019-02</td>\n",
       "      <td>Friday</td>\n",
       "      <td>False</td>\n",
       "      <td>False</td>\n",
       "      <td>True</td>\n",
       "      <td>0.018303</td>\n",
       "      <td>0.012603</td>\n",
       "    </tr>\n",
       "    <tr>\n",
       "      <th>2019-02-15 04:00:00</th>\n",
       "      <td>2019-02-15</td>\n",
       "      <td>4</td>\n",
       "      <td>0.103</td>\n",
       "      <td>NaN</td>\n",
       "      <td>2019-02</td>\n",
       "      <td>Friday</td>\n",
       "      <td>False</td>\n",
       "      <td>False</td>\n",
       "      <td>True</td>\n",
       "      <td>0.018852</td>\n",
       "      <td>0.012981</td>\n",
       "    </tr>\n",
       "    <tr>\n",
       "      <th>2019-02-15 05:00:00</th>\n",
       "      <td>2019-02-15</td>\n",
       "      <td>5</td>\n",
       "      <td>0.099</td>\n",
       "      <td>NaN</td>\n",
       "      <td>2019-02</td>\n",
       "      <td>Friday</td>\n",
       "      <td>False</td>\n",
       "      <td>False</td>\n",
       "      <td>True</td>\n",
       "      <td>0.018120</td>\n",
       "      <td>0.012477</td>\n",
       "    </tr>\n",
       "  </tbody>\n",
       "</table>\n",
       "</div>"
      ],
      "text/plain": [
       "                           date  hour    kwh  holiday yearmonth     dow  \\\n",
       "hourly_timestamp                                                          \n",
       "2019-02-15 01:00:00  2019-02-15     1  0.107      NaN   2019-02  Friday   \n",
       "2019-02-15 02:00:00  2019-02-15     2  0.102      NaN   2019-02  Friday   \n",
       "2019-02-15 03:00:00  2019-02-15     3  0.100      NaN   2019-02  Friday   \n",
       "2019-02-15 04:00:00  2019-02-15     4  0.103      NaN   2019-02  Friday   \n",
       "2019-02-15 05:00:00  2019-02-15     5  0.099      NaN   2019-02  Friday   \n",
       "\n",
       "                     is_weekend  is_working_time  is_night_time      cost  \\\n",
       "hourly_timestamp                                                            \n",
       "2019-02-15 01:00:00       False            False           True  0.019584   \n",
       "2019-02-15 02:00:00       False            False           True  0.018669   \n",
       "2019-02-15 03:00:00       False            False           True  0.018303   \n",
       "2019-02-15 04:00:00       False            False           True  0.018852   \n",
       "2019-02-15 05:00:00       False            False           True  0.018120   \n",
       "\n",
       "                     discriminative_cost  \n",
       "hourly_timestamp                          \n",
       "2019-02-15 01:00:00             0.013485  \n",
       "2019-02-15 02:00:00             0.012855  \n",
       "2019-02-15 03:00:00             0.012603  \n",
       "2019-02-15 04:00:00             0.012981  \n",
       "2019-02-15 05:00:00             0.012477  "
      ]
     },
     "execution_count": 6,
     "metadata": {},
     "output_type": "execute_result"
    }
   ],
   "source": [
    "df = pd.read_csv(ct.HOURLY_CONSUMPTION_FILE_PATH, \n",
    "                 sep=';', \n",
    "                 header=None)\n",
    "df.columns = ['account_name', 'date', 'hour', 'kwh', 'flag']\n",
    "df.kwh = df.kwh.astype('float').div(1000.0)\n",
    "df.drop(['account_name', 'flag'], inplace=True, axis=1)\n",
    "df.insert(0, 'hourly_timestamp', pd.to_datetime(df.date.str.cat(df.hour, sep='T'), \n",
    "                                                format=\"%d/%m/%YT%H:%M:%S\"))\n",
    "\n",
    "df = df.loc[df.hourly_timestamp.gt('2019-02-15') & df.hourly_timestamp.lt('2019-12-09')]\n",
    "\n",
    "df['holiday'] = np.nan\n",
    "df.holiday = df.holiday.astype('Int32')\n",
    "df.loc[df.hourly_timestamp.between('2019-04-16', '2019-04-22', inclusive=True), 'holiday'] = 1\n",
    "df.loc[df.hourly_timestamp.between('2019-08-16', '2019-08-19', inclusive=True), 'holiday'] = 1\n",
    "df.loc[df.hourly_timestamp.between('2019-08-21', '2019-08-26', inclusive=True), 'holiday'] = 1\n",
    "df.loc[df.hourly_timestamp.between('2019-08-29', '2019-09-01', inclusive=True), 'holiday'] = 1\n",
    "\n",
    "\n",
    "def get_feat_eng(df):\n",
    "    feat_eng_df = df.copy()\n",
    "    feat_eng_df['date'] = feat_eng_df.hourly_timestamp.dt.to_period('D')\n",
    "    feat_eng_df['yearmonth'] = feat_eng_df.hourly_timestamp.dt.to_period('M')\n",
    "    feat_eng_df['dow'] = feat_eng_df.hourly_timestamp.dt.weekday_name\n",
    "    feat_eng_df['is_weekend'] = feat_eng_df.dow.isin(['Saturday', 'Sunday'])\n",
    "    feat_eng_df['hour'] = feat_eng_df.hourly_timestamp.dt.hour\n",
    "    feat_eng_df['is_working_time'] = feat_eng_df.hour.between(9, 19, inclusive=True)\n",
    "    feat_eng_df['is_night_time'] = feat_eng_df.hour.between(0, 8, inclusive=True)\n",
    "    feat_eng_df['cost'] = feat_eng_df.kwh.mul(KWH_PRICE)\n",
    "    feat_eng_df['discriminative_cost'] = (feat_eng_df.kwh.mul(feat_eng_df.hour.between(12, 22))\n",
    "                                                         .mul(HIGH_COST)\n",
    "                                                         .add(\n",
    "                                          feat_eng_df.kwh.mul(~feat_eng_df.hour.between(12, 22)).mul(LOW_COST)))\n",
    "    \n",
    "    feat_eng_df.set_index('hourly_timestamp', inplace=True)\n",
    "    \n",
    "    return feat_eng_df\n",
    "\n",
    "\n",
    "df = get_feat_eng(df)\n",
    "df.head()"
   ]
  },
  {
   "cell_type": "code",
   "execution_count": 7,
   "metadata": {
    "ExecuteTime": {
     "end_time": "2019-12-26T19:33:22.368267Z",
     "start_time": "2019-12-26T19:33:21.980847Z"
    }
   },
   "outputs": [
    {
     "data": {
      "image/png": "[encoded data removed]",
      "text/plain": [
       "<Figure size 1080x576 with 1 Axes>"
      ]
     },
     "metadata": {
      "needs_background": "light"
     },
     "output_type": "display_data"
    }
   ],
   "source": [
    "df.resample('1D').kwh.sum().plot(figsize=(15, 8));"
   ]
  },
  {
   "cell_type": "markdown",
   "metadata": {},
   "source": [
    "# Empty house known consumption\n",
    "\n",
    "Hourly basal consumption is the mode of the hourly consumption when the house is empty."
   ]
  },
  {
   "cell_type": "code",
   "execution_count": 8,
   "metadata": {
    "ExecuteTime": {
     "end_time": "2019-12-26T19:33:22.545543Z",
     "start_time": "2019-12-26T19:33:22.370035Z"
    }
   },
   "outputs": [],
   "source": [
    "from scipy.stats.mstats import winsorize\n",
    "\n",
    "WINSOR_PROP = 0.1\n",
    "\n",
    "def take_mean_if_populated(series,\n",
    "                           min_pop=0,\n",
    "                           winsorize_lower=0.1,\n",
    "                           winsorize_upper=0.1):\n",
    "    not_null_arr = series\n",
    "\n",
    "    if not_null_arr.size >= min_pop:\n",
    "        winsorized_arr = np.array(winsorize(not_null_arr, limits=(winsorize_lower, winsorize_upper)))\n",
    "        val = np.mean(winsorized_arr)\n",
    "    else:\n",
    "        val = np.nan\n",
    "\n",
    "    return val\n"
   ]
  },
  {
   "cell_type": "code",
   "execution_count": 9,
   "metadata": {
    "ExecuteTime": {
     "end_time": "2019-12-26T19:33:22.562342Z",
     "start_time": "2019-12-26T19:33:22.546711Z"
    }
   },
   "outputs": [],
   "source": [
    "holiday_df = df.loc[df.holiday.eq(1)]"
   ]
  },
  {
   "cell_type": "code",
   "execution_count": 10,
   "metadata": {
    "ExecuteTime": {
     "end_time": "2019-12-26T19:33:22.581020Z",
     "start_time": "2019-12-26T19:33:22.563405Z"
    }
   },
   "outputs": [
    {
     "data": {
      "text/plain": [
       "count    412.000000\n",
       "mean       0.119716\n",
       "std        0.055435\n",
       "min        0.087000\n",
       "25%        0.099750\n",
       "50%        0.103000\n",
       "75%        0.138000\n",
       "max        0.768000\n",
       "Name: kwh, dtype: float64"
      ]
     },
     "execution_count": 10,
     "metadata": {},
     "output_type": "execute_result"
    }
   ],
   "source": [
    "holiday_df.kwh.describe()"
   ]
  },
  {
   "cell_type": "code",
   "execution_count": 11,
   "metadata": {
    "ExecuteTime": {
     "end_time": "2019-12-26T19:33:22.768415Z",
     "start_time": "2019-12-26T19:33:22.582090Z"
    }
   },
   "outputs": [
    {
     "data": {
      "image/png": "[encoded data removed]",
      "text/plain": [
       "<Figure size 432x288 with 1 Axes>"
      ]
     },
     "metadata": {
      "needs_background": "light"
     },
     "output_type": "display_data"
    }
   ],
   "source": [
    "holiday_df.kwh.loc[df.holiday.eq(1)].plot.hist(bins=30);"
   ]
  },
  {
   "cell_type": "code",
   "execution_count": 12,
   "metadata": {
    "ExecuteTime": {
     "end_time": "2019-12-26T19:33:22.950046Z",
     "start_time": "2019-12-26T19:33:22.769620Z"
    }
   },
   "outputs": [
    {
     "data": {
      "image/png": "[encoded data removed]",
      "text/plain": [
       "<Figure size 432x288 with 1 Axes>"
      ]
     },
     "metadata": {
      "needs_background": "light"
     },
     "output_type": "display_data"
    }
   ],
   "source": [
    "df.kwh.plot.hist(bins=30);"
   ]
  },
  {
   "cell_type": "markdown",
   "metadata": {},
   "source": [
    "This is the true base load:"
   ]
  },
  {
   "cell_type": "code",
   "execution_count": 13,
   "metadata": {
    "ExecuteTime": {
     "end_time": "2019-12-26T19:33:22.967144Z",
     "start_time": "2019-12-26T19:33:22.951206Z"
    }
   },
   "outputs": [
    {
     "data": {
      "text/plain": [
       "0.11348543689320388"
      ]
     },
     "execution_count": 13,
     "metadata": {},
     "output_type": "execute_result"
    }
   ],
   "source": [
    "basal_hourly_consumption_winsorized_mean = np.mean(winsorize(holiday_df.kwh, limits=WINSOR_PROP))\n",
    "basal_hourly_consumption_winsorized_mean"
   ]
  },
  {
   "cell_type": "code",
   "execution_count": 14,
   "metadata": {
    "ExecuteTime": {
     "end_time": "2019-12-26T19:33:22.993437Z",
     "start_time": "2019-12-26T19:33:22.968257Z"
    }
   },
   "outputs": [
    {
     "data": {
      "text/plain": [
       "0.10370588235294118"
      ]
     },
     "execution_count": 14,
     "metadata": {},
     "output_type": "execute_result"
    }
   ],
   "source": [
    "estimated_basal_consumption_by_hour = holiday_df.groupby('hour').kwh.apply(take_mean_if_populated).min()\n",
    "estimated_basal_consumption_by_hour"
   ]
  },
  {
   "cell_type": "markdown",
   "metadata": {},
   "source": [
    "# Basal consumption estimation"
   ]
  },
  {
   "cell_type": "code",
   "execution_count": 15,
   "metadata": {
    "ExecuteTime": {
     "end_time": "2019-12-26T19:33:23.007933Z",
     "start_time": "2019-12-26T19:33:22.994637Z"
    }
   },
   "outputs": [],
   "source": [
    "BASE_LOAD_QUANTILE_ESTIMATOR = 0.05"
   ]
  },
  {
   "cell_type": "code",
   "execution_count": 16,
   "metadata": {
    "ExecuteTime": {
     "end_time": "2019-12-26T19:33:23.225468Z",
     "start_time": "2019-12-26T19:33:23.009156Z"
    }
   },
   "outputs": [
    {
     "data": {
      "image/png": "[encoded data removed]",
      "text/plain": [
       "<Figure size 432x288 with 1 Axes>"
      ]
     },
     "metadata": {
      "needs_background": "light"
     },
     "output_type": "display_data"
    }
   ],
   "source": [
    "df.groupby('hour').kwh.apply(lambda series: take_mean_if_populated(series, \n",
    "                                                                   winsorize_lower=WINSOR_PROP,\n",
    "                                                                   winsorize_upper=WINSOR_PROP)).plot.bar();"
   ]
  },
  {
   "cell_type": "code",
   "execution_count": 17,
   "metadata": {
    "ExecuteTime": {
     "end_time": "2019-12-26T19:33:23.250327Z",
     "start_time": "2019-12-26T19:33:23.226756Z"
    }
   },
   "outputs": [
    {
     "data": {
      "text/plain": [
       "0.11369594594594594"
      ]
     },
     "execution_count": 17,
     "metadata": {},
     "output_type": "execute_result"
    }
   ],
   "source": [
    "estimated_basal_consumption_by_hour = df.groupby('hour').kwh.apply(take_mean_if_populated).min()\n",
    "estimated_basal_consumption_by_hour"
   ]
  },
  {
   "cell_type": "code",
   "execution_count": 18,
   "metadata": {
    "ExecuteTime": {
     "end_time": "2019-12-26T19:33:23.271789Z",
     "start_time": "2019-12-26T19:33:23.251565Z"
    }
   },
   "outputs": [
    {
     "data": {
      "text/plain": [
       "hourly_timestamp\n",
       "2019-02-15 01:00:00    0.10700\n",
       "2019-02-15 02:00:00    0.10225\n",
       "2019-02-15 03:00:00    0.10020\n",
       "2019-02-15 04:00:00    0.10030\n",
       "2019-02-15 05:00:00    0.09920\n",
       "                        ...   \n",
       "2019-12-07 20:00:00    0.08200\n",
       "2019-12-07 21:00:00    0.08200\n",
       "2019-12-07 22:00:00    0.08200\n",
       "2019-12-07 23:00:00    0.08200\n",
       "2019-12-08 00:00:00    0.08200\n",
       "Name: kwh, Length: 7103, dtype: float64"
      ]
     },
     "execution_count": 18,
     "metadata": {},
     "output_type": "execute_result"
    }
   ],
   "source": [
    "df.kwh.rolling('7D').quantile(BASE_LOAD_QUANTILE_ESTIMATOR)"
   ]
  },
  {
   "cell_type": "code",
   "execution_count": 19,
   "metadata": {
    "ExecuteTime": {
     "end_time": "2019-12-26T19:33:23.453720Z",
     "start_time": "2019-12-26T19:33:23.273353Z"
    }
   },
   "outputs": [
    {
     "data": {
      "image/png": "[encoded data removed]",
      "text/plain": [
       "<Figure size 432x288 with 1 Axes>"
      ]
     },
     "metadata": {
      "needs_background": "light"
     },
     "output_type": "display_data"
    }
   ],
   "source": [
    "df.kwh.rolling('7D').quantile(BASE_LOAD_QUANTILE_ESTIMATOR).plot();"
   ]
  },
  {
   "cell_type": "code",
   "execution_count": 20,
   "metadata": {
    "ExecuteTime": {
     "end_time": "2019-12-26T19:33:23.643582Z",
     "start_time": "2019-12-26T19:33:23.454935Z"
    }
   },
   "outputs": [
    {
     "data": {
      "image/png": "[encoded data removed]",
      "text/plain": [
       "<Figure size 432x288 with 1 Axes>"
      ]
     },
     "metadata": {
      "needs_background": "light"
     },
     "output_type": "display_data"
    }
   ],
   "source": [
    "df.kwh.rolling('30D').quantile(BASE_LOAD_QUANTILE_ESTIMATOR).plot();"
   ]
  },
  {
   "cell_type": "code",
   "execution_count": 21,
   "metadata": {
    "ExecuteTime": {
     "end_time": "2019-12-26T19:33:23.664237Z",
     "start_time": "2019-12-26T19:33:23.644802Z"
    }
   },
   "outputs": [
    {
     "data": {
      "text/plain": [
       "0.084"
      ]
     },
     "execution_count": 21,
     "metadata": {},
     "output_type": "execute_result"
    }
   ],
   "source": [
    "df.kwh.rolling('30D').quantile(BASE_LOAD_QUANTILE_ESTIMATOR).iloc[-1]"
   ]
  },
  {
   "cell_type": "code",
   "execution_count": 22,
   "metadata": {
    "ExecuteTime": {
     "end_time": "2019-12-26T19:33:23.685979Z",
     "start_time": "2019-12-26T19:33:23.666943Z"
    }
   },
   "outputs": [
    {
     "data": {
      "text/plain": [
       "0.082"
      ]
     },
     "execution_count": 22,
     "metadata": {},
     "output_type": "execute_result"
    }
   ],
   "source": [
    "df.kwh.rolling('24H').quantile(BASE_LOAD_QUANTILE_ESTIMATOR).iloc[-1]"
   ]
  },
  {
   "cell_type": "code",
   "execution_count": 23,
   "metadata": {
    "ExecuteTime": {
     "end_time": "2019-12-26T19:33:23.706497Z",
     "start_time": "2019-12-26T19:33:23.687416Z"
    }
   },
   "outputs": [
    {
     "data": {
      "text/plain": [
       "0.082"
      ]
     },
     "execution_count": 23,
     "metadata": {},
     "output_type": "execute_result"
    }
   ],
   "source": [
    "df.kwh.rolling('7D').quantile(BASE_LOAD_QUANTILE_ESTIMATOR).iloc[-1]"
   ]
  },
  {
   "cell_type": "code",
   "execution_count": 24,
   "metadata": {
    "ExecuteTime": {
     "end_time": "2019-12-26T19:33:23.733824Z",
     "start_time": "2019-12-26T19:33:23.707738Z"
    }
   },
   "outputs": [
    {
     "data": {
      "text/plain": [
       "7"
      ]
     },
     "execution_count": 24,
     "metadata": {},
     "output_type": "execute_result"
    }
   ],
   "source": [
    "df.groupby('hour').kwh.apply(take_mean_if_populated).idxmin()"
   ]
  },
  {
   "cell_type": "code",
   "execution_count": 25,
   "metadata": {
    "ExecuteTime": {
     "end_time": "2019-12-26T19:33:23.916296Z",
     "start_time": "2019-12-26T19:33:23.734931Z"
    }
   },
   "outputs": [
    {
     "name": "stdout",
     "output_type": "stream",
     "text": [
      "Base load hour is 7\n"
     ]
    },
    {
     "data": {
      "text/html": [
       "<div>\n",
       "<style scoped>\n",
       "    .dataframe tbody tr th:only-of-type {\n",
       "        vertical-align: middle;\n",
       "    }\n",
       "\n",
       "    .dataframe tbody tr th {\n",
       "        vertical-align: top;\n",
       "    }\n",
       "\n",
       "    .dataframe thead th {\n",
       "        text-align: right;\n",
       "    }\n",
       "</style>\n",
       "<table border=\"1\" class=\"dataframe\">\n",
       "  <thead>\n",
       "    <tr style=\"text-align: right;\">\n",
       "      <th></th>\n",
       "      <th>min_hour_mean</th>\n",
       "      <th>winsorized_mean</th>\n",
       "    </tr>\n",
       "  </thead>\n",
       "  <tbody>\n",
       "    <tr>\n",
       "      <th>24H</th>\n",
       "      <td>0.084000</td>\n",
       "      <td>0.082</td>\n",
       "    </tr>\n",
       "    <tr>\n",
       "      <th>3D</th>\n",
       "      <td>0.085667</td>\n",
       "      <td>0.082</td>\n",
       "    </tr>\n",
       "    <tr>\n",
       "      <th>7D</th>\n",
       "      <td>0.092286</td>\n",
       "      <td>0.082</td>\n",
       "    </tr>\n",
       "    <tr>\n",
       "      <th>30D</th>\n",
       "      <td>0.094700</td>\n",
       "      <td>0.084</td>\n",
       "    </tr>\n",
       "    <tr>\n",
       "      <th>90D</th>\n",
       "      <td>0.097767</td>\n",
       "      <td>0.086</td>\n",
       "    </tr>\n",
       "  </tbody>\n",
       "</table>\n",
       "</div>"
      ],
      "text/plain": [
       "     min_hour_mean  winsorized_mean\n",
       "24H       0.084000            0.082\n",
       "3D        0.085667            0.082\n",
       "7D        0.092286            0.082\n",
       "30D       0.094700            0.084\n",
       "90D       0.097767            0.086"
      ]
     },
     "execution_count": 25,
     "metadata": {},
     "output_type": "execute_result"
    }
   ],
   "source": [
    "def get_current_basal_estimation(df, \n",
    "                                 winsor_prop=WINSOR_PROP, \n",
    "                                 base_load_quant_est=BASE_LOAD_QUANTILE_ESTIMATOR):\n",
    "\n",
    "    ROLLING_STATISTIC_LIST = ['24H', '3D', '7D', '30D', '90D']\n",
    "\n",
    "    base_load_hour = (df.groupby('hour')\n",
    "                        .kwh\n",
    "                        .apply(lambda series: take_mean_if_populated(series,\n",
    "                                                                     winsorize_lower=winsor_prop,\n",
    "                                                                     winsorize_upper=winsor_prop)).idxmin())\n",
    "    print(\"Base load hour is %d\" % base_load_hour)\n",
    "    restricted_to_base_load_hour_df = df.loc[df.hour.eq(base_load_hour)]\n",
    "\n",
    "    stats_df = pd.DataFrame(np.nan, index=ROLLING_STATISTIC_LIST, columns=[\n",
    "                            'min_hour_mean', 'winsorized_mean'])\n",
    "\n",
    "    for window_size in ROLLING_STATISTIC_LIST:\n",
    "\n",
    "        min_hour_stat = (restricted_to_base_load_hour_df.kwh\n",
    "                         .rolling(window_size)\n",
    "                         .apply(lambda series: take_mean_if_populated(series,\n",
    "                                                                      winsorize_lower=winsor_prop,\n",
    "                                                                      winsorize_upper=winsor_prop),\n",
    "                                raw=True)).iloc[-1]\n",
    "        winsorized_stat = df.kwh.rolling(window_size).quantile(base_load_quant_est).iloc[-1]\n",
    "        \n",
    "        stats_df.loc[window_size, 'min_hour_mean'] = min_hour_stat\n",
    "        stats_df.loc[window_size, 'winsorized_mean'] = winsorized_stat\n",
    "\n",
    "    return stats_df\n",
    "\n",
    "\n",
    "base_load_estimation = get_current_basal_estimation(df)\n",
    "base_load_estimation"
   ]
  },
  {
   "cell_type": "code",
   "execution_count": 26,
   "metadata": {
    "ExecuteTime": {
     "end_time": "2019-12-26T19:33:23.933922Z",
     "start_time": "2019-12-26T19:33:23.917807Z"
    }
   },
   "outputs": [
    {
     "data": {
      "text/plain": [
       "0.08704190476190476"
      ]
     },
     "execution_count": 26,
     "metadata": {},
     "output_type": "execute_result"
    }
   ],
   "source": [
    "base_load_estimation.mean().mean()"
   ]
  }
 ],
 "metadata": {
  "kernelspec": {
   "display_name": "Python 3",
   "language": "python",
   "name": "python3"
  },
  "language_info": {
   "codemirror_mode": {
    "name": "ipython",
    "version": 3
   },
   "file_extension": ".py",
   "mimetype": "text/x-python",
   "name": "python",
   "nbconvert_exporter": "python",
   "pygments_lexer": "ipython3",
   "version": "3.7.4"
  },
  "toc": {
   "base_numbering": 1,
   "nav_menu": {},
   "number_sections": true,
   "sideBar": true,
   "skip_h1_title": false,
   "title_cell": "Table of Contents",
   "title_sidebar": "Contents",
   "toc_cell": false,
   "toc_position": {},
   "toc_section_display": true,
   "toc_window_display": false
  }
 },
 "nbformat": 4,
 "nbformat_minor": 2
}
