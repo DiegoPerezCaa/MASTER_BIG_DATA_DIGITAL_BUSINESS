{
 "cells": [
  {
   "cell_type": "code",
   "execution_count": 1,
   "metadata": {
    "ExecuteTime": {
     "end_time": "2019-07-09T18:08:18.557073Z",
     "start_time": "2019-07-09T18:08:18.086591Z"
    },
    "collapsed": true
   },
   "outputs": [],
   "source": [
    "import pandas as pd\n",
    "import numpy as np\n",
    "\n",
    "pd.options.display.max_columns = 500"
   ]
  },
  {
   "cell_type": "code",
   "execution_count": 2,
   "metadata": {
    "ExecuteTime": {
     "end_time": "2019-07-09T18:08:18.612660Z",
     "start_time": "2019-07-09T18:08:18.558896Z"
    },
    "collapsed": true
   },
   "outputs": [],
   "source": [
    "merged_df = pd.read_csv('merged_df.csv', index_col=0)"
   ]
  },
  {
   "cell_type": "code",
   "execution_count": 3,
   "metadata": {
    "ExecuteTime": {
     "end_time": "2019-07-09T18:08:31.935393Z",
     "start_time": "2019-07-09T18:08:31.916245Z"
    }
   },
   "outputs": [
    {
     "data": {
      "text/plain": [
       "count    2903.000000\n",
       "mean        0.267439\n",
       "std         0.285236\n",
       "min         0.079000\n",
       "25%         0.111000\n",
       "50%         0.161000\n",
       "75%         0.265000\n",
       "max         2.072000\n",
       "Name: kwh, dtype: float64"
      ]
     },
     "execution_count": 3,
     "metadata": {},
     "output_type": "execute_result"
    }
   ],
   "source": [
    "merged_df.kwh.describe()"
   ]
  },
  {
   "cell_type": "code",
   "execution_count": 4,
   "metadata": {
    "ExecuteTime": {
     "end_time": "2019-07-09T18:08:39.723245Z",
     "start_time": "2019-07-09T18:08:39.671105Z"
    }
   },
   "outputs": [
    {
     "data": {
      "text/plain": [
       "0.1775628044159255"
      ]
     },
     "execution_count": 4,
     "metadata": {},
     "output_type": "execute_result"
    }
   ],
   "source": [
    "merged_df.kwh.mad()"
   ]
  },
  {
   "cell_type": "code",
   "execution_count": 3,
   "metadata": {
    "ExecuteTime": {
     "end_time": "2019-07-09T17:41:49.992684Z",
     "start_time": "2019-07-09T17:41:49.863523Z"
    }
   },
   "outputs": [
    {
     "data": {
      "text/html": [
       "<div>\n",
       "<style scoped>\n",
       "    .dataframe tbody tr th:only-of-type {\n",
       "        vertical-align: middle;\n",
       "    }\n",
       "\n",
       "    .dataframe tbody tr th {\n",
       "        vertical-align: top;\n",
       "    }\n",
       "\n",
       "    .dataframe thead th {\n",
       "        text-align: right;\n",
       "    }\n",
       "</style>\n",
       "<table border=\"1\" class=\"dataframe\">\n",
       "  <thead>\n",
       "    <tr style=\"text-align: right;\">\n",
       "      <th></th>\n",
       "      <th>daily_date</th>\n",
       "      <th>kwh</th>\n",
       "      <th>dow</th>\n",
       "      <th>is_weekend</th>\n",
       "      <th>hour</th>\n",
       "      <th>is_working_time</th>\n",
       "      <th>is_night_time</th>\n",
       "      <th>season</th>\n",
       "      <th>cost</th>\n",
       "      <th>discriminative_cost</th>\n",
       "      <th>horaPresMax</th>\n",
       "      <th>horaPresMin</th>\n",
       "      <th>horaracha</th>\n",
       "      <th>horatmax</th>\n",
       "      <th>horatmin</th>\n",
       "      <th>prec</th>\n",
       "      <th>presMax</th>\n",
       "      <th>presMin</th>\n",
       "      <th>racha</th>\n",
       "      <th>sol</th>\n",
       "      <th>tmax</th>\n",
       "      <th>tmed</th>\n",
       "      <th>tmin</th>\n",
       "      <th>velmedia</th>\n",
       "      <th>dir_axis_1</th>\n",
       "      <th>dir_axis_2</th>\n",
       "    </tr>\n",
       "    <tr>\n",
       "      <th>date</th>\n",
       "      <th></th>\n",
       "      <th></th>\n",
       "      <th></th>\n",
       "      <th></th>\n",
       "      <th></th>\n",
       "      <th></th>\n",
       "      <th></th>\n",
       "      <th></th>\n",
       "      <th></th>\n",
       "      <th></th>\n",
       "      <th></th>\n",
       "      <th></th>\n",
       "      <th></th>\n",
       "      <th></th>\n",
       "      <th></th>\n",
       "      <th></th>\n",
       "      <th></th>\n",
       "      <th></th>\n",
       "      <th></th>\n",
       "      <th></th>\n",
       "      <th></th>\n",
       "      <th></th>\n",
       "      <th></th>\n",
       "      <th></th>\n",
       "      <th></th>\n",
       "      <th></th>\n",
       "    </tr>\n",
       "  </thead>\n",
       "  <tbody>\n",
       "    <tr>\n",
       "      <th>2019-02-05 01:00:00</th>\n",
       "      <td>2019-02-05</td>\n",
       "      <td>1.968</td>\n",
       "      <td>Tuesday</td>\n",
       "      <td>False</td>\n",
       "      <td>1</td>\n",
       "      <td>False</td>\n",
       "      <td>True</td>\n",
       "      <td>winter</td>\n",
       "      <td>0.360197</td>\n",
       "      <td>0.248021</td>\n",
       "      <td>Varias</td>\n",
       "      <td>17</td>\n",
       "      <td>07:12</td>\n",
       "      <td>16:01</td>\n",
       "      <td>07:05</td>\n",
       "      <td>0.0</td>\n",
       "      <td>1026.1</td>\n",
       "      <td>1022.8</td>\n",
       "      <td>8.3</td>\n",
       "      <td>10.2</td>\n",
       "      <td>20.3</td>\n",
       "      <td>11.9</td>\n",
       "      <td>3.5</td>\n",
       "      <td>1.9</td>\n",
       "      <td>0.99179</td>\n",
       "      <td>0.127877</td>\n",
       "    </tr>\n",
       "    <tr>\n",
       "      <th>2019-02-05 02:00:00</th>\n",
       "      <td>2019-02-05</td>\n",
       "      <td>1.959</td>\n",
       "      <td>Tuesday</td>\n",
       "      <td>False</td>\n",
       "      <td>2</td>\n",
       "      <td>False</td>\n",
       "      <td>True</td>\n",
       "      <td>winter</td>\n",
       "      <td>0.358550</td>\n",
       "      <td>0.246887</td>\n",
       "      <td>Varias</td>\n",
       "      <td>17</td>\n",
       "      <td>07:12</td>\n",
       "      <td>16:01</td>\n",
       "      <td>07:05</td>\n",
       "      <td>0.0</td>\n",
       "      <td>1026.1</td>\n",
       "      <td>1022.8</td>\n",
       "      <td>8.3</td>\n",
       "      <td>10.2</td>\n",
       "      <td>20.3</td>\n",
       "      <td>11.9</td>\n",
       "      <td>3.5</td>\n",
       "      <td>1.9</td>\n",
       "      <td>0.99179</td>\n",
       "      <td>0.127877</td>\n",
       "    </tr>\n",
       "    <tr>\n",
       "      <th>2019-02-05 03:00:00</th>\n",
       "      <td>2019-02-05</td>\n",
       "      <td>1.960</td>\n",
       "      <td>Tuesday</td>\n",
       "      <td>False</td>\n",
       "      <td>3</td>\n",
       "      <td>False</td>\n",
       "      <td>True</td>\n",
       "      <td>winter</td>\n",
       "      <td>0.358733</td>\n",
       "      <td>0.247013</td>\n",
       "      <td>Varias</td>\n",
       "      <td>17</td>\n",
       "      <td>07:12</td>\n",
       "      <td>16:01</td>\n",
       "      <td>07:05</td>\n",
       "      <td>0.0</td>\n",
       "      <td>1026.1</td>\n",
       "      <td>1022.8</td>\n",
       "      <td>8.3</td>\n",
       "      <td>10.2</td>\n",
       "      <td>20.3</td>\n",
       "      <td>11.9</td>\n",
       "      <td>3.5</td>\n",
       "      <td>1.9</td>\n",
       "      <td>0.99179</td>\n",
       "      <td>0.127877</td>\n",
       "    </tr>\n",
       "    <tr>\n",
       "      <th>2019-02-05 04:00:00</th>\n",
       "      <td>2019-02-05</td>\n",
       "      <td>1.978</td>\n",
       "      <td>Tuesday</td>\n",
       "      <td>False</td>\n",
       "      <td>4</td>\n",
       "      <td>False</td>\n",
       "      <td>True</td>\n",
       "      <td>winter</td>\n",
       "      <td>0.362027</td>\n",
       "      <td>0.249281</td>\n",
       "      <td>Varias</td>\n",
       "      <td>17</td>\n",
       "      <td>07:12</td>\n",
       "      <td>16:01</td>\n",
       "      <td>07:05</td>\n",
       "      <td>0.0</td>\n",
       "      <td>1026.1</td>\n",
       "      <td>1022.8</td>\n",
       "      <td>8.3</td>\n",
       "      <td>10.2</td>\n",
       "      <td>20.3</td>\n",
       "      <td>11.9</td>\n",
       "      <td>3.5</td>\n",
       "      <td>1.9</td>\n",
       "      <td>0.99179</td>\n",
       "      <td>0.127877</td>\n",
       "    </tr>\n",
       "    <tr>\n",
       "      <th>2019-02-05 05:00:00</th>\n",
       "      <td>2019-02-05</td>\n",
       "      <td>1.892</td>\n",
       "      <td>Tuesday</td>\n",
       "      <td>False</td>\n",
       "      <td>5</td>\n",
       "      <td>False</td>\n",
       "      <td>True</td>\n",
       "      <td>winter</td>\n",
       "      <td>0.346287</td>\n",
       "      <td>0.238443</td>\n",
       "      <td>Varias</td>\n",
       "      <td>17</td>\n",
       "      <td>07:12</td>\n",
       "      <td>16:01</td>\n",
       "      <td>07:05</td>\n",
       "      <td>0.0</td>\n",
       "      <td>1026.1</td>\n",
       "      <td>1022.8</td>\n",
       "      <td>8.3</td>\n",
       "      <td>10.2</td>\n",
       "      <td>20.3</td>\n",
       "      <td>11.9</td>\n",
       "      <td>3.5</td>\n",
       "      <td>1.9</td>\n",
       "      <td>0.99179</td>\n",
       "      <td>0.127877</td>\n",
       "    </tr>\n",
       "  </tbody>\n",
       "</table>\n",
       "</div>"
      ],
      "text/plain": [
       "                     daily_date    kwh      dow  is_weekend  hour  \\\n",
       "date                                                                \n",
       "2019-02-05 01:00:00  2019-02-05  1.968  Tuesday       False     1   \n",
       "2019-02-05 02:00:00  2019-02-05  1.959  Tuesday       False     2   \n",
       "2019-02-05 03:00:00  2019-02-05  1.960  Tuesday       False     3   \n",
       "2019-02-05 04:00:00  2019-02-05  1.978  Tuesday       False     4   \n",
       "2019-02-05 05:00:00  2019-02-05  1.892  Tuesday       False     5   \n",
       "\n",
       "                     is_working_time  is_night_time  season      cost  \\\n",
       "date                                                                    \n",
       "2019-02-05 01:00:00            False           True  winter  0.360197   \n",
       "2019-02-05 02:00:00            False           True  winter  0.358550   \n",
       "2019-02-05 03:00:00            False           True  winter  0.358733   \n",
       "2019-02-05 04:00:00            False           True  winter  0.362027   \n",
       "2019-02-05 05:00:00            False           True  winter  0.346287   \n",
       "\n",
       "                     discriminative_cost horaPresMax horaPresMin horaracha  \\\n",
       "date                                                                         \n",
       "2019-02-05 01:00:00             0.248021      Varias          17     07:12   \n",
       "2019-02-05 02:00:00             0.246887      Varias          17     07:12   \n",
       "2019-02-05 03:00:00             0.247013      Varias          17     07:12   \n",
       "2019-02-05 04:00:00             0.249281      Varias          17     07:12   \n",
       "2019-02-05 05:00:00             0.238443      Varias          17     07:12   \n",
       "\n",
       "                    horatmax horatmin  prec  presMax  presMin  racha   sol  \\\n",
       "date                                                                         \n",
       "2019-02-05 01:00:00    16:01    07:05   0.0   1026.1   1022.8    8.3  10.2   \n",
       "2019-02-05 02:00:00    16:01    07:05   0.0   1026.1   1022.8    8.3  10.2   \n",
       "2019-02-05 03:00:00    16:01    07:05   0.0   1026.1   1022.8    8.3  10.2   \n",
       "2019-02-05 04:00:00    16:01    07:05   0.0   1026.1   1022.8    8.3  10.2   \n",
       "2019-02-05 05:00:00    16:01    07:05   0.0   1026.1   1022.8    8.3  10.2   \n",
       "\n",
       "                     tmax  tmed  tmin  velmedia  dir_axis_1  dir_axis_2  \n",
       "date                                                                     \n",
       "2019-02-05 01:00:00  20.3  11.9   3.5       1.9     0.99179    0.127877  \n",
       "2019-02-05 02:00:00  20.3  11.9   3.5       1.9     0.99179    0.127877  \n",
       "2019-02-05 03:00:00  20.3  11.9   3.5       1.9     0.99179    0.127877  \n",
       "2019-02-05 04:00:00  20.3  11.9   3.5       1.9     0.99179    0.127877  \n",
       "2019-02-05 05:00:00  20.3  11.9   3.5       1.9     0.99179    0.127877  "
      ]
     },
     "execution_count": 3,
     "metadata": {},
     "output_type": "execute_result"
    }
   ],
   "source": [
    "merged_df.head()"
   ]
  },
  {
   "cell_type": "code",
   "execution_count": 4,
   "metadata": {
    "ExecuteTime": {
     "end_time": "2019-07-09T17:41:50.011760Z",
     "start_time": "2019-07-09T17:41:49.999244Z"
    }
   },
   "outputs": [
    {
     "data": {
      "text/plain": [
       "Index(['horatmax', 'horatmin', 'tmax', 'tmed', 'tmin'], dtype='object')"
      ]
     },
     "execution_count": 4,
     "metadata": {},
     "output_type": "execute_result"
    }
   ],
   "source": [
    "merged_df.columns[merged_df.columns.str.contains('tm')]"
   ]
  },
  {
   "cell_type": "code",
   "execution_count": 5,
   "metadata": {
    "ExecuteTime": {
     "end_time": "2019-07-09T17:41:50.095438Z",
     "start_time": "2019-07-09T17:41:50.017291Z"
    },
    "collapsed": true
   },
   "outputs": [],
   "source": [
    "merged_df['temp_range'] = merged_df.tmax.sub(merged_df.tmin)\n",
    "merged_df['pres_range'] = merged_df.presMax.sub(merged_df.presMin)\n",
    "TEMP_COLS = ['tmax', 'tmed', 'tmin']\n",
    "for col in TEMP_COLS:\n",
    "    merged_df[col] = merged_df[col].pow(1/2)"
   ]
  },
  {
   "cell_type": "code",
   "execution_count": 6,
   "metadata": {
    "ExecuteTime": {
     "end_time": "2019-07-09T17:41:50.158220Z",
     "start_time": "2019-07-09T17:41:50.099489Z"
    }
   },
   "outputs": [
    {
     "data": {
      "text/html": [
       "<div>\n",
       "<style scoped>\n",
       "    .dataframe tbody tr th:only-of-type {\n",
       "        vertical-align: middle;\n",
       "    }\n",
       "\n",
       "    .dataframe tbody tr th {\n",
       "        vertical-align: top;\n",
       "    }\n",
       "\n",
       "    .dataframe thead th {\n",
       "        text-align: right;\n",
       "    }\n",
       "</style>\n",
       "<table border=\"1\" class=\"dataframe\">\n",
       "  <thead>\n",
       "    <tr style=\"text-align: right;\">\n",
       "      <th></th>\n",
       "      <th>daily_date</th>\n",
       "      <th>kwh</th>\n",
       "      <th>is_weekend</th>\n",
       "      <th>hour</th>\n",
       "      <th>is_working_time</th>\n",
       "      <th>is_night_time</th>\n",
       "      <th>season</th>\n",
       "      <th>cost</th>\n",
       "      <th>discriminative_cost</th>\n",
       "      <th>horaPresMax</th>\n",
       "      <th>horaPresMin</th>\n",
       "      <th>horaracha</th>\n",
       "      <th>horatmax</th>\n",
       "      <th>horatmin</th>\n",
       "      <th>prec</th>\n",
       "      <th>presMax</th>\n",
       "      <th>presMin</th>\n",
       "      <th>racha</th>\n",
       "      <th>sol</th>\n",
       "      <th>tmax</th>\n",
       "      <th>tmed</th>\n",
       "      <th>tmin</th>\n",
       "      <th>velmedia</th>\n",
       "      <th>dir_axis_1</th>\n",
       "      <th>dir_axis_2</th>\n",
       "      <th>temp_range</th>\n",
       "      <th>pres_range</th>\n",
       "      <th>dow_Friday</th>\n",
       "      <th>dow_Monday</th>\n",
       "      <th>dow_Saturday</th>\n",
       "      <th>dow_Sunday</th>\n",
       "      <th>dow_Thursday</th>\n",
       "      <th>dow_Tuesday</th>\n",
       "      <th>dow_Wednesday</th>\n",
       "    </tr>\n",
       "    <tr>\n",
       "      <th>date</th>\n",
       "      <th></th>\n",
       "      <th></th>\n",
       "      <th></th>\n",
       "      <th></th>\n",
       "      <th></th>\n",
       "      <th></th>\n",
       "      <th></th>\n",
       "      <th></th>\n",
       "      <th></th>\n",
       "      <th></th>\n",
       "      <th></th>\n",
       "      <th></th>\n",
       "      <th></th>\n",
       "      <th></th>\n",
       "      <th></th>\n",
       "      <th></th>\n",
       "      <th></th>\n",
       "      <th></th>\n",
       "      <th></th>\n",
       "      <th></th>\n",
       "      <th></th>\n",
       "      <th></th>\n",
       "      <th></th>\n",
       "      <th></th>\n",
       "      <th></th>\n",
       "      <th></th>\n",
       "      <th></th>\n",
       "      <th></th>\n",
       "      <th></th>\n",
       "      <th></th>\n",
       "      <th></th>\n",
       "      <th></th>\n",
       "      <th></th>\n",
       "      <th></th>\n",
       "    </tr>\n",
       "  </thead>\n",
       "  <tbody>\n",
       "    <tr>\n",
       "      <th>2019-02-05 01:00:00</th>\n",
       "      <td>2019-02-05</td>\n",
       "      <td>1.968</td>\n",
       "      <td>False</td>\n",
       "      <td>1</td>\n",
       "      <td>False</td>\n",
       "      <td>True</td>\n",
       "      <td>winter</td>\n",
       "      <td>0.360197</td>\n",
       "      <td>0.248021</td>\n",
       "      <td>Varias</td>\n",
       "      <td>17</td>\n",
       "      <td>07:12</td>\n",
       "      <td>16:01</td>\n",
       "      <td>07:05</td>\n",
       "      <td>0.0</td>\n",
       "      <td>1026.1</td>\n",
       "      <td>1022.8</td>\n",
       "      <td>8.3</td>\n",
       "      <td>10.2</td>\n",
       "      <td>4.505552</td>\n",
       "      <td>3.449638</td>\n",
       "      <td>1.870829</td>\n",
       "      <td>1.9</td>\n",
       "      <td>0.99179</td>\n",
       "      <td>0.127877</td>\n",
       "      <td>16.8</td>\n",
       "      <td>3.3</td>\n",
       "      <td>0</td>\n",
       "      <td>0</td>\n",
       "      <td>0</td>\n",
       "      <td>0</td>\n",
       "      <td>0</td>\n",
       "      <td>1</td>\n",
       "      <td>0</td>\n",
       "    </tr>\n",
       "    <tr>\n",
       "      <th>2019-02-05 02:00:00</th>\n",
       "      <td>2019-02-05</td>\n",
       "      <td>1.959</td>\n",
       "      <td>False</td>\n",
       "      <td>2</td>\n",
       "      <td>False</td>\n",
       "      <td>True</td>\n",
       "      <td>winter</td>\n",
       "      <td>0.358550</td>\n",
       "      <td>0.246887</td>\n",
       "      <td>Varias</td>\n",
       "      <td>17</td>\n",
       "      <td>07:12</td>\n",
       "      <td>16:01</td>\n",
       "      <td>07:05</td>\n",
       "      <td>0.0</td>\n",
       "      <td>1026.1</td>\n",
       "      <td>1022.8</td>\n",
       "      <td>8.3</td>\n",
       "      <td>10.2</td>\n",
       "      <td>4.505552</td>\n",
       "      <td>3.449638</td>\n",
       "      <td>1.870829</td>\n",
       "      <td>1.9</td>\n",
       "      <td>0.99179</td>\n",
       "      <td>0.127877</td>\n",
       "      <td>16.8</td>\n",
       "      <td>3.3</td>\n",
       "      <td>0</td>\n",
       "      <td>0</td>\n",
       "      <td>0</td>\n",
       "      <td>0</td>\n",
       "      <td>0</td>\n",
       "      <td>1</td>\n",
       "      <td>0</td>\n",
       "    </tr>\n",
       "    <tr>\n",
       "      <th>2019-02-05 03:00:00</th>\n",
       "      <td>2019-02-05</td>\n",
       "      <td>1.960</td>\n",
       "      <td>False</td>\n",
       "      <td>3</td>\n",
       "      <td>False</td>\n",
       "      <td>True</td>\n",
       "      <td>winter</td>\n",
       "      <td>0.358733</td>\n",
       "      <td>0.247013</td>\n",
       "      <td>Varias</td>\n",
       "      <td>17</td>\n",
       "      <td>07:12</td>\n",
       "      <td>16:01</td>\n",
       "      <td>07:05</td>\n",
       "      <td>0.0</td>\n",
       "      <td>1026.1</td>\n",
       "      <td>1022.8</td>\n",
       "      <td>8.3</td>\n",
       "      <td>10.2</td>\n",
       "      <td>4.505552</td>\n",
       "      <td>3.449638</td>\n",
       "      <td>1.870829</td>\n",
       "      <td>1.9</td>\n",
       "      <td>0.99179</td>\n",
       "      <td>0.127877</td>\n",
       "      <td>16.8</td>\n",
       "      <td>3.3</td>\n",
       "      <td>0</td>\n",
       "      <td>0</td>\n",
       "      <td>0</td>\n",
       "      <td>0</td>\n",
       "      <td>0</td>\n",
       "      <td>1</td>\n",
       "      <td>0</td>\n",
       "    </tr>\n",
       "    <tr>\n",
       "      <th>2019-02-05 04:00:00</th>\n",
       "      <td>2019-02-05</td>\n",
       "      <td>1.978</td>\n",
       "      <td>False</td>\n",
       "      <td>4</td>\n",
       "      <td>False</td>\n",
       "      <td>True</td>\n",
       "      <td>winter</td>\n",
       "      <td>0.362027</td>\n",
       "      <td>0.249281</td>\n",
       "      <td>Varias</td>\n",
       "      <td>17</td>\n",
       "      <td>07:12</td>\n",
       "      <td>16:01</td>\n",
       "      <td>07:05</td>\n",
       "      <td>0.0</td>\n",
       "      <td>1026.1</td>\n",
       "      <td>1022.8</td>\n",
       "      <td>8.3</td>\n",
       "      <td>10.2</td>\n",
       "      <td>4.505552</td>\n",
       "      <td>3.449638</td>\n",
       "      <td>1.870829</td>\n",
       "      <td>1.9</td>\n",
       "      <td>0.99179</td>\n",
       "      <td>0.127877</td>\n",
       "      <td>16.8</td>\n",
       "      <td>3.3</td>\n",
       "      <td>0</td>\n",
       "      <td>0</td>\n",
       "      <td>0</td>\n",
       "      <td>0</td>\n",
       "      <td>0</td>\n",
       "      <td>1</td>\n",
       "      <td>0</td>\n",
       "    </tr>\n",
       "    <tr>\n",
       "      <th>2019-02-05 05:00:00</th>\n",
       "      <td>2019-02-05</td>\n",
       "      <td>1.892</td>\n",
       "      <td>False</td>\n",
       "      <td>5</td>\n",
       "      <td>False</td>\n",
       "      <td>True</td>\n",
       "      <td>winter</td>\n",
       "      <td>0.346287</td>\n",
       "      <td>0.238443</td>\n",
       "      <td>Varias</td>\n",
       "      <td>17</td>\n",
       "      <td>07:12</td>\n",
       "      <td>16:01</td>\n",
       "      <td>07:05</td>\n",
       "      <td>0.0</td>\n",
       "      <td>1026.1</td>\n",
       "      <td>1022.8</td>\n",
       "      <td>8.3</td>\n",
       "      <td>10.2</td>\n",
       "      <td>4.505552</td>\n",
       "      <td>3.449638</td>\n",
       "      <td>1.870829</td>\n",
       "      <td>1.9</td>\n",
       "      <td>0.99179</td>\n",
       "      <td>0.127877</td>\n",
       "      <td>16.8</td>\n",
       "      <td>3.3</td>\n",
       "      <td>0</td>\n",
       "      <td>0</td>\n",
       "      <td>0</td>\n",
       "      <td>0</td>\n",
       "      <td>0</td>\n",
       "      <td>1</td>\n",
       "      <td>0</td>\n",
       "    </tr>\n",
       "  </tbody>\n",
       "</table>\n",
       "</div>"
      ],
      "text/plain": [
       "                     daily_date    kwh  is_weekend  hour  is_working_time  \\\n",
       "date                                                                        \n",
       "2019-02-05 01:00:00  2019-02-05  1.968       False     1            False   \n",
       "2019-02-05 02:00:00  2019-02-05  1.959       False     2            False   \n",
       "2019-02-05 03:00:00  2019-02-05  1.960       False     3            False   \n",
       "2019-02-05 04:00:00  2019-02-05  1.978       False     4            False   \n",
       "2019-02-05 05:00:00  2019-02-05  1.892       False     5            False   \n",
       "\n",
       "                     is_night_time  season      cost  discriminative_cost  \\\n",
       "date                                                                        \n",
       "2019-02-05 01:00:00           True  winter  0.360197             0.248021   \n",
       "2019-02-05 02:00:00           True  winter  0.358550             0.246887   \n",
       "2019-02-05 03:00:00           True  winter  0.358733             0.247013   \n",
       "2019-02-05 04:00:00           True  winter  0.362027             0.249281   \n",
       "2019-02-05 05:00:00           True  winter  0.346287             0.238443   \n",
       "\n",
       "                    horaPresMax horaPresMin horaracha horatmax horatmin  prec  \\\n",
       "date                                                                            \n",
       "2019-02-05 01:00:00      Varias          17     07:12    16:01    07:05   0.0   \n",
       "2019-02-05 02:00:00      Varias          17     07:12    16:01    07:05   0.0   \n",
       "2019-02-05 03:00:00      Varias          17     07:12    16:01    07:05   0.0   \n",
       "2019-02-05 04:00:00      Varias          17     07:12    16:01    07:05   0.0   \n",
       "2019-02-05 05:00:00      Varias          17     07:12    16:01    07:05   0.0   \n",
       "\n",
       "                     presMax  presMin  racha   sol      tmax      tmed  \\\n",
       "date                                                                     \n",
       "2019-02-05 01:00:00   1026.1   1022.8    8.3  10.2  4.505552  3.449638   \n",
       "2019-02-05 02:00:00   1026.1   1022.8    8.3  10.2  4.505552  3.449638   \n",
       "2019-02-05 03:00:00   1026.1   1022.8    8.3  10.2  4.505552  3.449638   \n",
       "2019-02-05 04:00:00   1026.1   1022.8    8.3  10.2  4.505552  3.449638   \n",
       "2019-02-05 05:00:00   1026.1   1022.8    8.3  10.2  4.505552  3.449638   \n",
       "\n",
       "                         tmin  velmedia  dir_axis_1  dir_axis_2  temp_range  \\\n",
       "date                                                                          \n",
       "2019-02-05 01:00:00  1.870829       1.9     0.99179    0.127877        16.8   \n",
       "2019-02-05 02:00:00  1.870829       1.9     0.99179    0.127877        16.8   \n",
       "2019-02-05 03:00:00  1.870829       1.9     0.99179    0.127877        16.8   \n",
       "2019-02-05 04:00:00  1.870829       1.9     0.99179    0.127877        16.8   \n",
       "2019-02-05 05:00:00  1.870829       1.9     0.99179    0.127877        16.8   \n",
       "\n",
       "                     pres_range  dow_Friday  dow_Monday  dow_Saturday  \\\n",
       "date                                                                    \n",
       "2019-02-05 01:00:00         3.3           0           0             0   \n",
       "2019-02-05 02:00:00         3.3           0           0             0   \n",
       "2019-02-05 03:00:00         3.3           0           0             0   \n",
       "2019-02-05 04:00:00         3.3           0           0             0   \n",
       "2019-02-05 05:00:00         3.3           0           0             0   \n",
       "\n",
       "                     dow_Sunday  dow_Thursday  dow_Tuesday  dow_Wednesday  \n",
       "date                                                                       \n",
       "2019-02-05 01:00:00           0             0            1              0  \n",
       "2019-02-05 02:00:00           0             0            1              0  \n",
       "2019-02-05 03:00:00           0             0            1              0  \n",
       "2019-02-05 04:00:00           0             0            1              0  \n",
       "2019-02-05 05:00:00           0             0            1              0  "
      ]
     },
     "execution_count": 6,
     "metadata": {},
     "output_type": "execute_result"
    }
   ],
   "source": [
    "pd.get_dummies(merged_df, columns=['dow']).head()"
   ]
  },
  {
   "cell_type": "code",
   "execution_count": 7,
   "metadata": {
    "ExecuteTime": {
     "end_time": "2019-07-09T17:41:50.166863Z",
     "start_time": "2019-07-09T17:41:50.160355Z"
    }
   },
   "outputs": [
    {
     "data": {
      "text/plain": [
       "(2903, 28)"
      ]
     },
     "execution_count": 7,
     "metadata": {},
     "output_type": "execute_result"
    }
   ],
   "source": [
    "merged_df.shape"
   ]
  },
  {
   "cell_type": "markdown",
   "metadata": {},
   "source": [
    "# Creamos la matriz de predictores y la variable objetivo"
   ]
  },
  {
   "cell_type": "code",
   "execution_count": 8,
   "metadata": {
    "ExecuteTime": {
     "end_time": "2019-07-09T17:41:50.205762Z",
     "start_time": "2019-07-09T17:41:50.169311Z"
    }
   },
   "outputs": [
    {
     "data": {
      "text/html": [
       "<div>\n",
       "<style scoped>\n",
       "    .dataframe tbody tr th:only-of-type {\n",
       "        vertical-align: middle;\n",
       "    }\n",
       "\n",
       "    .dataframe tbody tr th {\n",
       "        vertical-align: top;\n",
       "    }\n",
       "\n",
       "    .dataframe thead th {\n",
       "        text-align: right;\n",
       "    }\n",
       "</style>\n",
       "<table border=\"1\" class=\"dataframe\">\n",
       "  <thead>\n",
       "    <tr style=\"text-align: right;\">\n",
       "      <th></th>\n",
       "      <th>daily_date</th>\n",
       "      <th>kwh</th>\n",
       "      <th>dow</th>\n",
       "      <th>is_weekend</th>\n",
       "      <th>hour</th>\n",
       "      <th>is_working_time</th>\n",
       "      <th>is_night_time</th>\n",
       "      <th>season</th>\n",
       "      <th>cost</th>\n",
       "      <th>discriminative_cost</th>\n",
       "      <th>horaPresMax</th>\n",
       "      <th>horaPresMin</th>\n",
       "      <th>horaracha</th>\n",
       "      <th>horatmax</th>\n",
       "      <th>horatmin</th>\n",
       "      <th>prec</th>\n",
       "      <th>presMax</th>\n",
       "      <th>presMin</th>\n",
       "      <th>racha</th>\n",
       "      <th>sol</th>\n",
       "      <th>tmax</th>\n",
       "      <th>tmed</th>\n",
       "      <th>tmin</th>\n",
       "      <th>velmedia</th>\n",
       "      <th>dir_axis_1</th>\n",
       "      <th>dir_axis_2</th>\n",
       "      <th>temp_range</th>\n",
       "      <th>pres_range</th>\n",
       "    </tr>\n",
       "    <tr>\n",
       "      <th>date</th>\n",
       "      <th></th>\n",
       "      <th></th>\n",
       "      <th></th>\n",
       "      <th></th>\n",
       "      <th></th>\n",
       "      <th></th>\n",
       "      <th></th>\n",
       "      <th></th>\n",
       "      <th></th>\n",
       "      <th></th>\n",
       "      <th></th>\n",
       "      <th></th>\n",
       "      <th></th>\n",
       "      <th></th>\n",
       "      <th></th>\n",
       "      <th></th>\n",
       "      <th></th>\n",
       "      <th></th>\n",
       "      <th></th>\n",
       "      <th></th>\n",
       "      <th></th>\n",
       "      <th></th>\n",
       "      <th></th>\n",
       "      <th></th>\n",
       "      <th></th>\n",
       "      <th></th>\n",
       "      <th></th>\n",
       "      <th></th>\n",
       "    </tr>\n",
       "  </thead>\n",
       "  <tbody>\n",
       "    <tr>\n",
       "      <th>2019-02-05 01:00:00</th>\n",
       "      <td>2019-02-05</td>\n",
       "      <td>1.968</td>\n",
       "      <td>Tuesday</td>\n",
       "      <td>False</td>\n",
       "      <td>1</td>\n",
       "      <td>False</td>\n",
       "      <td>True</td>\n",
       "      <td>winter</td>\n",
       "      <td>0.360197</td>\n",
       "      <td>0.248021</td>\n",
       "      <td>Varias</td>\n",
       "      <td>17</td>\n",
       "      <td>07:12</td>\n",
       "      <td>16:01</td>\n",
       "      <td>07:05</td>\n",
       "      <td>0.0</td>\n",
       "      <td>1026.1</td>\n",
       "      <td>1022.8</td>\n",
       "      <td>8.3</td>\n",
       "      <td>10.2</td>\n",
       "      <td>4.505552</td>\n",
       "      <td>3.449638</td>\n",
       "      <td>1.870829</td>\n",
       "      <td>1.9</td>\n",
       "      <td>0.99179</td>\n",
       "      <td>0.127877</td>\n",
       "      <td>16.8</td>\n",
       "      <td>3.3</td>\n",
       "    </tr>\n",
       "    <tr>\n",
       "      <th>2019-02-05 02:00:00</th>\n",
       "      <td>2019-02-05</td>\n",
       "      <td>1.959</td>\n",
       "      <td>Tuesday</td>\n",
       "      <td>False</td>\n",
       "      <td>2</td>\n",
       "      <td>False</td>\n",
       "      <td>True</td>\n",
       "      <td>winter</td>\n",
       "      <td>0.358550</td>\n",
       "      <td>0.246887</td>\n",
       "      <td>Varias</td>\n",
       "      <td>17</td>\n",
       "      <td>07:12</td>\n",
       "      <td>16:01</td>\n",
       "      <td>07:05</td>\n",
       "      <td>0.0</td>\n",
       "      <td>1026.1</td>\n",
       "      <td>1022.8</td>\n",
       "      <td>8.3</td>\n",
       "      <td>10.2</td>\n",
       "      <td>4.505552</td>\n",
       "      <td>3.449638</td>\n",
       "      <td>1.870829</td>\n",
       "      <td>1.9</td>\n",
       "      <td>0.99179</td>\n",
       "      <td>0.127877</td>\n",
       "      <td>16.8</td>\n",
       "      <td>3.3</td>\n",
       "    </tr>\n",
       "    <tr>\n",
       "      <th>2019-02-05 03:00:00</th>\n",
       "      <td>2019-02-05</td>\n",
       "      <td>1.960</td>\n",
       "      <td>Tuesday</td>\n",
       "      <td>False</td>\n",
       "      <td>3</td>\n",
       "      <td>False</td>\n",
       "      <td>True</td>\n",
       "      <td>winter</td>\n",
       "      <td>0.358733</td>\n",
       "      <td>0.247013</td>\n",
       "      <td>Varias</td>\n",
       "      <td>17</td>\n",
       "      <td>07:12</td>\n",
       "      <td>16:01</td>\n",
       "      <td>07:05</td>\n",
       "      <td>0.0</td>\n",
       "      <td>1026.1</td>\n",
       "      <td>1022.8</td>\n",
       "      <td>8.3</td>\n",
       "      <td>10.2</td>\n",
       "      <td>4.505552</td>\n",
       "      <td>3.449638</td>\n",
       "      <td>1.870829</td>\n",
       "      <td>1.9</td>\n",
       "      <td>0.99179</td>\n",
       "      <td>0.127877</td>\n",
       "      <td>16.8</td>\n",
       "      <td>3.3</td>\n",
       "    </tr>\n",
       "    <tr>\n",
       "      <th>2019-02-05 04:00:00</th>\n",
       "      <td>2019-02-05</td>\n",
       "      <td>1.978</td>\n",
       "      <td>Tuesday</td>\n",
       "      <td>False</td>\n",
       "      <td>4</td>\n",
       "      <td>False</td>\n",
       "      <td>True</td>\n",
       "      <td>winter</td>\n",
       "      <td>0.362027</td>\n",
       "      <td>0.249281</td>\n",
       "      <td>Varias</td>\n",
       "      <td>17</td>\n",
       "      <td>07:12</td>\n",
       "      <td>16:01</td>\n",
       "      <td>07:05</td>\n",
       "      <td>0.0</td>\n",
       "      <td>1026.1</td>\n",
       "      <td>1022.8</td>\n",
       "      <td>8.3</td>\n",
       "      <td>10.2</td>\n",
       "      <td>4.505552</td>\n",
       "      <td>3.449638</td>\n",
       "      <td>1.870829</td>\n",
       "      <td>1.9</td>\n",
       "      <td>0.99179</td>\n",
       "      <td>0.127877</td>\n",
       "      <td>16.8</td>\n",
       "      <td>3.3</td>\n",
       "    </tr>\n",
       "    <tr>\n",
       "      <th>2019-02-05 05:00:00</th>\n",
       "      <td>2019-02-05</td>\n",
       "      <td>1.892</td>\n",
       "      <td>Tuesday</td>\n",
       "      <td>False</td>\n",
       "      <td>5</td>\n",
       "      <td>False</td>\n",
       "      <td>True</td>\n",
       "      <td>winter</td>\n",
       "      <td>0.346287</td>\n",
       "      <td>0.238443</td>\n",
       "      <td>Varias</td>\n",
       "      <td>17</td>\n",
       "      <td>07:12</td>\n",
       "      <td>16:01</td>\n",
       "      <td>07:05</td>\n",
       "      <td>0.0</td>\n",
       "      <td>1026.1</td>\n",
       "      <td>1022.8</td>\n",
       "      <td>8.3</td>\n",
       "      <td>10.2</td>\n",
       "      <td>4.505552</td>\n",
       "      <td>3.449638</td>\n",
       "      <td>1.870829</td>\n",
       "      <td>1.9</td>\n",
       "      <td>0.99179</td>\n",
       "      <td>0.127877</td>\n",
       "      <td>16.8</td>\n",
       "      <td>3.3</td>\n",
       "    </tr>\n",
       "  </tbody>\n",
       "</table>\n",
       "</div>"
      ],
      "text/plain": [
       "                     daily_date    kwh      dow  is_weekend  hour  \\\n",
       "date                                                                \n",
       "2019-02-05 01:00:00  2019-02-05  1.968  Tuesday       False     1   \n",
       "2019-02-05 02:00:00  2019-02-05  1.959  Tuesday       False     2   \n",
       "2019-02-05 03:00:00  2019-02-05  1.960  Tuesday       False     3   \n",
       "2019-02-05 04:00:00  2019-02-05  1.978  Tuesday       False     4   \n",
       "2019-02-05 05:00:00  2019-02-05  1.892  Tuesday       False     5   \n",
       "\n",
       "                     is_working_time  is_night_time  season      cost  \\\n",
       "date                                                                    \n",
       "2019-02-05 01:00:00            False           True  winter  0.360197   \n",
       "2019-02-05 02:00:00            False           True  winter  0.358550   \n",
       "2019-02-05 03:00:00            False           True  winter  0.358733   \n",
       "2019-02-05 04:00:00            False           True  winter  0.362027   \n",
       "2019-02-05 05:00:00            False           True  winter  0.346287   \n",
       "\n",
       "                     discriminative_cost horaPresMax horaPresMin horaracha  \\\n",
       "date                                                                         \n",
       "2019-02-05 01:00:00             0.248021      Varias          17     07:12   \n",
       "2019-02-05 02:00:00             0.246887      Varias          17     07:12   \n",
       "2019-02-05 03:00:00             0.247013      Varias          17     07:12   \n",
       "2019-02-05 04:00:00             0.249281      Varias          17     07:12   \n",
       "2019-02-05 05:00:00             0.238443      Varias          17     07:12   \n",
       "\n",
       "                    horatmax horatmin  prec  presMax  presMin  racha   sol  \\\n",
       "date                                                                         \n",
       "2019-02-05 01:00:00    16:01    07:05   0.0   1026.1   1022.8    8.3  10.2   \n",
       "2019-02-05 02:00:00    16:01    07:05   0.0   1026.1   1022.8    8.3  10.2   \n",
       "2019-02-05 03:00:00    16:01    07:05   0.0   1026.1   1022.8    8.3  10.2   \n",
       "2019-02-05 04:00:00    16:01    07:05   0.0   1026.1   1022.8    8.3  10.2   \n",
       "2019-02-05 05:00:00    16:01    07:05   0.0   1026.1   1022.8    8.3  10.2   \n",
       "\n",
       "                         tmax      tmed      tmin  velmedia  dir_axis_1  \\\n",
       "date                                                                      \n",
       "2019-02-05 01:00:00  4.505552  3.449638  1.870829       1.9     0.99179   \n",
       "2019-02-05 02:00:00  4.505552  3.449638  1.870829       1.9     0.99179   \n",
       "2019-02-05 03:00:00  4.505552  3.449638  1.870829       1.9     0.99179   \n",
       "2019-02-05 04:00:00  4.505552  3.449638  1.870829       1.9     0.99179   \n",
       "2019-02-05 05:00:00  4.505552  3.449638  1.870829       1.9     0.99179   \n",
       "\n",
       "                     dir_axis_2  temp_range  pres_range  \n",
       "date                                                     \n",
       "2019-02-05 01:00:00    0.127877        16.8         3.3  \n",
       "2019-02-05 02:00:00    0.127877        16.8         3.3  \n",
       "2019-02-05 03:00:00    0.127877        16.8         3.3  \n",
       "2019-02-05 04:00:00    0.127877        16.8         3.3  \n",
       "2019-02-05 05:00:00    0.127877        16.8         3.3  "
      ]
     },
     "execution_count": 8,
     "metadata": {},
     "output_type": "execute_result"
    }
   ],
   "source": [
    "merged_df.head()"
   ]
  },
  {
   "cell_type": "code",
   "execution_count": 9,
   "metadata": {
    "ExecuteTime": {
     "end_time": "2019-07-09T17:41:50.218356Z",
     "start_time": "2019-07-09T17:41:50.210675Z"
    }
   },
   "outputs": [
    {
     "data": {
      "text/plain": [
       "Index(['daily_date', 'kwh', 'dow', 'is_weekend', 'hour', 'is_working_time',\n",
       "       'is_night_time', 'season', 'cost', 'discriminative_cost', 'horaPresMax',\n",
       "       'horaPresMin', 'horaracha', 'horatmax', 'horatmin', 'prec', 'presMax',\n",
       "       'presMin', 'racha', 'sol', 'tmax', 'tmed', 'tmin', 'velmedia',\n",
       "       'dir_axis_1', 'dir_axis_2', 'temp_range', 'pres_range'],\n",
       "      dtype='object')"
      ]
     },
     "execution_count": 9,
     "metadata": {},
     "output_type": "execute_result"
    }
   ],
   "source": [
    "merged_df.columns"
   ]
  },
  {
   "cell_type": "code",
   "execution_count": 10,
   "metadata": {
    "ExecuteTime": {
     "end_time": "2019-07-09T17:41:50.228007Z",
     "start_time": "2019-07-09T17:41:50.221354Z"
    }
   },
   "outputs": [
    {
     "data": {
      "text/plain": [
       "Index(['daily_date', 'kwh', 'dow', 'is_weekend', 'hour', 'is_working_time',\n",
       "       'is_night_time', 'season', 'cost', 'discriminative_cost', 'horaPresMax',\n",
       "       'horaPresMin', 'horaracha', 'horatmax', 'horatmin', 'prec', 'presMax',\n",
       "       'presMin', 'racha', 'sol', 'tmax', 'tmed', 'tmin', 'velmedia',\n",
       "       'dir_axis_1', 'dir_axis_2', 'temp_range', 'pres_range'],\n",
       "      dtype='object')"
      ]
     },
     "execution_count": 10,
     "metadata": {},
     "output_type": "execute_result"
    }
   ],
   "source": [
    "merged_df.columns"
   ]
  },
  {
   "cell_type": "code",
   "execution_count": 11,
   "metadata": {
    "ExecuteTime": {
     "end_time": "2019-07-09T17:41:50.295366Z",
     "start_time": "2019-07-09T17:41:50.230950Z"
    },
    "collapsed": true
   },
   "outputs": [],
   "source": [
    "MODEL_FEATURES = ['dow', 'is_weekend', 'hour', 'is_working_time',\n",
    "                  'is_night_time', 'prec', 'presMax',\n",
    "                  'presMin', 'racha', 'sol', 'tmax', 'tmed', 'tmin', 'velmedia',\n",
    "                  'dir_axis_1', 'dir_axis_2',  'temp_range', 'pres_range' ]\n",
    "X = merged_df[MODEL_FEATURES].copy()\n",
    "\n",
    "X.is_weekend = X.is_weekend.astype('int')\n",
    "X.is_working_time = X.is_working_time.astype('int')\n",
    "X.is_night_time = X.is_night_time.astype('int')\n",
    "\n",
    "DUMMY_COLS  = ['dow', 'hour']\n",
    "X = pd.get_dummies(X, columns=DUMMY_COLS)\n",
    "\n",
    "y = merged_df.kwh"
   ]
  },
  {
   "cell_type": "code",
   "execution_count": 12,
   "metadata": {
    "ExecuteTime": {
     "end_time": "2019-07-09T17:41:50.304011Z",
     "start_time": "2019-07-09T17:41:50.298599Z"
    }
   },
   "outputs": [
    {
     "data": {
      "text/plain": [
       "((2903, 47), (2903,))"
      ]
     },
     "execution_count": 12,
     "metadata": {},
     "output_type": "execute_result"
    }
   ],
   "source": [
    "X.shape, y.shape"
   ]
  },
  {
   "cell_type": "code",
   "execution_count": 13,
   "metadata": {
    "ExecuteTime": {
     "end_time": "2019-07-09T17:41:50.356958Z",
     "start_time": "2019-07-09T17:41:50.306864Z"
    }
   },
   "outputs": [
    {
     "data": {
      "text/html": [
       "<div>\n",
       "<style scoped>\n",
       "    .dataframe tbody tr th:only-of-type {\n",
       "        vertical-align: middle;\n",
       "    }\n",
       "\n",
       "    .dataframe tbody tr th {\n",
       "        vertical-align: top;\n",
       "    }\n",
       "\n",
       "    .dataframe thead th {\n",
       "        text-align: right;\n",
       "    }\n",
       "</style>\n",
       "<table border=\"1\" class=\"dataframe\">\n",
       "  <thead>\n",
       "    <tr style=\"text-align: right;\">\n",
       "      <th></th>\n",
       "      <th>is_weekend</th>\n",
       "      <th>is_working_time</th>\n",
       "      <th>is_night_time</th>\n",
       "      <th>prec</th>\n",
       "      <th>presMax</th>\n",
       "      <th>presMin</th>\n",
       "      <th>racha</th>\n",
       "      <th>sol</th>\n",
       "      <th>tmax</th>\n",
       "      <th>tmed</th>\n",
       "      <th>tmin</th>\n",
       "      <th>velmedia</th>\n",
       "      <th>dir_axis_1</th>\n",
       "      <th>dir_axis_2</th>\n",
       "      <th>temp_range</th>\n",
       "      <th>pres_range</th>\n",
       "      <th>dow_Friday</th>\n",
       "      <th>dow_Monday</th>\n",
       "      <th>dow_Saturday</th>\n",
       "      <th>dow_Sunday</th>\n",
       "      <th>dow_Thursday</th>\n",
       "      <th>dow_Tuesday</th>\n",
       "      <th>dow_Wednesday</th>\n",
       "      <th>hour_0</th>\n",
       "      <th>hour_1</th>\n",
       "      <th>hour_2</th>\n",
       "      <th>hour_3</th>\n",
       "      <th>hour_4</th>\n",
       "      <th>hour_5</th>\n",
       "      <th>hour_6</th>\n",
       "      <th>hour_7</th>\n",
       "      <th>hour_8</th>\n",
       "      <th>hour_9</th>\n",
       "      <th>hour_10</th>\n",
       "      <th>hour_11</th>\n",
       "      <th>hour_12</th>\n",
       "      <th>hour_13</th>\n",
       "      <th>hour_14</th>\n",
       "      <th>hour_15</th>\n",
       "      <th>hour_16</th>\n",
       "      <th>hour_17</th>\n",
       "      <th>hour_18</th>\n",
       "      <th>hour_19</th>\n",
       "      <th>hour_20</th>\n",
       "      <th>hour_21</th>\n",
       "      <th>hour_22</th>\n",
       "      <th>hour_23</th>\n",
       "    </tr>\n",
       "    <tr>\n",
       "      <th>date</th>\n",
       "      <th></th>\n",
       "      <th></th>\n",
       "      <th></th>\n",
       "      <th></th>\n",
       "      <th></th>\n",
       "      <th></th>\n",
       "      <th></th>\n",
       "      <th></th>\n",
       "      <th></th>\n",
       "      <th></th>\n",
       "      <th></th>\n",
       "      <th></th>\n",
       "      <th></th>\n",
       "      <th></th>\n",
       "      <th></th>\n",
       "      <th></th>\n",
       "      <th></th>\n",
       "      <th></th>\n",
       "      <th></th>\n",
       "      <th></th>\n",
       "      <th></th>\n",
       "      <th></th>\n",
       "      <th></th>\n",
       "      <th></th>\n",
       "      <th></th>\n",
       "      <th></th>\n",
       "      <th></th>\n",
       "      <th></th>\n",
       "      <th></th>\n",
       "      <th></th>\n",
       "      <th></th>\n",
       "      <th></th>\n",
       "      <th></th>\n",
       "      <th></th>\n",
       "      <th></th>\n",
       "      <th></th>\n",
       "      <th></th>\n",
       "      <th></th>\n",
       "      <th></th>\n",
       "      <th></th>\n",
       "      <th></th>\n",
       "      <th></th>\n",
       "      <th></th>\n",
       "      <th></th>\n",
       "      <th></th>\n",
       "      <th></th>\n",
       "      <th></th>\n",
       "    </tr>\n",
       "  </thead>\n",
       "  <tbody>\n",
       "    <tr>\n",
       "      <th>2019-02-05 01:00:00</th>\n",
       "      <td>0</td>\n",
       "      <td>0</td>\n",
       "      <td>1</td>\n",
       "      <td>0.0</td>\n",
       "      <td>1026.1</td>\n",
       "      <td>1022.8</td>\n",
       "      <td>8.3</td>\n",
       "      <td>10.2</td>\n",
       "      <td>4.505552</td>\n",
       "      <td>3.449638</td>\n",
       "      <td>1.870829</td>\n",
       "      <td>1.9</td>\n",
       "      <td>0.99179</td>\n",
       "      <td>0.127877</td>\n",
       "      <td>16.8</td>\n",
       "      <td>3.3</td>\n",
       "      <td>0</td>\n",
       "      <td>0</td>\n",
       "      <td>0</td>\n",
       "      <td>0</td>\n",
       "      <td>0</td>\n",
       "      <td>1</td>\n",
       "      <td>0</td>\n",
       "      <td>0</td>\n",
       "      <td>1</td>\n",
       "      <td>0</td>\n",
       "      <td>0</td>\n",
       "      <td>0</td>\n",
       "      <td>0</td>\n",
       "      <td>0</td>\n",
       "      <td>0</td>\n",
       "      <td>0</td>\n",
       "      <td>0</td>\n",
       "      <td>0</td>\n",
       "      <td>0</td>\n",
       "      <td>0</td>\n",
       "      <td>0</td>\n",
       "      <td>0</td>\n",
       "      <td>0</td>\n",
       "      <td>0</td>\n",
       "      <td>0</td>\n",
       "      <td>0</td>\n",
       "      <td>0</td>\n",
       "      <td>0</td>\n",
       "      <td>0</td>\n",
       "      <td>0</td>\n",
       "      <td>0</td>\n",
       "    </tr>\n",
       "    <tr>\n",
       "      <th>2019-02-05 02:00:00</th>\n",
       "      <td>0</td>\n",
       "      <td>0</td>\n",
       "      <td>1</td>\n",
       "      <td>0.0</td>\n",
       "      <td>1026.1</td>\n",
       "      <td>1022.8</td>\n",
       "      <td>8.3</td>\n",
       "      <td>10.2</td>\n",
       "      <td>4.505552</td>\n",
       "      <td>3.449638</td>\n",
       "      <td>1.870829</td>\n",
       "      <td>1.9</td>\n",
       "      <td>0.99179</td>\n",
       "      <td>0.127877</td>\n",
       "      <td>16.8</td>\n",
       "      <td>3.3</td>\n",
       "      <td>0</td>\n",
       "      <td>0</td>\n",
       "      <td>0</td>\n",
       "      <td>0</td>\n",
       "      <td>0</td>\n",
       "      <td>1</td>\n",
       "      <td>0</td>\n",
       "      <td>0</td>\n",
       "      <td>0</td>\n",
       "      <td>1</td>\n",
       "      <td>0</td>\n",
       "      <td>0</td>\n",
       "      <td>0</td>\n",
       "      <td>0</td>\n",
       "      <td>0</td>\n",
       "      <td>0</td>\n",
       "      <td>0</td>\n",
       "      <td>0</td>\n",
       "      <td>0</td>\n",
       "      <td>0</td>\n",
       "      <td>0</td>\n",
       "      <td>0</td>\n",
       "      <td>0</td>\n",
       "      <td>0</td>\n",
       "      <td>0</td>\n",
       "      <td>0</td>\n",
       "      <td>0</td>\n",
       "      <td>0</td>\n",
       "      <td>0</td>\n",
       "      <td>0</td>\n",
       "      <td>0</td>\n",
       "    </tr>\n",
       "    <tr>\n",
       "      <th>2019-02-05 03:00:00</th>\n",
       "      <td>0</td>\n",
       "      <td>0</td>\n",
       "      <td>1</td>\n",
       "      <td>0.0</td>\n",
       "      <td>1026.1</td>\n",
       "      <td>1022.8</td>\n",
       "      <td>8.3</td>\n",
       "      <td>10.2</td>\n",
       "      <td>4.505552</td>\n",
       "      <td>3.449638</td>\n",
       "      <td>1.870829</td>\n",
       "      <td>1.9</td>\n",
       "      <td>0.99179</td>\n",
       "      <td>0.127877</td>\n",
       "      <td>16.8</td>\n",
       "      <td>3.3</td>\n",
       "      <td>0</td>\n",
       "      <td>0</td>\n",
       "      <td>0</td>\n",
       "      <td>0</td>\n",
       "      <td>0</td>\n",
       "      <td>1</td>\n",
       "      <td>0</td>\n",
       "      <td>0</td>\n",
       "      <td>0</td>\n",
       "      <td>0</td>\n",
       "      <td>1</td>\n",
       "      <td>0</td>\n",
       "      <td>0</td>\n",
       "      <td>0</td>\n",
       "      <td>0</td>\n",
       "      <td>0</td>\n",
       "      <td>0</td>\n",
       "      <td>0</td>\n",
       "      <td>0</td>\n",
       "      <td>0</td>\n",
       "      <td>0</td>\n",
       "      <td>0</td>\n",
       "      <td>0</td>\n",
       "      <td>0</td>\n",
       "      <td>0</td>\n",
       "      <td>0</td>\n",
       "      <td>0</td>\n",
       "      <td>0</td>\n",
       "      <td>0</td>\n",
       "      <td>0</td>\n",
       "      <td>0</td>\n",
       "    </tr>\n",
       "    <tr>\n",
       "      <th>2019-02-05 04:00:00</th>\n",
       "      <td>0</td>\n",
       "      <td>0</td>\n",
       "      <td>1</td>\n",
       "      <td>0.0</td>\n",
       "      <td>1026.1</td>\n",
       "      <td>1022.8</td>\n",
       "      <td>8.3</td>\n",
       "      <td>10.2</td>\n",
       "      <td>4.505552</td>\n",
       "      <td>3.449638</td>\n",
       "      <td>1.870829</td>\n",
       "      <td>1.9</td>\n",
       "      <td>0.99179</td>\n",
       "      <td>0.127877</td>\n",
       "      <td>16.8</td>\n",
       "      <td>3.3</td>\n",
       "      <td>0</td>\n",
       "      <td>0</td>\n",
       "      <td>0</td>\n",
       "      <td>0</td>\n",
       "      <td>0</td>\n",
       "      <td>1</td>\n",
       "      <td>0</td>\n",
       "      <td>0</td>\n",
       "      <td>0</td>\n",
       "      <td>0</td>\n",
       "      <td>0</td>\n",
       "      <td>1</td>\n",
       "      <td>0</td>\n",
       "      <td>0</td>\n",
       "      <td>0</td>\n",
       "      <td>0</td>\n",
       "      <td>0</td>\n",
       "      <td>0</td>\n",
       "      <td>0</td>\n",
       "      <td>0</td>\n",
       "      <td>0</td>\n",
       "      <td>0</td>\n",
       "      <td>0</td>\n",
       "      <td>0</td>\n",
       "      <td>0</td>\n",
       "      <td>0</td>\n",
       "      <td>0</td>\n",
       "      <td>0</td>\n",
       "      <td>0</td>\n",
       "      <td>0</td>\n",
       "      <td>0</td>\n",
       "    </tr>\n",
       "    <tr>\n",
       "      <th>2019-02-05 05:00:00</th>\n",
       "      <td>0</td>\n",
       "      <td>0</td>\n",
       "      <td>1</td>\n",
       "      <td>0.0</td>\n",
       "      <td>1026.1</td>\n",
       "      <td>1022.8</td>\n",
       "      <td>8.3</td>\n",
       "      <td>10.2</td>\n",
       "      <td>4.505552</td>\n",
       "      <td>3.449638</td>\n",
       "      <td>1.870829</td>\n",
       "      <td>1.9</td>\n",
       "      <td>0.99179</td>\n",
       "      <td>0.127877</td>\n",
       "      <td>16.8</td>\n",
       "      <td>3.3</td>\n",
       "      <td>0</td>\n",
       "      <td>0</td>\n",
       "      <td>0</td>\n",
       "      <td>0</td>\n",
       "      <td>0</td>\n",
       "      <td>1</td>\n",
       "      <td>0</td>\n",
       "      <td>0</td>\n",
       "      <td>0</td>\n",
       "      <td>0</td>\n",
       "      <td>0</td>\n",
       "      <td>0</td>\n",
       "      <td>1</td>\n",
       "      <td>0</td>\n",
       "      <td>0</td>\n",
       "      <td>0</td>\n",
       "      <td>0</td>\n",
       "      <td>0</td>\n",
       "      <td>0</td>\n",
       "      <td>0</td>\n",
       "      <td>0</td>\n",
       "      <td>0</td>\n",
       "      <td>0</td>\n",
       "      <td>0</td>\n",
       "      <td>0</td>\n",
       "      <td>0</td>\n",
       "      <td>0</td>\n",
       "      <td>0</td>\n",
       "      <td>0</td>\n",
       "      <td>0</td>\n",
       "      <td>0</td>\n",
       "    </tr>\n",
       "  </tbody>\n",
       "</table>\n",
       "</div>"
      ],
      "text/plain": [
       "                     is_weekend  is_working_time  is_night_time  prec  \\\n",
       "date                                                                    \n",
       "2019-02-05 01:00:00           0                0              1   0.0   \n",
       "2019-02-05 02:00:00           0                0              1   0.0   \n",
       "2019-02-05 03:00:00           0                0              1   0.0   \n",
       "2019-02-05 04:00:00           0                0              1   0.0   \n",
       "2019-02-05 05:00:00           0                0              1   0.0   \n",
       "\n",
       "                     presMax  presMin  racha   sol      tmax      tmed  \\\n",
       "date                                                                     \n",
       "2019-02-05 01:00:00   1026.1   1022.8    8.3  10.2  4.505552  3.449638   \n",
       "2019-02-05 02:00:00   1026.1   1022.8    8.3  10.2  4.505552  3.449638   \n",
       "2019-02-05 03:00:00   1026.1   1022.8    8.3  10.2  4.505552  3.449638   \n",
       "2019-02-05 04:00:00   1026.1   1022.8    8.3  10.2  4.505552  3.449638   \n",
       "2019-02-05 05:00:00   1026.1   1022.8    8.3  10.2  4.505552  3.449638   \n",
       "\n",
       "                         tmin  velmedia  dir_axis_1  dir_axis_2  temp_range  \\\n",
       "date                                                                          \n",
       "2019-02-05 01:00:00  1.870829       1.9     0.99179    0.127877        16.8   \n",
       "2019-02-05 02:00:00  1.870829       1.9     0.99179    0.127877        16.8   \n",
       "2019-02-05 03:00:00  1.870829       1.9     0.99179    0.127877        16.8   \n",
       "2019-02-05 04:00:00  1.870829       1.9     0.99179    0.127877        16.8   \n",
       "2019-02-05 05:00:00  1.870829       1.9     0.99179    0.127877        16.8   \n",
       "\n",
       "                     pres_range  dow_Friday  dow_Monday  dow_Saturday  \\\n",
       "date                                                                    \n",
       "2019-02-05 01:00:00         3.3           0           0             0   \n",
       "2019-02-05 02:00:00         3.3           0           0             0   \n",
       "2019-02-05 03:00:00         3.3           0           0             0   \n",
       "2019-02-05 04:00:00         3.3           0           0             0   \n",
       "2019-02-05 05:00:00         3.3           0           0             0   \n",
       "\n",
       "                     dow_Sunday  dow_Thursday  dow_Tuesday  dow_Wednesday  \\\n",
       "date                                                                        \n",
       "2019-02-05 01:00:00           0             0            1              0   \n",
       "2019-02-05 02:00:00           0             0            1              0   \n",
       "2019-02-05 03:00:00           0             0            1              0   \n",
       "2019-02-05 04:00:00           0             0            1              0   \n",
       "2019-02-05 05:00:00           0             0            1              0   \n",
       "\n",
       "                     hour_0  hour_1  hour_2  hour_3  hour_4  hour_5  hour_6  \\\n",
       "date                                                                          \n",
       "2019-02-05 01:00:00       0       1       0       0       0       0       0   \n",
       "2019-02-05 02:00:00       0       0       1       0       0       0       0   \n",
       "2019-02-05 03:00:00       0       0       0       1       0       0       0   \n",
       "2019-02-05 04:00:00       0       0       0       0       1       0       0   \n",
       "2019-02-05 05:00:00       0       0       0       0       0       1       0   \n",
       "\n",
       "                     hour_7  hour_8  hour_9  hour_10  hour_11  hour_12  \\\n",
       "date                                                                     \n",
       "2019-02-05 01:00:00       0       0       0        0        0        0   \n",
       "2019-02-05 02:00:00       0       0       0        0        0        0   \n",
       "2019-02-05 03:00:00       0       0       0        0        0        0   \n",
       "2019-02-05 04:00:00       0       0       0        0        0        0   \n",
       "2019-02-05 05:00:00       0       0       0        0        0        0   \n",
       "\n",
       "                     hour_13  hour_14  hour_15  hour_16  hour_17  hour_18  \\\n",
       "date                                                                        \n",
       "2019-02-05 01:00:00        0        0        0        0        0        0   \n",
       "2019-02-05 02:00:00        0        0        0        0        0        0   \n",
       "2019-02-05 03:00:00        0        0        0        0        0        0   \n",
       "2019-02-05 04:00:00        0        0        0        0        0        0   \n",
       "2019-02-05 05:00:00        0        0        0        0        0        0   \n",
       "\n",
       "                     hour_19  hour_20  hour_21  hour_22  hour_23  \n",
       "date                                                              \n",
       "2019-02-05 01:00:00        0        0        0        0        0  \n",
       "2019-02-05 02:00:00        0        0        0        0        0  \n",
       "2019-02-05 03:00:00        0        0        0        0        0  \n",
       "2019-02-05 04:00:00        0        0        0        0        0  \n",
       "2019-02-05 05:00:00        0        0        0        0        0  "
      ]
     },
     "execution_count": 13,
     "metadata": {},
     "output_type": "execute_result"
    }
   ],
   "source": [
    "X.head()"
   ]
  },
  {
   "cell_type": "code",
   "execution_count": 14,
   "metadata": {
    "ExecuteTime": {
     "end_time": "2019-07-09T17:41:50.380095Z",
     "start_time": "2019-07-09T17:41:50.358610Z"
    }
   },
   "outputs": [
    {
     "data": {
      "text/plain": [
       "prec            96\n",
       "dir_axis_1      24\n",
       "racha           24\n",
       "sol             24\n",
       "dir_axis_2      24\n",
       "hour_23          0\n",
       "dow_Thursday     0\n",
       "dow_Sunday       0\n",
       "dow_Saturday     0\n",
       "dow_Monday       0\n",
       "dtype: int64"
      ]
     },
     "execution_count": 14,
     "metadata": {},
     "output_type": "execute_result"
    }
   ],
   "source": [
    "X.isnull().sum().sort_values(ascending=False).head(10)"
   ]
  },
  {
   "cell_type": "code",
   "execution_count": 15,
   "metadata": {
    "ExecuteTime": {
     "end_time": "2019-07-09T17:41:50.387302Z",
     "start_time": "2019-07-09T17:41:50.382824Z"
    },
    "collapsed": true
   },
   "outputs": [],
   "source": [
    "X.fillna(method='ffill', inplace=True)"
   ]
  },
  {
   "cell_type": "code",
   "execution_count": 16,
   "metadata": {
    "ExecuteTime": {
     "end_time": "2019-07-09T17:41:50.398976Z",
     "start_time": "2019-07-09T17:41:50.389793Z"
    }
   },
   "outputs": [
    {
     "data": {
      "text/plain": [
       "hour_23         0\n",
       "velmedia        0\n",
       "dow_Thursday    0\n",
       "dow_Sunday      0\n",
       "dow_Saturday    0\n",
       "dow_Monday      0\n",
       "dow_Friday      0\n",
       "pres_range      0\n",
       "temp_range      0\n",
       "dir_axis_2      0\n",
       "dtype: int64"
      ]
     },
     "execution_count": 16,
     "metadata": {},
     "output_type": "execute_result"
    }
   ],
   "source": [
    "X.isnull().sum().sort_values(ascending=False).head(10)"
   ]
  },
  {
   "cell_type": "markdown",
   "metadata": {},
   "source": [
    "# Regresión lineal"
   ]
  },
  {
   "cell_type": "code",
   "execution_count": 17,
   "metadata": {
    "ExecuteTime": {
     "end_time": "2019-07-09T17:41:50.953699Z",
     "start_time": "2019-07-09T17:41:50.400784Z"
    },
    "collapsed": true
   },
   "outputs": [],
   "source": [
    "from sklearn.linear_model import LinearRegression\n",
    "from sklearn.metrics import mean_absolute_error, mean_squared_error"
   ]
  },
  {
   "cell_type": "code",
   "execution_count": 18,
   "metadata": {
    "ExecuteTime": {
     "end_time": "2019-07-09T17:41:50.962508Z",
     "start_time": "2019-07-09T17:41:50.958756Z"
    },
    "collapsed": true
   },
   "outputs": [],
   "source": [
    "model = LinearRegression()"
   ]
  },
  {
   "cell_type": "code",
   "execution_count": 19,
   "metadata": {
    "ExecuteTime": {
     "end_time": "2019-07-09T17:41:51.009291Z",
     "start_time": "2019-07-09T17:41:50.967470Z"
    }
   },
   "outputs": [
    {
     "data": {
      "text/plain": [
       "LinearRegression(copy_X=True, fit_intercept=True, n_jobs=None,\n",
       "         normalize=False)"
      ]
     },
     "execution_count": 19,
     "metadata": {},
     "output_type": "execute_result"
    }
   ],
   "source": [
    "model.fit(X, y)"
   ]
  },
  {
   "cell_type": "code",
   "execution_count": 20,
   "metadata": {
    "ExecuteTime": {
     "end_time": "2019-07-09T17:41:51.016766Z",
     "start_time": "2019-07-09T17:41:51.011529Z"
    }
   },
   "outputs": [
    {
     "data": {
      "text/plain": [
       "array([-3.62866043e+07,  5.09599476e+09,  2.77032382e+09,  1.03747216e-03,\n",
       "       -8.19243772e+10,  8.19243772e+10, -2.15815417e-03, -1.53613802e-03,\n",
       "        1.37395019e-01,  1.18434526e+00, -1.06158176e+00,  1.40933322e-02,\n",
       "        1.62112472e-02, -4.22097180e-02, -8.33514103e-02,  8.19243772e+10,\n",
       "        4.16483130e+08,  4.16483130e+08,  4.52769734e+08,  4.52769734e+08,\n",
       "        4.16483130e+08,  4.16483130e+08,  4.16483130e+08,  5.08159609e+09,\n",
       "        5.08159609e+09,  5.08159609e+09,  5.08159609e+09,  5.08159609e+09,\n",
       "        5.08159609e+09,  5.08159609e+09,  5.08159609e+09,  5.08159609e+09,\n",
       "        2.75592515e+09,  2.75592515e+09,  2.75592515e+09,  2.75592515e+09,\n",
       "        2.75592515e+09,  2.75592515e+09,  2.75592515e+09,  2.75592515e+09,\n",
       "        2.75592515e+09,  2.75592515e+09,  2.75592515e+09,  7.85191991e+09,\n",
       "        7.85191991e+09,  7.85191991e+09,  7.85191991e+09])"
      ]
     },
     "execution_count": 20,
     "metadata": {},
     "output_type": "execute_result"
    }
   ],
   "source": [
    "model.coef_"
   ]
  },
  {
   "cell_type": "code",
   "execution_count": 21,
   "metadata": {
    "ExecuteTime": {
     "end_time": "2019-07-09T17:41:51.023380Z",
     "start_time": "2019-07-09T17:41:51.019176Z"
    }
   },
   "outputs": [
    {
     "data": {
      "text/plain": [
       "-8268403035.255392"
      ]
     },
     "execution_count": 21,
     "metadata": {},
     "output_type": "execute_result"
    }
   ],
   "source": [
    "model.intercept_"
   ]
  },
  {
   "cell_type": "code",
   "execution_count": 22,
   "metadata": {
    "ExecuteTime": {
     "end_time": "2019-07-09T17:41:51.036565Z",
     "start_time": "2019-07-09T17:41:51.025951Z"
    }
   },
   "outputs": [
    {
     "data": {
      "text/plain": [
       "presMin            8.192438e+10\n",
       "pres_range         8.192438e+10\n",
       "hour_23            7.851920e+09\n",
       "hour_22            7.851920e+09\n",
       "hour_20            7.851920e+09\n",
       "hour_21            7.851920e+09\n",
       "is_working_time    5.095995e+09\n",
       "hour_0             5.081596e+09\n",
       "hour_1             5.081596e+09\n",
       "hour_2             5.081596e+09\n",
       "hour_8             5.081596e+09\n",
       "hour_3             5.081596e+09\n",
       "hour_4             5.081596e+09\n",
       "hour_6             5.081596e+09\n",
       "hour_5             5.081596e+09\n",
       "hour_7             5.081596e+09\n",
       "is_night_time      2.770324e+09\n",
       "hour_12            2.755925e+09\n",
       "hour_11            2.755925e+09\n",
       "hour_15            2.755925e+09\n",
       "hour_19            2.755925e+09\n",
       "hour_14            2.755925e+09\n",
       "hour_18            2.755925e+09\n",
       "hour_16            2.755925e+09\n",
       "hour_17            2.755925e+09\n",
       "hour_13            2.755925e+09\n",
       "hour_10            2.755925e+09\n",
       "hour_9             2.755925e+09\n",
       "dow_Sunday         4.527697e+08\n",
       "dow_Saturday       4.527697e+08\n",
       "dow_Tuesday        4.164831e+08\n",
       "dow_Wednesday      4.164831e+08\n",
       "dow_Monday         4.164831e+08\n",
       "dow_Friday         4.164831e+08\n",
       "dow_Thursday       4.164831e+08\n",
       "tmed               1.184345e+00\n",
       "tmax               1.373950e-01\n",
       "dir_axis_1         1.621125e-02\n",
       "velmedia           1.409333e-02\n",
       "prec               1.037472e-03\n",
       "sol               -1.536138e-03\n",
       "racha             -2.158154e-03\n",
       "dir_axis_2        -4.220972e-02\n",
       "temp_range        -8.335141e-02\n",
       "tmin              -1.061582e+00\n",
       "is_weekend        -3.628660e+07\n",
       "presMax           -8.192438e+10\n",
       "dtype: float64"
      ]
     },
     "execution_count": 22,
     "metadata": {},
     "output_type": "execute_result"
    }
   ],
   "source": [
    "feature_coeff_series = pd.Series(model.coef_, index=X.columns)\n",
    "feature_coeff_series.sort_values(ascending=False, inplace=True)\n",
    "feature_coeff_series"
   ]
  },
  {
   "cell_type": "code",
   "execution_count": 23,
   "metadata": {
    "ExecuteTime": {
     "end_time": "2019-07-09T17:41:51.045928Z",
     "start_time": "2019-07-09T17:41:51.038750Z"
    }
   },
   "outputs": [
    {
     "data": {
      "text/plain": [
       "array([0.61707687, 0.59000397, 0.56601906, ..., 0.27808952, 0.332304  ,\n",
       "       0.27369404])"
      ]
     },
     "execution_count": 23,
     "metadata": {},
     "output_type": "execute_result"
    }
   ],
   "source": [
    "model.predict(X)"
   ]
  },
  {
   "cell_type": "code",
   "execution_count": 24,
   "metadata": {
    "ExecuteTime": {
     "end_time": "2019-07-09T17:41:51.050917Z",
     "start_time": "2019-07-09T17:41:51.048274Z"
    },
    "collapsed": true
   },
   "outputs": [],
   "source": [
    "# model.predict(pd.DataFrame({'tmed': 30.0, 'presMax': 1000}, index=[0]))"
   ]
  },
  {
   "cell_type": "code",
   "execution_count": 25,
   "metadata": {
    "ExecuteTime": {
     "end_time": "2019-07-09T17:41:51.059331Z",
     "start_time": "2019-07-09T17:41:51.054217Z"
    },
    "collapsed": true
   },
   "outputs": [],
   "source": [
    "y_pred = model.predict(X)"
   ]
  },
  {
   "cell_type": "code",
   "execution_count": 26,
   "metadata": {
    "ExecuteTime": {
     "end_time": "2019-07-09T17:41:51.069195Z",
     "start_time": "2019-07-09T17:41:51.062096Z"
    }
   },
   "outputs": [
    {
     "data": {
      "text/plain": [
       "0.16628419585561408"
      ]
     },
     "execution_count": 26,
     "metadata": {},
     "output_type": "execute_result"
    }
   ],
   "source": [
    "mean_absolute_error(y, y_pred)"
   ]
  },
  {
   "cell_type": "code",
   "execution_count": 27,
   "metadata": {
    "ExecuteTime": {
     "end_time": "2019-07-09T17:41:51.077627Z",
     "start_time": "2019-07-09T17:41:51.071401Z"
    }
   },
   "outputs": [
    {
     "data": {
      "text/plain": [
       "0.265547196966847"
      ]
     },
     "execution_count": 27,
     "metadata": {},
     "output_type": "execute_result"
    }
   ],
   "source": [
    "np.sqrt(mean_squared_error(y, y_pred))"
   ]
  },
  {
   "cell_type": "code",
   "execution_count": 28,
   "metadata": {
    "ExecuteTime": {
     "end_time": "2019-07-09T17:41:51.104613Z",
     "start_time": "2019-07-09T17:41:51.081878Z"
    }
   },
   "outputs": [
    {
     "data": {
      "text/plain": [
       "count    2903.000000\n",
       "mean        0.267439\n",
       "std         0.285236\n",
       "min         0.079000\n",
       "25%         0.111000\n",
       "50%         0.161000\n",
       "75%         0.265000\n",
       "max         2.072000\n",
       "Name: kwh, dtype: float64"
      ]
     },
     "execution_count": 28,
     "metadata": {},
     "output_type": "execute_result"
    }
   ],
   "source": [
    "y.describe()"
   ]
  },
  {
   "cell_type": "code",
   "execution_count": 29,
   "metadata": {
    "ExecuteTime": {
     "end_time": "2019-07-09T17:41:51.119831Z",
     "start_time": "2019-07-09T17:41:51.109961Z"
    },
    "collapsed": true
   },
   "outputs": [],
   "source": [
    "from sklearn.dummy import DummyRegressor"
   ]
  },
  {
   "cell_type": "code",
   "execution_count": 30,
   "metadata": {
    "ExecuteTime": {
     "end_time": "2019-07-09T17:41:51.137563Z",
     "start_time": "2019-07-09T17:41:51.124837Z"
    }
   },
   "outputs": [
    {
     "data": {
      "text/plain": [
       "DummyRegressor(constant=None, quantile=None, strategy='mean')"
      ]
     },
     "execution_count": 30,
     "metadata": {},
     "output_type": "execute_result"
    }
   ],
   "source": [
    "dummy_model = DummyRegressor(strategy='mean')\n",
    "dummy_model.fit(X, y)"
   ]
  },
  {
   "cell_type": "code",
   "execution_count": 31,
   "metadata": {
    "ExecuteTime": {
     "end_time": "2019-07-09T17:41:51.155281Z",
     "start_time": "2019-07-09T17:41:51.142538Z"
    }
   },
   "outputs": [
    {
     "data": {
      "text/plain": [
       "0.28518672927440997"
      ]
     },
     "execution_count": 31,
     "metadata": {},
     "output_type": "execute_result"
    }
   ],
   "source": [
    "y_pred = dummy_model.predict(X)\n",
    "np.sqrt(mean_squared_error(y, y_pred))"
   ]
  },
  {
   "cell_type": "markdown",
   "metadata": {},
   "source": [
    "# Divsión de enternamiento y test"
   ]
  },
  {
   "cell_type": "code",
   "execution_count": 32,
   "metadata": {
    "ExecuteTime": {
     "end_time": "2019-07-09T17:41:51.167311Z",
     "start_time": "2019-07-09T17:41:51.158030Z"
    }
   },
   "outputs": [
    {
     "name": "stderr",
     "output_type": "stream",
     "text": [
      "/home/infinitemonkeys/anaconda3/lib/python3.6/site-packages/sklearn/model_selection/_split.py:2179: FutureWarning: From version 0.21, test_size will always complement train_size unless both are specified.\n",
      "  FutureWarning)\n"
     ]
    }
   ],
   "source": [
    "from sklearn.model_selection import train_test_split\n",
    "import numpy as np\n",
    "\n",
    "X_train, X_test, y_train, y_test = train_test_split(X, y, train_size=0.6, random_state=0)"
   ]
  },
  {
   "cell_type": "code",
   "execution_count": 33,
   "metadata": {
    "ExecuteTime": {
     "end_time": "2019-07-09T17:41:51.194199Z",
     "start_time": "2019-07-09T17:41:51.169894Z"
    }
   },
   "outputs": [
    {
     "data": {
      "text/plain": [
       "LinearRegression(copy_X=True, fit_intercept=True, n_jobs=None,\n",
       "         normalize=False)"
      ]
     },
     "execution_count": 33,
     "metadata": {},
     "output_type": "execute_result"
    }
   ],
   "source": [
    "dummy_model.fit(X_train, y_train)\n",
    "model.fit(X_train, y_train)"
   ]
  },
  {
   "cell_type": "code",
   "execution_count": 34,
   "metadata": {
    "ExecuteTime": {
     "end_time": "2019-07-09T17:41:51.237913Z",
     "start_time": "2019-07-09T17:41:51.204704Z"
    }
   },
   "outputs": [
    {
     "data": {
      "text/plain": [
       "(2903, 28)"
      ]
     },
     "execution_count": 34,
     "metadata": {},
     "output_type": "execute_result"
    }
   ],
   "source": [
    "merged_df.shape"
   ]
  },
  {
   "cell_type": "code",
   "execution_count": 35,
   "metadata": {
    "ExecuteTime": {
     "end_time": "2019-07-09T17:41:51.283064Z",
     "start_time": "2019-07-09T17:41:51.263906Z"
    }
   },
   "outputs": [
    {
     "data": {
      "text/plain": [
       "67108864"
      ]
     },
     "execution_count": 35,
     "metadata": {},
     "output_type": "execute_result"
    }
   ],
   "source": [
    "2 ** 26"
   ]
  },
  {
   "cell_type": "code",
   "execution_count": 36,
   "metadata": {
    "ExecuteTime": {
     "end_time": "2019-07-09T17:41:51.324827Z",
     "start_time": "2019-07-09T17:41:51.299036Z"
    }
   },
   "outputs": [
    {
     "data": {
      "text/html": [
       "<div>\n",
       "<style scoped>\n",
       "    .dataframe tbody tr th:only-of-type {\n",
       "        vertical-align: middle;\n",
       "    }\n",
       "\n",
       "    .dataframe tbody tr th {\n",
       "        vertical-align: top;\n",
       "    }\n",
       "\n",
       "    .dataframe thead th {\n",
       "        text-align: right;\n",
       "    }\n",
       "</style>\n",
       "<table border=\"1\" class=\"dataframe\">\n",
       "  <thead>\n",
       "    <tr style=\"text-align: right;\">\n",
       "      <th></th>\n",
       "      <th>dummy</th>\n",
       "      <th>linear</th>\n",
       "    </tr>\n",
       "  </thead>\n",
       "  <tbody>\n",
       "    <tr>\n",
       "      <th>train</th>\n",
       "      <td>NaN</td>\n",
       "      <td>NaN</td>\n",
       "    </tr>\n",
       "    <tr>\n",
       "      <th>test</th>\n",
       "      <td>NaN</td>\n",
       "      <td>NaN</td>\n",
       "    </tr>\n",
       "  </tbody>\n",
       "</table>\n",
       "</div>"
      ],
      "text/plain": [
       "       dummy  linear\n",
       "train    NaN     NaN\n",
       "test     NaN     NaN"
      ]
     },
     "execution_count": 36,
     "metadata": {},
     "output_type": "execute_result"
    }
   ],
   "source": [
    "error_df = pd.DataFrame(np.nan, index=['train', 'test'], columns=['dummy', 'linear'])\n",
    "error_df"
   ]
  },
  {
   "cell_type": "code",
   "execution_count": 37,
   "metadata": {
    "ExecuteTime": {
     "end_time": "2019-07-09T17:41:51.349345Z",
     "start_time": "2019-07-09T17:41:51.327754Z"
    },
    "collapsed": true
   },
   "outputs": [],
   "source": [
    "y_train_pred = dummy_model.predict(X_train)\n",
    "y_test_pred = dummy_model.predict(X_test)\n",
    "\n",
    "error_df.loc['train', 'dummy'] = mean_absolute_error(y_train, y_train_pred)\n",
    "error_df.loc['test', 'dummy'] = mean_absolute_error(y_test, y_test_pred)"
   ]
  },
  {
   "cell_type": "code",
   "execution_count": 38,
   "metadata": {
    "ExecuteTime": {
     "end_time": "2019-07-09T17:41:51.380167Z",
     "start_time": "2019-07-09T17:41:51.354031Z"
    },
    "collapsed": true
   },
   "outputs": [],
   "source": [
    "y_train_pred = model.predict(X_train)\n",
    "y_test_pred = model.predict(X_test)\n",
    "\n",
    "error_df.loc['train', 'linear'] = mean_absolute_error(y_train, y_train_pred)\n",
    "error_df.loc['test', 'linear'] = mean_absolute_error(y_test, y_test_pred)"
   ]
  },
  {
   "cell_type": "code",
   "execution_count": 39,
   "metadata": {
    "ExecuteTime": {
     "end_time": "2019-07-09T17:41:51.408121Z",
     "start_time": "2019-07-09T17:41:51.383502Z"
    }
   },
   "outputs": [
    {
     "data": {
      "text/html": [
       "<div>\n",
       "<style scoped>\n",
       "    .dataframe tbody tr th:only-of-type {\n",
       "        vertical-align: middle;\n",
       "    }\n",
       "\n",
       "    .dataframe tbody tr th {\n",
       "        vertical-align: top;\n",
       "    }\n",
       "\n",
       "    .dataframe thead th {\n",
       "        text-align: right;\n",
       "    }\n",
       "</style>\n",
       "<table border=\"1\" class=\"dataframe\">\n",
       "  <thead>\n",
       "    <tr style=\"text-align: right;\">\n",
       "      <th></th>\n",
       "      <th>dummy</th>\n",
       "      <th>linear</th>\n",
       "    </tr>\n",
       "  </thead>\n",
       "  <tbody>\n",
       "    <tr>\n",
       "      <th>train</th>\n",
       "      <td>0.181226</td>\n",
       "      <td>0.167069</td>\n",
       "    </tr>\n",
       "    <tr>\n",
       "      <th>test</th>\n",
       "      <td>0.174652</td>\n",
       "      <td>0.169709</td>\n",
       "    </tr>\n",
       "  </tbody>\n",
       "</table>\n",
       "</div>"
      ],
      "text/plain": [
       "          dummy    linear\n",
       "train  0.181226  0.167069\n",
       "test   0.174652  0.169709"
      ]
     },
     "execution_count": 39,
     "metadata": {},
     "output_type": "execute_result"
    }
   ],
   "source": [
    "error_df"
   ]
  },
  {
   "cell_type": "code",
   "execution_count": 40,
   "metadata": {
    "ExecuteTime": {
     "end_time": "2019-07-09T17:41:51.416355Z",
     "start_time": "2019-07-09T17:41:51.411061Z"
    }
   },
   "outputs": [
    {
     "data": {
      "text/plain": [
       "(2903, 47)"
      ]
     },
     "execution_count": 40,
     "metadata": {},
     "output_type": "execute_result"
    }
   ],
   "source": [
    "X.shape"
   ]
  },
  {
   "cell_type": "markdown",
   "metadata": {},
   "source": [
    "# Ridge y Lasso"
   ]
  },
  {
   "cell_type": "code",
   "execution_count": 41,
   "metadata": {
    "ExecuteTime": {
     "end_time": "2019-07-09T17:41:51.426052Z",
     "start_time": "2019-07-09T17:41:51.419772Z"
    },
    "collapsed": true
   },
   "outputs": [],
   "source": [
    "from sklearn.linear_model import Ridge, Lasso\n",
    "from sklearn.preprocessing import StandardScaler\n",
    "from sklearn.pipeline import Pipeline\n",
    "from sklearn.base import BaseEstimator, TransformerMixin\n",
    "from sklearn.preprocessing import PolynomialFeatures"
   ]
  },
  {
   "cell_type": "code",
   "execution_count": 42,
   "metadata": {
    "ExecuteTime": {
     "end_time": "2019-07-09T17:41:51.590455Z",
     "start_time": "2019-07-09T17:41:51.429500Z"
    },
    "collapsed": true
   },
   "outputs": [],
   "source": [
    "class Scaler(BaseEstimator, TransformerMixin):\n",
    "    \n",
    "    def __init__(self, scale_dummies=True):\n",
    "        self.scale_dummies = scale_dummies\n",
    "        self.scaler = StandardScaler()\n",
    "        self.col_dummies = []\n",
    "        self.float_cols = None\n",
    "        \n",
    "    def fit(self, X, y=None, **fit_params):\n",
    "        \n",
    "        X = X.astype('float')\n",
    "        \n",
    "#         assert isinstance(X, pd.DataFrame), \"Error, X must be a DataFrame\"\n",
    "        if not isinstance(X, pd.DataFrame):\n",
    "            X_val = pd.DataFrame(X)\n",
    "        else:\n",
    "            X_val = X.copy()\n",
    "            \n",
    "        if not self.scale_dummies:\n",
    "#             for col in X.columns:\n",
    "#                 if X[col].isin([0, 1]).all():\n",
    "#                     self.col_dummies.append(col)\n",
    "            dummies_aux = (X_val.eq(0.0) | X_val.eq(1.0)).all()\n",
    "            self.col_dummies = dummies_aux[dummies_aux == True].index\n",
    "        \n",
    "            self.float_cols = X_val.columns.difference(self.col_dummies)\n",
    "            self.scaler.fit(X_val[self.float_cols])\n",
    "        else:\n",
    "            self.scaler.fit(X_val)\n",
    "            \n",
    "        return self\n",
    "    \n",
    "    def transform(self, X, y=None):\n",
    "        \n",
    "        X = X.astype('float')\n",
    "        \n",
    "        if not isinstance(X, pd.DataFrame):\n",
    "            X_val = pd.DataFrame(X)\n",
    "        else:\n",
    "            X_val = X.copy()\n",
    "        \n",
    "#         assert isinstance(X, pd.DataFrame), \"Error, X must be a DataFrame\"\n",
    "       \n",
    "        if not self.scale_dummies:\n",
    "            X_val[self.float_cols] = self.scaler.transform(X_val[self.float_cols])\n",
    "        else:\n",
    "            X_val = self.scaler.transform(X_val)\n",
    "            \n",
    "        X_val = X_val.astype('float')\n",
    "            \n",
    "        return X_val"
   ]
  },
  {
   "cell_type": "code",
   "execution_count": 43,
   "metadata": {
    "ExecuteTime": {
     "end_time": "2019-07-09T17:41:51.604183Z",
     "start_time": "2019-07-09T17:41:51.592298Z"
    }
   },
   "outputs": [
    {
     "data": {
      "text/plain": [
       "array([5.00000000e-01, 5.63199193e-01, 6.34386662e-01, 7.14572112e-01,\n",
       "       8.04892873e-01, 9.06630033e-01, 1.02122661e+00, 1.15030800e+00,\n",
       "       1.29570508e+00, 1.45948011e+00, 1.64395604e+00, 1.85174942e+00,\n",
       "       2.08580756e+00, 2.34945027e+00, 2.64641699e+00, 2.98091983e+00,\n",
       "       3.35770329e+00, 3.78211156e+00, 4.26016436e+00, 4.79864226e+00,\n",
       "       5.40518289e+00, 6.08838928e+00, 6.85795186e+00, 7.72478591e+00,\n",
       "       8.70118638e+00, 9.80100229e+00, 1.10398332e+01, 1.24352503e+01,\n",
       "       1.40070458e+01, 1.57775138e+01, 1.77717661e+01, 2.00180886e+01,\n",
       "       2.25483427e+01, 2.53984168e+01, 2.86087357e+01, 3.22248337e+01,\n",
       "       3.62980007e+01, 4.08860094e+01, 4.60539350e+01, 5.18750781e+01,\n",
       "       5.84320042e+01, 6.58177152e+01, 7.41369682e+01, 8.35077613e+01,\n",
       "       9.40630075e+01, 1.05952420e+02, 1.19344635e+02, 1.34429604e+02,\n",
       "       1.51421289e+02, 1.70560695e+02, 1.92119292e+02, 2.16402860e+02,\n",
       "       2.43755832e+02, 2.74566176e+02, 3.09270898e+02, 3.48362240e+02,\n",
       "       3.92394665e+02, 4.41992717e+02, 4.97859883e+02, 5.60788569e+02,\n",
       "       6.31671339e+02, 7.11513576e+02, 8.01447744e+02, 9.02749445e+02,\n",
       "       1.01685552e+03, 1.14538441e+03, 1.29015916e+03, 1.45323319e+03,\n",
       "       1.63691952e+03, 1.84382350e+03, 2.07687982e+03, 2.33939408e+03,\n",
       "       2.63508971e+03, 2.96816080e+03, 3.34333153e+03, 3.76592324e+03,\n",
       "       4.24192986e+03, 4.77810295e+03, 5.38204745e+03, 6.06232956e+03,\n",
       "       6.82859823e+03, 7.69172202e+03, 8.66394327e+03, 9.75905171e+03,\n",
       "       1.09925801e+04, 1.23820245e+04, 1.39470924e+04, 1.57099824e+04,\n",
       "       1.76956988e+04, 1.99324065e+04, 2.24518305e+04, 2.52897057e+04,\n",
       "       2.84862836e+04, 3.20869039e+04, 3.61426368e+04, 4.07110077e+04,\n",
       "       4.58568134e+04, 5.16530406e+04, 5.81819016e+04, 6.55360000e+04])"
      ]
     },
     "execution_count": 43,
     "metadata": {},
     "output_type": "execute_result"
    }
   ],
   "source": [
    "alpha_vec = np.logspace(-1, 16, base=2, num=100)\n",
    "alpha_vec"
   ]
  },
  {
   "cell_type": "code",
   "execution_count": 44,
   "metadata": {
    "ExecuteTime": {
     "end_time": "2019-07-09T17:42:49.505574Z",
     "start_time": "2019-07-09T17:41:51.606388Z"
    },
    "scrolled": false
   },
   "outputs": [
    {
     "name": "stderr",
     "output_type": "stream",
     "text": [
      "100%|██████████| 100/100 [00:57<00:00,  1.73it/s]\n"
     ]
    }
   ],
   "source": [
    "from tqdm import tqdm\n",
    "\n",
    "test_error_list = []\n",
    "\n",
    "for alpha in tqdm(alpha_vec):\n",
    "    pipe = Pipeline([('poly_feat', PolynomialFeatures(degree=2, include_bias=False, interaction_only=True)),\n",
    "                     ('scaler', Scaler(scale_dummies=True)),\n",
    "                     ('model', Ridge(alpha=alpha))])\n",
    "    \n",
    "    pipe.fit(X_train, y_train)\n",
    "    \n",
    "    y_test_pred = pipe.predict(X_test)\n",
    "    mae = mean_absolute_error(y_test, y_test_pred)  \n",
    "    test_error_list.append(mae)"
   ]
  },
  {
   "cell_type": "code",
   "execution_count": 45,
   "metadata": {
    "ExecuteTime": {
     "end_time": "2019-07-09T17:42:49.520289Z",
     "start_time": "2019-07-09T17:42:49.513092Z"
    },
    "collapsed": true
   },
   "outputs": [],
   "source": [
    "# model.coef_"
   ]
  },
  {
   "cell_type": "code",
   "execution_count": 46,
   "metadata": {
    "ExecuteTime": {
     "end_time": "2019-07-09T17:42:50.364843Z",
     "start_time": "2019-07-09T17:42:49.536775Z"
    }
   },
   "outputs": [
    {
     "data": {
      "image/png": "[encoded data removed]",
      "text/plain": [
       "<Figure size 432x288 with 1 Axes>"
      ]
     },
     "metadata": {},
     "output_type": "display_data"
    }
   ],
   "source": [
    "import matplotlib.pyplot as plt\n",
    "%matplotlib inline\n",
    "\n",
    "plt.plot(test_error_list);"
   ]
  },
  {
   "cell_type": "code",
   "execution_count": 47,
   "metadata": {
    "ExecuteTime": {
     "end_time": "2019-07-09T17:42:50.375432Z",
     "start_time": "2019-07-09T17:42:50.371676Z"
    }
   },
   "outputs": [
    {
     "data": {
      "text/plain": [
       "0.16499928885243437"
      ]
     },
     "execution_count": 47,
     "metadata": {},
     "output_type": "execute_result"
    }
   ],
   "source": [
    "np.min(test_error_list) # 0.17065"
   ]
  },
  {
   "cell_type": "code",
   "execution_count": 48,
   "metadata": {
    "ExecuteTime": {
     "end_time": "2019-07-09T17:42:50.384030Z",
     "start_time": "2019-07-09T17:42:50.376964Z"
    }
   },
   "outputs": [
    {
     "data": {
      "text/plain": [
       "13947.092385472735"
      ]
     },
     "execution_count": 48,
     "metadata": {},
     "output_type": "execute_result"
    }
   ],
   "source": [
    "alpha_vec[np.argmin(test_error_list)]"
   ]
  },
  {
   "cell_type": "code",
   "execution_count": 49,
   "metadata": {
    "ExecuteTime": {
     "end_time": "2019-07-09T17:42:50.406740Z",
     "start_time": "2019-07-09T17:42:50.395996Z"
    }
   },
   "outputs": [
    {
     "data": {
      "text/plain": [
       "[('poly_feat',\n",
       "  PolynomialFeatures(degree=2, include_bias=False, interaction_only=True)),\n",
       " ('scaler', Scaler(scale_dummies=True)),\n",
       " ('model', Ridge(alpha=65536.0, copy_X=True, fit_intercept=True, max_iter=None,\n",
       "     normalize=False, random_state=None, solver='auto', tol=0.001))]"
      ]
     },
     "execution_count": 49,
     "metadata": {},
     "output_type": "execute_result"
    }
   ],
   "source": [
    "pipe.steps"
   ]
  },
  {
   "cell_type": "code",
   "execution_count": 50,
   "metadata": {
    "ExecuteTime": {
     "end_time": "2019-07-09T17:42:50.424576Z",
     "start_time": "2019-07-09T17:42:50.416443Z"
    }
   },
   "outputs": [
    {
     "data": {
      "text/plain": [
       "1128"
      ]
     },
     "execution_count": 50,
     "metadata": {},
     "output_type": "execute_result"
    }
   ],
   "source": [
    "pipe.steps[2][1].coef_.size"
   ]
  },
  {
   "cell_type": "code",
   "execution_count": 51,
   "metadata": {
    "ExecuteTime": {
     "end_time": "2019-07-09T17:42:50.432948Z",
     "start_time": "2019-07-09T17:42:50.428645Z"
    }
   },
   "outputs": [
    {
     "data": {
      "text/plain": [
       "(2903, 47)"
      ]
     },
     "execution_count": 51,
     "metadata": {},
     "output_type": "execute_result"
    }
   ],
   "source": [
    "X.shape"
   ]
  },
  {
   "cell_type": "code",
   "execution_count": 52,
   "metadata": {
    "ExecuteTime": {
     "end_time": "2019-07-09T17:42:50.519343Z",
     "start_time": "2019-07-09T17:42:50.446093Z"
    }
   },
   "outputs": [
    {
     "data": {
      "text/plain": [
       "['x0',\n",
       " 'x1',\n",
       " 'x2',\n",
       " 'x3',\n",
       " 'x4',\n",
       " 'x5',\n",
       " 'x6',\n",
       " 'x7',\n",
       " 'x8',\n",
       " 'x9',\n",
       " 'x10',\n",
       " 'x11',\n",
       " 'x12',\n",
       " 'x13',\n",
       " 'x14',\n",
       " 'x15',\n",
       " 'x16',\n",
       " 'x17',\n",
       " 'x18',\n",
       " 'x19',\n",
       " 'x20',\n",
       " 'x21',\n",
       " 'x22',\n",
       " 'x23',\n",
       " 'x24',\n",
       " 'x25',\n",
       " 'x26',\n",
       " 'x27',\n",
       " 'x28',\n",
       " 'x29',\n",
       " 'x30',\n",
       " 'x31',\n",
       " 'x32',\n",
       " 'x33',\n",
       " 'x34',\n",
       " 'x35',\n",
       " 'x36',\n",
       " 'x37',\n",
       " 'x38',\n",
       " 'x39',\n",
       " 'x40',\n",
       " 'x41',\n",
       " 'x42',\n",
       " 'x43',\n",
       " 'x44',\n",
       " 'x45',\n",
       " 'x46',\n",
       " 'x0 x1',\n",
       " 'x0 x2',\n",
       " 'x0 x3',\n",
       " 'x0 x4',\n",
       " 'x0 x5',\n",
       " 'x0 x6',\n",
       " 'x0 x7',\n",
       " 'x0 x8',\n",
       " 'x0 x9',\n",
       " 'x0 x10',\n",
       " 'x0 x11',\n",
       " 'x0 x12',\n",
       " 'x0 x13',\n",
       " 'x0 x14',\n",
       " 'x0 x15',\n",
       " 'x0 x16',\n",
       " 'x0 x17',\n",
       " 'x0 x18',\n",
       " 'x0 x19',\n",
       " 'x0 x20',\n",
       " 'x0 x21',\n",
       " 'x0 x22',\n",
       " 'x0 x23',\n",
       " 'x0 x24',\n",
       " 'x0 x25',\n",
       " 'x0 x26',\n",
       " 'x0 x27',\n",
       " 'x0 x28',\n",
       " 'x0 x29',\n",
       " 'x0 x30',\n",
       " 'x0 x31',\n",
       " 'x0 x32',\n",
       " 'x0 x33',\n",
       " 'x0 x34',\n",
       " 'x0 x35',\n",
       " 'x0 x36',\n",
       " 'x0 x37',\n",
       " 'x0 x38',\n",
       " 'x0 x39',\n",
       " 'x0 x40',\n",
       " 'x0 x41',\n",
       " 'x0 x42',\n",
       " 'x0 x43',\n",
       " 'x0 x44',\n",
       " 'x0 x45',\n",
       " 'x0 x46',\n",
       " 'x1 x2',\n",
       " 'x1 x3',\n",
       " 'x1 x4',\n",
       " 'x1 x5',\n",
       " 'x1 x6',\n",
       " 'x1 x7',\n",
       " 'x1 x8',\n",
       " 'x1 x9',\n",
       " 'x1 x10',\n",
       " 'x1 x11',\n",
       " 'x1 x12',\n",
       " 'x1 x13',\n",
       " 'x1 x14',\n",
       " 'x1 x15',\n",
       " 'x1 x16',\n",
       " 'x1 x17',\n",
       " 'x1 x18',\n",
       " 'x1 x19',\n",
       " 'x1 x20',\n",
       " 'x1 x21',\n",
       " 'x1 x22',\n",
       " 'x1 x23',\n",
       " 'x1 x24',\n",
       " 'x1 x25',\n",
       " 'x1 x26',\n",
       " 'x1 x27',\n",
       " 'x1 x28',\n",
       " 'x1 x29',\n",
       " 'x1 x30',\n",
       " 'x1 x31',\n",
       " 'x1 x32',\n",
       " 'x1 x33',\n",
       " 'x1 x34',\n",
       " 'x1 x35',\n",
       " 'x1 x36',\n",
       " 'x1 x37',\n",
       " 'x1 x38',\n",
       " 'x1 x39',\n",
       " 'x1 x40',\n",
       " 'x1 x41',\n",
       " 'x1 x42',\n",
       " 'x1 x43',\n",
       " 'x1 x44',\n",
       " 'x1 x45',\n",
       " 'x1 x46',\n",
       " 'x2 x3',\n",
       " 'x2 x4',\n",
       " 'x2 x5',\n",
       " 'x2 x6',\n",
       " 'x2 x7',\n",
       " 'x2 x8',\n",
       " 'x2 x9',\n",
       " 'x2 x10',\n",
       " 'x2 x11',\n",
       " 'x2 x12',\n",
       " 'x2 x13',\n",
       " 'x2 x14',\n",
       " 'x2 x15',\n",
       " 'x2 x16',\n",
       " 'x2 x17',\n",
       " 'x2 x18',\n",
       " 'x2 x19',\n",
       " 'x2 x20',\n",
       " 'x2 x21',\n",
       " 'x2 x22',\n",
       " 'x2 x23',\n",
       " 'x2 x24',\n",
       " 'x2 x25',\n",
       " 'x2 x26',\n",
       " 'x2 x27',\n",
       " 'x2 x28',\n",
       " 'x2 x29',\n",
       " 'x2 x30',\n",
       " 'x2 x31',\n",
       " 'x2 x32',\n",
       " 'x2 x33',\n",
       " 'x2 x34',\n",
       " 'x2 x35',\n",
       " 'x2 x36',\n",
       " 'x2 x37',\n",
       " 'x2 x38',\n",
       " 'x2 x39',\n",
       " 'x2 x40',\n",
       " 'x2 x41',\n",
       " 'x2 x42',\n",
       " 'x2 x43',\n",
       " 'x2 x44',\n",
       " 'x2 x45',\n",
       " 'x2 x46',\n",
       " 'x3 x4',\n",
       " 'x3 x5',\n",
       " 'x3 x6',\n",
       " 'x3 x7',\n",
       " 'x3 x8',\n",
       " 'x3 x9',\n",
       " 'x3 x10',\n",
       " 'x3 x11',\n",
       " 'x3 x12',\n",
       " 'x3 x13',\n",
       " 'x3 x14',\n",
       " 'x3 x15',\n",
       " 'x3 x16',\n",
       " 'x3 x17',\n",
       " 'x3 x18',\n",
       " 'x3 x19',\n",
       " 'x3 x20',\n",
       " 'x3 x21',\n",
       " 'x3 x22',\n",
       " 'x3 x23',\n",
       " 'x3 x24',\n",
       " 'x3 x25',\n",
       " 'x3 x26',\n",
       " 'x3 x27',\n",
       " 'x3 x28',\n",
       " 'x3 x29',\n",
       " 'x3 x30',\n",
       " 'x3 x31',\n",
       " 'x3 x32',\n",
       " 'x3 x33',\n",
       " 'x3 x34',\n",
       " 'x3 x35',\n",
       " 'x3 x36',\n",
       " 'x3 x37',\n",
       " 'x3 x38',\n",
       " 'x3 x39',\n",
       " 'x3 x40',\n",
       " 'x3 x41',\n",
       " 'x3 x42',\n",
       " 'x3 x43',\n",
       " 'x3 x44',\n",
       " 'x3 x45',\n",
       " 'x3 x46',\n",
       " 'x4 x5',\n",
       " 'x4 x6',\n",
       " 'x4 x7',\n",
       " 'x4 x8',\n",
       " 'x4 x9',\n",
       " 'x4 x10',\n",
       " 'x4 x11',\n",
       " 'x4 x12',\n",
       " 'x4 x13',\n",
       " 'x4 x14',\n",
       " 'x4 x15',\n",
       " 'x4 x16',\n",
       " 'x4 x17',\n",
       " 'x4 x18',\n",
       " 'x4 x19',\n",
       " 'x4 x20',\n",
       " 'x4 x21',\n",
       " 'x4 x22',\n",
       " 'x4 x23',\n",
       " 'x4 x24',\n",
       " 'x4 x25',\n",
       " 'x4 x26',\n",
       " 'x4 x27',\n",
       " 'x4 x28',\n",
       " 'x4 x29',\n",
       " 'x4 x30',\n",
       " 'x4 x31',\n",
       " 'x4 x32',\n",
       " 'x4 x33',\n",
       " 'x4 x34',\n",
       " 'x4 x35',\n",
       " 'x4 x36',\n",
       " 'x4 x37',\n",
       " 'x4 x38',\n",
       " 'x4 x39',\n",
       " 'x4 x40',\n",
       " 'x4 x41',\n",
       " 'x4 x42',\n",
       " 'x4 x43',\n",
       " 'x4 x44',\n",
       " 'x4 x45',\n",
       " 'x4 x46',\n",
       " 'x5 x6',\n",
       " 'x5 x7',\n",
       " 'x5 x8',\n",
       " 'x5 x9',\n",
       " 'x5 x10',\n",
       " 'x5 x11',\n",
       " 'x5 x12',\n",
       " 'x5 x13',\n",
       " 'x5 x14',\n",
       " 'x5 x15',\n",
       " 'x5 x16',\n",
       " 'x5 x17',\n",
       " 'x5 x18',\n",
       " 'x5 x19',\n",
       " 'x5 x20',\n",
       " 'x5 x21',\n",
       " 'x5 x22',\n",
       " 'x5 x23',\n",
       " 'x5 x24',\n",
       " 'x5 x25',\n",
       " 'x5 x26',\n",
       " 'x5 x27',\n",
       " 'x5 x28',\n",
       " 'x5 x29',\n",
       " 'x5 x30',\n",
       " 'x5 x31',\n",
       " 'x5 x32',\n",
       " 'x5 x33',\n",
       " 'x5 x34',\n",
       " 'x5 x35',\n",
       " 'x5 x36',\n",
       " 'x5 x37',\n",
       " 'x5 x38',\n",
       " 'x5 x39',\n",
       " 'x5 x40',\n",
       " 'x5 x41',\n",
       " 'x5 x42',\n",
       " 'x5 x43',\n",
       " 'x5 x44',\n",
       " 'x5 x45',\n",
       " 'x5 x46',\n",
       " 'x6 x7',\n",
       " 'x6 x8',\n",
       " 'x6 x9',\n",
       " 'x6 x10',\n",
       " 'x6 x11',\n",
       " 'x6 x12',\n",
       " 'x6 x13',\n",
       " 'x6 x14',\n",
       " 'x6 x15',\n",
       " 'x6 x16',\n",
       " 'x6 x17',\n",
       " 'x6 x18',\n",
       " 'x6 x19',\n",
       " 'x6 x20',\n",
       " 'x6 x21',\n",
       " 'x6 x22',\n",
       " 'x6 x23',\n",
       " 'x6 x24',\n",
       " 'x6 x25',\n",
       " 'x6 x26',\n",
       " 'x6 x27',\n",
       " 'x6 x28',\n",
       " 'x6 x29',\n",
       " 'x6 x30',\n",
       " 'x6 x31',\n",
       " 'x6 x32',\n",
       " 'x6 x33',\n",
       " 'x6 x34',\n",
       " 'x6 x35',\n",
       " 'x6 x36',\n",
       " 'x6 x37',\n",
       " 'x6 x38',\n",
       " 'x6 x39',\n",
       " 'x6 x40',\n",
       " 'x6 x41',\n",
       " 'x6 x42',\n",
       " 'x6 x43',\n",
       " 'x6 x44',\n",
       " 'x6 x45',\n",
       " 'x6 x46',\n",
       " 'x7 x8',\n",
       " 'x7 x9',\n",
       " 'x7 x10',\n",
       " 'x7 x11',\n",
       " 'x7 x12',\n",
       " 'x7 x13',\n",
       " 'x7 x14',\n",
       " 'x7 x15',\n",
       " 'x7 x16',\n",
       " 'x7 x17',\n",
       " 'x7 x18',\n",
       " 'x7 x19',\n",
       " 'x7 x20',\n",
       " 'x7 x21',\n",
       " 'x7 x22',\n",
       " 'x7 x23',\n",
       " 'x7 x24',\n",
       " 'x7 x25',\n",
       " 'x7 x26',\n",
       " 'x7 x27',\n",
       " 'x7 x28',\n",
       " 'x7 x29',\n",
       " 'x7 x30',\n",
       " 'x7 x31',\n",
       " 'x7 x32',\n",
       " 'x7 x33',\n",
       " 'x7 x34',\n",
       " 'x7 x35',\n",
       " 'x7 x36',\n",
       " 'x7 x37',\n",
       " 'x7 x38',\n",
       " 'x7 x39',\n",
       " 'x7 x40',\n",
       " 'x7 x41',\n",
       " 'x7 x42',\n",
       " 'x7 x43',\n",
       " 'x7 x44',\n",
       " 'x7 x45',\n",
       " 'x7 x46',\n",
       " 'x8 x9',\n",
       " 'x8 x10',\n",
       " 'x8 x11',\n",
       " 'x8 x12',\n",
       " 'x8 x13',\n",
       " 'x8 x14',\n",
       " 'x8 x15',\n",
       " 'x8 x16',\n",
       " 'x8 x17',\n",
       " 'x8 x18',\n",
       " 'x8 x19',\n",
       " 'x8 x20',\n",
       " 'x8 x21',\n",
       " 'x8 x22',\n",
       " 'x8 x23',\n",
       " 'x8 x24',\n",
       " 'x8 x25',\n",
       " 'x8 x26',\n",
       " 'x8 x27',\n",
       " 'x8 x28',\n",
       " 'x8 x29',\n",
       " 'x8 x30',\n",
       " 'x8 x31',\n",
       " 'x8 x32',\n",
       " 'x8 x33',\n",
       " 'x8 x34',\n",
       " 'x8 x35',\n",
       " 'x8 x36',\n",
       " 'x8 x37',\n",
       " 'x8 x38',\n",
       " 'x8 x39',\n",
       " 'x8 x40',\n",
       " 'x8 x41',\n",
       " 'x8 x42',\n",
       " 'x8 x43',\n",
       " 'x8 x44',\n",
       " 'x8 x45',\n",
       " 'x8 x46',\n",
       " 'x9 x10',\n",
       " 'x9 x11',\n",
       " 'x9 x12',\n",
       " 'x9 x13',\n",
       " 'x9 x14',\n",
       " 'x9 x15',\n",
       " 'x9 x16',\n",
       " 'x9 x17',\n",
       " 'x9 x18',\n",
       " 'x9 x19',\n",
       " 'x9 x20',\n",
       " 'x9 x21',\n",
       " 'x9 x22',\n",
       " 'x9 x23',\n",
       " 'x9 x24',\n",
       " 'x9 x25',\n",
       " 'x9 x26',\n",
       " 'x9 x27',\n",
       " 'x9 x28',\n",
       " 'x9 x29',\n",
       " 'x9 x30',\n",
       " 'x9 x31',\n",
       " 'x9 x32',\n",
       " 'x9 x33',\n",
       " 'x9 x34',\n",
       " 'x9 x35',\n",
       " 'x9 x36',\n",
       " 'x9 x37',\n",
       " 'x9 x38',\n",
       " 'x9 x39',\n",
       " 'x9 x40',\n",
       " 'x9 x41',\n",
       " 'x9 x42',\n",
       " 'x9 x43',\n",
       " 'x9 x44',\n",
       " 'x9 x45',\n",
       " 'x9 x46',\n",
       " 'x10 x11',\n",
       " 'x10 x12',\n",
       " 'x10 x13',\n",
       " 'x10 x14',\n",
       " 'x10 x15',\n",
       " 'x10 x16',\n",
       " 'x10 x17',\n",
       " 'x10 x18',\n",
       " 'x10 x19',\n",
       " 'x10 x20',\n",
       " 'x10 x21',\n",
       " 'x10 x22',\n",
       " 'x10 x23',\n",
       " 'x10 x24',\n",
       " 'x10 x25',\n",
       " 'x10 x26',\n",
       " 'x10 x27',\n",
       " 'x10 x28',\n",
       " 'x10 x29',\n",
       " 'x10 x30',\n",
       " 'x10 x31',\n",
       " 'x10 x32',\n",
       " 'x10 x33',\n",
       " 'x10 x34',\n",
       " 'x10 x35',\n",
       " 'x10 x36',\n",
       " 'x10 x37',\n",
       " 'x10 x38',\n",
       " 'x10 x39',\n",
       " 'x10 x40',\n",
       " 'x10 x41',\n",
       " 'x10 x42',\n",
       " 'x10 x43',\n",
       " 'x10 x44',\n",
       " 'x10 x45',\n",
       " 'x10 x46',\n",
       " 'x11 x12',\n",
       " 'x11 x13',\n",
       " 'x11 x14',\n",
       " 'x11 x15',\n",
       " 'x11 x16',\n",
       " 'x11 x17',\n",
       " 'x11 x18',\n",
       " 'x11 x19',\n",
       " 'x11 x20',\n",
       " 'x11 x21',\n",
       " 'x11 x22',\n",
       " 'x11 x23',\n",
       " 'x11 x24',\n",
       " 'x11 x25',\n",
       " 'x11 x26',\n",
       " 'x11 x27',\n",
       " 'x11 x28',\n",
       " 'x11 x29',\n",
       " 'x11 x30',\n",
       " 'x11 x31',\n",
       " 'x11 x32',\n",
       " 'x11 x33',\n",
       " 'x11 x34',\n",
       " 'x11 x35',\n",
       " 'x11 x36',\n",
       " 'x11 x37',\n",
       " 'x11 x38',\n",
       " 'x11 x39',\n",
       " 'x11 x40',\n",
       " 'x11 x41',\n",
       " 'x11 x42',\n",
       " 'x11 x43',\n",
       " 'x11 x44',\n",
       " 'x11 x45',\n",
       " 'x11 x46',\n",
       " 'x12 x13',\n",
       " 'x12 x14',\n",
       " 'x12 x15',\n",
       " 'x12 x16',\n",
       " 'x12 x17',\n",
       " 'x12 x18',\n",
       " 'x12 x19',\n",
       " 'x12 x20',\n",
       " 'x12 x21',\n",
       " 'x12 x22',\n",
       " 'x12 x23',\n",
       " 'x12 x24',\n",
       " 'x12 x25',\n",
       " 'x12 x26',\n",
       " 'x12 x27',\n",
       " 'x12 x28',\n",
       " 'x12 x29',\n",
       " 'x12 x30',\n",
       " 'x12 x31',\n",
       " 'x12 x32',\n",
       " 'x12 x33',\n",
       " 'x12 x34',\n",
       " 'x12 x35',\n",
       " 'x12 x36',\n",
       " 'x12 x37',\n",
       " 'x12 x38',\n",
       " 'x12 x39',\n",
       " 'x12 x40',\n",
       " 'x12 x41',\n",
       " 'x12 x42',\n",
       " 'x12 x43',\n",
       " 'x12 x44',\n",
       " 'x12 x45',\n",
       " 'x12 x46',\n",
       " 'x13 x14',\n",
       " 'x13 x15',\n",
       " 'x13 x16',\n",
       " 'x13 x17',\n",
       " 'x13 x18',\n",
       " 'x13 x19',\n",
       " 'x13 x20',\n",
       " 'x13 x21',\n",
       " 'x13 x22',\n",
       " 'x13 x23',\n",
       " 'x13 x24',\n",
       " 'x13 x25',\n",
       " 'x13 x26',\n",
       " 'x13 x27',\n",
       " 'x13 x28',\n",
       " 'x13 x29',\n",
       " 'x13 x30',\n",
       " 'x13 x31',\n",
       " 'x13 x32',\n",
       " 'x13 x33',\n",
       " 'x13 x34',\n",
       " 'x13 x35',\n",
       " 'x13 x36',\n",
       " 'x13 x37',\n",
       " 'x13 x38',\n",
       " 'x13 x39',\n",
       " 'x13 x40',\n",
       " 'x13 x41',\n",
       " 'x13 x42',\n",
       " 'x13 x43',\n",
       " 'x13 x44',\n",
       " 'x13 x45',\n",
       " 'x13 x46',\n",
       " 'x14 x15',\n",
       " 'x14 x16',\n",
       " 'x14 x17',\n",
       " 'x14 x18',\n",
       " 'x14 x19',\n",
       " 'x14 x20',\n",
       " 'x14 x21',\n",
       " 'x14 x22',\n",
       " 'x14 x23',\n",
       " 'x14 x24',\n",
       " 'x14 x25',\n",
       " 'x14 x26',\n",
       " 'x14 x27',\n",
       " 'x14 x28',\n",
       " 'x14 x29',\n",
       " 'x14 x30',\n",
       " 'x14 x31',\n",
       " 'x14 x32',\n",
       " 'x14 x33',\n",
       " 'x14 x34',\n",
       " 'x14 x35',\n",
       " 'x14 x36',\n",
       " 'x14 x37',\n",
       " 'x14 x38',\n",
       " 'x14 x39',\n",
       " 'x14 x40',\n",
       " 'x14 x41',\n",
       " 'x14 x42',\n",
       " 'x14 x43',\n",
       " 'x14 x44',\n",
       " 'x14 x45',\n",
       " 'x14 x46',\n",
       " 'x15 x16',\n",
       " 'x15 x17',\n",
       " 'x15 x18',\n",
       " 'x15 x19',\n",
       " 'x15 x20',\n",
       " 'x15 x21',\n",
       " 'x15 x22',\n",
       " 'x15 x23',\n",
       " 'x15 x24',\n",
       " 'x15 x25',\n",
       " 'x15 x26',\n",
       " 'x15 x27',\n",
       " 'x15 x28',\n",
       " 'x15 x29',\n",
       " 'x15 x30',\n",
       " 'x15 x31',\n",
       " 'x15 x32',\n",
       " 'x15 x33',\n",
       " 'x15 x34',\n",
       " 'x15 x35',\n",
       " 'x15 x36',\n",
       " 'x15 x37',\n",
       " 'x15 x38',\n",
       " 'x15 x39',\n",
       " 'x15 x40',\n",
       " 'x15 x41',\n",
       " 'x15 x42',\n",
       " 'x15 x43',\n",
       " 'x15 x44',\n",
       " 'x15 x45',\n",
       " 'x15 x46',\n",
       " 'x16 x17',\n",
       " 'x16 x18',\n",
       " 'x16 x19',\n",
       " 'x16 x20',\n",
       " 'x16 x21',\n",
       " 'x16 x22',\n",
       " 'x16 x23',\n",
       " 'x16 x24',\n",
       " 'x16 x25',\n",
       " 'x16 x26',\n",
       " 'x16 x27',\n",
       " 'x16 x28',\n",
       " 'x16 x29',\n",
       " 'x16 x30',\n",
       " 'x16 x31',\n",
       " 'x16 x32',\n",
       " 'x16 x33',\n",
       " 'x16 x34',\n",
       " 'x16 x35',\n",
       " 'x16 x36',\n",
       " 'x16 x37',\n",
       " 'x16 x38',\n",
       " 'x16 x39',\n",
       " 'x16 x40',\n",
       " 'x16 x41',\n",
       " 'x16 x42',\n",
       " 'x16 x43',\n",
       " 'x16 x44',\n",
       " 'x16 x45',\n",
       " 'x16 x46',\n",
       " 'x17 x18',\n",
       " 'x17 x19',\n",
       " 'x17 x20',\n",
       " 'x17 x21',\n",
       " 'x17 x22',\n",
       " 'x17 x23',\n",
       " 'x17 x24',\n",
       " 'x17 x25',\n",
       " 'x17 x26',\n",
       " 'x17 x27',\n",
       " 'x17 x28',\n",
       " 'x17 x29',\n",
       " 'x17 x30',\n",
       " 'x17 x31',\n",
       " 'x17 x32',\n",
       " 'x17 x33',\n",
       " 'x17 x34',\n",
       " 'x17 x35',\n",
       " 'x17 x36',\n",
       " 'x17 x37',\n",
       " 'x17 x38',\n",
       " 'x17 x39',\n",
       " 'x17 x40',\n",
       " 'x17 x41',\n",
       " 'x17 x42',\n",
       " 'x17 x43',\n",
       " 'x17 x44',\n",
       " 'x17 x45',\n",
       " 'x17 x46',\n",
       " 'x18 x19',\n",
       " 'x18 x20',\n",
       " 'x18 x21',\n",
       " 'x18 x22',\n",
       " 'x18 x23',\n",
       " 'x18 x24',\n",
       " 'x18 x25',\n",
       " 'x18 x26',\n",
       " 'x18 x27',\n",
       " 'x18 x28',\n",
       " 'x18 x29',\n",
       " 'x18 x30',\n",
       " 'x18 x31',\n",
       " 'x18 x32',\n",
       " 'x18 x33',\n",
       " 'x18 x34',\n",
       " 'x18 x35',\n",
       " 'x18 x36',\n",
       " 'x18 x37',\n",
       " 'x18 x38',\n",
       " 'x18 x39',\n",
       " 'x18 x40',\n",
       " 'x18 x41',\n",
       " 'x18 x42',\n",
       " 'x18 x43',\n",
       " 'x18 x44',\n",
       " 'x18 x45',\n",
       " 'x18 x46',\n",
       " 'x19 x20',\n",
       " 'x19 x21',\n",
       " 'x19 x22',\n",
       " 'x19 x23',\n",
       " 'x19 x24',\n",
       " 'x19 x25',\n",
       " 'x19 x26',\n",
       " 'x19 x27',\n",
       " 'x19 x28',\n",
       " 'x19 x29',\n",
       " 'x19 x30',\n",
       " 'x19 x31',\n",
       " 'x19 x32',\n",
       " 'x19 x33',\n",
       " 'x19 x34',\n",
       " 'x19 x35',\n",
       " 'x19 x36',\n",
       " 'x19 x37',\n",
       " 'x19 x38',\n",
       " 'x19 x39',\n",
       " 'x19 x40',\n",
       " 'x19 x41',\n",
       " 'x19 x42',\n",
       " 'x19 x43',\n",
       " 'x19 x44',\n",
       " 'x19 x45',\n",
       " 'x19 x46',\n",
       " 'x20 x21',\n",
       " 'x20 x22',\n",
       " 'x20 x23',\n",
       " 'x20 x24',\n",
       " 'x20 x25',\n",
       " 'x20 x26',\n",
       " 'x20 x27',\n",
       " 'x20 x28',\n",
       " 'x20 x29',\n",
       " 'x20 x30',\n",
       " 'x20 x31',\n",
       " 'x20 x32',\n",
       " 'x20 x33',\n",
       " 'x20 x34',\n",
       " 'x20 x35',\n",
       " 'x20 x36',\n",
       " 'x20 x37',\n",
       " 'x20 x38',\n",
       " 'x20 x39',\n",
       " 'x20 x40',\n",
       " 'x20 x41',\n",
       " 'x20 x42',\n",
       " 'x20 x43',\n",
       " 'x20 x44',\n",
       " 'x20 x45',\n",
       " 'x20 x46',\n",
       " 'x21 x22',\n",
       " 'x21 x23',\n",
       " 'x21 x24',\n",
       " 'x21 x25',\n",
       " 'x21 x26',\n",
       " 'x21 x27',\n",
       " 'x21 x28',\n",
       " 'x21 x29',\n",
       " 'x21 x30',\n",
       " 'x21 x31',\n",
       " 'x21 x32',\n",
       " 'x21 x33',\n",
       " 'x21 x34',\n",
       " 'x21 x35',\n",
       " 'x21 x36',\n",
       " 'x21 x37',\n",
       " 'x21 x38',\n",
       " 'x21 x39',\n",
       " 'x21 x40',\n",
       " 'x21 x41',\n",
       " 'x21 x42',\n",
       " 'x21 x43',\n",
       " 'x21 x44',\n",
       " 'x21 x45',\n",
       " 'x21 x46',\n",
       " 'x22 x23',\n",
       " 'x22 x24',\n",
       " 'x22 x25',\n",
       " 'x22 x26',\n",
       " 'x22 x27',\n",
       " 'x22 x28',\n",
       " 'x22 x29',\n",
       " 'x22 x30',\n",
       " 'x22 x31',\n",
       " 'x22 x32',\n",
       " 'x22 x33',\n",
       " 'x22 x34',\n",
       " 'x22 x35',\n",
       " 'x22 x36',\n",
       " 'x22 x37',\n",
       " 'x22 x38',\n",
       " 'x22 x39',\n",
       " 'x22 x40',\n",
       " 'x22 x41',\n",
       " 'x22 x42',\n",
       " 'x22 x43',\n",
       " 'x22 x44',\n",
       " 'x22 x45',\n",
       " 'x22 x46',\n",
       " 'x23 x24',\n",
       " 'x23 x25',\n",
       " 'x23 x26',\n",
       " 'x23 x27',\n",
       " 'x23 x28',\n",
       " 'x23 x29',\n",
       " 'x23 x30',\n",
       " 'x23 x31',\n",
       " 'x23 x32',\n",
       " 'x23 x33',\n",
       " 'x23 x34',\n",
       " 'x23 x35',\n",
       " 'x23 x36',\n",
       " 'x23 x37',\n",
       " 'x23 x38',\n",
       " 'x23 x39',\n",
       " 'x23 x40',\n",
       " 'x23 x41',\n",
       " 'x23 x42',\n",
       " 'x23 x43',\n",
       " 'x23 x44',\n",
       " 'x23 x45',\n",
       " 'x23 x46',\n",
       " 'x24 x25',\n",
       " 'x24 x26',\n",
       " 'x24 x27',\n",
       " 'x24 x28',\n",
       " 'x24 x29',\n",
       " 'x24 x30',\n",
       " 'x24 x31',\n",
       " 'x24 x32',\n",
       " 'x24 x33',\n",
       " 'x24 x34',\n",
       " 'x24 x35',\n",
       " 'x24 x36',\n",
       " 'x24 x37',\n",
       " 'x24 x38',\n",
       " 'x24 x39',\n",
       " 'x24 x40',\n",
       " 'x24 x41',\n",
       " 'x24 x42',\n",
       " 'x24 x43',\n",
       " 'x24 x44',\n",
       " 'x24 x45',\n",
       " 'x24 x46',\n",
       " 'x25 x26',\n",
       " 'x25 x27',\n",
       " 'x25 x28',\n",
       " 'x25 x29',\n",
       " 'x25 x30',\n",
       " 'x25 x31',\n",
       " 'x25 x32',\n",
       " 'x25 x33',\n",
       " 'x25 x34',\n",
       " 'x25 x35',\n",
       " 'x25 x36',\n",
       " 'x25 x37',\n",
       " 'x25 x38',\n",
       " 'x25 x39',\n",
       " 'x25 x40',\n",
       " 'x25 x41',\n",
       " 'x25 x42',\n",
       " 'x25 x43',\n",
       " 'x25 x44',\n",
       " 'x25 x45',\n",
       " 'x25 x46',\n",
       " 'x26 x27',\n",
       " 'x26 x28',\n",
       " 'x26 x29',\n",
       " 'x26 x30',\n",
       " 'x26 x31',\n",
       " 'x26 x32',\n",
       " 'x26 x33',\n",
       " 'x26 x34',\n",
       " 'x26 x35',\n",
       " 'x26 x36',\n",
       " 'x26 x37',\n",
       " 'x26 x38',\n",
       " 'x26 x39',\n",
       " 'x26 x40',\n",
       " 'x26 x41',\n",
       " 'x26 x42',\n",
       " 'x26 x43',\n",
       " 'x26 x44',\n",
       " 'x26 x45',\n",
       " 'x26 x46',\n",
       " 'x27 x28',\n",
       " 'x27 x29',\n",
       " 'x27 x30',\n",
       " 'x27 x31',\n",
       " 'x27 x32',\n",
       " 'x27 x33',\n",
       " 'x27 x34',\n",
       " 'x27 x35',\n",
       " 'x27 x36',\n",
       " 'x27 x37',\n",
       " 'x27 x38',\n",
       " 'x27 x39',\n",
       " 'x27 x40',\n",
       " 'x27 x41',\n",
       " 'x27 x42',\n",
       " 'x27 x43',\n",
       " 'x27 x44',\n",
       " 'x27 x45',\n",
       " 'x27 x46',\n",
       " 'x28 x29',\n",
       " 'x28 x30',\n",
       " 'x28 x31',\n",
       " 'x28 x32',\n",
       " 'x28 x33',\n",
       " 'x28 x34',\n",
       " 'x28 x35',\n",
       " 'x28 x36',\n",
       " 'x28 x37',\n",
       " 'x28 x38',\n",
       " 'x28 x39',\n",
       " 'x28 x40',\n",
       " 'x28 x41',\n",
       " 'x28 x42',\n",
       " 'x28 x43',\n",
       " 'x28 x44',\n",
       " 'x28 x45',\n",
       " 'x28 x46',\n",
       " 'x29 x30',\n",
       " 'x29 x31',\n",
       " 'x29 x32',\n",
       " 'x29 x33',\n",
       " 'x29 x34',\n",
       " 'x29 x35',\n",
       " 'x29 x36',\n",
       " 'x29 x37',\n",
       " 'x29 x38',\n",
       " 'x29 x39',\n",
       " 'x29 x40',\n",
       " 'x29 x41',\n",
       " 'x29 x42',\n",
       " 'x29 x43',\n",
       " 'x29 x44',\n",
       " 'x29 x45',\n",
       " 'x29 x46',\n",
       " 'x30 x31',\n",
       " 'x30 x32',\n",
       " 'x30 x33',\n",
       " 'x30 x34',\n",
       " 'x30 x35',\n",
       " 'x30 x36',\n",
       " 'x30 x37',\n",
       " 'x30 x38',\n",
       " ...]"
      ]
     },
     "execution_count": 52,
     "metadata": {},
     "output_type": "execute_result"
    }
   ],
   "source": [
    "featurizer = pipe.steps[0][1]\n",
    "featurizer.get_feature_names()"
   ]
  },
  {
   "cell_type": "code",
   "execution_count": 53,
   "metadata": {
    "ExecuteTime": {
     "end_time": "2019-07-09T17:42:50.549669Z",
     "start_time": "2019-07-09T17:42:50.522003Z"
    },
    "collapsed": true
   },
   "outputs": [],
   "source": [
    "feature_coeff_series = pd.Series(pipe.steps[2][1].coef_, index=featurizer.get_feature_names()) # X.columns\n",
    "feature_coeff_series.sort_values(ascending=False, inplace=True)"
   ]
  },
  {
   "cell_type": "code",
   "execution_count": 54,
   "metadata": {
    "ExecuteTime": {
     "end_time": "2019-07-09T17:42:50.559525Z",
     "start_time": "2019-07-09T17:42:50.554901Z"
    }
   },
   "outputs": [
    {
     "data": {
      "text/plain": [
       "0.967708282761812"
      ]
     },
     "execution_count": 54,
     "metadata": {},
     "output_type": "execute_result"
    }
   ],
   "source": [
    "X.presMax.corr(X.presMin)"
   ]
  },
  {
   "cell_type": "code",
   "execution_count": 55,
   "metadata": {
    "ExecuteTime": {
     "end_time": "2019-07-09T17:42:51.508484Z",
     "start_time": "2019-07-09T17:42:50.562076Z"
    }
   },
   "outputs": [
    {
     "data": {
      "text/plain": [
       "<matplotlib.axes._subplots.AxesSubplot at 0x7fd516613438>"
      ]
     },
     "execution_count": 55,
     "metadata": {},
     "output_type": "execute_result"
    },
    {
     "data": {
      "image/png": "[encoded data removed]",
      "text/plain": [
       "<Figure size 432x288 with 1 Axes>"
      ]
     },
     "metadata": {},
     "output_type": "display_data"
    }
   ],
   "source": [
    "pd.concat([feature_coeff_series.head(10), feature_coeff_series.tail(10)]).sort_values().plot.barh()"
   ]
  },
  {
   "cell_type": "code",
   "execution_count": 56,
   "metadata": {
    "ExecuteTime": {
     "end_time": "2019-07-09T17:42:51.523810Z",
     "start_time": "2019-07-09T17:42:51.515630Z"
    }
   },
   "outputs": [
    {
     "data": {
      "text/plain": [
       "Index(['presMax', 'tmin'], dtype='object')"
      ]
     },
     "execution_count": 56,
     "metadata": {},
     "output_type": "execute_result"
    }
   ],
   "source": [
    "X.columns[[4, 10]]"
   ]
  },
  {
   "cell_type": "code",
   "execution_count": 57,
   "metadata": {
    "ExecuteTime": {
     "end_time": "2019-07-09T17:42:51.555456Z",
     "start_time": "2019-07-09T17:42:51.528782Z"
    }
   },
   "outputs": [
    {
     "data": {
      "text/plain": [
       "(Index(['presMax', 'presMin'], dtype='object'),\n",
       " Index(['dow_Tuesday', 'hour_23'], dtype='object'))"
      ]
     },
     "execution_count": 57,
     "metadata": {},
     "output_type": "execute_result"
    }
   ],
   "source": [
    "X.columns[[4, 5]], X.columns[[21, 46]]"
   ]
  },
  {
   "cell_type": "code",
   "execution_count": 58,
   "metadata": {
    "ExecuteTime": {
     "end_time": "2019-07-09T17:42:52.198437Z",
     "start_time": "2019-07-09T17:42:51.563858Z"
    }
   },
   "outputs": [
    {
     "data": {
      "image/png": "[encoded data removed]",
      "text/plain": [
       "<Figure size 432x288 with 1 Axes>"
      ]
     },
     "metadata": {},
     "output_type": "display_data"
    }
   ],
   "source": [
    "feature_coeff_series.tail(10).sort_values().plot.barh();"
   ]
  },
  {
   "cell_type": "markdown",
   "metadata": {},
   "source": [
    "# RF"
   ]
  },
  {
   "cell_type": "code",
   "execution_count": 101,
   "metadata": {
    "ExecuteTime": {
     "end_time": "2019-07-09T18:03:53.516927Z",
     "start_time": "2019-07-09T18:03:53.510695Z"
    },
    "collapsed": true
   },
   "outputs": [],
   "source": [
    "from sklearn.ensemble import RandomForestRegressor\n",
    "from sklearn.model_selection import RandomizedSearchCV\n",
    "from sklearn.preprocessing import PowerTransformer\n",
    "from sklearn.compose import TransformedTargetRegressor"
   ]
  },
  {
   "cell_type": "code",
   "execution_count": 102,
   "metadata": {
    "ExecuteTime": {
     "end_time": "2019-07-09T18:03:53.857409Z",
     "start_time": "2019-07-09T18:03:53.836595Z"
    },
    "collapsed": true
   },
   "outputs": [],
   "source": [
    "rf = RandomForestRegressor(n_estimators=50, max_depth=6, max_features=0.5, random_state=0)\n",
    "estimator = TransformedTargetRegressor(regressor=rf, transformer=PowerTransformer())"
   ]
  },
  {
   "cell_type": "code",
   "execution_count": 103,
   "metadata": {
    "ExecuteTime": {
     "end_time": "2019-07-09T18:03:54.620801Z",
     "start_time": "2019-07-09T18:03:54.429038Z"
    },
    "run_control": {
     "marked": false
    }
   },
   "outputs": [
    {
     "data": {
      "text/plain": [
       "TransformedTargetRegressor(check_inverse=True, func=None, inverse_func=None,\n",
       "              regressor=RandomForestRegressor(bootstrap=True, criterion='mse', max_depth=6,\n",
       "           max_features=0.5, max_leaf_nodes=None,\n",
       "           min_impurity_decrease=0.0, min_impurity_split=None,\n",
       "           min_samples_leaf=1, min_samples_split=2,\n",
       "           min_weight_fraction_leaf=0.0, n_estimators=50, n_jobs=None,\n",
       "           oob_score=False, random_state=0, verbose=0, warm_start=False),\n",
       "              transformer=PowerTransformer(copy=True, method='yeo-johnson', standardize=True))"
      ]
     },
     "execution_count": 103,
     "metadata": {},
     "output_type": "execute_result"
    }
   ],
   "source": [
    "estimator.fit(X_train, y_train)"
   ]
  },
  {
   "cell_type": "code",
   "execution_count": 104,
   "metadata": {
    "ExecuteTime": {
     "end_time": "2019-07-09T18:03:55.216715Z",
     "start_time": "2019-07-09T18:03:55.159316Z"
    }
   },
   "outputs": [
    {
     "data": {
      "text/plain": [
       "0.1184222973330635"
      ]
     },
     "execution_count": 104,
     "metadata": {},
     "output_type": "execute_result"
    }
   ],
   "source": [
    "y_test_pred = estimator.predict(X_test)\n",
    "mae = mean_absolute_error(y_test, y_test_pred) \n",
    "mae"
   ]
  },
  {
   "cell_type": "code",
   "execution_count": 105,
   "metadata": {
    "ExecuteTime": {
     "end_time": "2019-07-09T18:03:56.004699Z",
     "start_time": "2019-07-09T18:03:55.727537Z"
    }
   },
   "outputs": [
    {
     "data": {
      "image/png": "[encoded data removed]",
      "text/plain": [
       "<Figure size 432x288 with 1 Axes>"
      ]
     },
     "metadata": {},
     "output_type": "display_data"
    }
   ],
   "source": [
    "plt.scatter(y_train, estimator.predict(X_train) - y_train);"
   ]
  },
  {
   "cell_type": "code",
   "execution_count": 106,
   "metadata": {
    "ExecuteTime": {
     "end_time": "2019-07-09T18:03:56.554305Z",
     "start_time": "2019-07-09T18:03:56.273867Z"
    }
   },
   "outputs": [
    {
     "data": {
      "image/png": "[encoded data removed]",
      "text/plain": [
       "<Figure size 432x288 with 1 Axes>"
      ]
     },
     "metadata": {},
     "output_type": "display_data"
    }
   ],
   "source": [
    "plt.scatter(y_test, y_test_pred);"
   ]
  },
  {
   "cell_type": "code",
   "execution_count": 115,
   "metadata": {
    "ExecuteTime": {
     "end_time": "2019-07-09T18:05:47.570619Z",
     "start_time": "2019-07-09T18:05:47.173960Z"
    }
   },
   "outputs": [
    {
     "data": {
      "image/png": "[encoded data removed]",
      "text/plain": [
       "<Figure size 864x576 with 1 Axes>"
      ]
     },
     "metadata": {},
     "output_type": "display_data"
    }
   ],
   "source": [
    "feat_imp = pd.Series(estimator.regressor_.feature_importances_, index=X_test.columns);\n",
    "feat_imp.sort_values(inplace=True);\n",
    "feat_imp.head(20).plot.barh(figsize=(12, 8));"
   ]
  },
  {
   "cell_type": "code",
   "execution_count": 66,
   "metadata": {
    "ExecuteTime": {
     "end_time": "2019-07-09T17:42:54.940233Z",
     "start_time": "2019-07-09T17:42:54.448130Z"
    }
   },
   "outputs": [
    {
     "data": {
      "text/plain": [
       "<matplotlib.collections.PathCollection at 0x7fd5155e28d0>"
      ]
     },
     "execution_count": 66,
     "metadata": {},
     "output_type": "execute_result"
    },
    {
     "data": {
      "image/png": "[encoded data removed]",
      "text/plain": [
       "<Figure size 432x288 with 1 Axes>"
      ]
     },
     "metadata": {},
     "output_type": "display_data"
    }
   ],
   "source": [
    "plt.scatter(X_test.prec, y_test_pred)"
   ]
  },
  {
   "cell_type": "code",
   "execution_count": 67,
   "metadata": {
    "ExecuteTime": {
     "end_time": "2019-07-09T17:42:55.414897Z",
     "start_time": "2019-07-09T17:42:54.953141Z"
    }
   },
   "outputs": [
    {
     "data": {
      "text/plain": [
       "<matplotlib.collections.PathCollection at 0x7fd5155bdf28>"
      ]
     },
     "execution_count": 67,
     "metadata": {},
     "output_type": "execute_result"
    },
    {
     "data": {
      "image/png": "[encoded data removed]",
      "text/plain": [
       "<Figure size 432x288 with 1 Axes>"
      ]
     },
     "metadata": {},
     "output_type": "display_data"
    }
   ],
   "source": [
    "plt.scatter(X_test.dow_Wednesday, y_test_pred)"
   ]
  },
  {
   "cell_type": "markdown",
   "metadata": {},
   "source": [
    "## CV"
   ]
  },
  {
   "cell_type": "code",
   "execution_count": 68,
   "metadata": {
    "ExecuteTime": {
     "end_time": "2019-07-09T17:42:55.823726Z",
     "start_time": "2019-07-09T17:42:55.420838Z"
    }
   },
   "outputs": [
    {
     "data": {
      "text/plain": [
       "LGBMRegressor(boosting_type='gbdt', class_weight=None, colsample_bytree=1.0,\n",
       "       learning_rate=0.1, max_depth=-1, min_child_samples=20,\n",
       "       min_child_weight=0.001, min_split_gain=0.0, n_estimators=100,\n",
       "       n_jobs=-1, num_leaves=31, objective=None, random_state=None,\n",
       "       reg_alpha=0.0, reg_lambda=0.0, silent=True, subsample=1.0,\n",
       "       subsample_for_bin=200000, subsample_freq=1)"
      ]
     },
     "execution_count": 68,
     "metadata": {},
     "output_type": "execute_result"
    }
   ],
   "source": [
    "from lightgbm import LGBMRegressor\n",
    "\n",
    "gbm = LGBMRegressor()\n",
    "gbm.fit(X_train, y_train)"
   ]
  },
  {
   "cell_type": "code",
   "execution_count": 69,
   "metadata": {
    "ExecuteTime": {
     "end_time": "2019-07-09T17:42:55.971575Z",
     "start_time": "2019-07-09T17:42:55.830176Z"
    }
   },
   "outputs": [
    {
     "data": {
      "text/plain": [
       "0.1221664034126174"
      ]
     },
     "execution_count": 69,
     "metadata": {},
     "output_type": "execute_result"
    }
   ],
   "source": [
    "y_test_pred = gbm.predict(X_test)\n",
    "mae = mean_absolute_error(y_test, y_test_pred) \n",
    "mae # 0.1048"
   ]
  },
  {
   "cell_type": "code",
   "execution_count": 70,
   "metadata": {
    "ExecuteTime": {
     "end_time": "2019-07-09T17:42:55.997031Z",
     "start_time": "2019-07-09T17:42:55.980409Z"
    }
   },
   "outputs": [
    {
     "data": {
      "text/plain": [
       "{'check_inverse': True,\n",
       " 'func': None,\n",
       " 'inverse_func': None,\n",
       " 'regressor': RandomForestRegressor(bootstrap=True, criterion='mse', max_depth=6,\n",
       "            max_features=0.5, max_leaf_nodes=None,\n",
       "            min_impurity_decrease=0.0, min_impurity_split=None,\n",
       "            min_samples_leaf=1, min_samples_split=2,\n",
       "            min_weight_fraction_leaf=0.0, n_estimators=50, n_jobs=None,\n",
       "            oob_score=False, random_state=0, verbose=0, warm_start=False),\n",
       " 'regressor__bootstrap': True,\n",
       " 'regressor__criterion': 'mse',\n",
       " 'regressor__max_depth': 6,\n",
       " 'regressor__max_features': 0.5,\n",
       " 'regressor__max_leaf_nodes': None,\n",
       " 'regressor__min_impurity_decrease': 0.0,\n",
       " 'regressor__min_impurity_split': None,\n",
       " 'regressor__min_samples_leaf': 1,\n",
       " 'regressor__min_samples_split': 2,\n",
       " 'regressor__min_weight_fraction_leaf': 0.0,\n",
       " 'regressor__n_estimators': 50,\n",
       " 'regressor__n_jobs': None,\n",
       " 'regressor__oob_score': False,\n",
       " 'regressor__random_state': 0,\n",
       " 'regressor__verbose': 0,\n",
       " 'regressor__warm_start': False,\n",
       " 'transformer': PowerTransformer(copy=True, method='yeo-johnson', standardize=True),\n",
       " 'transformer__copy': True,\n",
       " 'transformer__method': 'yeo-johnson',\n",
       " 'transformer__standardize': True}"
      ]
     },
     "execution_count": 70,
     "metadata": {},
     "output_type": "execute_result"
    }
   ],
   "source": [
    "rf = RandomForestRegressor(n_estimators=50, max_depth=6, max_features=0.5, random_state=0)\n",
    "estimator = TransformedTargetRegressor(regressor=rf, transformer=PowerTransformer())\n",
    "estimator.get_params()"
   ]
  },
  {
   "cell_type": "code",
   "execution_count": 75,
   "metadata": {
    "ExecuteTime": {
     "end_time": "2019-07-09T17:44:13.777460Z",
     "start_time": "2019-07-09T17:44:13.753633Z"
    }
   },
   "outputs": [
    {
     "data": {
      "text/plain": [
       "{'regressor__max_depth': [13],\n",
       " 'regressor__max_features': <scipy.stats._distn_infrastructure.rv_frozen at 0x7fd514f9db70>,\n",
       " 'regressor__n_estimators': <scipy.stats._distn_infrastructure.rv_frozen at 0x7fd513f4eb00>}"
      ]
     },
     "execution_count": 75,
     "metadata": {},
     "output_type": "execute_result"
    }
   ],
   "source": [
    "from scipy.stats import uniform, randint\n",
    "params_dict = {'n_estimators': randint(40, 60),\n",
    "               'max_features': uniform(0.75, 0.15),\n",
    "               'max_depth': [13]} # randint(10, 15)\n",
    "params_dict = {'regressor__%s' % key: params_dict[key] for key in params_dict }\n",
    "params_dict"
   ]
  },
  {
   "cell_type": "code",
   "execution_count": 76,
   "metadata": {
    "ExecuteTime": {
     "end_time": "2019-07-09T17:44:14.942644Z",
     "start_time": "2019-07-09T17:44:14.906972Z"
    }
   },
   "outputs": [
    {
     "data": {
      "text/plain": [
       "10"
      ]
     },
     "execution_count": 76,
     "metadata": {},
     "output_type": "execute_result"
    }
   ],
   "source": [
    "randint(4, 11).rvs(1000).max()"
   ]
  },
  {
   "cell_type": "code",
   "execution_count": 77,
   "metadata": {
    "ExecuteTime": {
     "end_time": "2019-07-09T17:44:15.193605Z",
     "start_time": "2019-07-09T17:44:15.184453Z"
    }
   },
   "outputs": [
    {
     "data": {
      "text/plain": [
       "0.6861089447179405"
      ]
     },
     "execution_count": 77,
     "metadata": {},
     "output_type": "execute_result"
    }
   ],
   "source": [
    "uniform(0.5, 0.45).rvs()"
   ]
  },
  {
   "cell_type": "code",
   "execution_count": 78,
   "metadata": {
    "ExecuteTime": {
     "end_time": "2019-07-09T17:45:13.551290Z",
     "start_time": "2019-07-09T17:44:15.365599Z"
    }
   },
   "outputs": [
    {
     "name": "stdout",
     "output_type": "stream",
     "text": [
      "Fitting 3 folds for each of 100 candidates, totalling 300 fits\n"
     ]
    },
    {
     "name": "stderr",
     "output_type": "stream",
     "text": [
      "[Parallel(n_jobs=2)]: Using backend LokyBackend with 2 concurrent workers.\n",
      "[Parallel(n_jobs=2)]: Done  37 tasks      | elapsed:    7.4s\n",
      "[Parallel(n_jobs=2)]: Done 158 tasks      | elapsed:   30.6s\n",
      "[Parallel(n_jobs=2)]: Done 300 out of 300 | elapsed:   57.7s finished\n"
     ]
    },
    {
     "data": {
      "text/plain": [
       "RandomizedSearchCV(cv=3, error_score='raise-deprecating',\n",
       "          estimator=TransformedTargetRegressor(check_inverse=True, func=None, inverse_func=None,\n",
       "              regressor=RandomForestRegressor(bootstrap=True, criterion='mse', max_depth=6,\n",
       "           max_features=0.5, max_leaf_nodes=None,\n",
       "           min_impurity_decrease=0.0, min_impurity_split=None,\n",
       "        ...lse),\n",
       "              transformer=PowerTransformer(copy=True, method='yeo-johnson', standardize=True)),\n",
       "          fit_params=None, iid='warn', n_iter=100, n_jobs=2,\n",
       "          param_distributions={'regressor__n_estimators': <scipy.stats._distn_infrastructure.rv_frozen object at 0x7fd513f4eb00>, 'regressor__max_features': <scipy.stats._distn_infrastructure.rv_frozen object at 0x7fd514f9db70>, 'regressor__max_depth': [13]},\n",
       "          pre_dispatch='2*n_jobs', random_state=0, refit=True,\n",
       "          return_train_score=True, scoring='neg_mean_absolute_error',\n",
       "          verbose=2)"
      ]
     },
     "execution_count": 78,
     "metadata": {},
     "output_type": "execute_result"
    }
   ],
   "source": [
    "rs_cv = RandomizedSearchCV(estimator=estimator, \n",
    "                           param_distributions=params_dict,\n",
    "                           n_iter=100,\n",
    "                           cv=3,\n",
    "                           scoring='neg_mean_absolute_error',\n",
    "                           n_jobs=2,\n",
    "                           return_train_score=True,\n",
    "                           verbose=2,\n",
    "                           random_state=0)\n",
    "rs_cv.fit(X_train, y_train)"
   ]
  },
  {
   "cell_type": "code",
   "execution_count": 79,
   "metadata": {
    "ExecuteTime": {
     "end_time": "2019-07-09T17:45:13.566321Z",
     "start_time": "2019-07-09T17:45:13.556732Z"
    }
   },
   "outputs": [
    {
     "data": {
      "text/plain": [
       "{'regressor__max_depth': 13,\n",
       " 'regressor__max_features': 0.8075162278238667,\n",
       " 'regressor__n_estimators': 46}"
      ]
     },
     "execution_count": 79,
     "metadata": {},
     "output_type": "execute_result"
    }
   ],
   "source": [
    "rs_cv.best_params_"
   ]
  },
  {
   "cell_type": "code",
   "execution_count": 80,
   "metadata": {
    "ExecuteTime": {
     "end_time": "2019-07-09T17:45:13.586254Z",
     "start_time": "2019-07-09T17:45:13.568468Z"
    }
   },
   "outputs": [
    {
     "data": {
      "text/plain": [
       "-0.11682173088553889"
      ]
     },
     "execution_count": 80,
     "metadata": {},
     "output_type": "execute_result"
    }
   ],
   "source": [
    "rs_cv.best_score_"
   ]
  },
  {
   "cell_type": "code",
   "execution_count": 81,
   "metadata": {
    "ExecuteTime": {
     "end_time": "2019-07-09T17:45:13.616251Z",
     "start_time": "2019-07-09T17:45:13.589118Z"
    }
   },
   "outputs": [
    {
     "data": {
      "text/plain": [
       "0.10450215655455257"
      ]
     },
     "execution_count": 81,
     "metadata": {},
     "output_type": "execute_result"
    }
   ],
   "source": [
    "y_test_pred = rs_cv.best_estimator_.predict(X_test)\n",
    "mae = mean_absolute_error(y_test, y_test_pred) \n",
    "mae # 0.1045"
   ]
  },
  {
   "cell_type": "code",
   "execution_count": 82,
   "metadata": {
    "ExecuteTime": {
     "end_time": "2019-07-09T17:45:13.670988Z",
     "start_time": "2019-07-09T17:45:13.622277Z"
    },
    "collapsed": true
   },
   "outputs": [],
   "source": [
    "import dill\n",
    "\n",
    "with open('serialized_model', mode='wb') as file:\n",
    "    dill.dump(rs_cv.best_estimator_, file)"
   ]
  },
  {
   "cell_type": "code",
   "execution_count": 83,
   "metadata": {
    "ExecuteTime": {
     "end_time": "2019-07-09T17:45:13.682474Z",
     "start_time": "2019-07-09T17:45:13.672871Z"
    },
    "collapsed": true
   },
   "outputs": [],
   "source": [
    "with open('serialized_model', mode='rb') as file:\n",
    "    loaded_model = dill.load(file)"
   ]
  },
  {
   "cell_type": "code",
   "execution_count": 84,
   "metadata": {
    "ExecuteTime": {
     "end_time": "2019-07-09T17:45:13.703930Z",
     "start_time": "2019-07-09T17:45:13.684789Z"
    }
   },
   "outputs": [
    {
     "data": {
      "text/plain": [
       "array([0.10686976, 0.10477098, 0.1795569 , ..., 1.62138674, 0.137776  ,\n",
       "       0.17568817])"
      ]
     },
     "execution_count": 84,
     "metadata": {},
     "output_type": "execute_result"
    }
   ],
   "source": [
    "loaded_model.predict(X_test)"
   ]
  },
  {
   "cell_type": "code",
   "execution_count": 85,
   "metadata": {
    "ExecuteTime": {
     "end_time": "2019-07-09T17:45:13.736304Z",
     "start_time": "2019-07-09T17:45:13.708081Z"
    }
   },
   "outputs": [
    {
     "data": {
      "text/html": [
       "<div>\n",
       "<style scoped>\n",
       "    .dataframe tbody tr th:only-of-type {\n",
       "        vertical-align: middle;\n",
       "    }\n",
       "\n",
       "    .dataframe tbody tr th {\n",
       "        vertical-align: top;\n",
       "    }\n",
       "\n",
       "    .dataframe thead th {\n",
       "        text-align: right;\n",
       "    }\n",
       "</style>\n",
       "<table border=\"1\" class=\"dataframe\">\n",
       "  <thead>\n",
       "    <tr style=\"text-align: right;\">\n",
       "      <th></th>\n",
       "      <th>mean_fit_time</th>\n",
       "      <th>std_fit_time</th>\n",
       "      <th>mean_score_time</th>\n",
       "      <th>std_score_time</th>\n",
       "      <th>param_regressor__max_depth</th>\n",
       "      <th>param_regressor__max_features</th>\n",
       "      <th>param_regressor__n_estimators</th>\n",
       "      <th>params</th>\n",
       "      <th>split0_test_score</th>\n",
       "      <th>split1_test_score</th>\n",
       "      <th>split2_test_score</th>\n",
       "      <th>mean_test_score</th>\n",
       "      <th>std_test_score</th>\n",
       "      <th>split0_train_score</th>\n",
       "      <th>split1_train_score</th>\n",
       "      <th>split2_train_score</th>\n",
       "      <th>mean_train_score</th>\n",
       "      <th>std_train_score</th>\n",
       "    </tr>\n",
       "    <tr>\n",
       "      <th>rank_test_score</th>\n",
       "      <th></th>\n",
       "      <th></th>\n",
       "      <th></th>\n",
       "      <th></th>\n",
       "      <th></th>\n",
       "      <th></th>\n",
       "      <th></th>\n",
       "      <th></th>\n",
       "      <th></th>\n",
       "      <th></th>\n",
       "      <th></th>\n",
       "      <th></th>\n",
       "      <th></th>\n",
       "      <th></th>\n",
       "      <th></th>\n",
       "      <th></th>\n",
       "      <th></th>\n",
       "      <th></th>\n",
       "    </tr>\n",
       "  </thead>\n",
       "  <tbody>\n",
       "    <tr>\n",
       "      <th>1</th>\n",
       "      <td>0.356067</td>\n",
       "      <td>0.033444</td>\n",
       "      <td>0.013998</td>\n",
       "      <td>0.005538</td>\n",
       "      <td>13</td>\n",
       "      <td>0.805134</td>\n",
       "      <td>46</td>\n",
       "      <td>{'regressor__max_depth': 13, 'regressor__max_f...</td>\n",
       "      <td>-0.104272</td>\n",
       "      <td>-0.130412</td>\n",
       "      <td>-0.115802</td>\n",
       "      <td>-0.116822</td>\n",
       "      <td>0.010697</td>\n",
       "      <td>-0.079914</td>\n",
       "      <td>-0.073502</td>\n",
       "      <td>-0.080690</td>\n",
       "      <td>-0.078035</td>\n",
       "      <td>0.003221</td>\n",
       "    </tr>\n",
       "    <tr>\n",
       "      <th>1</th>\n",
       "      <td>0.258203</td>\n",
       "      <td>0.012213</td>\n",
       "      <td>0.012018</td>\n",
       "      <td>0.008100</td>\n",
       "      <td>13</td>\n",
       "      <td>0.807516</td>\n",
       "      <td>46</td>\n",
       "      <td>{'regressor__max_depth': 13, 'regressor__max_f...</td>\n",
       "      <td>-0.104272</td>\n",
       "      <td>-0.130412</td>\n",
       "      <td>-0.115802</td>\n",
       "      <td>-0.116822</td>\n",
       "      <td>0.010697</td>\n",
       "      <td>-0.079914</td>\n",
       "      <td>-0.073502</td>\n",
       "      <td>-0.080690</td>\n",
       "      <td>-0.078035</td>\n",
       "      <td>0.003221</td>\n",
       "    </tr>\n",
       "    <tr>\n",
       "      <th>3</th>\n",
       "      <td>0.258395</td>\n",
       "      <td>0.008455</td>\n",
       "      <td>0.010607</td>\n",
       "      <td>0.003005</td>\n",
       "      <td>13</td>\n",
       "      <td>0.805236</td>\n",
       "      <td>45</td>\n",
       "      <td>{'regressor__max_depth': 13, 'regressor__max_f...</td>\n",
       "      <td>-0.104360</td>\n",
       "      <td>-0.130482</td>\n",
       "      <td>-0.115823</td>\n",
       "      <td>-0.116881</td>\n",
       "      <td>0.010692</td>\n",
       "      <td>-0.079970</td>\n",
       "      <td>-0.073653</td>\n",
       "      <td>-0.080839</td>\n",
       "      <td>-0.078154</td>\n",
       "      <td>0.003202</td>\n",
       "    </tr>\n",
       "    <tr>\n",
       "      <th>4</th>\n",
       "      <td>0.407269</td>\n",
       "      <td>0.011354</td>\n",
       "      <td>0.013728</td>\n",
       "      <td>0.001215</td>\n",
       "      <td>13</td>\n",
       "      <td>0.790501</td>\n",
       "      <td>42</td>\n",
       "      <td>{'regressor__max_depth': 13, 'regressor__max_f...</td>\n",
       "      <td>-0.104551</td>\n",
       "      <td>-0.130352</td>\n",
       "      <td>-0.115850</td>\n",
       "      <td>-0.116911</td>\n",
       "      <td>0.010561</td>\n",
       "      <td>-0.080274</td>\n",
       "      <td>-0.073871</td>\n",
       "      <td>-0.080671</td>\n",
       "      <td>-0.078272</td>\n",
       "      <td>0.003116</td>\n",
       "    </tr>\n",
       "    <tr>\n",
       "      <th>4</th>\n",
       "      <td>0.342443</td>\n",
       "      <td>0.046172</td>\n",
       "      <td>0.012795</td>\n",
       "      <td>0.003939</td>\n",
       "      <td>13</td>\n",
       "      <td>0.805471</td>\n",
       "      <td>42</td>\n",
       "      <td>{'regressor__max_depth': 13, 'regressor__max_f...</td>\n",
       "      <td>-0.104551</td>\n",
       "      <td>-0.130352</td>\n",
       "      <td>-0.115850</td>\n",
       "      <td>-0.116911</td>\n",
       "      <td>0.010561</td>\n",
       "      <td>-0.080274</td>\n",
       "      <td>-0.073871</td>\n",
       "      <td>-0.080671</td>\n",
       "      <td>-0.078272</td>\n",
       "      <td>0.003116</td>\n",
       "    </tr>\n",
       "  </tbody>\n",
       "</table>\n",
       "</div>"
      ],
      "text/plain": [
       "                 mean_fit_time  std_fit_time  mean_score_time  std_score_time  \\\n",
       "rank_test_score                                                                 \n",
       "1                     0.356067      0.033444         0.013998        0.005538   \n",
       "1                     0.258203      0.012213         0.012018        0.008100   \n",
       "3                     0.258395      0.008455         0.010607        0.003005   \n",
       "4                     0.407269      0.011354         0.013728        0.001215   \n",
       "4                     0.342443      0.046172         0.012795        0.003939   \n",
       "\n",
       "                param_regressor__max_depth param_regressor__max_features  \\\n",
       "rank_test_score                                                            \n",
       "1                                       13                      0.805134   \n",
       "1                                       13                      0.807516   \n",
       "3                                       13                      0.805236   \n",
       "4                                       13                      0.790501   \n",
       "4                                       13                      0.805471   \n",
       "\n",
       "                param_regressor__n_estimators  \\\n",
       "rank_test_score                                 \n",
       "1                                          46   \n",
       "1                                          46   \n",
       "3                                          45   \n",
       "4                                          42   \n",
       "4                                          42   \n",
       "\n",
       "                                                            params  \\\n",
       "rank_test_score                                                      \n",
       "1                {'regressor__max_depth': 13, 'regressor__max_f...   \n",
       "1                {'regressor__max_depth': 13, 'regressor__max_f...   \n",
       "3                {'regressor__max_depth': 13, 'regressor__max_f...   \n",
       "4                {'regressor__max_depth': 13, 'regressor__max_f...   \n",
       "4                {'regressor__max_depth': 13, 'regressor__max_f...   \n",
       "\n",
       "                 split0_test_score  split1_test_score  split2_test_score  \\\n",
       "rank_test_score                                                            \n",
       "1                        -0.104272          -0.130412          -0.115802   \n",
       "1                        -0.104272          -0.130412          -0.115802   \n",
       "3                        -0.104360          -0.130482          -0.115823   \n",
       "4                        -0.104551          -0.130352          -0.115850   \n",
       "4                        -0.104551          -0.130352          -0.115850   \n",
       "\n",
       "                 mean_test_score  std_test_score  split0_train_score  \\\n",
       "rank_test_score                                                        \n",
       "1                      -0.116822        0.010697           -0.079914   \n",
       "1                      -0.116822        0.010697           -0.079914   \n",
       "3                      -0.116881        0.010692           -0.079970   \n",
       "4                      -0.116911        0.010561           -0.080274   \n",
       "4                      -0.116911        0.010561           -0.080274   \n",
       "\n",
       "                 split1_train_score  split2_train_score  mean_train_score  \\\n",
       "rank_test_score                                                             \n",
       "1                         -0.073502           -0.080690         -0.078035   \n",
       "1                         -0.073502           -0.080690         -0.078035   \n",
       "3                         -0.073653           -0.080839         -0.078154   \n",
       "4                         -0.073871           -0.080671         -0.078272   \n",
       "4                         -0.073871           -0.080671         -0.078272   \n",
       "\n",
       "                 std_train_score  \n",
       "rank_test_score                   \n",
       "1                       0.003221  \n",
       "1                       0.003221  \n",
       "3                       0.003202  \n",
       "4                       0.003116  \n",
       "4                       0.003116  "
      ]
     },
     "execution_count": 85,
     "metadata": {},
     "output_type": "execute_result"
    }
   ],
   "source": [
    "results = pd.DataFrame(rs_cv.cv_results_)\n",
    "results.set_index('rank_test_score', inplace=True)\n",
    "results.sort_index(inplace=True)\n",
    "results.head()"
   ]
  },
  {
   "cell_type": "code",
   "execution_count": 86,
   "metadata": {
    "ExecuteTime": {
     "end_time": "2019-07-09T17:45:14.015206Z",
     "start_time": "2019-07-09T17:45:13.739309Z"
    }
   },
   "outputs": [
    {
     "data": {
      "image/png": "[encoded data removed]",
      "text/plain": [
       "<Figure size 432x288 with 1 Axes>"
      ]
     },
     "metadata": {},
     "output_type": "display_data"
    }
   ],
   "source": [
    "results.mean_test_score.plot();"
   ]
  },
  {
   "cell_type": "code",
   "execution_count": 87,
   "metadata": {
    "ExecuteTime": {
     "end_time": "2019-07-09T17:45:14.210077Z",
     "start_time": "2019-07-09T17:45:14.017995Z"
    }
   },
   "outputs": [
    {
     "data": {
      "image/png": "[encoded data removed]",
      "text/plain": [
       "<Figure size 432x288 with 1 Axes>"
      ]
     },
     "metadata": {},
     "output_type": "display_data"
    }
   ],
   "source": [
    "results.groupby('param_regressor__n_estimators').mean_test_score.mean().plot();"
   ]
  },
  {
   "cell_type": "code",
   "execution_count": 88,
   "metadata": {
    "ExecuteTime": {
     "end_time": "2019-07-09T17:45:14.381385Z",
     "start_time": "2019-07-09T17:45:14.212657Z"
    }
   },
   "outputs": [
    {
     "name": "stderr",
     "output_type": "stream",
     "text": [
      "/home/infinitemonkeys/anaconda3/lib/python3.6/site-packages/pandas/plotting/_core.py:1001: UserWarning: Attempting to set identical left==right results\n",
      "in singular transformations; automatically expanding.\n",
      "left=13.0, right=13.0\n",
      "  ax.set_xlim(left, right)\n"
     ]
    },
    {
     "data": {
      "image/png": "[encoded data removed]",
      "text/plain": [
       "<Figure size 432x288 with 1 Axes>"
      ]
     },
     "metadata": {},
     "output_type": "display_data"
    }
   ],
   "source": [
    "results.groupby('param_regressor__max_depth').mean_test_score.mean().plot();"
   ]
  },
  {
   "cell_type": "code",
   "execution_count": 89,
   "metadata": {
    "ExecuteTime": {
     "end_time": "2019-07-09T17:45:14.643806Z",
     "start_time": "2019-07-09T17:45:14.384442Z"
    }
   },
   "outputs": [
    {
     "data": {
      "image/png": "[encoded data removed]",
      "text/plain": [
       "<Figure size 432x288 with 1 Axes>"
      ]
     },
     "metadata": {},
     "output_type": "display_data"
    }
   ],
   "source": [
    "results.groupby('param_regressor__max_features').mean_test_score.mean().plot();"
   ]
  },
  {
   "cell_type": "code",
   "execution_count": 90,
   "metadata": {
    "ExecuteTime": {
     "end_time": "2019-07-09T17:45:14.667506Z",
     "start_time": "2019-07-09T17:45:14.646686Z"
    },
    "collapsed": true
   },
   "outputs": [],
   "source": [
    "N_QUANTS = 5\n",
    "results['param_regressor__max_features_quants_'] = pd.qcut(results.param_regressor__max_features, \n",
    "                                                            N_QUANTS, \n",
    "                                                            labels=['quants_%d' % d for d in range(N_QUANTS)])\n",
    "results['param_regressor__n_estimators_quants_'] = pd.qcut(results.param_regressor__n_estimators, \n",
    "                                                            N_QUANTS,\n",
    "                                                            labels=['quants_%d' % d for d in range(N_QUANTS)])"
   ]
  },
  {
   "cell_type": "code",
   "execution_count": 91,
   "metadata": {
    "ExecuteTime": {
     "end_time": "2019-07-09T17:45:14.693749Z",
     "start_time": "2019-07-09T17:45:14.670392Z"
    }
   },
   "outputs": [
    {
     "data": {
      "text/plain": [
       "[(45.0, 49.0], (43.0, 45.0], (39.999, 43.0], (49.0, 54.2], (54.2, 59.0]]\n",
       "Categories (5, interval[float64]): [(39.999, 43.0] < (43.0, 45.0] < (45.0, 49.0] < (49.0, 54.2] < (54.2, 59.0]]"
      ]
     },
     "execution_count": 91,
     "metadata": {},
     "output_type": "execute_result"
    }
   ],
   "source": [
    "pd.qcut(results.param_regressor__n_estimators, \n",
    "                                                            N_QUANTS).unique()"
   ]
  },
  {
   "cell_type": "code",
   "execution_count": 92,
   "metadata": {
    "ExecuteTime": {
     "end_time": "2019-07-09T17:45:14.712974Z",
     "start_time": "2019-07-09T17:45:14.696155Z"
    }
   },
   "outputs": [
    {
     "data": {
      "text/plain": [
       "[(0.78, 0.812], (0.843, 0.876], (0.812, 0.843], (0.876, 0.899], (0.75, 0.78]]\n",
       "Categories (5, interval[float64]): [(0.75, 0.78] < (0.78, 0.812] < (0.812, 0.843] < (0.843, 0.876] < (0.876, 0.899]]"
      ]
     },
     "execution_count": 92,
     "metadata": {},
     "output_type": "execute_result"
    }
   ],
   "source": [
    "pd.qcut(results.param_regressor__max_features, \n",
    "                                                            N_QUANTS).unique()"
   ]
  },
  {
   "cell_type": "code",
   "execution_count": 93,
   "metadata": {
    "ExecuteTime": {
     "end_time": "2019-07-09T17:45:14.735327Z",
     "start_time": "2019-07-09T17:45:14.715024Z"
    },
    "collapsed": true
   },
   "outputs": [],
   "source": [
    "results['param_regressor__n_estimators_quants_'] = pd.qcut(results.param_regressor__n_estimators, \n",
    "                                                            N_QUANTS,\n",
    "                                                            labels=['quants_%d' % d for d in range(N_QUANTS)])"
   ]
  },
  {
   "cell_type": "code",
   "execution_count": 94,
   "metadata": {
    "ExecuteTime": {
     "end_time": "2019-07-09T17:45:14.758907Z",
     "start_time": "2019-07-09T17:45:14.736981Z"
    },
    "collapsed": true
   },
   "outputs": [],
   "source": [
    "pivot_table = pd.pivot_table(results, columns=['param_regressor__max_features_quants_'],\n",
    "               values='mean_test_score', \n",
    "               index=['param_regressor__n_estimators_quants_'])"
   ]
  },
  {
   "cell_type": "code",
   "execution_count": 95,
   "metadata": {
    "ExecuteTime": {
     "end_time": "2019-07-09T17:45:15.178049Z",
     "start_time": "2019-07-09T17:45:14.760324Z"
    }
   },
   "outputs": [
    {
     "data": {
      "text/plain": [
       "<matplotlib.axes._subplots.AxesSubplot at 0x7fd512c059b0>"
      ]
     },
     "execution_count": 95,
     "metadata": {},
     "output_type": "execute_result"
    },
    {
     "data": {
      "image/png": "[encoded data removed]",
      "text/plain": [
       "<Figure size 432x288 with 2 Axes>"
      ]
     },
     "metadata": {},
     "output_type": "display_data"
    }
   ],
   "source": [
    "import seaborn as sns\n",
    "\n",
    "sns.heatmap(pivot_table)"
   ]
  },
  {
   "cell_type": "code",
   "execution_count": null,
   "metadata": {
    "ExecuteTime": {
     "end_time": "2019-07-09T17:43:46.755172Z",
     "start_time": "2019-07-09T17:41:49.756Z"
    },
    "collapsed": true
   },
   "outputs": [],
   "source": [
    "# plt.plot(y_test)"
   ]
  },
  {
   "cell_type": "code",
   "execution_count": 97,
   "metadata": {
    "ExecuteTime": {
     "end_time": "2019-07-09T18:02:47.614151Z",
     "start_time": "2019-07-09T18:02:47.362859Z"
    }
   },
   "outputs": [
    {
     "data": {
      "text/plain": [
       "[<matplotlib.lines.Line2D at 0x7fd515788cc0>]"
      ]
     },
     "execution_count": 97,
     "metadata": {},
     "output_type": "execute_result"
    },
    {
     "data": {
      "image/png": "[encoded data removed]",
      "text/plain": [
       "<Figure size 432x288 with 1 Axes>"
      ]
     },
     "metadata": {},
     "output_type": "display_data"
    }
   ],
   "source": [
    "plt.plot(y_test.values)"
   ]
  },
  {
   "cell_type": "code",
   "execution_count": 99,
   "metadata": {
    "ExecuteTime": {
     "end_time": "2019-07-09T18:03:02.415918Z",
     "start_time": "2019-07-09T18:03:02.160685Z"
    }
   },
   "outputs": [
    {
     "data": {
      "text/plain": [
       "[<matplotlib.lines.Line2D at 0x7fd511dab400>]"
      ]
     },
     "execution_count": 99,
     "metadata": {},
     "output_type": "execute_result"
    },
    {
     "data": {
      "image/png": "[encoded data removed]",
      "text/plain": [
       "<Figure size 432x288 with 1 Axes>"
      ]
     },
     "metadata": {},
     "output_type": "display_data"
    }
   ],
   "source": [
    "plt.plot(y_test_pred)"
   ]
  },
  {
   "cell_type": "code",
   "execution_count": null,
   "metadata": {
    "collapsed": true
   },
   "outputs": [],
   "source": []
  }
 ],
 "metadata": {
  "hide_input": false,
  "kernelspec": {
   "display_name": "Python 3",
   "language": "python",
   "name": "python3"
  },
  "language_info": {
   "codemirror_mode": {
    "name": "ipython",
    "version": 3
   },
   "file_extension": ".py",
   "mimetype": "text/x-python",
   "name": "python",
   "nbconvert_exporter": "python",
   "pygments_lexer": "ipython3",
   "version": "3.6.5"
  },
  "toc": {
   "base_numbering": 1,
   "nav_menu": {},
   "number_sections": true,
   "sideBar": true,
   "skip_h1_title": false,
   "title_cell": "Table of Contents",
   "title_sidebar": "Contents",
   "toc_cell": false,
   "toc_position": {},
   "toc_section_display": true,
   "toc_window_display": false
  }
 },
 "nbformat": 4,
 "nbformat_minor": 2
}
